{
 "cells": [
  {
   "cell_type": "code",
   "execution_count": 1,
   "id": "50d4029c",
   "metadata": {
    "execution": {
     "iopub.execute_input": "2025-06-06T14:56:15.694966Z",
     "iopub.status.busy": "2025-06-06T14:56:15.694554Z",
     "iopub.status.idle": "2025-06-06T14:56:27.831307Z",
     "shell.execute_reply": "2025-06-06T14:56:27.830705Z"
    },
    "papermill": {
     "duration": 12.143451,
     "end_time": "2025-06-06T14:56:27.832607",
     "exception": false,
     "start_time": "2025-06-06T14:56:15.689156",
     "status": "completed"
    },
    "tags": []
   },
   "outputs": [],
   "source": [
    "import torch\n",
    "import math\n",
    "from torch import nn\n",
    "import pandas as pd\n",
    "import numpy as np\n",
    "from sklearn import preprocessing\n",
    "from torch.utils.data import Dataset, DataLoader\n",
    "from torchvision import datasets, transforms\n",
    "import os\n",
    "import matplotlib.pyplot as plt\n",
    "from tqdm import tqdm\n",
    "from torch.utils.data.sampler import SubsetRandomSampler\n",
    "\n",
    "device = torch.device(\"cuda\" if torch.cuda.is_available() else \"cpu\")"
   ]
  },
  {
   "cell_type": "code",
   "execution_count": 2,
   "id": "be058434",
   "metadata": {
    "execution": {
     "iopub.execute_input": "2025-06-06T14:56:27.842052Z",
     "iopub.status.busy": "2025-06-06T14:56:27.841706Z",
     "iopub.status.idle": "2025-06-06T14:56:27.857474Z",
     "shell.execute_reply": "2025-06-06T14:56:27.856801Z"
    },
    "papermill": {
     "duration": 0.02151,
     "end_time": "2025-06-06T14:56:27.858494",
     "exception": false,
     "start_time": "2025-06-06T14:56:27.836984",
     "status": "completed"
    },
    "tags": []
   },
   "outputs": [],
   "source": [
    "# define class for scale mixture gaussian prior\n",
    "class ScaleMixtureGaussian:                               \n",
    "    def __init__(self, mixture_weight, stddev_1, stddev_2):\n",
    "        super().__init__()\n",
    "        # mixture_weight is the weight for the first gaussian\n",
    "        self.mixture_weight = mixture_weight\n",
    "        # stddev_1 and stddev_2 are the standard deviations for the two gaussians\n",
    "        self.stddev_1 = stddev_1\n",
    "        self.stddev_2 = stddev_2\n",
    "        # create two normal distributions with the specified standard deviations\n",
    "        self.gaussian1 = torch.distributions.Normal(0,stddev_1)\n",
    "        self.gaussian2 = torch.distributions.Normal(0,stddev_2)\n",
    "\n",
    "\n",
    "    def log_prob(self, x):\n",
    "        prob1 = torch.exp(self.gaussian1.log_prob(x))\n",
    "        prob2 = torch.exp(self.gaussian2.log_prob(x))\n",
    "        return (torch.log(self.mixture_weight * prob1 + (1-self.mixture_weight) * prob2)).sum()\n",
    "    \n",
    "# define class for gaussian node\n",
    "class GaussianNode:\n",
    "    def __init__(self, mean, rho_param):\n",
    "        super().__init__()\n",
    "        self.mean = mean\n",
    "        self.rho_param = rho_param\n",
    "        self.normal = torch.distributions.Normal(0,1)\n",
    "    \n",
    "    # Calculate the standard deviation from the rho parameter\n",
    "    def sigma(self):\n",
    "        return torch.log1p(torch.exp(self.rho_param))\n",
    "\n",
    "    # Sample from the Gaussian node\n",
    "    def sample(self):\n",
    "        epsilon = self.normal.sample(self.rho_param.size()).cuda()\n",
    "        return self.mean + self.sigma() * epsilon\n",
    "    \n",
    "    # Calculate the KL divergence between the prior and the variational posterior\n",
    "    def log_prob(self, x):\n",
    "        return (-math.log(math.sqrt(2 * math.pi)) - torch.log(self.sigma()) - ((x - self.mean) ** 2) / (2 * self.sigma() ** 2)).sum()\n",
    "\n",
    "class BayesianLinear(nn.Module):\n",
    "    def __init__(self, in_features, out_features, mu_init, rho_init, prior_init):\n",
    "        super().__init__()\n",
    "\n",
    "        # Initialize the parameters for the weights and biases\n",
    "        self.weight_mean = nn.Parameter(torch.empty(out_features, in_features).uniform_(*mu_init))\n",
    "        self.weight_rho_param = nn.Parameter(torch.empty(out_features, in_features).uniform_(*rho_init))\n",
    "        self.weight = GaussianNode(self.weight_mean, self.weight_rho_param)\n",
    "\n",
    "        self.bias_mean = nn.Parameter(torch.empty(out_features).uniform_(*mu_init))\n",
    "        self.bias_rho_param = nn.Parameter(torch.empty(out_features).uniform_(*rho_init))\n",
    "        self.bias = GaussianNode(self.bias_mean, self.bias_rho_param)\n",
    "        \n",
    "        self.weight_prior = ScaleMixtureGaussian(prior_init[0], math.exp(prior_init[1]), math.exp(prior_init[2]))\n",
    "        self.bias_prior = ScaleMixtureGaussian(prior_init[0], math.exp(prior_init[1]), math.exp(prior_init[2]))\n",
    "\n",
    "        self.log_prior = 0\n",
    "        self.log_variational_posterior = 0\n",
    "\n",
    "    def forward(self, x):\n",
    "        weight = self.weight.sample()\n",
    "        bias = self.bias.sample()\n",
    "\n",
    "        return nn.functional.linear(x, weight, bias)\n",
    "\n",
    "class BayesianNetwork(nn.Module):\n",
    "    def __init__(self, model_params):\n",
    "        super().__init__()\n",
    "        self.input_shape = model_params['input_shape']\n",
    "        self.classes = model_params['classes']\n",
    "        self.batch_size = model_params['batch_size']\n",
    "        self.hidden_units = model_params['hidden_units']\n",
    "        self.experiment = model_params['experiment']\n",
    "        self.mu_init = model_params['mu_init']\n",
    "        self.rho_init = model_params['rho_init']\n",
    "        self.prior_init = model_params['prior_init']\n",
    "\n",
    "        self.fc1 = BayesianLinear(self.input_shape, self.hidden_units, self.mu_init, self.rho_init, self.prior_init)\n",
    "        self.fc1_activation = nn.ReLU()\n",
    "        self.fc2 = BayesianLinear(self.hidden_units, self.hidden_units, self.mu_init, self.rho_init, self.prior_init)\n",
    "        self.fc2_activation = nn.ReLU()\n",
    "        self.fc3 = BayesianLinear(self.hidden_units, self.classes, self.mu_init, self.rho_init, self.prior_init)\n",
    "    \n",
    "    def forward(self, x):\n",
    "        if self.experiment == 'classification':\n",
    "            x = x.view(-1, self.input_shape) # Flatten images\n",
    "        x = self.fc1_activation(self.fc1(x))\n",
    "        x = self.fc2_activation(self.fc2(x))\n",
    "        x = self.fc3(x)\n",
    "        return x\n",
    "\n",
    "    def log_prior(self):\n",
    "        return self.fc1.log_prior + self.fc2.log_prior + self.fc3.log_prior\n",
    "    \n",
    "    def log_variational_posterior(self):\n",
    "        return self.fc1.log_variational_posterior + self.fc2.log_variational_posterior + self.fc3.log_variational_posterior\n",
    "\n",
    "\n",
    "    def get_nll(self, outputs, target, sigma=1.):\n",
    "        if self.experiment == 'regression': #  -(.5 * (target - outputs) ** 2).sum()\n",
    "            nll = -torch.distributions.Normal(outputs, sigma).log_prob(target).sum()\n",
    "        elif self.experiment == 'classification':\n",
    "            nll = nn.CrossEntropyLoss(reduction='sum')(outputs, target)\n",
    "        return nll\n",
    "\n",
    "    def sample_elbo(self, x, target, beta, samples, sigma=1.):\n",
    "        log_prior = torch.zeros(1).to(device)\n",
    "        log_variational_posterior = torch.zeros(1).to(device)\n",
    "        negative_log_likelihood = torch.zeros(1).to(device)\n",
    "\n",
    "        for i in range(samples):\n",
    "            output = self.forward(x)\n",
    "            log_prior += self.log_prior()\n",
    "            log_variational_posterior += self.log_variational_posterior()\n",
    "            negative_log_likelihood += self.get_nll(output, target, sigma)\n",
    "\n",
    "        log_prior = beta*(log_prior / samples)\n",
    "        log_variational_posterior = beta*(log_variational_posterior / samples) \n",
    "        negative_log_likelihood = negative_log_likelihood / samples\n",
    "        loss = log_variational_posterior - log_prior + negative_log_likelihood\n",
    "        return loss, log_prior, log_variational_posterior, negative_log_likelihood    \n"
   ]
  },
  {
   "cell_type": "code",
   "execution_count": 3,
   "id": "4c47abc5",
   "metadata": {
    "execution": {
     "iopub.execute_input": "2025-06-06T14:56:27.866736Z",
     "iopub.status.busy": "2025-06-06T14:56:27.866505Z",
     "iopub.status.idle": "2025-06-06T14:56:27.871565Z",
     "shell.execute_reply": "2025-06-06T14:56:27.870898Z"
    },
    "papermill": {
     "duration": 0.010388,
     "end_time": "2025-06-06T14:56:27.872587",
     "exception": false,
     "start_time": "2025-06-06T14:56:27.862199",
     "status": "completed"
    },
    "tags": []
   },
   "outputs": [],
   "source": [
    "class MLP(nn.Module):\n",
    "    def __init__(self, model_params):\n",
    "        super().__init__()\n",
    "        self.input_shape = model_params['input_shape']\n",
    "        self.classes = model_params['classes']\n",
    "        self.batch_size = model_params['batch_size']\n",
    "        self.hidden_units = model_params['hidden_units']\n",
    "        self.experiment = model_params['experiment']\n",
    "\n",
    "        self.net = nn.Sequential(\n",
    "            nn.Linear(self.input_shape, self.hidden_units),\n",
    "            nn.ReLU(),\n",
    "            nn.Linear(self.hidden_units, self.hidden_units),\n",
    "            nn.ReLU(),\n",
    "            nn.Linear(self.hidden_units, self.classes))\n",
    "    \n",
    "    def forward(self, x):\n",
    "        if self.experiment == 'classification':\n",
    "            x = x.view(-1, self.input_shape) # Flatten images\n",
    "        \n",
    "        x = self.net(x)\n",
    "        return x\n",
    "\n",
    "# class MLP_Dropout(nn.Module):\n",
    "#     def __init__(self, model_params):\n",
    "#         super().__init__()\n",
    "#         self.input_shape = model_params['input_shape']\n",
    "#         self.classes = model_params['classes']\n",
    "#         self.batch_size = model_params['batch_size']\n",
    "#         self.hidden_units = model_params['hidden_units']\n",
    "#         self.experiment = model_params['experiment']\n",
    "\n",
    "#         self.net = nn.Sequential(\n",
    "#             nn.Linear(self.input_shape, self.hidden_units),\n",
    "#             nn.ReLU(),\n",
    "#             nn.Dropout(0.5),\n",
    "#             nn.Linear(self.hidden_units, self.hidden_units),\n",
    "#             nn.ReLU(),\n",
    "#             nn.Dropout(0.5),\n",
    "#             nn.Linear(self.hidden_units, self.classes))\n",
    "    \n",
    "#     def forward(self, x):\n",
    "#         if self.experiment == 'classification':\n",
    "#             x = x.view(-1, self.input_shape) # Flatten images\n",
    "       \n",
    "#         x = self.net(x)\n",
    "#         return x\n",
    "\n",
    "#     def enable_dropout(self):\n",
    "#         ''' Enable the dropout layers during test-time '''\n",
    "#         for m in self.modules():\n",
    "#             if m.__class__.__name__.startswith('Dropout'):\n",
    "#                 m.train()"
   ]
  },
  {
   "cell_type": "code",
   "execution_count": 4,
   "id": "d6287f8b",
   "metadata": {
    "execution": {
     "iopub.execute_input": "2025-06-06T14:56:27.880977Z",
     "iopub.status.busy": "2025-06-06T14:56:27.880768Z",
     "iopub.status.idle": "2025-06-06T14:56:27.886333Z",
     "shell.execute_reply": "2025-06-06T14:56:27.885679Z"
    },
    "papermill": {
     "duration": 0.011042,
     "end_time": "2025-06-06T14:56:27.887317",
     "exception": false,
     "start_time": "2025-06-06T14:56:27.876275",
     "status": "completed"
    },
    "tags": []
   },
   "outputs": [],
   "source": [
    "class RegConfig:\n",
    "    # save_dir = './saved_models'\n",
    "    train_size = 1024\n",
    "    batch_size = 128\n",
    "    lr = 1e-3\n",
    "    epochs = 100 #1000\n",
    "    train_samples = 5                   # number of train samples for MC gradients\n",
    "    test_samples = 10                   # number of test samples for MC averaging\n",
    "    num_test_points = 400               # number of test points\n",
    "    experiment = 'regression'\n",
    "    hidden_units = 400                  # number of hidden units\n",
    "    noise_tolerance = .1                # log likelihood sigma\n",
    "    mu_init = [-0.2, 0.2]               # range for mean \n",
    "    rho_init = [-5, -4]                 # range for rho_param\n",
    "    prior_init = [0.5, -0, -6]        # mixture weight, log(stddev_1), log(stddev_2)\n",
    "   \n",
    "\n",
    "class RLConfig:\n",
    "    data_dir = '/kaggle/input/mushroom/agaricus-lepiota.data' \n",
    "    batch_size = 64\n",
    "    num_batches = 64\n",
    "    buffer_size = batch_size * num_batches  # buffer to track latest batch of mushrooms\n",
    "    lr = 1e-4\n",
    "    training_steps = 5000 # 50000\n",
    "    experiment = 'regression'\n",
    "    hidden_units = 100                      # number of hidden units\n",
    "    mu_init = [-0.2, 0.2]                   # range for mean \n",
    "    rho_init = [-5, -4]                     # range for rho_param\n",
    "    prior_init = [0.5, -0, -6]              # mixture weight, log(stddev_1), log(stddev_2)\n",
    "\n",
    "class ClassConfig:\n",
    "    batch_size = 128\n",
    "    lr = 1e-3 # 1e-5 fa schifo, 1e-4 parte da 8% errore, 1e-3 parte da 5%\n",
    "    epochs = 1 #600\n",
    "    hidden_units = 1200\n",
    "    experiment = 'classification'\n",
    "    dropout = False\n",
    "    train_samples = 1 # 10 è troppo lento\n",
    "    test_samples = 10\n",
    "    x_shape = 28 * 28                       # x shape\n",
    "    classes = 10                            # number of output classes\n",
    "    mu_init = [-0.2, 0.2]                   # range for mean \n",
    "    rho_init = [-5, -4]                     # range for rho_param\n",
    "    prior_init = [0.5, -0, -8]             # mixture weight, log(stddev_1), log(stddev_2)"
   ]
  },
  {
   "cell_type": "code",
   "execution_count": 5,
   "id": "70db1d02",
   "metadata": {
    "execution": {
     "iopub.execute_input": "2025-06-06T14:56:27.895582Z",
     "iopub.status.busy": "2025-06-06T14:56:27.894982Z",
     "iopub.status.idle": "2025-06-06T14:56:27.902400Z",
     "shell.execute_reply": "2025-06-06T14:56:27.901911Z"
    },
    "papermill": {
     "duration": 0.012499,
     "end_time": "2025-06-06T14:56:27.903435",
     "exception": false,
     "start_time": "2025-06-06T14:56:27.890936",
     "status": "completed"
    },
    "tags": []
   },
   "outputs": [],
   "source": [
    "class PrepareData(Dataset):\n",
    "    def __init__(self, X, y):\n",
    "        if not torch.is_tensor(X):\n",
    "            self.X = torch.from_numpy(X)\n",
    "        else:\n",
    "            self.X = X\n",
    "        if not torch.is_tensor(y):\n",
    "            self.y = torch.from_numpy(y)\n",
    "        else:\n",
    "            self.y = y # vedere\n",
    "\n",
    "    def __len__(self):\n",
    "        return len(self.X)\n",
    "\n",
    "    def __getitem__(self, idx):\n",
    "        return self.X[idx], self.y[idx]\n",
    "\n",
    "def read_data_rl(data_dir):\n",
    "    df = pd.read_csv(data_dir, sep=',', header=None)\n",
    "    df.columns = ['class','cap-shape','cap-surface','cap-color','bruises','odor','gill-attachment',\n",
    "         'gill-spacing','gill-size','gill-color','stalk-shape','stalk-root',\n",
    "         'stalk-surf-above-ring','stalk-surf-below-ring','stalk-color-above-ring','stalk-color-below-ring',\n",
    "         'veil-type','veil-color','ring-number','ring-type','spore-color','population','habitat']\n",
    "    X = pd.DataFrame(df, columns=df.columns[1:len(df.columns)], index=df.index)\n",
    "    Y = df['class']\n",
    "\n",
    "    # transform to one-hot encoding\n",
    "    label_encoder = preprocessing.LabelEncoder()\n",
    "    label_encoder.fit(Y)\n",
    "    Y_encoded = label_encoder.transform(Y)\n",
    "    oh_X = X.copy()\n",
    "    for feature in X.columns:\n",
    "        label_encoder.fit(X[feature])\n",
    "        oh_X[feature] = label_encoder.transform(X[feature])\n",
    "\n",
    "    oh_encoder = preprocessing.OneHotEncoder()\n",
    "    oh_encoder.fit(oh_X)\n",
    "    oh_X = oh_encoder.transform(oh_X).toarray()\n",
    "\n",
    "    return oh_X, Y_encoded\n",
    "\n",
    "def create_data_reg(train_size):\n",
    "    np.random.seed(0)\n",
    "    xs = np.random.uniform(low=0., high=0.6, size=train_size)\n",
    "    \n",
    "    eps = np.random.normal(loc=0., scale=0.02, size=[train_size])\n",
    "\n",
    "    ys = xs + 0.3 * np.sin(2*np.pi * (xs + eps)) + 0.3 * np.sin(4*np.pi * (xs + eps)) + eps\n",
    "\n",
    "    xs = torch.from_numpy(xs).reshape(-1,1).float()\n",
    "    ys = torch.from_numpy(ys).reshape(-1,1).float()\n",
    "\n",
    "    return xs, ys"
   ]
  },
  {
   "cell_type": "code",
   "execution_count": 6,
   "id": "c3e517af",
   "metadata": {
    "execution": {
     "iopub.execute_input": "2025-06-06T14:56:27.911232Z",
     "iopub.status.busy": "2025-06-06T14:56:27.911037Z",
     "iopub.status.idle": "2025-06-06T14:56:27.914513Z",
     "shell.execute_reply": "2025-06-06T14:56:27.913882Z"
    },
    "papermill": {
     "duration": 0.008519,
     "end_time": "2025-06-06T14:56:27.915586",
     "exception": false,
     "start_time": "2025-06-06T14:56:27.907067",
     "status": "completed"
    },
    "tags": []
   },
   "outputs": [],
   "source": [
    "# def load_bnn_class_model(saved_model):\n",
    "#     config = ClassConfig\n",
    "\n",
    "#     model_params = {\n",
    "#         'input_shape': config.x_shape,\n",
    "#         'classes': config.classes,\n",
    "#         'batch_size': config.batch_size,\n",
    "#         'hidden_units': config.hidden_units,\n",
    "#         'experiment': config.experiment,\n",
    "#         'mu_init': config.mu_init,\n",
    "#         'rho_init': config.rho_init,\n",
    "#         'prior_init': config.prior_init\n",
    "#     }\n",
    "#     model = BayesianNetwork(model_params)\n",
    "#     model.load_state_dict(torch.load(saved_model))\n",
    "\n",
    "#     return model.eval()\n",
    "\n",
    "# def load_mlp_class_model(saved_model):\n",
    "#     config = ClassConfig\n",
    "#     model_params = {\n",
    "#         'input_shape': config.x_shape,\n",
    "#         'classes': config.classes,\n",
    "#         'batch_size': config.batch_size,\n",
    "#         'hidden_units': config.hidden_units,\n",
    "#         'experiment': config.experiment,\n",
    "#     }\n",
    "#     model = MLP(model_params)\n",
    "#     model.load_state_dict(torch.load(saved_model))\n",
    "\n",
    "#     return model.eval()\n",
    "\n",
    "# def load_dropout_class_model(saved_model):\n",
    "#     config = ClassConfig\n",
    "#     model_params = {\n",
    "#         'input_shape': config.x_shape,\n",
    "#         'classes': config.classes,\n",
    "#         'batch_size': config.batch_size,\n",
    "#         'hidden_units': config.hidden_units,\n",
    "#         'experiment': config.experiment,\n",
    "#         'dropout': True\n",
    "#     }\n",
    "#     model = MLP_Dropout(model_params)\n",
    "#     model.load_state_dict(torch.load(saved_model))\n",
    "\n",
    "#     return model.eval()"
   ]
  },
  {
   "cell_type": "code",
   "execution_count": 7,
   "id": "77166d5a",
   "metadata": {
    "execution": {
     "iopub.execute_input": "2025-06-06T14:56:27.923895Z",
     "iopub.status.busy": "2025-06-06T14:56:27.923262Z",
     "iopub.status.idle": "2025-06-06T14:56:27.929032Z",
     "shell.execute_reply": "2025-06-06T14:56:27.928284Z"
    },
    "papermill": {
     "duration": 0.010835,
     "end_time": "2025-06-06T14:56:27.930051",
     "exception": false,
     "start_time": "2025-06-06T14:56:27.919216",
     "status": "completed"
    },
    "tags": []
   },
   "outputs": [],
   "source": [
    "def create_regression_plot(X_test, y_test, train_ds):\n",
    "    fig = plt.figure(figsize=(9, 6))\n",
    "    plt.plot(X_test, np.median(y_test, axis=0), label='Median Posterior Predictive')\n",
    "    \n",
    "    # Range\n",
    "    plt.fill_between(\n",
    "        X_test.reshape(-1), \n",
    "        np.percentile(y_test, 0, axis=0), \n",
    "        np.percentile(y_test, 100, axis=0), \n",
    "        alpha = 0.2, color='orange', label='Range') #color='blue',\n",
    "    \n",
    "    # interquartile range\n",
    "    plt.fill_between(\n",
    "        X_test.reshape(-1), \n",
    "        np.percentile(y_test, 25, axis=0), \n",
    "        np.percentile(y_test, 75, axis=0), \n",
    "        alpha = 0.4,  label='Interquartile Range') #color='red',\n",
    "    \n",
    "    plt.scatter(train_ds.dataset.X, train_ds.dataset.y, label='Training data', marker='x', alpha=0.5, color='k', s=2)\n",
    "    plt.yticks(fontsize=20)\n",
    "    plt.xticks(fontsize=20)\n",
    "    plt.ylim([-1.5, 1.5])\n",
    "    plt.xlim([-0.6, 1.4])\n",
    "\n",
    "   "
   ]
  },
  {
   "cell_type": "code",
   "execution_count": 8,
   "id": "0094c152",
   "metadata": {
    "_cell_guid": "b1076dfc-b9ad-4769-8c92-a6c4dae69d19",
    "_uuid": "8f2839f25d086af736a60e9eeb907d3b93b6e0e5",
    "execution": {
     "iopub.execute_input": "2025-06-06T14:56:27.938187Z",
     "iopub.status.busy": "2025-06-06T14:56:27.937989Z",
     "iopub.status.idle": "2025-06-06T14:56:27.947215Z",
     "shell.execute_reply": "2025-06-06T14:56:27.946759Z"
    },
    "papermill": {
     "duration": 0.014478,
     "end_time": "2025-06-06T14:56:27.948202",
     "exception": false,
     "start_time": "2025-06-06T14:56:27.933724",
     "status": "completed"
    },
    "tags": []
   },
   "outputs": [],
   "source": [
    "class BNN_Classification():\n",
    "    def __init__(self, label, parameters):\n",
    "        super().__init__()\n",
    "        self.label = label\n",
    "        self.lr = parameters['lr']\n",
    "        self.hidden_units = parameters['hidden_units']\n",
    "        self.experiment = parameters['experiment']\n",
    "        self.batch_size = parameters['batch_size']\n",
    "        self.num_batches = parameters['num_batches']\n",
    "        self.n_samples = parameters['train_samples']\n",
    "        self.test_samples = parameters['test_samples']\n",
    "        self.x_shape = parameters['x_shape']\n",
    "        self.classes = parameters['classes']\n",
    "        self.mu_init = parameters['mu_init']\n",
    "        self.rho_init = parameters['rho_init']\n",
    "        self.prior_init = parameters['prior_init']\n",
    "        self.best_acc = 0.\n",
    "        self.init_net(parameters)\n",
    "    \n",
    "    def init_net(self, parameters):\n",
    "        model_params = {\n",
    "            'input_shape': self.x_shape,\n",
    "            'classes': self.classes,\n",
    "            'batch_size': self.batch_size,\n",
    "            'hidden_units': self.hidden_units,\n",
    "            'experiment': self.experiment,\n",
    "            'mu_init': self.mu_init,\n",
    "            'rho_init': self.rho_init,\n",
    "            'prior_init': self.prior_init,\n",
    "        }\n",
    "        self.net = BayesianNetwork(model_params).to(device)\n",
    "        self.optimiser = torch.optim.Adam(self.net.parameters(), lr=self.lr)\n",
    "        self.scheduler = torch.optim.lr_scheduler.StepLR(self.optimiser, step_size=100, gamma=0.5)\n",
    "        # print(f'Classification Task {self.label} Parameters: ')\n",
    "        # print(f'number of samples: {self.n_samples}')\n",
    "        # print(\"BNN Parameters: \")\n",
    "        # print(f'batch size: {self.batch_size}, x shape: {model_params[\"input_shape\"]}, hidden units: {model_params[\"hidden_units\"]}, output shape: {model_params[\"classes\"]}, lr: {self.lr}')\n",
    "\n",
    "    def train_step(self, train_data):\n",
    "        self.net.train()\n",
    "        for idx, (x, y) in enumerate(tqdm(train_data)):\n",
    "            beta = 2 ** (self.num_batches - (idx + 1)) / (2 ** self.num_batches - 1) \n",
    "            x, y = x.to(device), y.to(device)\n",
    "            self.net.zero_grad()\n",
    "            self.loss_info = self.net.sample_elbo(x, y, beta, self.n_samples)            \n",
    "            net_loss = self.loss_info[0]\n",
    "            net_loss.backward()\n",
    "            self.optimiser.step()\n",
    "\n",
    "    def predict(self, X):\n",
    "        probs = torch.zeros(size=[self.batch_size, self.classes]).to(device)\n",
    "        for _ in torch.arange(self.test_samples):\n",
    "            out = torch.nn.Softmax(dim=1)(self.net(X))\n",
    "            probs = probs + out / self.test_samples\n",
    "        preds = torch.argmax(probs, dim=1)\n",
    "        return preds, probs\n",
    "\n",
    "    def evaluate(self, test_loader):\n",
    "        self.net.eval()\n",
    "        correct = 0\n",
    "        total = 0\n",
    "\n",
    "        with torch.no_grad():\n",
    "            for data in tqdm(test_loader):\n",
    "                X, y = data\n",
    "                X, y = X.to(device), y.to(device)\n",
    "                preds, _ = self.predict(X)\n",
    "                total += self.batch_size\n",
    "                correct += (preds == y).sum().item()\n",
    "        self.acc = correct / total\n",
    "        print(f'validation accuracy: {self.acc}')  \n",
    "        return self.acc"
   ]
  },
  {
   "cell_type": "code",
   "execution_count": 9,
   "id": "941e2a9b",
   "metadata": {
    "execution": {
     "iopub.execute_input": "2025-06-06T14:56:27.956574Z",
     "iopub.status.busy": "2025-06-06T14:56:27.956200Z",
     "iopub.status.idle": "2025-06-06T14:56:27.964786Z",
     "shell.execute_reply": "2025-06-06T14:56:27.964260Z"
    },
    "papermill": {
     "duration": 0.013955,
     "end_time": "2025-06-06T14:56:27.965825",
     "exception": false,
     "start_time": "2025-06-06T14:56:27.951870",
     "status": "completed"
    },
    "tags": []
   },
   "outputs": [],
   "source": [
    "class MLP_Classification():\n",
    "    def __init__(self, label, parameters):\n",
    "        super().__init__()\n",
    "        self.label = label\n",
    "        self.lr = parameters['lr']\n",
    "        self.hidden_units = parameters['hidden_units']\n",
    "        self.experiment = parameters['experiment']\n",
    "        self.batch_size = parameters['batch_size']\n",
    "        self.num_batches = parameters['num_batches']\n",
    "        self.x_shape = parameters['x_shape']\n",
    "        self.classes = parameters['classes']\n",
    "        self.best_acc = 0.\n",
    "        self.dropout = parameters['dropout']\n",
    "        self.init_net(parameters)\n",
    "    \n",
    "    def init_net(self, parameters):\n",
    "        model_params = {\n",
    "            'input_shape': self.x_shape,\n",
    "            'classes': self.classes,\n",
    "            'batch_size': self.batch_size,\n",
    "            'hidden_units': self.hidden_units,\n",
    "            'experiment': self.experiment,\n",
    "            'dropout': self.dropout,\n",
    "        }\n",
    "        if self.dropout:\n",
    "            self.net = MLP_Dropout(model_params).to(device)\n",
    "            print('MLP Dropout Parameters: ')\n",
    "            print(f'batch size: {self.batch_size}, input shape: {model_params[\"input_shape\"]}, hidden units: {model_params[\"hidden_units\"]}, output shape: {model_params[\"classes\"]}, lr: {self.lr}')\n",
    "        else:\n",
    "            self.net = MLP(model_params).to(device)\n",
    "            print('MLP Parameters: ')\n",
    "            print(f'batch size: {self.batch_size}, input shape: {model_params[\"input_shape\"]}, hidden units: {model_params[\"hidden_units\"]}, output shape: {model_params[\"classes\"]}, lr: {self.lr}')\n",
    "        self.optimiser = torch.optim.SGD(self.net.parameters(), lr=self.lr)\n",
    "        self.scheduler = torch.optim.lr_scheduler.StepLR(self.optimiser, step_size=100, gamma=0.5)\n",
    "\n",
    "    def train_step(self, train_data):\n",
    "        self.net.train()\n",
    "        for _, (x, y) in enumerate(tqdm(train_data)):\n",
    "            x, y = x.to(device), y.to(device)\n",
    "            self.net.zero_grad()\n",
    "            self.loss_info = torch.nn.functional.cross_entropy(self.net(x), y, reduction='sum')\n",
    "            self.loss_info.backward()\n",
    "            self.optimiser.step()\n",
    "\n",
    "    def predict(self, X):\n",
    "        probs = torch.nn.Softmax(dim=1)(self.net(X))\n",
    "        preds = torch.argmax(probs, dim=1)\n",
    "        return preds, probs\n",
    "\n",
    "    def evaluate(self, test_loader):\n",
    "        self.net.eval()\n",
    "        correct = 0\n",
    "        total = 0\n",
    "\n",
    "        with torch.no_grad():\n",
    "            for data in tqdm(test_loader):\n",
    "                X, y = data\n",
    "                X, y = X.to(device), y.to(device)\n",
    "                preds, _ = self.predict(X)\n",
    "                total += self.batch_size\n",
    "                correct += (preds == y).sum().item()\n",
    "        self.acc = correct / total\n",
    "        print(f'{self.label} validation accuracy: {self.acc}') \n",
    "        return self.acc"
   ]
  },
  {
   "cell_type": "code",
   "execution_count": 10,
   "id": "86bb8002",
   "metadata": {
    "execution": {
     "iopub.execute_input": "2025-06-06T14:56:27.974027Z",
     "iopub.status.busy": "2025-06-06T14:56:27.973830Z",
     "iopub.status.idle": "2025-06-06T14:56:27.977659Z",
     "shell.execute_reply": "2025-06-06T14:56:27.976997Z"
    },
    "papermill": {
     "duration": 0.009376,
     "end_time": "2025-06-06T14:56:27.978807",
     "exception": false,
     "start_time": "2025-06-06T14:56:27.969431",
     "status": "completed"
    },
    "tags": []
   },
   "outputs": [],
   "source": [
    "# def class_trainer():\n",
    "#     config = ClassConfig\n",
    "    \n",
    "#     transform = transforms.Compose([\n",
    "#             transforms.ToTensor(),\n",
    "#             transforms.Lambda(lambda x: x * 255 / 126.),  # divide as in paper, * 255 gives better results\n",
    "#         ])\n",
    "\n",
    "#     train_data = datasets.MNIST(\n",
    "#             root='data',\n",
    "#             train=True,\n",
    "#             download=True,\n",
    "#             transform=transform)\n",
    "#     test_data = datasets.MNIST(\n",
    "#             root='data',\n",
    "#             train=False,\n",
    "#             download=True,\n",
    "#             transform=transform)\n",
    "\n",
    "#     valid_size = 1 / 6\n",
    "\n",
    "#     num_train = len(train_data)\n",
    "#     indices = list(range(num_train))\n",
    "#     split = int(valid_size * num_train)\n",
    "#     train_idx, valid_idx = indices[split:], indices[:split]\n",
    "\n",
    "#     train_sampler = SubsetRandomSampler(train_idx)\n",
    "#     valid_sampler = SubsetRandomSampler(valid_idx)\n",
    "\n",
    "\n",
    "#     train_loader = torch.utils.data.DataLoader(\n",
    "#             train_data,\n",
    "#             batch_size=config.batch_size,\n",
    "#             sampler=train_sampler,\n",
    "#             drop_last=True)\n",
    "#     valid_loader = torch.utils.data.DataLoader(\n",
    "#             train_data,\n",
    "#             batch_size=config.batch_size,\n",
    "#             sampler=valid_sampler,\n",
    "#             drop_last=True)\n",
    "#     test_loader = torch.utils.data.DataLoader(\n",
    "#             test_data,\n",
    "#             batch_size=config.batch_size,\n",
    "#             shuffle=False,\n",
    "#             drop_last=True)\n",
    "\n",
    "#     params = {\n",
    "#         'lr': config.lr,\n",
    "#         'hidden_units': config.hidden_units,\n",
    "#         'experiment': config.experiment,\n",
    "#         'dropout': config.dropout,\n",
    "#         'batch_size': config.batch_size,\n",
    "#         'epochs': config.epochs,\n",
    "#         'x_shape': config.x_shape,\n",
    "#         'classes': config.classes,\n",
    "#         'num_batches': len(train_loader),\n",
    "#         'train_samples': config.train_samples,\n",
    "#         'test_samples': config.test_samples,\n",
    "#         'mu_init': config.mu_init,\n",
    "#         'rho_init': config.rho_init,\n",
    "#         'prior_init': config.prior_init,\n",
    "#     }\n",
    "\n",
    "#     model = BNN_Classification('bnn_classification', {**params})\n",
    "#     #model = MLP_Classification('mlp_classification', {**params})\n",
    "    \n",
    "#     epochs = config.epochs\n",
    "#     for epoch in range(epochs):\n",
    "#             print(f'Epoch {epoch+1}/{epochs}')\n",
    "#             model.train_step(train_loader)\n",
    "#             valid_acc = model.evaluate(valid_loader)\n",
    "#             # test_acc = model.evaluate(test_loader)\n",
    "#             print('Valid Error', round(100 * (1 - valid_acc), 3), '%',)\n",
    "#             model.scheduler.step()\n",
    "#             if model.acc > model.best_acc:\n",
    "#                 model.best_acc = model.acc\n",
    "                \n",
    "# #class_trainer()\n",
    "\n",
    "\n"
   ]
  },
  {
   "cell_type": "code",
   "execution_count": 11,
   "id": "352cc789",
   "metadata": {
    "execution": {
     "iopub.execute_input": "2025-06-06T14:56:27.986974Z",
     "iopub.status.busy": "2025-06-06T14:56:27.986768Z",
     "iopub.status.idle": "2025-06-06T14:56:27.995475Z",
     "shell.execute_reply": "2025-06-06T14:56:27.995000Z"
    },
    "papermill": {
     "duration": 0.013989,
     "end_time": "2025-06-06T14:56:27.996468",
     "exception": false,
     "start_time": "2025-06-06T14:56:27.982479",
     "status": "completed"
    },
    "tags": []
   },
   "outputs": [],
   "source": [
    "search_config = {\n",
    "    'batch_size': [128],\n",
    "    'lr': [1e-3, 1e-4],\n",
    "    'epochs': [10],\n",
    "    'hidden_units': [1200],\n",
    "    'experiment': ['classification'],\n",
    "    'dropout': [False],\n",
    "    'train_samples': [1, 2, 5],\n",
    "    'test_samples': [10],\n",
    "    'x_shape': [28 * 28],\n",
    "    'classes': [10],\n",
    "    'mu_init': [[-0.2, 0.2]],\n",
    "    'rho_init': [[-5, -4]],\n",
    "    'prior_init': [\n",
    "        [0.25, -0, -6],\n",
    "        [0.25, -0, -7], \n",
    "        [0.25, -1, -6], \n",
    "        [0.25, -1, -7], \n",
    "        [0.75, -0, -6],\n",
    "        [0.75, -0, -7], \n",
    "        [0.75, -1, -6], \n",
    "        [0.75, -1, -7],       \n",
    "    ]\n",
    "}\n",
    "\n",
    "# search_config = {\n",
    "#     'batch_size': [128],\n",
    "#     'lr': [1e-3, 1e-4],\n",
    "#     'epochs': [1], #10\n",
    "#     'hidden_units': [1200],\n",
    "#     'experiment': ['classification'],\n",
    "#     'dropout': [False],\n",
    "#     'train_samples': [1],\n",
    "#     'test_samples': [10],\n",
    "#     'x_shape': [28 * 28],\n",
    "#     'classes': [10],\n",
    "#     'mu_init': [[-0.2, 0.2]],\n",
    "#     'rho_init': [[-5, -4]],\n",
    "#     'prior_init': [\n",
    "#         [0.25, -0, -6],        \n",
    "#     ]\n",
    "# }\n",
    "\n",
    "\n",
    "import itertools\n",
    "from copy import deepcopy\n",
    "\n",
    "def generate_param_combinations(param_grid):\n",
    "    keys = list(param_grid.keys())\n",
    "    values = list(param_grid.values())\n",
    "    for combo in itertools.product(*values):\n",
    "        yield dict(zip(keys, combo))\n",
    "\n",
    "\n",
    "def class_trainer(config):\n",
    "    \n",
    "    transform = transforms.Compose([\n",
    "            transforms.ToTensor(),\n",
    "            transforms.Lambda(lambda x: x * 255 / 126.),  # divide as in paper, * 255 gives better results\n",
    "        ])\n",
    "\n",
    "    train_data = datasets.MNIST(\n",
    "            root='data',\n",
    "            train=True,\n",
    "            download=True,\n",
    "            transform=transform)\n",
    "    # test_data = datasets.MNIST(\n",
    "    #         root='data',\n",
    "    #         train=False,\n",
    "    #         download=True,\n",
    "    #         transform=transform)\n",
    "\n",
    "    valid_size = 1 / 6\n",
    "\n",
    "    num_train = len(train_data)\n",
    "    indices = list(range(num_train))\n",
    "    split = int(valid_size * num_train)\n",
    "    train_idx, valid_idx = indices[split:], indices[:split]\n",
    "\n",
    "    train_sampler = SubsetRandomSampler(train_idx)\n",
    "    valid_sampler = SubsetRandomSampler(valid_idx)\n",
    "\n",
    "\n",
    "    train_loader = torch.utils.data.DataLoader(\n",
    "            train_data,\n",
    "            batch_size=config['batch_size'],\n",
    "            sampler=train_sampler,\n",
    "            drop_last=True)\n",
    "    valid_loader = torch.utils.data.DataLoader(\n",
    "            train_data,\n",
    "            batch_size=config['batch_size'],\n",
    "            sampler=valid_sampler,\n",
    "            drop_last=True)\n",
    "    # test_loader = torch.utils.data.DataLoader(\n",
    "    #         test_data,\n",
    "    #         batch_size=config.batch_size,\n",
    "    #         shuffle=False,\n",
    "    #         drop_last=True)\n",
    "\n",
    "    params = deepcopy(config)\n",
    "    params['num_batches'] = len(train_loader)\n",
    "\n",
    "    model = BNN_Classification('bnn_classification', {**params})\n",
    "    #model = MLP_Classification('mlp_classification', {**params})\n",
    "    \n",
    "    epochs = config['epochs']\n",
    "    for epoch in range(epochs):\n",
    "            print(f'Epoch {epoch+1}/{epochs}')\n",
    "            model.train_step(train_loader)\n",
    "            valid_acc = model.evaluate(valid_loader)\n",
    "            print('Valid Error', round(100 * (1 - valid_acc), 3), '%',)\n",
    "            model.scheduler.step()\n",
    "            if model.acc > model.best_acc:\n",
    "                model.best_acc = model.acc\n",
    "                \n",
    "\n",
    "    return model.best_acc, model\n"
   ]
  },
  {
   "cell_type": "code",
   "execution_count": 12,
   "id": "f0041dde",
   "metadata": {
    "execution": {
     "iopub.execute_input": "2025-06-06T14:56:28.004475Z",
     "iopub.status.busy": "2025-06-06T14:56:28.004108Z",
     "iopub.status.idle": "2025-06-06T21:10:50.888854Z",
     "shell.execute_reply": "2025-06-06T21:10:50.888104Z"
    },
    "papermill": {
     "duration": 22463.795617,
     "end_time": "2025-06-06T21:10:51.795717",
     "exception": false,
     "start_time": "2025-06-06T14:56:28.000100",
     "status": "completed"
    },
    "tags": []
   },
   "outputs": [
    {
     "name": "stdout",
     "output_type": "stream",
     "text": [
      "Trying config: {'batch_size': 128, 'lr': 0.001, 'epochs': 10, 'hidden_units': 1200, 'experiment': 'classification', 'dropout': False, 'train_samples': 1, 'test_samples': 10, 'x_shape': 784, 'classes': 10, 'mu_init': [-0.2, 0.2], 'rho_init': [-5, -4], 'prior_init': [0.25, 0, -6]}\n"
     ]
    },
    {
     "name": "stderr",
     "output_type": "stream",
     "text": [
      "100%|██████████| 9.91M/9.91M [00:00<00:00, 55.7MB/s]\n",
      "100%|██████████| 28.9k/28.9k [00:00<00:00, 1.63MB/s]\n",
      "100%|██████████| 1.65M/1.65M [00:00<00:00, 14.3MB/s]\n",
      "100%|██████████| 4.54k/4.54k [00:00<00:00, 10.6MB/s]\n"
     ]
    },
    {
     "name": "stdout",
     "output_type": "stream",
     "text": [
      "Epoch 1/10\n"
     ]
    },
    {
     "name": "stderr",
     "output_type": "stream",
     "text": [
      "100%|██████████| 390/390 [00:14<00:00, 26.20it/s]\n",
      "100%|██████████| 78/78 [00:17<00:00,  4.39it/s]\n"
     ]
    },
    {
     "name": "stdout",
     "output_type": "stream",
     "text": [
      "validation accuracy: 0.9503205128205128\n",
      "Valid Error 4.968 %\n",
      "Epoch 2/10\n"
     ]
    },
    {
     "name": "stderr",
     "output_type": "stream",
     "text": [
      "100%|██████████| 390/390 [00:15<00:00, 24.58it/s]\n",
      "100%|██████████| 78/78 [00:17<00:00,  4.40it/s]\n"
     ]
    },
    {
     "name": "stdout",
     "output_type": "stream",
     "text": [
      "validation accuracy: 0.9624399038461539\n",
      "Valid Error 3.756 %\n",
      "Epoch 3/10\n"
     ]
    },
    {
     "name": "stderr",
     "output_type": "stream",
     "text": [
      "100%|██████████| 390/390 [00:14<00:00, 26.72it/s]\n",
      "100%|██████████| 78/78 [00:16<00:00,  4.76it/s]\n"
     ]
    },
    {
     "name": "stdout",
     "output_type": "stream",
     "text": [
      "validation accuracy: 0.9658453525641025\n",
      "Valid Error 3.415 %\n",
      "Epoch 4/10\n"
     ]
    },
    {
     "name": "stderr",
     "output_type": "stream",
     "text": [
      "100%|██████████| 390/390 [00:15<00:00, 24.50it/s]\n",
      "100%|██████████| 78/78 [00:16<00:00,  4.68it/s]\n"
     ]
    },
    {
     "name": "stdout",
     "output_type": "stream",
     "text": [
      "validation accuracy: 0.9629407051282052\n",
      "Valid Error 3.706 %\n",
      "Epoch 5/10\n"
     ]
    },
    {
     "name": "stderr",
     "output_type": "stream",
     "text": [
      "100%|██████████| 390/390 [00:14<00:00, 27.15it/s]\n",
      "100%|██████████| 78/78 [00:17<00:00,  4.54it/s]\n"
     ]
    },
    {
     "name": "stdout",
     "output_type": "stream",
     "text": [
      "validation accuracy: 0.9673477564102564\n",
      "Valid Error 3.265 %\n",
      "Epoch 6/10\n"
     ]
    },
    {
     "name": "stderr",
     "output_type": "stream",
     "text": [
      "100%|██████████| 390/390 [00:14<00:00, 27.46it/s]\n",
      "100%|██████████| 78/78 [00:17<00:00,  4.39it/s]\n"
     ]
    },
    {
     "name": "stdout",
     "output_type": "stream",
     "text": [
      "validation accuracy: 0.9678485576923077\n",
      "Valid Error 3.215 %\n",
      "Epoch 7/10\n"
     ]
    },
    {
     "name": "stderr",
     "output_type": "stream",
     "text": [
      "100%|██████████| 390/390 [00:14<00:00, 26.16it/s]\n",
      "100%|██████████| 78/78 [00:16<00:00,  4.66it/s]\n"
     ]
    },
    {
     "name": "stdout",
     "output_type": "stream",
     "text": [
      "validation accuracy: 0.9690504807692307\n",
      "Valid Error 3.095 %\n",
      "Epoch 8/10\n"
     ]
    },
    {
     "name": "stderr",
     "output_type": "stream",
     "text": [
      "100%|██████████| 390/390 [00:14<00:00, 27.14it/s]\n",
      "100%|██████████| 78/78 [00:17<00:00,  4.43it/s]\n"
     ]
    },
    {
     "name": "stdout",
     "output_type": "stream",
     "text": [
      "validation accuracy: 0.9710536858974359\n",
      "Valid Error 2.895 %\n",
      "Epoch 9/10\n"
     ]
    },
    {
     "name": "stderr",
     "output_type": "stream",
     "text": [
      "100%|██████████| 390/390 [00:14<00:00, 27.01it/s]\n",
      "100%|██████████| 78/78 [00:17<00:00,  4.58it/s]\n"
     ]
    },
    {
     "name": "stdout",
     "output_type": "stream",
     "text": [
      "validation accuracy: 0.9670472756410257\n",
      "Valid Error 3.295 %\n",
      "Epoch 10/10\n"
     ]
    },
    {
     "name": "stderr",
     "output_type": "stream",
     "text": [
      "100%|██████████| 390/390 [00:14<00:00, 26.83it/s]\n",
      "100%|██████████| 78/78 [00:16<00:00,  4.74it/s]\n"
     ]
    },
    {
     "name": "stdout",
     "output_type": "stream",
     "text": [
      "validation accuracy: 0.97265625\n",
      "Valid Error 2.734 %\n",
      "Trying config: {'batch_size': 128, 'lr': 0.001, 'epochs': 10, 'hidden_units': 1200, 'experiment': 'classification', 'dropout': False, 'train_samples': 1, 'test_samples': 10, 'x_shape': 784, 'classes': 10, 'mu_init': [-0.2, 0.2], 'rho_init': [-5, -4], 'prior_init': [0.25, 0, -7]}\n",
      "Epoch 1/10\n"
     ]
    },
    {
     "name": "stderr",
     "output_type": "stream",
     "text": [
      "100%|██████████| 390/390 [00:13<00:00, 27.96it/s]\n",
      "100%|██████████| 78/78 [00:16<00:00,  4.79it/s]\n"
     ]
    },
    {
     "name": "stdout",
     "output_type": "stream",
     "text": [
      "validation accuracy: 0.9498197115384616\n",
      "Valid Error 5.018 %\n",
      "Epoch 2/10\n"
     ]
    },
    {
     "name": "stderr",
     "output_type": "stream",
     "text": [
      "100%|██████████| 390/390 [00:14<00:00, 26.05it/s]\n",
      "100%|██████████| 78/78 [00:17<00:00,  4.52it/s]\n"
     ]
    },
    {
     "name": "stdout",
     "output_type": "stream",
     "text": [
      "validation accuracy: 0.9623397435897436\n",
      "Valid Error 3.766 %\n",
      "Epoch 3/10\n"
     ]
    },
    {
     "name": "stderr",
     "output_type": "stream",
     "text": [
      "100%|██████████| 390/390 [00:15<00:00, 26.00it/s]\n",
      "100%|██████████| 78/78 [00:16<00:00,  4.72it/s]\n"
     ]
    },
    {
     "name": "stdout",
     "output_type": "stream",
     "text": [
      "validation accuracy: 0.9688501602564102\n",
      "Valid Error 3.115 %\n",
      "Epoch 4/10\n"
     ]
    },
    {
     "name": "stderr",
     "output_type": "stream",
     "text": [
      "100%|██████████| 390/390 [00:14<00:00, 26.19it/s]\n",
      "100%|██████████| 78/78 [00:16<00:00,  4.75it/s]\n"
     ]
    },
    {
     "name": "stdout",
     "output_type": "stream",
     "text": [
      "validation accuracy: 0.9708533653846154\n",
      "Valid Error 2.915 %\n",
      "Epoch 5/10\n"
     ]
    },
    {
     "name": "stderr",
     "output_type": "stream",
     "text": [
      "100%|██████████| 390/390 [00:14<00:00, 27.23it/s]\n",
      "100%|██████████| 78/78 [00:16<00:00,  4.77it/s]\n"
     ]
    },
    {
     "name": "stdout",
     "output_type": "stream",
     "text": [
      "validation accuracy: 0.9723557692307693\n",
      "Valid Error 2.764 %\n",
      "Epoch 6/10\n"
     ]
    },
    {
     "name": "stderr",
     "output_type": "stream",
     "text": [
      "100%|██████████| 390/390 [00:14<00:00, 26.40it/s]\n",
      "100%|██████████| 78/78 [00:16<00:00,  4.72it/s]\n"
     ]
    },
    {
     "name": "stdout",
     "output_type": "stream",
     "text": [
      "validation accuracy: 0.9666466346153846\n",
      "Valid Error 3.335 %\n",
      "Epoch 7/10\n"
     ]
    },
    {
     "name": "stderr",
     "output_type": "stream",
     "text": [
      "100%|██████████| 390/390 [00:14<00:00, 27.81it/s]\n",
      "100%|██████████| 78/78 [00:16<00:00,  4.76it/s]\n"
     ]
    },
    {
     "name": "stdout",
     "output_type": "stream",
     "text": [
      "validation accuracy: 0.9684495192307693\n",
      "Valid Error 3.155 %\n",
      "Epoch 8/10\n"
     ]
    },
    {
     "name": "stderr",
     "output_type": "stream",
     "text": [
      "100%|██████████| 390/390 [00:13<00:00, 27.92it/s]\n",
      "100%|██████████| 78/78 [00:16<00:00,  4.78it/s]\n"
     ]
    },
    {
     "name": "stdout",
     "output_type": "stream",
     "text": [
      "validation accuracy: 0.9729567307692307\n",
      "Valid Error 2.704 %\n",
      "Epoch 9/10\n"
     ]
    },
    {
     "name": "stderr",
     "output_type": "stream",
     "text": [
      "100%|██████████| 390/390 [00:14<00:00, 27.46it/s]\n",
      "100%|██████████| 78/78 [00:16<00:00,  4.87it/s]\n"
     ]
    },
    {
     "name": "stdout",
     "output_type": "stream",
     "text": [
      "validation accuracy: 0.9735576923076923\n",
      "Valid Error 2.644 %\n",
      "Epoch 10/10\n"
     ]
    },
    {
     "name": "stderr",
     "output_type": "stream",
     "text": [
      "100%|██████████| 390/390 [00:14<00:00, 27.86it/s]\n",
      "100%|██████████| 78/78 [00:16<00:00,  4.76it/s]\n"
     ]
    },
    {
     "name": "stdout",
     "output_type": "stream",
     "text": [
      "validation accuracy: 0.9735576923076923\n",
      "Valid Error 2.644 %\n",
      "Trying config: {'batch_size': 128, 'lr': 0.001, 'epochs': 10, 'hidden_units': 1200, 'experiment': 'classification', 'dropout': False, 'train_samples': 1, 'test_samples': 10, 'x_shape': 784, 'classes': 10, 'mu_init': [-0.2, 0.2], 'rho_init': [-5, -4], 'prior_init': [0.25, -1, -6]}\n",
      "Epoch 1/10\n"
     ]
    },
    {
     "name": "stderr",
     "output_type": "stream",
     "text": [
      "100%|██████████| 390/390 [00:14<00:00, 26.79it/s]\n",
      "100%|██████████| 78/78 [00:16<00:00,  4.60it/s]\n"
     ]
    },
    {
     "name": "stdout",
     "output_type": "stream",
     "text": [
      "validation accuracy: 0.9416065705128205\n",
      "Valid Error 5.839 %\n",
      "Epoch 2/10\n"
     ]
    },
    {
     "name": "stderr",
     "output_type": "stream",
     "text": [
      "100%|██████████| 390/390 [00:14<00:00, 26.94it/s]\n",
      "100%|██████████| 78/78 [00:16<00:00,  4.61it/s]\n"
     ]
    },
    {
     "name": "stdout",
     "output_type": "stream",
     "text": [
      "validation accuracy: 0.964042467948718\n",
      "Valid Error 3.596 %\n",
      "Epoch 3/10\n"
     ]
    },
    {
     "name": "stderr",
     "output_type": "stream",
     "text": [
      "100%|██████████| 390/390 [00:14<00:00, 26.45it/s]\n",
      "100%|██████████| 78/78 [00:16<00:00,  4.63it/s]\n"
     ]
    },
    {
     "name": "stdout",
     "output_type": "stream",
     "text": [
      "validation accuracy: 0.9654447115384616\n",
      "Valid Error 3.456 %\n",
      "Epoch 4/10\n"
     ]
    },
    {
     "name": "stderr",
     "output_type": "stream",
     "text": [
      "100%|██████████| 390/390 [00:14<00:00, 26.70it/s]\n",
      "100%|██████████| 78/78 [00:17<00:00,  4.59it/s]\n"
     ]
    },
    {
     "name": "stdout",
     "output_type": "stream",
     "text": [
      "validation accuracy: 0.9707532051282052\n",
      "Valid Error 2.925 %\n",
      "Epoch 5/10\n"
     ]
    },
    {
     "name": "stderr",
     "output_type": "stream",
     "text": [
      "100%|██████████| 390/390 [00:14<00:00, 26.35it/s]\n",
      "100%|██████████| 78/78 [00:16<00:00,  4.63it/s]\n"
     ]
    },
    {
     "name": "stdout",
     "output_type": "stream",
     "text": [
      "validation accuracy: 0.9685496794871795\n",
      "Valid Error 3.145 %\n",
      "Epoch 6/10\n"
     ]
    },
    {
     "name": "stderr",
     "output_type": "stream",
     "text": [
      "100%|██████████| 390/390 [00:14<00:00, 26.64it/s]\n",
      "100%|██████████| 78/78 [00:16<00:00,  4.64it/s]\n"
     ]
    },
    {
     "name": "stdout",
     "output_type": "stream",
     "text": [
      "validation accuracy: 0.9696514423076923\n",
      "Valid Error 3.035 %\n",
      "Epoch 7/10\n"
     ]
    },
    {
     "name": "stderr",
     "output_type": "stream",
     "text": [
      "100%|██████████| 390/390 [00:14<00:00, 26.88it/s]\n",
      "100%|██████████| 78/78 [00:16<00:00,  4.65it/s]\n"
     ]
    },
    {
     "name": "stdout",
     "output_type": "stream",
     "text": [
      "validation accuracy: 0.9688501602564102\n",
      "Valid Error 3.115 %\n",
      "Epoch 8/10\n"
     ]
    },
    {
     "name": "stderr",
     "output_type": "stream",
     "text": [
      "100%|██████████| 390/390 [00:14<00:00, 27.51it/s]\n",
      "100%|██████████| 78/78 [00:17<00:00,  4.50it/s]\n"
     ]
    },
    {
     "name": "stdout",
     "output_type": "stream",
     "text": [
      "validation accuracy: 0.965645032051282\n",
      "Valid Error 3.435 %\n",
      "Epoch 9/10\n"
     ]
    },
    {
     "name": "stderr",
     "output_type": "stream",
     "text": [
      "100%|██████████| 390/390 [00:14<00:00, 26.87it/s]\n",
      "100%|██████████| 78/78 [00:16<00:00,  4.62it/s]\n"
     ]
    },
    {
     "name": "stdout",
     "output_type": "stream",
     "text": [
      "validation accuracy: 0.9719551282051282\n",
      "Valid Error 2.804 %\n",
      "Epoch 10/10\n"
     ]
    },
    {
     "name": "stderr",
     "output_type": "stream",
     "text": [
      "100%|██████████| 390/390 [00:14<00:00, 26.81it/s]\n",
      "100%|██████████| 78/78 [00:17<00:00,  4.53it/s]\n"
     ]
    },
    {
     "name": "stdout",
     "output_type": "stream",
     "text": [
      "validation accuracy: 0.9680488782051282\n",
      "Valid Error 3.195 %\n",
      "Trying config: {'batch_size': 128, 'lr': 0.001, 'epochs': 10, 'hidden_units': 1200, 'experiment': 'classification', 'dropout': False, 'train_samples': 1, 'test_samples': 10, 'x_shape': 784, 'classes': 10, 'mu_init': [-0.2, 0.2], 'rho_init': [-5, -4], 'prior_init': [0.25, -1, -7]}\n",
      "Epoch 1/10\n"
     ]
    },
    {
     "name": "stderr",
     "output_type": "stream",
     "text": [
      "100%|██████████| 390/390 [00:14<00:00, 27.45it/s]\n",
      "100%|██████████| 78/78 [00:17<00:00,  4.47it/s]\n"
     ]
    },
    {
     "name": "stdout",
     "output_type": "stream",
     "text": [
      "validation accuracy: 0.9537259615384616\n",
      "Valid Error 4.627 %\n",
      "Epoch 2/10\n"
     ]
    },
    {
     "name": "stderr",
     "output_type": "stream",
     "text": [
      "100%|██████████| 390/390 [00:14<00:00, 27.00it/s]\n",
      "100%|██████████| 78/78 [00:17<00:00,  4.58it/s]\n"
     ]
    },
    {
     "name": "stdout",
     "output_type": "stream",
     "text": [
      "validation accuracy: 0.9631410256410257\n",
      "Valid Error 3.686 %\n",
      "Epoch 3/10\n"
     ]
    },
    {
     "name": "stderr",
     "output_type": "stream",
     "text": [
      "100%|██████████| 390/390 [00:14<00:00, 27.37it/s]\n",
      "100%|██████████| 78/78 [00:17<00:00,  4.58it/s]\n"
     ]
    },
    {
     "name": "stdout",
     "output_type": "stream",
     "text": [
      "validation accuracy: 0.9630408653846154\n",
      "Valid Error 3.696 %\n",
      "Epoch 4/10\n"
     ]
    },
    {
     "name": "stderr",
     "output_type": "stream",
     "text": [
      "100%|██████████| 390/390 [00:14<00:00, 27.21it/s]\n",
      "100%|██████████| 78/78 [00:17<00:00,  4.50it/s]\n"
     ]
    },
    {
     "name": "stdout",
     "output_type": "stream",
     "text": [
      "validation accuracy: 0.969551282051282\n",
      "Valid Error 3.045 %\n",
      "Epoch 5/10\n"
     ]
    },
    {
     "name": "stderr",
     "output_type": "stream",
     "text": [
      "100%|██████████| 390/390 [00:14<00:00, 27.39it/s]\n",
      "100%|██████████| 78/78 [00:17<00:00,  4.51it/s]\n"
     ]
    },
    {
     "name": "stdout",
     "output_type": "stream",
     "text": [
      "validation accuracy: 0.9683493589743589\n",
      "Valid Error 3.165 %\n",
      "Epoch 6/10\n"
     ]
    },
    {
     "name": "stderr",
     "output_type": "stream",
     "text": [
      "100%|██████████| 390/390 [00:14<00:00, 27.30it/s]\n",
      "100%|██████████| 78/78 [00:17<00:00,  4.53it/s]\n"
     ]
    },
    {
     "name": "stdout",
     "output_type": "stream",
     "text": [
      "validation accuracy: 0.9688501602564102\n",
      "Valid Error 3.115 %\n",
      "Epoch 7/10\n"
     ]
    },
    {
     "name": "stderr",
     "output_type": "stream",
     "text": [
      "100%|██████████| 390/390 [00:14<00:00, 27.45it/s]\n",
      "100%|██████████| 78/78 [00:16<00:00,  4.68it/s]\n"
     ]
    },
    {
     "name": "stdout",
     "output_type": "stream",
     "text": [
      "validation accuracy: 0.9663461538461539\n",
      "Valid Error 3.365 %\n",
      "Epoch 8/10\n"
     ]
    },
    {
     "name": "stderr",
     "output_type": "stream",
     "text": [
      "100%|██████████| 390/390 [00:14<00:00, 27.10it/s]\n",
      "100%|██████████| 78/78 [00:17<00:00,  4.42it/s]\n"
     ]
    },
    {
     "name": "stdout",
     "output_type": "stream",
     "text": [
      "validation accuracy: 0.9671474358974359\n",
      "Valid Error 3.285 %\n",
      "Epoch 9/10\n"
     ]
    },
    {
     "name": "stderr",
     "output_type": "stream",
     "text": [
      "100%|██████████| 390/390 [00:14<00:00, 26.63it/s]\n",
      "100%|██████████| 78/78 [00:17<00:00,  4.36it/s]\n"
     ]
    },
    {
     "name": "stdout",
     "output_type": "stream",
     "text": [
      "validation accuracy: 0.9717548076923077\n",
      "Valid Error 2.825 %\n",
      "Epoch 10/10\n"
     ]
    },
    {
     "name": "stderr",
     "output_type": "stream",
     "text": [
      "100%|██████████| 390/390 [00:14<00:00, 26.44it/s]\n",
      "100%|██████████| 78/78 [00:17<00:00,  4.50it/s]\n"
     ]
    },
    {
     "name": "stdout",
     "output_type": "stream",
     "text": [
      "validation accuracy: 0.969551282051282\n",
      "Valid Error 3.045 %\n",
      "Trying config: {'batch_size': 128, 'lr': 0.001, 'epochs': 10, 'hidden_units': 1200, 'experiment': 'classification', 'dropout': False, 'train_samples': 1, 'test_samples': 10, 'x_shape': 784, 'classes': 10, 'mu_init': [-0.2, 0.2], 'rho_init': [-5, -4], 'prior_init': [0.75, 0, -6]}\n",
      "Epoch 1/10\n"
     ]
    },
    {
     "name": "stderr",
     "output_type": "stream",
     "text": [
      "100%|██████████| 390/390 [00:14<00:00, 26.74it/s]\n",
      "100%|██████████| 78/78 [00:17<00:00,  4.42it/s]\n"
     ]
    },
    {
     "name": "stdout",
     "output_type": "stream",
     "text": [
      "validation accuracy: 0.9583333333333334\n",
      "Valid Error 4.167 %\n",
      "Epoch 2/10\n"
     ]
    },
    {
     "name": "stderr",
     "output_type": "stream",
     "text": [
      "100%|██████████| 390/390 [00:14<00:00, 26.97it/s]\n",
      "100%|██████████| 78/78 [00:17<00:00,  4.39it/s]\n"
     ]
    },
    {
     "name": "stdout",
     "output_type": "stream",
     "text": [
      "validation accuracy: 0.9586338141025641\n",
      "Valid Error 4.137 %\n",
      "Epoch 3/10\n"
     ]
    },
    {
     "name": "stderr",
     "output_type": "stream",
     "text": [
      "100%|██████████| 390/390 [00:14<00:00, 26.42it/s]\n",
      "100%|██████████| 78/78 [00:17<00:00,  4.39it/s]\n"
     ]
    },
    {
     "name": "stdout",
     "output_type": "stream",
     "text": [
      "validation accuracy: 0.9685496794871795\n",
      "Valid Error 3.145 %\n",
      "Epoch 4/10\n"
     ]
    },
    {
     "name": "stderr",
     "output_type": "stream",
     "text": [
      "100%|██████████| 390/390 [00:14<00:00, 26.28it/s]\n",
      "100%|██████████| 78/78 [00:17<00:00,  4.53it/s]\n"
     ]
    },
    {
     "name": "stdout",
     "output_type": "stream",
     "text": [
      "validation accuracy: 0.9714543269230769\n",
      "Valid Error 2.855 %\n",
      "Epoch 5/10\n"
     ]
    },
    {
     "name": "stderr",
     "output_type": "stream",
     "text": [
      "100%|██████████| 390/390 [00:14<00:00, 26.46it/s]\n",
      "100%|██████████| 78/78 [00:17<00:00,  4.51it/s]\n"
     ]
    },
    {
     "name": "stdout",
     "output_type": "stream",
     "text": [
      "validation accuracy: 0.9705528846153846\n",
      "Valid Error 2.945 %\n",
      "Epoch 6/10\n"
     ]
    },
    {
     "name": "stderr",
     "output_type": "stream",
     "text": [
      "100%|██████████| 390/390 [00:14<00:00, 26.23it/s]\n",
      "100%|██████████| 78/78 [00:17<00:00,  4.45it/s]\n"
     ]
    },
    {
     "name": "stdout",
     "output_type": "stream",
     "text": [
      "validation accuracy: 0.9683493589743589\n",
      "Valid Error 3.165 %\n",
      "Epoch 7/10\n"
     ]
    },
    {
     "name": "stderr",
     "output_type": "stream",
     "text": [
      "100%|██████████| 390/390 [00:14<00:00, 26.45it/s]\n",
      "100%|██████████| 78/78 [00:17<00:00,  4.54it/s]\n"
     ]
    },
    {
     "name": "stdout",
     "output_type": "stream",
     "text": [
      "validation accuracy: 0.9719551282051282\n",
      "Valid Error 2.804 %\n",
      "Epoch 8/10\n"
     ]
    },
    {
     "name": "stderr",
     "output_type": "stream",
     "text": [
      "100%|██████████| 390/390 [00:15<00:00, 25.89it/s]\n",
      "100%|██████████| 78/78 [00:17<00:00,  4.41it/s]\n"
     ]
    },
    {
     "name": "stdout",
     "output_type": "stream",
     "text": [
      "validation accuracy: 0.9691506410256411\n",
      "Valid Error 3.085 %\n",
      "Epoch 9/10\n"
     ]
    },
    {
     "name": "stderr",
     "output_type": "stream",
     "text": [
      "100%|██████████| 390/390 [00:14<00:00, 27.22it/s]\n",
      "100%|██████████| 78/78 [00:17<00:00,  4.49it/s]\n"
     ]
    },
    {
     "name": "stdout",
     "output_type": "stream",
     "text": [
      "validation accuracy: 0.9701522435897436\n",
      "Valid Error 2.985 %\n",
      "Epoch 10/10\n"
     ]
    },
    {
     "name": "stderr",
     "output_type": "stream",
     "text": [
      "100%|██████████| 390/390 [00:14<00:00, 26.43it/s]\n",
      "100%|██████████| 78/78 [00:17<00:00,  4.48it/s]\n"
     ]
    },
    {
     "name": "stdout",
     "output_type": "stream",
     "text": [
      "validation accuracy: 0.9708533653846154\n",
      "Valid Error 2.915 %\n",
      "Trying config: {'batch_size': 128, 'lr': 0.001, 'epochs': 10, 'hidden_units': 1200, 'experiment': 'classification', 'dropout': False, 'train_samples': 1, 'test_samples': 10, 'x_shape': 784, 'classes': 10, 'mu_init': [-0.2, 0.2], 'rho_init': [-5, -4], 'prior_init': [0.75, 0, -7]}\n",
      "Epoch 1/10\n"
     ]
    },
    {
     "name": "stderr",
     "output_type": "stream",
     "text": [
      "100%|██████████| 390/390 [00:15<00:00, 25.56it/s]\n",
      "100%|██████████| 78/78 [00:17<00:00,  4.49it/s]\n"
     ]
    },
    {
     "name": "stdout",
     "output_type": "stream",
     "text": [
      "validation accuracy: 0.9400040064102564\n",
      "Valid Error 6.0 %\n",
      "Epoch 2/10\n"
     ]
    },
    {
     "name": "stderr",
     "output_type": "stream",
     "text": [
      "100%|██████████| 390/390 [00:15<00:00, 25.85it/s]\n",
      "100%|██████████| 78/78 [00:17<00:00,  4.42it/s]\n"
     ]
    },
    {
     "name": "stdout",
     "output_type": "stream",
     "text": [
      "validation accuracy: 0.9606370192307693\n",
      "Valid Error 3.936 %\n",
      "Epoch 3/10\n"
     ]
    },
    {
     "name": "stderr",
     "output_type": "stream",
     "text": [
      "100%|██████████| 390/390 [00:15<00:00, 25.42it/s]\n",
      "100%|██████████| 78/78 [00:18<00:00,  4.32it/s]\n"
     ]
    },
    {
     "name": "stdout",
     "output_type": "stream",
     "text": [
      "validation accuracy: 0.9574318910256411\n",
      "Valid Error 4.257 %\n",
      "Epoch 4/10\n"
     ]
    },
    {
     "name": "stderr",
     "output_type": "stream",
     "text": [
      "100%|██████████| 390/390 [00:15<00:00, 25.49it/s]\n",
      "100%|██████████| 78/78 [00:17<00:00,  4.40it/s]\n"
     ]
    },
    {
     "name": "stdout",
     "output_type": "stream",
     "text": [
      "validation accuracy: 0.9700520833333334\n",
      "Valid Error 2.995 %\n",
      "Epoch 5/10\n"
     ]
    },
    {
     "name": "stderr",
     "output_type": "stream",
     "text": [
      "100%|██████████| 390/390 [00:15<00:00, 25.52it/s]\n",
      "100%|██████████| 78/78 [00:17<00:00,  4.49it/s]\n"
     ]
    },
    {
     "name": "stdout",
     "output_type": "stream",
     "text": [
      "validation accuracy: 0.9665464743589743\n",
      "Valid Error 3.345 %\n",
      "Epoch 6/10\n"
     ]
    },
    {
     "name": "stderr",
     "output_type": "stream",
     "text": [
      "100%|██████████| 390/390 [00:15<00:00, 25.89it/s]\n",
      "100%|██████████| 78/78 [00:17<00:00,  4.37it/s]\n"
     ]
    },
    {
     "name": "stdout",
     "output_type": "stream",
     "text": [
      "validation accuracy: 0.9698517628205128\n",
      "Valid Error 3.015 %\n",
      "Epoch 7/10\n"
     ]
    },
    {
     "name": "stderr",
     "output_type": "stream",
     "text": [
      "100%|██████████| 390/390 [00:15<00:00, 24.85it/s]\n",
      "100%|██████████| 78/78 [00:17<00:00,  4.34it/s]\n"
     ]
    },
    {
     "name": "stdout",
     "output_type": "stream",
     "text": [
      "validation accuracy: 0.9699519230769231\n",
      "Valid Error 3.005 %\n",
      "Epoch 8/10\n"
     ]
    },
    {
     "name": "stderr",
     "output_type": "stream",
     "text": [
      "100%|██████████| 390/390 [00:15<00:00, 24.96it/s]\n",
      "100%|██████████| 78/78 [00:17<00:00,  4.43it/s]\n"
     ]
    },
    {
     "name": "stdout",
     "output_type": "stream",
     "text": [
      "validation accuracy: 0.9766626602564102\n",
      "Valid Error 2.334 %\n",
      "Epoch 9/10\n"
     ]
    },
    {
     "name": "stderr",
     "output_type": "stream",
     "text": [
      "100%|██████████| 390/390 [00:15<00:00, 24.62it/s]\n",
      "100%|██████████| 78/78 [00:17<00:00,  4.40it/s]\n"
     ]
    },
    {
     "name": "stdout",
     "output_type": "stream",
     "text": [
      "validation accuracy: 0.9713541666666666\n",
      "Valid Error 2.865 %\n",
      "Epoch 10/10\n"
     ]
    },
    {
     "name": "stderr",
     "output_type": "stream",
     "text": [
      "100%|██████████| 390/390 [00:15<00:00, 25.26it/s]\n",
      "100%|██████████| 78/78 [00:17<00:00,  4.39it/s]\n"
     ]
    },
    {
     "name": "stdout",
     "output_type": "stream",
     "text": [
      "validation accuracy: 0.9727564102564102\n",
      "Valid Error 2.724 %\n",
      "Trying config: {'batch_size': 128, 'lr': 0.001, 'epochs': 10, 'hidden_units': 1200, 'experiment': 'classification', 'dropout': False, 'train_samples': 1, 'test_samples': 10, 'x_shape': 784, 'classes': 10, 'mu_init': [-0.2, 0.2], 'rho_init': [-5, -4], 'prior_init': [0.75, -1, -6]}\n",
      "Epoch 1/10\n"
     ]
    },
    {
     "name": "stderr",
     "output_type": "stream",
     "text": [
      "100%|██████████| 390/390 [00:15<00:00, 25.12it/s]\n",
      "100%|██████████| 78/78 [00:17<00:00,  4.36it/s]\n"
     ]
    },
    {
     "name": "stdout",
     "output_type": "stream",
     "text": [
      "validation accuracy: 0.9425080128205128\n",
      "Valid Error 5.749 %\n",
      "Epoch 2/10\n"
     ]
    },
    {
     "name": "stderr",
     "output_type": "stream",
     "text": [
      "100%|██████████| 390/390 [00:15<00:00, 25.39it/s]\n",
      "100%|██████████| 78/78 [00:18<00:00,  4.29it/s]\n"
     ]
    },
    {
     "name": "stdout",
     "output_type": "stream",
     "text": [
      "validation accuracy: 0.960136217948718\n",
      "Valid Error 3.986 %\n",
      "Epoch 3/10\n"
     ]
    },
    {
     "name": "stderr",
     "output_type": "stream",
     "text": [
      "100%|██████████| 390/390 [00:15<00:00, 25.54it/s]\n",
      "100%|██████████| 78/78 [00:18<00:00,  4.31it/s]\n"
     ]
    },
    {
     "name": "stdout",
     "output_type": "stream",
     "text": [
      "validation accuracy: 0.961738782051282\n",
      "Valid Error 3.826 %\n",
      "Epoch 4/10\n"
     ]
    },
    {
     "name": "stderr",
     "output_type": "stream",
     "text": [
      "100%|██████████| 390/390 [00:15<00:00, 25.54it/s]\n",
      "100%|██████████| 78/78 [00:17<00:00,  4.34it/s]\n"
     ]
    },
    {
     "name": "stdout",
     "output_type": "stream",
     "text": [
      "validation accuracy: 0.9716546474358975\n",
      "Valid Error 2.835 %\n",
      "Epoch 5/10\n"
     ]
    },
    {
     "name": "stderr",
     "output_type": "stream",
     "text": [
      "100%|██████████| 390/390 [00:15<00:00, 25.75it/s]\n",
      "100%|██████████| 78/78 [00:17<00:00,  4.39it/s]\n"
     ]
    },
    {
     "name": "stdout",
     "output_type": "stream",
     "text": [
      "validation accuracy: 0.9684495192307693\n",
      "Valid Error 3.155 %\n",
      "Epoch 6/10\n"
     ]
    },
    {
     "name": "stderr",
     "output_type": "stream",
     "text": [
      "100%|██████████| 390/390 [00:15<00:00, 25.47it/s]\n",
      "100%|██████████| 78/78 [00:17<00:00,  4.34it/s]\n"
     ]
    },
    {
     "name": "stdout",
     "output_type": "stream",
     "text": [
      "validation accuracy: 0.9665464743589743\n",
      "Valid Error 3.345 %\n",
      "Epoch 7/10\n"
     ]
    },
    {
     "name": "stderr",
     "output_type": "stream",
     "text": [
      "100%|██████████| 390/390 [00:15<00:00, 25.36it/s]\n",
      "100%|██████████| 78/78 [00:17<00:00,  4.35it/s]\n"
     ]
    },
    {
     "name": "stdout",
     "output_type": "stream",
     "text": [
      "validation accuracy: 0.9698517628205128\n",
      "Valid Error 3.015 %\n",
      "Epoch 8/10\n"
     ]
    },
    {
     "name": "stderr",
     "output_type": "stream",
     "text": [
      "100%|██████████| 390/390 [00:14<00:00, 26.35it/s]\n",
      "100%|██████████| 78/78 [00:17<00:00,  4.41it/s]\n"
     ]
    },
    {
     "name": "stdout",
     "output_type": "stream",
     "text": [
      "validation accuracy: 0.9688501602564102\n",
      "Valid Error 3.115 %\n",
      "Epoch 9/10\n"
     ]
    },
    {
     "name": "stderr",
     "output_type": "stream",
     "text": [
      "100%|██████████| 390/390 [00:14<00:00, 26.79it/s]\n",
      "100%|██████████| 78/78 [00:18<00:00,  4.27it/s]\n"
     ]
    },
    {
     "name": "stdout",
     "output_type": "stream",
     "text": [
      "validation accuracy: 0.9671474358974359\n",
      "Valid Error 3.285 %\n",
      "Epoch 10/10\n"
     ]
    },
    {
     "name": "stderr",
     "output_type": "stream",
     "text": [
      "100%|██████████| 390/390 [00:15<00:00, 25.35it/s]\n",
      "100%|██████████| 78/78 [00:18<00:00,  4.33it/s]\n"
     ]
    },
    {
     "name": "stdout",
     "output_type": "stream",
     "text": [
      "validation accuracy: 0.97265625\n",
      "Valid Error 2.734 %\n",
      "Trying config: {'batch_size': 128, 'lr': 0.001, 'epochs': 10, 'hidden_units': 1200, 'experiment': 'classification', 'dropout': False, 'train_samples': 1, 'test_samples': 10, 'x_shape': 784, 'classes': 10, 'mu_init': [-0.2, 0.2], 'rho_init': [-5, -4], 'prior_init': [0.75, -1, -7]}\n",
      "Epoch 1/10\n"
     ]
    },
    {
     "name": "stderr",
     "output_type": "stream",
     "text": [
      "100%|██████████| 390/390 [00:15<00:00, 25.31it/s]\n",
      "100%|██████████| 78/78 [00:17<00:00,  4.35it/s]\n"
     ]
    },
    {
     "name": "stdout",
     "output_type": "stream",
     "text": [
      "validation accuracy: 0.9515224358974359\n",
      "Valid Error 4.848 %\n",
      "Epoch 2/10\n"
     ]
    },
    {
     "name": "stderr",
     "output_type": "stream",
     "text": [
      "100%|██████████| 390/390 [00:15<00:00, 24.84it/s]\n",
      "100%|██████████| 78/78 [00:18<00:00,  4.28it/s]\n"
     ]
    },
    {
     "name": "stdout",
     "output_type": "stream",
     "text": [
      "validation accuracy: 0.9596354166666666\n",
      "Valid Error 4.036 %\n",
      "Epoch 3/10\n"
     ]
    },
    {
     "name": "stderr",
     "output_type": "stream",
     "text": [
      "100%|██████████| 390/390 [00:15<00:00, 25.24it/s]\n",
      "100%|██████████| 78/78 [00:17<00:00,  4.35it/s]\n"
     ]
    },
    {
     "name": "stdout",
     "output_type": "stream",
     "text": [
      "validation accuracy: 0.9654447115384616\n",
      "Valid Error 3.456 %\n",
      "Epoch 4/10\n"
     ]
    },
    {
     "name": "stderr",
     "output_type": "stream",
     "text": [
      "100%|██████████| 390/390 [00:15<00:00, 24.58it/s]\n",
      "100%|██████████| 78/78 [00:17<00:00,  4.42it/s]\n"
     ]
    },
    {
     "name": "stdout",
     "output_type": "stream",
     "text": [
      "validation accuracy: 0.9650440705128205\n",
      "Valid Error 3.496 %\n",
      "Epoch 5/10\n"
     ]
    },
    {
     "name": "stderr",
     "output_type": "stream",
     "text": [
      "100%|██████████| 390/390 [00:15<00:00, 25.18it/s]\n",
      "100%|██████████| 78/78 [00:17<00:00,  4.42it/s]\n"
     ]
    },
    {
     "name": "stdout",
     "output_type": "stream",
     "text": [
      "validation accuracy: 0.9711538461538461\n",
      "Valid Error 2.885 %\n",
      "Epoch 6/10\n"
     ]
    },
    {
     "name": "stderr",
     "output_type": "stream",
     "text": [
      "100%|██████████| 390/390 [00:15<00:00, 25.16it/s]\n",
      "100%|██████████| 78/78 [00:17<00:00,  4.34it/s]\n"
     ]
    },
    {
     "name": "stdout",
     "output_type": "stream",
     "text": [
      "validation accuracy: 0.9665464743589743\n",
      "Valid Error 3.345 %\n",
      "Epoch 7/10\n"
     ]
    },
    {
     "name": "stderr",
     "output_type": "stream",
     "text": [
      "100%|██████████| 390/390 [00:15<00:00, 24.99it/s]\n",
      "100%|██████████| 78/78 [00:17<00:00,  4.37it/s]\n"
     ]
    },
    {
     "name": "stdout",
     "output_type": "stream",
     "text": [
      "validation accuracy: 0.9736578525641025\n",
      "Valid Error 2.634 %\n",
      "Epoch 8/10\n"
     ]
    },
    {
     "name": "stderr",
     "output_type": "stream",
     "text": [
      "100%|██████████| 390/390 [00:15<00:00, 25.30it/s]\n",
      "100%|██████████| 78/78 [00:17<00:00,  4.34it/s]\n"
     ]
    },
    {
     "name": "stdout",
     "output_type": "stream",
     "text": [
      "validation accuracy: 0.9747596153846154\n",
      "Valid Error 2.524 %\n",
      "Epoch 9/10\n"
     ]
    },
    {
     "name": "stderr",
     "output_type": "stream",
     "text": [
      "100%|██████████| 390/390 [00:15<00:00, 24.99it/s]\n",
      "100%|██████████| 78/78 [00:17<00:00,  4.41it/s]\n"
     ]
    },
    {
     "name": "stdout",
     "output_type": "stream",
     "text": [
      "validation accuracy: 0.9664463141025641\n",
      "Valid Error 3.355 %\n",
      "Epoch 10/10\n"
     ]
    },
    {
     "name": "stderr",
     "output_type": "stream",
     "text": [
      "100%|██████████| 390/390 [00:15<00:00, 25.12it/s]\n",
      "100%|██████████| 78/78 [00:18<00:00,  4.27it/s]\n"
     ]
    },
    {
     "name": "stdout",
     "output_type": "stream",
     "text": [
      "validation accuracy: 0.9691506410256411\n",
      "Valid Error 3.085 %\n",
      "Trying config: {'batch_size': 128, 'lr': 0.001, 'epochs': 10, 'hidden_units': 1200, 'experiment': 'classification', 'dropout': False, 'train_samples': 2, 'test_samples': 10, 'x_shape': 784, 'classes': 10, 'mu_init': [-0.2, 0.2], 'rho_init': [-5, -4], 'prior_init': [0.25, 0, -6]}\n",
      "Epoch 1/10\n"
     ]
    },
    {
     "name": "stderr",
     "output_type": "stream",
     "text": [
      "100%|██████████| 390/390 [00:23<00:00, 16.72it/s]\n",
      "100%|██████████| 78/78 [00:17<00:00,  4.41it/s]\n"
     ]
    },
    {
     "name": "stdout",
     "output_type": "stream",
     "text": [
      "validation accuracy: 0.9497195512820513\n",
      "Valid Error 5.028 %\n",
      "Epoch 2/10\n"
     ]
    },
    {
     "name": "stderr",
     "output_type": "stream",
     "text": [
      "100%|██████████| 390/390 [00:23<00:00, 16.43it/s]\n",
      "100%|██████████| 78/78 [00:17<00:00,  4.39it/s]\n"
     ]
    },
    {
     "name": "stdout",
     "output_type": "stream",
     "text": [
      "validation accuracy: 0.9599358974358975\n",
      "Valid Error 4.006 %\n",
      "Epoch 3/10\n"
     ]
    },
    {
     "name": "stderr",
     "output_type": "stream",
     "text": [
      "100%|██████████| 390/390 [00:24<00:00, 16.15it/s]\n",
      "100%|██████████| 78/78 [00:17<00:00,  4.37it/s]\n"
     ]
    },
    {
     "name": "stdout",
     "output_type": "stream",
     "text": [
      "validation accuracy: 0.9652443910256411\n",
      "Valid Error 3.476 %\n",
      "Epoch 4/10\n"
     ]
    },
    {
     "name": "stderr",
     "output_type": "stream",
     "text": [
      "100%|██████████| 390/390 [00:24<00:00, 15.76it/s]\n",
      "100%|██████████| 78/78 [00:18<00:00,  4.23it/s]\n"
     ]
    },
    {
     "name": "stdout",
     "output_type": "stream",
     "text": [
      "validation accuracy: 0.9729567307692307\n",
      "Valid Error 2.704 %\n",
      "Epoch 5/10\n"
     ]
    },
    {
     "name": "stderr",
     "output_type": "stream",
     "text": [
      "100%|██████████| 390/390 [00:24<00:00, 16.08it/s]\n",
      "100%|██████████| 78/78 [00:18<00:00,  4.29it/s]\n"
     ]
    },
    {
     "name": "stdout",
     "output_type": "stream",
     "text": [
      "validation accuracy: 0.9671474358974359\n",
      "Valid Error 3.285 %\n",
      "Epoch 6/10\n"
     ]
    },
    {
     "name": "stderr",
     "output_type": "stream",
     "text": [
      "100%|██████████| 390/390 [00:24<00:00, 16.13it/s]\n",
      "100%|██████████| 78/78 [00:17<00:00,  4.34it/s]\n"
     ]
    },
    {
     "name": "stdout",
     "output_type": "stream",
     "text": [
      "validation accuracy: 0.9703525641025641\n",
      "Valid Error 2.965 %\n",
      "Epoch 7/10\n"
     ]
    },
    {
     "name": "stderr",
     "output_type": "stream",
     "text": [
      "100%|██████████| 390/390 [00:24<00:00, 15.82it/s]\n",
      "100%|██████████| 78/78 [00:18<00:00,  4.33it/s]\n"
     ]
    },
    {
     "name": "stdout",
     "output_type": "stream",
     "text": [
      "validation accuracy: 0.9647435897435898\n",
      "Valid Error 3.526 %\n",
      "Epoch 8/10\n"
     ]
    },
    {
     "name": "stderr",
     "output_type": "stream",
     "text": [
      "100%|██████████| 390/390 [00:24<00:00, 16.13it/s]\n",
      "100%|██████████| 78/78 [00:18<00:00,  4.33it/s]\n"
     ]
    },
    {
     "name": "stdout",
     "output_type": "stream",
     "text": [
      "validation accuracy: 0.9710536858974359\n",
      "Valid Error 2.895 %\n",
      "Epoch 9/10\n"
     ]
    },
    {
     "name": "stderr",
     "output_type": "stream",
     "text": [
      "100%|██████████| 390/390 [00:24<00:00, 15.94it/s]\n",
      "100%|██████████| 78/78 [00:17<00:00,  4.46it/s]\n"
     ]
    },
    {
     "name": "stdout",
     "output_type": "stream",
     "text": [
      "validation accuracy: 0.9696514423076923\n",
      "Valid Error 3.035 %\n",
      "Epoch 10/10\n"
     ]
    },
    {
     "name": "stderr",
     "output_type": "stream",
     "text": [
      "100%|██████████| 390/390 [00:24<00:00, 15.97it/s]\n",
      "100%|██████████| 78/78 [00:17<00:00,  4.43it/s]\n"
     ]
    },
    {
     "name": "stdout",
     "output_type": "stream",
     "text": [
      "validation accuracy: 0.9688501602564102\n",
      "Valid Error 3.115 %\n",
      "Trying config: {'batch_size': 128, 'lr': 0.001, 'epochs': 10, 'hidden_units': 1200, 'experiment': 'classification', 'dropout': False, 'train_samples': 2, 'test_samples': 10, 'x_shape': 784, 'classes': 10, 'mu_init': [-0.2, 0.2], 'rho_init': [-5, -4], 'prior_init': [0.25, 0, -7]}\n",
      "Epoch 1/10\n"
     ]
    },
    {
     "name": "stderr",
     "output_type": "stream",
     "text": [
      "100%|██████████| 390/390 [00:23<00:00, 16.74it/s]\n",
      "100%|██████████| 78/78 [00:17<00:00,  4.47it/s]\n"
     ]
    },
    {
     "name": "stdout",
     "output_type": "stream",
     "text": [
      "validation accuracy: 0.9540264423076923\n",
      "Valid Error 4.597 %\n",
      "Epoch 2/10\n"
     ]
    },
    {
     "name": "stderr",
     "output_type": "stream",
     "text": [
      "100%|██████████| 390/390 [00:24<00:00, 16.06it/s]\n",
      "100%|██████████| 78/78 [00:17<00:00,  4.40it/s]\n"
     ]
    },
    {
     "name": "stdout",
     "output_type": "stream",
     "text": [
      "validation accuracy: 0.9628405448717948\n",
      "Valid Error 3.716 %\n",
      "Epoch 3/10\n"
     ]
    },
    {
     "name": "stderr",
     "output_type": "stream",
     "text": [
      "100%|██████████| 390/390 [00:24<00:00, 15.88it/s]\n",
      "100%|██████████| 78/78 [00:17<00:00,  4.36it/s]\n"
     ]
    },
    {
     "name": "stdout",
     "output_type": "stream",
     "text": [
      "validation accuracy: 0.9697516025641025\n",
      "Valid Error 3.025 %\n",
      "Epoch 4/10\n"
     ]
    },
    {
     "name": "stderr",
     "output_type": "stream",
     "text": [
      "100%|██████████| 390/390 [00:24<00:00, 16.17it/s]\n",
      "100%|██████████| 78/78 [00:17<00:00,  4.38it/s]\n"
     ]
    },
    {
     "name": "stdout",
     "output_type": "stream",
     "text": [
      "validation accuracy: 0.9652443910256411\n",
      "Valid Error 3.476 %\n",
      "Epoch 5/10\n"
     ]
    },
    {
     "name": "stderr",
     "output_type": "stream",
     "text": [
      "100%|██████████| 390/390 [00:24<00:00, 16.22it/s]\n",
      "100%|██████████| 78/78 [00:17<00:00,  4.44it/s]\n"
     ]
    },
    {
     "name": "stdout",
     "output_type": "stream",
     "text": [
      "validation accuracy: 0.9645432692307693\n",
      "Valid Error 3.546 %\n",
      "Epoch 6/10\n"
     ]
    },
    {
     "name": "stderr",
     "output_type": "stream",
     "text": [
      "100%|██████████| 390/390 [00:24<00:00, 16.03it/s]\n",
      "100%|██████████| 78/78 [00:18<00:00,  4.26it/s]\n"
     ]
    },
    {
     "name": "stdout",
     "output_type": "stream",
     "text": [
      "validation accuracy: 0.9697516025641025\n",
      "Valid Error 3.025 %\n",
      "Epoch 7/10\n"
     ]
    },
    {
     "name": "stderr",
     "output_type": "stream",
     "text": [
      "100%|██████████| 390/390 [00:23<00:00, 16.48it/s]\n",
      "100%|██████████| 78/78 [00:18<00:00,  4.30it/s]\n"
     ]
    },
    {
     "name": "stdout",
     "output_type": "stream",
     "text": [
      "validation accuracy: 0.9720552884615384\n",
      "Valid Error 2.794 %\n",
      "Epoch 8/10\n"
     ]
    },
    {
     "name": "stderr",
     "output_type": "stream",
     "text": [
      "100%|██████████| 390/390 [00:24<00:00, 15.77it/s]\n",
      "100%|██████████| 78/78 [00:17<00:00,  4.42it/s]\n"
     ]
    },
    {
     "name": "stdout",
     "output_type": "stream",
     "text": [
      "validation accuracy: 0.9677483974358975\n",
      "Valid Error 3.225 %\n",
      "Epoch 9/10\n"
     ]
    },
    {
     "name": "stderr",
     "output_type": "stream",
     "text": [
      "100%|██████████| 390/390 [00:24<00:00, 16.24it/s]\n",
      "100%|██████████| 78/78 [00:18<00:00,  4.28it/s]\n"
     ]
    },
    {
     "name": "stdout",
     "output_type": "stream",
     "text": [
      "validation accuracy: 0.9698517628205128\n",
      "Valid Error 3.015 %\n",
      "Epoch 10/10\n"
     ]
    },
    {
     "name": "stderr",
     "output_type": "stream",
     "text": [
      "100%|██████████| 390/390 [00:23<00:00, 16.43it/s]\n",
      "100%|██████████| 78/78 [00:17<00:00,  4.34it/s]\n"
     ]
    },
    {
     "name": "stdout",
     "output_type": "stream",
     "text": [
      "validation accuracy: 0.9728565705128205\n",
      "Valid Error 2.714 %\n",
      "Trying config: {'batch_size': 128, 'lr': 0.001, 'epochs': 10, 'hidden_units': 1200, 'experiment': 'classification', 'dropout': False, 'train_samples': 2, 'test_samples': 10, 'x_shape': 784, 'classes': 10, 'mu_init': [-0.2, 0.2], 'rho_init': [-5, -4], 'prior_init': [0.25, -1, -6]}\n",
      "Epoch 1/10\n"
     ]
    },
    {
     "name": "stderr",
     "output_type": "stream",
     "text": [
      "100%|██████████| 390/390 [00:23<00:00, 16.54it/s]\n",
      "100%|██████████| 78/78 [00:17<00:00,  4.59it/s]\n"
     ]
    },
    {
     "name": "stdout",
     "output_type": "stream",
     "text": [
      "validation accuracy: 0.9572315705128205\n",
      "Valid Error 4.277 %\n",
      "Epoch 2/10\n"
     ]
    },
    {
     "name": "stderr",
     "output_type": "stream",
     "text": [
      "100%|██████████| 390/390 [00:24<00:00, 16.16it/s]\n",
      "100%|██████████| 78/78 [00:18<00:00,  4.26it/s]\n"
     ]
    },
    {
     "name": "stdout",
     "output_type": "stream",
     "text": [
      "validation accuracy: 0.9630408653846154\n",
      "Valid Error 3.696 %\n",
      "Epoch 3/10\n"
     ]
    },
    {
     "name": "stderr",
     "output_type": "stream",
     "text": [
      "100%|██████████| 390/390 [00:23<00:00, 16.44it/s]\n",
      "100%|██████████| 78/78 [00:18<00:00,  4.26it/s]\n"
     ]
    },
    {
     "name": "stdout",
     "output_type": "stream",
     "text": [
      "validation accuracy: 0.9614383012820513\n",
      "Valid Error 3.856 %\n",
      "Epoch 4/10\n"
     ]
    },
    {
     "name": "stderr",
     "output_type": "stream",
     "text": [
      "100%|██████████| 390/390 [00:24<00:00, 15.92it/s]\n",
      "100%|██████████| 78/78 [00:17<00:00,  4.41it/s]\n"
     ]
    },
    {
     "name": "stdout",
     "output_type": "stream",
     "text": [
      "validation accuracy: 0.9699519230769231\n",
      "Valid Error 3.005 %\n",
      "Epoch 5/10\n"
     ]
    },
    {
     "name": "stderr",
     "output_type": "stream",
     "text": [
      "100%|██████████| 390/390 [00:24<00:00, 15.79it/s]\n",
      "100%|██████████| 78/78 [00:18<00:00,  4.26it/s]\n"
     ]
    },
    {
     "name": "stdout",
     "output_type": "stream",
     "text": [
      "validation accuracy: 0.9704527243589743\n",
      "Valid Error 2.955 %\n",
      "Epoch 6/10\n"
     ]
    },
    {
     "name": "stderr",
     "output_type": "stream",
     "text": [
      "100%|██████████| 390/390 [00:23<00:00, 16.46it/s]\n",
      "100%|██████████| 78/78 [00:18<00:00,  4.29it/s]\n"
     ]
    },
    {
     "name": "stdout",
     "output_type": "stream",
     "text": [
      "validation accuracy: 0.9668469551282052\n",
      "Valid Error 3.315 %\n",
      "Epoch 7/10\n"
     ]
    },
    {
     "name": "stderr",
     "output_type": "stream",
     "text": [
      "100%|██████████| 390/390 [00:24<00:00, 15.67it/s]\n",
      "100%|██████████| 78/78 [00:17<00:00,  4.44it/s]\n"
     ]
    },
    {
     "name": "stdout",
     "output_type": "stream",
     "text": [
      "validation accuracy: 0.9719551282051282\n",
      "Valid Error 2.804 %\n",
      "Epoch 8/10\n"
     ]
    },
    {
     "name": "stderr",
     "output_type": "stream",
     "text": [
      "100%|██████████| 390/390 [00:24<00:00, 16.01it/s]\n",
      "100%|██████████| 78/78 [00:18<00:00,  4.25it/s]\n"
     ]
    },
    {
     "name": "stdout",
     "output_type": "stream",
     "text": [
      "validation accuracy: 0.9661458333333334\n",
      "Valid Error 3.385 %\n",
      "Epoch 9/10\n"
     ]
    },
    {
     "name": "stderr",
     "output_type": "stream",
     "text": [
      "100%|██████████| 390/390 [00:24<00:00, 16.20it/s]\n",
      "100%|██████████| 78/78 [00:18<00:00,  4.25it/s]\n"
     ]
    },
    {
     "name": "stdout",
     "output_type": "stream",
     "text": [
      "validation accuracy: 0.9712540064102564\n",
      "Valid Error 2.875 %\n",
      "Epoch 10/10\n"
     ]
    },
    {
     "name": "stderr",
     "output_type": "stream",
     "text": [
      "100%|██████████| 390/390 [00:24<00:00, 16.02it/s]\n",
      "100%|██████████| 78/78 [00:17<00:00,  4.41it/s]\n"
     ]
    },
    {
     "name": "stdout",
     "output_type": "stream",
     "text": [
      "validation accuracy: 0.9710536858974359\n",
      "Valid Error 2.895 %\n",
      "Trying config: {'batch_size': 128, 'lr': 0.001, 'epochs': 10, 'hidden_units': 1200, 'experiment': 'classification', 'dropout': False, 'train_samples': 2, 'test_samples': 10, 'x_shape': 784, 'classes': 10, 'mu_init': [-0.2, 0.2], 'rho_init': [-5, -4], 'prior_init': [0.25, -1, -7]}\n",
      "Epoch 1/10\n"
     ]
    },
    {
     "name": "stderr",
     "output_type": "stream",
     "text": [
      "100%|██████████| 390/390 [00:23<00:00, 16.54it/s]\n",
      "100%|██████████| 78/78 [00:17<00:00,  4.52it/s]\n"
     ]
    },
    {
     "name": "stdout",
     "output_type": "stream",
     "text": [
      "validation accuracy: 0.953125\n",
      "Valid Error 4.688 %\n",
      "Epoch 2/10\n"
     ]
    },
    {
     "name": "stderr",
     "output_type": "stream",
     "text": [
      "100%|██████████| 390/390 [00:23<00:00, 16.44it/s]\n",
      "100%|██████████| 78/78 [00:18<00:00,  4.30it/s]\n"
     ]
    },
    {
     "name": "stdout",
     "output_type": "stream",
     "text": [
      "validation accuracy: 0.9646434294871795\n",
      "Valid Error 3.536 %\n",
      "Epoch 3/10\n"
     ]
    },
    {
     "name": "stderr",
     "output_type": "stream",
     "text": [
      "100%|██████████| 390/390 [00:24<00:00, 15.81it/s]\n",
      "100%|██████████| 78/78 [00:17<00:00,  4.39it/s]\n"
     ]
    },
    {
     "name": "stdout",
     "output_type": "stream",
     "text": [
      "validation accuracy: 0.9686498397435898\n",
      "Valid Error 3.135 %\n",
      "Epoch 4/10\n"
     ]
    },
    {
     "name": "stderr",
     "output_type": "stream",
     "text": [
      "100%|██████████| 390/390 [00:24<00:00, 16.23it/s]\n",
      "100%|██████████| 78/78 [00:17<00:00,  4.41it/s]\n"
     ]
    },
    {
     "name": "stdout",
     "output_type": "stream",
     "text": [
      "validation accuracy: 0.9665464743589743\n",
      "Valid Error 3.345 %\n",
      "Epoch 5/10\n"
     ]
    },
    {
     "name": "stderr",
     "output_type": "stream",
     "text": [
      "100%|██████████| 390/390 [00:24<00:00, 16.13it/s]\n",
      "100%|██████████| 78/78 [00:18<00:00,  4.22it/s]\n"
     ]
    },
    {
     "name": "stdout",
     "output_type": "stream",
     "text": [
      "validation accuracy: 0.9714543269230769\n",
      "Valid Error 2.855 %\n",
      "Epoch 6/10\n"
     ]
    },
    {
     "name": "stderr",
     "output_type": "stream",
     "text": [
      "100%|██████████| 390/390 [00:24<00:00, 16.00it/s]\n",
      "100%|██████████| 78/78 [00:17<00:00,  4.49it/s]\n"
     ]
    },
    {
     "name": "stdout",
     "output_type": "stream",
     "text": [
      "validation accuracy: 0.9657451923076923\n",
      "Valid Error 3.425 %\n",
      "Epoch 7/10\n"
     ]
    },
    {
     "name": "stderr",
     "output_type": "stream",
     "text": [
      "100%|██████████| 390/390 [00:23<00:00, 16.28it/s]\n",
      "100%|██████████| 78/78 [00:17<00:00,  4.42it/s]\n"
     ]
    },
    {
     "name": "stdout",
     "output_type": "stream",
     "text": [
      "validation accuracy: 0.9691506410256411\n",
      "Valid Error 3.085 %\n",
      "Epoch 8/10\n"
     ]
    },
    {
     "name": "stderr",
     "output_type": "stream",
     "text": [
      "100%|██████████| 390/390 [00:24<00:00, 16.21it/s]\n",
      "100%|██████████| 78/78 [00:18<00:00,  4.27it/s]\n"
     ]
    },
    {
     "name": "stdout",
     "output_type": "stream",
     "text": [
      "validation accuracy: 0.97265625\n",
      "Valid Error 2.734 %\n",
      "Epoch 9/10\n"
     ]
    },
    {
     "name": "stderr",
     "output_type": "stream",
     "text": [
      "100%|██████████| 390/390 [00:24<00:00, 16.20it/s]\n",
      "100%|██████████| 78/78 [00:17<00:00,  4.52it/s]\n"
     ]
    },
    {
     "name": "stdout",
     "output_type": "stream",
     "text": [
      "validation accuracy: 0.9724559294871795\n",
      "Valid Error 2.754 %\n",
      "Epoch 10/10\n"
     ]
    },
    {
     "name": "stderr",
     "output_type": "stream",
     "text": [
      "100%|██████████| 390/390 [00:24<00:00, 15.91it/s]\n",
      "100%|██████████| 78/78 [00:17<00:00,  4.38it/s]\n"
     ]
    },
    {
     "name": "stdout",
     "output_type": "stream",
     "text": [
      "validation accuracy: 0.9647435897435898\n",
      "Valid Error 3.526 %\n",
      "Trying config: {'batch_size': 128, 'lr': 0.001, 'epochs': 10, 'hidden_units': 1200, 'experiment': 'classification', 'dropout': False, 'train_samples': 2, 'test_samples': 10, 'x_shape': 784, 'classes': 10, 'mu_init': [-0.2, 0.2], 'rho_init': [-5, -4], 'prior_init': [0.75, 0, -6]}\n",
      "Epoch 1/10\n"
     ]
    },
    {
     "name": "stderr",
     "output_type": "stream",
     "text": [
      "100%|██████████| 390/390 [00:23<00:00, 16.51it/s]\n",
      "100%|██████████| 78/78 [00:17<00:00,  4.42it/s]\n"
     ]
    },
    {
     "name": "stdout",
     "output_type": "stream",
     "text": [
      "validation accuracy: 0.9503205128205128\n",
      "Valid Error 4.968 %\n",
      "Epoch 2/10\n"
     ]
    },
    {
     "name": "stderr",
     "output_type": "stream",
     "text": [
      "100%|██████████| 390/390 [00:23<00:00, 16.28it/s]\n",
      "100%|██████████| 78/78 [00:17<00:00,  4.35it/s]\n"
     ]
    },
    {
     "name": "stdout",
     "output_type": "stream",
     "text": [
      "validation accuracy: 0.9671474358974359\n",
      "Valid Error 3.285 %\n",
      "Epoch 3/10\n"
     ]
    },
    {
     "name": "stderr",
     "output_type": "stream",
     "text": [
      "100%|██████████| 390/390 [00:24<00:00, 16.04it/s]\n",
      "100%|██████████| 78/78 [00:17<00:00,  4.37it/s]\n"
     ]
    },
    {
     "name": "stdout",
     "output_type": "stream",
     "text": [
      "validation accuracy: 0.9664463141025641\n",
      "Valid Error 3.355 %\n",
      "Epoch 4/10\n"
     ]
    },
    {
     "name": "stderr",
     "output_type": "stream",
     "text": [
      "100%|██████████| 390/390 [00:24<00:00, 15.82it/s]\n",
      "100%|██████████| 78/78 [00:18<00:00,  4.24it/s]\n"
     ]
    },
    {
     "name": "stdout",
     "output_type": "stream",
     "text": [
      "validation accuracy: 0.9707532051282052\n",
      "Valid Error 2.925 %\n",
      "Epoch 5/10\n"
     ]
    },
    {
     "name": "stderr",
     "output_type": "stream",
     "text": [
      "100%|██████████| 390/390 [00:23<00:00, 16.39it/s]\n",
      "100%|██████████| 78/78 [00:18<00:00,  4.30it/s]\n"
     ]
    },
    {
     "name": "stdout",
     "output_type": "stream",
     "text": [
      "validation accuracy: 0.9682491987179487\n",
      "Valid Error 3.175 %\n",
      "Epoch 6/10\n"
     ]
    },
    {
     "name": "stderr",
     "output_type": "stream",
     "text": [
      "100%|██████████| 390/390 [00:24<00:00, 15.80it/s]\n",
      "100%|██████████| 78/78 [00:18<00:00,  4.29it/s]\n"
     ]
    },
    {
     "name": "stdout",
     "output_type": "stream",
     "text": [
      "validation accuracy: 0.9692508012820513\n",
      "Valid Error 3.075 %\n",
      "Epoch 7/10\n"
     ]
    },
    {
     "name": "stderr",
     "output_type": "stream",
     "text": [
      "100%|██████████| 390/390 [00:24<00:00, 15.96it/s]\n",
      "100%|██████████| 78/78 [00:18<00:00,  4.16it/s]\n"
     ]
    },
    {
     "name": "stdout",
     "output_type": "stream",
     "text": [
      "validation accuracy: 0.9704527243589743\n",
      "Valid Error 2.955 %\n",
      "Epoch 8/10\n"
     ]
    },
    {
     "name": "stderr",
     "output_type": "stream",
     "text": [
      "100%|██████████| 390/390 [00:24<00:00, 16.04it/s]\n",
      "100%|██████████| 78/78 [00:17<00:00,  4.36it/s]\n"
     ]
    },
    {
     "name": "stdout",
     "output_type": "stream",
     "text": [
      "validation accuracy: 0.9712540064102564\n",
      "Valid Error 2.875 %\n",
      "Epoch 9/10\n"
     ]
    },
    {
     "name": "stderr",
     "output_type": "stream",
     "text": [
      "100%|██████████| 390/390 [00:24<00:00, 15.68it/s]\n",
      "100%|██████████| 78/78 [00:17<00:00,  4.40it/s]\n"
     ]
    },
    {
     "name": "stdout",
     "output_type": "stream",
     "text": [
      "validation accuracy: 0.9742588141025641\n",
      "Valid Error 2.574 %\n",
      "Epoch 10/10\n"
     ]
    },
    {
     "name": "stderr",
     "output_type": "stream",
     "text": [
      "100%|██████████| 390/390 [00:24<00:00, 16.16it/s]\n",
      "100%|██████████| 78/78 [00:18<00:00,  4.19it/s]\n"
     ]
    },
    {
     "name": "stdout",
     "output_type": "stream",
     "text": [
      "validation accuracy: 0.9683493589743589\n",
      "Valid Error 3.165 %\n",
      "Trying config: {'batch_size': 128, 'lr': 0.001, 'epochs': 10, 'hidden_units': 1200, 'experiment': 'classification', 'dropout': False, 'train_samples': 2, 'test_samples': 10, 'x_shape': 784, 'classes': 10, 'mu_init': [-0.2, 0.2], 'rho_init': [-5, -4], 'prior_init': [0.75, 0, -7]}\n",
      "Epoch 1/10\n"
     ]
    },
    {
     "name": "stderr",
     "output_type": "stream",
     "text": [
      "100%|██████████| 390/390 [00:24<00:00, 16.21it/s]\n",
      "100%|██████████| 78/78 [00:16<00:00,  4.63it/s]\n"
     ]
    },
    {
     "name": "stdout",
     "output_type": "stream",
     "text": [
      "validation accuracy: 0.9466145833333334\n",
      "Valid Error 5.339 %\n",
      "Epoch 2/10\n"
     ]
    },
    {
     "name": "stderr",
     "output_type": "stream",
     "text": [
      "100%|██████████| 390/390 [00:24<00:00, 16.10it/s]\n",
      "100%|██████████| 78/78 [00:17<00:00,  4.54it/s]\n"
     ]
    },
    {
     "name": "stdout",
     "output_type": "stream",
     "text": [
      "validation accuracy: 0.9631410256410257\n",
      "Valid Error 3.686 %\n",
      "Epoch 3/10\n"
     ]
    },
    {
     "name": "stderr",
     "output_type": "stream",
     "text": [
      "100%|██████████| 390/390 [00:24<00:00, 16.17it/s]\n",
      "100%|██████████| 78/78 [00:17<00:00,  4.46it/s]\n"
     ]
    },
    {
     "name": "stdout",
     "output_type": "stream",
     "text": [
      "validation accuracy: 0.9637419871794872\n",
      "Valid Error 3.626 %\n",
      "Epoch 4/10\n"
     ]
    },
    {
     "name": "stderr",
     "output_type": "stream",
     "text": [
      "100%|██████████| 390/390 [00:23<00:00, 16.44it/s]\n",
      "100%|██████████| 78/78 [00:17<00:00,  4.46it/s]\n"
     ]
    },
    {
     "name": "stdout",
     "output_type": "stream",
     "text": [
      "validation accuracy: 0.9634415064102564\n",
      "Valid Error 3.656 %\n",
      "Epoch 5/10\n"
     ]
    },
    {
     "name": "stderr",
     "output_type": "stream",
     "text": [
      "100%|██████████| 390/390 [00:24<00:00, 15.90it/s]\n",
      "100%|██████████| 78/78 [00:17<00:00,  4.52it/s]\n"
     ]
    },
    {
     "name": "stdout",
     "output_type": "stream",
     "text": [
      "validation accuracy: 0.9727564102564102\n",
      "Valid Error 2.724 %\n",
      "Epoch 6/10\n"
     ]
    },
    {
     "name": "stderr",
     "output_type": "stream",
     "text": [
      "100%|██████████| 390/390 [00:24<00:00, 15.89it/s]\n",
      "100%|██████████| 78/78 [00:17<00:00,  4.37it/s]\n"
     ]
    },
    {
     "name": "stdout",
     "output_type": "stream",
     "text": [
      "validation accuracy: 0.9722556089743589\n",
      "Valid Error 2.774 %\n",
      "Epoch 7/10\n"
     ]
    },
    {
     "name": "stderr",
     "output_type": "stream",
     "text": [
      "100%|██████████| 390/390 [00:23<00:00, 16.37it/s]\n",
      "100%|██████████| 78/78 [00:17<00:00,  4.37it/s]\n"
     ]
    },
    {
     "name": "stdout",
     "output_type": "stream",
     "text": [
      "validation accuracy: 0.9689503205128205\n",
      "Valid Error 3.105 %\n",
      "Epoch 8/10\n"
     ]
    },
    {
     "name": "stderr",
     "output_type": "stream",
     "text": [
      "100%|██████████| 390/390 [00:24<00:00, 16.09it/s]\n",
      "100%|██████████| 78/78 [00:17<00:00,  4.51it/s]\n"
     ]
    },
    {
     "name": "stdout",
     "output_type": "stream",
     "text": [
      "validation accuracy: 0.9710536858974359\n",
      "Valid Error 2.895 %\n",
      "Epoch 9/10\n"
     ]
    },
    {
     "name": "stderr",
     "output_type": "stream",
     "text": [
      "100%|██████████| 390/390 [00:23<00:00, 16.30it/s]\n",
      "100%|██████████| 78/78 [00:17<00:00,  4.35it/s]\n"
     ]
    },
    {
     "name": "stdout",
     "output_type": "stream",
     "text": [
      "validation accuracy: 0.9723557692307693\n",
      "Valid Error 2.764 %\n",
      "Epoch 10/10\n"
     ]
    },
    {
     "name": "stderr",
     "output_type": "stream",
     "text": [
      "100%|██████████| 390/390 [00:23<00:00, 16.42it/s]\n",
      "100%|██████████| 78/78 [00:17<00:00,  4.49it/s]\n"
     ]
    },
    {
     "name": "stdout",
     "output_type": "stream",
     "text": [
      "validation accuracy: 0.9702524038461539\n",
      "Valid Error 2.975 %\n",
      "Trying config: {'batch_size': 128, 'lr': 0.001, 'epochs': 10, 'hidden_units': 1200, 'experiment': 'classification', 'dropout': False, 'train_samples': 2, 'test_samples': 10, 'x_shape': 784, 'classes': 10, 'mu_init': [-0.2, 0.2], 'rho_init': [-5, -4], 'prior_init': [0.75, -1, -6]}\n",
      "Epoch 1/10\n"
     ]
    },
    {
     "name": "stderr",
     "output_type": "stream",
     "text": [
      "100%|██████████| 390/390 [00:22<00:00, 17.01it/s]\n",
      "100%|██████████| 78/78 [00:16<00:00,  4.68it/s]\n"
     ]
    },
    {
     "name": "stdout",
     "output_type": "stream",
     "text": [
      "validation accuracy: 0.9525240384615384\n",
      "Valid Error 4.748 %\n",
      "Epoch 2/10\n"
     ]
    },
    {
     "name": "stderr",
     "output_type": "stream",
     "text": [
      "100%|██████████| 390/390 [00:23<00:00, 16.29it/s]\n",
      "100%|██████████| 78/78 [00:17<00:00,  4.37it/s]\n"
     ]
    },
    {
     "name": "stdout",
     "output_type": "stream",
     "text": [
      "validation accuracy: 0.9602363782051282\n",
      "Valid Error 3.976 %\n",
      "Epoch 3/10\n"
     ]
    },
    {
     "name": "stderr",
     "output_type": "stream",
     "text": [
      "100%|██████████| 390/390 [00:23<00:00, 16.27it/s]\n",
      "100%|██████████| 78/78 [00:18<00:00,  4.32it/s]\n"
     ]
    },
    {
     "name": "stdout",
     "output_type": "stream",
     "text": [
      "validation accuracy: 0.9691506410256411\n",
      "Valid Error 3.085 %\n",
      "Epoch 4/10\n"
     ]
    },
    {
     "name": "stderr",
     "output_type": "stream",
     "text": [
      "100%|██████████| 390/390 [00:24<00:00, 16.02it/s]\n",
      "100%|██████████| 78/78 [00:17<00:00,  4.55it/s]\n"
     ]
    },
    {
     "name": "stdout",
     "output_type": "stream",
     "text": [
      "validation accuracy: 0.9654447115384616\n",
      "Valid Error 3.456 %\n",
      "Epoch 5/10\n"
     ]
    },
    {
     "name": "stderr",
     "output_type": "stream",
     "text": [
      "100%|██████████| 390/390 [00:23<00:00, 16.40it/s]\n",
      "100%|██████████| 78/78 [00:17<00:00,  4.49it/s]\n"
     ]
    },
    {
     "name": "stdout",
     "output_type": "stream",
     "text": [
      "validation accuracy: 0.9698517628205128\n",
      "Valid Error 3.015 %\n",
      "Epoch 6/10\n"
     ]
    },
    {
     "name": "stderr",
     "output_type": "stream",
     "text": [
      "100%|██████████| 390/390 [00:24<00:00, 15.86it/s]\n",
      "100%|██████████| 78/78 [00:18<00:00,  4.32it/s]\n"
     ]
    },
    {
     "name": "stdout",
     "output_type": "stream",
     "text": [
      "validation accuracy: 0.9645432692307693\n",
      "Valid Error 3.546 %\n",
      "Epoch 7/10\n"
     ]
    },
    {
     "name": "stderr",
     "output_type": "stream",
     "text": [
      "100%|██████████| 390/390 [00:23<00:00, 16.37it/s]\n",
      "100%|██████████| 78/78 [00:18<00:00,  4.33it/s]\n"
     ]
    },
    {
     "name": "stdout",
     "output_type": "stream",
     "text": [
      "validation accuracy: 0.973457532051282\n",
      "Valid Error 2.654 %\n",
      "Epoch 8/10\n"
     ]
    },
    {
     "name": "stderr",
     "output_type": "stream",
     "text": [
      "100%|██████████| 390/390 [00:24<00:00, 15.82it/s]\n",
      "100%|██████████| 78/78 [00:17<00:00,  4.51it/s]\n"
     ]
    },
    {
     "name": "stdout",
     "output_type": "stream",
     "text": [
      "validation accuracy: 0.9691506410256411\n",
      "Valid Error 3.085 %\n",
      "Epoch 9/10\n"
     ]
    },
    {
     "name": "stderr",
     "output_type": "stream",
     "text": [
      "100%|██████████| 390/390 [00:24<00:00, 16.02it/s]\n",
      "100%|██████████| 78/78 [00:17<00:00,  4.34it/s]\n"
     ]
    },
    {
     "name": "stdout",
     "output_type": "stream",
     "text": [
      "validation accuracy: 0.9728565705128205\n",
      "Valid Error 2.714 %\n",
      "Epoch 10/10\n"
     ]
    },
    {
     "name": "stderr",
     "output_type": "stream",
     "text": [
      "100%|██████████| 390/390 [00:23<00:00, 16.38it/s]\n",
      "100%|██████████| 78/78 [00:18<00:00,  4.32it/s]\n"
     ]
    },
    {
     "name": "stdout",
     "output_type": "stream",
     "text": [
      "validation accuracy: 0.9710536858974359\n",
      "Valid Error 2.895 %\n",
      "Trying config: {'batch_size': 128, 'lr': 0.001, 'epochs': 10, 'hidden_units': 1200, 'experiment': 'classification', 'dropout': False, 'train_samples': 2, 'test_samples': 10, 'x_shape': 784, 'classes': 10, 'mu_init': [-0.2, 0.2], 'rho_init': [-5, -4], 'prior_init': [0.75, -1, -7]}\n",
      "Epoch 1/10\n"
     ]
    },
    {
     "name": "stderr",
     "output_type": "stream",
     "text": [
      "100%|██████████| 390/390 [00:23<00:00, 16.78it/s]\n",
      "100%|██████████| 78/78 [00:16<00:00,  4.65it/s]\n"
     ]
    },
    {
     "name": "stdout",
     "output_type": "stream",
     "text": [
      "validation accuracy: 0.9454126602564102\n",
      "Valid Error 5.459 %\n",
      "Epoch 2/10\n"
     ]
    },
    {
     "name": "stderr",
     "output_type": "stream",
     "text": [
      "100%|██████████| 390/390 [00:23<00:00, 16.30it/s]\n",
      "100%|██████████| 78/78 [00:17<00:00,  4.46it/s]\n"
     ]
    },
    {
     "name": "stdout",
     "output_type": "stream",
     "text": [
      "validation accuracy: 0.9589342948717948\n",
      "Valid Error 4.107 %\n",
      "Epoch 3/10\n"
     ]
    },
    {
     "name": "stderr",
     "output_type": "stream",
     "text": [
      "100%|██████████| 390/390 [00:23<00:00, 16.29it/s]\n",
      "100%|██████████| 78/78 [00:18<00:00,  4.31it/s]\n"
     ]
    },
    {
     "name": "stdout",
     "output_type": "stream",
     "text": [
      "validation accuracy: 0.9669471153846154\n",
      "Valid Error 3.305 %\n",
      "Epoch 4/10\n"
     ]
    },
    {
     "name": "stderr",
     "output_type": "stream",
     "text": [
      "100%|██████████| 390/390 [00:24<00:00, 16.24it/s]\n",
      "100%|██████████| 78/78 [00:17<00:00,  4.55it/s]\n"
     ]
    },
    {
     "name": "stdout",
     "output_type": "stream",
     "text": [
      "validation accuracy: 0.9728565705128205\n",
      "Valid Error 2.714 %\n",
      "Epoch 5/10\n"
     ]
    },
    {
     "name": "stderr",
     "output_type": "stream",
     "text": [
      "100%|██████████| 390/390 [00:24<00:00, 15.97it/s]\n",
      "100%|██████████| 78/78 [00:17<00:00,  4.51it/s]\n"
     ]
    },
    {
     "name": "stdout",
     "output_type": "stream",
     "text": [
      "validation accuracy: 0.9672475961538461\n",
      "Valid Error 3.275 %\n",
      "Epoch 6/10\n"
     ]
    },
    {
     "name": "stderr",
     "output_type": "stream",
     "text": [
      "100%|██████████| 390/390 [00:23<00:00, 16.27it/s]\n",
      "100%|██████████| 78/78 [00:17<00:00,  4.36it/s]\n"
     ]
    },
    {
     "name": "stdout",
     "output_type": "stream",
     "text": [
      "validation accuracy: 0.9724559294871795\n",
      "Valid Error 2.754 %\n",
      "Epoch 7/10\n"
     ]
    },
    {
     "name": "stderr",
     "output_type": "stream",
     "text": [
      "100%|██████████| 390/390 [00:24<00:00, 16.00it/s]\n",
      "100%|██████████| 78/78 [00:17<00:00,  4.53it/s]\n"
     ]
    },
    {
     "name": "stdout",
     "output_type": "stream",
     "text": [
      "validation accuracy: 0.967948717948718\n",
      "Valid Error 3.205 %\n",
      "Epoch 8/10\n"
     ]
    },
    {
     "name": "stderr",
     "output_type": "stream",
     "text": [
      "100%|██████████| 390/390 [00:24<00:00, 16.10it/s]\n",
      "100%|██████████| 78/78 [00:17<00:00,  4.43it/s]\n"
     ]
    },
    {
     "name": "stdout",
     "output_type": "stream",
     "text": [
      "validation accuracy: 0.9708533653846154\n",
      "Valid Error 2.915 %\n",
      "Epoch 9/10\n"
     ]
    },
    {
     "name": "stderr",
     "output_type": "stream",
     "text": [
      "100%|██████████| 390/390 [00:24<00:00, 16.19it/s]\n",
      "100%|██████████| 78/78 [00:18<00:00,  4.24it/s]\n"
     ]
    },
    {
     "name": "stdout",
     "output_type": "stream",
     "text": [
      "validation accuracy: 0.9725560897435898\n",
      "Valid Error 2.744 %\n",
      "Epoch 10/10\n"
     ]
    },
    {
     "name": "stderr",
     "output_type": "stream",
     "text": [
      "100%|██████████| 390/390 [00:23<00:00, 16.54it/s]\n",
      "100%|██████████| 78/78 [00:17<00:00,  4.48it/s]\n"
     ]
    },
    {
     "name": "stdout",
     "output_type": "stream",
     "text": [
      "validation accuracy: 0.9697516025641025\n",
      "Valid Error 3.025 %\n",
      "Trying config: {'batch_size': 128, 'lr': 0.001, 'epochs': 10, 'hidden_units': 1200, 'experiment': 'classification', 'dropout': False, 'train_samples': 5, 'test_samples': 10, 'x_shape': 784, 'classes': 10, 'mu_init': [-0.2, 0.2], 'rho_init': [-5, -4], 'prior_init': [0.25, 0, -6]}\n",
      "Epoch 1/10\n"
     ]
    },
    {
     "name": "stderr",
     "output_type": "stream",
     "text": [
      "100%|██████████| 390/390 [00:47<00:00,  8.13it/s]\n",
      "100%|██████████| 78/78 [00:17<00:00,  4.58it/s]\n"
     ]
    },
    {
     "name": "stdout",
     "output_type": "stream",
     "text": [
      "validation accuracy: 0.9504206730769231\n",
      "Valid Error 4.958 %\n",
      "Epoch 2/10\n"
     ]
    },
    {
     "name": "stderr",
     "output_type": "stream",
     "text": [
      "100%|██████████| 390/390 [00:49<00:00,  7.88it/s]\n",
      "100%|██████████| 78/78 [00:17<00:00,  4.56it/s]\n"
     ]
    },
    {
     "name": "stdout",
     "output_type": "stream",
     "text": [
      "validation accuracy: 0.9638421474358975\n",
      "Valid Error 3.616 %\n",
      "Epoch 3/10\n"
     ]
    },
    {
     "name": "stderr",
     "output_type": "stream",
     "text": [
      "100%|██████████| 390/390 [00:49<00:00,  7.83it/s]\n",
      "100%|██████████| 78/78 [00:17<00:00,  4.46it/s]\n"
     ]
    },
    {
     "name": "stdout",
     "output_type": "stream",
     "text": [
      "validation accuracy: 0.9697516025641025\n",
      "Valid Error 3.025 %\n",
      "Epoch 4/10\n"
     ]
    },
    {
     "name": "stderr",
     "output_type": "stream",
     "text": [
      "100%|██████████| 390/390 [00:49<00:00,  7.94it/s]\n",
      "100%|██████████| 78/78 [00:16<00:00,  4.59it/s]\n"
     ]
    },
    {
     "name": "stdout",
     "output_type": "stream",
     "text": [
      "validation accuracy: 0.9716546474358975\n",
      "Valid Error 2.835 %\n",
      "Epoch 5/10\n"
     ]
    },
    {
     "name": "stderr",
     "output_type": "stream",
     "text": [
      "100%|██████████| 390/390 [00:50<00:00,  7.75it/s]\n",
      "100%|██████████| 78/78 [00:17<00:00,  4.40it/s]\n"
     ]
    },
    {
     "name": "stdout",
     "output_type": "stream",
     "text": [
      "validation accuracy: 0.9677483974358975\n",
      "Valid Error 3.225 %\n",
      "Epoch 6/10\n"
     ]
    },
    {
     "name": "stderr",
     "output_type": "stream",
     "text": [
      "100%|██████████| 390/390 [00:49<00:00,  7.93it/s]\n",
      "100%|██████████| 78/78 [00:17<00:00,  4.41it/s]\n"
     ]
    },
    {
     "name": "stdout",
     "output_type": "stream",
     "text": [
      "validation accuracy: 0.9709535256410257\n",
      "Valid Error 2.905 %\n",
      "Epoch 7/10\n"
     ]
    },
    {
     "name": "stderr",
     "output_type": "stream",
     "text": [
      "100%|██████████| 390/390 [00:48<00:00,  8.01it/s]\n",
      "100%|██████████| 78/78 [00:17<00:00,  4.55it/s]\n"
     ]
    },
    {
     "name": "stdout",
     "output_type": "stream",
     "text": [
      "validation accuracy: 0.9673477564102564\n",
      "Valid Error 3.265 %\n",
      "Epoch 8/10\n"
     ]
    },
    {
     "name": "stderr",
     "output_type": "stream",
     "text": [
      "100%|██████████| 390/390 [00:49<00:00,  7.95it/s]\n",
      "100%|██████████| 78/78 [00:17<00:00,  4.44it/s]\n"
     ]
    },
    {
     "name": "stdout",
     "output_type": "stream",
     "text": [
      "validation accuracy: 0.9667467948717948\n",
      "Valid Error 3.325 %\n",
      "Epoch 9/10\n"
     ]
    },
    {
     "name": "stderr",
     "output_type": "stream",
     "text": [
      "100%|██████████| 390/390 [00:49<00:00,  7.82it/s]\n",
      "100%|██████████| 78/78 [00:17<00:00,  4.43it/s]\n"
     ]
    },
    {
     "name": "stdout",
     "output_type": "stream",
     "text": [
      "validation accuracy: 0.9746594551282052\n",
      "Valid Error 2.534 %\n",
      "Epoch 10/10\n"
     ]
    },
    {
     "name": "stderr",
     "output_type": "stream",
     "text": [
      "100%|██████████| 390/390 [00:49<00:00,  7.83it/s]\n",
      "100%|██████████| 78/78 [00:17<00:00,  4.52it/s]\n"
     ]
    },
    {
     "name": "stdout",
     "output_type": "stream",
     "text": [
      "validation accuracy: 0.9742588141025641\n",
      "Valid Error 2.574 %\n",
      "Trying config: {'batch_size': 128, 'lr': 0.001, 'epochs': 10, 'hidden_units': 1200, 'experiment': 'classification', 'dropout': False, 'train_samples': 5, 'test_samples': 10, 'x_shape': 784, 'classes': 10, 'mu_init': [-0.2, 0.2], 'rho_init': [-5, -4], 'prior_init': [0.25, 0, -7]}\n",
      "Epoch 1/10\n"
     ]
    },
    {
     "name": "stderr",
     "output_type": "stream",
     "text": [
      "100%|██████████| 390/390 [00:50<00:00,  7.76it/s]\n",
      "100%|██████████| 78/78 [00:18<00:00,  4.27it/s]\n"
     ]
    },
    {
     "name": "stdout",
     "output_type": "stream",
     "text": [
      "validation accuracy: 0.9576322115384616\n",
      "Valid Error 4.237 %\n",
      "Epoch 2/10\n"
     ]
    },
    {
     "name": "stderr",
     "output_type": "stream",
     "text": [
      "100%|██████████| 390/390 [00:49<00:00,  7.82it/s]\n",
      "100%|██████████| 78/78 [00:18<00:00,  4.22it/s]\n"
     ]
    },
    {
     "name": "stdout",
     "output_type": "stream",
     "text": [
      "validation accuracy: 0.9603365384615384\n",
      "Valid Error 3.966 %\n",
      "Epoch 3/10\n"
     ]
    },
    {
     "name": "stderr",
     "output_type": "stream",
     "text": [
      "100%|██████████| 390/390 [00:49<00:00,  7.82it/s]\n",
      "100%|██████████| 78/78 [00:16<00:00,  4.67it/s]\n"
     ]
    },
    {
     "name": "stdout",
     "output_type": "stream",
     "text": [
      "validation accuracy: 0.9639423076923077\n",
      "Valid Error 3.606 %\n",
      "Epoch 4/10\n"
     ]
    },
    {
     "name": "stderr",
     "output_type": "stream",
     "text": [
      "100%|██████████| 390/390 [00:49<00:00,  7.85it/s]\n",
      "100%|██████████| 78/78 [00:18<00:00,  4.15it/s]\n"
     ]
    },
    {
     "name": "stdout",
     "output_type": "stream",
     "text": [
      "validation accuracy: 0.9686498397435898\n",
      "Valid Error 3.135 %\n",
      "Epoch 5/10\n"
     ]
    },
    {
     "name": "stderr",
     "output_type": "stream",
     "text": [
      "100%|██████████| 390/390 [00:50<00:00,  7.75it/s]\n",
      "100%|██████████| 78/78 [00:18<00:00,  4.23it/s]\n"
     ]
    },
    {
     "name": "stdout",
     "output_type": "stream",
     "text": [
      "validation accuracy: 0.96484375\n",
      "Valid Error 3.516 %\n",
      "Epoch 6/10\n"
     ]
    },
    {
     "name": "stderr",
     "output_type": "stream",
     "text": [
      "100%|██████████| 390/390 [00:50<00:00,  7.69it/s]\n",
      "100%|██████████| 78/78 [00:17<00:00,  4.42it/s]\n"
     ]
    },
    {
     "name": "stdout",
     "output_type": "stream",
     "text": [
      "validation accuracy: 0.9682491987179487\n",
      "Valid Error 3.175 %\n",
      "Epoch 7/10\n"
     ]
    },
    {
     "name": "stderr",
     "output_type": "stream",
     "text": [
      "100%|██████████| 390/390 [00:51<00:00,  7.64it/s]\n",
      "100%|██████████| 78/78 [00:17<00:00,  4.54it/s]\n"
     ]
    },
    {
     "name": "stdout",
     "output_type": "stream",
     "text": [
      "validation accuracy: 0.9706530448717948\n",
      "Valid Error 2.935 %\n",
      "Epoch 8/10\n"
     ]
    },
    {
     "name": "stderr",
     "output_type": "stream",
     "text": [
      "100%|██████████| 390/390 [00:51<00:00,  7.51it/s]\n",
      "100%|██████████| 78/78 [00:17<00:00,  4.50it/s]\n"
     ]
    },
    {
     "name": "stdout",
     "output_type": "stream",
     "text": [
      "validation accuracy: 0.9651442307692307\n",
      "Valid Error 3.486 %\n",
      "Epoch 9/10\n"
     ]
    },
    {
     "name": "stderr",
     "output_type": "stream",
     "text": [
      "100%|██████████| 390/390 [00:51<00:00,  7.58it/s]\n",
      "100%|██████████| 78/78 [00:16<00:00,  4.66it/s]\n"
     ]
    },
    {
     "name": "stdout",
     "output_type": "stream",
     "text": [
      "validation accuracy: 0.9706530448717948\n",
      "Valid Error 2.935 %\n",
      "Epoch 10/10\n"
     ]
    },
    {
     "name": "stderr",
     "output_type": "stream",
     "text": [
      "100%|██████████| 390/390 [00:50<00:00,  7.73it/s]\n",
      "100%|██████████| 78/78 [00:17<00:00,  4.40it/s]\n"
     ]
    },
    {
     "name": "stdout",
     "output_type": "stream",
     "text": [
      "validation accuracy: 0.9758613782051282\n",
      "Valid Error 2.414 %\n",
      "Trying config: {'batch_size': 128, 'lr': 0.001, 'epochs': 10, 'hidden_units': 1200, 'experiment': 'classification', 'dropout': False, 'train_samples': 5, 'test_samples': 10, 'x_shape': 784, 'classes': 10, 'mu_init': [-0.2, 0.2], 'rho_init': [-5, -4], 'prior_init': [0.25, -1, -6]}\n",
      "Epoch 1/10\n"
     ]
    },
    {
     "name": "stderr",
     "output_type": "stream",
     "text": [
      "100%|██████████| 390/390 [00:50<00:00,  7.77it/s]\n",
      "100%|██████████| 78/78 [00:17<00:00,  4.49it/s]\n"
     ]
    },
    {
     "name": "stdout",
     "output_type": "stream",
     "text": [
      "validation accuracy: 0.9501201923076923\n",
      "Valid Error 4.988 %\n",
      "Epoch 2/10\n"
     ]
    },
    {
     "name": "stderr",
     "output_type": "stream",
     "text": [
      "100%|██████████| 390/390 [00:50<00:00,  7.72it/s]\n",
      "100%|██████████| 78/78 [00:18<00:00,  4.30it/s]\n"
     ]
    },
    {
     "name": "stdout",
     "output_type": "stream",
     "text": [
      "validation accuracy: 0.9608373397435898\n",
      "Valid Error 3.916 %\n",
      "Epoch 3/10\n"
     ]
    },
    {
     "name": "stderr",
     "output_type": "stream",
     "text": [
      "100%|██████████| 390/390 [00:49<00:00,  7.82it/s]\n",
      "100%|██████████| 78/78 [00:18<00:00,  4.25it/s]\n"
     ]
    },
    {
     "name": "stdout",
     "output_type": "stream",
     "text": [
      "validation accuracy: 0.9650440705128205\n",
      "Valid Error 3.496 %\n",
      "Epoch 4/10\n"
     ]
    },
    {
     "name": "stderr",
     "output_type": "stream",
     "text": [
      "100%|██████████| 390/390 [00:49<00:00,  7.80it/s]\n",
      "100%|██████████| 78/78 [00:17<00:00,  4.51it/s]\n"
     ]
    },
    {
     "name": "stdout",
     "output_type": "stream",
     "text": [
      "validation accuracy: 0.9668469551282052\n",
      "Valid Error 3.315 %\n",
      "Epoch 5/10\n"
     ]
    },
    {
     "name": "stderr",
     "output_type": "stream",
     "text": [
      "100%|██████████| 390/390 [00:50<00:00,  7.70it/s]\n",
      "100%|██████████| 78/78 [00:17<00:00,  4.48it/s]\n"
     ]
    },
    {
     "name": "stdout",
     "output_type": "stream",
     "text": [
      "validation accuracy: 0.9689503205128205\n",
      "Valid Error 3.105 %\n",
      "Epoch 6/10\n"
     ]
    },
    {
     "name": "stderr",
     "output_type": "stream",
     "text": [
      "100%|██████████| 390/390 [00:49<00:00,  7.92it/s]\n",
      "100%|██████████| 78/78 [00:17<00:00,  4.53it/s]\n"
     ]
    },
    {
     "name": "stdout",
     "output_type": "stream",
     "text": [
      "validation accuracy: 0.9657451923076923\n",
      "Valid Error 3.425 %\n",
      "Epoch 7/10\n"
     ]
    },
    {
     "name": "stderr",
     "output_type": "stream",
     "text": [
      "100%|██████████| 390/390 [00:50<00:00,  7.78it/s]\n",
      "100%|██████████| 78/78 [00:18<00:00,  4.23it/s]\n"
     ]
    },
    {
     "name": "stdout",
     "output_type": "stream",
     "text": [
      "validation accuracy: 0.9719551282051282\n",
      "Valid Error 2.804 %\n",
      "Epoch 8/10\n"
     ]
    },
    {
     "name": "stderr",
     "output_type": "stream",
     "text": [
      "100%|██████████| 390/390 [00:49<00:00,  7.81it/s]\n",
      "100%|██████████| 78/78 [00:18<00:00,  4.22it/s]\n"
     ]
    },
    {
     "name": "stdout",
     "output_type": "stream",
     "text": [
      "validation accuracy: 0.9720552884615384\n",
      "Valid Error 2.794 %\n",
      "Epoch 9/10\n"
     ]
    },
    {
     "name": "stderr",
     "output_type": "stream",
     "text": [
      "100%|██████████| 390/390 [00:50<00:00,  7.68it/s]\n",
      "100%|██████████| 78/78 [00:17<00:00,  4.36it/s]\n"
     ]
    },
    {
     "name": "stdout",
     "output_type": "stream",
     "text": [
      "validation accuracy: 0.971854967948718\n",
      "Valid Error 2.815 %\n",
      "Epoch 10/10\n"
     ]
    },
    {
     "name": "stderr",
     "output_type": "stream",
     "text": [
      "100%|██████████| 390/390 [00:50<00:00,  7.69it/s]\n",
      "100%|██████████| 78/78 [00:17<00:00,  4.39it/s]\n"
     ]
    },
    {
     "name": "stdout",
     "output_type": "stream",
     "text": [
      "validation accuracy: 0.9749599358974359\n",
      "Valid Error 2.504 %\n",
      "Trying config: {'batch_size': 128, 'lr': 0.001, 'epochs': 10, 'hidden_units': 1200, 'experiment': 'classification', 'dropout': False, 'train_samples': 5, 'test_samples': 10, 'x_shape': 784, 'classes': 10, 'mu_init': [-0.2, 0.2], 'rho_init': [-5, -4], 'prior_init': [0.25, -1, -7]}\n",
      "Epoch 1/10\n"
     ]
    },
    {
     "name": "stderr",
     "output_type": "stream",
     "text": [
      "100%|██████████| 390/390 [00:51<00:00,  7.59it/s]\n",
      "100%|██████████| 78/78 [00:17<00:00,  4.48it/s]\n"
     ]
    },
    {
     "name": "stdout",
     "output_type": "stream",
     "text": [
      "validation accuracy: 0.9547275641025641\n",
      "Valid Error 4.527 %\n",
      "Epoch 2/10\n"
     ]
    },
    {
     "name": "stderr",
     "output_type": "stream",
     "text": [
      "100%|██████████| 390/390 [00:49<00:00,  7.86it/s]\n",
      "100%|██████████| 78/78 [00:17<00:00,  4.46it/s]\n"
     ]
    },
    {
     "name": "stdout",
     "output_type": "stream",
     "text": [
      "validation accuracy: 0.9632411858974359\n",
      "Valid Error 3.676 %\n",
      "Epoch 3/10\n"
     ]
    },
    {
     "name": "stderr",
     "output_type": "stream",
     "text": [
      "100%|██████████| 390/390 [00:50<00:00,  7.77it/s]\n",
      "100%|██████████| 78/78 [00:17<00:00,  4.50it/s]\n"
     ]
    },
    {
     "name": "stdout",
     "output_type": "stream",
     "text": [
      "validation accuracy: 0.9691506410256411\n",
      "Valid Error 3.085 %\n",
      "Epoch 4/10\n"
     ]
    },
    {
     "name": "stderr",
     "output_type": "stream",
     "text": [
      "100%|██████████| 390/390 [00:50<00:00,  7.77it/s]\n",
      "100%|██████████| 78/78 [00:17<00:00,  4.37it/s]\n"
     ]
    },
    {
     "name": "stdout",
     "output_type": "stream",
     "text": [
      "validation accuracy: 0.96875\n",
      "Valid Error 3.125 %\n",
      "Epoch 5/10\n"
     ]
    },
    {
     "name": "stderr",
     "output_type": "stream",
     "text": [
      "100%|██████████| 390/390 [00:49<00:00,  7.82it/s]\n",
      "100%|██████████| 78/78 [00:17<00:00,  4.42it/s]\n"
     ]
    },
    {
     "name": "stdout",
     "output_type": "stream",
     "text": [
      "validation accuracy: 0.9698517628205128\n",
      "Valid Error 3.015 %\n",
      "Epoch 6/10\n"
     ]
    },
    {
     "name": "stderr",
     "output_type": "stream",
     "text": [
      "100%|██████████| 390/390 [00:50<00:00,  7.80it/s]\n",
      "100%|██████████| 78/78 [00:17<00:00,  4.38it/s]\n"
     ]
    },
    {
     "name": "stdout",
     "output_type": "stream",
     "text": [
      "validation accuracy: 0.9688501602564102\n",
      "Valid Error 3.115 %\n",
      "Epoch 7/10\n"
     ]
    },
    {
     "name": "stderr",
     "output_type": "stream",
     "text": [
      "100%|██████████| 390/390 [00:50<00:00,  7.77it/s]\n",
      "100%|██████████| 78/78 [00:18<00:00,  4.30it/s]\n"
     ]
    },
    {
     "name": "stdout",
     "output_type": "stream",
     "text": [
      "validation accuracy: 0.9719551282051282\n",
      "Valid Error 2.804 %\n",
      "Epoch 8/10\n"
     ]
    },
    {
     "name": "stderr",
     "output_type": "stream",
     "text": [
      "100%|██████████| 390/390 [00:49<00:00,  7.96it/s]\n",
      "100%|██████████| 78/78 [00:17<00:00,  4.44it/s]\n"
     ]
    },
    {
     "name": "stdout",
     "output_type": "stream",
     "text": [
      "validation accuracy: 0.9699519230769231\n",
      "Valid Error 3.005 %\n",
      "Epoch 9/10\n"
     ]
    },
    {
     "name": "stderr",
     "output_type": "stream",
     "text": [
      "100%|██████████| 390/390 [00:50<00:00,  7.72it/s]\n",
      "100%|██████████| 78/78 [00:17<00:00,  4.50it/s]\n"
     ]
    },
    {
     "name": "stdout",
     "output_type": "stream",
     "text": [
      "validation accuracy: 0.9692508012820513\n",
      "Valid Error 3.075 %\n",
      "Epoch 10/10\n"
     ]
    },
    {
     "name": "stderr",
     "output_type": "stream",
     "text": [
      "100%|██████████| 390/390 [00:49<00:00,  7.83it/s]\n",
      "100%|██████████| 78/78 [00:17<00:00,  4.48it/s]\n"
     ]
    },
    {
     "name": "stdout",
     "output_type": "stream",
     "text": [
      "validation accuracy: 0.9759615384615384\n",
      "Valid Error 2.404 %\n",
      "Trying config: {'batch_size': 128, 'lr': 0.001, 'epochs': 10, 'hidden_units': 1200, 'experiment': 'classification', 'dropout': False, 'train_samples': 5, 'test_samples': 10, 'x_shape': 784, 'classes': 10, 'mu_init': [-0.2, 0.2], 'rho_init': [-5, -4], 'prior_init': [0.75, 0, -6]}\n",
      "Epoch 1/10\n"
     ]
    },
    {
     "name": "stderr",
     "output_type": "stream",
     "text": [
      "100%|██████████| 390/390 [00:50<00:00,  7.79it/s]\n",
      "100%|██████████| 78/78 [00:17<00:00,  4.51it/s]\n"
     ]
    },
    {
     "name": "stdout",
     "output_type": "stream",
     "text": [
      "validation accuracy: 0.9543269230769231\n",
      "Valid Error 4.567 %\n",
      "Epoch 2/10\n"
     ]
    },
    {
     "name": "stderr",
     "output_type": "stream",
     "text": [
      "100%|██████████| 390/390 [00:49<00:00,  7.88it/s]\n",
      "100%|██████████| 78/78 [00:17<00:00,  4.51it/s]\n"
     ]
    },
    {
     "name": "stdout",
     "output_type": "stream",
     "text": [
      "validation accuracy: 0.9647435897435898\n",
      "Valid Error 3.526 %\n",
      "Epoch 3/10\n"
     ]
    },
    {
     "name": "stderr",
     "output_type": "stream",
     "text": [
      "100%|██████████| 390/390 [00:50<00:00,  7.75it/s]\n",
      "100%|██████████| 78/78 [00:17<00:00,  4.50it/s]\n"
     ]
    },
    {
     "name": "stdout",
     "output_type": "stream",
     "text": [
      "validation accuracy: 0.9686498397435898\n",
      "Valid Error 3.135 %\n",
      "Epoch 4/10\n"
     ]
    },
    {
     "name": "stderr",
     "output_type": "stream",
     "text": [
      "100%|██████████| 390/390 [00:49<00:00,  7.92it/s]\n",
      "100%|██████████| 78/78 [00:17<00:00,  4.52it/s]\n"
     ]
    },
    {
     "name": "stdout",
     "output_type": "stream",
     "text": [
      "validation accuracy: 0.9666466346153846\n",
      "Valid Error 3.335 %\n",
      "Epoch 5/10\n"
     ]
    },
    {
     "name": "stderr",
     "output_type": "stream",
     "text": [
      "100%|██████████| 390/390 [00:50<00:00,  7.72it/s]\n",
      "100%|██████████| 78/78 [00:17<00:00,  4.43it/s]\n"
     ]
    },
    {
     "name": "stdout",
     "output_type": "stream",
     "text": [
      "validation accuracy: 0.9721554487179487\n",
      "Valid Error 2.784 %\n",
      "Epoch 6/10\n"
     ]
    },
    {
     "name": "stderr",
     "output_type": "stream",
     "text": [
      "100%|██████████| 390/390 [00:49<00:00,  7.82it/s]\n",
      "100%|██████████| 78/78 [00:17<00:00,  4.35it/s]\n"
     ]
    },
    {
     "name": "stdout",
     "output_type": "stream",
     "text": [
      "validation accuracy: 0.9677483974358975\n",
      "Valid Error 3.225 %\n",
      "Epoch 7/10\n"
     ]
    },
    {
     "name": "stderr",
     "output_type": "stream",
     "text": [
      "100%|██████████| 390/390 [00:50<00:00,  7.79it/s]\n",
      "100%|██████████| 78/78 [00:19<00:00,  4.07it/s]\n"
     ]
    },
    {
     "name": "stdout",
     "output_type": "stream",
     "text": [
      "validation accuracy: 0.9735576923076923\n",
      "Valid Error 2.644 %\n",
      "Epoch 8/10\n"
     ]
    },
    {
     "name": "stderr",
     "output_type": "stream",
     "text": [
      "100%|██████████| 390/390 [00:49<00:00,  7.83it/s]\n",
      "100%|██████████| 78/78 [00:17<00:00,  4.45it/s]\n"
     ]
    },
    {
     "name": "stdout",
     "output_type": "stream",
     "text": [
      "validation accuracy: 0.9722556089743589\n",
      "Valid Error 2.774 %\n",
      "Epoch 9/10\n"
     ]
    },
    {
     "name": "stderr",
     "output_type": "stream",
     "text": [
      "100%|██████████| 390/390 [00:49<00:00,  7.91it/s]\n",
      "100%|██████████| 78/78 [00:18<00:00,  4.27it/s]\n"
     ]
    },
    {
     "name": "stdout",
     "output_type": "stream",
     "text": [
      "validation accuracy: 0.9667467948717948\n",
      "Valid Error 3.325 %\n",
      "Epoch 10/10\n"
     ]
    },
    {
     "name": "stderr",
     "output_type": "stream",
     "text": [
      "100%|██████████| 390/390 [00:49<00:00,  7.82it/s]\n",
      "100%|██████████| 78/78 [00:17<00:00,  4.54it/s]\n"
     ]
    },
    {
     "name": "stdout",
     "output_type": "stream",
     "text": [
      "validation accuracy: 0.9710536858974359\n",
      "Valid Error 2.895 %\n",
      "Trying config: {'batch_size': 128, 'lr': 0.001, 'epochs': 10, 'hidden_units': 1200, 'experiment': 'classification', 'dropout': False, 'train_samples': 5, 'test_samples': 10, 'x_shape': 784, 'classes': 10, 'mu_init': [-0.2, 0.2], 'rho_init': [-5, -4], 'prior_init': [0.75, 0, -7]}\n",
      "Epoch 1/10\n"
     ]
    },
    {
     "name": "stderr",
     "output_type": "stream",
     "text": [
      "100%|██████████| 390/390 [00:49<00:00,  7.93it/s]\n",
      "100%|██████████| 78/78 [00:17<00:00,  4.43it/s]\n"
     ]
    },
    {
     "name": "stdout",
     "output_type": "stream",
     "text": [
      "validation accuracy: 0.9546274038461539\n",
      "Valid Error 4.537 %\n",
      "Epoch 2/10\n"
     ]
    },
    {
     "name": "stderr",
     "output_type": "stream",
     "text": [
      "100%|██████████| 390/390 [00:49<00:00,  7.82it/s]\n",
      "100%|██████████| 78/78 [00:18<00:00,  4.22it/s]\n"
     ]
    },
    {
     "name": "stdout",
     "output_type": "stream",
     "text": [
      "validation accuracy: 0.9671474358974359\n",
      "Valid Error 3.285 %\n",
      "Epoch 3/10\n"
     ]
    },
    {
     "name": "stderr",
     "output_type": "stream",
     "text": [
      "100%|██████████| 390/390 [00:49<00:00,  7.88it/s]\n",
      "100%|██████████| 78/78 [00:17<00:00,  4.45it/s]\n"
     ]
    },
    {
     "name": "stdout",
     "output_type": "stream",
     "text": [
      "validation accuracy: 0.9693509615384616\n",
      "Valid Error 3.065 %\n",
      "Epoch 4/10\n"
     ]
    },
    {
     "name": "stderr",
     "output_type": "stream",
     "text": [
      "100%|██████████| 390/390 [00:50<00:00,  7.79it/s]\n",
      "100%|██████████| 78/78 [00:17<00:00,  4.43it/s]\n"
     ]
    },
    {
     "name": "stdout",
     "output_type": "stream",
     "text": [
      "validation accuracy: 0.9688501602564102\n",
      "Valid Error 3.115 %\n",
      "Epoch 5/10\n"
     ]
    },
    {
     "name": "stderr",
     "output_type": "stream",
     "text": [
      "100%|██████████| 390/390 [00:50<00:00,  7.78it/s]\n",
      "100%|██████████| 78/78 [00:17<00:00,  4.43it/s]\n"
     ]
    },
    {
     "name": "stdout",
     "output_type": "stream",
     "text": [
      "validation accuracy: 0.9717548076923077\n",
      "Valid Error 2.825 %\n",
      "Epoch 6/10\n"
     ]
    },
    {
     "name": "stderr",
     "output_type": "stream",
     "text": [
      "100%|██████████| 390/390 [00:50<00:00,  7.74it/s]\n",
      "100%|██████████| 78/78 [00:18<00:00,  4.29it/s]\n"
     ]
    },
    {
     "name": "stdout",
     "output_type": "stream",
     "text": [
      "validation accuracy: 0.9728565705128205\n",
      "Valid Error 2.714 %\n",
      "Epoch 7/10\n"
     ]
    },
    {
     "name": "stderr",
     "output_type": "stream",
     "text": [
      "100%|██████████| 390/390 [00:50<00:00,  7.80it/s]\n",
      "100%|██████████| 78/78 [00:18<00:00,  4.17it/s]\n"
     ]
    },
    {
     "name": "stdout",
     "output_type": "stream",
     "text": [
      "validation accuracy: 0.9678485576923077\n",
      "Valid Error 3.215 %\n",
      "Epoch 8/10\n"
     ]
    },
    {
     "name": "stderr",
     "output_type": "stream",
     "text": [
      "100%|██████████| 390/390 [00:49<00:00,  7.85it/s]\n",
      "100%|██████████| 78/78 [00:18<00:00,  4.16it/s]\n"
     ]
    },
    {
     "name": "stdout",
     "output_type": "stream",
     "text": [
      "validation accuracy: 0.9651442307692307\n",
      "Valid Error 3.486 %\n",
      "Epoch 9/10\n"
     ]
    },
    {
     "name": "stderr",
     "output_type": "stream",
     "text": [
      "100%|██████████| 390/390 [00:51<00:00,  7.64it/s]\n",
      "100%|██████████| 78/78 [00:17<00:00,  4.40it/s]\n"
     ]
    },
    {
     "name": "stdout",
     "output_type": "stream",
     "text": [
      "validation accuracy: 0.9748597756410257\n",
      "Valid Error 2.514 %\n",
      "Epoch 10/10\n"
     ]
    },
    {
     "name": "stderr",
     "output_type": "stream",
     "text": [
      "100%|██████████| 390/390 [00:50<00:00,  7.71it/s]\n",
      "100%|██████████| 78/78 [00:18<00:00,  4.30it/s]\n"
     ]
    },
    {
     "name": "stdout",
     "output_type": "stream",
     "text": [
      "validation accuracy: 0.971854967948718\n",
      "Valid Error 2.815 %\n",
      "Trying config: {'batch_size': 128, 'lr': 0.001, 'epochs': 10, 'hidden_units': 1200, 'experiment': 'classification', 'dropout': False, 'train_samples': 5, 'test_samples': 10, 'x_shape': 784, 'classes': 10, 'mu_init': [-0.2, 0.2], 'rho_init': [-5, -4], 'prior_init': [0.75, -1, -6]}\n",
      "Epoch 1/10\n"
     ]
    },
    {
     "name": "stderr",
     "output_type": "stream",
     "text": [
      "100%|██████████| 390/390 [00:50<00:00,  7.76it/s]\n",
      "100%|██████████| 78/78 [00:18<00:00,  4.27it/s]\n"
     ]
    },
    {
     "name": "stdout",
     "output_type": "stream",
     "text": [
      "validation accuracy: 0.9557291666666666\n",
      "Valid Error 4.427 %\n",
      "Epoch 2/10\n"
     ]
    },
    {
     "name": "stderr",
     "output_type": "stream",
     "text": [
      "100%|██████████| 390/390 [00:50<00:00,  7.78it/s]\n",
      "100%|██████████| 78/78 [00:17<00:00,  4.49it/s]\n"
     ]
    },
    {
     "name": "stdout",
     "output_type": "stream",
     "text": [
      "validation accuracy: 0.9704527243589743\n",
      "Valid Error 2.955 %\n",
      "Epoch 3/10\n"
     ]
    },
    {
     "name": "stderr",
     "output_type": "stream",
     "text": [
      "100%|██████████| 390/390 [00:49<00:00,  7.94it/s]\n",
      "100%|██████████| 78/78 [00:18<00:00,  4.33it/s]\n"
     ]
    },
    {
     "name": "stdout",
     "output_type": "stream",
     "text": [
      "validation accuracy: 0.9649439102564102\n",
      "Valid Error 3.506 %\n",
      "Epoch 4/10\n"
     ]
    },
    {
     "name": "stderr",
     "output_type": "stream",
     "text": [
      "100%|██████████| 390/390 [00:50<00:00,  7.77it/s]\n",
      "100%|██████████| 78/78 [00:18<00:00,  4.21it/s]\n"
     ]
    },
    {
     "name": "stdout",
     "output_type": "stream",
     "text": [
      "validation accuracy: 0.9661458333333334\n",
      "Valid Error 3.385 %\n",
      "Epoch 5/10\n"
     ]
    },
    {
     "name": "stderr",
     "output_type": "stream",
     "text": [
      "100%|██████████| 390/390 [00:50<00:00,  7.77it/s]\n",
      "100%|██████████| 78/78 [00:17<00:00,  4.34it/s]\n"
     ]
    },
    {
     "name": "stdout",
     "output_type": "stream",
     "text": [
      "validation accuracy: 0.9691506410256411\n",
      "Valid Error 3.085 %\n",
      "Epoch 6/10\n"
     ]
    },
    {
     "name": "stderr",
     "output_type": "stream",
     "text": [
      "100%|██████████| 390/390 [00:49<00:00,  7.82it/s]\n",
      "100%|██████████| 78/78 [00:17<00:00,  4.54it/s]\n"
     ]
    },
    {
     "name": "stdout",
     "output_type": "stream",
     "text": [
      "validation accuracy: 0.9702524038461539\n",
      "Valid Error 2.975 %\n",
      "Epoch 7/10\n"
     ]
    },
    {
     "name": "stderr",
     "output_type": "stream",
     "text": [
      "100%|██████████| 390/390 [00:49<00:00,  7.82it/s]\n",
      "100%|██████████| 78/78 [00:18<00:00,  4.32it/s]\n"
     ]
    },
    {
     "name": "stdout",
     "output_type": "stream",
     "text": [
      "validation accuracy: 0.9669471153846154\n",
      "Valid Error 3.305 %\n",
      "Epoch 8/10\n"
     ]
    },
    {
     "name": "stderr",
     "output_type": "stream",
     "text": [
      "100%|██████████| 390/390 [00:49<00:00,  7.84it/s]\n",
      "100%|██████████| 78/78 [00:19<00:00,  4.04it/s]\n"
     ]
    },
    {
     "name": "stdout",
     "output_type": "stream",
     "text": [
      "validation accuracy: 0.969551282051282\n",
      "Valid Error 3.045 %\n",
      "Epoch 9/10\n"
     ]
    },
    {
     "name": "stderr",
     "output_type": "stream",
     "text": [
      "100%|██████████| 390/390 [00:48<00:00,  7.98it/s]\n",
      "100%|██████████| 78/78 [00:18<00:00,  4.23it/s]\n"
     ]
    },
    {
     "name": "stdout",
     "output_type": "stream",
     "text": [
      "validation accuracy: 0.9762620192307693\n",
      "Valid Error 2.374 %\n",
      "Epoch 10/10\n"
     ]
    },
    {
     "name": "stderr",
     "output_type": "stream",
     "text": [
      "100%|██████████| 390/390 [00:49<00:00,  7.88it/s]\n",
      "100%|██████████| 78/78 [00:17<00:00,  4.41it/s]\n"
     ]
    },
    {
     "name": "stdout",
     "output_type": "stream",
     "text": [
      "validation accuracy: 0.9736578525641025\n",
      "Valid Error 2.634 %\n",
      "Trying config: {'batch_size': 128, 'lr': 0.001, 'epochs': 10, 'hidden_units': 1200, 'experiment': 'classification', 'dropout': False, 'train_samples': 5, 'test_samples': 10, 'x_shape': 784, 'classes': 10, 'mu_init': [-0.2, 0.2], 'rho_init': [-5, -4], 'prior_init': [0.75, -1, -7]}\n",
      "Epoch 1/10\n"
     ]
    },
    {
     "name": "stderr",
     "output_type": "stream",
     "text": [
      "100%|██████████| 390/390 [00:49<00:00,  7.95it/s]\n",
      "100%|██████████| 78/78 [00:17<00:00,  4.38it/s]\n"
     ]
    },
    {
     "name": "stdout",
     "output_type": "stream",
     "text": [
      "validation accuracy: 0.950020032051282\n",
      "Valid Error 4.998 %\n",
      "Epoch 2/10\n"
     ]
    },
    {
     "name": "stderr",
     "output_type": "stream",
     "text": [
      "100%|██████████| 390/390 [00:50<00:00,  7.75it/s]\n",
      "100%|██████████| 78/78 [00:17<00:00,  4.44it/s]\n"
     ]
    },
    {
     "name": "stdout",
     "output_type": "stream",
     "text": [
      "validation accuracy: 0.9644431089743589\n",
      "Valid Error 3.556 %\n",
      "Epoch 3/10\n"
     ]
    },
    {
     "name": "stderr",
     "output_type": "stream",
     "text": [
      "100%|██████████| 390/390 [00:50<00:00,  7.80it/s]\n",
      "100%|██████████| 78/78 [00:17<00:00,  4.52it/s]\n"
     ]
    },
    {
     "name": "stdout",
     "output_type": "stream",
     "text": [
      "validation accuracy: 0.9704527243589743\n",
      "Valid Error 2.955 %\n",
      "Epoch 4/10\n"
     ]
    },
    {
     "name": "stderr",
     "output_type": "stream",
     "text": [
      "100%|██████████| 390/390 [00:50<00:00,  7.77it/s]\n",
      "100%|██████████| 78/78 [00:16<00:00,  4.59it/s]\n"
     ]
    },
    {
     "name": "stdout",
     "output_type": "stream",
     "text": [
      "validation accuracy: 0.9691506410256411\n",
      "Valid Error 3.085 %\n",
      "Epoch 5/10\n"
     ]
    },
    {
     "name": "stderr",
     "output_type": "stream",
     "text": [
      "100%|██████████| 390/390 [00:49<00:00,  7.94it/s]\n",
      "100%|██████████| 78/78 [00:17<00:00,  4.42it/s]\n"
     ]
    },
    {
     "name": "stdout",
     "output_type": "stream",
     "text": [
      "validation accuracy: 0.9675480769230769\n",
      "Valid Error 3.245 %\n",
      "Epoch 6/10\n"
     ]
    },
    {
     "name": "stderr",
     "output_type": "stream",
     "text": [
      "100%|██████████| 390/390 [00:50<00:00,  7.79it/s]\n",
      "100%|██████████| 78/78 [00:17<00:00,  4.54it/s]\n"
     ]
    },
    {
     "name": "stdout",
     "output_type": "stream",
     "text": [
      "validation accuracy: 0.9691506410256411\n",
      "Valid Error 3.085 %\n",
      "Epoch 7/10\n"
     ]
    },
    {
     "name": "stderr",
     "output_type": "stream",
     "text": [
      "100%|██████████| 390/390 [00:49<00:00,  7.93it/s]\n",
      "100%|██████████| 78/78 [00:17<00:00,  4.39it/s]\n"
     ]
    },
    {
     "name": "stdout",
     "output_type": "stream",
     "text": [
      "validation accuracy: 0.9732572115384616\n",
      "Valid Error 2.674 %\n",
      "Epoch 8/10\n"
     ]
    },
    {
     "name": "stderr",
     "output_type": "stream",
     "text": [
      "100%|██████████| 390/390 [00:49<00:00,  7.81it/s]\n",
      "100%|██████████| 78/78 [00:17<00:00,  4.46it/s]\n"
     ]
    },
    {
     "name": "stdout",
     "output_type": "stream",
     "text": [
      "validation accuracy: 0.9647435897435898\n",
      "Valid Error 3.526 %\n",
      "Epoch 9/10\n"
     ]
    },
    {
     "name": "stderr",
     "output_type": "stream",
     "text": [
      "100%|██████████| 390/390 [00:49<00:00,  7.91it/s]\n",
      "100%|██████████| 78/78 [00:17<00:00,  4.38it/s]\n"
     ]
    },
    {
     "name": "stdout",
     "output_type": "stream",
     "text": [
      "validation accuracy: 0.9708533653846154\n",
      "Valid Error 2.915 %\n",
      "Epoch 10/10\n"
     ]
    },
    {
     "name": "stderr",
     "output_type": "stream",
     "text": [
      "100%|██████████| 390/390 [00:50<00:00,  7.78it/s]\n",
      "100%|██████████| 78/78 [00:17<00:00,  4.41it/s]\n"
     ]
    },
    {
     "name": "stdout",
     "output_type": "stream",
     "text": [
      "validation accuracy: 0.9729567307692307\n",
      "Valid Error 2.704 %\n",
      "Trying config: {'batch_size': 128, 'lr': 0.0001, 'epochs': 10, 'hidden_units': 1200, 'experiment': 'classification', 'dropout': False, 'train_samples': 1, 'test_samples': 10, 'x_shape': 784, 'classes': 10, 'mu_init': [-0.2, 0.2], 'rho_init': [-5, -4], 'prior_init': [0.25, 0, -6]}\n",
      "Epoch 1/10\n"
     ]
    },
    {
     "name": "stderr",
     "output_type": "stream",
     "text": [
      "100%|██████████| 390/390 [00:15<00:00, 25.54it/s]\n",
      "100%|██████████| 78/78 [00:17<00:00,  4.56it/s]\n"
     ]
    },
    {
     "name": "stdout",
     "output_type": "stream",
     "text": [
      "validation accuracy: 0.9122596153846154\n",
      "Valid Error 8.774 %\n",
      "Epoch 2/10\n"
     ]
    },
    {
     "name": "stderr",
     "output_type": "stream",
     "text": [
      "100%|██████████| 390/390 [00:14<00:00, 26.43it/s]\n",
      "100%|██████████| 78/78 [00:17<00:00,  4.58it/s]\n"
     ]
    },
    {
     "name": "stdout",
     "output_type": "stream",
     "text": [
      "validation accuracy: 0.9290865384615384\n",
      "Valid Error 7.091 %\n",
      "Epoch 3/10\n"
     ]
    },
    {
     "name": "stderr",
     "output_type": "stream",
     "text": [
      "100%|██████████| 390/390 [00:15<00:00, 24.58it/s]\n",
      "100%|██████████| 78/78 [00:17<00:00,  4.41it/s]\n"
     ]
    },
    {
     "name": "stdout",
     "output_type": "stream",
     "text": [
      "validation accuracy: 0.9459134615384616\n",
      "Valid Error 5.409 %\n",
      "Epoch 4/10\n"
     ]
    },
    {
     "name": "stderr",
     "output_type": "stream",
     "text": [
      "100%|██████████| 390/390 [00:15<00:00, 25.47it/s]\n",
      "100%|██████████| 78/78 [00:17<00:00,  4.46it/s]\n"
     ]
    },
    {
     "name": "stdout",
     "output_type": "stream",
     "text": [
      "validation accuracy: 0.9525240384615384\n",
      "Valid Error 4.748 %\n",
      "Epoch 5/10\n"
     ]
    },
    {
     "name": "stderr",
     "output_type": "stream",
     "text": [
      "100%|██████████| 390/390 [00:15<00:00, 24.65it/s]\n",
      "100%|██████████| 78/78 [00:17<00:00,  4.59it/s]\n"
     ]
    },
    {
     "name": "stdout",
     "output_type": "stream",
     "text": [
      "validation accuracy: 0.9565304487179487\n",
      "Valid Error 4.347 %\n",
      "Epoch 6/10\n"
     ]
    },
    {
     "name": "stderr",
     "output_type": "stream",
     "text": [
      "100%|██████████| 390/390 [00:15<00:00, 25.57it/s]\n",
      "100%|██████████| 78/78 [00:16<00:00,  4.64it/s]\n"
     ]
    },
    {
     "name": "stdout",
     "output_type": "stream",
     "text": [
      "validation accuracy: 0.9595352564102564\n",
      "Valid Error 4.046 %\n",
      "Epoch 7/10\n"
     ]
    },
    {
     "name": "stderr",
     "output_type": "stream",
     "text": [
      "100%|██████████| 390/390 [00:16<00:00, 24.37it/s]\n",
      "100%|██████████| 78/78 [00:17<00:00,  4.58it/s]\n"
     ]
    },
    {
     "name": "stdout",
     "output_type": "stream",
     "text": [
      "validation accuracy: 0.9633413461538461\n",
      "Valid Error 3.666 %\n",
      "Epoch 8/10\n"
     ]
    },
    {
     "name": "stderr",
     "output_type": "stream",
     "text": [
      "100%|██████████| 390/390 [00:16<00:00, 24.13it/s]\n",
      "100%|██████████| 78/78 [00:17<00:00,  4.58it/s]\n"
     ]
    },
    {
     "name": "stdout",
     "output_type": "stream",
     "text": [
      "validation accuracy: 0.9636418269230769\n",
      "Valid Error 3.636 %\n",
      "Epoch 9/10\n"
     ]
    },
    {
     "name": "stderr",
     "output_type": "stream",
     "text": [
      "100%|██████████| 390/390 [00:16<00:00, 24.31it/s]\n",
      "100%|██████████| 78/78 [00:17<00:00,  4.59it/s]\n"
     ]
    },
    {
     "name": "stdout",
     "output_type": "stream",
     "text": [
      "validation accuracy: 0.9614383012820513\n",
      "Valid Error 3.856 %\n",
      "Epoch 10/10\n"
     ]
    },
    {
     "name": "stderr",
     "output_type": "stream",
     "text": [
      "100%|██████████| 390/390 [00:15<00:00, 25.20it/s]\n",
      "100%|██████████| 78/78 [00:17<00:00,  4.58it/s]\n"
     ]
    },
    {
     "name": "stdout",
     "output_type": "stream",
     "text": [
      "validation accuracy: 0.9659455128205128\n",
      "Valid Error 3.405 %\n",
      "Trying config: {'batch_size': 128, 'lr': 0.0001, 'epochs': 10, 'hidden_units': 1200, 'experiment': 'classification', 'dropout': False, 'train_samples': 1, 'test_samples': 10, 'x_shape': 784, 'classes': 10, 'mu_init': [-0.2, 0.2], 'rho_init': [-5, -4], 'prior_init': [0.25, 0, -7]}\n",
      "Epoch 1/10\n"
     ]
    },
    {
     "name": "stderr",
     "output_type": "stream",
     "text": [
      "100%|██████████| 390/390 [00:15<00:00, 25.11it/s]\n",
      "100%|██████████| 78/78 [00:17<00:00,  4.54it/s]\n"
     ]
    },
    {
     "name": "stdout",
     "output_type": "stream",
     "text": [
      "validation accuracy: 0.9163661858974359\n",
      "Valid Error 8.363 %\n",
      "Epoch 2/10\n"
     ]
    },
    {
     "name": "stderr",
     "output_type": "stream",
     "text": [
      "100%|██████████| 390/390 [00:15<00:00, 25.55it/s]\n",
      "100%|██████████| 78/78 [00:17<00:00,  4.48it/s]\n"
     ]
    },
    {
     "name": "stdout",
     "output_type": "stream",
     "text": [
      "validation accuracy: 0.9356971153846154\n",
      "Valid Error 6.43 %\n",
      "Epoch 3/10\n"
     ]
    },
    {
     "name": "stderr",
     "output_type": "stream",
     "text": [
      "100%|██████████| 390/390 [00:15<00:00, 24.88it/s]\n",
      "100%|██████████| 78/78 [00:18<00:00,  4.26it/s]\n"
     ]
    },
    {
     "name": "stdout",
     "output_type": "stream",
     "text": [
      "validation accuracy: 0.9428084935897436\n",
      "Valid Error 5.719 %\n",
      "Epoch 4/10\n"
     ]
    },
    {
     "name": "stderr",
     "output_type": "stream",
     "text": [
      "100%|██████████| 390/390 [00:15<00:00, 25.76it/s]\n",
      "100%|██████████| 78/78 [00:17<00:00,  4.48it/s]\n"
     ]
    },
    {
     "name": "stdout",
     "output_type": "stream",
     "text": [
      "validation accuracy: 0.9522235576923077\n",
      "Valid Error 4.778 %\n",
      "Epoch 5/10\n"
     ]
    },
    {
     "name": "stderr",
     "output_type": "stream",
     "text": [
      "100%|██████████| 390/390 [00:15<00:00, 25.92it/s]\n",
      "100%|██████████| 78/78 [00:17<00:00,  4.49it/s]\n"
     ]
    },
    {
     "name": "stdout",
     "output_type": "stream",
     "text": [
      "validation accuracy: 0.9585336538461539\n",
      "Valid Error 4.147 %\n",
      "Epoch 6/10\n"
     ]
    },
    {
     "name": "stderr",
     "output_type": "stream",
     "text": [
      "100%|██████████| 390/390 [00:15<00:00, 25.12it/s]\n",
      "100%|██████████| 78/78 [00:17<00:00,  4.46it/s]\n"
     ]
    },
    {
     "name": "stdout",
     "output_type": "stream",
     "text": [
      "validation accuracy: 0.9611378205128205\n",
      "Valid Error 3.886 %\n",
      "Epoch 7/10\n"
     ]
    },
    {
     "name": "stderr",
     "output_type": "stream",
     "text": [
      "100%|██████████| 390/390 [00:15<00:00, 25.18it/s]\n",
      "100%|██████████| 78/78 [00:17<00:00,  4.34it/s]\n"
     ]
    },
    {
     "name": "stdout",
     "output_type": "stream",
     "text": [
      "validation accuracy: 0.9621394230769231\n",
      "Valid Error 3.786 %\n",
      "Epoch 8/10\n"
     ]
    },
    {
     "name": "stderr",
     "output_type": "stream",
     "text": [
      "100%|██████████| 390/390 [00:15<00:00, 25.61it/s]\n",
      "100%|██████████| 78/78 [00:18<00:00,  4.14it/s]\n"
     ]
    },
    {
     "name": "stdout",
     "output_type": "stream",
     "text": [
      "validation accuracy: 0.9630408653846154\n",
      "Valid Error 3.696 %\n",
      "Epoch 9/10\n"
     ]
    },
    {
     "name": "stderr",
     "output_type": "stream",
     "text": [
      "100%|██████████| 390/390 [00:15<00:00, 25.76it/s]\n",
      "100%|██████████| 78/78 [00:18<00:00,  4.23it/s]\n"
     ]
    },
    {
     "name": "stdout",
     "output_type": "stream",
     "text": [
      "validation accuracy: 0.9646434294871795\n",
      "Valid Error 3.536 %\n",
      "Epoch 10/10\n"
     ]
    },
    {
     "name": "stderr",
     "output_type": "stream",
     "text": [
      "100%|██████████| 390/390 [00:15<00:00, 25.60it/s]\n",
      "100%|██████████| 78/78 [00:17<00:00,  4.46it/s]\n"
     ]
    },
    {
     "name": "stdout",
     "output_type": "stream",
     "text": [
      "validation accuracy: 0.9659455128205128\n",
      "Valid Error 3.405 %\n",
      "Trying config: {'batch_size': 128, 'lr': 0.0001, 'epochs': 10, 'hidden_units': 1200, 'experiment': 'classification', 'dropout': False, 'train_samples': 1, 'test_samples': 10, 'x_shape': 784, 'classes': 10, 'mu_init': [-0.2, 0.2], 'rho_init': [-5, -4], 'prior_init': [0.25, -1, -6]}\n",
      "Epoch 1/10\n"
     ]
    },
    {
     "name": "stderr",
     "output_type": "stream",
     "text": [
      "100%|██████████| 390/390 [00:15<00:00, 25.84it/s]\n",
      "100%|██████████| 78/78 [00:17<00:00,  4.49it/s]\n"
     ]
    },
    {
     "name": "stdout",
     "output_type": "stream",
     "text": [
      "validation accuracy: 0.9081530448717948\n",
      "Valid Error 9.185 %\n",
      "Epoch 2/10\n"
     ]
    },
    {
     "name": "stderr",
     "output_type": "stream",
     "text": [
      "100%|██████████| 390/390 [00:15<00:00, 25.49it/s]\n",
      "100%|██████████| 78/78 [00:17<00:00,  4.53it/s]\n"
     ]
    },
    {
     "name": "stdout",
     "output_type": "stream",
     "text": [
      "validation accuracy: 0.9336939102564102\n",
      "Valid Error 6.631 %\n",
      "Epoch 3/10\n"
     ]
    },
    {
     "name": "stderr",
     "output_type": "stream",
     "text": [
      "100%|██████████| 390/390 [00:15<00:00, 24.50it/s]\n",
      "100%|██████████| 78/78 [00:17<00:00,  4.41it/s]\n"
     ]
    },
    {
     "name": "stdout",
     "output_type": "stream",
     "text": [
      "validation accuracy: 0.9417067307692307\n",
      "Valid Error 5.829 %\n",
      "Epoch 4/10\n"
     ]
    },
    {
     "name": "stderr",
     "output_type": "stream",
     "text": [
      "100%|██████████| 390/390 [00:15<00:00, 24.39it/s]\n",
      "100%|██████████| 78/78 [00:17<00:00,  4.45it/s]\n"
     ]
    },
    {
     "name": "stdout",
     "output_type": "stream",
     "text": [
      "validation accuracy: 0.9476161858974359\n",
      "Valid Error 5.238 %\n",
      "Epoch 5/10\n"
     ]
    },
    {
     "name": "stderr",
     "output_type": "stream",
     "text": [
      "100%|██████████| 390/390 [00:15<00:00, 25.90it/s]\n",
      "100%|██████████| 78/78 [00:17<00:00,  4.46it/s]\n"
     ]
    },
    {
     "name": "stdout",
     "output_type": "stream",
     "text": [
      "validation accuracy: 0.953125\n",
      "Valid Error 4.688 %\n",
      "Epoch 6/10\n"
     ]
    },
    {
     "name": "stderr",
     "output_type": "stream",
     "text": [
      "100%|██████████| 390/390 [00:15<00:00, 24.47it/s]\n",
      "100%|██████████| 78/78 [00:17<00:00,  4.55it/s]\n"
     ]
    },
    {
     "name": "stdout",
     "output_type": "stream",
     "text": [
      "validation accuracy: 0.9557291666666666\n",
      "Valid Error 4.427 %\n",
      "Epoch 7/10\n"
     ]
    },
    {
     "name": "stderr",
     "output_type": "stream",
     "text": [
      "100%|██████████| 390/390 [00:14<00:00, 26.30it/s]\n",
      "100%|██████████| 78/78 [00:17<00:00,  4.53it/s]\n"
     ]
    },
    {
     "name": "stdout",
     "output_type": "stream",
     "text": [
      "validation accuracy: 0.9565304487179487\n",
      "Valid Error 4.347 %\n",
      "Epoch 8/10\n"
     ]
    },
    {
     "name": "stderr",
     "output_type": "stream",
     "text": [
      "100%|██████████| 390/390 [00:14<00:00, 26.38it/s]\n",
      "100%|██████████| 78/78 [00:17<00:00,  4.47it/s]\n"
     ]
    },
    {
     "name": "stdout",
     "output_type": "stream",
     "text": [
      "validation accuracy: 0.961738782051282\n",
      "Valid Error 3.826 %\n",
      "Epoch 9/10\n"
     ]
    },
    {
     "name": "stderr",
     "output_type": "stream",
     "text": [
      "100%|██████████| 390/390 [00:15<00:00, 25.52it/s]\n",
      "100%|██████████| 78/78 [00:17<00:00,  4.48it/s]\n"
     ]
    },
    {
     "name": "stdout",
     "output_type": "stream",
     "text": [
      "validation accuracy: 0.9622395833333334\n",
      "Valid Error 3.776 %\n",
      "Epoch 10/10\n"
     ]
    },
    {
     "name": "stderr",
     "output_type": "stream",
     "text": [
      "100%|██████████| 390/390 [00:15<00:00, 25.66it/s]\n",
      "100%|██████████| 78/78 [00:17<00:00,  4.47it/s]\n"
     ]
    },
    {
     "name": "stdout",
     "output_type": "stream",
     "text": [
      "validation accuracy: 0.9644431089743589\n",
      "Valid Error 3.556 %\n",
      "Trying config: {'batch_size': 128, 'lr': 0.0001, 'epochs': 10, 'hidden_units': 1200, 'experiment': 'classification', 'dropout': False, 'train_samples': 1, 'test_samples': 10, 'x_shape': 784, 'classes': 10, 'mu_init': [-0.2, 0.2], 'rho_init': [-5, -4], 'prior_init': [0.25, -1, -7]}\n",
      "Epoch 1/10\n"
     ]
    },
    {
     "name": "stderr",
     "output_type": "stream",
     "text": [
      "100%|██████████| 390/390 [00:15<00:00, 25.51it/s]\n",
      "100%|██████████| 78/78 [00:17<00:00,  4.38it/s]\n"
     ]
    },
    {
     "name": "stdout",
     "output_type": "stream",
     "text": [
      "validation accuracy: 0.9156650641025641\n",
      "Valid Error 8.433 %\n",
      "Epoch 2/10\n"
     ]
    },
    {
     "name": "stderr",
     "output_type": "stream",
     "text": [
      "100%|██████████| 390/390 [00:15<00:00, 25.74it/s]\n",
      "100%|██████████| 78/78 [00:18<00:00,  4.21it/s]\n"
     ]
    },
    {
     "name": "stdout",
     "output_type": "stream",
     "text": [
      "validation accuracy: 0.9378004807692307\n",
      "Valid Error 6.22 %\n",
      "Epoch 3/10\n"
     ]
    },
    {
     "name": "stderr",
     "output_type": "stream",
     "text": [
      "100%|██████████| 390/390 [00:15<00:00, 25.63it/s]\n",
      "100%|██████████| 78/78 [00:17<00:00,  4.55it/s]\n"
     ]
    },
    {
     "name": "stdout",
     "output_type": "stream",
     "text": [
      "validation accuracy: 0.9449118589743589\n",
      "Valid Error 5.509 %\n",
      "Epoch 4/10\n"
     ]
    },
    {
     "name": "stderr",
     "output_type": "stream",
     "text": [
      "100%|██████████| 390/390 [00:15<00:00, 25.38it/s]\n",
      "100%|██████████| 78/78 [00:17<00:00,  4.49it/s]\n"
     ]
    },
    {
     "name": "stdout",
     "output_type": "stream",
     "text": [
      "validation accuracy: 0.953926282051282\n",
      "Valid Error 4.607 %\n",
      "Epoch 5/10\n"
     ]
    },
    {
     "name": "stderr",
     "output_type": "stream",
     "text": [
      "100%|██████████| 390/390 [00:15<00:00, 25.21it/s]\n",
      "100%|██████████| 78/78 [00:18<00:00,  4.26it/s]\n"
     ]
    },
    {
     "name": "stdout",
     "output_type": "stream",
     "text": [
      "validation accuracy: 0.9576322115384616\n",
      "Valid Error 4.237 %\n",
      "Epoch 6/10\n"
     ]
    },
    {
     "name": "stderr",
     "output_type": "stream",
     "text": [
      "100%|██████████| 390/390 [00:15<00:00, 25.62it/s]\n",
      "100%|██████████| 78/78 [00:18<00:00,  4.23it/s]\n"
     ]
    },
    {
     "name": "stdout",
     "output_type": "stream",
     "text": [
      "validation accuracy: 0.9605368589743589\n",
      "Valid Error 3.946 %\n",
      "Epoch 7/10\n"
     ]
    },
    {
     "name": "stderr",
     "output_type": "stream",
     "text": [
      "100%|██████████| 390/390 [00:15<00:00, 25.07it/s]\n",
      "100%|██████████| 78/78 [00:18<00:00,  4.30it/s]\n"
     ]
    },
    {
     "name": "stdout",
     "output_type": "stream",
     "text": [
      "validation accuracy: 0.960136217948718\n",
      "Valid Error 3.986 %\n",
      "Epoch 8/10\n"
     ]
    },
    {
     "name": "stderr",
     "output_type": "stream",
     "text": [
      "100%|██████████| 390/390 [00:15<00:00, 25.19it/s]\n",
      "100%|██████████| 78/78 [00:18<00:00,  4.19it/s]\n"
     ]
    },
    {
     "name": "stdout",
     "output_type": "stream",
     "text": [
      "validation accuracy: 0.9639423076923077\n",
      "Valid Error 3.606 %\n",
      "Epoch 9/10\n"
     ]
    },
    {
     "name": "stderr",
     "output_type": "stream",
     "text": [
      "100%|██████████| 390/390 [00:15<00:00, 24.97it/s]\n",
      "100%|██████████| 78/78 [00:16<00:00,  4.68it/s]\n"
     ]
    },
    {
     "name": "stdout",
     "output_type": "stream",
     "text": [
      "validation accuracy: 0.9644431089743589\n",
      "Valid Error 3.556 %\n",
      "Epoch 10/10\n"
     ]
    },
    {
     "name": "stderr",
     "output_type": "stream",
     "text": [
      "100%|██████████| 390/390 [00:15<00:00, 25.55it/s]\n",
      "100%|██████████| 78/78 [00:18<00:00,  4.29it/s]\n"
     ]
    },
    {
     "name": "stdout",
     "output_type": "stream",
     "text": [
      "validation accuracy: 0.9657451923076923\n",
      "Valid Error 3.425 %\n",
      "Trying config: {'batch_size': 128, 'lr': 0.0001, 'epochs': 10, 'hidden_units': 1200, 'experiment': 'classification', 'dropout': False, 'train_samples': 1, 'test_samples': 10, 'x_shape': 784, 'classes': 10, 'mu_init': [-0.2, 0.2], 'rho_init': [-5, -4], 'prior_init': [0.75, 0, -6]}\n",
      "Epoch 1/10\n"
     ]
    },
    {
     "name": "stderr",
     "output_type": "stream",
     "text": [
      "100%|██████████| 390/390 [00:15<00:00, 24.59it/s]\n",
      "100%|██████████| 78/78 [00:18<00:00,  4.29it/s]\n"
     ]
    },
    {
     "name": "stdout",
     "output_type": "stream",
     "text": [
      "validation accuracy: 0.9142628205128205\n",
      "Valid Error 8.574 %\n",
      "Epoch 2/10\n"
     ]
    },
    {
     "name": "stderr",
     "output_type": "stream",
     "text": [
      "100%|██████████| 390/390 [00:15<00:00, 25.14it/s]\n",
      "100%|██████████| 78/78 [00:17<00:00,  4.37it/s]\n"
     ]
    },
    {
     "name": "stdout",
     "output_type": "stream",
     "text": [
      "validation accuracy: 0.9390024038461539\n",
      "Valid Error 6.1 %\n",
      "Epoch 3/10\n"
     ]
    },
    {
     "name": "stderr",
     "output_type": "stream",
     "text": [
      "100%|██████████| 390/390 [00:15<00:00, 24.95it/s]\n",
      "100%|██████████| 78/78 [00:18<00:00,  4.29it/s]\n"
     ]
    },
    {
     "name": "stdout",
     "output_type": "stream",
     "text": [
      "validation accuracy: 0.9474158653846154\n",
      "Valid Error 5.258 %\n",
      "Epoch 4/10\n"
     ]
    },
    {
     "name": "stderr",
     "output_type": "stream",
     "text": [
      "100%|██████████| 390/390 [00:15<00:00, 24.55it/s]\n",
      "100%|██████████| 78/78 [00:17<00:00,  4.48it/s]\n"
     ]
    },
    {
     "name": "stdout",
     "output_type": "stream",
     "text": [
      "validation accuracy: 0.9516225961538461\n",
      "Valid Error 4.838 %\n",
      "Epoch 5/10\n"
     ]
    },
    {
     "name": "stderr",
     "output_type": "stream",
     "text": [
      "100%|██████████| 390/390 [00:15<00:00, 25.08it/s]\n",
      "100%|██████████| 78/78 [00:17<00:00,  4.40it/s]\n"
     ]
    },
    {
     "name": "stdout",
     "output_type": "stream",
     "text": [
      "validation accuracy: 0.9573317307692307\n",
      "Valid Error 4.267 %\n",
      "Epoch 6/10\n"
     ]
    },
    {
     "name": "stderr",
     "output_type": "stream",
     "text": [
      "100%|██████████| 390/390 [00:15<00:00, 25.37it/s]\n",
      "100%|██████████| 78/78 [00:17<00:00,  4.44it/s]\n"
     ]
    },
    {
     "name": "stdout",
     "output_type": "stream",
     "text": [
      "validation accuracy: 0.9568309294871795\n",
      "Valid Error 4.317 %\n",
      "Epoch 7/10\n"
     ]
    },
    {
     "name": "stderr",
     "output_type": "stream",
     "text": [
      "100%|██████████| 390/390 [00:16<00:00, 24.20it/s]\n",
      "100%|██████████| 78/78 [00:17<00:00,  4.50it/s]\n"
     ]
    },
    {
     "name": "stdout",
     "output_type": "stream",
     "text": [
      "validation accuracy: 0.9575320512820513\n",
      "Valid Error 4.247 %\n",
      "Epoch 8/10\n"
     ]
    },
    {
     "name": "stderr",
     "output_type": "stream",
     "text": [
      "100%|██████████| 390/390 [00:15<00:00, 25.00it/s]\n",
      "100%|██████████| 78/78 [00:17<00:00,  4.47it/s]\n"
     ]
    },
    {
     "name": "stdout",
     "output_type": "stream",
     "text": [
      "validation accuracy: 0.9616386217948718\n",
      "Valid Error 3.836 %\n",
      "Epoch 9/10\n"
     ]
    },
    {
     "name": "stderr",
     "output_type": "stream",
     "text": [
      "100%|██████████| 390/390 [00:15<00:00, 25.31it/s]\n",
      "100%|██████████| 78/78 [00:17<00:00,  4.39it/s]\n"
     ]
    },
    {
     "name": "stdout",
     "output_type": "stream",
     "text": [
      "validation accuracy: 0.9646434294871795\n",
      "Valid Error 3.536 %\n",
      "Epoch 10/10\n"
     ]
    },
    {
     "name": "stderr",
     "output_type": "stream",
     "text": [
      "100%|██████████| 390/390 [00:16<00:00, 23.74it/s]\n",
      "100%|██████████| 78/78 [00:17<00:00,  4.44it/s]\n"
     ]
    },
    {
     "name": "stdout",
     "output_type": "stream",
     "text": [
      "validation accuracy: 0.9620392628205128\n",
      "Valid Error 3.796 %\n",
      "Trying config: {'batch_size': 128, 'lr': 0.0001, 'epochs': 10, 'hidden_units': 1200, 'experiment': 'classification', 'dropout': False, 'train_samples': 1, 'test_samples': 10, 'x_shape': 784, 'classes': 10, 'mu_init': [-0.2, 0.2], 'rho_init': [-5, -4], 'prior_init': [0.75, 0, -7]}\n",
      "Epoch 1/10\n"
     ]
    },
    {
     "name": "stderr",
     "output_type": "stream",
     "text": [
      "100%|██████████| 390/390 [00:15<00:00, 25.19it/s]\n",
      "100%|██████████| 78/78 [00:17<00:00,  4.53it/s]\n"
     ]
    },
    {
     "name": "stdout",
     "output_type": "stream",
     "text": [
      "validation accuracy: 0.9156650641025641\n",
      "Valid Error 8.433 %\n",
      "Epoch 2/10\n"
     ]
    },
    {
     "name": "stderr",
     "output_type": "stream",
     "text": [
      "100%|██████████| 390/390 [00:15<00:00, 24.41it/s]\n",
      "100%|██████████| 78/78 [00:16<00:00,  4.60it/s]\n"
     ]
    },
    {
     "name": "stdout",
     "output_type": "stream",
     "text": [
      "validation accuracy: 0.9351963141025641\n",
      "Valid Error 6.48 %\n",
      "Epoch 3/10\n"
     ]
    },
    {
     "name": "stderr",
     "output_type": "stream",
     "text": [
      "100%|██████████| 390/390 [00:15<00:00, 24.53it/s]\n",
      "100%|██████████| 78/78 [00:17<00:00,  4.50it/s]\n"
     ]
    },
    {
     "name": "stdout",
     "output_type": "stream",
     "text": [
      "validation accuracy: 0.9437099358974359\n",
      "Valid Error 5.629 %\n",
      "Epoch 4/10\n"
     ]
    },
    {
     "name": "stderr",
     "output_type": "stream",
     "text": [
      "100%|██████████| 390/390 [00:16<00:00, 24.19it/s]\n",
      "100%|██████████| 78/78 [00:17<00:00,  4.41it/s]\n"
     ]
    },
    {
     "name": "stdout",
     "output_type": "stream",
     "text": [
      "validation accuracy: 0.9509214743589743\n",
      "Valid Error 4.908 %\n",
      "Epoch 5/10\n"
     ]
    },
    {
     "name": "stderr",
     "output_type": "stream",
     "text": [
      "100%|██████████| 390/390 [00:15<00:00, 24.61it/s]\n",
      "100%|██████████| 78/78 [00:17<00:00,  4.44it/s]\n"
     ]
    },
    {
     "name": "stdout",
     "output_type": "stream",
     "text": [
      "validation accuracy: 0.9532251602564102\n",
      "Valid Error 4.677 %\n",
      "Epoch 6/10\n"
     ]
    },
    {
     "name": "stderr",
     "output_type": "stream",
     "text": [
      "100%|██████████| 390/390 [00:15<00:00, 24.92it/s]\n",
      "100%|██████████| 78/78 [00:17<00:00,  4.43it/s]\n"
     ]
    },
    {
     "name": "stdout",
     "output_type": "stream",
     "text": [
      "validation accuracy: 0.9575320512820513\n",
      "Valid Error 4.247 %\n",
      "Epoch 7/10\n"
     ]
    },
    {
     "name": "stderr",
     "output_type": "stream",
     "text": [
      "100%|██████████| 390/390 [00:15<00:00, 24.80it/s]\n",
      "100%|██████████| 78/78 [00:17<00:00,  4.39it/s]\n"
     ]
    },
    {
     "name": "stdout",
     "output_type": "stream",
     "text": [
      "validation accuracy: 0.9591346153846154\n",
      "Valid Error 4.087 %\n",
      "Epoch 8/10\n"
     ]
    },
    {
     "name": "stderr",
     "output_type": "stream",
     "text": [
      "100%|██████████| 390/390 [00:15<00:00, 24.99it/s]\n",
      "100%|██████████| 78/78 [00:17<00:00,  4.35it/s]\n"
     ]
    },
    {
     "name": "stdout",
     "output_type": "stream",
     "text": [
      "validation accuracy: 0.9595352564102564\n",
      "Valid Error 4.046 %\n",
      "Epoch 9/10\n"
     ]
    },
    {
     "name": "stderr",
     "output_type": "stream",
     "text": [
      "100%|██████████| 390/390 [00:15<00:00, 25.15it/s]\n",
      "100%|██████████| 78/78 [00:17<00:00,  4.49it/s]\n"
     ]
    },
    {
     "name": "stdout",
     "output_type": "stream",
     "text": [
      "validation accuracy: 0.9607371794871795\n",
      "Valid Error 3.926 %\n",
      "Epoch 10/10\n"
     ]
    },
    {
     "name": "stderr",
     "output_type": "stream",
     "text": [
      "100%|██████████| 390/390 [00:15<00:00, 24.94it/s]\n",
      "100%|██████████| 78/78 [00:17<00:00,  4.42it/s]\n"
     ]
    },
    {
     "name": "stdout",
     "output_type": "stream",
     "text": [
      "validation accuracy: 0.9646434294871795\n",
      "Valid Error 3.536 %\n",
      "Trying config: {'batch_size': 128, 'lr': 0.0001, 'epochs': 10, 'hidden_units': 1200, 'experiment': 'classification', 'dropout': False, 'train_samples': 1, 'test_samples': 10, 'x_shape': 784, 'classes': 10, 'mu_init': [-0.2, 0.2], 'rho_init': [-5, -4], 'prior_init': [0.75, -1, -6]}\n",
      "Epoch 1/10\n"
     ]
    },
    {
     "name": "stderr",
     "output_type": "stream",
     "text": [
      "100%|██████████| 390/390 [00:15<00:00, 24.76it/s]\n",
      "100%|██████████| 78/78 [00:17<00:00,  4.38it/s]\n"
     ]
    },
    {
     "name": "stdout",
     "output_type": "stream",
     "text": [
      "validation accuracy: 0.9139623397435898\n",
      "Valid Error 8.604 %\n",
      "Epoch 2/10\n"
     ]
    },
    {
     "name": "stderr",
     "output_type": "stream",
     "text": [
      "100%|██████████| 390/390 [00:15<00:00, 25.43it/s]\n",
      "100%|██████████| 78/78 [00:18<00:00,  4.27it/s]\n"
     ]
    },
    {
     "name": "stdout",
     "output_type": "stream",
     "text": [
      "validation accuracy: 0.9316907051282052\n",
      "Valid Error 6.831 %\n",
      "Epoch 3/10\n"
     ]
    },
    {
     "name": "stderr",
     "output_type": "stream",
     "text": [
      "100%|██████████| 390/390 [00:15<00:00, 24.92it/s]\n",
      "100%|██████████| 78/78 [00:18<00:00,  4.11it/s]\n"
     ]
    },
    {
     "name": "stdout",
     "output_type": "stream",
     "text": [
      "validation accuracy: 0.9437099358974359\n",
      "Valid Error 5.629 %\n",
      "Epoch 4/10\n"
     ]
    },
    {
     "name": "stderr",
     "output_type": "stream",
     "text": [
      "100%|██████████| 390/390 [00:15<00:00, 25.36it/s]\n",
      "100%|██████████| 78/78 [00:17<00:00,  4.49it/s]\n"
     ]
    },
    {
     "name": "stdout",
     "output_type": "stream",
     "text": [
      "validation accuracy: 0.94921875\n",
      "Valid Error 5.078 %\n",
      "Epoch 5/10\n"
     ]
    },
    {
     "name": "stderr",
     "output_type": "stream",
     "text": [
      "100%|██████████| 390/390 [00:15<00:00, 25.88it/s]\n",
      "100%|██████████| 78/78 [00:18<00:00,  4.23it/s]\n"
     ]
    },
    {
     "name": "stdout",
     "output_type": "stream",
     "text": [
      "validation accuracy: 0.9561298076923077\n",
      "Valid Error 4.387 %\n",
      "Epoch 6/10\n"
     ]
    },
    {
     "name": "stderr",
     "output_type": "stream",
     "text": [
      "100%|██████████| 390/390 [00:15<00:00, 25.32it/s]\n",
      "100%|██████████| 78/78 [00:17<00:00,  4.51it/s]\n"
     ]
    },
    {
     "name": "stdout",
     "output_type": "stream",
     "text": [
      "validation accuracy: 0.9573317307692307\n",
      "Valid Error 4.267 %\n",
      "Epoch 7/10\n"
     ]
    },
    {
     "name": "stderr",
     "output_type": "stream",
     "text": [
      "100%|██████████| 390/390 [00:15<00:00, 25.18it/s]\n",
      "100%|██████████| 78/78 [00:17<00:00,  4.50it/s]\n"
     ]
    },
    {
     "name": "stdout",
     "output_type": "stream",
     "text": [
      "validation accuracy: 0.961738782051282\n",
      "Valid Error 3.826 %\n",
      "Epoch 8/10\n"
     ]
    },
    {
     "name": "stderr",
     "output_type": "stream",
     "text": [
      "100%|██████████| 390/390 [00:16<00:00, 24.15it/s]\n",
      "100%|██████████| 78/78 [00:17<00:00,  4.50it/s]\n"
     ]
    },
    {
     "name": "stdout",
     "output_type": "stream",
     "text": [
      "validation accuracy: 0.9618389423076923\n",
      "Valid Error 3.816 %\n",
      "Epoch 9/10\n"
     ]
    },
    {
     "name": "stderr",
     "output_type": "stream",
     "text": [
      "100%|██████████| 390/390 [00:16<00:00, 23.93it/s]\n",
      "100%|██████████| 78/78 [00:17<00:00,  4.46it/s]\n"
     ]
    },
    {
     "name": "stdout",
     "output_type": "stream",
     "text": [
      "validation accuracy: 0.9613381410256411\n",
      "Valid Error 3.866 %\n",
      "Epoch 10/10\n"
     ]
    },
    {
     "name": "stderr",
     "output_type": "stream",
     "text": [
      "100%|██████████| 390/390 [00:16<00:00, 24.31it/s]\n",
      "100%|██████████| 78/78 [00:17<00:00,  4.53it/s]\n"
     ]
    },
    {
     "name": "stdout",
     "output_type": "stream",
     "text": [
      "validation accuracy: 0.9657451923076923\n",
      "Valid Error 3.425 %\n",
      "Trying config: {'batch_size': 128, 'lr': 0.0001, 'epochs': 10, 'hidden_units': 1200, 'experiment': 'classification', 'dropout': False, 'train_samples': 1, 'test_samples': 10, 'x_shape': 784, 'classes': 10, 'mu_init': [-0.2, 0.2], 'rho_init': [-5, -4], 'prior_init': [0.75, -1, -7]}\n",
      "Epoch 1/10\n"
     ]
    },
    {
     "name": "stderr",
     "output_type": "stream",
     "text": [
      "100%|██████████| 390/390 [00:16<00:00, 24.13it/s]\n",
      "100%|██████████| 78/78 [00:16<00:00,  4.60it/s]\n"
     ]
    },
    {
     "name": "stdout",
     "output_type": "stream",
     "text": [
      "validation accuracy: 0.9138621794871795\n",
      "Valid Error 8.614 %\n",
      "Epoch 2/10\n"
     ]
    },
    {
     "name": "stderr",
     "output_type": "stream",
     "text": [
      "100%|██████████| 390/390 [00:16<00:00, 24.36it/s]\n",
      "100%|██████████| 78/78 [00:17<00:00,  4.52it/s]\n"
     ]
    },
    {
     "name": "stdout",
     "output_type": "stream",
     "text": [
      "validation accuracy: 0.9318910256410257\n",
      "Valid Error 6.811 %\n",
      "Epoch 3/10\n"
     ]
    },
    {
     "name": "stderr",
     "output_type": "stream",
     "text": [
      "100%|██████████| 390/390 [00:16<00:00, 23.75it/s]\n",
      "100%|██████████| 78/78 [00:17<00:00,  4.56it/s]\n"
     ]
    },
    {
     "name": "stdout",
     "output_type": "stream",
     "text": [
      "validation accuracy: 0.9442107371794872\n",
      "Valid Error 5.579 %\n",
      "Epoch 4/10\n"
     ]
    },
    {
     "name": "stderr",
     "output_type": "stream",
     "text": [
      "100%|██████████| 390/390 [00:16<00:00, 24.11it/s]\n",
      "100%|██████████| 78/78 [00:17<00:00,  4.53it/s]\n"
     ]
    },
    {
     "name": "stdout",
     "output_type": "stream",
     "text": [
      "validation accuracy: 0.9491185897435898\n",
      "Valid Error 5.088 %\n",
      "Epoch 5/10\n"
     ]
    },
    {
     "name": "stderr",
     "output_type": "stream",
     "text": [
      "100%|██████████| 390/390 [00:15<00:00, 25.06it/s]\n",
      "100%|██████████| 78/78 [00:17<00:00,  4.57it/s]\n"
     ]
    },
    {
     "name": "stdout",
     "output_type": "stream",
     "text": [
      "validation accuracy: 0.9529246794871795\n",
      "Valid Error 4.708 %\n",
      "Epoch 6/10\n"
     ]
    },
    {
     "name": "stderr",
     "output_type": "stream",
     "text": [
      "100%|██████████| 390/390 [00:16<00:00, 24.26it/s]\n",
      "100%|██████████| 78/78 [00:17<00:00,  4.52it/s]\n"
     ]
    },
    {
     "name": "stdout",
     "output_type": "stream",
     "text": [
      "validation accuracy: 0.953926282051282\n",
      "Valid Error 4.607 %\n",
      "Epoch 7/10\n"
     ]
    },
    {
     "name": "stderr",
     "output_type": "stream",
     "text": [
      "100%|██████████| 390/390 [00:15<00:00, 25.97it/s]\n",
      "100%|██████████| 78/78 [00:17<00:00,  4.40it/s]\n"
     ]
    },
    {
     "name": "stdout",
     "output_type": "stream",
     "text": [
      "validation accuracy: 0.9547275641025641\n",
      "Valid Error 4.527 %\n",
      "Epoch 8/10\n"
     ]
    },
    {
     "name": "stderr",
     "output_type": "stream",
     "text": [
      "100%|██████████| 390/390 [00:15<00:00, 25.09it/s]\n",
      "100%|██████████| 78/78 [00:17<00:00,  4.50it/s]\n"
     ]
    },
    {
     "name": "stdout",
     "output_type": "stream",
     "text": [
      "validation accuracy: 0.9606370192307693\n",
      "Valid Error 3.936 %\n",
      "Epoch 9/10\n"
     ]
    },
    {
     "name": "stderr",
     "output_type": "stream",
     "text": [
      "100%|██████████| 390/390 [00:15<00:00, 24.95it/s]\n",
      "100%|██████████| 78/78 [00:18<00:00,  4.23it/s]\n"
     ]
    },
    {
     "name": "stdout",
     "output_type": "stream",
     "text": [
      "validation accuracy: 0.9638421474358975\n",
      "Valid Error 3.616 %\n",
      "Epoch 10/10\n"
     ]
    },
    {
     "name": "stderr",
     "output_type": "stream",
     "text": [
      "100%|██████████| 390/390 [00:15<00:00, 25.02it/s]\n",
      "100%|██████████| 78/78 [00:18<00:00,  4.22it/s]\n"
     ]
    },
    {
     "name": "stdout",
     "output_type": "stream",
     "text": [
      "validation accuracy: 0.9644431089743589\n",
      "Valid Error 3.556 %\n",
      "Trying config: {'batch_size': 128, 'lr': 0.0001, 'epochs': 10, 'hidden_units': 1200, 'experiment': 'classification', 'dropout': False, 'train_samples': 2, 'test_samples': 10, 'x_shape': 784, 'classes': 10, 'mu_init': [-0.2, 0.2], 'rho_init': [-5, -4], 'prior_init': [0.25, 0, -6]}\n",
      "Epoch 1/10\n"
     ]
    },
    {
     "name": "stderr",
     "output_type": "stream",
     "text": [
      "100%|██████████| 390/390 [00:23<00:00, 16.62it/s]\n",
      "100%|██████████| 78/78 [00:17<00:00,  4.51it/s]\n"
     ]
    },
    {
     "name": "stdout",
     "output_type": "stream",
     "text": [
      "validation accuracy: 0.9092548076923077\n",
      "Valid Error 9.075 %\n",
      "Epoch 2/10\n"
     ]
    },
    {
     "name": "stderr",
     "output_type": "stream",
     "text": [
      "100%|██████████| 390/390 [00:24<00:00, 15.65it/s]\n",
      "100%|██████████| 78/78 [00:17<00:00,  4.54it/s]\n"
     ]
    },
    {
     "name": "stdout",
     "output_type": "stream",
     "text": [
      "validation accuracy: 0.9308894230769231\n",
      "Valid Error 6.911 %\n",
      "Epoch 3/10\n"
     ]
    },
    {
     "name": "stderr",
     "output_type": "stream",
     "text": [
      "100%|██████████| 390/390 [00:24<00:00, 16.04it/s]\n",
      "100%|██████████| 78/78 [00:17<00:00,  4.56it/s]\n"
     ]
    },
    {
     "name": "stdout",
     "output_type": "stream",
     "text": [
      "validation accuracy: 0.9442107371794872\n",
      "Valid Error 5.579 %\n",
      "Epoch 4/10\n"
     ]
    },
    {
     "name": "stderr",
     "output_type": "stream",
     "text": [
      "100%|██████████| 390/390 [00:24<00:00, 15.80it/s]\n",
      "100%|██████████| 78/78 [00:17<00:00,  4.52it/s]\n"
     ]
    },
    {
     "name": "stdout",
     "output_type": "stream",
     "text": [
      "validation accuracy: 0.9485176282051282\n",
      "Valid Error 5.148 %\n",
      "Epoch 5/10\n"
     ]
    },
    {
     "name": "stderr",
     "output_type": "stream",
     "text": [
      "100%|██████████| 390/390 [00:24<00:00, 16.21it/s]\n",
      "100%|██████████| 78/78 [00:17<00:00,  4.51it/s]\n"
     ]
    },
    {
     "name": "stdout",
     "output_type": "stream",
     "text": [
      "validation accuracy: 0.956229967948718\n",
      "Valid Error 4.377 %\n",
      "Epoch 6/10\n"
     ]
    },
    {
     "name": "stderr",
     "output_type": "stream",
     "text": [
      "100%|██████████| 390/390 [00:23<00:00, 16.43it/s]\n",
      "100%|██████████| 78/78 [00:17<00:00,  4.46it/s]\n"
     ]
    },
    {
     "name": "stdout",
     "output_type": "stream",
     "text": [
      "validation accuracy: 0.9588341346153846\n",
      "Valid Error 4.117 %\n",
      "Epoch 7/10\n"
     ]
    },
    {
     "name": "stderr",
     "output_type": "stream",
     "text": [
      "100%|██████████| 390/390 [00:24<00:00, 15.61it/s]\n",
      "100%|██████████| 78/78 [00:17<00:00,  4.54it/s]\n"
     ]
    },
    {
     "name": "stdout",
     "output_type": "stream",
     "text": [
      "validation accuracy: 0.9621394230769231\n",
      "Valid Error 3.786 %\n",
      "Epoch 8/10\n"
     ]
    },
    {
     "name": "stderr",
     "output_type": "stream",
     "text": [
      "100%|██████████| 390/390 [00:23<00:00, 16.91it/s]\n",
      "100%|██████████| 78/78 [00:17<00:00,  4.58it/s]\n"
     ]
    },
    {
     "name": "stdout",
     "output_type": "stream",
     "text": [
      "validation accuracy: 0.9620392628205128\n",
      "Valid Error 3.796 %\n",
      "Epoch 9/10\n"
     ]
    },
    {
     "name": "stderr",
     "output_type": "stream",
     "text": [
      "100%|██████████| 390/390 [00:23<00:00, 16.74it/s]\n",
      "100%|██████████| 78/78 [00:16<00:00,  4.74it/s]\n"
     ]
    },
    {
     "name": "stdout",
     "output_type": "stream",
     "text": [
      "validation accuracy: 0.9649439102564102\n",
      "Valid Error 3.506 %\n",
      "Epoch 10/10\n"
     ]
    },
    {
     "name": "stderr",
     "output_type": "stream",
     "text": [
      "100%|██████████| 390/390 [00:23<00:00, 16.26it/s]\n",
      "100%|██████████| 78/78 [00:16<00:00,  4.64it/s]\n"
     ]
    },
    {
     "name": "stdout",
     "output_type": "stream",
     "text": [
      "validation accuracy: 0.9650440705128205\n",
      "Valid Error 3.496 %\n",
      "Trying config: {'batch_size': 128, 'lr': 0.0001, 'epochs': 10, 'hidden_units': 1200, 'experiment': 'classification', 'dropout': False, 'train_samples': 2, 'test_samples': 10, 'x_shape': 784, 'classes': 10, 'mu_init': [-0.2, 0.2], 'rho_init': [-5, -4], 'prior_init': [0.25, 0, -7]}\n",
      "Epoch 1/10\n"
     ]
    },
    {
     "name": "stderr",
     "output_type": "stream",
     "text": [
      "100%|██████████| 390/390 [00:22<00:00, 17.29it/s]\n",
      "100%|██████████| 78/78 [00:16<00:00,  4.73it/s]\n"
     ]
    },
    {
     "name": "stdout",
     "output_type": "stream",
     "text": [
      "validation accuracy: 0.9185697115384616\n",
      "Valid Error 8.143 %\n",
      "Epoch 2/10\n"
     ]
    },
    {
     "name": "stderr",
     "output_type": "stream",
     "text": [
      "100%|██████████| 390/390 [00:22<00:00, 17.68it/s]\n",
      "100%|██████████| 78/78 [00:17<00:00,  4.46it/s]\n"
     ]
    },
    {
     "name": "stdout",
     "output_type": "stream",
     "text": [
      "validation accuracy: 0.9359975961538461\n",
      "Valid Error 6.4 %\n",
      "Epoch 3/10\n"
     ]
    },
    {
     "name": "stderr",
     "output_type": "stream",
     "text": [
      "100%|██████████| 390/390 [00:22<00:00, 17.36it/s]\n",
      "100%|██████████| 78/78 [00:16<00:00,  4.80it/s]\n"
     ]
    },
    {
     "name": "stdout",
     "output_type": "stream",
     "text": [
      "validation accuracy: 0.9444110576923077\n",
      "Valid Error 5.559 %\n",
      "Epoch 4/10\n"
     ]
    },
    {
     "name": "stderr",
     "output_type": "stream",
     "text": [
      "100%|██████████| 390/390 [00:22<00:00, 17.08it/s]\n",
      "100%|██████████| 78/78 [00:17<00:00,  4.58it/s]\n"
     ]
    },
    {
     "name": "stdout",
     "output_type": "stream",
     "text": [
      "validation accuracy: 0.9526241987179487\n",
      "Valid Error 4.738 %\n",
      "Epoch 5/10\n"
     ]
    },
    {
     "name": "stderr",
     "output_type": "stream",
     "text": [
      "100%|██████████| 390/390 [00:22<00:00, 17.33it/s]\n",
      "100%|██████████| 78/78 [00:16<00:00,  4.82it/s]\n"
     ]
    },
    {
     "name": "stdout",
     "output_type": "stream",
     "text": [
      "validation accuracy: 0.9566306089743589\n",
      "Valid Error 4.337 %\n",
      "Epoch 6/10\n"
     ]
    },
    {
     "name": "stderr",
     "output_type": "stream",
     "text": [
      "100%|██████████| 390/390 [00:23<00:00, 16.92it/s]\n",
      "100%|██████████| 78/78 [00:17<00:00,  4.34it/s]\n"
     ]
    },
    {
     "name": "stdout",
     "output_type": "stream",
     "text": [
      "validation accuracy: 0.9592347756410257\n",
      "Valid Error 4.077 %\n",
      "Epoch 7/10\n"
     ]
    },
    {
     "name": "stderr",
     "output_type": "stream",
     "text": [
      "100%|██████████| 390/390 [00:24<00:00, 15.77it/s]\n",
      "100%|██████████| 78/78 [00:18<00:00,  4.19it/s]\n"
     ]
    },
    {
     "name": "stdout",
     "output_type": "stream",
     "text": [
      "validation accuracy: 0.9631410256410257\n",
      "Valid Error 3.686 %\n",
      "Epoch 8/10\n"
     ]
    },
    {
     "name": "stderr",
     "output_type": "stream",
     "text": [
      "100%|██████████| 390/390 [00:26<00:00, 14.78it/s]\n",
      "100%|██████████| 78/78 [00:19<00:00,  4.07it/s]\n"
     ]
    },
    {
     "name": "stdout",
     "output_type": "stream",
     "text": [
      "validation accuracy: 0.9631410256410257\n",
      "Valid Error 3.686 %\n",
      "Epoch 9/10\n"
     ]
    },
    {
     "name": "stderr",
     "output_type": "stream",
     "text": [
      "100%|██████████| 390/390 [00:24<00:00, 16.16it/s]\n",
      "100%|██████████| 78/78 [00:18<00:00,  4.30it/s]\n"
     ]
    },
    {
     "name": "stdout",
     "output_type": "stream",
     "text": [
      "validation accuracy: 0.9660456730769231\n",
      "Valid Error 3.395 %\n",
      "Epoch 10/10\n"
     ]
    },
    {
     "name": "stderr",
     "output_type": "stream",
     "text": [
      "100%|██████████| 390/390 [00:25<00:00, 15.46it/s]\n",
      "100%|██████████| 78/78 [00:16<00:00,  4.67it/s]\n"
     ]
    },
    {
     "name": "stdout",
     "output_type": "stream",
     "text": [
      "validation accuracy: 0.96484375\n",
      "Valid Error 3.516 %\n",
      "Trying config: {'batch_size': 128, 'lr': 0.0001, 'epochs': 10, 'hidden_units': 1200, 'experiment': 'classification', 'dropout': False, 'train_samples': 2, 'test_samples': 10, 'x_shape': 784, 'classes': 10, 'mu_init': [-0.2, 0.2], 'rho_init': [-5, -4], 'prior_init': [0.25, -1, -6]}\n",
      "Epoch 1/10\n"
     ]
    },
    {
     "name": "stderr",
     "output_type": "stream",
     "text": [
      "100%|██████████| 390/390 [00:24<00:00, 15.72it/s]\n",
      "100%|██████████| 78/78 [00:17<00:00,  4.56it/s]\n"
     ]
    },
    {
     "name": "stdout",
     "output_type": "stream",
     "text": [
      "validation accuracy: 0.9199719551282052\n",
      "Valid Error 8.003 %\n",
      "Epoch 2/10\n"
     ]
    },
    {
     "name": "stderr",
     "output_type": "stream",
     "text": [
      "100%|██████████| 390/390 [00:23<00:00, 16.56it/s]\n",
      "100%|██████████| 78/78 [00:16<00:00,  4.60it/s]\n"
     ]
    },
    {
     "name": "stdout",
     "output_type": "stream",
     "text": [
      "validation accuracy: 0.9397035256410257\n",
      "Valid Error 6.03 %\n",
      "Epoch 3/10\n"
     ]
    },
    {
     "name": "stderr",
     "output_type": "stream",
     "text": [
      "100%|██████████| 390/390 [00:23<00:00, 16.30it/s]\n",
      "100%|██████████| 78/78 [00:16<00:00,  4.67it/s]\n"
     ]
    },
    {
     "name": "stdout",
     "output_type": "stream",
     "text": [
      "validation accuracy: 0.9495192307692307\n",
      "Valid Error 5.048 %\n",
      "Epoch 4/10\n"
     ]
    },
    {
     "name": "stderr",
     "output_type": "stream",
     "text": [
      "100%|██████████| 390/390 [00:23<00:00, 16.68it/s]\n",
      "100%|██████████| 78/78 [00:16<00:00,  4.63it/s]\n"
     ]
    },
    {
     "name": "stdout",
     "output_type": "stream",
     "text": [
      "validation accuracy: 0.9545272435897436\n",
      "Valid Error 4.547 %\n",
      "Epoch 5/10\n"
     ]
    },
    {
     "name": "stderr",
     "output_type": "stream",
     "text": [
      "100%|██████████| 390/390 [00:22<00:00, 16.99it/s]\n",
      "100%|██████████| 78/78 [00:17<00:00,  4.41it/s]\n"
     ]
    },
    {
     "name": "stdout",
     "output_type": "stream",
     "text": [
      "validation accuracy: 0.95703125\n",
      "Valid Error 4.297 %\n",
      "Epoch 6/10\n"
     ]
    },
    {
     "name": "stderr",
     "output_type": "stream",
     "text": [
      "100%|██████████| 390/390 [00:23<00:00, 16.38it/s]\n",
      "100%|██████████| 78/78 [00:16<00:00,  4.71it/s]\n"
     ]
    },
    {
     "name": "stdout",
     "output_type": "stream",
     "text": [
      "validation accuracy: 0.9644431089743589\n",
      "Valid Error 3.556 %\n",
      "Epoch 7/10\n"
     ]
    },
    {
     "name": "stderr",
     "output_type": "stream",
     "text": [
      "100%|██████████| 390/390 [00:22<00:00, 17.08it/s]\n",
      "100%|██████████| 78/78 [00:16<00:00,  4.73it/s]\n"
     ]
    },
    {
     "name": "stdout",
     "output_type": "stream",
     "text": [
      "validation accuracy: 0.9655448717948718\n",
      "Valid Error 3.446 %\n",
      "Epoch 8/10\n"
     ]
    },
    {
     "name": "stderr",
     "output_type": "stream",
     "text": [
      "100%|██████████| 390/390 [00:23<00:00, 16.48it/s]\n",
      "100%|██████████| 78/78 [00:16<00:00,  4.76it/s]\n"
     ]
    },
    {
     "name": "stdout",
     "output_type": "stream",
     "text": [
      "validation accuracy: 0.9662459935897436\n",
      "Valid Error 3.375 %\n",
      "Epoch 9/10\n"
     ]
    },
    {
     "name": "stderr",
     "output_type": "stream",
     "text": [
      "100%|██████████| 390/390 [00:23<00:00, 16.65it/s]\n",
      "100%|██████████| 78/78 [00:16<00:00,  4.67it/s]\n"
     ]
    },
    {
     "name": "stdout",
     "output_type": "stream",
     "text": [
      "validation accuracy: 0.9678485576923077\n",
      "Valid Error 3.215 %\n",
      "Epoch 10/10\n"
     ]
    },
    {
     "name": "stderr",
     "output_type": "stream",
     "text": [
      "100%|██████████| 390/390 [00:23<00:00, 16.57it/s]\n",
      "100%|██████████| 78/78 [00:16<00:00,  4.61it/s]\n"
     ]
    },
    {
     "name": "stdout",
     "output_type": "stream",
     "text": [
      "validation accuracy: 0.9664463141025641\n",
      "Valid Error 3.355 %\n",
      "Trying config: {'batch_size': 128, 'lr': 0.0001, 'epochs': 10, 'hidden_units': 1200, 'experiment': 'classification', 'dropout': False, 'train_samples': 2, 'test_samples': 10, 'x_shape': 784, 'classes': 10, 'mu_init': [-0.2, 0.2], 'rho_init': [-5, -4], 'prior_init': [0.25, -1, -7]}\n",
      "Epoch 1/10\n"
     ]
    },
    {
     "name": "stderr",
     "output_type": "stream",
     "text": [
      "100%|██████████| 390/390 [00:22<00:00, 17.03it/s]\n",
      "100%|██████████| 78/78 [00:19<00:00,  3.94it/s]\n"
     ]
    },
    {
     "name": "stdout",
     "output_type": "stream",
     "text": [
      "validation accuracy: 0.9164663461538461\n",
      "Valid Error 8.353 %\n",
      "Epoch 2/10\n"
     ]
    },
    {
     "name": "stderr",
     "output_type": "stream",
     "text": [
      "100%|██████████| 390/390 [00:23<00:00, 16.91it/s]\n",
      "100%|██████████| 78/78 [00:19<00:00,  4.04it/s]\n"
     ]
    },
    {
     "name": "stdout",
     "output_type": "stream",
     "text": [
      "validation accuracy: 0.9326923076923077\n",
      "Valid Error 6.731 %\n",
      "Epoch 3/10\n"
     ]
    },
    {
     "name": "stderr",
     "output_type": "stream",
     "text": [
      "100%|██████████| 390/390 [00:25<00:00, 15.52it/s]\n",
      "100%|██████████| 78/78 [00:17<00:00,  4.57it/s]\n"
     ]
    },
    {
     "name": "stdout",
     "output_type": "stream",
     "text": [
      "validation accuracy: 0.9466145833333334\n",
      "Valid Error 5.339 %\n",
      "Epoch 4/10\n"
     ]
    },
    {
     "name": "stderr",
     "output_type": "stream",
     "text": [
      "100%|██████████| 390/390 [00:23<00:00, 16.41it/s]\n",
      "100%|██████████| 78/78 [00:17<00:00,  4.52it/s]\n"
     ]
    },
    {
     "name": "stdout",
     "output_type": "stream",
     "text": [
      "validation accuracy: 0.9524238782051282\n",
      "Valid Error 4.758 %\n",
      "Epoch 5/10\n"
     ]
    },
    {
     "name": "stderr",
     "output_type": "stream",
     "text": [
      "100%|██████████| 390/390 [00:24<00:00, 16.19it/s]\n",
      "100%|██████████| 78/78 [00:17<00:00,  4.51it/s]\n"
     ]
    },
    {
     "name": "stdout",
     "output_type": "stream",
     "text": [
      "validation accuracy: 0.9566306089743589\n",
      "Valid Error 4.337 %\n",
      "Epoch 6/10\n"
     ]
    },
    {
     "name": "stderr",
     "output_type": "stream",
     "text": [
      "100%|██████████| 390/390 [00:23<00:00, 16.68it/s]\n",
      "100%|██████████| 78/78 [00:16<00:00,  4.64it/s]\n"
     ]
    },
    {
     "name": "stdout",
     "output_type": "stream",
     "text": [
      "validation accuracy: 0.9593349358974359\n",
      "Valid Error 4.067 %\n",
      "Epoch 7/10\n"
     ]
    },
    {
     "name": "stderr",
     "output_type": "stream",
     "text": [
      "100%|██████████| 390/390 [00:23<00:00, 16.87it/s]\n",
      "100%|██████████| 78/78 [00:16<00:00,  4.64it/s]\n"
     ]
    },
    {
     "name": "stdout",
     "output_type": "stream",
     "text": [
      "validation accuracy: 0.9589342948717948\n",
      "Valid Error 4.107 %\n",
      "Epoch 8/10\n"
     ]
    },
    {
     "name": "stderr",
     "output_type": "stream",
     "text": [
      "100%|██████████| 390/390 [00:22<00:00, 16.99it/s]\n",
      "100%|██████████| 78/78 [00:19<00:00,  3.95it/s]\n"
     ]
    },
    {
     "name": "stdout",
     "output_type": "stream",
     "text": [
      "validation accuracy: 0.9613381410256411\n",
      "Valid Error 3.866 %\n",
      "Epoch 9/10\n"
     ]
    },
    {
     "name": "stderr",
     "output_type": "stream",
     "text": [
      "100%|██████████| 390/390 [00:22<00:00, 16.99it/s]\n",
      "100%|██████████| 78/78 [00:16<00:00,  4.63it/s]\n"
     ]
    },
    {
     "name": "stdout",
     "output_type": "stream",
     "text": [
      "validation accuracy: 0.9626402243589743\n",
      "Valid Error 3.736 %\n",
      "Epoch 10/10\n"
     ]
    },
    {
     "name": "stderr",
     "output_type": "stream",
     "text": [
      "100%|██████████| 390/390 [00:24<00:00, 16.05it/s]\n",
      "100%|██████████| 78/78 [00:16<00:00,  4.64it/s]\n"
     ]
    },
    {
     "name": "stdout",
     "output_type": "stream",
     "text": [
      "validation accuracy: 0.964042467948718\n",
      "Valid Error 3.596 %\n",
      "Trying config: {'batch_size': 128, 'lr': 0.0001, 'epochs': 10, 'hidden_units': 1200, 'experiment': 'classification', 'dropout': False, 'train_samples': 2, 'test_samples': 10, 'x_shape': 784, 'classes': 10, 'mu_init': [-0.2, 0.2], 'rho_init': [-5, -4], 'prior_init': [0.75, 0, -6]}\n",
      "Epoch 1/10\n"
     ]
    },
    {
     "name": "stderr",
     "output_type": "stream",
     "text": [
      "100%|██████████| 390/390 [00:23<00:00, 16.88it/s]\n",
      "100%|██████████| 78/78 [00:16<00:00,  4.72it/s]\n"
     ]
    },
    {
     "name": "stdout",
     "output_type": "stream",
     "text": [
      "validation accuracy: 0.9137620192307693\n",
      "Valid Error 8.624 %\n",
      "Epoch 2/10\n"
     ]
    },
    {
     "name": "stderr",
     "output_type": "stream",
     "text": [
      "100%|██████████| 390/390 [00:23<00:00, 16.95it/s]\n",
      "100%|██████████| 78/78 [00:16<00:00,  4.69it/s]\n"
     ]
    },
    {
     "name": "stdout",
     "output_type": "stream",
     "text": [
      "validation accuracy: 0.9328926282051282\n",
      "Valid Error 6.711 %\n",
      "Epoch 3/10\n"
     ]
    },
    {
     "name": "stderr",
     "output_type": "stream",
     "text": [
      "100%|██████████| 390/390 [00:22<00:00, 17.05it/s]\n",
      "100%|██████████| 78/78 [00:16<00:00,  4.71it/s]\n"
     ]
    },
    {
     "name": "stdout",
     "output_type": "stream",
     "text": [
      "validation accuracy: 0.9444110576923077\n",
      "Valid Error 5.559 %\n",
      "Epoch 4/10\n"
     ]
    },
    {
     "name": "stderr",
     "output_type": "stream",
     "text": [
      "100%|██████████| 390/390 [00:22<00:00, 17.02it/s]\n",
      "100%|██████████| 78/78 [00:16<00:00,  4.68it/s]\n"
     ]
    },
    {
     "name": "stdout",
     "output_type": "stream",
     "text": [
      "validation accuracy: 0.9471153846153846\n",
      "Valid Error 5.288 %\n",
      "Epoch 5/10\n"
     ]
    },
    {
     "name": "stderr",
     "output_type": "stream",
     "text": [
      "100%|██████████| 390/390 [00:24<00:00, 16.17it/s]\n",
      "100%|██████████| 78/78 [00:16<00:00,  4.74it/s]\n"
     ]
    },
    {
     "name": "stdout",
     "output_type": "stream",
     "text": [
      "validation accuracy: 0.9548277243589743\n",
      "Valid Error 4.517 %\n",
      "Epoch 6/10\n"
     ]
    },
    {
     "name": "stderr",
     "output_type": "stream",
     "text": [
      "100%|██████████| 390/390 [00:22<00:00, 16.98it/s]\n",
      "100%|██████████| 78/78 [00:16<00:00,  4.72it/s]\n"
     ]
    },
    {
     "name": "stdout",
     "output_type": "stream",
     "text": [
      "validation accuracy: 0.9581330128205128\n",
      "Valid Error 4.187 %\n",
      "Epoch 7/10\n"
     ]
    },
    {
     "name": "stderr",
     "output_type": "stream",
     "text": [
      "100%|██████████| 390/390 [00:23<00:00, 16.64it/s]\n",
      "100%|██████████| 78/78 [00:16<00:00,  4.67it/s]\n"
     ]
    },
    {
     "name": "stdout",
     "output_type": "stream",
     "text": [
      "validation accuracy: 0.9604366987179487\n",
      "Valid Error 3.956 %\n",
      "Epoch 8/10\n"
     ]
    },
    {
     "name": "stderr",
     "output_type": "stream",
     "text": [
      "100%|██████████| 390/390 [00:24<00:00, 16.20it/s]\n",
      "100%|██████████| 78/78 [00:18<00:00,  4.19it/s]\n"
     ]
    },
    {
     "name": "stdout",
     "output_type": "stream",
     "text": [
      "validation accuracy: 0.9600360576923077\n",
      "Valid Error 3.996 %\n",
      "Epoch 9/10\n"
     ]
    },
    {
     "name": "stderr",
     "output_type": "stream",
     "text": [
      "100%|██████████| 390/390 [00:24<00:00, 16.21it/s]\n",
      "100%|██████████| 78/78 [00:17<00:00,  4.44it/s]\n"
     ]
    },
    {
     "name": "stdout",
     "output_type": "stream",
     "text": [
      "validation accuracy: 0.9647435897435898\n",
      "Valid Error 3.526 %\n",
      "Epoch 10/10\n"
     ]
    },
    {
     "name": "stderr",
     "output_type": "stream",
     "text": [
      "100%|██████████| 390/390 [00:23<00:00, 16.39it/s]\n",
      "100%|██████████| 78/78 [00:16<00:00,  4.60it/s]\n"
     ]
    },
    {
     "name": "stdout",
     "output_type": "stream",
     "text": [
      "validation accuracy: 0.9629407051282052\n",
      "Valid Error 3.706 %\n",
      "Trying config: {'batch_size': 128, 'lr': 0.0001, 'epochs': 10, 'hidden_units': 1200, 'experiment': 'classification', 'dropout': False, 'train_samples': 2, 'test_samples': 10, 'x_shape': 784, 'classes': 10, 'mu_init': [-0.2, 0.2], 'rho_init': [-5, -4], 'prior_init': [0.75, 0, -7]}\n",
      "Epoch 1/10\n"
     ]
    },
    {
     "name": "stderr",
     "output_type": "stream",
     "text": [
      "100%|██████████| 390/390 [00:23<00:00, 16.54it/s]\n",
      "100%|██████████| 78/78 [00:17<00:00,  4.41it/s]\n"
     ]
    },
    {
     "name": "stdout",
     "output_type": "stream",
     "text": [
      "validation accuracy: 0.9160657051282052\n",
      "Valid Error 8.393 %\n",
      "Epoch 2/10\n"
     ]
    },
    {
     "name": "stderr",
     "output_type": "stream",
     "text": [
      "100%|██████████| 390/390 [00:22<00:00, 16.99it/s]\n",
      "100%|██████████| 78/78 [00:16<00:00,  4.62it/s]\n"
     ]
    },
    {
     "name": "stdout",
     "output_type": "stream",
     "text": [
      "validation accuracy: 0.9340945512820513\n",
      "Valid Error 6.591 %\n",
      "Epoch 3/10\n"
     ]
    },
    {
     "name": "stderr",
     "output_type": "stream",
     "text": [
      "100%|██████████| 390/390 [00:24<00:00, 16.23it/s]\n",
      "100%|██████████| 78/78 [00:16<00:00,  4.80it/s]\n"
     ]
    },
    {
     "name": "stdout",
     "output_type": "stream",
     "text": [
      "validation accuracy: 0.9468149038461539\n",
      "Valid Error 5.319 %\n",
      "Epoch 4/10\n"
     ]
    },
    {
     "name": "stderr",
     "output_type": "stream",
     "text": [
      "100%|██████████| 390/390 [00:23<00:00, 16.77it/s]\n",
      "100%|██████████| 78/78 [00:16<00:00,  4.76it/s]\n"
     ]
    },
    {
     "name": "stdout",
     "output_type": "stream",
     "text": [
      "validation accuracy: 0.9501201923076923\n",
      "Valid Error 4.988 %\n",
      "Epoch 5/10\n"
     ]
    },
    {
     "name": "stderr",
     "output_type": "stream",
     "text": [
      "100%|██████████| 390/390 [00:23<00:00, 16.91it/s]\n",
      "100%|██████████| 78/78 [00:16<00:00,  4.63it/s]\n"
     ]
    },
    {
     "name": "stdout",
     "output_type": "stream",
     "text": [
      "validation accuracy: 0.9563301282051282\n",
      "Valid Error 4.367 %\n",
      "Epoch 6/10\n"
     ]
    },
    {
     "name": "stderr",
     "output_type": "stream",
     "text": [
      "100%|██████████| 390/390 [00:22<00:00, 17.14it/s]\n",
      "100%|██████████| 78/78 [00:18<00:00,  4.32it/s]\n"
     ]
    },
    {
     "name": "stdout",
     "output_type": "stream",
     "text": [
      "validation accuracy: 0.9597355769230769\n",
      "Valid Error 4.026 %\n",
      "Epoch 7/10\n"
     ]
    },
    {
     "name": "stderr",
     "output_type": "stream",
     "text": [
      "100%|██████████| 390/390 [00:22<00:00, 17.22it/s]\n",
      "100%|██████████| 78/78 [00:16<00:00,  4.76it/s]\n"
     ]
    },
    {
     "name": "stdout",
     "output_type": "stream",
     "text": [
      "validation accuracy: 0.9628405448717948\n",
      "Valid Error 3.716 %\n",
      "Epoch 8/10\n"
     ]
    },
    {
     "name": "stderr",
     "output_type": "stream",
     "text": [
      "100%|██████████| 390/390 [00:23<00:00, 16.84it/s]\n",
      "100%|██████████| 78/78 [00:16<00:00,  4.74it/s]\n"
     ]
    },
    {
     "name": "stdout",
     "output_type": "stream",
     "text": [
      "validation accuracy: 0.9635416666666666\n",
      "Valid Error 3.646 %\n",
      "Epoch 9/10\n"
     ]
    },
    {
     "name": "stderr",
     "output_type": "stream",
     "text": [
      "100%|██████████| 390/390 [00:22<00:00, 17.10it/s]\n",
      "100%|██████████| 78/78 [00:16<00:00,  4.63it/s]\n"
     ]
    },
    {
     "name": "stdout",
     "output_type": "stream",
     "text": [
      "validation accuracy: 0.9642427884615384\n",
      "Valid Error 3.576 %\n",
      "Epoch 10/10\n"
     ]
    },
    {
     "name": "stderr",
     "output_type": "stream",
     "text": [
      "100%|██████████| 390/390 [00:23<00:00, 16.78it/s]\n",
      "100%|██████████| 78/78 [00:17<00:00,  4.58it/s]\n"
     ]
    },
    {
     "name": "stdout",
     "output_type": "stream",
     "text": [
      "validation accuracy: 0.96484375\n",
      "Valid Error 3.516 %\n",
      "Trying config: {'batch_size': 128, 'lr': 0.0001, 'epochs': 10, 'hidden_units': 1200, 'experiment': 'classification', 'dropout': False, 'train_samples': 2, 'test_samples': 10, 'x_shape': 784, 'classes': 10, 'mu_init': [-0.2, 0.2], 'rho_init': [-5, -4], 'prior_init': [0.75, -1, -6]}\n",
      "Epoch 1/10\n"
     ]
    },
    {
     "name": "stderr",
     "output_type": "stream",
     "text": [
      "100%|██████████| 390/390 [00:22<00:00, 17.06it/s]\n",
      "100%|██████████| 78/78 [00:17<00:00,  4.40it/s]\n"
     ]
    },
    {
     "name": "stdout",
     "output_type": "stream",
     "text": [
      "validation accuracy: 0.9202724358974359\n",
      "Valid Error 7.973 %\n",
      "Epoch 2/10\n"
     ]
    },
    {
     "name": "stderr",
     "output_type": "stream",
     "text": [
      "100%|██████████| 390/390 [00:23<00:00, 16.68it/s]\n",
      "100%|██████████| 78/78 [00:16<00:00,  4.72it/s]\n"
     ]
    },
    {
     "name": "stdout",
     "output_type": "stream",
     "text": [
      "validation accuracy: 0.9390024038461539\n",
      "Valid Error 6.1 %\n",
      "Epoch 3/10\n"
     ]
    },
    {
     "name": "stderr",
     "output_type": "stream",
     "text": [
      "100%|██████████| 390/390 [00:24<00:00, 15.88it/s]\n",
      "100%|██████████| 78/78 [00:17<00:00,  4.57it/s]\n"
     ]
    },
    {
     "name": "stdout",
     "output_type": "stream",
     "text": [
      "validation accuracy: 0.9501201923076923\n",
      "Valid Error 4.988 %\n",
      "Epoch 4/10\n"
     ]
    },
    {
     "name": "stderr",
     "output_type": "stream",
     "text": [
      "100%|██████████| 390/390 [00:23<00:00, 16.91it/s]\n",
      "100%|██████████| 78/78 [00:17<00:00,  4.40it/s]\n"
     ]
    },
    {
     "name": "stdout",
     "output_type": "stream",
     "text": [
      "validation accuracy: 0.9518229166666666\n",
      "Valid Error 4.818 %\n",
      "Epoch 5/10\n"
     ]
    },
    {
     "name": "stderr",
     "output_type": "stream",
     "text": [
      "100%|██████████| 390/390 [00:23<00:00, 16.85it/s]\n",
      "100%|██████████| 78/78 [00:16<00:00,  4.70it/s]\n"
     ]
    },
    {
     "name": "stdout",
     "output_type": "stream",
     "text": [
      "validation accuracy: 0.9576322115384616\n",
      "Valid Error 4.237 %\n",
      "Epoch 6/10\n"
     ]
    },
    {
     "name": "stderr",
     "output_type": "stream",
     "text": [
      "100%|██████████| 390/390 [00:22<00:00, 17.06it/s]\n",
      "100%|██████████| 78/78 [00:17<00:00,  4.56it/s]\n"
     ]
    },
    {
     "name": "stdout",
     "output_type": "stream",
     "text": [
      "validation accuracy: 0.9597355769230769\n",
      "Valid Error 4.026 %\n",
      "Epoch 7/10\n"
     ]
    },
    {
     "name": "stderr",
     "output_type": "stream",
     "text": [
      "100%|██████████| 390/390 [00:22<00:00, 16.97it/s]\n",
      "100%|██████████| 78/78 [00:17<00:00,  4.44it/s]\n"
     ]
    },
    {
     "name": "stdout",
     "output_type": "stream",
     "text": [
      "validation accuracy: 0.9598357371794872\n",
      "Valid Error 4.016 %\n",
      "Epoch 8/10\n"
     ]
    },
    {
     "name": "stderr",
     "output_type": "stream",
     "text": [
      "100%|██████████| 390/390 [00:24<00:00, 16.14it/s]\n",
      "100%|██████████| 78/78 [00:17<00:00,  4.52it/s]\n"
     ]
    },
    {
     "name": "stdout",
     "output_type": "stream",
     "text": [
      "validation accuracy: 0.9624399038461539\n",
      "Valid Error 3.756 %\n",
      "Epoch 9/10\n"
     ]
    },
    {
     "name": "stderr",
     "output_type": "stream",
     "text": [
      "100%|██████████| 390/390 [00:23<00:00, 16.95it/s]\n",
      "100%|██████████| 78/78 [00:17<00:00,  4.35it/s]\n"
     ]
    },
    {
     "name": "stdout",
     "output_type": "stream",
     "text": [
      "validation accuracy: 0.9636418269230769\n",
      "Valid Error 3.636 %\n",
      "Epoch 10/10\n"
     ]
    },
    {
     "name": "stderr",
     "output_type": "stream",
     "text": [
      "100%|██████████| 390/390 [00:22<00:00, 17.23it/s]\n",
      "100%|██████████| 78/78 [00:17<00:00,  4.58it/s]\n"
     ]
    },
    {
     "name": "stdout",
     "output_type": "stream",
     "text": [
      "validation accuracy: 0.9664463141025641\n",
      "Valid Error 3.355 %\n",
      "Trying config: {'batch_size': 128, 'lr': 0.0001, 'epochs': 10, 'hidden_units': 1200, 'experiment': 'classification', 'dropout': False, 'train_samples': 2, 'test_samples': 10, 'x_shape': 784, 'classes': 10, 'mu_init': [-0.2, 0.2], 'rho_init': [-5, -4], 'prior_init': [0.75, -1, -7]}\n",
      "Epoch 1/10\n"
     ]
    },
    {
     "name": "stderr",
     "output_type": "stream",
     "text": [
      "100%|██████████| 390/390 [00:22<00:00, 17.04it/s]\n",
      "100%|██████████| 78/78 [00:16<00:00,  4.63it/s]\n"
     ]
    },
    {
     "name": "stdout",
     "output_type": "stream",
     "text": [
      "validation accuracy: 0.9160657051282052\n",
      "Valid Error 8.393 %\n",
      "Epoch 2/10\n"
     ]
    },
    {
     "name": "stderr",
     "output_type": "stream",
     "text": [
      "100%|██████████| 390/390 [00:23<00:00, 16.55it/s]\n",
      "100%|██████████| 78/78 [00:16<00:00,  4.70it/s]\n"
     ]
    },
    {
     "name": "stdout",
     "output_type": "stream",
     "text": [
      "validation accuracy: 0.9387019230769231\n",
      "Valid Error 6.13 %\n",
      "Epoch 3/10\n"
     ]
    },
    {
     "name": "stderr",
     "output_type": "stream",
     "text": [
      "100%|██████████| 390/390 [00:23<00:00, 16.68it/s]\n",
      "100%|██████████| 78/78 [00:16<00:00,  4.68it/s]\n"
     ]
    },
    {
     "name": "stdout",
     "output_type": "stream",
     "text": [
      "validation accuracy: 0.9464142628205128\n",
      "Valid Error 5.359 %\n",
      "Epoch 4/10\n"
     ]
    },
    {
     "name": "stderr",
     "output_type": "stream",
     "text": [
      "100%|██████████| 390/390 [00:23<00:00, 16.76it/s]\n",
      "100%|██████████| 78/78 [00:18<00:00,  4.26it/s]\n"
     ]
    },
    {
     "name": "stdout",
     "output_type": "stream",
     "text": [
      "validation accuracy: 0.9521233974358975\n",
      "Valid Error 4.788 %\n",
      "Epoch 5/10\n"
     ]
    },
    {
     "name": "stderr",
     "output_type": "stream",
     "text": [
      "100%|██████████| 390/390 [00:23<00:00, 16.84it/s]\n",
      "100%|██████████| 78/78 [00:16<00:00,  4.60it/s]\n"
     ]
    },
    {
     "name": "stdout",
     "output_type": "stream",
     "text": [
      "validation accuracy: 0.9556290064102564\n",
      "Valid Error 4.437 %\n",
      "Epoch 6/10\n"
     ]
    },
    {
     "name": "stderr",
     "output_type": "stream",
     "text": [
      "100%|██████████| 390/390 [00:24<00:00, 16.11it/s]\n",
      "100%|██████████| 78/78 [00:16<00:00,  4.70it/s]\n"
     ]
    },
    {
     "name": "stdout",
     "output_type": "stream",
     "text": [
      "validation accuracy: 0.9603365384615384\n",
      "Valid Error 3.966 %\n",
      "Epoch 7/10\n"
     ]
    },
    {
     "name": "stderr",
     "output_type": "stream",
     "text": [
      "100%|██████████| 390/390 [00:23<00:00, 16.84it/s]\n",
      "100%|██████████| 78/78 [00:16<00:00,  4.62it/s]\n"
     ]
    },
    {
     "name": "stdout",
     "output_type": "stream",
     "text": [
      "validation accuracy: 0.9637419871794872\n",
      "Valid Error 3.626 %\n",
      "Epoch 8/10\n"
     ]
    },
    {
     "name": "stderr",
     "output_type": "stream",
     "text": [
      "100%|██████████| 390/390 [00:24<00:00, 15.99it/s]\n",
      "100%|██████████| 78/78 [00:17<00:00,  4.45it/s]\n"
     ]
    },
    {
     "name": "stdout",
     "output_type": "stream",
     "text": [
      "validation accuracy: 0.9619391025641025\n",
      "Valid Error 3.806 %\n",
      "Epoch 9/10\n"
     ]
    },
    {
     "name": "stderr",
     "output_type": "stream",
     "text": [
      "100%|██████████| 390/390 [00:24<00:00, 16.15it/s]\n",
      "100%|██████████| 78/78 [00:17<00:00,  4.41it/s]\n"
     ]
    },
    {
     "name": "stdout",
     "output_type": "stream",
     "text": [
      "validation accuracy: 0.9620392628205128\n",
      "Valid Error 3.796 %\n",
      "Epoch 10/10\n"
     ]
    },
    {
     "name": "stderr",
     "output_type": "stream",
     "text": [
      "100%|██████████| 390/390 [00:23<00:00, 16.67it/s]\n",
      "100%|██████████| 78/78 [00:16<00:00,  4.65it/s]\n"
     ]
    },
    {
     "name": "stdout",
     "output_type": "stream",
     "text": [
      "validation accuracy: 0.9655448717948718\n",
      "Valid Error 3.446 %\n",
      "Trying config: {'batch_size': 128, 'lr': 0.0001, 'epochs': 10, 'hidden_units': 1200, 'experiment': 'classification', 'dropout': False, 'train_samples': 5, 'test_samples': 10, 'x_shape': 784, 'classes': 10, 'mu_init': [-0.2, 0.2], 'rho_init': [-5, -4], 'prior_init': [0.25, 0, -6]}\n",
      "Epoch 1/10\n"
     ]
    },
    {
     "name": "stderr",
     "output_type": "stream",
     "text": [
      "100%|██████████| 390/390 [00:49<00:00,  7.92it/s]\n",
      "100%|██████████| 78/78 [00:16<00:00,  4.80it/s]\n"
     ]
    },
    {
     "name": "stdout",
     "output_type": "stream",
     "text": [
      "validation accuracy: 0.9092548076923077\n",
      "Valid Error 9.075 %\n",
      "Epoch 2/10\n"
     ]
    },
    {
     "name": "stderr",
     "output_type": "stream",
     "text": [
      "100%|██████████| 390/390 [00:48<00:00,  8.05it/s]\n",
      "100%|██████████| 78/78 [00:17<00:00,  4.52it/s]\n"
     ]
    },
    {
     "name": "stdout",
     "output_type": "stream",
     "text": [
      "validation accuracy: 0.9326923076923077\n",
      "Valid Error 6.731 %\n",
      "Epoch 3/10\n"
     ]
    },
    {
     "name": "stderr",
     "output_type": "stream",
     "text": [
      "100%|██████████| 390/390 [00:47<00:00,  8.26it/s]\n",
      "100%|██████████| 78/78 [00:16<00:00,  4.76it/s]\n"
     ]
    },
    {
     "name": "stdout",
     "output_type": "stream",
     "text": [
      "validation accuracy: 0.9469150641025641\n",
      "Valid Error 5.308 %\n",
      "Epoch 4/10\n"
     ]
    },
    {
     "name": "stderr",
     "output_type": "stream",
     "text": [
      "100%|██████████| 390/390 [00:47<00:00,  8.27it/s]\n",
      "100%|██████████| 78/78 [00:17<00:00,  4.49it/s]\n"
     ]
    },
    {
     "name": "stdout",
     "output_type": "stream",
     "text": [
      "validation accuracy: 0.9528245192307693\n",
      "Valid Error 4.718 %\n",
      "Epoch 5/10\n"
     ]
    },
    {
     "name": "stderr",
     "output_type": "stream",
     "text": [
      "100%|██████████| 390/390 [00:47<00:00,  8.21it/s]\n",
      "100%|██████████| 78/78 [00:16<00:00,  4.71it/s]\n"
     ]
    },
    {
     "name": "stdout",
     "output_type": "stream",
     "text": [
      "validation accuracy: 0.9584334935897436\n",
      "Valid Error 4.157 %\n",
      "Epoch 6/10\n"
     ]
    },
    {
     "name": "stderr",
     "output_type": "stream",
     "text": [
      "100%|██████████| 390/390 [00:48<00:00,  8.02it/s]\n",
      "100%|██████████| 78/78 [00:16<00:00,  4.72it/s]\n"
     ]
    },
    {
     "name": "stdout",
     "output_type": "stream",
     "text": [
      "validation accuracy: 0.9608373397435898\n",
      "Valid Error 3.916 %\n",
      "Epoch 7/10\n"
     ]
    },
    {
     "name": "stderr",
     "output_type": "stream",
     "text": [
      "100%|██████████| 390/390 [00:47<00:00,  8.22it/s]\n",
      "100%|██████████| 78/78 [00:17<00:00,  4.51it/s]\n"
     ]
    },
    {
     "name": "stdout",
     "output_type": "stream",
     "text": [
      "validation accuracy: 0.9650440705128205\n",
      "Valid Error 3.496 %\n",
      "Epoch 8/10\n"
     ]
    },
    {
     "name": "stderr",
     "output_type": "stream",
     "text": [
      "100%|██████████| 390/390 [00:47<00:00,  8.15it/s]\n",
      "100%|██████████| 78/78 [00:16<00:00,  4.71it/s]\n"
     ]
    },
    {
     "name": "stdout",
     "output_type": "stream",
     "text": [
      "validation accuracy: 0.9657451923076923\n",
      "Valid Error 3.425 %\n",
      "Epoch 9/10\n"
     ]
    },
    {
     "name": "stderr",
     "output_type": "stream",
     "text": [
      "100%|██████████| 390/390 [00:47<00:00,  8.18it/s]\n",
      "100%|██████████| 78/78 [00:16<00:00,  4.63it/s]\n"
     ]
    },
    {
     "name": "stdout",
     "output_type": "stream",
     "text": [
      "validation accuracy: 0.9669471153846154\n",
      "Valid Error 3.305 %\n",
      "Epoch 10/10\n"
     ]
    },
    {
     "name": "stderr",
     "output_type": "stream",
     "text": [
      "100%|██████████| 390/390 [00:48<00:00,  8.08it/s]\n",
      "100%|██████████| 78/78 [00:16<00:00,  4.67it/s]\n"
     ]
    },
    {
     "name": "stdout",
     "output_type": "stream",
     "text": [
      "validation accuracy: 0.9688501602564102\n",
      "Valid Error 3.115 %\n",
      "Trying config: {'batch_size': 128, 'lr': 0.0001, 'epochs': 10, 'hidden_units': 1200, 'experiment': 'classification', 'dropout': False, 'train_samples': 5, 'test_samples': 10, 'x_shape': 784, 'classes': 10, 'mu_init': [-0.2, 0.2], 'rho_init': [-5, -4], 'prior_init': [0.25, 0, -7]}\n",
      "Epoch 1/10\n"
     ]
    },
    {
     "name": "stderr",
     "output_type": "stream",
     "text": [
      "100%|██████████| 390/390 [00:47<00:00,  8.25it/s]\n",
      "100%|██████████| 78/78 [00:16<00:00,  4.67it/s]\n"
     ]
    },
    {
     "name": "stdout",
     "output_type": "stream",
     "text": [
      "validation accuracy: 0.9172676282051282\n",
      "Valid Error 8.273 %\n",
      "Epoch 2/10\n"
     ]
    },
    {
     "name": "stderr",
     "output_type": "stream",
     "text": [
      "100%|██████████| 390/390 [00:47<00:00,  8.18it/s]\n",
      "100%|██████████| 78/78 [00:16<00:00,  4.65it/s]\n"
     ]
    },
    {
     "name": "stdout",
     "output_type": "stream",
     "text": [
      "validation accuracy: 0.9413060897435898\n",
      "Valid Error 5.869 %\n",
      "Epoch 3/10\n"
     ]
    },
    {
     "name": "stderr",
     "output_type": "stream",
     "text": [
      "100%|██████████| 390/390 [00:49<00:00,  7.88it/s]\n",
      "100%|██████████| 78/78 [00:17<00:00,  4.59it/s]\n"
     ]
    },
    {
     "name": "stdout",
     "output_type": "stream",
     "text": [
      "validation accuracy: 0.9508213141025641\n",
      "Valid Error 4.918 %\n",
      "Epoch 4/10\n"
     ]
    },
    {
     "name": "stderr",
     "output_type": "stream",
     "text": [
      "100%|██████████| 390/390 [00:48<00:00,  8.09it/s]\n",
      "100%|██████████| 78/78 [00:16<00:00,  4.74it/s]\n"
     ]
    },
    {
     "name": "stdout",
     "output_type": "stream",
     "text": [
      "validation accuracy: 0.9554286858974359\n",
      "Valid Error 4.457 %\n",
      "Epoch 5/10\n"
     ]
    },
    {
     "name": "stderr",
     "output_type": "stream",
     "text": [
      "100%|██████████| 390/390 [00:49<00:00,  7.89it/s]\n",
      "100%|██████████| 78/78 [00:16<00:00,  4.76it/s]\n"
     ]
    },
    {
     "name": "stdout",
     "output_type": "stream",
     "text": [
      "validation accuracy: 0.9588341346153846\n",
      "Valid Error 4.117 %\n",
      "Epoch 6/10\n"
     ]
    },
    {
     "name": "stderr",
     "output_type": "stream",
     "text": [
      "100%|██████████| 390/390 [00:47<00:00,  8.14it/s]\n",
      "100%|██████████| 78/78 [00:16<00:00,  4.67it/s]\n"
     ]
    },
    {
     "name": "stdout",
     "output_type": "stream",
     "text": [
      "validation accuracy: 0.9628405448717948\n",
      "Valid Error 3.716 %\n",
      "Epoch 7/10\n"
     ]
    },
    {
     "name": "stderr",
     "output_type": "stream",
     "text": [
      "100%|██████████| 390/390 [00:48<00:00,  8.12it/s]\n",
      "100%|██████████| 78/78 [00:16<00:00,  4.73it/s]\n"
     ]
    },
    {
     "name": "stdout",
     "output_type": "stream",
     "text": [
      "validation accuracy: 0.9638421474358975\n",
      "Valid Error 3.616 %\n",
      "Epoch 8/10\n"
     ]
    },
    {
     "name": "stderr",
     "output_type": "stream",
     "text": [
      "100%|██████████| 390/390 [00:48<00:00,  8.12it/s]\n",
      "100%|██████████| 78/78 [00:16<00:00,  4.77it/s]\n"
     ]
    },
    {
     "name": "stdout",
     "output_type": "stream",
     "text": [
      "validation accuracy: 0.9665464743589743\n",
      "Valid Error 3.345 %\n",
      "Epoch 9/10\n"
     ]
    },
    {
     "name": "stderr",
     "output_type": "stream",
     "text": [
      "100%|██████████| 390/390 [00:48<00:00,  8.08it/s]\n",
      "100%|██████████| 78/78 [00:16<00:00,  4.60it/s]\n"
     ]
    },
    {
     "name": "stdout",
     "output_type": "stream",
     "text": [
      "validation accuracy: 0.9668469551282052\n",
      "Valid Error 3.315 %\n",
      "Epoch 10/10\n"
     ]
    },
    {
     "name": "stderr",
     "output_type": "stream",
     "text": [
      "100%|██████████| 390/390 [00:48<00:00,  8.08it/s]\n",
      "100%|██████████| 78/78 [00:16<00:00,  4.78it/s]\n"
     ]
    },
    {
     "name": "stdout",
     "output_type": "stream",
     "text": [
      "validation accuracy: 0.9689503205128205\n",
      "Valid Error 3.105 %\n",
      "Trying config: {'batch_size': 128, 'lr': 0.0001, 'epochs': 10, 'hidden_units': 1200, 'experiment': 'classification', 'dropout': False, 'train_samples': 5, 'test_samples': 10, 'x_shape': 784, 'classes': 10, 'mu_init': [-0.2, 0.2], 'rho_init': [-5, -4], 'prior_init': [0.25, -1, -6]}\n",
      "Epoch 1/10\n"
     ]
    },
    {
     "name": "stderr",
     "output_type": "stream",
     "text": [
      "100%|██████████| 390/390 [00:49<00:00,  7.93it/s]\n",
      "100%|██████████| 78/78 [00:17<00:00,  4.57it/s]\n"
     ]
    },
    {
     "name": "stdout",
     "output_type": "stream",
     "text": [
      "validation accuracy: 0.9173677884615384\n",
      "Valid Error 8.263 %\n",
      "Epoch 2/10\n"
     ]
    },
    {
     "name": "stderr",
     "output_type": "stream",
     "text": [
      "100%|██████████| 390/390 [00:48<00:00,  8.12it/s]\n",
      "100%|██████████| 78/78 [00:16<00:00,  4.65it/s]\n"
     ]
    },
    {
     "name": "stdout",
     "output_type": "stream",
     "text": [
      "validation accuracy: 0.9415064102564102\n",
      "Valid Error 5.849 %\n",
      "Epoch 3/10\n"
     ]
    },
    {
     "name": "stderr",
     "output_type": "stream",
     "text": [
      "100%|██████████| 390/390 [00:47<00:00,  8.15it/s]\n",
      "100%|██████████| 78/78 [00:17<00:00,  4.50it/s]\n"
     ]
    },
    {
     "name": "stdout",
     "output_type": "stream",
     "text": [
      "validation accuracy: 0.9504206730769231\n",
      "Valid Error 4.958 %\n",
      "Epoch 4/10\n"
     ]
    },
    {
     "name": "stderr",
     "output_type": "stream",
     "text": [
      "100%|██████████| 390/390 [00:47<00:00,  8.21it/s]\n",
      "100%|██████████| 78/78 [00:18<00:00,  4.27it/s]\n"
     ]
    },
    {
     "name": "stdout",
     "output_type": "stream",
     "text": [
      "validation accuracy: 0.9571314102564102\n",
      "Valid Error 4.287 %\n",
      "Epoch 5/10\n"
     ]
    },
    {
     "name": "stderr",
     "output_type": "stream",
     "text": [
      "100%|██████████| 390/390 [00:47<00:00,  8.13it/s]\n",
      "100%|██████████| 78/78 [00:17<00:00,  4.49it/s]\n"
     ]
    },
    {
     "name": "stdout",
     "output_type": "stream",
     "text": [
      "validation accuracy: 0.957832532051282\n",
      "Valid Error 4.217 %\n",
      "Epoch 6/10\n"
     ]
    },
    {
     "name": "stderr",
     "output_type": "stream",
     "text": [
      "100%|██████████| 390/390 [00:48<00:00,  7.98it/s]\n",
      "100%|██████████| 78/78 [00:17<00:00,  4.40it/s]\n"
     ]
    },
    {
     "name": "stdout",
     "output_type": "stream",
     "text": [
      "validation accuracy: 0.9610376602564102\n",
      "Valid Error 3.896 %\n",
      "Epoch 7/10\n"
     ]
    },
    {
     "name": "stderr",
     "output_type": "stream",
     "text": [
      "100%|██████████| 390/390 [00:48<00:00,  8.09it/s]\n",
      "100%|██████████| 78/78 [00:19<00:00,  3.97it/s]\n"
     ]
    },
    {
     "name": "stdout",
     "output_type": "stream",
     "text": [
      "validation accuracy: 0.9623397435897436\n",
      "Valid Error 3.766 %\n",
      "Epoch 8/10\n"
     ]
    },
    {
     "name": "stderr",
     "output_type": "stream",
     "text": [
      "100%|██████████| 390/390 [00:47<00:00,  8.25it/s]\n",
      "100%|██████████| 78/78 [00:18<00:00,  4.29it/s]\n"
     ]
    },
    {
     "name": "stdout",
     "output_type": "stream",
     "text": [
      "validation accuracy: 0.96484375\n",
      "Valid Error 3.516 %\n",
      "Epoch 9/10\n"
     ]
    },
    {
     "name": "stderr",
     "output_type": "stream",
     "text": [
      "100%|██████████| 390/390 [00:47<00:00,  8.19it/s]\n",
      "100%|██████████| 78/78 [00:17<00:00,  4.51it/s]\n"
     ]
    },
    {
     "name": "stdout",
     "output_type": "stream",
     "text": [
      "validation accuracy: 0.9650440705128205\n",
      "Valid Error 3.496 %\n",
      "Epoch 10/10\n"
     ]
    },
    {
     "name": "stderr",
     "output_type": "stream",
     "text": [
      "100%|██████████| 390/390 [00:47<00:00,  8.22it/s]\n",
      "100%|██████████| 78/78 [00:16<00:00,  4.63it/s]\n"
     ]
    },
    {
     "name": "stdout",
     "output_type": "stream",
     "text": [
      "validation accuracy: 0.9676482371794872\n",
      "Valid Error 3.235 %\n",
      "Trying config: {'batch_size': 128, 'lr': 0.0001, 'epochs': 10, 'hidden_units': 1200, 'experiment': 'classification', 'dropout': False, 'train_samples': 5, 'test_samples': 10, 'x_shape': 784, 'classes': 10, 'mu_init': [-0.2, 0.2], 'rho_init': [-5, -4], 'prior_init': [0.25, -1, -7]}\n",
      "Epoch 1/10\n"
     ]
    },
    {
     "name": "stderr",
     "output_type": "stream",
     "text": [
      "100%|██████████| 390/390 [00:47<00:00,  8.20it/s]\n",
      "100%|██████████| 78/78 [00:18<00:00,  4.19it/s]\n"
     ]
    },
    {
     "name": "stdout",
     "output_type": "stream",
     "text": [
      "validation accuracy: 0.9157652243589743\n",
      "Valid Error 8.423 %\n",
      "Epoch 2/10\n"
     ]
    },
    {
     "name": "stderr",
     "output_type": "stream",
     "text": [
      "100%|██████████| 390/390 [00:47<00:00,  8.14it/s]\n",
      "100%|██████████| 78/78 [00:16<00:00,  4.68it/s]\n"
     ]
    },
    {
     "name": "stdout",
     "output_type": "stream",
     "text": [
      "validation accuracy: 0.9368990384615384\n",
      "Valid Error 6.31 %\n",
      "Epoch 3/10\n"
     ]
    },
    {
     "name": "stderr",
     "output_type": "stream",
     "text": [
      "100%|██████████| 390/390 [00:47<00:00,  8.17it/s]\n",
      "100%|██████████| 78/78 [00:16<00:00,  4.71it/s]\n"
     ]
    },
    {
     "name": "stdout",
     "output_type": "stream",
     "text": [
      "validation accuracy: 0.9490184294871795\n",
      "Valid Error 5.098 %\n",
      "Epoch 4/10\n"
     ]
    },
    {
     "name": "stderr",
     "output_type": "stream",
     "text": [
      "100%|██████████| 390/390 [00:47<00:00,  8.14it/s]\n",
      "100%|██████████| 78/78 [00:16<00:00,  4.64it/s]\n"
     ]
    },
    {
     "name": "stdout",
     "output_type": "stream",
     "text": [
      "validation accuracy: 0.9540264423076923\n",
      "Valid Error 4.597 %\n",
      "Epoch 5/10\n"
     ]
    },
    {
     "name": "stderr",
     "output_type": "stream",
     "text": [
      "100%|██████████| 390/390 [00:48<00:00,  8.08it/s]\n",
      "100%|██████████| 78/78 [00:16<00:00,  4.71it/s]\n"
     ]
    },
    {
     "name": "stdout",
     "output_type": "stream",
     "text": [
      "validation accuracy: 0.9594350961538461\n",
      "Valid Error 4.056 %\n",
      "Epoch 6/10\n"
     ]
    },
    {
     "name": "stderr",
     "output_type": "stream",
     "text": [
      "100%|██████████| 390/390 [00:48<00:00,  8.04it/s]\n",
      "100%|██████████| 78/78 [00:16<00:00,  4.78it/s]\n"
     ]
    },
    {
     "name": "stdout",
     "output_type": "stream",
     "text": [
      "validation accuracy: 0.9606370192307693\n",
      "Valid Error 3.936 %\n",
      "Epoch 7/10\n"
     ]
    },
    {
     "name": "stderr",
     "output_type": "stream",
     "text": [
      "100%|██████████| 390/390 [00:49<00:00,  7.87it/s]\n",
      "100%|██████████| 78/78 [00:16<00:00,  4.78it/s]\n"
     ]
    },
    {
     "name": "stdout",
     "output_type": "stream",
     "text": [
      "validation accuracy: 0.9619391025641025\n",
      "Valid Error 3.806 %\n",
      "Epoch 8/10\n"
     ]
    },
    {
     "name": "stderr",
     "output_type": "stream",
     "text": [
      "100%|██████████| 390/390 [00:48<00:00,  8.07it/s]\n",
      "100%|██████████| 78/78 [00:16<00:00,  4.70it/s]\n"
     ]
    },
    {
     "name": "stdout",
     "output_type": "stream",
     "text": [
      "validation accuracy: 0.9658453525641025\n",
      "Valid Error 3.415 %\n",
      "Epoch 9/10\n"
     ]
    },
    {
     "name": "stderr",
     "output_type": "stream",
     "text": [
      "100%|██████████| 390/390 [00:48<00:00,  8.01it/s]\n",
      "100%|██████████| 78/78 [00:16<00:00,  4.69it/s]\n"
     ]
    },
    {
     "name": "stdout",
     "output_type": "stream",
     "text": [
      "validation accuracy: 0.9658453525641025\n",
      "Valid Error 3.415 %\n",
      "Epoch 10/10\n"
     ]
    },
    {
     "name": "stderr",
     "output_type": "stream",
     "text": [
      "100%|██████████| 390/390 [00:49<00:00,  7.84it/s]\n",
      "100%|██████████| 78/78 [00:16<00:00,  4.68it/s]\n"
     ]
    },
    {
     "name": "stdout",
     "output_type": "stream",
     "text": [
      "validation accuracy: 0.9693509615384616\n",
      "Valid Error 3.065 %\n",
      "Trying config: {'batch_size': 128, 'lr': 0.0001, 'epochs': 10, 'hidden_units': 1200, 'experiment': 'classification', 'dropout': False, 'train_samples': 5, 'test_samples': 10, 'x_shape': 784, 'classes': 10, 'mu_init': [-0.2, 0.2], 'rho_init': [-5, -4], 'prior_init': [0.75, 0, -6]}\n",
      "Epoch 1/10\n"
     ]
    },
    {
     "name": "stderr",
     "output_type": "stream",
     "text": [
      "100%|██████████| 390/390 [00:49<00:00,  7.85it/s]\n",
      "100%|██████████| 78/78 [00:16<00:00,  4.70it/s]\n"
     ]
    },
    {
     "name": "stdout",
     "output_type": "stream",
     "text": [
      "validation accuracy: 0.9114583333333334\n",
      "Valid Error 8.854 %\n",
      "Epoch 2/10\n"
     ]
    },
    {
     "name": "stderr",
     "output_type": "stream",
     "text": [
      "100%|██████████| 390/390 [00:49<00:00,  7.92it/s]\n",
      "100%|██████████| 78/78 [00:16<00:00,  4.59it/s]\n"
     ]
    },
    {
     "name": "stdout",
     "output_type": "stream",
     "text": [
      "validation accuracy: 0.9372996794871795\n",
      "Valid Error 6.27 %\n",
      "Epoch 3/10\n"
     ]
    },
    {
     "name": "stderr",
     "output_type": "stream",
     "text": [
      "100%|██████████| 390/390 [00:49<00:00,  7.90it/s]\n",
      "100%|██████████| 78/78 [00:16<00:00,  4.60it/s]\n"
     ]
    },
    {
     "name": "stdout",
     "output_type": "stream",
     "text": [
      "validation accuracy: 0.9478165064102564\n",
      "Valid Error 5.218 %\n",
      "Epoch 4/10\n"
     ]
    },
    {
     "name": "stderr",
     "output_type": "stream",
     "text": [
      "100%|██████████| 390/390 [00:49<00:00,  7.95it/s]\n",
      "100%|██████████| 78/78 [00:16<00:00,  4.64it/s]\n"
     ]
    },
    {
     "name": "stdout",
     "output_type": "stream",
     "text": [
      "validation accuracy: 0.9527243589743589\n",
      "Valid Error 4.728 %\n",
      "Epoch 5/10\n"
     ]
    },
    {
     "name": "stderr",
     "output_type": "stream",
     "text": [
      "100%|██████████| 390/390 [00:48<00:00,  8.02it/s]\n",
      "100%|██████████| 78/78 [00:17<00:00,  4.54it/s]\n"
     ]
    },
    {
     "name": "stdout",
     "output_type": "stream",
     "text": [
      "validation accuracy: 0.960136217948718\n",
      "Valid Error 3.986 %\n",
      "Epoch 6/10\n"
     ]
    },
    {
     "name": "stderr",
     "output_type": "stream",
     "text": [
      "100%|██████████| 390/390 [00:48<00:00,  8.05it/s]\n",
      "100%|██████████| 78/78 [00:16<00:00,  4.63it/s]\n"
     ]
    },
    {
     "name": "stdout",
     "output_type": "stream",
     "text": [
      "validation accuracy: 0.9589342948717948\n",
      "Valid Error 4.107 %\n",
      "Epoch 7/10\n"
     ]
    },
    {
     "name": "stderr",
     "output_type": "stream",
     "text": [
      "100%|██████████| 390/390 [00:48<00:00,  8.10it/s]\n",
      "100%|██████████| 78/78 [00:16<00:00,  4.64it/s]\n"
     ]
    },
    {
     "name": "stdout",
     "output_type": "stream",
     "text": [
      "validation accuracy: 0.9626402243589743\n",
      "Valid Error 3.736 %\n",
      "Epoch 8/10\n"
     ]
    },
    {
     "name": "stderr",
     "output_type": "stream",
     "text": [
      "100%|██████████| 390/390 [00:48<00:00,  8.02it/s]\n",
      "100%|██████████| 78/78 [00:16<00:00,  4.70it/s]\n"
     ]
    },
    {
     "name": "stdout",
     "output_type": "stream",
     "text": [
      "validation accuracy: 0.9664463141025641\n",
      "Valid Error 3.355 %\n",
      "Epoch 9/10\n"
     ]
    },
    {
     "name": "stderr",
     "output_type": "stream",
     "text": [
      "100%|██████████| 390/390 [00:49<00:00,  7.82it/s]\n",
      "100%|██████████| 78/78 [00:17<00:00,  4.50it/s]\n"
     ]
    },
    {
     "name": "stdout",
     "output_type": "stream",
     "text": [
      "validation accuracy: 0.9666466346153846\n",
      "Valid Error 3.335 %\n",
      "Epoch 10/10\n"
     ]
    },
    {
     "name": "stderr",
     "output_type": "stream",
     "text": [
      "100%|██████████| 390/390 [00:49<00:00,  7.82it/s]\n",
      "100%|██████████| 78/78 [00:17<00:00,  4.55it/s]\n"
     ]
    },
    {
     "name": "stdout",
     "output_type": "stream",
     "text": [
      "validation accuracy: 0.9681490384615384\n",
      "Valid Error 3.185 %\n",
      "Trying config: {'batch_size': 128, 'lr': 0.0001, 'epochs': 10, 'hidden_units': 1200, 'experiment': 'classification', 'dropout': False, 'train_samples': 5, 'test_samples': 10, 'x_shape': 784, 'classes': 10, 'mu_init': [-0.2, 0.2], 'rho_init': [-5, -4], 'prior_init': [0.75, 0, -7]}\n",
      "Epoch 1/10\n"
     ]
    },
    {
     "name": "stderr",
     "output_type": "stream",
     "text": [
      "100%|██████████| 390/390 [00:49<00:00,  7.95it/s]\n",
      "100%|██████████| 78/78 [00:16<00:00,  4.74it/s]\n"
     ]
    },
    {
     "name": "stdout",
     "output_type": "stream",
     "text": [
      "validation accuracy: 0.9173677884615384\n",
      "Valid Error 8.263 %\n",
      "Epoch 2/10\n"
     ]
    },
    {
     "name": "stderr",
     "output_type": "stream",
     "text": [
      "100%|██████████| 390/390 [00:48<00:00,  8.05it/s]\n",
      "100%|██████████| 78/78 [00:16<00:00,  4.70it/s]\n"
     ]
    },
    {
     "name": "stdout",
     "output_type": "stream",
     "text": [
      "validation accuracy: 0.9388020833333334\n",
      "Valid Error 6.12 %\n",
      "Epoch 3/10\n"
     ]
    },
    {
     "name": "stderr",
     "output_type": "stream",
     "text": [
      "100%|██████████| 390/390 [00:49<00:00,  7.92it/s]\n",
      "100%|██████████| 78/78 [00:16<00:00,  4.69it/s]\n"
     ]
    },
    {
     "name": "stdout",
     "output_type": "stream",
     "text": [
      "validation accuracy: 0.9450120192307693\n",
      "Valid Error 5.499 %\n",
      "Epoch 4/10\n"
     ]
    },
    {
     "name": "stderr",
     "output_type": "stream",
     "text": [
      "100%|██████████| 390/390 [00:48<00:00,  7.97it/s]\n",
      "100%|██████████| 78/78 [00:16<00:00,  4.63it/s]\n"
     ]
    },
    {
     "name": "stdout",
     "output_type": "stream",
     "text": [
      "validation accuracy: 0.9511217948717948\n",
      "Valid Error 4.888 %\n",
      "Epoch 5/10\n"
     ]
    },
    {
     "name": "stderr",
     "output_type": "stream",
     "text": [
      "100%|██████████| 390/390 [00:47<00:00,  8.21it/s]\n",
      "100%|██████████| 78/78 [00:16<00:00,  4.69it/s]\n"
     ]
    },
    {
     "name": "stdout",
     "output_type": "stream",
     "text": [
      "validation accuracy: 0.9559294871794872\n",
      "Valid Error 4.407 %\n",
      "Epoch 6/10\n"
     ]
    },
    {
     "name": "stderr",
     "output_type": "stream",
     "text": [
      "100%|██████████| 390/390 [00:48<00:00,  8.05it/s]\n",
      "100%|██████████| 78/78 [00:16<00:00,  4.77it/s]\n"
     ]
    },
    {
     "name": "stdout",
     "output_type": "stream",
     "text": [
      "validation accuracy: 0.9600360576923077\n",
      "Valid Error 3.996 %\n",
      "Epoch 7/10\n"
     ]
    },
    {
     "name": "stderr",
     "output_type": "stream",
     "text": [
      "100%|██████████| 390/390 [00:47<00:00,  8.16it/s]\n",
      "100%|██████████| 78/78 [00:16<00:00,  4.70it/s]\n"
     ]
    },
    {
     "name": "stdout",
     "output_type": "stream",
     "text": [
      "validation accuracy: 0.9609375\n",
      "Valid Error 3.906 %\n",
      "Epoch 8/10\n"
     ]
    },
    {
     "name": "stderr",
     "output_type": "stream",
     "text": [
      "100%|██████████| 390/390 [00:46<00:00,  8.44it/s]\n",
      "100%|██████████| 78/78 [00:16<00:00,  4.74it/s]\n"
     ]
    },
    {
     "name": "stdout",
     "output_type": "stream",
     "text": [
      "validation accuracy: 0.9637419871794872\n",
      "Valid Error 3.626 %\n",
      "Epoch 9/10\n"
     ]
    },
    {
     "name": "stderr",
     "output_type": "stream",
     "text": [
      "100%|██████████| 390/390 [00:46<00:00,  8.33it/s]\n",
      "100%|██████████| 78/78 [00:16<00:00,  4.67it/s]\n"
     ]
    },
    {
     "name": "stdout",
     "output_type": "stream",
     "text": [
      "validation accuracy: 0.9614383012820513\n",
      "Valid Error 3.856 %\n",
      "Epoch 10/10\n"
     ]
    },
    {
     "name": "stderr",
     "output_type": "stream",
     "text": [
      "100%|██████████| 390/390 [00:46<00:00,  8.34it/s]\n",
      "100%|██████████| 78/78 [00:17<00:00,  4.44it/s]\n"
     ]
    },
    {
     "name": "stdout",
     "output_type": "stream",
     "text": [
      "validation accuracy: 0.9646434294871795\n",
      "Valid Error 3.536 %\n",
      "Trying config: {'batch_size': 128, 'lr': 0.0001, 'epochs': 10, 'hidden_units': 1200, 'experiment': 'classification', 'dropout': False, 'train_samples': 5, 'test_samples': 10, 'x_shape': 784, 'classes': 10, 'mu_init': [-0.2, 0.2], 'rho_init': [-5, -4], 'prior_init': [0.75, -1, -6]}\n",
      "Epoch 1/10\n"
     ]
    },
    {
     "name": "stderr",
     "output_type": "stream",
     "text": [
      "100%|██████████| 390/390 [00:46<00:00,  8.31it/s]\n",
      "100%|██████████| 78/78 [00:16<00:00,  4.62it/s]\n"
     ]
    },
    {
     "name": "stdout",
     "output_type": "stream",
     "text": [
      "validation accuracy: 0.9197716346153846\n",
      "Valid Error 8.023 %\n",
      "Epoch 2/10\n"
     ]
    },
    {
     "name": "stderr",
     "output_type": "stream",
     "text": [
      "100%|██████████| 390/390 [00:46<00:00,  8.39it/s]\n",
      "100%|██████████| 78/78 [00:16<00:00,  4.68it/s]\n"
     ]
    },
    {
     "name": "stdout",
     "output_type": "stream",
     "text": [
      "validation accuracy: 0.9318910256410257\n",
      "Valid Error 6.811 %\n",
      "Epoch 3/10\n"
     ]
    },
    {
     "name": "stderr",
     "output_type": "stream",
     "text": [
      "100%|██████████| 390/390 [00:47<00:00,  8.27it/s]\n",
      "100%|██████████| 78/78 [00:16<00:00,  4.73it/s]\n"
     ]
    },
    {
     "name": "stdout",
     "output_type": "stream",
     "text": [
      "validation accuracy: 0.950020032051282\n",
      "Valid Error 4.998 %\n",
      "Epoch 4/10\n"
     ]
    },
    {
     "name": "stderr",
     "output_type": "stream",
     "text": [
      "100%|██████████| 390/390 [00:48<00:00,  8.07it/s]\n",
      "100%|██████████| 78/78 [00:16<00:00,  4.70it/s]\n"
     ]
    },
    {
     "name": "stdout",
     "output_type": "stream",
     "text": [
      "validation accuracy: 0.9525240384615384\n",
      "Valid Error 4.748 %\n",
      "Epoch 5/10\n"
     ]
    },
    {
     "name": "stderr",
     "output_type": "stream",
     "text": [
      "100%|██████████| 390/390 [00:47<00:00,  8.24it/s]\n",
      "100%|██████████| 78/78 [00:16<00:00,  4.70it/s]\n"
     ]
    },
    {
     "name": "stdout",
     "output_type": "stream",
     "text": [
      "validation accuracy: 0.9577323717948718\n",
      "Valid Error 4.227 %\n",
      "Epoch 6/10\n"
     ]
    },
    {
     "name": "stderr",
     "output_type": "stream",
     "text": [
      "100%|██████████| 390/390 [00:48<00:00,  8.01it/s]\n",
      "100%|██████████| 78/78 [00:16<00:00,  4.67it/s]\n"
     ]
    },
    {
     "name": "stdout",
     "output_type": "stream",
     "text": [
      "validation accuracy: 0.9603365384615384\n",
      "Valid Error 3.966 %\n",
      "Epoch 7/10\n"
     ]
    },
    {
     "name": "stderr",
     "output_type": "stream",
     "text": [
      "100%|██████████| 390/390 [00:48<00:00,  8.01it/s]\n",
      "100%|██████████| 78/78 [00:16<00:00,  4.68it/s]\n"
     ]
    },
    {
     "name": "stdout",
     "output_type": "stream",
     "text": [
      "validation accuracy: 0.9629407051282052\n",
      "Valid Error 3.706 %\n",
      "Epoch 8/10\n"
     ]
    },
    {
     "name": "stderr",
     "output_type": "stream",
     "text": [
      "100%|██████████| 390/390 [00:47<00:00,  8.21it/s]\n",
      "100%|██████████| 78/78 [00:16<00:00,  4.75it/s]\n"
     ]
    },
    {
     "name": "stdout",
     "output_type": "stream",
     "text": [
      "validation accuracy: 0.9662459935897436\n",
      "Valid Error 3.375 %\n",
      "Epoch 9/10\n"
     ]
    },
    {
     "name": "stderr",
     "output_type": "stream",
     "text": [
      "100%|██████████| 390/390 [00:48<00:00,  8.03it/s]\n",
      "100%|██████████| 78/78 [00:16<00:00,  4.72it/s]\n"
     ]
    },
    {
     "name": "stdout",
     "output_type": "stream",
     "text": [
      "validation accuracy: 0.9638421474358975\n",
      "Valid Error 3.616 %\n",
      "Epoch 10/10\n"
     ]
    },
    {
     "name": "stderr",
     "output_type": "stream",
     "text": [
      "100%|██████████| 390/390 [00:48<00:00,  7.99it/s]\n",
      "100%|██████████| 78/78 [00:16<00:00,  4.81it/s]\n"
     ]
    },
    {
     "name": "stdout",
     "output_type": "stream",
     "text": [
      "validation accuracy: 0.9659455128205128\n",
      "Valid Error 3.405 %\n",
      "Trying config: {'batch_size': 128, 'lr': 0.0001, 'epochs': 10, 'hidden_units': 1200, 'experiment': 'classification', 'dropout': False, 'train_samples': 5, 'test_samples': 10, 'x_shape': 784, 'classes': 10, 'mu_init': [-0.2, 0.2], 'rho_init': [-5, -4], 'prior_init': [0.75, -1, -7]}\n",
      "Epoch 1/10\n"
     ]
    },
    {
     "name": "stderr",
     "output_type": "stream",
     "text": [
      "100%|██████████| 390/390 [00:46<00:00,  8.31it/s]\n",
      "100%|██████████| 78/78 [00:16<00:00,  4.78it/s]\n"
     ]
    },
    {
     "name": "stdout",
     "output_type": "stream",
     "text": [
      "validation accuracy: 0.9110576923076923\n",
      "Valid Error 8.894 %\n",
      "Epoch 2/10\n"
     ]
    },
    {
     "name": "stderr",
     "output_type": "stream",
     "text": [
      "100%|██████████| 390/390 [00:47<00:00,  8.28it/s]\n",
      "100%|██████████| 78/78 [00:16<00:00,  4.81it/s]\n"
     ]
    },
    {
     "name": "stdout",
     "output_type": "stream",
     "text": [
      "validation accuracy: 0.9385016025641025\n",
      "Valid Error 6.15 %\n",
      "Epoch 3/10\n"
     ]
    },
    {
     "name": "stderr",
     "output_type": "stream",
     "text": [
      "100%|██████████| 390/390 [00:47<00:00,  8.14it/s]\n",
      "100%|██████████| 78/78 [00:16<00:00,  4.75it/s]\n"
     ]
    },
    {
     "name": "stdout",
     "output_type": "stream",
     "text": [
      "validation accuracy: 0.9459134615384616\n",
      "Valid Error 5.409 %\n",
      "Epoch 4/10\n"
     ]
    },
    {
     "name": "stderr",
     "output_type": "stream",
     "text": [
      "100%|██████████| 390/390 [00:48<00:00,  7.96it/s]\n",
      "100%|██████████| 78/78 [00:16<00:00,  4.77it/s]\n"
     ]
    },
    {
     "name": "stdout",
     "output_type": "stream",
     "text": [
      "validation accuracy: 0.9521233974358975\n",
      "Valid Error 4.788 %\n",
      "Epoch 5/10\n"
     ]
    },
    {
     "name": "stderr",
     "output_type": "stream",
     "text": [
      "100%|██████████| 390/390 [00:47<00:00,  8.16it/s]\n",
      "100%|██████████| 78/78 [00:16<00:00,  4.83it/s]\n"
     ]
    },
    {
     "name": "stdout",
     "output_type": "stream",
     "text": [
      "validation accuracy: 0.9598357371794872\n",
      "Valid Error 4.016 %\n",
      "Epoch 6/10\n"
     ]
    },
    {
     "name": "stderr",
     "output_type": "stream",
     "text": [
      "100%|██████████| 390/390 [00:48<00:00,  8.12it/s]\n",
      "100%|██████████| 78/78 [00:16<00:00,  4.76it/s]\n"
     ]
    },
    {
     "name": "stdout",
     "output_type": "stream",
     "text": [
      "validation accuracy: 0.9588341346153846\n",
      "Valid Error 4.117 %\n",
      "Epoch 7/10\n"
     ]
    },
    {
     "name": "stderr",
     "output_type": "stream",
     "text": [
      "100%|██████████| 390/390 [00:47<00:00,  8.14it/s]\n",
      "100%|██████████| 78/78 [00:16<00:00,  4.75it/s]\n"
     ]
    },
    {
     "name": "stdout",
     "output_type": "stream",
     "text": [
      "validation accuracy: 0.9635416666666666\n",
      "Valid Error 3.646 %\n",
      "Epoch 8/10\n"
     ]
    },
    {
     "name": "stderr",
     "output_type": "stream",
     "text": [
      "100%|██████████| 390/390 [00:47<00:00,  8.21it/s]\n",
      "100%|██████████| 78/78 [00:19<00:00,  3.92it/s]\n"
     ]
    },
    {
     "name": "stdout",
     "output_type": "stream",
     "text": [
      "validation accuracy: 0.9660456730769231\n",
      "Valid Error 3.395 %\n",
      "Epoch 9/10\n"
     ]
    },
    {
     "name": "stderr",
     "output_type": "stream",
     "text": [
      "100%|██████████| 390/390 [00:46<00:00,  8.33it/s]\n",
      "100%|██████████| 78/78 [00:17<00:00,  4.47it/s]\n"
     ]
    },
    {
     "name": "stdout",
     "output_type": "stream",
     "text": [
      "validation accuracy: 0.9646434294871795\n",
      "Valid Error 3.536 %\n",
      "Epoch 10/10\n"
     ]
    },
    {
     "name": "stderr",
     "output_type": "stream",
     "text": [
      "100%|██████████| 390/390 [00:47<00:00,  8.18it/s]\n",
      "100%|██████████| 78/78 [00:16<00:00,  4.74it/s]"
     ]
    },
    {
     "name": "stdout",
     "output_type": "stream",
     "text": [
      "validation accuracy: 0.9691506410256411\n",
      "Valid Error 3.085 %\n",
      "Best Config:\n",
      "{'batch_size': 128, 'lr': 0.001, 'epochs': 10, 'hidden_units': 1200, 'experiment': 'classification', 'dropout': False, 'train_samples': 1, 'test_samples': 10, 'x_shape': 784, 'classes': 10, 'mu_init': [-0.2, 0.2], 'rho_init': [-5, -4], 'prior_init': [0.75, 0, -7]}\n",
      "Best Validation Accuracy: 0.9767\n"
     ]
    },
    {
     "name": "stderr",
     "output_type": "stream",
     "text": [
      "\n"
     ]
    }
   ],
   "source": [
    "best_val_acc = 0.0\n",
    "best_config = None\n",
    "best_model = None\n",
    "\n",
    "for config in generate_param_combinations(search_config):\n",
    "    print(f\"Trying config: {config}\")\n",
    "    val_acc, model = class_trainer(config)\n",
    "\n",
    "    if val_acc > best_val_acc:\n",
    "        best_val_acc = val_acc\n",
    "        best_config = deepcopy(config)\n",
    "        best_model = model\n",
    "\n",
    "print(\"Best Config:\")\n",
    "print(best_config)\n",
    "print(f\"Best Validation Accuracy: {best_val_acc:.4f}\")"
   ]
  },
  {
   "cell_type": "code",
   "execution_count": 13,
   "id": "8e2893a8",
   "metadata": {
    "execution": {
     "iopub.execute_input": "2025-06-06T21:11:04.673694Z",
     "iopub.status.busy": "2025-06-06T21:11:04.673408Z",
     "iopub.status.idle": "2025-06-06T21:11:04.677398Z",
     "shell.execute_reply": "2025-06-06T21:11:04.676907Z"
    },
    "papermill": {
     "duration": 6.443676,
     "end_time": "2025-06-06T21:11:04.678382",
     "exception": false,
     "start_time": "2025-06-06T21:10:58.234706",
     "status": "completed"
    },
    "tags": []
   },
   "outputs": [],
   "source": [
    "# from tqdm import tqdm\n",
    "# import numpy as np\n",
    "# import torch\n",
    "# from torch.utils.data import SubsetRandomSampler\n",
    "# from torchvision import datasets, transforms\n",
    "# from itertools import product\n",
    "\n",
    "# def class_trainer(config):\n",
    "\n",
    "#     transform = transforms.Compose([\n",
    "#         transforms.ToTensor(),\n",
    "#         transforms.Lambda(lambda x: x * 255. / 126.),\n",
    "#     ])\n",
    "\n",
    "#     train_data = datasets.MNIST(\n",
    "#         root='data',\n",
    "#         train=True,\n",
    "#         download=True,\n",
    "#         transform=transform)\n",
    "#     test_data = datasets.MNIST(\n",
    "#         root='data',\n",
    "#         train=False,\n",
    "#         download=True,\n",
    "#         transform=transform)\n",
    "\n",
    "#     valid_size = 1 / 6\n",
    "#     num_train = len(train_data)\n",
    "#     indices = list(range(num_train))\n",
    "#     split = int(valid_size * num_train)\n",
    "#     train_idx, valid_idx = indices[split:], indices[:split]\n",
    "\n",
    "#     train_sampler = SubsetRandomSampler(train_idx)\n",
    "#     valid_sampler = SubsetRandomSampler(valid_idx)\n",
    "\n",
    "#     train_loader = torch.utils.data.DataLoader(\n",
    "#         train_data,\n",
    "#         batch_size=config['batch_size'],\n",
    "#         sampler=train_sampler,\n",
    "#         drop_last=True)\n",
    "#     valid_loader = torch.utils.data.DataLoader(\n",
    "#         train_data,\n",
    "#         batch_size=config['batch_size'],\n",
    "#         sampler=valid_sampler,\n",
    "#         drop_last=True)\n",
    "#     test_loader = torch.utils.data.DataLoader(\n",
    "#         test_data,\n",
    "#         batch_size=config['batch_size'],\n",
    "#         shuffle=False,\n",
    "#         drop_last=True)\n",
    "\n",
    "#     params = {\n",
    "#         'lr': config['lr'],\n",
    "#         'hidden_units': config['hidden_units'],\n",
    "#         'experiment': config['experiment'],\n",
    "#         'batch_size': config['batch_size'],\n",
    "#         'epochs': config['epochs'],\n",
    "#         'x_shape': config['x_shape'],\n",
    "#         'classes': config['classes'],\n",
    "#         'num_batches': len(train_loader),\n",
    "#         'train_samples': config['train_samples'],\n",
    "#         'test_samples': config['test_samples'],\n",
    "#         'mu_init': config['mu_init'],\n",
    "#         'rho_init': config['rho_init'],\n",
    "#         'prior_init': config['prior_init'],\n",
    "#     }\n",
    "\n",
    "#     model = BNN_Classification('bnn_classification', {**params, 'dropout': False})\n",
    "\n",
    "#     best_val_acc = 0\n",
    "#     for epoch in range(config['epochs']):\n",
    "#         print(f'Epoch {epoch + 1}/{config[\"epochs\"]}')\n",
    "#         model.train_step(train_loader)\n",
    "#         valid_acc = model.evaluate(valid_loader)\n",
    "#         print('Valid Error', round(100 * (1 - valid_acc), 3), '%')\n",
    "#         model.scheduler.step()\n",
    "#         if model.acc > model.best_acc:\n",
    "#             model.best_acc = model.acc\n",
    "#             best_val_acc = valid_acc\n",
    "#             # torch.save(model.net.state_dict(), \"best_model.pt\")\n",
    "\n",
    "#     return best_val_acc\n"
   ]
  },
  {
   "cell_type": "code",
   "execution_count": 14,
   "id": "2e6edbc1",
   "metadata": {
    "execution": {
     "iopub.execute_input": "2025-06-06T21:11:17.710444Z",
     "iopub.status.busy": "2025-06-06T21:11:17.710177Z",
     "iopub.status.idle": "2025-06-06T21:11:17.714092Z",
     "shell.execute_reply": "2025-06-06T21:11:17.713398Z"
    },
    "papermill": {
     "duration": 6.301007,
     "end_time": "2025-06-06T21:11:17.715281",
     "exception": false,
     "start_time": "2025-06-06T21:11:11.414274",
     "status": "completed"
    },
    "tags": []
   },
   "outputs": [],
   "source": [
    "# def run_grid_search():\n",
    "#     # Define the grid\n",
    "#     param_grid = {\n",
    "#         'lr': [1e-3, 1e-4],\n",
    "#         'batch_size': [64, 128],\n",
    "#         'hidden_units': [128, 256],\n",
    "#     }\n",
    "\n",
    "#     # Fixed config options\n",
    "#     base_config = {\n",
    "#         'experiment': 'grid_search',\n",
    "#         'epochs': 5,\n",
    "#         'x_shape': (1, 28, 28),\n",
    "#         'classes': 10,\n",
    "#         'train_samples': 60000,\n",
    "#         'test_samples': 10000,\n",
    "#         'mu_init': 0,\n",
    "#         'rho_init': -3,\n",
    "#         'prior_init': 0,\n",
    "#     }\n",
    "\n",
    "#     best_acc = 0\n",
    "#     best_params = None\n",
    "\n",
    "#     # Iterate over all combinations\n",
    "#     for lr, batch_size, hidden_units in product(param_grid['lr'], param_grid['batch_size'], param_grid['hidden_units']):\n",
    "#         config = {\n",
    "#             **base_config,\n",
    "#             'lr': lr,\n",
    "#             'batch_size': batch_size,\n",
    "#             'hidden_units': hidden_units\n",
    "#         }\n",
    "\n",
    "#         print(f\"\\nRunning with config: {config}\")\n",
    "#         acc = class_trainer(config)\n",
    "\n",
    "#         if acc > best_acc:\n",
    "#             best_acc = acc\n",
    "#             best_params = config\n",
    "\n",
    "#     print(f\"Best Validation Accuracy: {best_acc:.4f}\")\n",
    "#     print(f\"Best Config: {best_params}\")\n",
    "\n",
    "# run_grid_search()"
   ]
  },
  {
   "cell_type": "code",
   "execution_count": 15,
   "id": "b9844a62",
   "metadata": {
    "execution": {
     "iopub.execute_input": "2025-06-06T21:11:30.851469Z",
     "iopub.status.busy": "2025-06-06T21:11:30.850832Z",
     "iopub.status.idle": "2025-06-06T21:11:30.860127Z",
     "shell.execute_reply": "2025-06-06T21:11:30.859560Z"
    },
    "papermill": {
     "duration": 6.713411,
     "end_time": "2025-06-06T21:11:30.861244",
     "exception": false,
     "start_time": "2025-06-06T21:11:24.147833",
     "status": "completed"
    },
    "tags": []
   },
   "outputs": [],
   "source": [
    "class BNN_Regression():\n",
    "    def __init__(self, label, parameters):\n",
    "        super().__init__()\n",
    "        self.label = label\n",
    "        self.batch_size = parameters['batch_size']\n",
    "        self.num_batches = parameters['num_batches']\n",
    "        self.n_samples = parameters['train_samples']\n",
    "        self.test_samples = parameters['test_samples']\n",
    "        self.x_shape = parameters['x_shape']\n",
    "        self.y_shape = parameters['y_shape']\n",
    "        self.noise_tol = parameters['noise_tolerance']\n",
    "        self.lr = parameters['lr']\n",
    "        self.best_loss = np.inf\n",
    "        self.init_net(parameters)\n",
    "    \n",
    "    def init_net(self, parameters):\n",
    "        model_params = {\n",
    "            'input_shape': self.x_shape,\n",
    "            'classes': self.y_shape,\n",
    "            'batch_size': self.batch_size,\n",
    "            'hidden_units': parameters['hidden_units'],\n",
    "            'experiment': parameters['experiment'],\n",
    "            'mu_init': parameters['mu_init'],\n",
    "            'rho_init': parameters['rho_init'],\n",
    "            'prior_init': parameters['prior_init']\n",
    "        }\n",
    "        self.net = BayesianNetwork(model_params).to(device)\n",
    "        self.optimiser = torch.optim.Adam(self.net.parameters(), lr=self.lr)\n",
    "        self.scheduler = torch.optim.lr_scheduler.StepLR(self.optimiser, step_size=500, gamma=0.5)\n",
    "        # print(f'Regression Task {self.label} Parameters: ')\n",
    "        # print(f'number of samples: {self.n_samples}, noise tolerance: {self.noise_tol}')\n",
    "        print(\"BNN Parameters: \")\n",
    "        print(f'batch size: {self.batch_size}, x shape: {model_params[\"input_shape\"]}, hidden units: {model_params[\"hidden_units\"]}, output shape: {model_params[\"classes\"]}, mu_init: {parameters[\"mu_init\"]}, rho_init: {parameters[\"rho_init\"]}, prior_init: {parameters[\"prior_init\"]}, lr: {self.lr}')\n",
    "\n",
    "    def train_step(self, train_data):\n",
    "        self.net.train()\n",
    "        for idx, (x, y) in enumerate(train_data):\n",
    "            beta = 2 ** (self.num_batches - (idx + 1)) / (2 ** self.num_batches - 1) \n",
    "            x, y = x.to(device), y.to(device)\n",
    "            self.net.zero_grad()\n",
    "            self.loss_info = self.net.sample_elbo(x, y, beta, self.n_samples, sigma=self.noise_tol)\n",
    "            net_loss = self.loss_info[0]\n",
    "            net_loss.backward()\n",
    "            self.optimiser.step()\n",
    "        self.epoch_loss = net_loss.item()\n",
    "\n",
    "    def evaluate(self, x_test):\n",
    "        self.net.eval()\n",
    "        with torch.no_grad():\n",
    "            y_test = np.zeros((self.test_samples, x_test.shape[0]))\n",
    "            for s in range(self.test_samples):\n",
    "                tmp = self.net(x_test.to(device)).detach().cpu().numpy()\n",
    "                y_test[s,:] = tmp.reshape(-1)\n",
    "            return y_test"
   ]
  },
  {
   "cell_type": "code",
   "execution_count": 16,
   "id": "7ea0d9ca",
   "metadata": {
    "execution": {
     "iopub.execute_input": "2025-06-06T21:11:43.644450Z",
     "iopub.status.busy": "2025-06-06T21:11:43.643863Z",
     "iopub.status.idle": "2025-06-06T21:11:43.651368Z",
     "shell.execute_reply": "2025-06-06T21:11:43.650836Z"
    },
    "papermill": {
     "duration": 6.249322,
     "end_time": "2025-06-06T21:11:43.652421",
     "exception": false,
     "start_time": "2025-06-06T21:11:37.403099",
     "status": "completed"
    },
    "tags": []
   },
   "outputs": [],
   "source": [
    "class MLP_Regression():\n",
    "    def __init__(self, label, parameters):\n",
    "        super().__init__()\n",
    "        self.label = label\n",
    "        self.lr = parameters['lr']\n",
    "        self.hidden_units = parameters['hidden_units']\n",
    "        self.experiment = parameters['experiment']\n",
    "        self.batch_size = parameters['batch_size']\n",
    "        self.num_batches = parameters['num_batches']\n",
    "        self.x_shape = parameters['x_shape']\n",
    "        self.y_shape = parameters['y_shape']\n",
    "        self.best_loss = np.inf\n",
    "        self.init_net(parameters)\n",
    "    \n",
    "    def init_net(self, parameters):\n",
    "        model_params = {\n",
    "            'input_shape': self.x_shape,\n",
    "            'classes': self.y_shape,\n",
    "            'batch_size': self.batch_size,\n",
    "            'hidden_units': self.hidden_units,\n",
    "            'experiment': self.experiment\n",
    "        }\n",
    "        self.net = MLP(model_params).to(device)\n",
    "        self.optimiser = torch.optim.Adam(self.net.parameters(), lr=self.lr)\n",
    "        self.scheduler = torch.optim.lr_scheduler.StepLR(self.optimiser, step_size=5000, gamma=0.5)\n",
    "        print(\"MLP Parameters: \")\n",
    "        print(f'batch size: {self.batch_size}, input shape: {model_params[\"input_shape\"]}, hidden units: {model_params[\"hidden_units\"]}, output shape: {model_params[\"classes\"]}, lr: {self.lr}')\n",
    "\n",
    "    def train_step(self, train_data):\n",
    "        self.net.train()\n",
    "        for _, (x, y) in enumerate(train_data):\n",
    "            x, y = x.to(device), y.to(device)\n",
    "            self.net.zero_grad()\n",
    "            self.loss_info = torch.nn.functional.mse_loss(self.net(x), y, reduction='sum')\n",
    "            self.loss_info.backward()\n",
    "            self.optimiser.step()\n",
    "\n",
    "        self.epoch_loss = self.loss_info.item()\n",
    "\n",
    "    def evaluate(self, x_test):\n",
    "        self.net.eval()\n",
    "        with torch.no_grad():\n",
    "            y_test = self.net(x_test.to(device)).detach().cpu().numpy()\n",
    "            return y_test"
   ]
  },
  {
   "cell_type": "code",
   "execution_count": 17,
   "id": "fe8d4618",
   "metadata": {
    "execution": {
     "iopub.execute_input": "2025-06-06T21:11:56.683439Z",
     "iopub.status.busy": "2025-06-06T21:11:56.683196Z",
     "iopub.status.idle": "2025-06-06T21:11:56.689848Z",
     "shell.execute_reply": "2025-06-06T21:11:56.689109Z"
    },
    "papermill": {
     "duration": 6.350851,
     "end_time": "2025-06-06T21:11:56.691110",
     "exception": false,
     "start_time": "2025-06-06T21:11:50.340259",
     "status": "completed"
    },
    "tags": []
   },
   "outputs": [],
   "source": [
    "def reg_trainer():\n",
    "    config = RegConfig\n",
    "    X, Y = create_data_reg(train_size=config.train_size)\n",
    "    train_loader = PrepareData(X, Y)\n",
    "    train_loader = DataLoader(train_loader, batch_size=config.batch_size, shuffle=True)\n",
    "\n",
    "    params = {\n",
    "        'lr': config.lr,\n",
    "        'hidden_units': config.hidden_units,\n",
    "        'experiment': config.experiment,\n",
    "        'batch_size': config.batch_size,\n",
    "        'num_batches': len(train_loader),\n",
    "        'x_shape': X.shape[1],\n",
    "        'y_shape': Y.shape[1],\n",
    "        'train_samples': config.train_samples,\n",
    "        'test_samples': config.test_samples,\n",
    "        'noise_tolerance': config.noise_tolerance,\n",
    "        'mu_init': config.mu_init,\n",
    "        'rho_init': config.rho_init,\n",
    "        'prior_init': config.prior_init,\n",
    "    }\n",
    "\n",
    "    model = BNN_Regression('bnn_regression', {**params})\n",
    "    #model = MLP_Regression('mlp_regression', {**params})\n",
    "\n",
    "    epochs = config.epochs\n",
    "    print(f\"Initialising training on {device}...\")\n",
    "\n",
    "    # training loop\n",
    "    for epoch in tqdm(range(epochs)):\n",
    "    \n",
    "        model.train_step(train_loader)\n",
    "        model.scheduler.step()\n",
    "        # save best model\n",
    "        if model.epoch_loss < model.best_loss:\n",
    "            model.best_loss = model.epoch_loss\n",
    "            # torch.save(model.net.state_dict(), model.save_model_path)\n",
    "\n",
    "    # evaluate\n",
    "    print(\"Evaluating and generating plots...\")\n",
    "    x_test = torch.linspace(-2., 2, config.num_test_points).reshape(-1, 1)\n",
    "    \n",
    "    # model.net.load_state_dict(torch.load(model.save_model_path, map_location=torch.device(device)))\n",
    "    y_test = model.evaluate(x_test)\n",
    "    \n",
    "    #create_regression_plot(x_test.cpu().numpy(), y_test.reshape(1, -1), train_loader) #per mlp regression\n",
    "   \n",
    "    create_regression_plot(x_test.cpu().numpy(), y_test, train_loader)\n",
    "\n",
    "\n",
    "#reg_trainer()"
   ]
  },
  {
   "cell_type": "code",
   "execution_count": 18,
   "id": "58f7f5fc",
   "metadata": {
    "execution": {
     "iopub.execute_input": "2025-06-06T21:12:09.847011Z",
     "iopub.status.busy": "2025-06-06T21:12:09.846734Z",
     "iopub.status.idle": "2025-06-06T21:12:09.859177Z",
     "shell.execute_reply": "2025-06-06T21:12:09.858461Z"
    },
    "papermill": {
     "duration": 6.728839,
     "end_time": "2025-06-06T21:12:09.860391",
     "exception": false,
     "start_time": "2025-06-06T21:12:03.131552",
     "status": "completed"
    },
    "tags": []
   },
   "outputs": [],
   "source": [
    "class Bandit():\n",
    "    def __init__(self, label, bandit_params, x, y):\n",
    "        self.n_samples = bandit_params['n_samples']\n",
    "        self.buffer_size = bandit_params['buffer_size']\n",
    "        self.batch_size = bandit_params['batch_size']\n",
    "        self.num_batches = bandit_params['num_batches']\n",
    "        self.lr = bandit_params['lr']\n",
    "        self.epsilon = bandit_params['epsilon']\n",
    "        self.cumulative_regrets = [0]\n",
    "        self.buffer_x, self.buffer_y = [], []\n",
    "        self.x, self.y = x, y\n",
    "        self.label = label\n",
    "        self.init_net(bandit_params)\n",
    "        self.tp, self.tn, self.fp, self.fn = 0, 0, 0, 0\n",
    "\n",
    "    def get_agent_reward(self, eaten, edible):\n",
    "        if not eaten:\n",
    "            return 0\n",
    "        if eaten and edible:\n",
    "            return 5\n",
    "        elif eaten and not edible:\n",
    "            return 5 if np.random.rand() > 0.5 else -35\n",
    "\n",
    "    def get_oracle_reward(self, edible):\n",
    "        return 5*edible \n",
    "\n",
    "    def take_action(self, mushroom):\n",
    "        context, edible = self.x[mushroom], self.y[mushroom]\n",
    "        eat_tuple = torch.FloatTensor(np.concatenate((context, [1, 0]))).unsqueeze(0).to(device)\n",
    "        reject_tuple = torch.FloatTensor(np.concatenate((context, [0, 1]))).unsqueeze(0).to(device)\n",
    "\n",
    "        # evaluate reward for actions\n",
    "        with torch.no_grad():\n",
    "            self.net.eval()\n",
    "            reward_eat = sum([self.net(eat_tuple) for _ in range(self.n_samples)]).item()\n",
    "            reward_reject = sum([self.net(reject_tuple) for _ in range(self.n_samples)]).item()\n",
    "\n",
    "        eat = reward_eat > reward_reject\n",
    "        # epsilon-greedy agent\n",
    "        if np.random.rand() < self.epsilon:\n",
    "            eat = (np.random.rand() < 0.5)\n",
    "        agent_reward = self.get_agent_reward(eat, edible)\n",
    "\n",
    "        # record bandit action\n",
    "        if edible and eat:\n",
    "            self.tp += 1\n",
    "        elif edible and not eat:\n",
    "            self.fn += 1\n",
    "        elif not edible and eat:\n",
    "            self.fp += 1\n",
    "        else:\n",
    "            self.tn += 1\n",
    "\n",
    "        # record context, action, reward\n",
    "        action = torch.Tensor([1, 0] if eat else [0, 1])\n",
    "        self.buffer_x.append(np.concatenate((context, action)))\n",
    "        self.buffer_y.append(agent_reward)\n",
    "\n",
    "        # calculate regret\n",
    "        regret = self.get_oracle_reward(edible) - agent_reward\n",
    "        self.cumulative_regrets.append(self.cumulative_regrets[-1]+regret)\n",
    "\n",
    "    def update(self, mushroom):\n",
    "        self.take_action(mushroom)\n",
    "        l = len(self.buffer_x)\n",
    "\n",
    "        if l <= self.batch_size:\n",
    "            idx_pool = int(self.batch_size//l + 1)*list(range(l))\n",
    "            idx_pool = np.random.permutation(idx_pool[-self.batch_size:])\n",
    "        elif l > self.batch_size and l < self.buffer_size:\n",
    "            idx_pool = int(l//self.batch_size)*self.batch_size\n",
    "            idx_pool = np.random.permutation(list(range(l))[-idx_pool:])\n",
    "        else:\n",
    "            idx_pool = np.random.permutation(list(range(l))[-self.buffer_size:])\n",
    "\n",
    "        context_pool = torch.Tensor([self.buffer_x[i] for i in idx_pool]).to(device)\n",
    "        value_pool = torch.Tensor([self.buffer_y[i] for i in idx_pool]).to(device)\n",
    "        \n",
    "        for i in range(0, len(idx_pool), self.batch_size):\n",
    "            self.loss_info = self.loss_step(context_pool[i:i+self.batch_size], value_pool[i:i+self.batch_size], i//self.batch_size)"
   ]
  },
  {
   "cell_type": "code",
   "execution_count": 19,
   "id": "fe601e6d",
   "metadata": {
    "execution": {
     "iopub.execute_input": "2025-06-06T21:12:22.793267Z",
     "iopub.status.busy": "2025-06-06T21:12:22.792688Z",
     "iopub.status.idle": "2025-06-06T21:12:22.802350Z",
     "shell.execute_reply": "2025-06-06T21:12:22.801860Z"
    },
    "papermill": {
     "duration": 6.688145,
     "end_time": "2025-06-06T21:12:22.803394",
     "exception": false,
     "start_time": "2025-06-06T21:12:16.115249",
     "status": "completed"
    },
    "tags": []
   },
   "outputs": [],
   "source": [
    "class BNN_Bandit(Bandit):\n",
    "    def __init__(self, label, *args):\n",
    "        super().__init__(label, *args)\n",
    "    \n",
    "    def init_net(self, parameters):\n",
    "        model_params = {\n",
    "            'input_shape': self.x.shape[1]+2,\n",
    "            'classes': 1 if len(self.y.shape)==1 else self.y.shape[1],\n",
    "            'batch_size': self.batch_size,\n",
    "            'hidden_units': parameters['hidden_units'],\n",
    "            'experiment': parameters['experiment'],\n",
    "            'mu_init': parameters['mu_init'],\n",
    "            'rho_init': parameters['rho_init'],\n",
    "            'prior_init': parameters['prior_init']\n",
    "        }\n",
    "        self.net = BayesianNetwork(model_params).to(device)\n",
    "        self.optimiser = torch.optim.Adam(self.net.parameters(), lr=self.lr)\n",
    "        self.scheduler = torch.optim.lr_scheduler.StepLR(self.optimiser, step_size=5000, gamma=0.5)\n",
    "        print(\"BNN Parameters: \")\n",
    "        print(f'x shape: {model_params[\"input_shape\"]}, hidden units: {model_params[\"hidden_units\"]}, output shape: {model_params[\"classes\"]}, lr: {self.lr}')\n",
    "\n",
    "    def loss_step(self, x, y, batch_id):\n",
    "        beta = 2 ** (self.num_batches - (batch_id + 1)) / (2 ** self.num_batches - 1) \n",
    "        self.net.train()\n",
    "        self.net.zero_grad()\n",
    "        loss_info = self.net.sample_elbo(x, y, beta, self.n_samples)\n",
    "        net_loss = loss_info[0]\n",
    "        net_loss.backward()\n",
    "        self.optimiser.step()\n",
    "        return loss_info\n",
    "\n",
    "class Greedy_Bandit(Bandit):\n",
    "    def __init__(self, label, *args):\n",
    "        super().__init__(label, *args)\n",
    "        self.writer = SummaryWriter(comment=f\"_{label}_training\"),\n",
    "    \n",
    "    def init_net(self, parameters):\n",
    "        model_params = {\n",
    "            'input_shape': self.x.shape[1]+2,\n",
    "            'classes': 1 if len(self.y.shape)==1 else self.y.shape[1],\n",
    "            'batch_size': self.batch_size,\n",
    "            'hidden_units': parameters['hidden_units'],\n",
    "            'experiment': parameters['experiment']\n",
    "        }\n",
    "        self.net = MLP(model_params).to(device)\n",
    "        self.optimiser = torch.optim.Adam(self.net.parameters(), lr=self.lr)\n",
    "        self.scheduler = torch.optim.lr_scheduler.StepLR(self.optimiser, step_size=5000, gamma=0.5)\n",
    "        print(f'Bandit {self.label} Parameters: ')\n",
    "        print(f'buffer_size: {self.buffer_size}, batch size: {self.batch_size}, number of samples: {self.n_samples}, epsilon: {self.epsilon}')\n",
    "        print(\"MLP Parameters: \")\n",
    "        print(f'x shape: {model_params[\"input_shape\"]}, hidden units: {model_params[\"hidden_units\"]}, output shape: {model_params[\"classes\"]}, lr: {self.lr}')\n",
    "\n",
    "    def loss_step(self, x, y, batch_id):\n",
    "        self.net.train()\n",
    "        self.net.zero_grad()\n",
    "        net_loss = torch.nn.functional.mse_loss(self.net(x).squeeze(), y, reduction='sum')\n",
    "        net_loss.backward()\n",
    "        self.optimiser.step()\n",
    "        return net_loss"
   ]
  },
  {
   "cell_type": "code",
   "execution_count": 20,
   "id": "187d9d0e",
   "metadata": {
    "execution": {
     "iopub.execute_input": "2025-06-06T21:12:35.786146Z",
     "iopub.status.busy": "2025-06-06T21:12:35.785391Z",
     "iopub.status.idle": "2025-06-06T21:12:35.791818Z",
     "shell.execute_reply": "2025-06-06T21:12:35.791221Z"
    },
    "papermill": {
     "duration": 6.611387,
     "end_time": "2025-06-06T21:12:35.792890",
     "exception": false,
     "start_time": "2025-06-06T21:12:29.181503",
     "status": "completed"
    },
    "tags": []
   },
   "outputs": [],
   "source": [
    "import matplotlib.pyplot as plt\n",
    "\n",
    "def rl_trainer():\n",
    "    config = RLConfig\n",
    "    X, Y = read_data_rl(config.data_dir)\n",
    "\n",
    "    params = {\n",
    "        'buffer_size': config.buffer_size,\n",
    "        'batch_size': config.batch_size,\n",
    "        'num_batches': config.num_batches,\n",
    "        'lr': config.lr,\n",
    "        'hidden_units': config.hidden_units,\n",
    "        'experiment': config.experiment,\n",
    "        'mu_init': config.mu_init,\n",
    "        'rho_init': config.rho_init,\n",
    "        'prior_init': config.prior_init\n",
    "    }\n",
    "\n",
    "    bandit = BNN_Bandit('bnn_bandit', {**params, 'n_samples':2, 'epsilon':0}, X, Y)\n",
    "    \n",
    "    training_steps = config.training_steps\n",
    "    print(f\"Initialising training on {device}...\")\n",
    "    training_data_len = len(X)\n",
    "    for step in tqdm(range(training_steps)):\n",
    "        mushroom = np.random.randint(training_data_len)\n",
    "        bandit.update(mushroom)\n",
    "        bandit.scheduler.step()\n",
    "\n",
    "    # Plot cumulative regret\n",
    "    plt.figure(figsize=(10, 6))\n",
    "    plt.plot(bandit.cumulative_regrets, label='Cumulative Regret')\n",
    "    plt.xlabel('Steps')\n",
    "    plt.ylabel('Cumulative Regret')\n",
    "    plt.title('Cumulative Regret over Time')\n",
    "    plt.legend()\n",
    "    plt.grid(True)\n",
    "    plt.tight_layout()\n",
    "    plt.show()\n",
    "\n",
    "\n",
    "#rl_trainer()"
   ]
  }
 ],
 "metadata": {
  "kaggle": {
   "accelerator": "nvidiaTeslaT4",
   "dataSources": [
    {
     "datasetId": 7591461,
     "sourceId": 12061096,
     "sourceType": "datasetVersion"
    }
   ],
   "dockerImageVersionId": 31041,
   "isGpuEnabled": true,
   "isInternetEnabled": true,
   "language": "python",
   "sourceType": "notebook"
  },
  "kernelspec": {
   "display_name": "Python 3",
   "language": "python",
   "name": "python3"
  },
  "language_info": {
   "codemirror_mode": {
    "name": "ipython",
    "version": 3
   },
   "file_extension": ".py",
   "mimetype": "text/x-python",
   "name": "python",
   "nbconvert_exporter": "python",
   "pygments_lexer": "ipython3",
   "version": "3.11.11"
  },
  "papermill": {
   "default_parameters": {},
   "duration": 22593.359458,
   "end_time": "2025-06-06T21:12:44.873393",
   "environment_variables": {},
   "exception": null,
   "input_path": "__notebook__.ipynb",
   "output_path": "__notebook__.ipynb",
   "parameters": {},
   "start_time": "2025-06-06T14:56:11.513935",
   "version": "2.6.0"
  }
 },
 "nbformat": 4,
 "nbformat_minor": 5
}
