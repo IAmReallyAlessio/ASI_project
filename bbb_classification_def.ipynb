{
 "cells": [
  {
   "cell_type": "code",
   "execution_count": 1,
   "id": "2b9885da",
   "metadata": {
    "execution": {
     "iopub.execute_input": "2025-06-09T07:38:48.195153Z",
     "iopub.status.busy": "2025-06-09T07:38:48.194950Z",
     "iopub.status.idle": "2025-06-09T07:39:01.396981Z",
     "shell.execute_reply": "2025-06-09T07:39:01.396390Z"
    },
    "papermill": {
     "duration": 13.209174,
     "end_time": "2025-06-09T07:39:01.398365",
     "exception": false,
     "start_time": "2025-06-09T07:38:48.189191",
     "status": "completed"
    },
    "tags": []
   },
   "outputs": [],
   "source": [
    "import torch\n",
    "import math\n",
    "from torch import nn\n",
    "import pandas as pd\n",
    "import numpy as np\n",
    "from sklearn import preprocessing\n",
    "from torch.utils.data import Dataset, DataLoader\n",
    "from torchvision import datasets, transforms\n",
    "import os\n",
    "import matplotlib.pyplot as plt\n",
    "from tqdm import tqdm\n",
    "from torch.utils.data.sampler import SubsetRandomSampler\n",
    "\n",
    "device = torch.device(\"cuda\" if torch.cuda.is_available() else \"cpu\")"
   ]
  },
  {
   "cell_type": "code",
   "execution_count": 2,
   "id": "87c98a34",
   "metadata": {
    "execution": {
     "iopub.execute_input": "2025-06-09T07:39:01.408730Z",
     "iopub.status.busy": "2025-06-09T07:39:01.408337Z",
     "iopub.status.idle": "2025-06-09T07:39:01.428477Z",
     "shell.execute_reply": "2025-06-09T07:39:01.427718Z"
    },
    "papermill": {
     "duration": 0.026484,
     "end_time": "2025-06-09T07:39:01.429655",
     "exception": false,
     "start_time": "2025-06-09T07:39:01.403171",
     "status": "completed"
    },
    "tags": []
   },
   "outputs": [],
   "source": [
    "# define class for scale mixture gaussian prior\n",
    "class ScaleMixtureGaussian:                               \n",
    "    def __init__(self, mixture_weight, stddev_1, stddev_2):\n",
    "        super().__init__()\n",
    "        # mixture_weight is the weight for the first gaussian\n",
    "        self.mixture_weight = mixture_weight\n",
    "        # stddev_1 and stddev_2 are the standard deviations for the two gaussians\n",
    "        self.stddev_1 = stddev_1\n",
    "        self.stddev_2 = stddev_2\n",
    "        # create two normal distributions with the specified standard deviations\n",
    "        self.gaussian1 = torch.distributions.Normal(0,stddev_1)\n",
    "        self.gaussian2 = torch.distributions.Normal(0,stddev_2)\n",
    "\n",
    "\n",
    "    def log_prob(self, x):\n",
    "        prob1 = torch.exp(self.gaussian1.log_prob(x))\n",
    "        prob2 = torch.exp(self.gaussian2.log_prob(x))\n",
    "        return (torch.log(self.mixture_weight * prob1 + (1-self.mixture_weight) * prob2)).sum()\n",
    "    \n",
    "# define class for gaussian node\n",
    "class GaussianNode:\n",
    "    def __init__(self, mean, rho_param):\n",
    "        super().__init__()\n",
    "        self.mean = mean\n",
    "        self.rho_param = rho_param\n",
    "        self.normal = torch.distributions.Normal(0,1)\n",
    "    \n",
    "    # Calculate the standard deviation from the rho parameter\n",
    "    def sigma(self):\n",
    "        return torch.log1p(torch.exp(self.rho_param))\n",
    "\n",
    "    # Sample from the Gaussian node\n",
    "    def sample(self):\n",
    "        epsilon = self.normal.sample(self.rho_param.size()).cuda()\n",
    "        return self.mean + self.sigma() * epsilon\n",
    "    \n",
    "    # Calculate the KL divergence between the prior and the variational posterior\n",
    "    def log_prob(self, x):\n",
    "        return (-math.log(math.sqrt(2 * math.pi)) - torch.log(self.sigma()) - ((x - self.mean) ** 2) / (2 * self.sigma() ** 2)).sum()\n",
    "\n",
    "class BayesianLinear(nn.Module):\n",
    "    def __init__(self, in_features, out_features, mu_init, rho_init, prior_init):\n",
    "        super().__init__()\n",
    "\n",
    "        # Initialize the parameters for the weights and biases\n",
    "        self.weight_mean = nn.Parameter(torch.empty(out_features, in_features).uniform_(*mu_init))\n",
    "        self.weight_rho_param = nn.Parameter(torch.empty(out_features, in_features).uniform_(*rho_init))\n",
    "        self.weight = GaussianNode(self.weight_mean, self.weight_rho_param)\n",
    "\n",
    "        self.bias_mean = nn.Parameter(torch.empty(out_features).uniform_(*mu_init))\n",
    "        self.bias_rho_param = nn.Parameter(torch.empty(out_features).uniform_(*rho_init))\n",
    "        self.bias = GaussianNode(self.bias_mean, self.bias_rho_param)\n",
    "        \n",
    "        self.weight_prior = ScaleMixtureGaussian(prior_init[0], math.exp(prior_init[1]), math.exp(prior_init[2]))\n",
    "        self.bias_prior = ScaleMixtureGaussian(prior_init[0], math.exp(prior_init[1]), math.exp(prior_init[2]))\n",
    "\n",
    "        self.log_prior = 0\n",
    "        self.log_variational_posterior = 0\n",
    "\n",
    "    def forward(self, x):\n",
    "        weight = self.weight.sample()\n",
    "        bias = self.bias.sample()\n",
    "\n",
    "        return nn.functional.linear(x, weight, bias)\n",
    "\n",
    "class BayesianNetwork(nn.Module):\n",
    "    def __init__(self, model_params):\n",
    "        super().__init__()\n",
    "        self.input_shape = model_params['input_shape']\n",
    "        self.classes = model_params['classes']\n",
    "        self.batch_size = model_params['batch_size']\n",
    "        self.hidden_units = model_params['hidden_units']\n",
    "        self.experiment = model_params['experiment']\n",
    "        self.mu_init = model_params['mu_init']\n",
    "        self.rho_init = model_params['rho_init']\n",
    "        self.prior_init = model_params['prior_init']\n",
    "\n",
    "        self.fc1 = BayesianLinear(self.input_shape, self.hidden_units, self.mu_init, self.rho_init, self.prior_init)\n",
    "        self.fc1_activation = nn.ReLU()\n",
    "        self.fc2 = BayesianLinear(self.hidden_units, self.hidden_units, self.mu_init, self.rho_init, self.prior_init)\n",
    "        self.fc2_activation = nn.ReLU()\n",
    "        self.fc3 = BayesianLinear(self.hidden_units, self.classes, self.mu_init, self.rho_init, self.prior_init)\n",
    "    \n",
    "    def forward(self, x):\n",
    "        if self.experiment == 'classification':\n",
    "            x = x.view(-1, self.input_shape) # Flatten images\n",
    "        x = self.fc1_activation(self.fc1(x))\n",
    "        x = self.fc2_activation(self.fc2(x))\n",
    "        x = self.fc3(x)\n",
    "        return x\n",
    "\n",
    "    def log_prior(self):\n",
    "        return self.fc1.log_prior + self.fc2.log_prior + self.fc3.log_prior\n",
    "    \n",
    "    def log_variational_posterior(self):\n",
    "        return self.fc1.log_variational_posterior + self.fc2.log_variational_posterior + self.fc3.log_variational_posterior\n",
    "\n",
    "\n",
    "    def get_nll(self, outputs, target, sigma=1.):\n",
    "        if self.experiment == 'regression': #  -(.5 * (target - outputs) ** 2).sum()\n",
    "            nll = -torch.distributions.Normal(outputs, sigma).log_prob(target).sum()\n",
    "        elif self.experiment == 'classification':\n",
    "            nll = nn.CrossEntropyLoss(reduction='sum')(outputs, target)\n",
    "        return nll\n",
    "\n",
    "    def sample_elbo(self, x, target, beta, samples, sigma=1.):\n",
    "        log_prior = torch.zeros(1).to(device)\n",
    "        log_variational_posterior = torch.zeros(1).to(device)\n",
    "        negative_log_likelihood = torch.zeros(1).to(device)\n",
    "\n",
    "        for i in range(samples):\n",
    "            output = self.forward(x)\n",
    "            log_prior += self.log_prior()\n",
    "            log_variational_posterior += self.log_variational_posterior()\n",
    "            negative_log_likelihood += self.get_nll(output, target, sigma)\n",
    "\n",
    "        log_prior = beta*(log_prior / samples)\n",
    "        log_variational_posterior = beta*(log_variational_posterior / samples) \n",
    "        negative_log_likelihood = negative_log_likelihood / samples\n",
    "        loss = log_variational_posterior - log_prior + negative_log_likelihood\n",
    "        return loss, log_prior, log_variational_posterior, negative_log_likelihood    \n"
   ]
  },
  {
   "cell_type": "code",
   "execution_count": 3,
   "id": "701567bc",
   "metadata": {
    "execution": {
     "iopub.execute_input": "2025-06-09T07:39:01.439194Z",
     "iopub.status.busy": "2025-06-09T07:39:01.438987Z",
     "iopub.status.idle": "2025-06-09T07:39:01.446636Z",
     "shell.execute_reply": "2025-06-09T07:39:01.445862Z"
    },
    "papermill": {
     "duration": 0.013758,
     "end_time": "2025-06-09T07:39:01.447821",
     "exception": false,
     "start_time": "2025-06-09T07:39:01.434063",
     "status": "completed"
    },
    "tags": []
   },
   "outputs": [],
   "source": [
    "class MLP(nn.Module):\n",
    "    def __init__(self, model_params):\n",
    "        super().__init__()\n",
    "        self.input_shape = model_params['input_shape']\n",
    "        self.classes = model_params['classes']\n",
    "        self.batch_size = model_params['batch_size']\n",
    "        self.hidden_units = model_params['hidden_units']\n",
    "        self.experiment = model_params['experiment']\n",
    "\n",
    "        self.net = nn.Sequential(\n",
    "            nn.Linear(self.input_shape, self.hidden_units),\n",
    "            nn.ReLU(),\n",
    "            nn.Linear(self.hidden_units, self.hidden_units),\n",
    "            nn.ReLU(),\n",
    "            nn.Linear(self.hidden_units, self.classes))\n",
    "    \n",
    "    def forward(self, x):\n",
    "        if self.experiment == 'classification':\n",
    "            x = x.view(-1, self.input_shape) # Flatten images\n",
    "        \n",
    "        x = self.net(x)\n",
    "        return x\n",
    "\n",
    "class MLP_Dropout(nn.Module):\n",
    "    def __init__(self, model_params):\n",
    "        super().__init__()\n",
    "        self.input_shape = model_params['input_shape']\n",
    "        self.classes = model_params['classes']\n",
    "        self.batch_size = model_params['batch_size']\n",
    "        self.hidden_units = model_params['hidden_units']\n",
    "        self.experiment = model_params['experiment']\n",
    "\n",
    "        self.net = nn.Sequential(\n",
    "            nn.Linear(self.input_shape, self.hidden_units),\n",
    "            nn.ReLU(),\n",
    "            nn.Dropout(0.5),\n",
    "            nn.Linear(self.hidden_units, self.hidden_units),\n",
    "            nn.ReLU(),\n",
    "            nn.Dropout(0.5),\n",
    "            nn.Linear(self.hidden_units, self.classes))\n",
    "    \n",
    "    def forward(self, x):\n",
    "        if self.experiment == 'classification':\n",
    "            x = x.view(-1, self.input_shape) # Flatten images\n",
    "       \n",
    "        x = self.net(x)\n",
    "        return x"
   ]
  },
  {
   "cell_type": "code",
   "execution_count": 4,
   "id": "4cc31838",
   "metadata": {
    "execution": {
     "iopub.execute_input": "2025-06-09T07:39:01.457365Z",
     "iopub.status.busy": "2025-06-09T07:39:01.457122Z",
     "iopub.status.idle": "2025-06-09T07:39:01.463543Z",
     "shell.execute_reply": "2025-06-09T07:39:01.462779Z"
    },
    "papermill": {
     "duration": 0.012529,
     "end_time": "2025-06-09T07:39:01.464714",
     "exception": false,
     "start_time": "2025-06-09T07:39:01.452185",
     "status": "completed"
    },
    "tags": []
   },
   "outputs": [],
   "source": [
    "class RegConfig:\n",
    "    train_size = 1024\n",
    "    batch_size = 128\n",
    "    lr = 1e-3\n",
    "    epochs = 100 #1000\n",
    "    train_samples = 5                   # number of train samples for MC gradients\n",
    "    test_samples = 10                   # number of test samples for MC averaging\n",
    "    num_test_points = 400               # number of test points\n",
    "    experiment = 'regression'\n",
    "    hidden_units = 400                  # number of hidden units\n",
    "    noise_tolerance = .1                # log likelihood sigma\n",
    "    mu_init = [-0.2, 0.2]               # range for mean \n",
    "    rho_init = [-5, -4]                 # range for rho_param\n",
    "    prior_init = [0.5, -0, -6]        # mixture weight, log(stddev_1), log(stddev_2)\n",
    "   \n",
    "\n",
    "class RLConfig:\n",
    "    data_dir = '/kaggle/input/mushroom-dataset/mushroom/agaricus-lepiota.data'\n",
    "    batch_size = 64\n",
    "    num_batches = 64\n",
    "    buffer_size = batch_size * num_batches  # buffer to track latest batch of mushrooms\n",
    "    lr = 1e-4\n",
    "    training_steps = 10000\n",
    "    experiment = 'regression'\n",
    "    hidden_units = 100                      # number of hidden units\n",
    "    mu_init = [-0.2, 0.2]                   # range for mu \n",
    "    rho_init = [-5, -4]                     # range for rho\n",
    "    prior_init = [0.5, -0, -6]               # mixture weight, log(stddev_1), log(stddev_2)\n",
    "\n",
    "class ClassConfig:\n",
    "    batch_size = 128\n",
    "    lr = 1e-3 # 1e-5 fa schifo, 1e-4 parte da 8% errore, 1e-3 parte da 5%\n",
    "    epochs = 600 #100\n",
    "    hidden_units = 1200\n",
    "    experiment = 'classification'\n",
    "    dropout = False\n",
    "    train_samples = 1 # 10 è troppo lento\n",
    "    test_samples = 10\n",
    "    x_shape = 28 * 28                       # x shape\n",
    "    classes = 10                            # number of output classes\n",
    "    mu_init = [-0.2, 0.2]                   # range for mean \n",
    "    rho_init = [-5, -4]                     # range for rho_param\n",
    "    prior_init = [0.75, 0, -7]             # mixture weight, log(stddev_1), log(stddev_2)"
   ]
  },
  {
   "cell_type": "code",
   "execution_count": 5,
   "id": "7ee40047",
   "metadata": {
    "execution": {
     "iopub.execute_input": "2025-06-09T07:39:01.474140Z",
     "iopub.status.busy": "2025-06-09T07:39:01.473915Z",
     "iopub.status.idle": "2025-06-09T07:39:01.482761Z",
     "shell.execute_reply": "2025-06-09T07:39:01.482183Z"
    },
    "papermill": {
     "duration": 0.014888,
     "end_time": "2025-06-09T07:39:01.483871",
     "exception": false,
     "start_time": "2025-06-09T07:39:01.468983",
     "status": "completed"
    },
    "tags": []
   },
   "outputs": [],
   "source": [
    "class PrepareData(Dataset):\n",
    "    def __init__(self, X, y):\n",
    "        if not torch.is_tensor(X):\n",
    "            self.X = torch.from_numpy(X)\n",
    "        else:\n",
    "            self.X = X\n",
    "        if not torch.is_tensor(y):\n",
    "            self.y = torch.from_numpy(y)\n",
    "        else:\n",
    "            self.y = y # vedere\n",
    "\n",
    "    def __len__(self):\n",
    "        return len(self.X)\n",
    "\n",
    "    def __getitem__(self, idx):\n",
    "        return self.X[idx], self.y[idx]\n",
    "\n",
    "def read_data_rl(data_dir):\n",
    "    '''\n",
    "    Read in data for contextual bandits\n",
    "    - transform context and label to one-hot encoded vectors\n",
    "    '''\n",
    "    df = pd.read_csv(data_dir, sep=',', header=None)\n",
    "    df.columns = ['class','cap-shape','cap-surface','cap-color','bruises','odor','gill-attachment',\n",
    "         'gill-spacing','gill-size','gill-color','stalk-shape','stalk-root',\n",
    "         'stalk-surf-above-ring','stalk-surf-below-ring','stalk-color-above-ring','stalk-color-below-ring',\n",
    "         'veil-type','veil-color','ring-number','ring-type','spore-color','population','habitat']\n",
    "    X = pd.DataFrame(df, columns=df.columns[1:len(df.columns)], index=df.index)\n",
    "    Y = df['class']\n",
    "\n",
    "    # transform to one-hot encoding\n",
    "    label_encoder = preprocessing.LabelEncoder()\n",
    "    label_encoder.fit(Y)\n",
    "    Y_ = label_encoder.transform(Y)\n",
    "    X_ = X.copy()\n",
    "    for feature in X.columns:\n",
    "        label_encoder.fit(X[feature])\n",
    "        X_[feature] = label_encoder.transform(X[feature])\n",
    "\n",
    "    oh_encoder = preprocessing.OneHotEncoder()\n",
    "    oh_encoder.fit(X_)\n",
    "    X_ = oh_encoder.transform(X_).toarray()\n",
    "\n",
    "    return X_, Y_\n",
    "\n",
    "def create_data_reg(train_size):\n",
    "    np.random.seed(0)\n",
    "    xs = np.random.uniform(low=0., high=0.6, size=train_size)\n",
    "    \n",
    "    eps = np.random.normal(loc=0., scale=0.02, size=[train_size])\n",
    "\n",
    "    ys = xs + 0.3 * np.sin(2*np.pi * (xs + eps)) + 0.3 * np.sin(4*np.pi * (xs + eps)) + eps\n",
    "\n",
    "    xs = torch.from_numpy(xs).reshape(-1,1).float()\n",
    "    ys = torch.from_numpy(ys).reshape(-1,1).float()\n",
    "\n",
    "    return xs, ys"
   ]
  },
  {
   "cell_type": "code",
   "execution_count": 6,
   "id": "95785ca0",
   "metadata": {
    "execution": {
     "iopub.execute_input": "2025-06-09T07:39:01.493369Z",
     "iopub.status.busy": "2025-06-09T07:39:01.493127Z",
     "iopub.status.idle": "2025-06-09T07:39:01.496687Z",
     "shell.execute_reply": "2025-06-09T07:39:01.496089Z"
    },
    "papermill": {
     "duration": 0.009576,
     "end_time": "2025-06-09T07:39:01.497857",
     "exception": false,
     "start_time": "2025-06-09T07:39:01.488281",
     "status": "completed"
    },
    "tags": []
   },
   "outputs": [],
   "source": [
    "# def load_bnn_class_model(saved_model):\n",
    "#     config = ClassConfig\n",
    "\n",
    "#     model_params = {\n",
    "#         'input_shape': config.x_shape,\n",
    "#         'classes': config.classes,\n",
    "#         'batch_size': config.batch_size,\n",
    "#         'hidden_units': config.hidden_units,\n",
    "#         'experiment': config.experiment,\n",
    "#         'mu_init': config.mu_init,\n",
    "#         'rho_init': config.rho_init,\n",
    "#         'prior_init': config.prior_init\n",
    "#     }\n",
    "#     model = BayesianNetwork(model_params)\n",
    "#     model.load_state_dict(torch.load(saved_model))\n",
    "\n",
    "#     return model.eval()\n",
    "\n",
    "# def load_mlp_class_model(saved_model):\n",
    "#     config = ClassConfig\n",
    "#     model_params = {\n",
    "#         'input_shape': config.x_shape,\n",
    "#         'classes': config.classes,\n",
    "#         'batch_size': config.batch_size,\n",
    "#         'hidden_units': config.hidden_units,\n",
    "#         'experiment': config.experiment,\n",
    "#     }\n",
    "#     model = MLP(model_params)\n",
    "#     model.load_state_dict(torch.load(saved_model))\n",
    "\n",
    "#     return model.eval()\n",
    "\n",
    "# def load_dropout_class_model(saved_model):\n",
    "#     config = ClassConfig\n",
    "#     model_params = {\n",
    "#         'input_shape': config.x_shape,\n",
    "#         'classes': config.classes,\n",
    "#         'batch_size': config.batch_size,\n",
    "#         'hidden_units': config.hidden_units,\n",
    "#         'experiment': config.experiment,\n",
    "#         'dropout': True\n",
    "#     }\n",
    "#     model = MLP_Dropout(model_params)\n",
    "#     model.load_state_dict(torch.load(saved_model))\n",
    "\n",
    "#     return model.eval()"
   ]
  },
  {
   "cell_type": "code",
   "execution_count": 7,
   "id": "c4778fbf",
   "metadata": {
    "execution": {
     "iopub.execute_input": "2025-06-09T07:39:01.507388Z",
     "iopub.status.busy": "2025-06-09T07:39:01.507061Z",
     "iopub.status.idle": "2025-06-09T07:39:01.512432Z",
     "shell.execute_reply": "2025-06-09T07:39:01.511786Z"
    },
    "papermill": {
     "duration": 0.011135,
     "end_time": "2025-06-09T07:39:01.513460",
     "exception": false,
     "start_time": "2025-06-09T07:39:01.502325",
     "status": "completed"
    },
    "tags": []
   },
   "outputs": [],
   "source": [
    "def create_regression_plot(X_test, y_test, train_ds):\n",
    "    fig = plt.figure(figsize=(9, 6))\n",
    "    plt.plot(X_test, np.median(y_test, axis=0), label='Median Posterior Predictive')\n",
    "    \n",
    "    # Range\n",
    "    plt.fill_between(\n",
    "        X_test.reshape(-1), \n",
    "        np.percentile(y_test, 0, axis=0), \n",
    "        np.percentile(y_test, 100, axis=0), \n",
    "        alpha = 0.2, color='orange', label='Range') #color='blue',\n",
    "    \n",
    "    # interquartile range\n",
    "    plt.fill_between(\n",
    "        X_test.reshape(-1), \n",
    "        np.percentile(y_test, 25, axis=0), \n",
    "        np.percentile(y_test, 75, axis=0), \n",
    "        alpha = 0.4,  label='Interquartile Range') #color='red',\n",
    "    \n",
    "    plt.scatter(train_ds.dataset.X, train_ds.dataset.y, label='Training data', marker='x', alpha=0.5, color='k', s=2)\n",
    "    plt.yticks(fontsize=20)\n",
    "    plt.xticks(fontsize=20)\n",
    "    plt.ylim([-1.5, 1.5])\n",
    "    plt.xlim([-0.6, 1.4])\n",
    "\n",
    "   "
   ]
  },
  {
   "cell_type": "code",
   "execution_count": 8,
   "id": "2f59db2b",
   "metadata": {
    "_cell_guid": "b1076dfc-b9ad-4769-8c92-a6c4dae69d19",
    "_uuid": "8f2839f25d086af736a60e9eeb907d3b93b6e0e5",
    "execution": {
     "iopub.execute_input": "2025-06-09T07:39:01.521885Z",
     "iopub.status.busy": "2025-06-09T07:39:01.521674Z",
     "iopub.status.idle": "2025-06-09T07:39:01.530940Z",
     "shell.execute_reply": "2025-06-09T07:39:01.530281Z"
    },
    "papermill": {
     "duration": 0.014908,
     "end_time": "2025-06-09T07:39:01.532108",
     "exception": false,
     "start_time": "2025-06-09T07:39:01.517200",
     "status": "completed"
    },
    "tags": []
   },
   "outputs": [],
   "source": [
    "class BNN_Classification():\n",
    "    def __init__(self, label, parameters):\n",
    "        super().__init__()\n",
    "        self.label = label\n",
    "        self.lr = parameters['lr']\n",
    "        self.hidden_units = parameters['hidden_units']\n",
    "        self.experiment = parameters['experiment']\n",
    "        self.batch_size = parameters['batch_size']\n",
    "        self.num_batches = parameters['num_batches']\n",
    "        self.n_samples = parameters['train_samples']\n",
    "        self.test_samples = parameters['test_samples']\n",
    "        self.x_shape = parameters['x_shape']\n",
    "        self.classes = parameters['classes']\n",
    "        self.mu_init = parameters['mu_init']\n",
    "        self.rho_init = parameters['rho_init']\n",
    "        self.prior_init = parameters['prior_init']\n",
    "        self.best_acc = 0.\n",
    "        self.init_net(parameters)\n",
    "    \n",
    "    def init_net(self, parameters):\n",
    "        model_params = {\n",
    "            'input_shape': self.x_shape,\n",
    "            'classes': self.classes,\n",
    "            'batch_size': self.batch_size,\n",
    "            'hidden_units': self.hidden_units,\n",
    "            'experiment': self.experiment,\n",
    "            'mu_init': self.mu_init,\n",
    "            'rho_init': self.rho_init,\n",
    "            'prior_init': self.prior_init,\n",
    "        }\n",
    "        self.net = BayesianNetwork(model_params).to(device)\n",
    "        self.optimiser = torch.optim.Adam(self.net.parameters(), lr=self.lr)\n",
    "        self.scheduler = torch.optim.lr_scheduler.StepLR(self.optimiser, step_size=100, gamma=0.5)\n",
    "        # print(f'Classification Task {self.label} Parameters: ')\n",
    "        # print(f'number of samples: {self.n_samples}')\n",
    "        # print(\"BNN Parameters: \")\n",
    "        # print(f'batch size: {self.batch_size}, x shape: {model_params[\"input_shape\"]}, hidden units: {model_params[\"hidden_units\"]}, output shape: {model_params[\"classes\"]}, lr: {self.lr}')\n",
    "\n",
    "    def train_step(self, train_data):\n",
    "        self.net.train()\n",
    "        for idx, (x, y) in enumerate(tqdm(train_data)):\n",
    "            beta = 2 ** (self.num_batches - (idx + 1)) / (2 ** self.num_batches - 1) \n",
    "            x, y = x.to(device), y.to(device)\n",
    "            self.net.zero_grad()\n",
    "            self.loss_info = self.net.sample_elbo(x, y, beta, self.n_samples)            \n",
    "            net_loss = self.loss_info[0]\n",
    "            net_loss.backward()\n",
    "            self.optimiser.step()\n",
    "\n",
    "    def predict(self, X):\n",
    "        probs = torch.zeros(size=[self.batch_size, self.classes]).to(device)\n",
    "        for _ in torch.arange(self.test_samples):\n",
    "            out = torch.nn.Softmax(dim=1)(self.net(X))\n",
    "            probs = probs + out / self.test_samples\n",
    "        preds = torch.argmax(probs, dim=1)\n",
    "        return preds, probs\n",
    "\n",
    "    def evaluate(self, test_loader):\n",
    "        self.net.eval()\n",
    "        correct = 0\n",
    "        total = 0\n",
    "\n",
    "        with torch.no_grad():\n",
    "            for data in tqdm(test_loader):\n",
    "                X, y = data\n",
    "                X, y = X.to(device), y.to(device)\n",
    "                preds, _ = self.predict(X)\n",
    "                total += self.batch_size\n",
    "                correct += (preds == y).sum().item()\n",
    "        self.acc = correct / total\n",
    "        print(f'{self.label} validation accuracy: {self.acc}')  \n",
    "        return self.acc\n"
   ]
  },
  {
   "cell_type": "code",
   "execution_count": 9,
   "id": "d6aa5ff2",
   "metadata": {
    "execution": {
     "iopub.execute_input": "2025-06-09T07:39:01.540539Z",
     "iopub.status.busy": "2025-06-09T07:39:01.540327Z",
     "iopub.status.idle": "2025-06-09T07:39:01.548573Z",
     "shell.execute_reply": "2025-06-09T07:39:01.547904Z"
    },
    "papermill": {
     "duration": 0.01367,
     "end_time": "2025-06-09T07:39:01.549610",
     "exception": false,
     "start_time": "2025-06-09T07:39:01.535940",
     "status": "completed"
    },
    "tags": []
   },
   "outputs": [],
   "source": [
    "class MLP_Classification():\n",
    "    def __init__(self, label, parameters):\n",
    "        super().__init__()\n",
    "        self.label = label\n",
    "        self.lr = parameters['lr']\n",
    "        self.hidden_units = parameters['hidden_units']\n",
    "        self.experiment = parameters['experiment']\n",
    "        self.batch_size = parameters['batch_size']\n",
    "        self.num_batches = parameters['num_batches']\n",
    "        self.x_shape = parameters['x_shape']\n",
    "        self.classes = parameters['classes']\n",
    "        self.best_acc = 0.\n",
    "        self.dropout = parameters['dropout']\n",
    "        self.init_net(parameters)\n",
    "    \n",
    "    def init_net(self, parameters):\n",
    "        model_params = {\n",
    "            'input_shape': self.x_shape,\n",
    "            'classes': self.classes,\n",
    "            'batch_size': self.batch_size,\n",
    "            'hidden_units': self.hidden_units,\n",
    "            'experiment': self.experiment,\n",
    "            'dropout': self.dropout,\n",
    "        }\n",
    "        if self.dropout:\n",
    "            self.net = MLP_Dropout(model_params).to(device)\n",
    "        else:\n",
    "            self.net = MLP(model_params).to(device)\n",
    "        \n",
    "        self.optimiser = torch.optim.SGD(self.net.parameters(), lr=self.lr)\n",
    "        self.scheduler = torch.optim.lr_scheduler.StepLR(self.optimiser, step_size=100, gamma=0.5)\n",
    "\n",
    "    def train_step(self, train_data):\n",
    "        self.net.train()\n",
    "        for _, (x, y) in enumerate(tqdm(train_data)):\n",
    "            x, y = x.to(device), y.to(device)\n",
    "            self.net.zero_grad()\n",
    "            self.loss_info = torch.nn.functional.cross_entropy(self.net(x), y, reduction='sum')\n",
    "            self.loss_info.backward()\n",
    "            self.optimiser.step()\n",
    "\n",
    "    def predict(self, X):\n",
    "        probs = torch.nn.Softmax(dim=1)(self.net(X))\n",
    "        preds = torch.argmax(probs, dim=1)\n",
    "        return preds, probs\n",
    "\n",
    "    def evaluate(self, test_loader):\n",
    "        self.net.eval()\n",
    "        correct = 0\n",
    "        total = 0\n",
    "\n",
    "        with torch.no_grad():\n",
    "            for data in tqdm(test_loader):\n",
    "                X, y = data\n",
    "                X, y = X.to(device), y.to(device)\n",
    "                preds, _ = self.predict(X)\n",
    "                total += self.batch_size\n",
    "                correct += (preds == y).sum().item()\n",
    "        self.acc = correct / total\n",
    "        print(f'{self.label} validation accuracy: {self.acc}') \n",
    "        return self.acc"
   ]
  },
  {
   "cell_type": "code",
   "execution_count": 10,
   "id": "756ed568",
   "metadata": {
    "execution": {
     "iopub.execute_input": "2025-06-09T07:39:01.558014Z",
     "iopub.status.busy": "2025-06-09T07:39:01.557842Z",
     "iopub.status.idle": "2025-06-09T16:21:42.607857Z",
     "shell.execute_reply": "2025-06-09T16:21:42.607195Z"
    },
    "papermill": {
     "duration": 31368.111318,
     "end_time": "2025-06-09T16:21:49.664678",
     "exception": false,
     "start_time": "2025-06-09T07:39:01.553360",
     "status": "completed"
    },
    "tags": []
   },
   "outputs": [
    {
     "name": "stderr",
     "output_type": "stream",
     "text": [
      "100%|██████████| 9.91M/9.91M [00:00<00:00, 41.3MB/s]\n",
      "100%|██████████| 28.9k/28.9k [00:00<00:00, 1.18MB/s]\n",
      "100%|██████████| 1.65M/1.65M [00:00<00:00, 10.9MB/s]\n",
      "100%|██████████| 4.54k/4.54k [00:00<00:00, 9.48MB/s]\n"
     ]
    },
    {
     "name": "stdout",
     "output_type": "stream",
     "text": [
      "Epoch 1/600\n"
     ]
    },
    {
     "name": "stderr",
     "output_type": "stream",
     "text": [
      "100%|██████████| 468/468 [00:18<00:00, 25.88it/s]\n",
      "100%|██████████| 468/468 [00:06<00:00, 67.12it/s]\n",
      "100%|██████████| 468/468 [00:06<00:00, 67.08it/s]\n",
      "100%|██████████| 78/78 [00:18<00:00,  4.21it/s]\n"
     ]
    },
    {
     "name": "stdout",
     "output_type": "stream",
     "text": [
      "bnn_classification validation accuracy: 0.9495192307692307\n"
     ]
    },
    {
     "name": "stderr",
     "output_type": "stream",
     "text": [
      "100%|██████████| 78/78 [00:01<00:00, 70.42it/s]\n"
     ]
    },
    {
     "name": "stdout",
     "output_type": "stream",
     "text": [
      "mlp_classification validation accuracy: 0.9509214743589743\n"
     ]
    },
    {
     "name": "stderr",
     "output_type": "stream",
     "text": [
      "100%|██████████| 78/78 [00:01<00:00, 70.47it/s]\n"
     ]
    },
    {
     "name": "stdout",
     "output_type": "stream",
     "text": [
      "mlp_dropout_classification validation accuracy: 0.9486177884615384\n",
      "BNN Test Error: 5.05%\n",
      "MLP Test Error: 4.91%\n",
      "MLP Dropout Test Error: 5.14%\n",
      "Epoch 2/600\n"
     ]
    },
    {
     "name": "stderr",
     "output_type": "stream",
     "text": [
      "100%|██████████| 468/468 [00:19<00:00, 23.99it/s]\n",
      "100%|██████████| 468/468 [00:07<00:00, 66.53it/s]\n",
      "100%|██████████| 468/468 [00:06<00:00, 66.93it/s]\n",
      "100%|██████████| 78/78 [00:17<00:00,  4.40it/s]\n"
     ]
    },
    {
     "name": "stdout",
     "output_type": "stream",
     "text": [
      "bnn_classification validation accuracy: 0.9488181089743589\n"
     ]
    },
    {
     "name": "stderr",
     "output_type": "stream",
     "text": [
      "100%|██████████| 78/78 [00:01<00:00, 69.06it/s]\n"
     ]
    },
    {
     "name": "stdout",
     "output_type": "stream",
     "text": [
      "mlp_classification validation accuracy: 0.9660456730769231\n"
     ]
    },
    {
     "name": "stderr",
     "output_type": "stream",
     "text": [
      "100%|██████████| 78/78 [00:01<00:00, 73.73it/s]\n"
     ]
    },
    {
     "name": "stdout",
     "output_type": "stream",
     "text": [
      "mlp_dropout_classification validation accuracy: 0.9660456730769231\n",
      "BNN Test Error: 5.12%\n",
      "MLP Test Error: 3.40%\n",
      "MLP Dropout Test Error: 3.40%\n",
      "Epoch 3/600\n"
     ]
    },
    {
     "name": "stderr",
     "output_type": "stream",
     "text": [
      "100%|██████████| 468/468 [00:19<00:00, 24.22it/s]\n",
      "100%|██████████| 468/468 [00:06<00:00, 68.71it/s]\n",
      "100%|██████████| 468/468 [00:07<00:00, 66.56it/s]\n",
      "100%|██████████| 78/78 [00:17<00:00,  4.34it/s]\n"
     ]
    },
    {
     "name": "stdout",
     "output_type": "stream",
     "text": [
      "bnn_classification validation accuracy: 0.9676482371794872\n"
     ]
    },
    {
     "name": "stderr",
     "output_type": "stream",
     "text": [
      "100%|██████████| 78/78 [00:01<00:00, 72.12it/s]\n"
     ]
    },
    {
     "name": "stdout",
     "output_type": "stream",
     "text": [
      "mlp_classification validation accuracy: 0.9692508012820513\n"
     ]
    },
    {
     "name": "stderr",
     "output_type": "stream",
     "text": [
      "100%|██████████| 78/78 [00:01<00:00, 72.49it/s]\n"
     ]
    },
    {
     "name": "stdout",
     "output_type": "stream",
     "text": [
      "mlp_dropout_classification validation accuracy: 0.9701522435897436\n",
      "BNN Test Error: 3.24%\n",
      "MLP Test Error: 3.07%\n",
      "MLP Dropout Test Error: 2.98%\n",
      "Epoch 4/600\n"
     ]
    },
    {
     "name": "stderr",
     "output_type": "stream",
     "text": [
      "100%|██████████| 468/468 [00:19<00:00, 24.54it/s]\n",
      "100%|██████████| 468/468 [00:06<00:00, 67.00it/s]\n",
      "100%|██████████| 468/468 [00:06<00:00, 67.67it/s]\n",
      "100%|██████████| 78/78 [00:17<00:00,  4.35it/s]\n"
     ]
    },
    {
     "name": "stdout",
     "output_type": "stream",
     "text": [
      "bnn_classification validation accuracy: 0.9696514423076923\n"
     ]
    },
    {
     "name": "stderr",
     "output_type": "stream",
     "text": [
      "100%|██████████| 78/78 [00:01<00:00, 73.11it/s]\n"
     ]
    },
    {
     "name": "stdout",
     "output_type": "stream",
     "text": [
      "mlp_classification validation accuracy: 0.9756610576923077\n"
     ]
    },
    {
     "name": "stderr",
     "output_type": "stream",
     "text": [
      "100%|██████████| 78/78 [00:01<00:00, 71.65it/s]\n"
     ]
    },
    {
     "name": "stdout",
     "output_type": "stream",
     "text": [
      "mlp_dropout_classification validation accuracy: 0.9743589743589743\n",
      "BNN Test Error: 3.03%\n",
      "MLP Test Error: 2.43%\n",
      "MLP Dropout Test Error: 2.56%\n",
      "Epoch 5/600\n"
     ]
    },
    {
     "name": "stderr",
     "output_type": "stream",
     "text": [
      "100%|██████████| 468/468 [00:19<00:00, 24.06it/s]\n",
      "100%|██████████| 468/468 [00:06<00:00, 68.32it/s]\n",
      "100%|██████████| 468/468 [00:07<00:00, 66.66it/s]\n",
      "100%|██████████| 78/78 [00:18<00:00,  4.25it/s]\n"
     ]
    },
    {
     "name": "stdout",
     "output_type": "stream",
     "text": [
      "bnn_classification validation accuracy: 0.9713541666666666\n"
     ]
    },
    {
     "name": "stderr",
     "output_type": "stream",
     "text": [
      "100%|██████████| 78/78 [00:01<00:00, 71.51it/s]\n"
     ]
    },
    {
     "name": "stdout",
     "output_type": "stream",
     "text": [
      "mlp_classification validation accuracy: 0.9772636217948718\n"
     ]
    },
    {
     "name": "stderr",
     "output_type": "stream",
     "text": [
      "100%|██████████| 78/78 [00:01<00:00, 71.59it/s]\n"
     ]
    },
    {
     "name": "stdout",
     "output_type": "stream",
     "text": [
      "mlp_dropout_classification validation accuracy: 0.9772636217948718\n",
      "BNN Test Error: 2.86%\n",
      "MLP Test Error: 2.27%\n",
      "MLP Dropout Test Error: 2.27%\n",
      "Epoch 6/600\n"
     ]
    },
    {
     "name": "stderr",
     "output_type": "stream",
     "text": [
      "100%|██████████| 468/468 [00:19<00:00, 24.31it/s]\n",
      "100%|██████████| 468/468 [00:06<00:00, 68.50it/s]\n",
      "100%|██████████| 468/468 [00:07<00:00, 66.40it/s]\n",
      "100%|██████████| 78/78 [00:17<00:00,  4.40it/s]\n"
     ]
    },
    {
     "name": "stdout",
     "output_type": "stream",
     "text": [
      "bnn_classification validation accuracy: 0.9770633012820513\n"
     ]
    },
    {
     "name": "stderr",
     "output_type": "stream",
     "text": [
      "100%|██████████| 78/78 [00:01<00:00, 71.83it/s]\n"
     ]
    },
    {
     "name": "stdout",
     "output_type": "stream",
     "text": [
      "mlp_classification validation accuracy: 0.9775641025641025\n"
     ]
    },
    {
     "name": "stderr",
     "output_type": "stream",
     "text": [
      "100%|██████████| 78/78 [00:01<00:00, 70.90it/s]\n"
     ]
    },
    {
     "name": "stdout",
     "output_type": "stream",
     "text": [
      "mlp_dropout_classification validation accuracy: 0.9759615384615384\n",
      "BNN Test Error: 2.29%\n",
      "MLP Test Error: 2.24%\n",
      "MLP Dropout Test Error: 2.40%\n",
      "Epoch 7/600\n"
     ]
    },
    {
     "name": "stderr",
     "output_type": "stream",
     "text": [
      "100%|██████████| 468/468 [00:17<00:00, 26.95it/s]\n",
      "100%|██████████| 468/468 [00:06<00:00, 68.10it/s]\n",
      "100%|██████████| 468/468 [00:06<00:00, 67.63it/s]\n",
      "100%|██████████| 78/78 [00:17<00:00,  4.42it/s]\n"
     ]
    },
    {
     "name": "stdout",
     "output_type": "stream",
     "text": [
      "bnn_classification validation accuracy: 0.967948717948718\n"
     ]
    },
    {
     "name": "stderr",
     "output_type": "stream",
     "text": [
      "100%|██████████| 78/78 [00:01<00:00, 71.73it/s]\n"
     ]
    },
    {
     "name": "stdout",
     "output_type": "stream",
     "text": [
      "mlp_classification validation accuracy: 0.9802684294871795\n"
     ]
    },
    {
     "name": "stderr",
     "output_type": "stream",
     "text": [
      "100%|██████████| 78/78 [00:01<00:00, 71.50it/s]\n"
     ]
    },
    {
     "name": "stdout",
     "output_type": "stream",
     "text": [
      "mlp_dropout_classification validation accuracy: 0.9787660256410257\n",
      "BNN Test Error: 3.21%\n",
      "MLP Test Error: 1.97%\n",
      "MLP Dropout Test Error: 2.12%\n",
      "Epoch 8/600\n"
     ]
    },
    {
     "name": "stderr",
     "output_type": "stream",
     "text": [
      "100%|██████████| 468/468 [00:19<00:00, 23.66it/s]\n",
      "100%|██████████| 468/468 [00:06<00:00, 68.07it/s]\n",
      "100%|██████████| 468/468 [00:06<00:00, 67.53it/s]\n",
      "100%|██████████| 78/78 [00:19<00:00,  4.09it/s]\n"
     ]
    },
    {
     "name": "stdout",
     "output_type": "stream",
     "text": [
      "bnn_classification validation accuracy: 0.9739583333333334\n"
     ]
    },
    {
     "name": "stderr",
     "output_type": "stream",
     "text": [
      "100%|██████████| 78/78 [00:01<00:00, 70.84it/s]\n"
     ]
    },
    {
     "name": "stdout",
     "output_type": "stream",
     "text": [
      "mlp_classification validation accuracy: 0.9787660256410257\n"
     ]
    },
    {
     "name": "stderr",
     "output_type": "stream",
     "text": [
      "100%|██████████| 78/78 [00:01<00:00, 72.68it/s]\n"
     ]
    },
    {
     "name": "stdout",
     "output_type": "stream",
     "text": [
      "mlp_dropout_classification validation accuracy: 0.9806690705128205\n",
      "BNN Test Error: 2.60%\n",
      "MLP Test Error: 2.12%\n",
      "MLP Dropout Test Error: 1.93%\n",
      "Epoch 9/600\n"
     ]
    },
    {
     "name": "stderr",
     "output_type": "stream",
     "text": [
      "100%|██████████| 468/468 [00:19<00:00, 24.56it/s]\n",
      "100%|██████████| 468/468 [00:06<00:00, 67.42it/s]\n",
      "100%|██████████| 468/468 [00:07<00:00, 66.20it/s]\n",
      "100%|██████████| 78/78 [00:17<00:00,  4.44it/s]\n"
     ]
    },
    {
     "name": "stdout",
     "output_type": "stream",
     "text": [
      "bnn_classification validation accuracy: 0.9725560897435898\n"
     ]
    },
    {
     "name": "stderr",
     "output_type": "stream",
     "text": [
      "100%|██████████| 78/78 [00:01<00:00, 71.66it/s]\n"
     ]
    },
    {
     "name": "stdout",
     "output_type": "stream",
     "text": [
      "mlp_classification validation accuracy: 0.9819711538461539\n"
     ]
    },
    {
     "name": "stderr",
     "output_type": "stream",
     "text": [
      "100%|██████████| 78/78 [00:01<00:00, 71.21it/s]\n"
     ]
    },
    {
     "name": "stdout",
     "output_type": "stream",
     "text": [
      "mlp_dropout_classification validation accuracy: 0.981270032051282\n",
      "BNN Test Error: 2.74%\n",
      "MLP Test Error: 1.80%\n",
      "MLP Dropout Test Error: 1.87%\n",
      "Epoch 10/600\n"
     ]
    },
    {
     "name": "stderr",
     "output_type": "stream",
     "text": [
      "100%|██████████| 468/468 [00:19<00:00, 24.33it/s]\n",
      "100%|██████████| 468/468 [00:07<00:00, 66.75it/s]\n",
      "100%|██████████| 468/468 [00:07<00:00, 66.55it/s]\n",
      "100%|██████████| 78/78 [00:17<00:00,  4.35it/s]\n"
     ]
    },
    {
     "name": "stdout",
     "output_type": "stream",
     "text": [
      "bnn_classification validation accuracy: 0.9717548076923077\n"
     ]
    },
    {
     "name": "stderr",
     "output_type": "stream",
     "text": [
      "100%|██████████| 78/78 [00:01<00:00, 71.50it/s]\n"
     ]
    },
    {
     "name": "stdout",
     "output_type": "stream",
     "text": [
      "mlp_classification validation accuracy: 0.9823717948717948\n"
     ]
    },
    {
     "name": "stderr",
     "output_type": "stream",
     "text": [
      "100%|██████████| 78/78 [00:01<00:00, 72.36it/s]\n"
     ]
    },
    {
     "name": "stdout",
     "output_type": "stream",
     "text": [
      "mlp_dropout_classification validation accuracy: 0.9827724358974359\n",
      "BNN Test Error: 2.82%\n",
      "MLP Test Error: 1.76%\n",
      "MLP Dropout Test Error: 1.72%\n",
      "Epoch 11/600\n"
     ]
    },
    {
     "name": "stderr",
     "output_type": "stream",
     "text": [
      "100%|██████████| 468/468 [00:17<00:00, 26.45it/s]\n",
      "100%|██████████| 468/468 [00:06<00:00, 67.54it/s]\n",
      "100%|██████████| 468/468 [00:06<00:00, 67.01it/s]\n",
      "100%|██████████| 78/78 [00:16<00:00,  4.64it/s]\n"
     ]
    },
    {
     "name": "stdout",
     "output_type": "stream",
     "text": [
      "bnn_classification validation accuracy: 0.9770633012820513\n"
     ]
    },
    {
     "name": "stderr",
     "output_type": "stream",
     "text": [
      "100%|██████████| 78/78 [00:01<00:00, 71.40it/s]\n"
     ]
    },
    {
     "name": "stdout",
     "output_type": "stream",
     "text": [
      "mlp_classification validation accuracy: 0.9829727564102564\n"
     ]
    },
    {
     "name": "stderr",
     "output_type": "stream",
     "text": [
      "100%|██████████| 78/78 [00:01<00:00, 70.80it/s]\n"
     ]
    },
    {
     "name": "stdout",
     "output_type": "stream",
     "text": [
      "mlp_dropout_classification validation accuracy: 0.9829727564102564\n",
      "BNN Test Error: 2.29%\n",
      "MLP Test Error: 1.70%\n",
      "MLP Dropout Test Error: 1.70%\n",
      "Epoch 12/600\n"
     ]
    },
    {
     "name": "stderr",
     "output_type": "stream",
     "text": [
      "100%|██████████| 468/468 [00:17<00:00, 26.15it/s]\n",
      "100%|██████████| 468/468 [00:06<00:00, 67.04it/s]\n",
      "100%|██████████| 468/468 [00:07<00:00, 66.07it/s]\n",
      "100%|██████████| 78/78 [00:17<00:00,  4.44it/s]\n"
     ]
    },
    {
     "name": "stdout",
     "output_type": "stream",
     "text": [
      "bnn_classification validation accuracy: 0.9755608974358975\n"
     ]
    },
    {
     "name": "stderr",
     "output_type": "stream",
     "text": [
      "100%|██████████| 78/78 [00:01<00:00, 66.01it/s]\n"
     ]
    },
    {
     "name": "stdout",
     "output_type": "stream",
     "text": [
      "mlp_classification validation accuracy: 0.9815705128205128\n"
     ]
    },
    {
     "name": "stderr",
     "output_type": "stream",
     "text": [
      "100%|██████████| 78/78 [00:01<00:00, 70.43it/s]\n"
     ]
    },
    {
     "name": "stdout",
     "output_type": "stream",
     "text": [
      "mlp_dropout_classification validation accuracy: 0.9831730769230769\n",
      "BNN Test Error: 2.44%\n",
      "MLP Test Error: 1.84%\n",
      "MLP Dropout Test Error: 1.68%\n",
      "Epoch 13/600\n"
     ]
    },
    {
     "name": "stderr",
     "output_type": "stream",
     "text": [
      "100%|██████████| 468/468 [00:17<00:00, 26.68it/s]\n",
      "100%|██████████| 468/468 [00:06<00:00, 67.39it/s]\n",
      "100%|██████████| 468/468 [00:07<00:00, 66.30it/s]\n",
      "100%|██████████| 78/78 [00:18<00:00,  4.26it/s]\n"
     ]
    },
    {
     "name": "stdout",
     "output_type": "stream",
     "text": [
      "bnn_classification validation accuracy: 0.9736578525641025\n"
     ]
    },
    {
     "name": "stderr",
     "output_type": "stream",
     "text": [
      "100%|██████████| 78/78 [00:01<00:00, 69.95it/s]\n"
     ]
    },
    {
     "name": "stdout",
     "output_type": "stream",
     "text": [
      "mlp_classification validation accuracy: 0.9827724358974359\n"
     ]
    },
    {
     "name": "stderr",
     "output_type": "stream",
     "text": [
      "100%|██████████| 78/78 [00:01<00:00, 70.26it/s]\n"
     ]
    },
    {
     "name": "stdout",
     "output_type": "stream",
     "text": [
      "mlp_dropout_classification validation accuracy: 0.9838741987179487\n",
      "BNN Test Error: 2.63%\n",
      "MLP Test Error: 1.72%\n",
      "MLP Dropout Test Error: 1.61%\n",
      "Epoch 14/600\n"
     ]
    },
    {
     "name": "stderr",
     "output_type": "stream",
     "text": [
      "100%|██████████| 468/468 [00:17<00:00, 26.52it/s]\n",
      "100%|██████████| 468/468 [00:07<00:00, 66.49it/s]\n",
      "100%|██████████| 468/468 [00:07<00:00, 66.61it/s]\n",
      "100%|██████████| 78/78 [00:17<00:00,  4.38it/s]\n"
     ]
    },
    {
     "name": "stdout",
     "output_type": "stream",
     "text": [
      "bnn_classification validation accuracy: 0.9766626602564102\n"
     ]
    },
    {
     "name": "stderr",
     "output_type": "stream",
     "text": [
      "100%|██████████| 78/78 [00:01<00:00, 65.37it/s]\n"
     ]
    },
    {
     "name": "stdout",
     "output_type": "stream",
     "text": [
      "mlp_classification validation accuracy: 0.9830729166666666\n"
     ]
    },
    {
     "name": "stderr",
     "output_type": "stream",
     "text": [
      "100%|██████████| 78/78 [00:01<00:00, 71.48it/s]\n"
     ]
    },
    {
     "name": "stdout",
     "output_type": "stream",
     "text": [
      "mlp_dropout_classification validation accuracy: 0.9821714743589743\n",
      "BNN Test Error: 2.33%\n",
      "MLP Test Error: 1.69%\n",
      "MLP Dropout Test Error: 1.78%\n",
      "Epoch 15/600\n"
     ]
    },
    {
     "name": "stderr",
     "output_type": "stream",
     "text": [
      "100%|██████████| 468/468 [00:17<00:00, 26.83it/s]\n",
      "100%|██████████| 468/468 [00:06<00:00, 67.34it/s]\n",
      "100%|██████████| 468/468 [00:07<00:00, 64.65it/s]\n",
      "100%|██████████| 78/78 [00:17<00:00,  4.37it/s]\n"
     ]
    },
    {
     "name": "stdout",
     "output_type": "stream",
     "text": [
      "bnn_classification validation accuracy: 0.9692508012820513\n"
     ]
    },
    {
     "name": "stderr",
     "output_type": "stream",
     "text": [
      "100%|██████████| 78/78 [00:01<00:00, 72.05it/s]\n"
     ]
    },
    {
     "name": "stdout",
     "output_type": "stream",
     "text": [
      "mlp_classification validation accuracy: 0.9831730769230769\n"
     ]
    },
    {
     "name": "stderr",
     "output_type": "stream",
     "text": [
      "100%|██████████| 78/78 [00:01<00:00, 72.04it/s]\n"
     ]
    },
    {
     "name": "stdout",
     "output_type": "stream",
     "text": [
      "mlp_dropout_classification validation accuracy: 0.9833733974358975\n",
      "BNN Test Error: 3.07%\n",
      "MLP Test Error: 1.68%\n",
      "MLP Dropout Test Error: 1.66%\n",
      "Epoch 16/600\n"
     ]
    },
    {
     "name": "stderr",
     "output_type": "stream",
     "text": [
      "100%|██████████| 468/468 [00:17<00:00, 26.47it/s]\n",
      "100%|██████████| 468/468 [00:06<00:00, 67.48it/s]\n",
      "100%|██████████| 468/468 [00:06<00:00, 67.23it/s]\n",
      "100%|██████████| 78/78 [00:17<00:00,  4.34it/s]\n"
     ]
    },
    {
     "name": "stdout",
     "output_type": "stream",
     "text": [
      "bnn_classification validation accuracy: 0.9750600961538461\n"
     ]
    },
    {
     "name": "stderr",
     "output_type": "stream",
     "text": [
      "100%|██████████| 78/78 [00:01<00:00, 72.58it/s]\n"
     ]
    },
    {
     "name": "stdout",
     "output_type": "stream",
     "text": [
      "mlp_classification validation accuracy: 0.9830729166666666\n"
     ]
    },
    {
     "name": "stderr",
     "output_type": "stream",
     "text": [
      "100%|██████████| 78/78 [00:01<00:00, 72.21it/s]\n"
     ]
    },
    {
     "name": "stdout",
     "output_type": "stream",
     "text": [
      "mlp_dropout_classification validation accuracy: 0.9846754807692307\n",
      "BNN Test Error: 2.49%\n",
      "MLP Test Error: 1.69%\n",
      "MLP Dropout Test Error: 1.53%\n",
      "Epoch 17/600\n"
     ]
    },
    {
     "name": "stderr",
     "output_type": "stream",
     "text": [
      "100%|██████████| 468/468 [00:16<00:00, 27.80it/s]\n",
      "100%|██████████| 468/468 [00:07<00:00, 66.32it/s]\n",
      "100%|██████████| 468/468 [00:06<00:00, 67.31it/s]\n",
      "100%|██████████| 78/78 [00:17<00:00,  4.37it/s]\n"
     ]
    },
    {
     "name": "stdout",
     "output_type": "stream",
     "text": [
      "bnn_classification validation accuracy: 0.9754607371794872\n"
     ]
    },
    {
     "name": "stderr",
     "output_type": "stream",
     "text": [
      "100%|██████████| 78/78 [00:01<00:00, 70.69it/s]\n"
     ]
    },
    {
     "name": "stdout",
     "output_type": "stream",
     "text": [
      "mlp_classification validation accuracy: 0.9831730769230769\n"
     ]
    },
    {
     "name": "stderr",
     "output_type": "stream",
     "text": [
      "100%|██████████| 78/78 [00:01<00:00, 73.20it/s]\n"
     ]
    },
    {
     "name": "stdout",
     "output_type": "stream",
     "text": [
      "mlp_dropout_classification validation accuracy: 0.9832732371794872\n",
      "BNN Test Error: 2.45%\n",
      "MLP Test Error: 1.68%\n",
      "MLP Dropout Test Error: 1.67%\n",
      "Epoch 18/600\n"
     ]
    },
    {
     "name": "stderr",
     "output_type": "stream",
     "text": [
      "100%|██████████| 468/468 [00:19<00:00, 24.44it/s]\n",
      "100%|██████████| 468/468 [00:06<00:00, 67.13it/s]\n",
      "100%|██████████| 468/468 [00:07<00:00, 65.88it/s]\n",
      "100%|██████████| 78/78 [00:18<00:00,  4.26it/s]\n"
     ]
    },
    {
     "name": "stdout",
     "output_type": "stream",
     "text": [
      "bnn_classification validation accuracy: 0.9751602564102564\n"
     ]
    },
    {
     "name": "stderr",
     "output_type": "stream",
     "text": [
      "100%|██████████| 78/78 [00:01<00:00, 72.30it/s]\n"
     ]
    },
    {
     "name": "stdout",
     "output_type": "stream",
     "text": [
      "mlp_classification validation accuracy: 0.9834735576923077\n"
     ]
    },
    {
     "name": "stderr",
     "output_type": "stream",
     "text": [
      "100%|██████████| 78/78 [00:01<00:00, 72.63it/s]\n"
     ]
    },
    {
     "name": "stdout",
     "output_type": "stream",
     "text": [
      "mlp_dropout_classification validation accuracy: 0.9847756410256411\n",
      "BNN Test Error: 2.48%\n",
      "MLP Test Error: 1.65%\n",
      "MLP Dropout Test Error: 1.52%\n",
      "Epoch 19/600\n"
     ]
    },
    {
     "name": "stderr",
     "output_type": "stream",
     "text": [
      "100%|██████████| 468/468 [00:17<00:00, 26.37it/s]\n",
      "100%|██████████| 468/468 [00:06<00:00, 67.00it/s]\n",
      "100%|██████████| 468/468 [00:06<00:00, 67.45it/s]\n",
      "100%|██████████| 78/78 [00:17<00:00,  4.46it/s]\n"
     ]
    },
    {
     "name": "stdout",
     "output_type": "stream",
     "text": [
      "bnn_classification validation accuracy: 0.9791666666666666\n"
     ]
    },
    {
     "name": "stderr",
     "output_type": "stream",
     "text": [
      "100%|██████████| 78/78 [00:01<00:00, 71.29it/s]\n"
     ]
    },
    {
     "name": "stdout",
     "output_type": "stream",
     "text": [
      "mlp_classification validation accuracy: 0.9830729166666666\n"
     ]
    },
    {
     "name": "stderr",
     "output_type": "stream",
     "text": [
      "100%|██████████| 78/78 [00:01<00:00, 68.24it/s]\n"
     ]
    },
    {
     "name": "stdout",
     "output_type": "stream",
     "text": [
      "mlp_dropout_classification validation accuracy: 0.9850761217948718\n",
      "BNN Test Error: 2.08%\n",
      "MLP Test Error: 1.69%\n",
      "MLP Dropout Test Error: 1.49%\n",
      "Epoch 20/600\n"
     ]
    },
    {
     "name": "stderr",
     "output_type": "stream",
     "text": [
      "100%|██████████| 468/468 [00:17<00:00, 26.60it/s]\n",
      "100%|██████████| 468/468 [00:06<00:00, 67.12it/s]\n",
      "100%|██████████| 468/468 [00:07<00:00, 66.27it/s]\n",
      "100%|██████████| 78/78 [00:17<00:00,  4.36it/s]\n"
     ]
    },
    {
     "name": "stdout",
     "output_type": "stream",
     "text": [
      "bnn_classification validation accuracy: 0.9794671474358975\n"
     ]
    },
    {
     "name": "stderr",
     "output_type": "stream",
     "text": [
      "100%|██████████| 78/78 [00:01<00:00, 70.85it/s]\n"
     ]
    },
    {
     "name": "stdout",
     "output_type": "stream",
     "text": [
      "mlp_classification validation accuracy: 0.9836738782051282\n"
     ]
    },
    {
     "name": "stderr",
     "output_type": "stream",
     "text": [
      "100%|██████████| 78/78 [00:01<00:00, 71.45it/s]\n"
     ]
    },
    {
     "name": "stdout",
     "output_type": "stream",
     "text": [
      "mlp_dropout_classification validation accuracy: 0.9853766025641025\n",
      "BNN Test Error: 2.05%\n",
      "MLP Test Error: 1.63%\n",
      "MLP Dropout Test Error: 1.46%\n",
      "Epoch 21/600\n"
     ]
    },
    {
     "name": "stderr",
     "output_type": "stream",
     "text": [
      "100%|██████████| 468/468 [00:17<00:00, 26.19it/s]\n",
      "100%|██████████| 468/468 [00:06<00:00, 67.09it/s]\n",
      "100%|██████████| 468/468 [00:06<00:00, 67.49it/s]\n",
      "100%|██████████| 78/78 [00:18<00:00,  4.30it/s]\n"
     ]
    },
    {
     "name": "stdout",
     "output_type": "stream",
     "text": [
      "bnn_classification validation accuracy: 0.9785657051282052\n"
     ]
    },
    {
     "name": "stderr",
     "output_type": "stream",
     "text": [
      "100%|██████████| 78/78 [00:01<00:00, 71.30it/s]\n"
     ]
    },
    {
     "name": "stdout",
     "output_type": "stream",
     "text": [
      "mlp_classification validation accuracy: 0.9832732371794872\n"
     ]
    },
    {
     "name": "stderr",
     "output_type": "stream",
     "text": [
      "100%|██████████| 78/78 [00:01<00:00, 71.82it/s]\n"
     ]
    },
    {
     "name": "stdout",
     "output_type": "stream",
     "text": [
      "mlp_dropout_classification validation accuracy: 0.9841746794871795\n",
      "BNN Test Error: 2.14%\n",
      "MLP Test Error: 1.67%\n",
      "MLP Dropout Test Error: 1.58%\n",
      "Epoch 22/600\n"
     ]
    },
    {
     "name": "stderr",
     "output_type": "stream",
     "text": [
      "100%|██████████| 468/468 [00:17<00:00, 26.41it/s]\n",
      "100%|██████████| 468/468 [00:06<00:00, 68.89it/s]\n",
      "100%|██████████| 468/468 [00:06<00:00, 67.95it/s]\n",
      "100%|██████████| 78/78 [00:18<00:00,  4.33it/s]\n"
     ]
    },
    {
     "name": "stdout",
     "output_type": "stream",
     "text": [
      "bnn_classification validation accuracy: 0.979667467948718\n"
     ]
    },
    {
     "name": "stderr",
     "output_type": "stream",
     "text": [
      "100%|██████████| 78/78 [00:01<00:00, 73.05it/s]\n"
     ]
    },
    {
     "name": "stdout",
     "output_type": "stream",
     "text": [
      "mlp_classification validation accuracy: 0.9832732371794872\n"
     ]
    },
    {
     "name": "stderr",
     "output_type": "stream",
     "text": [
      "100%|██████████| 78/78 [00:01<00:00, 73.06it/s]\n"
     ]
    },
    {
     "name": "stdout",
     "output_type": "stream",
     "text": [
      "mlp_dropout_classification validation accuracy: 0.984375\n",
      "BNN Test Error: 2.03%\n",
      "MLP Test Error: 1.67%\n",
      "MLP Dropout Test Error: 1.56%\n",
      "Epoch 23/600\n"
     ]
    },
    {
     "name": "stderr",
     "output_type": "stream",
     "text": [
      "100%|██████████| 468/468 [00:20<00:00, 23.28it/s]\n",
      "100%|██████████| 468/468 [00:06<00:00, 68.23it/s]\n",
      "100%|██████████| 468/468 [00:06<00:00, 66.94it/s]\n",
      "100%|██████████| 78/78 [00:17<00:00,  4.39it/s]\n"
     ]
    },
    {
     "name": "stdout",
     "output_type": "stream",
     "text": [
      "bnn_classification validation accuracy: 0.9777644230769231\n"
     ]
    },
    {
     "name": "stderr",
     "output_type": "stream",
     "text": [
      "100%|██████████| 78/78 [00:01<00:00, 72.74it/s]\n"
     ]
    },
    {
     "name": "stdout",
     "output_type": "stream",
     "text": [
      "mlp_classification validation accuracy: 0.9833733974358975\n"
     ]
    },
    {
     "name": "stderr",
     "output_type": "stream",
     "text": [
      "100%|██████████| 78/78 [00:01<00:00, 73.00it/s]\n"
     ]
    },
    {
     "name": "stdout",
     "output_type": "stream",
     "text": [
      "mlp_dropout_classification validation accuracy: 0.9852764423076923\n",
      "BNN Test Error: 2.22%\n",
      "MLP Test Error: 1.66%\n",
      "MLP Dropout Test Error: 1.47%\n",
      "Epoch 24/600\n"
     ]
    },
    {
     "name": "stderr",
     "output_type": "stream",
     "text": [
      "100%|██████████| 468/468 [00:18<00:00, 25.92it/s]\n",
      "100%|██████████| 468/468 [00:06<00:00, 67.55it/s]\n",
      "100%|██████████| 468/468 [00:06<00:00, 67.21it/s]\n",
      "100%|██████████| 78/78 [00:17<00:00,  4.34it/s]\n"
     ]
    },
    {
     "name": "stdout",
     "output_type": "stream",
     "text": [
      "bnn_classification validation accuracy: 0.9816706730769231\n"
     ]
    },
    {
     "name": "stderr",
     "output_type": "stream",
     "text": [
      "100%|██████████| 78/78 [00:01<00:00, 72.31it/s]\n"
     ]
    },
    {
     "name": "stdout",
     "output_type": "stream",
     "text": [
      "mlp_classification validation accuracy: 0.9834735576923077\n"
     ]
    },
    {
     "name": "stderr",
     "output_type": "stream",
     "text": [
      "100%|██████████| 78/78 [00:01<00:00, 72.02it/s]\n"
     ]
    },
    {
     "name": "stdout",
     "output_type": "stream",
     "text": [
      "mlp_dropout_classification validation accuracy: 0.9852764423076923\n",
      "BNN Test Error: 1.83%\n",
      "MLP Test Error: 1.65%\n",
      "MLP Dropout Test Error: 1.47%\n",
      "Epoch 25/600\n"
     ]
    },
    {
     "name": "stderr",
     "output_type": "stream",
     "text": [
      "100%|██████████| 468/468 [00:17<00:00, 26.67it/s]\n",
      "100%|██████████| 468/468 [00:06<00:00, 68.26it/s]\n",
      "100%|██████████| 468/468 [00:06<00:00, 68.23it/s]\n",
      "100%|██████████| 78/78 [00:18<00:00,  4.28it/s]\n"
     ]
    },
    {
     "name": "stdout",
     "output_type": "stream",
     "text": [
      "bnn_classification validation accuracy: 0.9786658653846154\n"
     ]
    },
    {
     "name": "stderr",
     "output_type": "stream",
     "text": [
      "100%|██████████| 78/78 [00:01<00:00, 72.39it/s]\n"
     ]
    },
    {
     "name": "stdout",
     "output_type": "stream",
     "text": [
      "mlp_classification validation accuracy: 0.9834735576923077\n"
     ]
    },
    {
     "name": "stderr",
     "output_type": "stream",
     "text": [
      "100%|██████████| 78/78 [00:01<00:00, 70.83it/s]\n"
     ]
    },
    {
     "name": "stdout",
     "output_type": "stream",
     "text": [
      "mlp_dropout_classification validation accuracy: 0.9854767628205128\n",
      "BNN Test Error: 2.13%\n",
      "MLP Test Error: 1.65%\n",
      "MLP Dropout Test Error: 1.45%\n",
      "Epoch 26/600\n"
     ]
    },
    {
     "name": "stderr",
     "output_type": "stream",
     "text": [
      "100%|██████████| 468/468 [00:17<00:00, 26.97it/s]\n",
      "100%|██████████| 468/468 [00:06<00:00, 67.65it/s]\n",
      "100%|██████████| 468/468 [00:07<00:00, 66.64it/s]\n",
      "100%|██████████| 78/78 [00:17<00:00,  4.35it/s]\n"
     ]
    },
    {
     "name": "stdout",
     "output_type": "stream",
     "text": [
      "bnn_classification validation accuracy: 0.9794671474358975\n"
     ]
    },
    {
     "name": "stderr",
     "output_type": "stream",
     "text": [
      "100%|██████████| 78/78 [00:01<00:00, 70.79it/s]\n"
     ]
    },
    {
     "name": "stdout",
     "output_type": "stream",
     "text": [
      "mlp_classification validation accuracy: 0.9837740384615384\n"
     ]
    },
    {
     "name": "stderr",
     "output_type": "stream",
     "text": [
      "100%|██████████| 78/78 [00:01<00:00, 70.68it/s]\n"
     ]
    },
    {
     "name": "stdout",
     "output_type": "stream",
     "text": [
      "mlp_dropout_classification validation accuracy: 0.9864783653846154\n",
      "BNN Test Error: 2.05%\n",
      "MLP Test Error: 1.62%\n",
      "MLP Dropout Test Error: 1.35%\n",
      "Epoch 27/600\n"
     ]
    },
    {
     "name": "stderr",
     "output_type": "stream",
     "text": [
      "100%|██████████| 468/468 [00:17<00:00, 26.47it/s]\n",
      "100%|██████████| 468/468 [00:06<00:00, 67.48it/s]\n",
      "100%|██████████| 468/468 [00:07<00:00, 66.64it/s]\n",
      "100%|██████████| 78/78 [00:18<00:00,  4.27it/s]\n"
     ]
    },
    {
     "name": "stdout",
     "output_type": "stream",
     "text": [
      "bnn_classification validation accuracy: 0.9777644230769231\n"
     ]
    },
    {
     "name": "stderr",
     "output_type": "stream",
     "text": [
      "100%|██████████| 78/78 [00:01<00:00, 68.67it/s]\n"
     ]
    },
    {
     "name": "stdout",
     "output_type": "stream",
     "text": [
      "mlp_classification validation accuracy: 0.9834735576923077\n"
     ]
    },
    {
     "name": "stderr",
     "output_type": "stream",
     "text": [
      "100%|██████████| 78/78 [00:01<00:00, 72.08it/s]\n"
     ]
    },
    {
     "name": "stdout",
     "output_type": "stream",
     "text": [
      "mlp_dropout_classification validation accuracy: 0.9860777243589743\n",
      "BNN Test Error: 2.22%\n",
      "MLP Test Error: 1.65%\n",
      "MLP Dropout Test Error: 1.39%\n",
      "Epoch 28/600\n"
     ]
    },
    {
     "name": "stderr",
     "output_type": "stream",
     "text": [
      "100%|██████████| 468/468 [00:19<00:00, 24.00it/s]\n",
      "100%|██████████| 468/468 [00:06<00:00, 67.54it/s]\n",
      "100%|██████████| 468/468 [00:06<00:00, 67.69it/s]\n",
      "100%|██████████| 78/78 [00:18<00:00,  4.30it/s]\n"
     ]
    },
    {
     "name": "stdout",
     "output_type": "stream",
     "text": [
      "bnn_classification validation accuracy: 0.9814703525641025\n"
     ]
    },
    {
     "name": "stderr",
     "output_type": "stream",
     "text": [
      "100%|██████████| 78/78 [00:01<00:00, 70.72it/s]\n"
     ]
    },
    {
     "name": "stdout",
     "output_type": "stream",
     "text": [
      "mlp_classification validation accuracy: 0.983573717948718\n"
     ]
    },
    {
     "name": "stderr",
     "output_type": "stream",
     "text": [
      "100%|██████████| 78/78 [00:01<00:00, 72.85it/s]\n"
     ]
    },
    {
     "name": "stdout",
     "output_type": "stream",
     "text": [
      "mlp_dropout_classification validation accuracy: 0.9857772435897436\n",
      "BNN Test Error: 1.85%\n",
      "MLP Test Error: 1.64%\n",
      "MLP Dropout Test Error: 1.42%\n",
      "Epoch 29/600\n"
     ]
    },
    {
     "name": "stderr",
     "output_type": "stream",
     "text": [
      "100%|██████████| 468/468 [00:17<00:00, 26.72it/s]\n",
      "100%|██████████| 468/468 [00:07<00:00, 65.33it/s]\n",
      "100%|██████████| 468/468 [00:07<00:00, 64.65it/s]\n",
      "100%|██████████| 78/78 [00:17<00:00,  4.44it/s]\n"
     ]
    },
    {
     "name": "stdout",
     "output_type": "stream",
     "text": [
      "bnn_classification validation accuracy: 0.9813701923076923\n"
     ]
    },
    {
     "name": "stderr",
     "output_type": "stream",
     "text": [
      "100%|██████████| 78/78 [00:01<00:00, 71.17it/s]\n"
     ]
    },
    {
     "name": "stdout",
     "output_type": "stream",
     "text": [
      "mlp_classification validation accuracy: 0.9834735576923077\n"
     ]
    },
    {
     "name": "stderr",
     "output_type": "stream",
     "text": [
      "100%|██████████| 78/78 [00:01<00:00, 70.94it/s]\n"
     ]
    },
    {
     "name": "stdout",
     "output_type": "stream",
     "text": [
      "mlp_dropout_classification validation accuracy: 0.9841746794871795\n",
      "BNN Test Error: 1.86%\n",
      "MLP Test Error: 1.65%\n",
      "MLP Dropout Test Error: 1.58%\n",
      "Epoch 30/600\n"
     ]
    },
    {
     "name": "stderr",
     "output_type": "stream",
     "text": [
      "100%|██████████| 468/468 [00:17<00:00, 26.13it/s]\n",
      "100%|██████████| 468/468 [00:06<00:00, 67.59it/s]\n",
      "100%|██████████| 468/468 [00:06<00:00, 67.06it/s]\n",
      "100%|██████████| 78/78 [00:17<00:00,  4.47it/s]\n"
     ]
    },
    {
     "name": "stdout",
     "output_type": "stream",
     "text": [
      "bnn_classification validation accuracy: 0.9772636217948718\n"
     ]
    },
    {
     "name": "stderr",
     "output_type": "stream",
     "text": [
      "100%|██████████| 78/78 [00:01<00:00, 72.84it/s]\n"
     ]
    },
    {
     "name": "stdout",
     "output_type": "stream",
     "text": [
      "mlp_classification validation accuracy: 0.9836738782051282\n"
     ]
    },
    {
     "name": "stderr",
     "output_type": "stream",
     "text": [
      "100%|██████████| 78/78 [00:01<00:00, 72.48it/s]\n"
     ]
    },
    {
     "name": "stdout",
     "output_type": "stream",
     "text": [
      "mlp_dropout_classification validation accuracy: 0.984375\n",
      "BNN Test Error: 2.27%\n",
      "MLP Test Error: 1.63%\n",
      "MLP Dropout Test Error: 1.56%\n",
      "Epoch 31/600\n"
     ]
    },
    {
     "name": "stderr",
     "output_type": "stream",
     "text": [
      "100%|██████████| 468/468 [00:17<00:00, 26.91it/s]\n",
      "100%|██████████| 468/468 [00:07<00:00, 65.86it/s]\n",
      "100%|██████████| 468/468 [00:06<00:00, 67.31it/s]\n",
      "100%|██████████| 78/78 [00:17<00:00,  4.37it/s]\n"
     ]
    },
    {
     "name": "stdout",
     "output_type": "stream",
     "text": [
      "bnn_classification validation accuracy: 0.9768629807692307\n"
     ]
    },
    {
     "name": "stderr",
     "output_type": "stream",
     "text": [
      "100%|██████████| 78/78 [00:01<00:00, 71.70it/s]\n"
     ]
    },
    {
     "name": "stdout",
     "output_type": "stream",
     "text": [
      "mlp_classification validation accuracy: 0.9833733974358975\n"
     ]
    },
    {
     "name": "stderr",
     "output_type": "stream",
     "text": [
      "100%|██████████| 78/78 [00:01<00:00, 69.41it/s]\n"
     ]
    },
    {
     "name": "stdout",
     "output_type": "stream",
     "text": [
      "mlp_dropout_classification validation accuracy: 0.9853766025641025\n",
      "BNN Test Error: 2.31%\n",
      "MLP Test Error: 1.66%\n",
      "MLP Dropout Test Error: 1.46%\n",
      "Epoch 32/600\n"
     ]
    },
    {
     "name": "stderr",
     "output_type": "stream",
     "text": [
      "100%|██████████| 468/468 [00:19<00:00, 24.56it/s]\n",
      "100%|██████████| 468/468 [00:06<00:00, 67.57it/s]\n",
      "100%|██████████| 468/468 [00:07<00:00, 65.46it/s]\n",
      "100%|██████████| 78/78 [00:16<00:00,  4.59it/s]\n"
     ]
    },
    {
     "name": "stdout",
     "output_type": "stream",
     "text": [
      "bnn_classification validation accuracy: 0.9791666666666666\n"
     ]
    },
    {
     "name": "stderr",
     "output_type": "stream",
     "text": [
      "100%|██████████| 78/78 [00:01<00:00, 68.25it/s]\n"
     ]
    },
    {
     "name": "stdout",
     "output_type": "stream",
     "text": [
      "mlp_classification validation accuracy: 0.9834735576923077\n"
     ]
    },
    {
     "name": "stderr",
     "output_type": "stream",
     "text": [
      "100%|██████████| 78/78 [00:01<00:00, 70.85it/s]\n"
     ]
    },
    {
     "name": "stdout",
     "output_type": "stream",
     "text": [
      "mlp_dropout_classification validation accuracy: 0.9854767628205128\n",
      "BNN Test Error: 2.08%\n",
      "MLP Test Error: 1.65%\n",
      "MLP Dropout Test Error: 1.45%\n",
      "Epoch 33/600\n"
     ]
    },
    {
     "name": "stderr",
     "output_type": "stream",
     "text": [
      "100%|██████████| 468/468 [00:17<00:00, 26.96it/s]\n",
      "100%|██████████| 468/468 [00:06<00:00, 67.99it/s]\n",
      "100%|██████████| 468/468 [00:07<00:00, 66.79it/s]\n",
      "100%|██████████| 78/78 [00:18<00:00,  4.29it/s]\n"
     ]
    },
    {
     "name": "stdout",
     "output_type": "stream",
     "text": [
      "bnn_classification validation accuracy: 0.9809695512820513\n"
     ]
    },
    {
     "name": "stderr",
     "output_type": "stream",
     "text": [
      "100%|██████████| 78/78 [00:01<00:00, 69.92it/s]\n"
     ]
    },
    {
     "name": "stdout",
     "output_type": "stream",
     "text": [
      "mlp_classification validation accuracy: 0.9836738782051282\n"
     ]
    },
    {
     "name": "stderr",
     "output_type": "stream",
     "text": [
      "100%|██████████| 78/78 [00:01<00:00, 71.94it/s]\n"
     ]
    },
    {
     "name": "stdout",
     "output_type": "stream",
     "text": [
      "mlp_dropout_classification validation accuracy: 0.9855769230769231\n",
      "BNN Test Error: 1.90%\n",
      "MLP Test Error: 1.63%\n",
      "MLP Dropout Test Error: 1.44%\n",
      "Epoch 34/600\n"
     ]
    },
    {
     "name": "stderr",
     "output_type": "stream",
     "text": [
      "100%|██████████| 468/468 [00:17<00:00, 26.72it/s]\n",
      "100%|██████████| 468/468 [00:06<00:00, 68.10it/s]\n",
      "100%|██████████| 468/468 [00:06<00:00, 67.01it/s]\n",
      "100%|██████████| 78/78 [00:17<00:00,  4.35it/s]\n"
     ]
    },
    {
     "name": "stdout",
     "output_type": "stream",
     "text": [
      "bnn_classification validation accuracy: 0.9801682692307693\n"
     ]
    },
    {
     "name": "stderr",
     "output_type": "stream",
     "text": [
      "100%|██████████| 78/78 [00:01<00:00, 72.72it/s]\n"
     ]
    },
    {
     "name": "stdout",
     "output_type": "stream",
     "text": [
      "mlp_classification validation accuracy: 0.9833733974358975\n"
     ]
    },
    {
     "name": "stderr",
     "output_type": "stream",
     "text": [
      "100%|██████████| 78/78 [00:01<00:00, 72.99it/s]\n"
     ]
    },
    {
     "name": "stdout",
     "output_type": "stream",
     "text": [
      "mlp_dropout_classification validation accuracy: 0.984375\n",
      "BNN Test Error: 1.98%\n",
      "MLP Test Error: 1.66%\n",
      "MLP Dropout Test Error: 1.56%\n",
      "Epoch 35/600\n"
     ]
    },
    {
     "name": "stderr",
     "output_type": "stream",
     "text": [
      "100%|██████████| 468/468 [00:17<00:00, 27.27it/s]\n",
      "100%|██████████| 468/468 [00:06<00:00, 67.96it/s]\n",
      "100%|██████████| 468/468 [00:06<00:00, 67.38it/s]\n",
      "100%|██████████| 78/78 [00:17<00:00,  4.34it/s]\n"
     ]
    },
    {
     "name": "stdout",
     "output_type": "stream",
     "text": [
      "bnn_classification validation accuracy: 0.9817708333333334\n"
     ]
    },
    {
     "name": "stderr",
     "output_type": "stream",
     "text": [
      "100%|██████████| 78/78 [00:01<00:00, 71.17it/s]\n"
     ]
    },
    {
     "name": "stdout",
     "output_type": "stream",
     "text": [
      "mlp_classification validation accuracy: 0.9834735576923077\n"
     ]
    },
    {
     "name": "stderr",
     "output_type": "stream",
     "text": [
      "100%|██████████| 78/78 [00:01<00:00, 71.04it/s]\n"
     ]
    },
    {
     "name": "stdout",
     "output_type": "stream",
     "text": [
      "mlp_dropout_classification validation accuracy: 0.9862780448717948\n",
      "BNN Test Error: 1.82%\n",
      "MLP Test Error: 1.65%\n",
      "MLP Dropout Test Error: 1.37%\n",
      "Epoch 36/600\n"
     ]
    },
    {
     "name": "stderr",
     "output_type": "stream",
     "text": [
      "100%|██████████| 468/468 [00:17<00:00, 26.54it/s]\n",
      "100%|██████████| 468/468 [00:07<00:00, 66.72it/s]\n",
      "100%|██████████| 468/468 [00:07<00:00, 66.59it/s]\n",
      "100%|██████████| 78/78 [00:18<00:00,  4.31it/s]\n"
     ]
    },
    {
     "name": "stdout",
     "output_type": "stream",
     "text": [
      "bnn_classification validation accuracy: 0.9809695512820513\n"
     ]
    },
    {
     "name": "stderr",
     "output_type": "stream",
     "text": [
      "100%|██████████| 78/78 [00:01<00:00, 71.48it/s]\n"
     ]
    },
    {
     "name": "stdout",
     "output_type": "stream",
     "text": [
      "mlp_classification validation accuracy: 0.9836738782051282\n"
     ]
    },
    {
     "name": "stderr",
     "output_type": "stream",
     "text": [
      "100%|██████████| 78/78 [00:01<00:00, 70.79it/s]\n"
     ]
    },
    {
     "name": "stdout",
     "output_type": "stream",
     "text": [
      "mlp_dropout_classification validation accuracy: 0.9863782051282052\n",
      "BNN Test Error: 1.90%\n",
      "MLP Test Error: 1.63%\n",
      "MLP Dropout Test Error: 1.36%\n",
      "Epoch 37/600\n"
     ]
    },
    {
     "name": "stderr",
     "output_type": "stream",
     "text": [
      "100%|██████████| 468/468 [00:17<00:00, 26.98it/s]\n",
      "100%|██████████| 468/468 [00:06<00:00, 68.59it/s]\n",
      "100%|██████████| 468/468 [00:07<00:00, 66.43it/s]\n",
      "100%|██████████| 78/78 [00:17<00:00,  4.43it/s]\n"
     ]
    },
    {
     "name": "stdout",
     "output_type": "stream",
     "text": [
      "bnn_classification validation accuracy: 0.9802684294871795\n"
     ]
    },
    {
     "name": "stderr",
     "output_type": "stream",
     "text": [
      "100%|██████████| 78/78 [00:01<00:00, 68.82it/s]\n"
     ]
    },
    {
     "name": "stdout",
     "output_type": "stream",
     "text": [
      "mlp_classification validation accuracy: 0.9833733974358975\n"
     ]
    },
    {
     "name": "stderr",
     "output_type": "stream",
     "text": [
      "100%|██████████| 78/78 [00:01<00:00, 71.76it/s]\n"
     ]
    },
    {
     "name": "stdout",
     "output_type": "stream",
     "text": [
      "mlp_dropout_classification validation accuracy: 0.9859775641025641\n",
      "BNN Test Error: 1.97%\n",
      "MLP Test Error: 1.66%\n",
      "MLP Dropout Test Error: 1.40%\n",
      "Epoch 38/600\n"
     ]
    },
    {
     "name": "stderr",
     "output_type": "stream",
     "text": [
      "100%|██████████| 468/468 [00:17<00:00, 27.30it/s]\n",
      "100%|██████████| 468/468 [00:06<00:00, 67.57it/s]\n",
      "100%|██████████| 468/468 [00:06<00:00, 67.65it/s]\n",
      "100%|██████████| 78/78 [00:18<00:00,  4.21it/s]\n"
     ]
    },
    {
     "name": "stdout",
     "output_type": "stream",
     "text": [
      "bnn_classification validation accuracy: 0.9779647435897436\n"
     ]
    },
    {
     "name": "stderr",
     "output_type": "stream",
     "text": [
      "100%|██████████| 78/78 [00:01<00:00, 71.81it/s]\n"
     ]
    },
    {
     "name": "stdout",
     "output_type": "stream",
     "text": [
      "mlp_classification validation accuracy: 0.9836738782051282\n"
     ]
    },
    {
     "name": "stderr",
     "output_type": "stream",
     "text": [
      "100%|██████████| 78/78 [00:01<00:00, 70.16it/s]\n"
     ]
    },
    {
     "name": "stdout",
     "output_type": "stream",
     "text": [
      "mlp_dropout_classification validation accuracy: 0.9865785256410257\n",
      "BNN Test Error: 2.20%\n",
      "MLP Test Error: 1.63%\n",
      "MLP Dropout Test Error: 1.34%\n",
      "Epoch 39/600\n"
     ]
    },
    {
     "name": "stderr",
     "output_type": "stream",
     "text": [
      "100%|██████████| 468/468 [00:17<00:00, 27.11it/s]\n",
      "100%|██████████| 468/468 [00:06<00:00, 67.16it/s]\n",
      "100%|██████████| 468/468 [00:07<00:00, 66.10it/s]\n",
      "100%|██████████| 78/78 [00:17<00:00,  4.43it/s]\n"
     ]
    },
    {
     "name": "stdout",
     "output_type": "stream",
     "text": [
      "bnn_classification validation accuracy: 0.98046875\n"
     ]
    },
    {
     "name": "stderr",
     "output_type": "stream",
     "text": [
      "100%|██████████| 78/78 [00:01<00:00, 70.18it/s]\n"
     ]
    },
    {
     "name": "stdout",
     "output_type": "stream",
     "text": [
      "mlp_classification validation accuracy: 0.9836738782051282\n"
     ]
    },
    {
     "name": "stderr",
     "output_type": "stream",
     "text": [
      "100%|██████████| 78/78 [00:01<00:00, 66.19it/s]\n"
     ]
    },
    {
     "name": "stdout",
     "output_type": "stream",
     "text": [
      "mlp_dropout_classification validation accuracy: 0.9855769230769231\n",
      "BNN Test Error: 1.95%\n",
      "MLP Test Error: 1.63%\n",
      "MLP Dropout Test Error: 1.44%\n",
      "Epoch 40/600\n"
     ]
    },
    {
     "name": "stderr",
     "output_type": "stream",
     "text": [
      "100%|██████████| 468/468 [00:19<00:00, 24.44it/s]\n",
      "100%|██████████| 468/468 [00:06<00:00, 68.26it/s]\n",
      "100%|██████████| 468/468 [00:07<00:00, 66.33it/s]\n",
      "100%|██████████| 78/78 [00:17<00:00,  4.45it/s]\n"
     ]
    },
    {
     "name": "stdout",
     "output_type": "stream",
     "text": [
      "bnn_classification validation accuracy: 0.9784655448717948\n"
     ]
    },
    {
     "name": "stderr",
     "output_type": "stream",
     "text": [
      "100%|██████████| 78/78 [00:01<00:00, 71.83it/s]\n"
     ]
    },
    {
     "name": "stdout",
     "output_type": "stream",
     "text": [
      "mlp_classification validation accuracy: 0.9833733974358975\n"
     ]
    },
    {
     "name": "stderr",
     "output_type": "stream",
     "text": [
      "100%|██████████| 78/78 [00:01<00:00, 73.09it/s]\n"
     ]
    },
    {
     "name": "stdout",
     "output_type": "stream",
     "text": [
      "mlp_dropout_classification validation accuracy: 0.9862780448717948\n",
      "BNN Test Error: 2.15%\n",
      "MLP Test Error: 1.66%\n",
      "MLP Dropout Test Error: 1.37%\n",
      "Epoch 41/600\n"
     ]
    },
    {
     "name": "stderr",
     "output_type": "stream",
     "text": [
      "100%|██████████| 468/468 [00:19<00:00, 24.08it/s]\n",
      "100%|██████████| 468/468 [00:06<00:00, 68.45it/s]\n",
      "100%|██████████| 468/468 [00:06<00:00, 67.40it/s]\n",
      "100%|██████████| 78/78 [00:18<00:00,  4.17it/s]\n"
     ]
    },
    {
     "name": "stdout",
     "output_type": "stream",
     "text": [
      "bnn_classification validation accuracy: 0.9815705128205128\n"
     ]
    },
    {
     "name": "stderr",
     "output_type": "stream",
     "text": [
      "100%|██████████| 78/78 [00:01<00:00, 71.56it/s]\n"
     ]
    },
    {
     "name": "stdout",
     "output_type": "stream",
     "text": [
      "mlp_classification validation accuracy: 0.9833733974358975\n"
     ]
    },
    {
     "name": "stderr",
     "output_type": "stream",
     "text": [
      "100%|██████████| 78/78 [00:01<00:00, 71.44it/s]\n"
     ]
    },
    {
     "name": "stdout",
     "output_type": "stream",
     "text": [
      "mlp_dropout_classification validation accuracy: 0.9875801282051282\n",
      "BNN Test Error: 1.84%\n",
      "MLP Test Error: 1.66%\n",
      "MLP Dropout Test Error: 1.24%\n",
      "Epoch 42/600\n"
     ]
    },
    {
     "name": "stderr",
     "output_type": "stream",
     "text": [
      "100%|██████████| 468/468 [00:17<00:00, 27.07it/s]\n",
      "100%|██████████| 468/468 [00:06<00:00, 66.97it/s]\n",
      "100%|██████████| 468/468 [00:06<00:00, 67.34it/s]\n",
      "100%|██████████| 78/78 [00:17<00:00,  4.37it/s]\n"
     ]
    },
    {
     "name": "stdout",
     "output_type": "stream",
     "text": [
      "bnn_classification validation accuracy: 0.9781650641025641\n"
     ]
    },
    {
     "name": "stderr",
     "output_type": "stream",
     "text": [
      "100%|██████████| 78/78 [00:01<00:00, 68.66it/s]\n"
     ]
    },
    {
     "name": "stdout",
     "output_type": "stream",
     "text": [
      "mlp_classification validation accuracy: 0.9832732371794872\n"
     ]
    },
    {
     "name": "stderr",
     "output_type": "stream",
     "text": [
      "100%|██████████| 78/78 [00:01<00:00, 64.34it/s]\n"
     ]
    },
    {
     "name": "stdout",
     "output_type": "stream",
     "text": [
      "mlp_dropout_classification validation accuracy: 0.9866786858974359\n",
      "BNN Test Error: 2.18%\n",
      "MLP Test Error: 1.67%\n",
      "MLP Dropout Test Error: 1.33%\n",
      "Epoch 43/600\n"
     ]
    },
    {
     "name": "stderr",
     "output_type": "stream",
     "text": [
      "100%|██████████| 468/468 [00:17<00:00, 27.12it/s]\n",
      "100%|██████████| 468/468 [00:06<00:00, 67.29it/s]\n",
      "100%|██████████| 468/468 [00:07<00:00, 66.33it/s]\n",
      "100%|██████████| 78/78 [00:16<00:00,  4.74it/s]\n"
     ]
    },
    {
     "name": "stdout",
     "output_type": "stream",
     "text": [
      "bnn_classification validation accuracy: 0.9818709935897436\n"
     ]
    },
    {
     "name": "stderr",
     "output_type": "stream",
     "text": [
      "100%|██████████| 78/78 [00:01<00:00, 72.85it/s]\n"
     ]
    },
    {
     "name": "stdout",
     "output_type": "stream",
     "text": [
      "mlp_classification validation accuracy: 0.9834735576923077\n"
     ]
    },
    {
     "name": "stderr",
     "output_type": "stream",
     "text": [
      "100%|██████████| 78/78 [00:01<00:00, 70.69it/s]\n"
     ]
    },
    {
     "name": "stdout",
     "output_type": "stream",
     "text": [
      "mlp_dropout_classification validation accuracy: 0.9850761217948718\n",
      "BNN Test Error: 1.81%\n",
      "MLP Test Error: 1.65%\n",
      "MLP Dropout Test Error: 1.49%\n",
      "Epoch 44/600\n"
     ]
    },
    {
     "name": "stderr",
     "output_type": "stream",
     "text": [
      "100%|██████████| 468/468 [00:19<00:00, 23.44it/s]\n",
      "100%|██████████| 468/468 [00:06<00:00, 68.41it/s]\n",
      "100%|██████████| 468/468 [00:07<00:00, 66.81it/s]\n",
      "100%|██████████| 78/78 [00:18<00:00,  4.21it/s]\n"
     ]
    },
    {
     "name": "stdout",
     "output_type": "stream",
     "text": [
      "bnn_classification validation accuracy: 0.9818709935897436\n"
     ]
    },
    {
     "name": "stderr",
     "output_type": "stream",
     "text": [
      "100%|██████████| 78/78 [00:01<00:00, 71.72it/s]\n"
     ]
    },
    {
     "name": "stdout",
     "output_type": "stream",
     "text": [
      "mlp_classification validation accuracy: 0.9836738782051282\n"
     ]
    },
    {
     "name": "stderr",
     "output_type": "stream",
     "text": [
      "100%|██████████| 78/78 [00:01<00:00, 72.56it/s]\n"
     ]
    },
    {
     "name": "stdout",
     "output_type": "stream",
     "text": [
      "mlp_dropout_classification validation accuracy: 0.9860777243589743\n",
      "BNN Test Error: 1.81%\n",
      "MLP Test Error: 1.63%\n",
      "MLP Dropout Test Error: 1.39%\n",
      "Epoch 45/600\n"
     ]
    },
    {
     "name": "stderr",
     "output_type": "stream",
     "text": [
      "100%|██████████| 468/468 [00:17<00:00, 26.76it/s]\n",
      "100%|██████████| 468/468 [00:06<00:00, 67.59it/s]\n",
      "100%|██████████| 468/468 [00:06<00:00, 68.19it/s]\n",
      "100%|██████████| 78/78 [00:17<00:00,  4.37it/s]\n"
     ]
    },
    {
     "name": "stdout",
     "output_type": "stream",
     "text": [
      "bnn_classification validation accuracy: 0.9819711538461539\n"
     ]
    },
    {
     "name": "stderr",
     "output_type": "stream",
     "text": [
      "100%|██████████| 78/78 [00:01<00:00, 70.60it/s]\n"
     ]
    },
    {
     "name": "stdout",
     "output_type": "stream",
     "text": [
      "mlp_classification validation accuracy: 0.9833733974358975\n"
     ]
    },
    {
     "name": "stderr",
     "output_type": "stream",
     "text": [
      "100%|██████████| 78/78 [00:01<00:00, 72.10it/s]\n"
     ]
    },
    {
     "name": "stdout",
     "output_type": "stream",
     "text": [
      "mlp_dropout_classification validation accuracy: 0.9863782051282052\n",
      "BNN Test Error: 1.80%\n",
      "MLP Test Error: 1.66%\n",
      "MLP Dropout Test Error: 1.36%\n",
      "Epoch 46/600\n"
     ]
    },
    {
     "name": "stderr",
     "output_type": "stream",
     "text": [
      "100%|██████████| 468/468 [00:17<00:00, 26.62it/s]\n",
      "100%|██████████| 468/468 [00:06<00:00, 68.30it/s]\n",
      "100%|██████████| 468/468 [00:07<00:00, 66.58it/s]\n",
      "100%|██████████| 78/78 [00:18<00:00,  4.25it/s]\n"
     ]
    },
    {
     "name": "stdout",
     "output_type": "stream",
     "text": [
      "bnn_classification validation accuracy: 0.9785657051282052\n"
     ]
    },
    {
     "name": "stderr",
     "output_type": "stream",
     "text": [
      "100%|██████████| 78/78 [00:01<00:00, 72.38it/s]\n"
     ]
    },
    {
     "name": "stdout",
     "output_type": "stream",
     "text": [
      "mlp_classification validation accuracy: 0.9832732371794872\n"
     ]
    },
    {
     "name": "stderr",
     "output_type": "stream",
     "text": [
      "100%|██████████| 78/78 [00:01<00:00, 72.96it/s]\n"
     ]
    },
    {
     "name": "stdout",
     "output_type": "stream",
     "text": [
      "mlp_dropout_classification validation accuracy: 0.9860777243589743\n",
      "BNN Test Error: 2.14%\n",
      "MLP Test Error: 1.67%\n",
      "MLP Dropout Test Error: 1.39%\n",
      "Epoch 47/600\n"
     ]
    },
    {
     "name": "stderr",
     "output_type": "stream",
     "text": [
      "100%|██████████| 468/468 [00:17<00:00, 26.56it/s]\n",
      "100%|██████████| 468/468 [00:06<00:00, 67.07it/s]\n",
      "100%|██████████| 468/468 [00:06<00:00, 67.22it/s]\n",
      "100%|██████████| 78/78 [00:18<00:00,  4.29it/s]\n"
     ]
    },
    {
     "name": "stdout",
     "output_type": "stream",
     "text": [
      "bnn_classification validation accuracy: 0.9821714743589743\n"
     ]
    },
    {
     "name": "stderr",
     "output_type": "stream",
     "text": [
      "100%|██████████| 78/78 [00:01<00:00, 69.58it/s]\n"
     ]
    },
    {
     "name": "stdout",
     "output_type": "stream",
     "text": [
      "mlp_classification validation accuracy: 0.9834735576923077\n"
     ]
    },
    {
     "name": "stderr",
     "output_type": "stream",
     "text": [
      "100%|██████████| 78/78 [00:01<00:00, 69.56it/s]\n"
     ]
    },
    {
     "name": "stdout",
     "output_type": "stream",
     "text": [
      "mlp_dropout_classification validation accuracy: 0.9856770833333334\n",
      "BNN Test Error: 1.78%\n",
      "MLP Test Error: 1.65%\n",
      "MLP Dropout Test Error: 1.43%\n",
      "Epoch 48/600\n"
     ]
    },
    {
     "name": "stderr",
     "output_type": "stream",
     "text": [
      "100%|██████████| 468/468 [00:17<00:00, 26.99it/s]\n",
      "100%|██████████| 468/468 [00:07<00:00, 66.20it/s]\n",
      "100%|██████████| 468/468 [00:07<00:00, 65.57it/s]\n",
      "100%|██████████| 78/78 [00:17<00:00,  4.48it/s]\n"
     ]
    },
    {
     "name": "stdout",
     "output_type": "stream",
     "text": [
      "bnn_classification validation accuracy: 0.9798677884615384\n"
     ]
    },
    {
     "name": "stderr",
     "output_type": "stream",
     "text": [
      "100%|██████████| 78/78 [00:01<00:00, 68.37it/s]\n"
     ]
    },
    {
     "name": "stdout",
     "output_type": "stream",
     "text": [
      "mlp_classification validation accuracy: 0.9837740384615384\n"
     ]
    },
    {
     "name": "stderr",
     "output_type": "stream",
     "text": [
      "100%|██████████| 78/78 [00:01<00:00, 70.40it/s]\n"
     ]
    },
    {
     "name": "stdout",
     "output_type": "stream",
     "text": [
      "mlp_dropout_classification validation accuracy: 0.9855769230769231\n",
      "BNN Test Error: 2.01%\n",
      "MLP Test Error: 1.62%\n",
      "MLP Dropout Test Error: 1.44%\n",
      "Epoch 49/600\n"
     ]
    },
    {
     "name": "stderr",
     "output_type": "stream",
     "text": [
      "100%|██████████| 468/468 [00:19<00:00, 23.77it/s]\n",
      "100%|██████████| 468/468 [00:07<00:00, 66.30it/s]\n",
      "100%|██████████| 468/468 [00:07<00:00, 66.17it/s]\n",
      "100%|██████████| 78/78 [00:18<00:00,  4.20it/s]\n"
     ]
    },
    {
     "name": "stdout",
     "output_type": "stream",
     "text": [
      "bnn_classification validation accuracy: 0.9801682692307693\n"
     ]
    },
    {
     "name": "stderr",
     "output_type": "stream",
     "text": [
      "100%|██████████| 78/78 [00:01<00:00, 68.34it/s]\n"
     ]
    },
    {
     "name": "stdout",
     "output_type": "stream",
     "text": [
      "mlp_classification validation accuracy: 0.9837740384615384\n"
     ]
    },
    {
     "name": "stderr",
     "output_type": "stream",
     "text": [
      "100%|██████████| 78/78 [00:01<00:00, 71.50it/s]\n"
     ]
    },
    {
     "name": "stdout",
     "output_type": "stream",
     "text": [
      "mlp_dropout_classification validation accuracy: 0.9856770833333334\n",
      "BNN Test Error: 1.98%\n",
      "MLP Test Error: 1.62%\n",
      "MLP Dropout Test Error: 1.43%\n",
      "Epoch 50/600\n"
     ]
    },
    {
     "name": "stderr",
     "output_type": "stream",
     "text": [
      "100%|██████████| 468/468 [00:19<00:00, 24.53it/s]\n",
      "100%|██████████| 468/468 [00:07<00:00, 66.36it/s]\n",
      "100%|██████████| 468/468 [00:06<00:00, 66.90it/s]\n",
      "100%|██████████| 78/78 [00:18<00:00,  4.31it/s]\n"
     ]
    },
    {
     "name": "stdout",
     "output_type": "stream",
     "text": [
      "bnn_classification validation accuracy: 0.9827724358974359\n"
     ]
    },
    {
     "name": "stderr",
     "output_type": "stream",
     "text": [
      "100%|██████████| 78/78 [00:01<00:00, 70.71it/s]\n"
     ]
    },
    {
     "name": "stdout",
     "output_type": "stream",
     "text": [
      "mlp_classification validation accuracy: 0.9834735576923077\n"
     ]
    },
    {
     "name": "stderr",
     "output_type": "stream",
     "text": [
      "100%|██████████| 78/78 [00:01<00:00, 70.80it/s]\n"
     ]
    },
    {
     "name": "stdout",
     "output_type": "stream",
     "text": [
      "mlp_dropout_classification validation accuracy: 0.9853766025641025\n",
      "BNN Test Error: 1.72%\n",
      "MLP Test Error: 1.65%\n",
      "MLP Dropout Test Error: 1.46%\n",
      "Epoch 51/600\n"
     ]
    },
    {
     "name": "stderr",
     "output_type": "stream",
     "text": [
      "100%|██████████| 468/468 [00:19<00:00, 24.05it/s]\n",
      "100%|██████████| 468/468 [00:07<00:00, 66.09it/s]\n",
      "100%|██████████| 468/468 [00:07<00:00, 66.20it/s]\n",
      "100%|██████████| 78/78 [00:18<00:00,  4.17it/s]\n"
     ]
    },
    {
     "name": "stdout",
     "output_type": "stream",
     "text": [
      "bnn_classification validation accuracy: 0.9787660256410257\n"
     ]
    },
    {
     "name": "stderr",
     "output_type": "stream",
     "text": [
      "100%|██████████| 78/78 [00:01<00:00, 69.69it/s]\n"
     ]
    },
    {
     "name": "stdout",
     "output_type": "stream",
     "text": [
      "mlp_classification validation accuracy: 0.9832732371794872\n"
     ]
    },
    {
     "name": "stderr",
     "output_type": "stream",
     "text": [
      "100%|██████████| 78/78 [00:01<00:00, 70.85it/s]\n"
     ]
    },
    {
     "name": "stdout",
     "output_type": "stream",
     "text": [
      "mlp_dropout_classification validation accuracy: 0.9860777243589743\n",
      "BNN Test Error: 2.12%\n",
      "MLP Test Error: 1.67%\n",
      "MLP Dropout Test Error: 1.39%\n",
      "Epoch 52/600\n"
     ]
    },
    {
     "name": "stderr",
     "output_type": "stream",
     "text": [
      "100%|██████████| 468/468 [00:19<00:00, 23.98it/s]\n",
      "100%|██████████| 468/468 [00:06<00:00, 67.02it/s]\n",
      "100%|██████████| 468/468 [00:07<00:00, 66.28it/s]\n",
      "100%|██████████| 78/78 [00:17<00:00,  4.39it/s]\n"
     ]
    },
    {
     "name": "stdout",
     "output_type": "stream",
     "text": [
      "bnn_classification validation accuracy: 0.9801682692307693\n"
     ]
    },
    {
     "name": "stderr",
     "output_type": "stream",
     "text": [
      "100%|██████████| 78/78 [00:01<00:00, 71.52it/s]\n"
     ]
    },
    {
     "name": "stdout",
     "output_type": "stream",
     "text": [
      "mlp_classification validation accuracy: 0.9834735576923077\n"
     ]
    },
    {
     "name": "stderr",
     "output_type": "stream",
     "text": [
      "100%|██████████| 78/78 [00:01<00:00, 72.11it/s]\n"
     ]
    },
    {
     "name": "stdout",
     "output_type": "stream",
     "text": [
      "mlp_dropout_classification validation accuracy: 0.9865785256410257\n",
      "BNN Test Error: 1.98%\n",
      "MLP Test Error: 1.65%\n",
      "MLP Dropout Test Error: 1.34%\n",
      "Epoch 53/600\n"
     ]
    },
    {
     "name": "stderr",
     "output_type": "stream",
     "text": [
      "100%|██████████| 468/468 [00:17<00:00, 26.52it/s]\n",
      "100%|██████████| 468/468 [00:06<00:00, 67.54it/s]\n",
      "100%|██████████| 468/468 [00:06<00:00, 67.26it/s]\n",
      "100%|██████████| 78/78 [00:18<00:00,  4.20it/s]\n"
     ]
    },
    {
     "name": "stdout",
     "output_type": "stream",
     "text": [
      "bnn_classification validation accuracy: 0.9797676282051282\n"
     ]
    },
    {
     "name": "stderr",
     "output_type": "stream",
     "text": [
      "100%|██████████| 78/78 [00:01<00:00, 72.38it/s]\n"
     ]
    },
    {
     "name": "stdout",
     "output_type": "stream",
     "text": [
      "mlp_classification validation accuracy: 0.9834735576923077\n"
     ]
    },
    {
     "name": "stderr",
     "output_type": "stream",
     "text": [
      "100%|██████████| 78/78 [00:01<00:00, 71.49it/s]\n"
     ]
    },
    {
     "name": "stdout",
     "output_type": "stream",
     "text": [
      "mlp_dropout_classification validation accuracy: 0.9866786858974359\n",
      "BNN Test Error: 2.02%\n",
      "MLP Test Error: 1.65%\n",
      "MLP Dropout Test Error: 1.33%\n",
      "Epoch 54/600\n"
     ]
    },
    {
     "name": "stderr",
     "output_type": "stream",
     "text": [
      "100%|██████████| 468/468 [00:17<00:00, 26.74it/s]\n",
      "100%|██████████| 468/468 [00:07<00:00, 66.44it/s]\n",
      "100%|██████████| 468/468 [00:06<00:00, 67.43it/s]\n",
      "100%|██████████| 78/78 [00:17<00:00,  4.40it/s]\n"
     ]
    },
    {
     "name": "stdout",
     "output_type": "stream",
     "text": [
      "bnn_classification validation accuracy: 0.9808693910256411\n"
     ]
    },
    {
     "name": "stderr",
     "output_type": "stream",
     "text": [
      "100%|██████████| 78/78 [00:01<00:00, 69.85it/s]\n"
     ]
    },
    {
     "name": "stdout",
     "output_type": "stream",
     "text": [
      "mlp_classification validation accuracy: 0.9836738782051282\n"
     ]
    },
    {
     "name": "stderr",
     "output_type": "stream",
     "text": [
      "100%|██████████| 78/78 [00:01<00:00, 71.66it/s]\n"
     ]
    },
    {
     "name": "stdout",
     "output_type": "stream",
     "text": [
      "mlp_dropout_classification validation accuracy: 0.9857772435897436\n",
      "BNN Test Error: 1.91%\n",
      "MLP Test Error: 1.63%\n",
      "MLP Dropout Test Error: 1.42%\n",
      "Epoch 55/600\n"
     ]
    },
    {
     "name": "stderr",
     "output_type": "stream",
     "text": [
      "100%|██████████| 468/468 [00:17<00:00, 26.60it/s]\n",
      "100%|██████████| 468/468 [00:07<00:00, 66.63it/s]\n",
      "100%|██████████| 468/468 [00:07<00:00, 66.76it/s]\n",
      "100%|██████████| 78/78 [00:18<00:00,  4.22it/s]\n"
     ]
    },
    {
     "name": "stdout",
     "output_type": "stream",
     "text": [
      "bnn_classification validation accuracy: 0.981270032051282\n"
     ]
    },
    {
     "name": "stderr",
     "output_type": "stream",
     "text": [
      "100%|██████████| 78/78 [00:01<00:00, 71.83it/s]\n"
     ]
    },
    {
     "name": "stdout",
     "output_type": "stream",
     "text": [
      "mlp_classification validation accuracy: 0.9834735576923077\n"
     ]
    },
    {
     "name": "stderr",
     "output_type": "stream",
     "text": [
      "100%|██████████| 78/78 [00:01<00:00, 70.91it/s]\n"
     ]
    },
    {
     "name": "stdout",
     "output_type": "stream",
     "text": [
      "mlp_dropout_classification validation accuracy: 0.9860777243589743\n",
      "BNN Test Error: 1.87%\n",
      "MLP Test Error: 1.65%\n",
      "MLP Dropout Test Error: 1.39%\n",
      "Epoch 56/600\n"
     ]
    },
    {
     "name": "stderr",
     "output_type": "stream",
     "text": [
      "100%|██████████| 468/468 [00:18<00:00, 24.92it/s]\n",
      "100%|██████████| 468/468 [00:06<00:00, 67.41it/s]\n",
      "100%|██████████| 468/468 [00:07<00:00, 66.48it/s]\n",
      "100%|██████████| 78/78 [00:18<00:00,  4.23it/s]\n"
     ]
    },
    {
     "name": "stdout",
     "output_type": "stream",
     "text": [
      "bnn_classification validation accuracy: 0.9792668269230769\n"
     ]
    },
    {
     "name": "stderr",
     "output_type": "stream",
     "text": [
      "100%|██████████| 78/78 [00:01<00:00, 71.00it/s]\n"
     ]
    },
    {
     "name": "stdout",
     "output_type": "stream",
     "text": [
      "mlp_classification validation accuracy: 0.9831730769230769\n"
     ]
    },
    {
     "name": "stderr",
     "output_type": "stream",
     "text": [
      "100%|██████████| 78/78 [00:01<00:00, 71.07it/s]\n"
     ]
    },
    {
     "name": "stdout",
     "output_type": "stream",
     "text": [
      "mlp_dropout_classification validation accuracy: 0.9859775641025641\n",
      "BNN Test Error: 2.07%\n",
      "MLP Test Error: 1.68%\n",
      "MLP Dropout Test Error: 1.40%\n",
      "Epoch 57/600\n"
     ]
    },
    {
     "name": "stderr",
     "output_type": "stream",
     "text": [
      "100%|██████████| 468/468 [00:19<00:00, 24.26it/s]\n",
      "100%|██████████| 468/468 [00:07<00:00, 66.86it/s]\n",
      "100%|██████████| 468/468 [00:07<00:00, 66.27it/s]\n",
      "100%|██████████| 78/78 [00:18<00:00,  4.32it/s]\n"
     ]
    },
    {
     "name": "stdout",
     "output_type": "stream",
     "text": [
      "bnn_classification validation accuracy: 0.9793669871794872\n"
     ]
    },
    {
     "name": "stderr",
     "output_type": "stream",
     "text": [
      "100%|██████████| 78/78 [00:01<00:00, 71.75it/s]\n"
     ]
    },
    {
     "name": "stdout",
     "output_type": "stream",
     "text": [
      "mlp_classification validation accuracy: 0.9833733974358975\n"
     ]
    },
    {
     "name": "stderr",
     "output_type": "stream",
     "text": [
      "100%|██████████| 78/78 [00:01<00:00, 69.08it/s]\n"
     ]
    },
    {
     "name": "stdout",
     "output_type": "stream",
     "text": [
      "mlp_dropout_classification validation accuracy: 0.9857772435897436\n",
      "BNN Test Error: 2.06%\n",
      "MLP Test Error: 1.66%\n",
      "MLP Dropout Test Error: 1.42%\n",
      "Epoch 58/600\n"
     ]
    },
    {
     "name": "stderr",
     "output_type": "stream",
     "text": [
      "100%|██████████| 468/468 [00:17<00:00, 26.39it/s]\n",
      "100%|██████████| 468/468 [00:07<00:00, 66.77it/s]\n",
      "100%|██████████| 468/468 [00:06<00:00, 67.06it/s]\n",
      "100%|██████████| 78/78 [00:17<00:00,  4.36it/s]\n"
     ]
    },
    {
     "name": "stdout",
     "output_type": "stream",
     "text": [
      "bnn_classification validation accuracy: 0.9784655448717948\n"
     ]
    },
    {
     "name": "stderr",
     "output_type": "stream",
     "text": [
      "100%|██████████| 78/78 [00:01<00:00, 70.78it/s]\n"
     ]
    },
    {
     "name": "stdout",
     "output_type": "stream",
     "text": [
      "mlp_classification validation accuracy: 0.9833733974358975\n"
     ]
    },
    {
     "name": "stderr",
     "output_type": "stream",
     "text": [
      "100%|██████████| 78/78 [00:01<00:00, 71.41it/s]\n"
     ]
    },
    {
     "name": "stdout",
     "output_type": "stream",
     "text": [
      "mlp_dropout_classification validation accuracy: 0.9857772435897436\n",
      "BNN Test Error: 2.15%\n",
      "MLP Test Error: 1.66%\n",
      "MLP Dropout Test Error: 1.42%\n",
      "Epoch 59/600\n"
     ]
    },
    {
     "name": "stderr",
     "output_type": "stream",
     "text": [
      "100%|██████████| 468/468 [00:18<00:00, 25.00it/s]\n",
      "100%|██████████| 468/468 [00:06<00:00, 68.84it/s]\n",
      "100%|██████████| 468/468 [00:07<00:00, 66.76it/s]\n",
      "100%|██████████| 78/78 [00:17<00:00,  4.36it/s]\n"
     ]
    },
    {
     "name": "stdout",
     "output_type": "stream",
     "text": [
      "bnn_classification validation accuracy: 0.9803685897435898\n"
     ]
    },
    {
     "name": "stderr",
     "output_type": "stream",
     "text": [
      "100%|██████████| 78/78 [00:01<00:00, 72.81it/s]\n"
     ]
    },
    {
     "name": "stdout",
     "output_type": "stream",
     "text": [
      "mlp_classification validation accuracy: 0.9832732371794872\n"
     ]
    },
    {
     "name": "stderr",
     "output_type": "stream",
     "text": [
      "100%|██████████| 78/78 [00:01<00:00, 71.72it/s]\n"
     ]
    },
    {
     "name": "stdout",
     "output_type": "stream",
     "text": [
      "mlp_dropout_classification validation accuracy: 0.9863782051282052\n",
      "BNN Test Error: 1.96%\n",
      "MLP Test Error: 1.67%\n",
      "MLP Dropout Test Error: 1.36%\n",
      "Epoch 60/600\n"
     ]
    },
    {
     "name": "stderr",
     "output_type": "stream",
     "text": [
      "100%|██████████| 468/468 [00:17<00:00, 26.65it/s]\n",
      "100%|██████████| 468/468 [00:06<00:00, 68.13it/s]\n",
      "100%|██████████| 468/468 [00:06<00:00, 68.07it/s]\n",
      "100%|██████████| 78/78 [00:18<00:00,  4.18it/s]\n"
     ]
    },
    {
     "name": "stdout",
     "output_type": "stream",
     "text": [
      "bnn_classification validation accuracy: 0.9795673076923077\n"
     ]
    },
    {
     "name": "stderr",
     "output_type": "stream",
     "text": [
      "100%|██████████| 78/78 [00:01<00:00, 72.64it/s]\n"
     ]
    },
    {
     "name": "stdout",
     "output_type": "stream",
     "text": [
      "mlp_classification validation accuracy: 0.9834735576923077\n"
     ]
    },
    {
     "name": "stderr",
     "output_type": "stream",
     "text": [
      "100%|██████████| 78/78 [00:01<00:00, 71.12it/s]\n"
     ]
    },
    {
     "name": "stdout",
     "output_type": "stream",
     "text": [
      "mlp_dropout_classification validation accuracy: 0.9863782051282052\n",
      "BNN Test Error: 2.04%\n",
      "MLP Test Error: 1.65%\n",
      "MLP Dropout Test Error: 1.36%\n",
      "Epoch 61/600\n"
     ]
    },
    {
     "name": "stderr",
     "output_type": "stream",
     "text": [
      "100%|██████████| 468/468 [00:17<00:00, 26.78it/s]\n",
      "100%|██████████| 468/468 [00:06<00:00, 68.14it/s]\n",
      "100%|██████████| 468/468 [00:07<00:00, 66.82it/s]\n",
      "100%|██████████| 78/78 [00:17<00:00,  4.34it/s]\n"
     ]
    },
    {
     "name": "stdout",
     "output_type": "stream",
     "text": [
      "bnn_classification validation accuracy: 0.9829727564102564\n"
     ]
    },
    {
     "name": "stderr",
     "output_type": "stream",
     "text": [
      "100%|██████████| 78/78 [00:01<00:00, 71.23it/s]\n"
     ]
    },
    {
     "name": "stdout",
     "output_type": "stream",
     "text": [
      "mlp_classification validation accuracy: 0.9833733974358975\n"
     ]
    },
    {
     "name": "stderr",
     "output_type": "stream",
     "text": [
      "100%|██████████| 78/78 [00:01<00:00, 71.11it/s]\n"
     ]
    },
    {
     "name": "stdout",
     "output_type": "stream",
     "text": [
      "mlp_dropout_classification validation accuracy: 0.9862780448717948\n",
      "BNN Test Error: 1.70%\n",
      "MLP Test Error: 1.66%\n",
      "MLP Dropout Test Error: 1.37%\n",
      "Epoch 62/600\n"
     ]
    },
    {
     "name": "stderr",
     "output_type": "stream",
     "text": [
      "100%|██████████| 468/468 [00:17<00:00, 26.81it/s]\n",
      "100%|██████████| 468/468 [00:06<00:00, 69.20it/s]\n",
      "100%|██████████| 468/468 [00:06<00:00, 66.92it/s]\n",
      "100%|██████████| 78/78 [00:17<00:00,  4.42it/s]\n"
     ]
    },
    {
     "name": "stdout",
     "output_type": "stream",
     "text": [
      "bnn_classification validation accuracy: 0.9800681089743589\n"
     ]
    },
    {
     "name": "stderr",
     "output_type": "stream",
     "text": [
      "100%|██████████| 78/78 [00:01<00:00, 72.50it/s]\n"
     ]
    },
    {
     "name": "stdout",
     "output_type": "stream",
     "text": [
      "mlp_classification validation accuracy: 0.983573717948718\n"
     ]
    },
    {
     "name": "stderr",
     "output_type": "stream",
     "text": [
      "100%|██████████| 78/78 [00:01<00:00, 71.32it/s]\n"
     ]
    },
    {
     "name": "stdout",
     "output_type": "stream",
     "text": [
      "mlp_dropout_classification validation accuracy: 0.9853766025641025\n",
      "BNN Test Error: 1.99%\n",
      "MLP Test Error: 1.64%\n",
      "MLP Dropout Test Error: 1.46%\n",
      "Epoch 63/600\n"
     ]
    },
    {
     "name": "stderr",
     "output_type": "stream",
     "text": [
      "100%|██████████| 468/468 [00:17<00:00, 26.82it/s]\n",
      "100%|██████████| 468/468 [00:06<00:00, 67.70it/s]\n",
      "100%|██████████| 468/468 [00:07<00:00, 66.51it/s]\n",
      "100%|██████████| 78/78 [00:17<00:00,  4.40it/s]\n"
     ]
    },
    {
     "name": "stdout",
     "output_type": "stream",
     "text": [
      "bnn_classification validation accuracy: 0.9805689102564102\n"
     ]
    },
    {
     "name": "stderr",
     "output_type": "stream",
     "text": [
      "100%|██████████| 78/78 [00:01<00:00, 67.32it/s]\n"
     ]
    },
    {
     "name": "stdout",
     "output_type": "stream",
     "text": [
      "mlp_classification validation accuracy: 0.983573717948718\n"
     ]
    },
    {
     "name": "stderr",
     "output_type": "stream",
     "text": [
      "100%|██████████| 78/78 [00:01<00:00, 70.07it/s]\n"
     ]
    },
    {
     "name": "stdout",
     "output_type": "stream",
     "text": [
      "mlp_dropout_classification validation accuracy: 0.9858774038461539\n",
      "BNN Test Error: 1.94%\n",
      "MLP Test Error: 1.64%\n",
      "MLP Dropout Test Error: 1.41%\n",
      "Epoch 64/600\n"
     ]
    },
    {
     "name": "stderr",
     "output_type": "stream",
     "text": [
      "100%|██████████| 468/468 [00:17<00:00, 26.57it/s]\n",
      "100%|██████████| 468/468 [00:06<00:00, 69.25it/s]\n",
      "100%|██████████| 468/468 [00:06<00:00, 67.39it/s]\n",
      "100%|██████████| 78/78 [00:16<00:00,  4.61it/s]\n"
     ]
    },
    {
     "name": "stdout",
     "output_type": "stream",
     "text": [
      "bnn_classification validation accuracy: 0.9800681089743589\n"
     ]
    },
    {
     "name": "stderr",
     "output_type": "stream",
     "text": [
      "100%|██████████| 78/78 [00:01<00:00, 69.20it/s]\n"
     ]
    },
    {
     "name": "stdout",
     "output_type": "stream",
     "text": [
      "mlp_classification validation accuracy: 0.9833733974358975\n"
     ]
    },
    {
     "name": "stderr",
     "output_type": "stream",
     "text": [
      "100%|██████████| 78/78 [00:01<00:00, 72.76it/s]\n"
     ]
    },
    {
     "name": "stdout",
     "output_type": "stream",
     "text": [
      "mlp_dropout_classification validation accuracy: 0.9858774038461539\n",
      "BNN Test Error: 1.99%\n",
      "MLP Test Error: 1.66%\n",
      "MLP Dropout Test Error: 1.41%\n",
      "Epoch 65/600\n"
     ]
    },
    {
     "name": "stderr",
     "output_type": "stream",
     "text": [
      "100%|██████████| 468/468 [00:17<00:00, 27.39it/s]\n",
      "100%|██████████| 468/468 [00:07<00:00, 66.81it/s]\n",
      "100%|██████████| 468/468 [00:06<00:00, 67.39it/s]\n",
      "100%|██████████| 78/78 [00:18<00:00,  4.21it/s]\n"
     ]
    },
    {
     "name": "stdout",
     "output_type": "stream",
     "text": [
      "bnn_classification validation accuracy: 0.9833733974358975\n"
     ]
    },
    {
     "name": "stderr",
     "output_type": "stream",
     "text": [
      "100%|██████████| 78/78 [00:01<00:00, 71.18it/s]\n"
     ]
    },
    {
     "name": "stdout",
     "output_type": "stream",
     "text": [
      "mlp_classification validation accuracy: 0.9833733974358975\n"
     ]
    },
    {
     "name": "stderr",
     "output_type": "stream",
     "text": [
      "100%|██████████| 78/78 [00:01<00:00, 66.76it/s]\n"
     ]
    },
    {
     "name": "stdout",
     "output_type": "stream",
     "text": [
      "mlp_dropout_classification validation accuracy: 0.9850761217948718\n",
      "BNN Test Error: 1.66%\n",
      "MLP Test Error: 1.66%\n",
      "MLP Dropout Test Error: 1.49%\n",
      "Epoch 66/600\n"
     ]
    },
    {
     "name": "stderr",
     "output_type": "stream",
     "text": [
      "100%|██████████| 468/468 [00:19<00:00, 24.47it/s]\n",
      "100%|██████████| 468/468 [00:06<00:00, 68.45it/s]\n",
      "100%|██████████| 468/468 [00:07<00:00, 65.89it/s]\n",
      "100%|██████████| 78/78 [00:18<00:00,  4.26it/s]\n"
     ]
    },
    {
     "name": "stdout",
     "output_type": "stream",
     "text": [
      "bnn_classification validation accuracy: 0.9810697115384616\n"
     ]
    },
    {
     "name": "stderr",
     "output_type": "stream",
     "text": [
      "100%|██████████| 78/78 [00:01<00:00, 71.26it/s]\n"
     ]
    },
    {
     "name": "stdout",
     "output_type": "stream",
     "text": [
      "mlp_classification validation accuracy: 0.9834735576923077\n"
     ]
    },
    {
     "name": "stderr",
     "output_type": "stream",
     "text": [
      "100%|██████████| 78/78 [00:01<00:00, 72.74it/s]\n"
     ]
    },
    {
     "name": "stdout",
     "output_type": "stream",
     "text": [
      "mlp_dropout_classification validation accuracy: 0.9867788461538461\n",
      "BNN Test Error: 1.89%\n",
      "MLP Test Error: 1.65%\n",
      "MLP Dropout Test Error: 1.32%\n",
      "Epoch 67/600\n"
     ]
    },
    {
     "name": "stderr",
     "output_type": "stream",
     "text": [
      "100%|██████████| 468/468 [00:17<00:00, 26.81it/s]\n",
      "100%|██████████| 468/468 [00:07<00:00, 66.59it/s]\n",
      "100%|██████████| 468/468 [00:06<00:00, 67.54it/s]\n",
      "100%|██████████| 78/78 [00:17<00:00,  4.53it/s]\n"
     ]
    },
    {
     "name": "stdout",
     "output_type": "stream",
     "text": [
      "bnn_classification validation accuracy: 0.9830729166666666\n"
     ]
    },
    {
     "name": "stderr",
     "output_type": "stream",
     "text": [
      "100%|██████████| 78/78 [00:01<00:00, 71.58it/s]\n"
     ]
    },
    {
     "name": "stdout",
     "output_type": "stream",
     "text": [
      "mlp_classification validation accuracy: 0.9832732371794872\n"
     ]
    },
    {
     "name": "stderr",
     "output_type": "stream",
     "text": [
      "100%|██████████| 78/78 [00:01<00:00, 72.34it/s]\n"
     ]
    },
    {
     "name": "stdout",
     "output_type": "stream",
     "text": [
      "mlp_dropout_classification validation accuracy: 0.9856770833333334\n",
      "BNN Test Error: 1.69%\n",
      "MLP Test Error: 1.67%\n",
      "MLP Dropout Test Error: 1.43%\n",
      "Epoch 68/600\n"
     ]
    },
    {
     "name": "stderr",
     "output_type": "stream",
     "text": [
      "100%|██████████| 468/468 [00:17<00:00, 26.39it/s]\n",
      "100%|██████████| 468/468 [00:06<00:00, 66.93it/s]\n",
      "100%|██████████| 468/468 [00:06<00:00, 67.91it/s]\n",
      "100%|██████████| 78/78 [00:18<00:00,  4.30it/s]\n"
     ]
    },
    {
     "name": "stdout",
     "output_type": "stream",
     "text": [
      "bnn_classification validation accuracy: 0.9805689102564102\n"
     ]
    },
    {
     "name": "stderr",
     "output_type": "stream",
     "text": [
      "100%|██████████| 78/78 [00:01<00:00, 72.21it/s]\n"
     ]
    },
    {
     "name": "stdout",
     "output_type": "stream",
     "text": [
      "mlp_classification validation accuracy: 0.9833733974358975\n"
     ]
    },
    {
     "name": "stderr",
     "output_type": "stream",
     "text": [
      "100%|██████████| 78/78 [00:01<00:00, 71.08it/s]\n"
     ]
    },
    {
     "name": "stdout",
     "output_type": "stream",
     "text": [
      "mlp_dropout_classification validation accuracy: 0.9861778846153846\n",
      "BNN Test Error: 1.94%\n",
      "MLP Test Error: 1.66%\n",
      "MLP Dropout Test Error: 1.38%\n",
      "Epoch 69/600\n"
     ]
    },
    {
     "name": "stderr",
     "output_type": "stream",
     "text": [
      "100%|██████████| 468/468 [00:17<00:00, 26.36it/s]\n",
      "100%|██████████| 468/468 [00:06<00:00, 67.75it/s]\n",
      "100%|██████████| 468/468 [00:06<00:00, 67.20it/s]\n",
      "100%|██████████| 78/78 [00:18<00:00,  4.30it/s]\n"
     ]
    },
    {
     "name": "stdout",
     "output_type": "stream",
     "text": [
      "bnn_classification validation accuracy: 0.9818709935897436\n"
     ]
    },
    {
     "name": "stderr",
     "output_type": "stream",
     "text": [
      "100%|██████████| 78/78 [00:01<00:00, 69.87it/s]\n"
     ]
    },
    {
     "name": "stdout",
     "output_type": "stream",
     "text": [
      "mlp_classification validation accuracy: 0.9834735576923077\n"
     ]
    },
    {
     "name": "stderr",
     "output_type": "stream",
     "text": [
      "100%|██████████| 78/78 [00:01<00:00, 72.40it/s]\n"
     ]
    },
    {
     "name": "stdout",
     "output_type": "stream",
     "text": [
      "mlp_dropout_classification validation accuracy: 0.9858774038461539\n",
      "BNN Test Error: 1.81%\n",
      "MLP Test Error: 1.65%\n",
      "MLP Dropout Test Error: 1.41%\n",
      "Epoch 70/600\n"
     ]
    },
    {
     "name": "stderr",
     "output_type": "stream",
     "text": [
      "100%|██████████| 468/468 [00:19<00:00, 24.42it/s]\n",
      "100%|██████████| 468/468 [00:06<00:00, 68.64it/s]\n",
      "100%|██████████| 468/468 [00:06<00:00, 67.94it/s]\n",
      "100%|██████████| 78/78 [00:17<00:00,  4.50it/s]\n"
     ]
    },
    {
     "name": "stdout",
     "output_type": "stream",
     "text": [
      "bnn_classification validation accuracy: 0.9819711538461539\n"
     ]
    },
    {
     "name": "stderr",
     "output_type": "stream",
     "text": [
      "100%|██████████| 78/78 [00:01<00:00, 73.09it/s]\n"
     ]
    },
    {
     "name": "stdout",
     "output_type": "stream",
     "text": [
      "mlp_classification validation accuracy: 0.9833733974358975\n"
     ]
    },
    {
     "name": "stderr",
     "output_type": "stream",
     "text": [
      "100%|██████████| 78/78 [00:01<00:00, 72.72it/s]\n"
     ]
    },
    {
     "name": "stdout",
     "output_type": "stream",
     "text": [
      "mlp_dropout_classification validation accuracy: 0.9850761217948718\n",
      "BNN Test Error: 1.80%\n",
      "MLP Test Error: 1.66%\n",
      "MLP Dropout Test Error: 1.49%\n",
      "Epoch 71/600\n"
     ]
    },
    {
     "name": "stderr",
     "output_type": "stream",
     "text": [
      "100%|██████████| 468/468 [00:17<00:00, 26.80it/s]\n",
      "100%|██████████| 468/468 [00:06<00:00, 68.31it/s]\n",
      "100%|██████████| 468/468 [00:06<00:00, 67.63it/s]\n",
      "100%|██████████| 78/78 [00:18<00:00,  4.28it/s]\n"
     ]
    },
    {
     "name": "stdout",
     "output_type": "stream",
     "text": [
      "bnn_classification validation accuracy: 0.9836738782051282\n"
     ]
    },
    {
     "name": "stderr",
     "output_type": "stream",
     "text": [
      "100%|██████████| 78/78 [00:01<00:00, 72.89it/s]\n"
     ]
    },
    {
     "name": "stdout",
     "output_type": "stream",
     "text": [
      "mlp_classification validation accuracy: 0.9834735576923077\n"
     ]
    },
    {
     "name": "stderr",
     "output_type": "stream",
     "text": [
      "100%|██████████| 78/78 [00:01<00:00, 72.61it/s]\n"
     ]
    },
    {
     "name": "stdout",
     "output_type": "stream",
     "text": [
      "mlp_dropout_classification validation accuracy: 0.9870793269230769\n",
      "BNN Test Error: 1.63%\n",
      "MLP Test Error: 1.65%\n",
      "MLP Dropout Test Error: 1.29%\n",
      "Epoch 72/600\n"
     ]
    },
    {
     "name": "stderr",
     "output_type": "stream",
     "text": [
      "100%|██████████| 468/468 [00:18<00:00, 24.91it/s]\n",
      "100%|██████████| 468/468 [00:06<00:00, 69.18it/s]\n",
      "100%|██████████| 468/468 [00:06<00:00, 68.43it/s]\n",
      "100%|██████████| 78/78 [00:18<00:00,  4.28it/s]\n"
     ]
    },
    {
     "name": "stdout",
     "output_type": "stream",
     "text": [
      "bnn_classification validation accuracy: 0.9829727564102564\n"
     ]
    },
    {
     "name": "stderr",
     "output_type": "stream",
     "text": [
      "100%|██████████| 78/78 [00:01<00:00, 73.85it/s]\n"
     ]
    },
    {
     "name": "stdout",
     "output_type": "stream",
     "text": [
      "mlp_classification validation accuracy: 0.9833733974358975\n"
     ]
    },
    {
     "name": "stderr",
     "output_type": "stream",
     "text": [
      "100%|██████████| 78/78 [00:01<00:00, 72.11it/s]\n"
     ]
    },
    {
     "name": "stdout",
     "output_type": "stream",
     "text": [
      "mlp_dropout_classification validation accuracy: 0.9866786858974359\n",
      "BNN Test Error: 1.70%\n",
      "MLP Test Error: 1.66%\n",
      "MLP Dropout Test Error: 1.33%\n",
      "Epoch 73/600\n"
     ]
    },
    {
     "name": "stderr",
     "output_type": "stream",
     "text": [
      "100%|██████████| 468/468 [00:17<00:00, 26.39it/s]\n",
      "100%|██████████| 468/468 [00:06<00:00, 68.84it/s]\n",
      "100%|██████████| 468/468 [00:06<00:00, 67.31it/s]\n",
      "100%|██████████| 78/78 [00:18<00:00,  4.23it/s]\n"
     ]
    },
    {
     "name": "stdout",
     "output_type": "stream",
     "text": [
      "bnn_classification validation accuracy: 0.9817708333333334\n"
     ]
    },
    {
     "name": "stderr",
     "output_type": "stream",
     "text": [
      "100%|██████████| 78/78 [00:01<00:00, 73.45it/s]\n"
     ]
    },
    {
     "name": "stdout",
     "output_type": "stream",
     "text": [
      "mlp_classification validation accuracy: 0.9834735576923077\n"
     ]
    },
    {
     "name": "stderr",
     "output_type": "stream",
     "text": [
      "100%|██████████| 78/78 [00:01<00:00, 70.17it/s]\n"
     ]
    },
    {
     "name": "stdout",
     "output_type": "stream",
     "text": [
      "mlp_dropout_classification validation accuracy: 0.9858774038461539\n",
      "BNN Test Error: 1.82%\n",
      "MLP Test Error: 1.65%\n",
      "MLP Dropout Test Error: 1.41%\n",
      "Epoch 74/600\n"
     ]
    },
    {
     "name": "stderr",
     "output_type": "stream",
     "text": [
      "100%|██████████| 468/468 [00:17<00:00, 27.16it/s]\n",
      "100%|██████████| 468/468 [00:06<00:00, 68.59it/s]\n",
      "100%|██████████| 468/468 [00:06<00:00, 67.64it/s]\n",
      "100%|██████████| 78/78 [00:17<00:00,  4.57it/s]\n"
     ]
    },
    {
     "name": "stdout",
     "output_type": "stream",
     "text": [
      "bnn_classification validation accuracy: 0.9827724358974359\n"
     ]
    },
    {
     "name": "stderr",
     "output_type": "stream",
     "text": [
      "100%|██████████| 78/78 [00:01<00:00, 70.15it/s]\n"
     ]
    },
    {
     "name": "stdout",
     "output_type": "stream",
     "text": [
      "mlp_classification validation accuracy: 0.9832732371794872\n"
     ]
    },
    {
     "name": "stderr",
     "output_type": "stream",
     "text": [
      "100%|██████████| 78/78 [00:01<00:00, 73.61it/s]\n"
     ]
    },
    {
     "name": "stdout",
     "output_type": "stream",
     "text": [
      "mlp_dropout_classification validation accuracy: 0.9859775641025641\n",
      "BNN Test Error: 1.72%\n",
      "MLP Test Error: 1.67%\n",
      "MLP Dropout Test Error: 1.40%\n",
      "Epoch 75/600\n"
     ]
    },
    {
     "name": "stderr",
     "output_type": "stream",
     "text": [
      "100%|██████████| 468/468 [00:17<00:00, 26.01it/s]\n",
      "100%|██████████| 468/468 [00:06<00:00, 67.95it/s]\n",
      "100%|██████████| 468/468 [00:06<00:00, 67.69it/s]\n",
      "100%|██████████| 78/78 [00:18<00:00,  4.33it/s]\n"
     ]
    },
    {
     "name": "stdout",
     "output_type": "stream",
     "text": [
      "bnn_classification validation accuracy: 0.9815705128205128\n"
     ]
    },
    {
     "name": "stderr",
     "output_type": "stream",
     "text": [
      "100%|██████████| 78/78 [00:01<00:00, 71.44it/s]\n"
     ]
    },
    {
     "name": "stdout",
     "output_type": "stream",
     "text": [
      "mlp_classification validation accuracy: 0.9836738782051282\n"
     ]
    },
    {
     "name": "stderr",
     "output_type": "stream",
     "text": [
      "100%|██████████| 78/78 [00:01<00:00, 70.20it/s]\n"
     ]
    },
    {
     "name": "stdout",
     "output_type": "stream",
     "text": [
      "mlp_dropout_classification validation accuracy: 0.9867788461538461\n",
      "BNN Test Error: 1.84%\n",
      "MLP Test Error: 1.63%\n",
      "MLP Dropout Test Error: 1.32%\n",
      "Epoch 76/600\n"
     ]
    },
    {
     "name": "stderr",
     "output_type": "stream",
     "text": [
      "100%|██████████| 468/468 [00:17<00:00, 27.20it/s]\n",
      "100%|██████████| 468/468 [00:06<00:00, 68.64it/s]\n",
      "100%|██████████| 468/468 [00:06<00:00, 68.03it/s]\n",
      "100%|██████████| 78/78 [00:17<00:00,  4.47it/s]\n"
     ]
    },
    {
     "name": "stdout",
     "output_type": "stream",
     "text": [
      "bnn_classification validation accuracy: 0.9809695512820513\n"
     ]
    },
    {
     "name": "stderr",
     "output_type": "stream",
     "text": [
      "100%|██████████| 78/78 [00:01<00:00, 65.81it/s]\n"
     ]
    },
    {
     "name": "stdout",
     "output_type": "stream",
     "text": [
      "mlp_classification validation accuracy: 0.9833733974358975\n"
     ]
    },
    {
     "name": "stderr",
     "output_type": "stream",
     "text": [
      "100%|██████████| 78/78 [00:01<00:00, 72.84it/s]\n"
     ]
    },
    {
     "name": "stdout",
     "output_type": "stream",
     "text": [
      "mlp_dropout_classification validation accuracy: 0.9860777243589743\n",
      "BNN Test Error: 1.90%\n",
      "MLP Test Error: 1.66%\n",
      "MLP Dropout Test Error: 1.39%\n",
      "Epoch 77/600\n"
     ]
    },
    {
     "name": "stderr",
     "output_type": "stream",
     "text": [
      "100%|██████████| 468/468 [00:18<00:00, 24.98it/s]\n",
      "100%|██████████| 468/468 [00:06<00:00, 67.91it/s]\n",
      "100%|██████████| 468/468 [00:07<00:00, 65.65it/s]\n",
      "100%|██████████| 78/78 [00:17<00:00,  4.36it/s]\n"
     ]
    },
    {
     "name": "stdout",
     "output_type": "stream",
     "text": [
      "bnn_classification validation accuracy: 0.9783653846153846\n"
     ]
    },
    {
     "name": "stderr",
     "output_type": "stream",
     "text": [
      "100%|██████████| 78/78 [00:01<00:00, 73.33it/s]\n"
     ]
    },
    {
     "name": "stdout",
     "output_type": "stream",
     "text": [
      "mlp_classification validation accuracy: 0.9832732371794872\n"
     ]
    },
    {
     "name": "stderr",
     "output_type": "stream",
     "text": [
      "100%|██████████| 78/78 [00:01<00:00, 70.80it/s]\n"
     ]
    },
    {
     "name": "stdout",
     "output_type": "stream",
     "text": [
      "mlp_dropout_classification validation accuracy: 0.9867788461538461\n",
      "BNN Test Error: 2.16%\n",
      "MLP Test Error: 1.67%\n",
      "MLP Dropout Test Error: 1.32%\n",
      "Epoch 78/600\n"
     ]
    },
    {
     "name": "stderr",
     "output_type": "stream",
     "text": [
      "100%|██████████| 468/468 [00:17<00:00, 26.65it/s]\n",
      "100%|██████████| 468/468 [00:06<00:00, 67.19it/s]\n",
      "100%|██████████| 468/468 [00:06<00:00, 67.83it/s]\n",
      "100%|██████████| 78/78 [00:18<00:00,  4.21it/s]\n"
     ]
    },
    {
     "name": "stdout",
     "output_type": "stream",
     "text": [
      "bnn_classification validation accuracy: 0.9820713141025641\n"
     ]
    },
    {
     "name": "stderr",
     "output_type": "stream",
     "text": [
      "100%|██████████| 78/78 [00:01<00:00, 73.65it/s]\n"
     ]
    },
    {
     "name": "stdout",
     "output_type": "stream",
     "text": [
      "mlp_classification validation accuracy: 0.9833733974358975\n"
     ]
    },
    {
     "name": "stderr",
     "output_type": "stream",
     "text": [
      "100%|██████████| 78/78 [00:01<00:00, 72.77it/s]\n"
     ]
    },
    {
     "name": "stdout",
     "output_type": "stream",
     "text": [
      "mlp_dropout_classification validation accuracy: 0.9870793269230769\n",
      "BNN Test Error: 1.79%\n",
      "MLP Test Error: 1.66%\n",
      "MLP Dropout Test Error: 1.29%\n",
      "Epoch 79/600\n"
     ]
    },
    {
     "name": "stderr",
     "output_type": "stream",
     "text": [
      "100%|██████████| 468/468 [00:17<00:00, 26.82it/s]\n",
      "100%|██████████| 468/468 [00:06<00:00, 67.60it/s]\n",
      "100%|██████████| 468/468 [00:06<00:00, 67.98it/s]\n",
      "100%|██████████| 78/78 [00:17<00:00,  4.37it/s]\n"
     ]
    },
    {
     "name": "stdout",
     "output_type": "stream",
     "text": [
      "bnn_classification validation accuracy: 0.9824719551282052\n"
     ]
    },
    {
     "name": "stderr",
     "output_type": "stream",
     "text": [
      "100%|██████████| 78/78 [00:01<00:00, 72.48it/s]\n"
     ]
    },
    {
     "name": "stdout",
     "output_type": "stream",
     "text": [
      "mlp_classification validation accuracy: 0.9832732371794872\n"
     ]
    },
    {
     "name": "stderr",
     "output_type": "stream",
     "text": [
      "100%|██████████| 78/78 [00:01<00:00, 71.32it/s]\n"
     ]
    },
    {
     "name": "stdout",
     "output_type": "stream",
     "text": [
      "mlp_dropout_classification validation accuracy: 0.9862780448717948\n",
      "BNN Test Error: 1.75%\n",
      "MLP Test Error: 1.67%\n",
      "MLP Dropout Test Error: 1.37%\n",
      "Epoch 80/600\n"
     ]
    },
    {
     "name": "stderr",
     "output_type": "stream",
     "text": [
      "100%|██████████| 468/468 [00:17<00:00, 26.85it/s]\n",
      "100%|██████████| 468/468 [00:06<00:00, 68.89it/s]\n",
      "100%|██████████| 468/468 [00:06<00:00, 67.85it/s]\n",
      "100%|██████████| 78/78 [00:18<00:00,  4.29it/s]\n"
     ]
    },
    {
     "name": "stdout",
     "output_type": "stream",
     "text": [
      "bnn_classification validation accuracy: 0.9803685897435898\n"
     ]
    },
    {
     "name": "stderr",
     "output_type": "stream",
     "text": [
      "100%|██████████| 78/78 [00:01<00:00, 69.72it/s]\n"
     ]
    },
    {
     "name": "stdout",
     "output_type": "stream",
     "text": [
      "mlp_classification validation accuracy: 0.9832732371794872\n"
     ]
    },
    {
     "name": "stderr",
     "output_type": "stream",
     "text": [
      "100%|██████████| 78/78 [00:01<00:00, 72.39it/s]\n"
     ]
    },
    {
     "name": "stdout",
     "output_type": "stream",
     "text": [
      "mlp_dropout_classification validation accuracy: 0.9867788461538461\n",
      "BNN Test Error: 1.96%\n",
      "MLP Test Error: 1.67%\n",
      "MLP Dropout Test Error: 1.32%\n",
      "Epoch 81/600\n"
     ]
    },
    {
     "name": "stderr",
     "output_type": "stream",
     "text": [
      "100%|██████████| 468/468 [00:17<00:00, 26.73it/s]\n",
      "100%|██████████| 468/468 [00:06<00:00, 68.20it/s]\n",
      "100%|██████████| 468/468 [00:06<00:00, 67.33it/s]\n",
      "100%|██████████| 78/78 [00:18<00:00,  4.21it/s]\n"
     ]
    },
    {
     "name": "stdout",
     "output_type": "stream",
     "text": [
      "bnn_classification validation accuracy: 0.9802684294871795\n"
     ]
    },
    {
     "name": "stderr",
     "output_type": "stream",
     "text": [
      "100%|██████████| 78/78 [00:01<00:00, 72.53it/s]\n"
     ]
    },
    {
     "name": "stdout",
     "output_type": "stream",
     "text": [
      "mlp_classification validation accuracy: 0.9832732371794872\n"
     ]
    },
    {
     "name": "stderr",
     "output_type": "stream",
     "text": [
      "100%|██████████| 78/78 [00:01<00:00, 72.62it/s]\n"
     ]
    },
    {
     "name": "stdout",
     "output_type": "stream",
     "text": [
      "mlp_dropout_classification validation accuracy: 0.9860777243589743\n",
      "BNN Test Error: 1.97%\n",
      "MLP Test Error: 1.67%\n",
      "MLP Dropout Test Error: 1.39%\n",
      "Epoch 82/600\n"
     ]
    },
    {
     "name": "stderr",
     "output_type": "stream",
     "text": [
      "100%|██████████| 468/468 [00:17<00:00, 26.41it/s]\n",
      "100%|██████████| 468/468 [00:06<00:00, 67.73it/s]\n",
      "100%|██████████| 468/468 [00:07<00:00, 66.70it/s]\n",
      "100%|██████████| 78/78 [00:18<00:00,  4.25it/s]\n"
     ]
    },
    {
     "name": "stdout",
     "output_type": "stream",
     "text": [
      "bnn_classification validation accuracy: 0.9828725961538461\n"
     ]
    },
    {
     "name": "stderr",
     "output_type": "stream",
     "text": [
      "100%|██████████| 78/78 [00:01<00:00, 71.42it/s]\n"
     ]
    },
    {
     "name": "stdout",
     "output_type": "stream",
     "text": [
      "mlp_classification validation accuracy: 0.9832732371794872\n"
     ]
    },
    {
     "name": "stderr",
     "output_type": "stream",
     "text": [
      "100%|██████████| 78/78 [00:01<00:00, 72.98it/s]\n"
     ]
    },
    {
     "name": "stdout",
     "output_type": "stream",
     "text": [
      "mlp_dropout_classification validation accuracy: 0.9869791666666666\n",
      "BNN Test Error: 1.71%\n",
      "MLP Test Error: 1.67%\n",
      "MLP Dropout Test Error: 1.30%\n",
      "Epoch 83/600\n"
     ]
    },
    {
     "name": "stderr",
     "output_type": "stream",
     "text": [
      "100%|██████████| 468/468 [00:19<00:00, 24.52it/s]\n",
      "100%|██████████| 468/468 [00:06<00:00, 68.91it/s]\n",
      "100%|██████████| 468/468 [00:06<00:00, 68.05it/s]\n",
      "100%|██████████| 78/78 [00:18<00:00,  4.33it/s]\n"
     ]
    },
    {
     "name": "stdout",
     "output_type": "stream",
     "text": [
      "bnn_classification validation accuracy: 0.9803685897435898\n"
     ]
    },
    {
     "name": "stderr",
     "output_type": "stream",
     "text": [
      "100%|██████████| 78/78 [00:01<00:00, 72.60it/s]\n"
     ]
    },
    {
     "name": "stdout",
     "output_type": "stream",
     "text": [
      "mlp_classification validation accuracy: 0.9832732371794872\n"
     ]
    },
    {
     "name": "stderr",
     "output_type": "stream",
     "text": [
      "100%|██████████| 78/78 [00:01<00:00, 72.83it/s]\n"
     ]
    },
    {
     "name": "stdout",
     "output_type": "stream",
     "text": [
      "mlp_dropout_classification validation accuracy: 0.9876802884615384\n",
      "BNN Test Error: 1.96%\n",
      "MLP Test Error: 1.67%\n",
      "MLP Dropout Test Error: 1.23%\n",
      "Epoch 84/600\n"
     ]
    },
    {
     "name": "stderr",
     "output_type": "stream",
     "text": [
      "100%|██████████| 468/468 [00:17<00:00, 27.07it/s]\n",
      "100%|██████████| 468/468 [00:06<00:00, 68.10it/s]\n",
      "100%|██████████| 468/468 [00:06<00:00, 67.43it/s]\n",
      "100%|██████████| 78/78 [00:17<00:00,  4.40it/s]\n"
     ]
    },
    {
     "name": "stdout",
     "output_type": "stream",
     "text": [
      "bnn_classification validation accuracy: 0.9855769230769231\n"
     ]
    },
    {
     "name": "stderr",
     "output_type": "stream",
     "text": [
      "100%|██████████| 78/78 [00:01<00:00, 71.95it/s]\n"
     ]
    },
    {
     "name": "stdout",
     "output_type": "stream",
     "text": [
      "mlp_classification validation accuracy: 0.9832732371794872\n"
     ]
    },
    {
     "name": "stderr",
     "output_type": "stream",
     "text": [
      "100%|██████████| 78/78 [00:01<00:00, 71.68it/s]\n"
     ]
    },
    {
     "name": "stdout",
     "output_type": "stream",
     "text": [
      "mlp_dropout_classification validation accuracy: 0.9875801282051282\n",
      "BNN Test Error: 1.44%\n",
      "MLP Test Error: 1.67%\n",
      "MLP Dropout Test Error: 1.24%\n",
      "Epoch 85/600\n"
     ]
    },
    {
     "name": "stderr",
     "output_type": "stream",
     "text": [
      "100%|██████████| 468/468 [00:18<00:00, 24.98it/s]\n",
      "100%|██████████| 468/468 [00:07<00:00, 66.56it/s]\n",
      "100%|██████████| 468/468 [00:07<00:00, 66.37it/s]\n",
      "100%|██████████| 78/78 [00:17<00:00,  4.39it/s]\n"
     ]
    },
    {
     "name": "stdout",
     "output_type": "stream",
     "text": [
      "bnn_classification validation accuracy: 0.9820713141025641\n"
     ]
    },
    {
     "name": "stderr",
     "output_type": "stream",
     "text": [
      "100%|██████████| 78/78 [00:01<00:00, 72.70it/s]\n"
     ]
    },
    {
     "name": "stdout",
     "output_type": "stream",
     "text": [
      "mlp_classification validation accuracy: 0.9834735576923077\n"
     ]
    },
    {
     "name": "stderr",
     "output_type": "stream",
     "text": [
      "100%|██████████| 78/78 [00:01<00:00, 72.09it/s]\n"
     ]
    },
    {
     "name": "stdout",
     "output_type": "stream",
     "text": [
      "mlp_dropout_classification validation accuracy: 0.9860777243589743\n",
      "BNN Test Error: 1.79%\n",
      "MLP Test Error: 1.65%\n",
      "MLP Dropout Test Error: 1.39%\n",
      "Epoch 86/600\n"
     ]
    },
    {
     "name": "stderr",
     "output_type": "stream",
     "text": [
      "100%|██████████| 468/468 [00:17<00:00, 27.04it/s]\n",
      "100%|██████████| 468/468 [00:06<00:00, 69.16it/s]\n",
      "100%|██████████| 468/468 [00:06<00:00, 67.88it/s]\n",
      "100%|██████████| 78/78 [00:18<00:00,  4.27it/s]\n"
     ]
    },
    {
     "name": "stdout",
     "output_type": "stream",
     "text": [
      "bnn_classification validation accuracy: 0.981270032051282\n"
     ]
    },
    {
     "name": "stderr",
     "output_type": "stream",
     "text": [
      "100%|██████████| 78/78 [00:01<00:00, 70.29it/s]\n"
     ]
    },
    {
     "name": "stdout",
     "output_type": "stream",
     "text": [
      "mlp_classification validation accuracy: 0.9832732371794872\n"
     ]
    },
    {
     "name": "stderr",
     "output_type": "stream",
     "text": [
      "100%|██████████| 78/78 [00:01<00:00, 71.27it/s]\n"
     ]
    },
    {
     "name": "stdout",
     "output_type": "stream",
     "text": [
      "mlp_dropout_classification validation accuracy: 0.9862780448717948\n",
      "BNN Test Error: 1.87%\n",
      "MLP Test Error: 1.67%\n",
      "MLP Dropout Test Error: 1.37%\n",
      "Epoch 87/600\n"
     ]
    },
    {
     "name": "stderr",
     "output_type": "stream",
     "text": [
      "100%|██████████| 468/468 [00:18<00:00, 25.70it/s]\n",
      "100%|██████████| 468/468 [00:06<00:00, 68.66it/s]\n",
      "100%|██████████| 468/468 [00:06<00:00, 66.88it/s]\n",
      "100%|██████████| 78/78 [00:17<00:00,  4.37it/s]\n"
     ]
    },
    {
     "name": "stdout",
     "output_type": "stream",
     "text": [
      "bnn_classification validation accuracy: 0.9826722756410257\n"
     ]
    },
    {
     "name": "stderr",
     "output_type": "stream",
     "text": [
      "100%|██████████| 78/78 [00:01<00:00, 73.03it/s]\n"
     ]
    },
    {
     "name": "stdout",
     "output_type": "stream",
     "text": [
      "mlp_classification validation accuracy: 0.9833733974358975\n"
     ]
    },
    {
     "name": "stderr",
     "output_type": "stream",
     "text": [
      "100%|██████████| 78/78 [00:01<00:00, 71.91it/s]\n"
     ]
    },
    {
     "name": "stdout",
     "output_type": "stream",
     "text": [
      "mlp_dropout_classification validation accuracy: 0.9866786858974359\n",
      "BNN Test Error: 1.73%\n",
      "MLP Test Error: 1.66%\n",
      "MLP Dropout Test Error: 1.33%\n",
      "Epoch 88/600\n"
     ]
    },
    {
     "name": "stderr",
     "output_type": "stream",
     "text": [
      "100%|██████████| 468/468 [00:17<00:00, 26.55it/s]\n",
      "100%|██████████| 468/468 [00:06<00:00, 68.01it/s]\n",
      "100%|██████████| 468/468 [00:06<00:00, 67.65it/s]\n",
      "100%|██████████| 78/78 [00:17<00:00,  4.45it/s]\n"
     ]
    },
    {
     "name": "stdout",
     "output_type": "stream",
     "text": [
      "bnn_classification validation accuracy: 0.9814703525641025\n"
     ]
    },
    {
     "name": "stderr",
     "output_type": "stream",
     "text": [
      "100%|██████████| 78/78 [00:01<00:00, 73.60it/s]\n"
     ]
    },
    {
     "name": "stdout",
     "output_type": "stream",
     "text": [
      "mlp_classification validation accuracy: 0.9832732371794872\n"
     ]
    },
    {
     "name": "stderr",
     "output_type": "stream",
     "text": [
      "100%|██████████| 78/78 [00:01<00:00, 72.16it/s]\n"
     ]
    },
    {
     "name": "stdout",
     "output_type": "stream",
     "text": [
      "mlp_dropout_classification validation accuracy: 0.9863782051282052\n",
      "BNN Test Error: 1.85%\n",
      "MLP Test Error: 1.67%\n",
      "MLP Dropout Test Error: 1.36%\n",
      "Epoch 89/600\n"
     ]
    },
    {
     "name": "stderr",
     "output_type": "stream",
     "text": [
      "100%|██████████| 468/468 [00:17<00:00, 26.88it/s]\n",
      "100%|██████████| 468/468 [00:06<00:00, 68.58it/s]\n",
      "100%|██████████| 468/468 [00:06<00:00, 68.33it/s]\n",
      "100%|██████████| 78/78 [00:18<00:00,  4.26it/s]\n"
     ]
    },
    {
     "name": "stdout",
     "output_type": "stream",
     "text": [
      "bnn_classification validation accuracy: 0.9824719551282052\n"
     ]
    },
    {
     "name": "stderr",
     "output_type": "stream",
     "text": [
      "100%|██████████| 78/78 [00:01<00:00, 72.50it/s]\n"
     ]
    },
    {
     "name": "stdout",
     "output_type": "stream",
     "text": [
      "mlp_classification validation accuracy: 0.9832732371794872\n"
     ]
    },
    {
     "name": "stderr",
     "output_type": "stream",
     "text": [
      "100%|██████████| 78/78 [00:01<00:00, 73.54it/s]\n"
     ]
    },
    {
     "name": "stdout",
     "output_type": "stream",
     "text": [
      "mlp_dropout_classification validation accuracy: 0.9856770833333334\n",
      "BNN Test Error: 1.75%\n",
      "MLP Test Error: 1.67%\n",
      "MLP Dropout Test Error: 1.43%\n",
      "Epoch 90/600\n"
     ]
    },
    {
     "name": "stderr",
     "output_type": "stream",
     "text": [
      "100%|██████████| 468/468 [00:19<00:00, 24.61it/s]\n",
      "100%|██████████| 468/468 [00:06<00:00, 68.07it/s]\n",
      "100%|██████████| 468/468 [00:06<00:00, 67.77it/s]\n",
      "100%|██████████| 78/78 [00:18<00:00,  4.22it/s]\n"
     ]
    },
    {
     "name": "stdout",
     "output_type": "stream",
     "text": [
      "bnn_classification validation accuracy: 0.9815705128205128\n"
     ]
    },
    {
     "name": "stderr",
     "output_type": "stream",
     "text": [
      "100%|██████████| 78/78 [00:01<00:00, 67.86it/s]\n"
     ]
    },
    {
     "name": "stdout",
     "output_type": "stream",
     "text": [
      "mlp_classification validation accuracy: 0.983573717948718\n"
     ]
    },
    {
     "name": "stderr",
     "output_type": "stream",
     "text": [
      "100%|██████████| 78/78 [00:01<00:00, 73.47it/s]\n"
     ]
    },
    {
     "name": "stdout",
     "output_type": "stream",
     "text": [
      "mlp_dropout_classification validation accuracy: 0.9865785256410257\n",
      "BNN Test Error: 1.84%\n",
      "MLP Test Error: 1.64%\n",
      "MLP Dropout Test Error: 1.34%\n",
      "Epoch 91/600\n"
     ]
    },
    {
     "name": "stderr",
     "output_type": "stream",
     "text": [
      "100%|██████████| 468/468 [00:18<00:00, 25.42it/s]\n",
      "100%|██████████| 468/468 [00:06<00:00, 68.37it/s]\n",
      "100%|██████████| 468/468 [00:07<00:00, 66.44it/s]\n",
      "100%|██████████| 78/78 [00:17<00:00,  4.38it/s]\n"
     ]
    },
    {
     "name": "stdout",
     "output_type": "stream",
     "text": [
      "bnn_classification validation accuracy: 0.9823717948717948\n"
     ]
    },
    {
     "name": "stderr",
     "output_type": "stream",
     "text": [
      "100%|██████████| 78/78 [00:01<00:00, 73.08it/s]\n"
     ]
    },
    {
     "name": "stdout",
     "output_type": "stream",
     "text": [
      "mlp_classification validation accuracy: 0.9833733974358975\n"
     ]
    },
    {
     "name": "stderr",
     "output_type": "stream",
     "text": [
      "100%|██████████| 78/78 [00:01<00:00, 72.48it/s]\n"
     ]
    },
    {
     "name": "stdout",
     "output_type": "stream",
     "text": [
      "mlp_dropout_classification validation accuracy: 0.9856770833333334\n",
      "BNN Test Error: 1.76%\n",
      "MLP Test Error: 1.66%\n",
      "MLP Dropout Test Error: 1.43%\n",
      "Epoch 92/600\n"
     ]
    },
    {
     "name": "stderr",
     "output_type": "stream",
     "text": [
      "100%|██████████| 468/468 [00:17<00:00, 26.93it/s]\n",
      "100%|██████████| 468/468 [00:06<00:00, 68.23it/s]\n",
      "100%|██████████| 468/468 [00:06<00:00, 67.18it/s]\n",
      "100%|██████████| 78/78 [00:17<00:00,  4.39it/s]\n"
     ]
    },
    {
     "name": "stdout",
     "output_type": "stream",
     "text": [
      "bnn_classification validation accuracy: 0.9805689102564102\n"
     ]
    },
    {
     "name": "stderr",
     "output_type": "stream",
     "text": [
      "100%|██████████| 78/78 [00:01<00:00, 69.87it/s]\n"
     ]
    },
    {
     "name": "stdout",
     "output_type": "stream",
     "text": [
      "mlp_classification validation accuracy: 0.9832732371794872\n"
     ]
    },
    {
     "name": "stderr",
     "output_type": "stream",
     "text": [
      "100%|██████████| 78/78 [00:01<00:00, 72.36it/s]\n"
     ]
    },
    {
     "name": "stdout",
     "output_type": "stream",
     "text": [
      "mlp_dropout_classification validation accuracy: 0.9861778846153846\n",
      "BNN Test Error: 1.94%\n",
      "MLP Test Error: 1.67%\n",
      "MLP Dropout Test Error: 1.38%\n",
      "Epoch 93/600\n"
     ]
    },
    {
     "name": "stderr",
     "output_type": "stream",
     "text": [
      "100%|██████████| 468/468 [00:19<00:00, 24.57it/s]\n",
      "100%|██████████| 468/468 [00:06<00:00, 67.79it/s]\n",
      "100%|██████████| 468/468 [00:06<00:00, 68.00it/s]\n",
      "100%|██████████| 78/78 [00:17<00:00,  4.50it/s]\n"
     ]
    },
    {
     "name": "stdout",
     "output_type": "stream",
     "text": [
      "bnn_classification validation accuracy: 0.9828725961538461\n"
     ]
    },
    {
     "name": "stderr",
     "output_type": "stream",
     "text": [
      "100%|██████████| 78/78 [00:01<00:00, 72.58it/s]\n"
     ]
    },
    {
     "name": "stdout",
     "output_type": "stream",
     "text": [
      "mlp_classification validation accuracy: 0.9831730769230769\n"
     ]
    },
    {
     "name": "stderr",
     "output_type": "stream",
     "text": [
      "100%|██████████| 78/78 [00:01<00:00, 67.53it/s]\n"
     ]
    },
    {
     "name": "stdout",
     "output_type": "stream",
     "text": [
      "mlp_dropout_classification validation accuracy: 0.9865785256410257\n",
      "BNN Test Error: 1.71%\n",
      "MLP Test Error: 1.68%\n",
      "MLP Dropout Test Error: 1.34%\n",
      "Epoch 94/600\n"
     ]
    },
    {
     "name": "stderr",
     "output_type": "stream",
     "text": [
      "100%|██████████| 468/468 [00:18<00:00, 24.75it/s]\n",
      "100%|██████████| 468/468 [00:06<00:00, 68.46it/s]\n",
      "100%|██████████| 468/468 [00:07<00:00, 66.81it/s]\n",
      "100%|██████████| 78/78 [00:18<00:00,  4.30it/s]\n"
     ]
    },
    {
     "name": "stdout",
     "output_type": "stream",
     "text": [
      "bnn_classification validation accuracy: 0.9810697115384616\n"
     ]
    },
    {
     "name": "stderr",
     "output_type": "stream",
     "text": [
      "100%|██████████| 78/78 [00:01<00:00, 71.40it/s]\n"
     ]
    },
    {
     "name": "stdout",
     "output_type": "stream",
     "text": [
      "mlp_classification validation accuracy: 0.983573717948718\n"
     ]
    },
    {
     "name": "stderr",
     "output_type": "stream",
     "text": [
      "100%|██████████| 78/78 [00:01<00:00, 70.08it/s]\n"
     ]
    },
    {
     "name": "stdout",
     "output_type": "stream",
     "text": [
      "mlp_dropout_classification validation accuracy: 0.9862780448717948\n",
      "BNN Test Error: 1.89%\n",
      "MLP Test Error: 1.64%\n",
      "MLP Dropout Test Error: 1.37%\n",
      "Epoch 95/600\n"
     ]
    },
    {
     "name": "stderr",
     "output_type": "stream",
     "text": [
      "100%|██████████| 468/468 [00:17<00:00, 27.30it/s]\n",
      "100%|██████████| 468/468 [00:06<00:00, 69.40it/s]\n",
      "100%|██████████| 468/468 [00:06<00:00, 67.59it/s]\n",
      "100%|██████████| 78/78 [00:18<00:00,  4.26it/s]\n"
     ]
    },
    {
     "name": "stdout",
     "output_type": "stream",
     "text": [
      "bnn_classification validation accuracy: 0.9799679487179487\n"
     ]
    },
    {
     "name": "stderr",
     "output_type": "stream",
     "text": [
      "100%|██████████| 78/78 [00:01<00:00, 72.73it/s]\n"
     ]
    },
    {
     "name": "stdout",
     "output_type": "stream",
     "text": [
      "mlp_classification validation accuracy: 0.9833733974358975\n"
     ]
    },
    {
     "name": "stderr",
     "output_type": "stream",
     "text": [
      "100%|██████████| 78/78 [00:01<00:00, 72.87it/s]\n"
     ]
    },
    {
     "name": "stdout",
     "output_type": "stream",
     "text": [
      "mlp_dropout_classification validation accuracy: 0.9865785256410257\n",
      "BNN Test Error: 2.00%\n",
      "MLP Test Error: 1.66%\n",
      "MLP Dropout Test Error: 1.34%\n",
      "Epoch 96/600\n"
     ]
    },
    {
     "name": "stderr",
     "output_type": "stream",
     "text": [
      "100%|██████████| 468/468 [00:17<00:00, 27.46it/s]\n",
      "100%|██████████| 468/468 [00:06<00:00, 68.32it/s]\n",
      "100%|██████████| 468/468 [00:06<00:00, 68.19it/s]\n",
      "100%|██████████| 78/78 [00:18<00:00,  4.28it/s]\n"
     ]
    },
    {
     "name": "stdout",
     "output_type": "stream",
     "text": [
      "bnn_classification validation accuracy: 0.9825721153846154\n"
     ]
    },
    {
     "name": "stderr",
     "output_type": "stream",
     "text": [
      "100%|██████████| 78/78 [00:01<00:00, 71.79it/s]\n"
     ]
    },
    {
     "name": "stdout",
     "output_type": "stream",
     "text": [
      "mlp_classification validation accuracy: 0.9833733974358975\n"
     ]
    },
    {
     "name": "stderr",
     "output_type": "stream",
     "text": [
      "100%|██████████| 78/78 [00:01<00:00, 73.08it/s]\n"
     ]
    },
    {
     "name": "stdout",
     "output_type": "stream",
     "text": [
      "mlp_dropout_classification validation accuracy: 0.9865785256410257\n",
      "BNN Test Error: 1.74%\n",
      "MLP Test Error: 1.66%\n",
      "MLP Dropout Test Error: 1.34%\n",
      "Epoch 97/600\n"
     ]
    },
    {
     "name": "stderr",
     "output_type": "stream",
     "text": [
      "100%|██████████| 468/468 [00:17<00:00, 26.82it/s]\n",
      "100%|██████████| 468/468 [00:06<00:00, 68.77it/s]\n",
      "100%|██████████| 468/468 [00:06<00:00, 67.11it/s]\n",
      "100%|██████████| 78/78 [00:18<00:00,  4.29it/s]\n"
     ]
    },
    {
     "name": "stdout",
     "output_type": "stream",
     "text": [
      "bnn_classification validation accuracy: 0.9824719551282052\n"
     ]
    },
    {
     "name": "stderr",
     "output_type": "stream",
     "text": [
      "100%|██████████| 78/78 [00:01<00:00, 72.39it/s]\n"
     ]
    },
    {
     "name": "stdout",
     "output_type": "stream",
     "text": [
      "mlp_classification validation accuracy: 0.9834735576923077\n"
     ]
    },
    {
     "name": "stderr",
     "output_type": "stream",
     "text": [
      "100%|██████████| 78/78 [00:01<00:00, 73.73it/s]\n"
     ]
    },
    {
     "name": "stdout",
     "output_type": "stream",
     "text": [
      "mlp_dropout_classification validation accuracy: 0.9867788461538461\n",
      "BNN Test Error: 1.75%\n",
      "MLP Test Error: 1.65%\n",
      "MLP Dropout Test Error: 1.32%\n",
      "Epoch 98/600\n"
     ]
    },
    {
     "name": "stderr",
     "output_type": "stream",
     "text": [
      "100%|██████████| 468/468 [00:19<00:00, 23.76it/s]\n",
      "100%|██████████| 468/468 [00:06<00:00, 68.61it/s]\n",
      "100%|██████████| 468/468 [00:06<00:00, 68.38it/s]\n",
      "100%|██████████| 78/78 [00:18<00:00,  4.19it/s]\n"
     ]
    },
    {
     "name": "stdout",
     "output_type": "stream",
     "text": [
      "bnn_classification validation accuracy: 0.9837740384615384\n"
     ]
    },
    {
     "name": "stderr",
     "output_type": "stream",
     "text": [
      "100%|██████████| 78/78 [00:01<00:00, 72.23it/s]\n"
     ]
    },
    {
     "name": "stdout",
     "output_type": "stream",
     "text": [
      "mlp_classification validation accuracy: 0.9831730769230769\n"
     ]
    },
    {
     "name": "stderr",
     "output_type": "stream",
     "text": [
      "100%|██████████| 78/78 [00:01<00:00, 72.63it/s]\n"
     ]
    },
    {
     "name": "stdout",
     "output_type": "stream",
     "text": [
      "mlp_dropout_classification validation accuracy: 0.9865785256410257\n",
      "BNN Test Error: 1.62%\n",
      "MLP Test Error: 1.68%\n",
      "MLP Dropout Test Error: 1.34%\n",
      "Epoch 99/600\n"
     ]
    },
    {
     "name": "stderr",
     "output_type": "stream",
     "text": [
      "100%|██████████| 468/468 [00:18<00:00, 25.70it/s]\n",
      "100%|██████████| 468/468 [00:06<00:00, 67.77it/s]\n",
      "100%|██████████| 468/468 [00:06<00:00, 67.97it/s]\n",
      "100%|██████████| 78/78 [00:17<00:00,  4.50it/s]\n"
     ]
    },
    {
     "name": "stdout",
     "output_type": "stream",
     "text": [
      "bnn_classification validation accuracy: 0.9823717948717948\n"
     ]
    },
    {
     "name": "stderr",
     "output_type": "stream",
     "text": [
      "100%|██████████| 78/78 [00:01<00:00, 72.21it/s]\n"
     ]
    },
    {
     "name": "stdout",
     "output_type": "stream",
     "text": [
      "mlp_classification validation accuracy: 0.9833733974358975\n"
     ]
    },
    {
     "name": "stderr",
     "output_type": "stream",
     "text": [
      "100%|██████████| 78/78 [00:01<00:00, 70.34it/s]\n"
     ]
    },
    {
     "name": "stdout",
     "output_type": "stream",
     "text": [
      "mlp_dropout_classification validation accuracy: 0.9867788461538461\n",
      "BNN Test Error: 1.76%\n",
      "MLP Test Error: 1.66%\n",
      "MLP Dropout Test Error: 1.32%\n",
      "Epoch 100/600\n"
     ]
    },
    {
     "name": "stderr",
     "output_type": "stream",
     "text": [
      "100%|██████████| 468/468 [00:17<00:00, 27.12it/s]\n",
      "100%|██████████| 468/468 [00:06<00:00, 68.56it/s]\n",
      "100%|██████████| 468/468 [00:07<00:00, 65.82it/s]\n",
      "100%|██████████| 78/78 [00:17<00:00,  4.35it/s]\n"
     ]
    },
    {
     "name": "stdout",
     "output_type": "stream",
     "text": [
      "bnn_classification validation accuracy: 0.9825721153846154\n"
     ]
    },
    {
     "name": "stderr",
     "output_type": "stream",
     "text": [
      "100%|██████████| 78/78 [00:01<00:00, 69.18it/s]\n"
     ]
    },
    {
     "name": "stdout",
     "output_type": "stream",
     "text": [
      "mlp_classification validation accuracy: 0.9833733974358975\n"
     ]
    },
    {
     "name": "stderr",
     "output_type": "stream",
     "text": [
      "100%|██████████| 78/78 [00:01<00:00, 72.13it/s]\n"
     ]
    },
    {
     "name": "stdout",
     "output_type": "stream",
     "text": [
      "mlp_dropout_classification validation accuracy: 0.9869791666666666\n",
      "BNN Test Error: 1.74%\n",
      "MLP Test Error: 1.66%\n",
      "MLP Dropout Test Error: 1.30%\n",
      "Epoch 101/600\n"
     ]
    },
    {
     "name": "stderr",
     "output_type": "stream",
     "text": [
      "100%|██████████| 468/468 [00:17<00:00, 26.48it/s]\n",
      "100%|██████████| 468/468 [00:06<00:00, 68.17it/s]\n",
      "100%|██████████| 468/468 [00:06<00:00, 67.17it/s]\n",
      "100%|██████████| 78/78 [00:17<00:00,  4.34it/s]\n"
     ]
    },
    {
     "name": "stdout",
     "output_type": "stream",
     "text": [
      "bnn_classification validation accuracy: 0.9846754807692307\n"
     ]
    },
    {
     "name": "stderr",
     "output_type": "stream",
     "text": [
      "100%|██████████| 78/78 [00:01<00:00, 70.91it/s]\n"
     ]
    },
    {
     "name": "stdout",
     "output_type": "stream",
     "text": [
      "mlp_classification validation accuracy: 0.9834735576923077\n"
     ]
    },
    {
     "name": "stderr",
     "output_type": "stream",
     "text": [
      "100%|██████████| 78/78 [00:01<00:00, 71.87it/s]\n"
     ]
    },
    {
     "name": "stdout",
     "output_type": "stream",
     "text": [
      "mlp_dropout_classification validation accuracy: 0.9868790064102564\n",
      "BNN Test Error: 1.53%\n",
      "MLP Test Error: 1.65%\n",
      "MLP Dropout Test Error: 1.31%\n",
      "Epoch 102/600\n"
     ]
    },
    {
     "name": "stderr",
     "output_type": "stream",
     "text": [
      "100%|██████████| 468/468 [00:18<00:00, 24.73it/s]\n",
      "100%|██████████| 468/468 [00:06<00:00, 69.09it/s]\n",
      "100%|██████████| 468/468 [00:07<00:00, 66.61it/s]\n",
      "100%|██████████| 78/78 [00:17<00:00,  4.42it/s]\n"
     ]
    },
    {
     "name": "stdout",
     "output_type": "stream",
     "text": [
      "bnn_classification validation accuracy: 0.9838741987179487\n"
     ]
    },
    {
     "name": "stderr",
     "output_type": "stream",
     "text": [
      "100%|██████████| 78/78 [00:01<00:00, 71.91it/s]\n"
     ]
    },
    {
     "name": "stdout",
     "output_type": "stream",
     "text": [
      "mlp_classification validation accuracy: 0.9833733974358975\n"
     ]
    },
    {
     "name": "stderr",
     "output_type": "stream",
     "text": [
      "100%|██████████| 78/78 [00:01<00:00, 71.15it/s]\n"
     ]
    },
    {
     "name": "stdout",
     "output_type": "stream",
     "text": [
      "mlp_dropout_classification validation accuracy: 0.987479967948718\n",
      "BNN Test Error: 1.61%\n",
      "MLP Test Error: 1.66%\n",
      "MLP Dropout Test Error: 1.25%\n",
      "Epoch 103/600\n"
     ]
    },
    {
     "name": "stderr",
     "output_type": "stream",
     "text": [
      "100%|██████████| 468/468 [00:18<00:00, 25.74it/s]\n",
      "100%|██████████| 468/468 [00:06<00:00, 68.30it/s]\n",
      "100%|██████████| 468/468 [00:06<00:00, 67.54it/s]\n",
      "100%|██████████| 78/78 [00:17<00:00,  4.34it/s]\n"
     ]
    },
    {
     "name": "stdout",
     "output_type": "stream",
     "text": [
      "bnn_classification validation accuracy: 0.9850761217948718\n"
     ]
    },
    {
     "name": "stderr",
     "output_type": "stream",
     "text": [
      "100%|██████████| 78/78 [00:01<00:00, 72.44it/s]\n"
     ]
    },
    {
     "name": "stdout",
     "output_type": "stream",
     "text": [
      "mlp_classification validation accuracy: 0.9832732371794872\n"
     ]
    },
    {
     "name": "stderr",
     "output_type": "stream",
     "text": [
      "100%|██████████| 78/78 [00:01<00:00, 72.61it/s]\n"
     ]
    },
    {
     "name": "stdout",
     "output_type": "stream",
     "text": [
      "mlp_dropout_classification validation accuracy: 0.9872796474358975\n",
      "BNN Test Error: 1.49%\n",
      "MLP Test Error: 1.67%\n",
      "MLP Dropout Test Error: 1.27%\n",
      "Epoch 104/600\n"
     ]
    },
    {
     "name": "stderr",
     "output_type": "stream",
     "text": [
      "100%|██████████| 468/468 [00:18<00:00, 25.25it/s]\n",
      "100%|██████████| 468/468 [00:06<00:00, 67.77it/s]\n",
      "100%|██████████| 468/468 [00:06<00:00, 67.15it/s]\n",
      "100%|██████████| 78/78 [00:18<00:00,  4.13it/s]\n"
     ]
    },
    {
     "name": "stdout",
     "output_type": "stream",
     "text": [
      "bnn_classification validation accuracy: 0.9849759615384616\n"
     ]
    },
    {
     "name": "stderr",
     "output_type": "stream",
     "text": [
      "100%|██████████| 78/78 [00:01<00:00, 68.61it/s]\n"
     ]
    },
    {
     "name": "stdout",
     "output_type": "stream",
     "text": [
      "mlp_classification validation accuracy: 0.9834735576923077\n"
     ]
    },
    {
     "name": "stderr",
     "output_type": "stream",
     "text": [
      "100%|██████████| 78/78 [00:01<00:00, 69.44it/s]\n"
     ]
    },
    {
     "name": "stdout",
     "output_type": "stream",
     "text": [
      "mlp_dropout_classification validation accuracy: 0.9875801282051282\n",
      "BNN Test Error: 1.50%\n",
      "MLP Test Error: 1.65%\n",
      "MLP Dropout Test Error: 1.24%\n",
      "Epoch 105/600\n"
     ]
    },
    {
     "name": "stderr",
     "output_type": "stream",
     "text": [
      "100%|██████████| 468/468 [00:17<00:00, 26.12it/s]\n",
      "100%|██████████| 468/468 [00:06<00:00, 68.06it/s]\n",
      "100%|██████████| 468/468 [00:07<00:00, 65.74it/s]\n",
      "100%|██████████| 78/78 [00:17<00:00,  4.44it/s]\n"
     ]
    },
    {
     "name": "stdout",
     "output_type": "stream",
     "text": [
      "bnn_classification validation accuracy: 0.9845753205128205\n"
     ]
    },
    {
     "name": "stderr",
     "output_type": "stream",
     "text": [
      "100%|██████████| 78/78 [00:01<00:00, 70.52it/s]\n"
     ]
    },
    {
     "name": "stdout",
     "output_type": "stream",
     "text": [
      "mlp_classification validation accuracy: 0.9831730769230769\n"
     ]
    },
    {
     "name": "stderr",
     "output_type": "stream",
     "text": [
      "100%|██████████| 78/78 [00:01<00:00, 72.61it/s]\n"
     ]
    },
    {
     "name": "stdout",
     "output_type": "stream",
     "text": [
      "mlp_dropout_classification validation accuracy: 0.9873798076923077\n",
      "BNN Test Error: 1.54%\n",
      "MLP Test Error: 1.68%\n",
      "MLP Dropout Test Error: 1.26%\n",
      "Epoch 106/600\n"
     ]
    },
    {
     "name": "stderr",
     "output_type": "stream",
     "text": [
      "100%|██████████| 468/468 [00:20<00:00, 23.13it/s]\n",
      "100%|██████████| 468/468 [00:06<00:00, 68.20it/s]\n",
      "100%|██████████| 468/468 [00:06<00:00, 68.22it/s]\n",
      "100%|██████████| 78/78 [00:18<00:00,  4.19it/s]\n"
     ]
    },
    {
     "name": "stdout",
     "output_type": "stream",
     "text": [
      "bnn_classification validation accuracy: 0.9848758012820513\n"
     ]
    },
    {
     "name": "stderr",
     "output_type": "stream",
     "text": [
      "100%|██████████| 78/78 [00:01<00:00, 72.81it/s]\n"
     ]
    },
    {
     "name": "stdout",
     "output_type": "stream",
     "text": [
      "mlp_classification validation accuracy: 0.9833733974358975\n"
     ]
    },
    {
     "name": "stderr",
     "output_type": "stream",
     "text": [
      "100%|██████████| 78/78 [00:01<00:00, 72.53it/s]\n"
     ]
    },
    {
     "name": "stdout",
     "output_type": "stream",
     "text": [
      "mlp_dropout_classification validation accuracy: 0.9875801282051282\n",
      "BNN Test Error: 1.51%\n",
      "MLP Test Error: 1.66%\n",
      "MLP Dropout Test Error: 1.24%\n",
      "Epoch 107/600\n"
     ]
    },
    {
     "name": "stderr",
     "output_type": "stream",
     "text": [
      "100%|██████████| 468/468 [00:18<00:00, 25.66it/s]\n",
      "100%|██████████| 468/468 [00:06<00:00, 67.94it/s]\n",
      "100%|██████████| 468/468 [00:06<00:00, 67.56it/s]\n",
      "100%|██████████| 78/78 [00:18<00:00,  4.33it/s]\n"
     ]
    },
    {
     "name": "stdout",
     "output_type": "stream",
     "text": [
      "bnn_classification validation accuracy: 0.9847756410256411\n"
     ]
    },
    {
     "name": "stderr",
     "output_type": "stream",
     "text": [
      "100%|██████████| 78/78 [00:01<00:00, 72.42it/s]\n"
     ]
    },
    {
     "name": "stdout",
     "output_type": "stream",
     "text": [
      "mlp_classification validation accuracy: 0.9832732371794872\n"
     ]
    },
    {
     "name": "stderr",
     "output_type": "stream",
     "text": [
      "100%|██████████| 78/78 [00:01<00:00, 71.75it/s]\n"
     ]
    },
    {
     "name": "stdout",
     "output_type": "stream",
     "text": [
      "mlp_dropout_classification validation accuracy: 0.9871794871794872\n",
      "BNN Test Error: 1.52%\n",
      "MLP Test Error: 1.67%\n",
      "MLP Dropout Test Error: 1.28%\n",
      "Epoch 108/600\n"
     ]
    },
    {
     "name": "stderr",
     "output_type": "stream",
     "text": [
      "100%|██████████| 468/468 [00:18<00:00, 25.09it/s]\n",
      "100%|██████████| 468/468 [00:06<00:00, 68.33it/s]\n",
      "100%|██████████| 468/468 [00:06<00:00, 67.25it/s]\n",
      "100%|██████████| 78/78 [00:17<00:00,  4.37it/s]\n"
     ]
    },
    {
     "name": "stdout",
     "output_type": "stream",
     "text": [
      "bnn_classification validation accuracy: 0.9847756410256411\n"
     ]
    },
    {
     "name": "stderr",
     "output_type": "stream",
     "text": [
      "100%|██████████| 78/78 [00:01<00:00, 72.65it/s]\n"
     ]
    },
    {
     "name": "stdout",
     "output_type": "stream",
     "text": [
      "mlp_classification validation accuracy: 0.9834735576923077\n"
     ]
    },
    {
     "name": "stderr",
     "output_type": "stream",
     "text": [
      "100%|██████████| 78/78 [00:01<00:00, 73.21it/s]\n"
     ]
    },
    {
     "name": "stdout",
     "output_type": "stream",
     "text": [
      "mlp_dropout_classification validation accuracy: 0.9875801282051282\n",
      "BNN Test Error: 1.52%\n",
      "MLP Test Error: 1.65%\n",
      "MLP Dropout Test Error: 1.24%\n",
      "Epoch 109/600\n"
     ]
    },
    {
     "name": "stderr",
     "output_type": "stream",
     "text": [
      "100%|██████████| 468/468 [00:18<00:00, 25.36it/s]\n",
      "100%|██████████| 468/468 [00:06<00:00, 69.07it/s]\n",
      "100%|██████████| 468/468 [00:06<00:00, 67.45it/s]\n",
      "100%|██████████| 78/78 [00:16<00:00,  4.59it/s]\n"
     ]
    },
    {
     "name": "stdout",
     "output_type": "stream",
     "text": [
      "bnn_classification validation accuracy: 0.9846754807692307\n"
     ]
    },
    {
     "name": "stderr",
     "output_type": "stream",
     "text": [
      "100%|██████████| 78/78 [00:01<00:00, 72.88it/s]\n"
     ]
    },
    {
     "name": "stdout",
     "output_type": "stream",
     "text": [
      "mlp_classification validation accuracy: 0.9833733974358975\n"
     ]
    },
    {
     "name": "stderr",
     "output_type": "stream",
     "text": [
      "100%|██████████| 78/78 [00:01<00:00, 71.76it/s]\n"
     ]
    },
    {
     "name": "stdout",
     "output_type": "stream",
     "text": [
      "mlp_dropout_classification validation accuracy: 0.9871794871794872\n",
      "BNN Test Error: 1.53%\n",
      "MLP Test Error: 1.66%\n",
      "MLP Dropout Test Error: 1.28%\n",
      "Epoch 110/600\n"
     ]
    },
    {
     "name": "stderr",
     "output_type": "stream",
     "text": [
      "100%|██████████| 468/468 [00:19<00:00, 23.86it/s]\n",
      "100%|██████████| 468/468 [00:06<00:00, 68.97it/s]\n",
      "100%|██████████| 468/468 [00:06<00:00, 68.13it/s]\n",
      "100%|██████████| 78/78 [00:19<00:00,  4.10it/s]\n"
     ]
    },
    {
     "name": "stdout",
     "output_type": "stream",
     "text": [
      "bnn_classification validation accuracy: 0.9850761217948718\n"
     ]
    },
    {
     "name": "stderr",
     "output_type": "stream",
     "text": [
      "100%|██████████| 78/78 [00:01<00:00, 71.39it/s]\n"
     ]
    },
    {
     "name": "stdout",
     "output_type": "stream",
     "text": [
      "mlp_classification validation accuracy: 0.9832732371794872\n"
     ]
    },
    {
     "name": "stderr",
     "output_type": "stream",
     "text": [
      "100%|██████████| 78/78 [00:01<00:00, 73.15it/s]\n"
     ]
    },
    {
     "name": "stdout",
     "output_type": "stream",
     "text": [
      "mlp_dropout_classification validation accuracy: 0.9873798076923077\n",
      "BNN Test Error: 1.49%\n",
      "MLP Test Error: 1.67%\n",
      "MLP Dropout Test Error: 1.26%\n",
      "Epoch 111/600\n"
     ]
    },
    {
     "name": "stderr",
     "output_type": "stream",
     "text": [
      "100%|██████████| 468/468 [00:17<00:00, 26.63it/s]\n",
      "100%|██████████| 468/468 [00:06<00:00, 67.86it/s]\n",
      "100%|██████████| 468/468 [00:07<00:00, 65.55it/s]\n",
      "100%|██████████| 78/78 [00:18<00:00,  4.30it/s]\n"
     ]
    },
    {
     "name": "stdout",
     "output_type": "stream",
     "text": [
      "bnn_classification validation accuracy: 0.9847756410256411\n"
     ]
    },
    {
     "name": "stderr",
     "output_type": "stream",
     "text": [
      "100%|██████████| 78/78 [00:01<00:00, 70.30it/s]\n"
     ]
    },
    {
     "name": "stdout",
     "output_type": "stream",
     "text": [
      "mlp_classification validation accuracy: 0.9833733974358975\n"
     ]
    },
    {
     "name": "stderr",
     "output_type": "stream",
     "text": [
      "100%|██████████| 78/78 [00:01<00:00, 68.71it/s]\n"
     ]
    },
    {
     "name": "stdout",
     "output_type": "stream",
     "text": [
      "mlp_dropout_classification validation accuracy: 0.9868790064102564\n",
      "BNN Test Error: 1.52%\n",
      "MLP Test Error: 1.66%\n",
      "MLP Dropout Test Error: 1.31%\n",
      "Epoch 112/600\n"
     ]
    },
    {
     "name": "stderr",
     "output_type": "stream",
     "text": [
      "100%|██████████| 468/468 [00:18<00:00, 25.67it/s]\n",
      "100%|██████████| 468/468 [00:07<00:00, 66.61it/s]\n",
      "100%|██████████| 468/468 [00:06<00:00, 67.10it/s]\n",
      "100%|██████████| 78/78 [00:19<00:00,  4.05it/s]\n"
     ]
    },
    {
     "name": "stdout",
     "output_type": "stream",
     "text": [
      "bnn_classification validation accuracy: 0.9850761217948718\n"
     ]
    },
    {
     "name": "stderr",
     "output_type": "stream",
     "text": [
      "100%|██████████| 78/78 [00:01<00:00, 72.70it/s]\n"
     ]
    },
    {
     "name": "stdout",
     "output_type": "stream",
     "text": [
      "mlp_classification validation accuracy: 0.9831730769230769\n"
     ]
    },
    {
     "name": "stderr",
     "output_type": "stream",
     "text": [
      "100%|██████████| 78/78 [00:01<00:00, 72.09it/s]\n"
     ]
    },
    {
     "name": "stdout",
     "output_type": "stream",
     "text": [
      "mlp_dropout_classification validation accuracy: 0.9870793269230769\n",
      "BNN Test Error: 1.49%\n",
      "MLP Test Error: 1.68%\n",
      "MLP Dropout Test Error: 1.29%\n",
      "Epoch 113/600\n"
     ]
    },
    {
     "name": "stderr",
     "output_type": "stream",
     "text": [
      "100%|██████████| 468/468 [00:17<00:00, 26.85it/s]\n",
      "100%|██████████| 468/468 [00:06<00:00, 68.38it/s]\n",
      "100%|██████████| 468/468 [00:06<00:00, 66.96it/s]\n",
      "100%|██████████| 78/78 [00:17<00:00,  4.37it/s]\n"
     ]
    },
    {
     "name": "stdout",
     "output_type": "stream",
     "text": [
      "bnn_classification validation accuracy: 0.9845753205128205\n"
     ]
    },
    {
     "name": "stderr",
     "output_type": "stream",
     "text": [
      "100%|██████████| 78/78 [00:01<00:00, 70.91it/s]\n"
     ]
    },
    {
     "name": "stdout",
     "output_type": "stream",
     "text": [
      "mlp_classification validation accuracy: 0.9832732371794872\n"
     ]
    },
    {
     "name": "stderr",
     "output_type": "stream",
     "text": [
      "100%|██████████| 78/78 [00:01<00:00, 70.16it/s]\n"
     ]
    },
    {
     "name": "stdout",
     "output_type": "stream",
     "text": [
      "mlp_dropout_classification validation accuracy: 0.987479967948718\n",
      "BNN Test Error: 1.54%\n",
      "MLP Test Error: 1.67%\n",
      "MLP Dropout Test Error: 1.25%\n",
      "Epoch 114/600\n"
     ]
    },
    {
     "name": "stderr",
     "output_type": "stream",
     "text": [
      "100%|██████████| 468/468 [00:17<00:00, 26.33it/s]\n",
      "100%|██████████| 468/468 [00:06<00:00, 67.02it/s]\n",
      "100%|██████████| 468/468 [00:07<00:00, 66.31it/s]\n",
      "100%|██████████| 78/78 [00:18<00:00,  4.11it/s]\n"
     ]
    },
    {
     "name": "stdout",
     "output_type": "stream",
     "text": [
      "bnn_classification validation accuracy: 0.9844751602564102\n"
     ]
    },
    {
     "name": "stderr",
     "output_type": "stream",
     "text": [
      "100%|██████████| 78/78 [00:01<00:00, 70.43it/s]\n"
     ]
    },
    {
     "name": "stdout",
     "output_type": "stream",
     "text": [
      "mlp_classification validation accuracy: 0.9832732371794872\n"
     ]
    },
    {
     "name": "stderr",
     "output_type": "stream",
     "text": [
      "100%|██████████| 78/78 [00:01<00:00, 70.86it/s]\n"
     ]
    },
    {
     "name": "stdout",
     "output_type": "stream",
     "text": [
      "mlp_dropout_classification validation accuracy: 0.9869791666666666\n",
      "BNN Test Error: 1.55%\n",
      "MLP Test Error: 1.67%\n",
      "MLP Dropout Test Error: 1.30%\n",
      "Epoch 115/600\n"
     ]
    },
    {
     "name": "stderr",
     "output_type": "stream",
     "text": [
      "100%|██████████| 468/468 [00:17<00:00, 26.59it/s]\n",
      "100%|██████████| 468/468 [00:06<00:00, 67.24it/s]\n",
      "100%|██████████| 468/468 [00:07<00:00, 66.04it/s]\n",
      "100%|██████████| 78/78 [00:17<00:00,  4.36it/s]\n"
     ]
    },
    {
     "name": "stdout",
     "output_type": "stream",
     "text": [
      "bnn_classification validation accuracy: 0.9846754807692307\n"
     ]
    },
    {
     "name": "stderr",
     "output_type": "stream",
     "text": [
      "100%|██████████| 78/78 [00:01<00:00, 72.53it/s]\n"
     ]
    },
    {
     "name": "stdout",
     "output_type": "stream",
     "text": [
      "mlp_classification validation accuracy: 0.9833733974358975\n"
     ]
    },
    {
     "name": "stderr",
     "output_type": "stream",
     "text": [
      "100%|██████████| 78/78 [00:01<00:00, 70.82it/s]\n"
     ]
    },
    {
     "name": "stdout",
     "output_type": "stream",
     "text": [
      "mlp_dropout_classification validation accuracy: 0.9867788461538461\n",
      "BNN Test Error: 1.53%\n",
      "MLP Test Error: 1.66%\n",
      "MLP Dropout Test Error: 1.32%\n",
      "Epoch 116/600\n"
     ]
    },
    {
     "name": "stderr",
     "output_type": "stream",
     "text": [
      "100%|██████████| 468/468 [00:17<00:00, 26.96it/s]\n",
      "100%|██████████| 468/468 [00:06<00:00, 67.06it/s]\n",
      "100%|██████████| 468/468 [00:07<00:00, 65.41it/s]\n",
      "100%|██████████| 78/78 [00:17<00:00,  4.38it/s]\n"
     ]
    },
    {
     "name": "stdout",
     "output_type": "stream",
     "text": [
      "bnn_classification validation accuracy: 0.9848758012820513\n"
     ]
    },
    {
     "name": "stderr",
     "output_type": "stream",
     "text": [
      "100%|██████████| 78/78 [00:01<00:00, 63.25it/s]\n"
     ]
    },
    {
     "name": "stdout",
     "output_type": "stream",
     "text": [
      "mlp_classification validation accuracy: 0.9832732371794872\n"
     ]
    },
    {
     "name": "stderr",
     "output_type": "stream",
     "text": [
      "100%|██████████| 78/78 [00:01<00:00, 70.47it/s]\n"
     ]
    },
    {
     "name": "stdout",
     "output_type": "stream",
     "text": [
      "mlp_dropout_classification validation accuracy: 0.9872796474358975\n",
      "BNN Test Error: 1.51%\n",
      "MLP Test Error: 1.67%\n",
      "MLP Dropout Test Error: 1.27%\n",
      "Epoch 117/600\n"
     ]
    },
    {
     "name": "stderr",
     "output_type": "stream",
     "text": [
      "100%|██████████| 468/468 [00:18<00:00, 25.93it/s]\n",
      "100%|██████████| 468/468 [00:06<00:00, 68.06it/s]\n",
      "100%|██████████| 468/468 [00:07<00:00, 65.68it/s]\n",
      "100%|██████████| 78/78 [00:17<00:00,  4.37it/s]\n"
     ]
    },
    {
     "name": "stdout",
     "output_type": "stream",
     "text": [
      "bnn_classification validation accuracy: 0.9849759615384616\n"
     ]
    },
    {
     "name": "stderr",
     "output_type": "stream",
     "text": [
      "100%|██████████| 78/78 [00:01<00:00, 71.39it/s]\n"
     ]
    },
    {
     "name": "stdout",
     "output_type": "stream",
     "text": [
      "mlp_classification validation accuracy: 0.9833733974358975\n"
     ]
    },
    {
     "name": "stderr",
     "output_type": "stream",
     "text": [
      "100%|██████████| 78/78 [00:01<00:00, 71.10it/s]\n"
     ]
    },
    {
     "name": "stdout",
     "output_type": "stream",
     "text": [
      "mlp_dropout_classification validation accuracy: 0.9869791666666666\n",
      "BNN Test Error: 1.50%\n",
      "MLP Test Error: 1.66%\n",
      "MLP Dropout Test Error: 1.30%\n",
      "Epoch 118/600\n"
     ]
    },
    {
     "name": "stderr",
     "output_type": "stream",
     "text": [
      "100%|██████████| 468/468 [00:18<00:00, 25.51it/s]\n",
      "100%|██████████| 468/468 [00:06<00:00, 67.67it/s]\n",
      "100%|██████████| 468/468 [00:06<00:00, 67.32it/s]\n",
      "100%|██████████| 78/78 [00:18<00:00,  4.31it/s]\n"
     ]
    },
    {
     "name": "stdout",
     "output_type": "stream",
     "text": [
      "bnn_classification validation accuracy: 0.9846754807692307\n"
     ]
    },
    {
     "name": "stderr",
     "output_type": "stream",
     "text": [
      "100%|██████████| 78/78 [00:01<00:00, 66.95it/s]\n"
     ]
    },
    {
     "name": "stdout",
     "output_type": "stream",
     "text": [
      "mlp_classification validation accuracy: 0.9834735576923077\n"
     ]
    },
    {
     "name": "stderr",
     "output_type": "stream",
     "text": [
      "100%|██████████| 78/78 [00:01<00:00, 71.86it/s]\n"
     ]
    },
    {
     "name": "stdout",
     "output_type": "stream",
     "text": [
      "mlp_dropout_classification validation accuracy: 0.9871794871794872\n",
      "BNN Test Error: 1.53%\n",
      "MLP Test Error: 1.65%\n",
      "MLP Dropout Test Error: 1.28%\n",
      "Epoch 119/600\n"
     ]
    },
    {
     "name": "stderr",
     "output_type": "stream",
     "text": [
      "100%|██████████| 468/468 [00:17<00:00, 26.76it/s]\n",
      "100%|██████████| 468/468 [00:07<00:00, 65.82it/s]\n",
      "100%|██████████| 468/468 [00:06<00:00, 67.47it/s]\n",
      "100%|██████████| 78/78 [00:18<00:00,  4.25it/s]\n"
     ]
    },
    {
     "name": "stdout",
     "output_type": "stream",
     "text": [
      "bnn_classification validation accuracy: 0.9849759615384616\n"
     ]
    },
    {
     "name": "stderr",
     "output_type": "stream",
     "text": [
      "100%|██████████| 78/78 [00:01<00:00, 67.40it/s]\n"
     ]
    },
    {
     "name": "stdout",
     "output_type": "stream",
     "text": [
      "mlp_classification validation accuracy: 0.9833733974358975\n"
     ]
    },
    {
     "name": "stderr",
     "output_type": "stream",
     "text": [
      "100%|██████████| 78/78 [00:01<00:00, 67.18it/s]\n"
     ]
    },
    {
     "name": "stdout",
     "output_type": "stream",
     "text": [
      "mlp_dropout_classification validation accuracy: 0.987479967948718\n",
      "BNN Test Error: 1.50%\n",
      "MLP Test Error: 1.66%\n",
      "MLP Dropout Test Error: 1.25%\n",
      "Epoch 120/600\n"
     ]
    },
    {
     "name": "stderr",
     "output_type": "stream",
     "text": [
      "100%|██████████| 468/468 [00:18<00:00, 25.82it/s]\n",
      "100%|██████████| 468/468 [00:06<00:00, 67.39it/s]\n",
      "100%|██████████| 468/468 [00:07<00:00, 64.37it/s]\n",
      "100%|██████████| 78/78 [00:17<00:00,  4.38it/s]\n"
     ]
    },
    {
     "name": "stdout",
     "output_type": "stream",
     "text": [
      "bnn_classification validation accuracy: 0.9850761217948718\n"
     ]
    },
    {
     "name": "stderr",
     "output_type": "stream",
     "text": [
      "100%|██████████| 78/78 [00:01<00:00, 67.99it/s]\n"
     ]
    },
    {
     "name": "stdout",
     "output_type": "stream",
     "text": [
      "mlp_classification validation accuracy: 0.9833733974358975\n"
     ]
    },
    {
     "name": "stderr",
     "output_type": "stream",
     "text": [
      "100%|██████████| 78/78 [00:01<00:00, 70.47it/s]\n"
     ]
    },
    {
     "name": "stdout",
     "output_type": "stream",
     "text": [
      "mlp_dropout_classification validation accuracy: 0.9873798076923077\n",
      "BNN Test Error: 1.49%\n",
      "MLP Test Error: 1.66%\n",
      "MLP Dropout Test Error: 1.26%\n",
      "Epoch 121/600\n"
     ]
    },
    {
     "name": "stderr",
     "output_type": "stream",
     "text": [
      "100%|██████████| 468/468 [00:17<00:00, 26.21it/s]\n",
      "100%|██████████| 468/468 [00:07<00:00, 66.44it/s]\n",
      "100%|██████████| 468/468 [00:07<00:00, 66.16it/s]\n",
      "100%|██████████| 78/78 [00:18<00:00,  4.30it/s]\n"
     ]
    },
    {
     "name": "stdout",
     "output_type": "stream",
     "text": [
      "bnn_classification validation accuracy: 0.9847756410256411\n"
     ]
    },
    {
     "name": "stderr",
     "output_type": "stream",
     "text": [
      "100%|██████████| 78/78 [00:01<00:00, 72.25it/s]\n"
     ]
    },
    {
     "name": "stdout",
     "output_type": "stream",
     "text": [
      "mlp_classification validation accuracy: 0.9833733974358975\n"
     ]
    },
    {
     "name": "stderr",
     "output_type": "stream",
     "text": [
      "100%|██████████| 78/78 [00:01<00:00, 71.43it/s]\n"
     ]
    },
    {
     "name": "stdout",
     "output_type": "stream",
     "text": [
      "mlp_dropout_classification validation accuracy: 0.9870793269230769\n",
      "BNN Test Error: 1.52%\n",
      "MLP Test Error: 1.66%\n",
      "MLP Dropout Test Error: 1.29%\n",
      "Epoch 122/600\n"
     ]
    },
    {
     "name": "stderr",
     "output_type": "stream",
     "text": [
      "100%|██████████| 468/468 [00:17<00:00, 26.85it/s]\n",
      "100%|██████████| 468/468 [00:06<00:00, 66.94it/s]\n",
      "100%|██████████| 468/468 [00:06<00:00, 68.04it/s]\n",
      "100%|██████████| 78/78 [00:18<00:00,  4.24it/s]\n"
     ]
    },
    {
     "name": "stdout",
     "output_type": "stream",
     "text": [
      "bnn_classification validation accuracy: 0.9849759615384616\n"
     ]
    },
    {
     "name": "stderr",
     "output_type": "stream",
     "text": [
      "100%|██████████| 78/78 [00:01<00:00, 72.66it/s]\n"
     ]
    },
    {
     "name": "stdout",
     "output_type": "stream",
     "text": [
      "mlp_classification validation accuracy: 0.9833733974358975\n"
     ]
    },
    {
     "name": "stderr",
     "output_type": "stream",
     "text": [
      "100%|██████████| 78/78 [00:01<00:00, 73.18it/s]\n"
     ]
    },
    {
     "name": "stdout",
     "output_type": "stream",
     "text": [
      "mlp_dropout_classification validation accuracy: 0.9876802884615384\n",
      "BNN Test Error: 1.50%\n",
      "MLP Test Error: 1.66%\n",
      "MLP Dropout Test Error: 1.23%\n",
      "Epoch 123/600\n"
     ]
    },
    {
     "name": "stderr",
     "output_type": "stream",
     "text": [
      "100%|██████████| 468/468 [00:17<00:00, 26.08it/s]\n",
      "100%|██████████| 468/468 [00:06<00:00, 67.44it/s]\n",
      "100%|██████████| 468/468 [00:06<00:00, 68.01it/s]\n",
      "100%|██████████| 78/78 [00:18<00:00,  4.32it/s]\n"
     ]
    },
    {
     "name": "stdout",
     "output_type": "stream",
     "text": [
      "bnn_classification validation accuracy: 0.9850761217948718\n"
     ]
    },
    {
     "name": "stderr",
     "output_type": "stream",
     "text": [
      "100%|██████████| 78/78 [00:01<00:00, 71.46it/s]\n"
     ]
    },
    {
     "name": "stdout",
     "output_type": "stream",
     "text": [
      "mlp_classification validation accuracy: 0.9833733974358975\n"
     ]
    },
    {
     "name": "stderr",
     "output_type": "stream",
     "text": [
      "100%|██████████| 78/78 [00:01<00:00, 69.11it/s]\n"
     ]
    },
    {
     "name": "stdout",
     "output_type": "stream",
     "text": [
      "mlp_dropout_classification validation accuracy: 0.9872796474358975\n",
      "BNN Test Error: 1.49%\n",
      "MLP Test Error: 1.66%\n",
      "MLP Dropout Test Error: 1.27%\n",
      "Epoch 124/600\n"
     ]
    },
    {
     "name": "stderr",
     "output_type": "stream",
     "text": [
      "100%|██████████| 468/468 [00:18<00:00, 25.21it/s]\n",
      "100%|██████████| 468/468 [00:06<00:00, 68.43it/s]\n",
      "100%|██████████| 468/468 [00:06<00:00, 67.69it/s]\n",
      "100%|██████████| 78/78 [00:18<00:00,  4.27it/s]\n"
     ]
    },
    {
     "name": "stdout",
     "output_type": "stream",
     "text": [
      "bnn_classification validation accuracy: 0.9849759615384616\n"
     ]
    },
    {
     "name": "stderr",
     "output_type": "stream",
     "text": [
      "100%|██████████| 78/78 [00:01<00:00, 72.20it/s]\n"
     ]
    },
    {
     "name": "stdout",
     "output_type": "stream",
     "text": [
      "mlp_classification validation accuracy: 0.9831730769230769\n"
     ]
    },
    {
     "name": "stderr",
     "output_type": "stream",
     "text": [
      "100%|██████████| 78/78 [00:01<00:00, 69.54it/s]\n"
     ]
    },
    {
     "name": "stdout",
     "output_type": "stream",
     "text": [
      "mlp_dropout_classification validation accuracy: 0.9876802884615384\n",
      "BNN Test Error: 1.50%\n",
      "MLP Test Error: 1.68%\n",
      "MLP Dropout Test Error: 1.23%\n",
      "Epoch 125/600\n"
     ]
    },
    {
     "name": "stderr",
     "output_type": "stream",
     "text": [
      "100%|██████████| 468/468 [00:17<00:00, 26.38it/s]\n",
      "100%|██████████| 468/468 [00:06<00:00, 67.89it/s]\n",
      "100%|██████████| 468/468 [00:06<00:00, 68.43it/s]\n",
      "100%|██████████| 78/78 [00:18<00:00,  4.20it/s]\n"
     ]
    },
    {
     "name": "stdout",
     "output_type": "stream",
     "text": [
      "bnn_classification validation accuracy: 0.9849759615384616\n"
     ]
    },
    {
     "name": "stderr",
     "output_type": "stream",
     "text": [
      "100%|██████████| 78/78 [00:01<00:00, 73.14it/s]\n"
     ]
    },
    {
     "name": "stdout",
     "output_type": "stream",
     "text": [
      "mlp_classification validation accuracy: 0.9834735576923077\n"
     ]
    },
    {
     "name": "stderr",
     "output_type": "stream",
     "text": [
      "100%|██████████| 78/78 [00:01<00:00, 73.99it/s]\n"
     ]
    },
    {
     "name": "stdout",
     "output_type": "stream",
     "text": [
      "mlp_dropout_classification validation accuracy: 0.9872796474358975\n",
      "BNN Test Error: 1.50%\n",
      "MLP Test Error: 1.65%\n",
      "MLP Dropout Test Error: 1.27%\n",
      "Epoch 126/600\n"
     ]
    },
    {
     "name": "stderr",
     "output_type": "stream",
     "text": [
      "100%|██████████| 468/468 [00:17<00:00, 27.06it/s]\n",
      "100%|██████████| 468/468 [00:06<00:00, 69.83it/s]\n",
      "100%|██████████| 468/468 [00:06<00:00, 67.29it/s]\n",
      "100%|██████████| 78/78 [00:18<00:00,  4.33it/s]\n"
     ]
    },
    {
     "name": "stdout",
     "output_type": "stream",
     "text": [
      "bnn_classification validation accuracy: 0.9848758012820513\n"
     ]
    },
    {
     "name": "stderr",
     "output_type": "stream",
     "text": [
      "100%|██████████| 78/78 [00:01<00:00, 72.55it/s]\n"
     ]
    },
    {
     "name": "stdout",
     "output_type": "stream",
     "text": [
      "mlp_classification validation accuracy: 0.9833733974358975\n"
     ]
    },
    {
     "name": "stderr",
     "output_type": "stream",
     "text": [
      "100%|██████████| 78/78 [00:01<00:00, 73.15it/s]\n"
     ]
    },
    {
     "name": "stdout",
     "output_type": "stream",
     "text": [
      "mlp_dropout_classification validation accuracy: 0.987479967948718\n",
      "BNN Test Error: 1.51%\n",
      "MLP Test Error: 1.66%\n",
      "MLP Dropout Test Error: 1.25%\n",
      "Epoch 127/600\n"
     ]
    },
    {
     "name": "stderr",
     "output_type": "stream",
     "text": [
      "100%|██████████| 468/468 [00:18<00:00, 25.43it/s]\n",
      "100%|██████████| 468/468 [00:06<00:00, 68.40it/s]\n",
      "100%|██████████| 468/468 [00:06<00:00, 67.98it/s]\n",
      "100%|██████████| 78/78 [00:17<00:00,  4.35it/s]\n"
     ]
    },
    {
     "name": "stdout",
     "output_type": "stream",
     "text": [
      "bnn_classification validation accuracy: 0.9848758012820513\n"
     ]
    },
    {
     "name": "stderr",
     "output_type": "stream",
     "text": [
      "100%|██████████| 78/78 [00:01<00:00, 71.08it/s]\n"
     ]
    },
    {
     "name": "stdout",
     "output_type": "stream",
     "text": [
      "mlp_classification validation accuracy: 0.9834735576923077\n"
     ]
    },
    {
     "name": "stderr",
     "output_type": "stream",
     "text": [
      "100%|██████████| 78/78 [00:01<00:00, 72.90it/s]\n"
     ]
    },
    {
     "name": "stdout",
     "output_type": "stream",
     "text": [
      "mlp_dropout_classification validation accuracy: 0.9871794871794872\n",
      "BNN Test Error: 1.51%\n",
      "MLP Test Error: 1.65%\n",
      "MLP Dropout Test Error: 1.28%\n",
      "Epoch 128/600\n"
     ]
    },
    {
     "name": "stderr",
     "output_type": "stream",
     "text": [
      "100%|██████████| 468/468 [00:17<00:00, 26.92it/s]\n",
      "100%|██████████| 468/468 [00:06<00:00, 67.75it/s]\n",
      "100%|██████████| 468/468 [00:06<00:00, 67.06it/s]\n",
      "100%|██████████| 78/78 [00:17<00:00,  4.42it/s]\n"
     ]
    },
    {
     "name": "stdout",
     "output_type": "stream",
     "text": [
      "bnn_classification validation accuracy: 0.9852764423076923\n"
     ]
    },
    {
     "name": "stderr",
     "output_type": "stream",
     "text": [
      "100%|██████████| 78/78 [00:01<00:00, 72.47it/s]\n"
     ]
    },
    {
     "name": "stdout",
     "output_type": "stream",
     "text": [
      "mlp_classification validation accuracy: 0.9832732371794872\n"
     ]
    },
    {
     "name": "stderr",
     "output_type": "stream",
     "text": [
      "100%|██████████| 78/78 [00:01<00:00, 71.91it/s]\n"
     ]
    },
    {
     "name": "stdout",
     "output_type": "stream",
     "text": [
      "mlp_dropout_classification validation accuracy: 0.9872796474358975\n",
      "BNN Test Error: 1.47%\n",
      "MLP Test Error: 1.67%\n",
      "MLP Dropout Test Error: 1.27%\n",
      "Epoch 129/600\n"
     ]
    },
    {
     "name": "stderr",
     "output_type": "stream",
     "text": [
      "100%|██████████| 468/468 [00:17<00:00, 27.03it/s]\n",
      "100%|██████████| 468/468 [00:06<00:00, 69.10it/s]\n",
      "100%|██████████| 468/468 [00:06<00:00, 69.20it/s]\n",
      "100%|██████████| 78/78 [00:19<00:00,  4.08it/s]\n"
     ]
    },
    {
     "name": "stdout",
     "output_type": "stream",
     "text": [
      "bnn_classification validation accuracy: 0.9852764423076923\n"
     ]
    },
    {
     "name": "stderr",
     "output_type": "stream",
     "text": [
      "100%|██████████| 78/78 [00:01<00:00, 71.80it/s]\n"
     ]
    },
    {
     "name": "stdout",
     "output_type": "stream",
     "text": [
      "mlp_classification validation accuracy: 0.9833733974358975\n"
     ]
    },
    {
     "name": "stderr",
     "output_type": "stream",
     "text": [
      "100%|██████████| 78/78 [00:01<00:00, 72.59it/s]\n"
     ]
    },
    {
     "name": "stdout",
     "output_type": "stream",
     "text": [
      "mlp_dropout_classification validation accuracy: 0.9871794871794872\n",
      "BNN Test Error: 1.47%\n",
      "MLP Test Error: 1.66%\n",
      "MLP Dropout Test Error: 1.28%\n",
      "Epoch 130/600\n"
     ]
    },
    {
     "name": "stderr",
     "output_type": "stream",
     "text": [
      "100%|██████████| 468/468 [00:17<00:00, 26.35it/s]\n",
      "100%|██████████| 468/468 [00:06<00:00, 69.16it/s]\n",
      "100%|██████████| 468/468 [00:06<00:00, 68.24it/s]\n",
      "100%|██████████| 78/78 [00:18<00:00,  4.17it/s]\n"
     ]
    },
    {
     "name": "stdout",
     "output_type": "stream",
     "text": [
      "bnn_classification validation accuracy: 0.9850761217948718\n"
     ]
    },
    {
     "name": "stderr",
     "output_type": "stream",
     "text": [
      "100%|██████████| 78/78 [00:01<00:00, 67.62it/s]\n"
     ]
    },
    {
     "name": "stdout",
     "output_type": "stream",
     "text": [
      "mlp_classification validation accuracy: 0.9833733974358975\n"
     ]
    },
    {
     "name": "stderr",
     "output_type": "stream",
     "text": [
      "100%|██████████| 78/78 [00:01<00:00, 72.79it/s]\n"
     ]
    },
    {
     "name": "stdout",
     "output_type": "stream",
     "text": [
      "mlp_dropout_classification validation accuracy: 0.9876802884615384\n",
      "BNN Test Error: 1.49%\n",
      "MLP Test Error: 1.66%\n",
      "MLP Dropout Test Error: 1.23%\n",
      "Epoch 131/600\n"
     ]
    },
    {
     "name": "stderr",
     "output_type": "stream",
     "text": [
      "100%|██████████| 468/468 [00:16<00:00, 27.55it/s]\n",
      "100%|██████████| 468/468 [00:06<00:00, 68.28it/s]\n",
      "100%|██████████| 468/468 [00:07<00:00, 66.45it/s]\n",
      "100%|██████████| 78/78 [00:17<00:00,  4.54it/s]\n"
     ]
    },
    {
     "name": "stdout",
     "output_type": "stream",
     "text": [
      "bnn_classification validation accuracy: 0.9850761217948718\n"
     ]
    },
    {
     "name": "stderr",
     "output_type": "stream",
     "text": [
      "100%|██████████| 78/78 [00:01<00:00, 70.34it/s]\n"
     ]
    },
    {
     "name": "stdout",
     "output_type": "stream",
     "text": [
      "mlp_classification validation accuracy: 0.9833733974358975\n"
     ]
    },
    {
     "name": "stderr",
     "output_type": "stream",
     "text": [
      "100%|██████████| 78/78 [00:01<00:00, 70.85it/s]\n"
     ]
    },
    {
     "name": "stdout",
     "output_type": "stream",
     "text": [
      "mlp_dropout_classification validation accuracy: 0.9877804487179487\n",
      "BNN Test Error: 1.49%\n",
      "MLP Test Error: 1.66%\n",
      "MLP Dropout Test Error: 1.22%\n",
      "Epoch 132/600\n"
     ]
    },
    {
     "name": "stderr",
     "output_type": "stream",
     "text": [
      "100%|██████████| 468/468 [00:17<00:00, 26.52it/s]\n",
      "100%|██████████| 468/468 [00:06<00:00, 68.83it/s]\n",
      "100%|██████████| 468/468 [00:06<00:00, 66.95it/s]\n",
      "100%|██████████| 78/78 [00:18<00:00,  4.31it/s]\n"
     ]
    },
    {
     "name": "stdout",
     "output_type": "stream",
     "text": [
      "bnn_classification validation accuracy: 0.9849759615384616\n"
     ]
    },
    {
     "name": "stderr",
     "output_type": "stream",
     "text": [
      "100%|██████████| 78/78 [00:01<00:00, 72.46it/s]\n"
     ]
    },
    {
     "name": "stdout",
     "output_type": "stream",
     "text": [
      "mlp_classification validation accuracy: 0.9833733974358975\n"
     ]
    },
    {
     "name": "stderr",
     "output_type": "stream",
     "text": [
      "100%|██████████| 78/78 [00:01<00:00, 72.53it/s]\n"
     ]
    },
    {
     "name": "stdout",
     "output_type": "stream",
     "text": [
      "mlp_dropout_classification validation accuracy: 0.987479967948718\n",
      "BNN Test Error: 1.50%\n",
      "MLP Test Error: 1.66%\n",
      "MLP Dropout Test Error: 1.25%\n",
      "Epoch 133/600\n"
     ]
    },
    {
     "name": "stderr",
     "output_type": "stream",
     "text": [
      "100%|██████████| 468/468 [00:17<00:00, 26.72it/s]\n",
      "100%|██████████| 468/468 [00:06<00:00, 66.99it/s]\n",
      "100%|██████████| 468/468 [00:07<00:00, 66.45it/s]\n",
      "100%|██████████| 78/78 [00:17<00:00,  4.54it/s]\n"
     ]
    },
    {
     "name": "stdout",
     "output_type": "stream",
     "text": [
      "bnn_classification validation accuracy: 0.9853766025641025\n"
     ]
    },
    {
     "name": "stderr",
     "output_type": "stream",
     "text": [
      "100%|██████████| 78/78 [00:01<00:00, 71.96it/s]\n"
     ]
    },
    {
     "name": "stdout",
     "output_type": "stream",
     "text": [
      "mlp_classification validation accuracy: 0.9833733974358975\n"
     ]
    },
    {
     "name": "stderr",
     "output_type": "stream",
     "text": [
      "100%|██████████| 78/78 [00:01<00:00, 72.53it/s]\n"
     ]
    },
    {
     "name": "stdout",
     "output_type": "stream",
     "text": [
      "mlp_dropout_classification validation accuracy: 0.9876802884615384\n",
      "BNN Test Error: 1.46%\n",
      "MLP Test Error: 1.66%\n",
      "MLP Dropout Test Error: 1.23%\n",
      "Epoch 134/600\n"
     ]
    },
    {
     "name": "stderr",
     "output_type": "stream",
     "text": [
      "100%|██████████| 468/468 [00:17<00:00, 26.94it/s]\n",
      "100%|██████████| 468/468 [00:06<00:00, 70.00it/s]\n",
      "100%|██████████| 468/468 [00:06<00:00, 67.60it/s]\n",
      "100%|██████████| 78/78 [00:17<00:00,  4.43it/s]\n"
     ]
    },
    {
     "name": "stdout",
     "output_type": "stream",
     "text": [
      "bnn_classification validation accuracy: 0.9854767628205128\n"
     ]
    },
    {
     "name": "stderr",
     "output_type": "stream",
     "text": [
      "100%|██████████| 78/78 [00:01<00:00, 73.52it/s]\n"
     ]
    },
    {
     "name": "stdout",
     "output_type": "stream",
     "text": [
      "mlp_classification validation accuracy: 0.9834735576923077\n"
     ]
    },
    {
     "name": "stderr",
     "output_type": "stream",
     "text": [
      "100%|██████████| 78/78 [00:01<00:00, 72.32it/s]\n"
     ]
    },
    {
     "name": "stdout",
     "output_type": "stream",
     "text": [
      "mlp_dropout_classification validation accuracy: 0.9878806089743589\n",
      "BNN Test Error: 1.45%\n",
      "MLP Test Error: 1.65%\n",
      "MLP Dropout Test Error: 1.21%\n",
      "Epoch 135/600\n"
     ]
    },
    {
     "name": "stderr",
     "output_type": "stream",
     "text": [
      "100%|██████████| 468/468 [00:17<00:00, 26.64it/s]\n",
      "100%|██████████| 468/468 [00:06<00:00, 69.01it/s]\n",
      "100%|██████████| 468/468 [00:06<00:00, 67.69it/s]\n",
      "100%|██████████| 78/78 [00:18<00:00,  4.23it/s]\n"
     ]
    },
    {
     "name": "stdout",
     "output_type": "stream",
     "text": [
      "bnn_classification validation accuracy: 0.9849759615384616\n"
     ]
    },
    {
     "name": "stderr",
     "output_type": "stream",
     "text": [
      "100%|██████████| 78/78 [00:01<00:00, 73.54it/s]\n"
     ]
    },
    {
     "name": "stdout",
     "output_type": "stream",
     "text": [
      "mlp_classification validation accuracy: 0.9833733974358975\n"
     ]
    },
    {
     "name": "stderr",
     "output_type": "stream",
     "text": [
      "100%|██████████| 78/78 [00:01<00:00, 72.74it/s]\n"
     ]
    },
    {
     "name": "stdout",
     "output_type": "stream",
     "text": [
      "mlp_dropout_classification validation accuracy: 0.9873798076923077\n",
      "BNN Test Error: 1.50%\n",
      "MLP Test Error: 1.66%\n",
      "MLP Dropout Test Error: 1.26%\n",
      "Epoch 136/600\n"
     ]
    },
    {
     "name": "stderr",
     "output_type": "stream",
     "text": [
      "100%|██████████| 468/468 [00:17<00:00, 26.43it/s]\n",
      "100%|██████████| 468/468 [00:06<00:00, 68.60it/s]\n",
      "100%|██████████| 468/468 [00:06<00:00, 67.47it/s]\n",
      "100%|██████████| 78/78 [00:16<00:00,  4.61it/s]\n"
     ]
    },
    {
     "name": "stdout",
     "output_type": "stream",
     "text": [
      "bnn_classification validation accuracy: 0.985176282051282\n"
     ]
    },
    {
     "name": "stderr",
     "output_type": "stream",
     "text": [
      "100%|██████████| 78/78 [00:01<00:00, 71.94it/s]\n"
     ]
    },
    {
     "name": "stdout",
     "output_type": "stream",
     "text": [
      "mlp_classification validation accuracy: 0.9833733974358975\n"
     ]
    },
    {
     "name": "stderr",
     "output_type": "stream",
     "text": [
      "100%|██████████| 78/78 [00:01<00:00, 72.69it/s]\n"
     ]
    },
    {
     "name": "stdout",
     "output_type": "stream",
     "text": [
      "mlp_dropout_classification validation accuracy: 0.9869791666666666\n",
      "BNN Test Error: 1.48%\n",
      "MLP Test Error: 1.66%\n",
      "MLP Dropout Test Error: 1.30%\n",
      "Epoch 137/600\n"
     ]
    },
    {
     "name": "stderr",
     "output_type": "stream",
     "text": [
      "100%|██████████| 468/468 [00:17<00:00, 26.73it/s]\n",
      "100%|██████████| 468/468 [00:06<00:00, 68.10it/s]\n",
      "100%|██████████| 468/468 [00:06<00:00, 67.90it/s]\n",
      "100%|██████████| 78/78 [00:17<00:00,  4.33it/s]\n"
     ]
    },
    {
     "name": "stdout",
     "output_type": "stream",
     "text": [
      "bnn_classification validation accuracy: 0.9853766025641025\n"
     ]
    },
    {
     "name": "stderr",
     "output_type": "stream",
     "text": [
      "100%|██████████| 78/78 [00:01<00:00, 74.22it/s]\n"
     ]
    },
    {
     "name": "stdout",
     "output_type": "stream",
     "text": [
      "mlp_classification validation accuracy: 0.9834735576923077\n"
     ]
    },
    {
     "name": "stderr",
     "output_type": "stream",
     "text": [
      "100%|██████████| 78/78 [00:01<00:00, 70.98it/s]\n"
     ]
    },
    {
     "name": "stdout",
     "output_type": "stream",
     "text": [
      "mlp_dropout_classification validation accuracy: 0.9876802884615384\n",
      "BNN Test Error: 1.46%\n",
      "MLP Test Error: 1.65%\n",
      "MLP Dropout Test Error: 1.23%\n",
      "Epoch 138/600\n"
     ]
    },
    {
     "name": "stderr",
     "output_type": "stream",
     "text": [
      "100%|██████████| 468/468 [00:17<00:00, 27.09it/s]\n",
      "100%|██████████| 468/468 [00:06<00:00, 67.48it/s]\n",
      "100%|██████████| 468/468 [00:06<00:00, 68.35it/s]\n",
      "100%|██████████| 78/78 [00:17<00:00,  4.36it/s]\n"
     ]
    },
    {
     "name": "stdout",
     "output_type": "stream",
     "text": [
      "bnn_classification validation accuracy: 0.9853766025641025\n"
     ]
    },
    {
     "name": "stderr",
     "output_type": "stream",
     "text": [
      "100%|██████████| 78/78 [00:01<00:00, 73.29it/s]\n"
     ]
    },
    {
     "name": "stdout",
     "output_type": "stream",
     "text": [
      "mlp_classification validation accuracy: 0.9833733974358975\n"
     ]
    },
    {
     "name": "stderr",
     "output_type": "stream",
     "text": [
      "100%|██████████| 78/78 [00:01<00:00, 65.06it/s]\n"
     ]
    },
    {
     "name": "stdout",
     "output_type": "stream",
     "text": [
      "mlp_dropout_classification validation accuracy: 0.9872796474358975\n",
      "BNN Test Error: 1.46%\n",
      "MLP Test Error: 1.66%\n",
      "MLP Dropout Test Error: 1.27%\n",
      "Epoch 139/600\n"
     ]
    },
    {
     "name": "stderr",
     "output_type": "stream",
     "text": [
      "100%|██████████| 468/468 [00:17<00:00, 26.81it/s]\n",
      "100%|██████████| 468/468 [00:06<00:00, 68.52it/s]\n",
      "100%|██████████| 468/468 [00:07<00:00, 65.98it/s]\n",
      "100%|██████████| 78/78 [00:17<00:00,  4.35it/s]\n"
     ]
    },
    {
     "name": "stdout",
     "output_type": "stream",
     "text": [
      "bnn_classification validation accuracy: 0.9852764423076923\n"
     ]
    },
    {
     "name": "stderr",
     "output_type": "stream",
     "text": [
      "100%|██████████| 78/78 [00:01<00:00, 66.99it/s]\n"
     ]
    },
    {
     "name": "stdout",
     "output_type": "stream",
     "text": [
      "mlp_classification validation accuracy: 0.9833733974358975\n"
     ]
    },
    {
     "name": "stderr",
     "output_type": "stream",
     "text": [
      "100%|██████████| 78/78 [00:01<00:00, 70.83it/s]\n"
     ]
    },
    {
     "name": "stdout",
     "output_type": "stream",
     "text": [
      "mlp_dropout_classification validation accuracy: 0.9871794871794872\n",
      "BNN Test Error: 1.47%\n",
      "MLP Test Error: 1.66%\n",
      "MLP Dropout Test Error: 1.28%\n",
      "Epoch 140/600\n"
     ]
    },
    {
     "name": "stderr",
     "output_type": "stream",
     "text": [
      "100%|██████████| 468/468 [00:18<00:00, 25.87it/s]\n",
      "100%|██████████| 468/468 [00:06<00:00, 68.71it/s]\n",
      "100%|██████████| 468/468 [00:07<00:00, 66.17it/s]\n",
      "100%|██████████| 78/78 [00:18<00:00,  4.12it/s]\n"
     ]
    },
    {
     "name": "stdout",
     "output_type": "stream",
     "text": [
      "bnn_classification validation accuracy: 0.9854767628205128\n"
     ]
    },
    {
     "name": "stderr",
     "output_type": "stream",
     "text": [
      "100%|██████████| 78/78 [00:01<00:00, 73.15it/s]\n"
     ]
    },
    {
     "name": "stdout",
     "output_type": "stream",
     "text": [
      "mlp_classification validation accuracy: 0.9833733974358975\n"
     ]
    },
    {
     "name": "stderr",
     "output_type": "stream",
     "text": [
      "100%|██████████| 78/78 [00:01<00:00, 73.01it/s]\n"
     ]
    },
    {
     "name": "stdout",
     "output_type": "stream",
     "text": [
      "mlp_dropout_classification validation accuracy: 0.9875801282051282\n",
      "BNN Test Error: 1.45%\n",
      "MLP Test Error: 1.66%\n",
      "MLP Dropout Test Error: 1.24%\n",
      "Epoch 141/600\n"
     ]
    },
    {
     "name": "stderr",
     "output_type": "stream",
     "text": [
      "100%|██████████| 468/468 [00:18<00:00, 25.79it/s]\n",
      "100%|██████████| 468/468 [00:06<00:00, 67.44it/s]\n",
      "100%|██████████| 468/468 [00:06<00:00, 68.11it/s]\n",
      "100%|██████████| 78/78 [00:18<00:00,  4.29it/s]\n"
     ]
    },
    {
     "name": "stdout",
     "output_type": "stream",
     "text": [
      "bnn_classification validation accuracy: 0.9854767628205128\n"
     ]
    },
    {
     "name": "stderr",
     "output_type": "stream",
     "text": [
      "100%|██████████| 78/78 [00:01<00:00, 72.15it/s]\n"
     ]
    },
    {
     "name": "stdout",
     "output_type": "stream",
     "text": [
      "mlp_classification validation accuracy: 0.9833733974358975\n"
     ]
    },
    {
     "name": "stderr",
     "output_type": "stream",
     "text": [
      "100%|██████████| 78/78 [00:01<00:00, 70.93it/s]\n"
     ]
    },
    {
     "name": "stdout",
     "output_type": "stream",
     "text": [
      "mlp_dropout_classification validation accuracy: 0.9872796474358975\n",
      "BNN Test Error: 1.45%\n",
      "MLP Test Error: 1.66%\n",
      "MLP Dropout Test Error: 1.27%\n",
      "Epoch 142/600\n"
     ]
    },
    {
     "name": "stderr",
     "output_type": "stream",
     "text": [
      "100%|██████████| 468/468 [00:17<00:00, 26.35it/s]\n",
      "100%|██████████| 468/468 [00:06<00:00, 68.07it/s]\n",
      "100%|██████████| 468/468 [00:06<00:00, 68.02it/s]\n",
      "100%|██████████| 78/78 [00:18<00:00,  4.16it/s]\n"
     ]
    },
    {
     "name": "stdout",
     "output_type": "stream",
     "text": [
      "bnn_classification validation accuracy: 0.985176282051282\n"
     ]
    },
    {
     "name": "stderr",
     "output_type": "stream",
     "text": [
      "100%|██████████| 78/78 [00:01<00:00, 69.77it/s]\n"
     ]
    },
    {
     "name": "stdout",
     "output_type": "stream",
     "text": [
      "mlp_classification validation accuracy: 0.9833733974358975\n"
     ]
    },
    {
     "name": "stderr",
     "output_type": "stream",
     "text": [
      "100%|██████████| 78/78 [00:01<00:00, 71.02it/s]\n"
     ]
    },
    {
     "name": "stdout",
     "output_type": "stream",
     "text": [
      "mlp_dropout_classification validation accuracy: 0.9875801282051282\n",
      "BNN Test Error: 1.48%\n",
      "MLP Test Error: 1.66%\n",
      "MLP Dropout Test Error: 1.24%\n",
      "Epoch 143/600\n"
     ]
    },
    {
     "name": "stderr",
     "output_type": "stream",
     "text": [
      "100%|██████████| 468/468 [00:17<00:00, 26.48it/s]\n",
      "100%|██████████| 468/468 [00:06<00:00, 67.98it/s]\n",
      "100%|██████████| 468/468 [00:07<00:00, 65.47it/s]\n",
      "100%|██████████| 78/78 [00:18<00:00,  4.28it/s]\n"
     ]
    },
    {
     "name": "stdout",
     "output_type": "stream",
     "text": [
      "bnn_classification validation accuracy: 0.9853766025641025\n"
     ]
    },
    {
     "name": "stderr",
     "output_type": "stream",
     "text": [
      "100%|██████████| 78/78 [00:01<00:00, 68.52it/s]\n"
     ]
    },
    {
     "name": "stdout",
     "output_type": "stream",
     "text": [
      "mlp_classification validation accuracy: 0.9834735576923077\n"
     ]
    },
    {
     "name": "stderr",
     "output_type": "stream",
     "text": [
      "100%|██████████| 78/78 [00:01<00:00, 71.32it/s]\n"
     ]
    },
    {
     "name": "stdout",
     "output_type": "stream",
     "text": [
      "mlp_dropout_classification validation accuracy: 0.9872796474358975\n",
      "BNN Test Error: 1.46%\n",
      "MLP Test Error: 1.65%\n",
      "MLP Dropout Test Error: 1.27%\n",
      "Epoch 144/600\n"
     ]
    },
    {
     "name": "stderr",
     "output_type": "stream",
     "text": [
      "100%|██████████| 468/468 [00:17<00:00, 26.33it/s]\n",
      "100%|██████████| 468/468 [00:07<00:00, 65.84it/s]\n",
      "100%|██████████| 468/468 [00:06<00:00, 67.56it/s]\n",
      "100%|██████████| 78/78 [00:17<00:00,  4.34it/s]\n"
     ]
    },
    {
     "name": "stdout",
     "output_type": "stream",
     "text": [
      "bnn_classification validation accuracy: 0.9849759615384616\n"
     ]
    },
    {
     "name": "stderr",
     "output_type": "stream",
     "text": [
      "100%|██████████| 78/78 [00:01<00:00, 68.67it/s]\n"
     ]
    },
    {
     "name": "stdout",
     "output_type": "stream",
     "text": [
      "mlp_classification validation accuracy: 0.9833733974358975\n"
     ]
    },
    {
     "name": "stderr",
     "output_type": "stream",
     "text": [
      "100%|██████████| 78/78 [00:01<00:00, 70.23it/s]\n"
     ]
    },
    {
     "name": "stdout",
     "output_type": "stream",
     "text": [
      "mlp_dropout_classification validation accuracy: 0.9871794871794872\n",
      "BNN Test Error: 1.50%\n",
      "MLP Test Error: 1.66%\n",
      "MLP Dropout Test Error: 1.28%\n",
      "Epoch 145/600\n"
     ]
    },
    {
     "name": "stderr",
     "output_type": "stream",
     "text": [
      "100%|██████████| 468/468 [00:17<00:00, 26.39it/s]\n",
      "100%|██████████| 468/468 [00:06<00:00, 68.18it/s]\n",
      "100%|██████████| 468/468 [00:06<00:00, 66.92it/s]\n",
      "100%|██████████| 78/78 [00:18<00:00,  4.19it/s]\n"
     ]
    },
    {
     "name": "stdout",
     "output_type": "stream",
     "text": [
      "bnn_classification validation accuracy: 0.9853766025641025\n"
     ]
    },
    {
     "name": "stderr",
     "output_type": "stream",
     "text": [
      "100%|██████████| 78/78 [00:01<00:00, 69.44it/s]\n"
     ]
    },
    {
     "name": "stdout",
     "output_type": "stream",
     "text": [
      "mlp_classification validation accuracy: 0.9834735576923077\n"
     ]
    },
    {
     "name": "stderr",
     "output_type": "stream",
     "text": [
      "100%|██████████| 78/78 [00:01<00:00, 72.04it/s]\n"
     ]
    },
    {
     "name": "stdout",
     "output_type": "stream",
     "text": [
      "mlp_dropout_classification validation accuracy: 0.9870793269230769\n",
      "BNN Test Error: 1.46%\n",
      "MLP Test Error: 1.65%\n",
      "MLP Dropout Test Error: 1.29%\n",
      "Epoch 146/600\n"
     ]
    },
    {
     "name": "stderr",
     "output_type": "stream",
     "text": [
      "100%|██████████| 468/468 [00:17<00:00, 26.13it/s]\n",
      "100%|██████████| 468/468 [00:06<00:00, 67.95it/s]\n",
      "100%|██████████| 468/468 [00:06<00:00, 67.32it/s]\n",
      "100%|██████████| 78/78 [00:19<00:00,  4.10it/s]\n"
     ]
    },
    {
     "name": "stdout",
     "output_type": "stream",
     "text": [
      "bnn_classification validation accuracy: 0.9852764423076923\n"
     ]
    },
    {
     "name": "stderr",
     "output_type": "stream",
     "text": [
      "100%|██████████| 78/78 [00:01<00:00, 72.80it/s]\n"
     ]
    },
    {
     "name": "stdout",
     "output_type": "stream",
     "text": [
      "mlp_classification validation accuracy: 0.9834735576923077\n"
     ]
    },
    {
     "name": "stderr",
     "output_type": "stream",
     "text": [
      "100%|██████████| 78/78 [00:01<00:00, 72.55it/s]\n"
     ]
    },
    {
     "name": "stdout",
     "output_type": "stream",
     "text": [
      "mlp_dropout_classification validation accuracy: 0.9870793269230769\n",
      "BNN Test Error: 1.47%\n",
      "MLP Test Error: 1.65%\n",
      "MLP Dropout Test Error: 1.29%\n",
      "Epoch 147/600\n"
     ]
    },
    {
     "name": "stderr",
     "output_type": "stream",
     "text": [
      "100%|██████████| 468/468 [00:17<00:00, 26.98it/s]\n",
      "100%|██████████| 468/468 [00:06<00:00, 67.79it/s]\n",
      "100%|██████████| 468/468 [00:06<00:00, 67.02it/s]\n",
      "100%|██████████| 78/78 [00:17<00:00,  4.35it/s]\n"
     ]
    },
    {
     "name": "stdout",
     "output_type": "stream",
     "text": [
      "bnn_classification validation accuracy: 0.9853766025641025\n"
     ]
    },
    {
     "name": "stderr",
     "output_type": "stream",
     "text": [
      "100%|██████████| 78/78 [00:01<00:00, 71.36it/s]\n"
     ]
    },
    {
     "name": "stdout",
     "output_type": "stream",
     "text": [
      "mlp_classification validation accuracy: 0.9834735576923077\n"
     ]
    },
    {
     "name": "stderr",
     "output_type": "stream",
     "text": [
      "100%|██████████| 78/78 [00:01<00:00, 68.95it/s]\n"
     ]
    },
    {
     "name": "stdout",
     "output_type": "stream",
     "text": [
      "mlp_dropout_classification validation accuracy: 0.987479967948718\n",
      "BNN Test Error: 1.46%\n",
      "MLP Test Error: 1.65%\n",
      "MLP Dropout Test Error: 1.25%\n",
      "Epoch 148/600\n"
     ]
    },
    {
     "name": "stderr",
     "output_type": "stream",
     "text": [
      "100%|██████████| 468/468 [00:17<00:00, 26.76it/s]\n",
      "100%|██████████| 468/468 [00:06<00:00, 67.90it/s]\n",
      "100%|██████████| 468/468 [00:06<00:00, 67.77it/s]\n",
      "100%|██████████| 78/78 [00:18<00:00,  4.27it/s]\n"
     ]
    },
    {
     "name": "stdout",
     "output_type": "stream",
     "text": [
      "bnn_classification validation accuracy: 0.9854767628205128\n"
     ]
    },
    {
     "name": "stderr",
     "output_type": "stream",
     "text": [
      "100%|██████████| 78/78 [00:01<00:00, 72.47it/s]\n"
     ]
    },
    {
     "name": "stdout",
     "output_type": "stream",
     "text": [
      "mlp_classification validation accuracy: 0.9833733974358975\n"
     ]
    },
    {
     "name": "stderr",
     "output_type": "stream",
     "text": [
      "100%|██████████| 78/78 [00:01<00:00, 71.02it/s]\n"
     ]
    },
    {
     "name": "stdout",
     "output_type": "stream",
     "text": [
      "mlp_dropout_classification validation accuracy: 0.987479967948718\n",
      "BNN Test Error: 1.45%\n",
      "MLP Test Error: 1.66%\n",
      "MLP Dropout Test Error: 1.25%\n",
      "Epoch 149/600\n"
     ]
    },
    {
     "name": "stderr",
     "output_type": "stream",
     "text": [
      "100%|██████████| 468/468 [00:17<00:00, 26.35it/s]\n",
      "100%|██████████| 468/468 [00:06<00:00, 67.38it/s]\n",
      "100%|██████████| 468/468 [00:06<00:00, 67.20it/s]\n",
      "100%|██████████| 78/78 [00:18<00:00,  4.22it/s]\n"
     ]
    },
    {
     "name": "stdout",
     "output_type": "stream",
     "text": [
      "bnn_classification validation accuracy: 0.9854767628205128\n"
     ]
    },
    {
     "name": "stderr",
     "output_type": "stream",
     "text": [
      "100%|██████████| 78/78 [00:01<00:00, 73.43it/s]\n"
     ]
    },
    {
     "name": "stdout",
     "output_type": "stream",
     "text": [
      "mlp_classification validation accuracy: 0.9834735576923077\n"
     ]
    },
    {
     "name": "stderr",
     "output_type": "stream",
     "text": [
      "100%|██████████| 78/78 [00:01<00:00, 73.18it/s]\n"
     ]
    },
    {
     "name": "stdout",
     "output_type": "stream",
     "text": [
      "mlp_dropout_classification validation accuracy: 0.9872796474358975\n",
      "BNN Test Error: 1.45%\n",
      "MLP Test Error: 1.65%\n",
      "MLP Dropout Test Error: 1.27%\n",
      "Epoch 150/600\n"
     ]
    },
    {
     "name": "stderr",
     "output_type": "stream",
     "text": [
      "100%|██████████| 468/468 [00:17<00:00, 26.38it/s]\n",
      "100%|██████████| 468/468 [00:06<00:00, 69.30it/s]\n",
      "100%|██████████| 468/468 [00:06<00:00, 67.42it/s]\n",
      "100%|██████████| 78/78 [00:18<00:00,  4.19it/s]\n"
     ]
    },
    {
     "name": "stdout",
     "output_type": "stream",
     "text": [
      "bnn_classification validation accuracy: 0.985176282051282\n"
     ]
    },
    {
     "name": "stderr",
     "output_type": "stream",
     "text": [
      "100%|██████████| 78/78 [00:01<00:00, 72.74it/s]\n"
     ]
    },
    {
     "name": "stdout",
     "output_type": "stream",
     "text": [
      "mlp_classification validation accuracy: 0.9833733974358975\n"
     ]
    },
    {
     "name": "stderr",
     "output_type": "stream",
     "text": [
      "100%|██████████| 78/78 [00:01<00:00, 71.31it/s]\n"
     ]
    },
    {
     "name": "stdout",
     "output_type": "stream",
     "text": [
      "mlp_dropout_classification validation accuracy: 0.9870793269230769\n",
      "BNN Test Error: 1.48%\n",
      "MLP Test Error: 1.66%\n",
      "MLP Dropout Test Error: 1.29%\n",
      "Epoch 151/600\n"
     ]
    },
    {
     "name": "stderr",
     "output_type": "stream",
     "text": [
      "100%|██████████| 468/468 [00:17<00:00, 26.71it/s]\n",
      "100%|██████████| 468/468 [00:07<00:00, 66.68it/s]\n",
      "100%|██████████| 468/468 [00:06<00:00, 67.90it/s]\n",
      "100%|██████████| 78/78 [00:17<00:00,  4.38it/s]\n"
     ]
    },
    {
     "name": "stdout",
     "output_type": "stream",
     "text": [
      "bnn_classification validation accuracy: 0.9852764423076923\n"
     ]
    },
    {
     "name": "stderr",
     "output_type": "stream",
     "text": [
      "100%|██████████| 78/78 [00:01<00:00, 71.19it/s]\n"
     ]
    },
    {
     "name": "stdout",
     "output_type": "stream",
     "text": [
      "mlp_classification validation accuracy: 0.9833733974358975\n"
     ]
    },
    {
     "name": "stderr",
     "output_type": "stream",
     "text": [
      "100%|██████████| 78/78 [00:01<00:00, 72.22it/s]\n"
     ]
    },
    {
     "name": "stdout",
     "output_type": "stream",
     "text": [
      "mlp_dropout_classification validation accuracy: 0.9870793269230769\n",
      "BNN Test Error: 1.47%\n",
      "MLP Test Error: 1.66%\n",
      "MLP Dropout Test Error: 1.29%\n",
      "Epoch 152/600\n"
     ]
    },
    {
     "name": "stderr",
     "output_type": "stream",
     "text": [
      "100%|██████████| 468/468 [00:17<00:00, 26.75it/s]\n",
      "100%|██████████| 468/468 [00:06<00:00, 67.93it/s]\n",
      "100%|██████████| 468/468 [00:06<00:00, 67.81it/s]\n",
      "100%|██████████| 78/78 [00:18<00:00,  4.25it/s]\n"
     ]
    },
    {
     "name": "stdout",
     "output_type": "stream",
     "text": [
      "bnn_classification validation accuracy: 0.985176282051282\n"
     ]
    },
    {
     "name": "stderr",
     "output_type": "stream",
     "text": [
      "100%|██████████| 78/78 [00:01<00:00, 68.41it/s]\n"
     ]
    },
    {
     "name": "stdout",
     "output_type": "stream",
     "text": [
      "mlp_classification validation accuracy: 0.9834735576923077\n"
     ]
    },
    {
     "name": "stderr",
     "output_type": "stream",
     "text": [
      "100%|██████████| 78/78 [00:01<00:00, 68.98it/s]\n"
     ]
    },
    {
     "name": "stdout",
     "output_type": "stream",
     "text": [
      "mlp_dropout_classification validation accuracy: 0.9869791666666666\n",
      "BNN Test Error: 1.48%\n",
      "MLP Test Error: 1.65%\n",
      "MLP Dropout Test Error: 1.30%\n",
      "Epoch 153/600\n"
     ]
    },
    {
     "name": "stderr",
     "output_type": "stream",
     "text": [
      "100%|██████████| 468/468 [00:17<00:00, 27.03it/s]\n",
      "100%|██████████| 468/468 [00:06<00:00, 68.36it/s]\n",
      "100%|██████████| 468/468 [00:06<00:00, 66.89it/s]\n",
      "100%|██████████| 78/78 [00:18<00:00,  4.26it/s]\n"
     ]
    },
    {
     "name": "stdout",
     "output_type": "stream",
     "text": [
      "bnn_classification validation accuracy: 0.9855769230769231\n"
     ]
    },
    {
     "name": "stderr",
     "output_type": "stream",
     "text": [
      "100%|██████████| 78/78 [00:01<00:00, 72.29it/s]\n"
     ]
    },
    {
     "name": "stdout",
     "output_type": "stream",
     "text": [
      "mlp_classification validation accuracy: 0.9834735576923077\n"
     ]
    },
    {
     "name": "stderr",
     "output_type": "stream",
     "text": [
      "100%|██████████| 78/78 [00:01<00:00, 72.62it/s]\n"
     ]
    },
    {
     "name": "stdout",
     "output_type": "stream",
     "text": [
      "mlp_dropout_classification validation accuracy: 0.9868790064102564\n",
      "BNN Test Error: 1.44%\n",
      "MLP Test Error: 1.65%\n",
      "MLP Dropout Test Error: 1.31%\n",
      "Epoch 154/600\n"
     ]
    },
    {
     "name": "stderr",
     "output_type": "stream",
     "text": [
      "100%|██████████| 468/468 [00:17<00:00, 26.14it/s]\n",
      "100%|██████████| 468/468 [00:06<00:00, 69.78it/s]\n",
      "100%|██████████| 468/468 [00:07<00:00, 66.40it/s]\n",
      "100%|██████████| 78/78 [00:18<00:00,  4.30it/s]\n"
     ]
    },
    {
     "name": "stdout",
     "output_type": "stream",
     "text": [
      "bnn_classification validation accuracy: 0.9852764423076923\n"
     ]
    },
    {
     "name": "stderr",
     "output_type": "stream",
     "text": [
      "100%|██████████| 78/78 [00:01<00:00, 72.26it/s]\n"
     ]
    },
    {
     "name": "stdout",
     "output_type": "stream",
     "text": [
      "mlp_classification validation accuracy: 0.983573717948718\n"
     ]
    },
    {
     "name": "stderr",
     "output_type": "stream",
     "text": [
      "100%|██████████| 78/78 [00:01<00:00, 73.06it/s]\n"
     ]
    },
    {
     "name": "stdout",
     "output_type": "stream",
     "text": [
      "mlp_dropout_classification validation accuracy: 0.9870793269230769\n",
      "BNN Test Error: 1.47%\n",
      "MLP Test Error: 1.64%\n",
      "MLP Dropout Test Error: 1.29%\n",
      "Epoch 155/600\n"
     ]
    },
    {
     "name": "stderr",
     "output_type": "stream",
     "text": [
      "100%|██████████| 468/468 [00:18<00:00, 25.21it/s]\n",
      "100%|██████████| 468/468 [00:06<00:00, 67.68it/s]\n",
      "100%|██████████| 468/468 [00:06<00:00, 67.64it/s]\n",
      "100%|██████████| 78/78 [00:18<00:00,  4.20it/s]\n"
     ]
    },
    {
     "name": "stdout",
     "output_type": "stream",
     "text": [
      "bnn_classification validation accuracy: 0.9855769230769231\n"
     ]
    },
    {
     "name": "stderr",
     "output_type": "stream",
     "text": [
      "100%|██████████| 78/78 [00:01<00:00, 67.76it/s]\n"
     ]
    },
    {
     "name": "stdout",
     "output_type": "stream",
     "text": [
      "mlp_classification validation accuracy: 0.9834735576923077\n"
     ]
    },
    {
     "name": "stderr",
     "output_type": "stream",
     "text": [
      "100%|██████████| 78/78 [00:01<00:00, 68.28it/s]\n"
     ]
    },
    {
     "name": "stdout",
     "output_type": "stream",
     "text": [
      "mlp_dropout_classification validation accuracy: 0.9872796474358975\n",
      "BNN Test Error: 1.44%\n",
      "MLP Test Error: 1.65%\n",
      "MLP Dropout Test Error: 1.27%\n",
      "Epoch 156/600\n"
     ]
    },
    {
     "name": "stderr",
     "output_type": "stream",
     "text": [
      "100%|██████████| 468/468 [00:17<00:00, 26.63it/s]\n",
      "100%|██████████| 468/468 [00:06<00:00, 67.88it/s]\n",
      "100%|██████████| 468/468 [00:06<00:00, 67.68it/s]\n",
      "100%|██████████| 78/78 [00:17<00:00,  4.35it/s]\n"
     ]
    },
    {
     "name": "stdout",
     "output_type": "stream",
     "text": [
      "bnn_classification validation accuracy: 0.985176282051282\n"
     ]
    },
    {
     "name": "stderr",
     "output_type": "stream",
     "text": [
      "100%|██████████| 78/78 [00:01<00:00, 68.99it/s]\n"
     ]
    },
    {
     "name": "stdout",
     "output_type": "stream",
     "text": [
      "mlp_classification validation accuracy: 0.9833733974358975\n"
     ]
    },
    {
     "name": "stderr",
     "output_type": "stream",
     "text": [
      "100%|██████████| 78/78 [00:01<00:00, 72.18it/s]\n"
     ]
    },
    {
     "name": "stdout",
     "output_type": "stream",
     "text": [
      "mlp_dropout_classification validation accuracy: 0.9872796474358975\n",
      "BNN Test Error: 1.48%\n",
      "MLP Test Error: 1.66%\n",
      "MLP Dropout Test Error: 1.27%\n",
      "Epoch 157/600\n"
     ]
    },
    {
     "name": "stderr",
     "output_type": "stream",
     "text": [
      "100%|██████████| 468/468 [00:17<00:00, 26.58it/s]\n",
      "100%|██████████| 468/468 [00:06<00:00, 67.57it/s]\n",
      "100%|██████████| 468/468 [00:07<00:00, 66.39it/s]\n",
      "100%|██████████| 78/78 [00:18<00:00,  4.25it/s]\n"
     ]
    },
    {
     "name": "stdout",
     "output_type": "stream",
     "text": [
      "bnn_classification validation accuracy: 0.985176282051282\n"
     ]
    },
    {
     "name": "stderr",
     "output_type": "stream",
     "text": [
      "100%|██████████| 78/78 [00:01<00:00, 69.97it/s]\n"
     ]
    },
    {
     "name": "stdout",
     "output_type": "stream",
     "text": [
      "mlp_classification validation accuracy: 0.9834735576923077\n"
     ]
    },
    {
     "name": "stderr",
     "output_type": "stream",
     "text": [
      "100%|██████████| 78/78 [00:01<00:00, 71.76it/s]\n"
     ]
    },
    {
     "name": "stdout",
     "output_type": "stream",
     "text": [
      "mlp_dropout_classification validation accuracy: 0.9871794871794872\n",
      "BNN Test Error: 1.48%\n",
      "MLP Test Error: 1.65%\n",
      "MLP Dropout Test Error: 1.28%\n",
      "Epoch 158/600\n"
     ]
    },
    {
     "name": "stderr",
     "output_type": "stream",
     "text": [
      "100%|██████████| 468/468 [00:16<00:00, 27.81it/s]\n",
      "100%|██████████| 468/468 [00:07<00:00, 65.58it/s]\n",
      "100%|██████████| 468/468 [00:07<00:00, 66.67it/s]\n",
      "100%|██████████| 78/78 [00:17<00:00,  4.40it/s]\n"
     ]
    },
    {
     "name": "stdout",
     "output_type": "stream",
     "text": [
      "bnn_classification validation accuracy: 0.9852764423076923\n"
     ]
    },
    {
     "name": "stderr",
     "output_type": "stream",
     "text": [
      "100%|██████████| 78/78 [00:01<00:00, 71.58it/s]\n"
     ]
    },
    {
     "name": "stdout",
     "output_type": "stream",
     "text": [
      "mlp_classification validation accuracy: 0.9833733974358975\n"
     ]
    },
    {
     "name": "stderr",
     "output_type": "stream",
     "text": [
      "100%|██████████| 78/78 [00:01<00:00, 71.36it/s]\n"
     ]
    },
    {
     "name": "stdout",
     "output_type": "stream",
     "text": [
      "mlp_dropout_classification validation accuracy: 0.9872796474358975\n",
      "BNN Test Error: 1.47%\n",
      "MLP Test Error: 1.66%\n",
      "MLP Dropout Test Error: 1.27%\n",
      "Epoch 159/600\n"
     ]
    },
    {
     "name": "stderr",
     "output_type": "stream",
     "text": [
      "100%|██████████| 468/468 [00:17<00:00, 26.13it/s]\n",
      "100%|██████████| 468/468 [00:06<00:00, 68.64it/s]\n",
      "100%|██████████| 468/468 [00:06<00:00, 67.26it/s]\n",
      "100%|██████████| 78/78 [00:18<00:00,  4.13it/s]\n"
     ]
    },
    {
     "name": "stdout",
     "output_type": "stream",
     "text": [
      "bnn_classification validation accuracy: 0.9850761217948718\n"
     ]
    },
    {
     "name": "stderr",
     "output_type": "stream",
     "text": [
      "100%|██████████| 78/78 [00:01<00:00, 72.47it/s]\n"
     ]
    },
    {
     "name": "stdout",
     "output_type": "stream",
     "text": [
      "mlp_classification validation accuracy: 0.9833733974358975\n"
     ]
    },
    {
     "name": "stderr",
     "output_type": "stream",
     "text": [
      "100%|██████████| 78/78 [00:01<00:00, 71.49it/s]\n"
     ]
    },
    {
     "name": "stdout",
     "output_type": "stream",
     "text": [
      "mlp_dropout_classification validation accuracy: 0.9867788461538461\n",
      "BNN Test Error: 1.49%\n",
      "MLP Test Error: 1.66%\n",
      "MLP Dropout Test Error: 1.32%\n",
      "Epoch 160/600\n"
     ]
    },
    {
     "name": "stderr",
     "output_type": "stream",
     "text": [
      "100%|██████████| 468/468 [00:18<00:00, 25.69it/s]\n",
      "100%|██████████| 468/468 [00:06<00:00, 67.83it/s]\n",
      "100%|██████████| 468/468 [00:06<00:00, 67.39it/s]\n",
      "100%|██████████| 78/78 [00:19<00:00,  4.06it/s]\n"
     ]
    },
    {
     "name": "stdout",
     "output_type": "stream",
     "text": [
      "bnn_classification validation accuracy: 0.9827724358974359\n"
     ]
    },
    {
     "name": "stderr",
     "output_type": "stream",
     "text": [
      "100%|██████████| 78/78 [00:01<00:00, 72.58it/s]\n"
     ]
    },
    {
     "name": "stdout",
     "output_type": "stream",
     "text": [
      "mlp_classification validation accuracy: 0.9832732371794872\n"
     ]
    },
    {
     "name": "stderr",
     "output_type": "stream",
     "text": [
      "100%|██████████| 78/78 [00:01<00:00, 73.40it/s]\n"
     ]
    },
    {
     "name": "stdout",
     "output_type": "stream",
     "text": [
      "mlp_dropout_classification validation accuracy: 0.9872796474358975\n",
      "BNN Test Error: 1.72%\n",
      "MLP Test Error: 1.67%\n",
      "MLP Dropout Test Error: 1.27%\n",
      "Epoch 161/600\n"
     ]
    },
    {
     "name": "stderr",
     "output_type": "stream",
     "text": [
      "100%|██████████| 468/468 [00:18<00:00, 25.55it/s]\n",
      "100%|██████████| 468/468 [00:06<00:00, 66.93it/s]\n",
      "100%|██████████| 468/468 [00:07<00:00, 65.95it/s]\n",
      "100%|██████████| 78/78 [00:18<00:00,  4.33it/s]\n"
     ]
    },
    {
     "name": "stdout",
     "output_type": "stream",
     "text": [
      "bnn_classification validation accuracy: 0.9844751602564102\n"
     ]
    },
    {
     "name": "stderr",
     "output_type": "stream",
     "text": [
      "100%|██████████| 78/78 [00:01<00:00, 72.07it/s]\n"
     ]
    },
    {
     "name": "stdout",
     "output_type": "stream",
     "text": [
      "mlp_classification validation accuracy: 0.9833733974358975\n"
     ]
    },
    {
     "name": "stderr",
     "output_type": "stream",
     "text": [
      "100%|██████████| 78/78 [00:01<00:00, 70.81it/s]\n"
     ]
    },
    {
     "name": "stdout",
     "output_type": "stream",
     "text": [
      "mlp_dropout_classification validation accuracy: 0.9873798076923077\n",
      "BNN Test Error: 1.55%\n",
      "MLP Test Error: 1.66%\n",
      "MLP Dropout Test Error: 1.26%\n",
      "Epoch 162/600\n"
     ]
    },
    {
     "name": "stderr",
     "output_type": "stream",
     "text": [
      "100%|██████████| 468/468 [00:18<00:00, 25.68it/s]\n",
      "100%|██████████| 468/468 [00:06<00:00, 69.40it/s]\n",
      "100%|██████████| 468/468 [00:06<00:00, 67.71it/s]\n",
      "100%|██████████| 78/78 [00:18<00:00,  4.28it/s]\n"
     ]
    },
    {
     "name": "stdout",
     "output_type": "stream",
     "text": [
      "bnn_classification validation accuracy: 0.9860777243589743\n"
     ]
    },
    {
     "name": "stderr",
     "output_type": "stream",
     "text": [
      "100%|██████████| 78/78 [00:01<00:00, 72.96it/s]\n"
     ]
    },
    {
     "name": "stdout",
     "output_type": "stream",
     "text": [
      "mlp_classification validation accuracy: 0.9832732371794872\n"
     ]
    },
    {
     "name": "stderr",
     "output_type": "stream",
     "text": [
      "100%|██████████| 78/78 [00:01<00:00, 74.11it/s]\n"
     ]
    },
    {
     "name": "stdout",
     "output_type": "stream",
     "text": [
      "mlp_dropout_classification validation accuracy: 0.9869791666666666\n",
      "BNN Test Error: 1.39%\n",
      "MLP Test Error: 1.67%\n",
      "MLP Dropout Test Error: 1.30%\n",
      "Epoch 163/600\n"
     ]
    },
    {
     "name": "stderr",
     "output_type": "stream",
     "text": [
      "100%|██████████| 468/468 [00:17<00:00, 26.75it/s]\n",
      "100%|██████████| 468/468 [00:06<00:00, 68.50it/s]\n",
      "100%|██████████| 468/468 [00:06<00:00, 68.04it/s]\n",
      "100%|██████████| 78/78 [00:17<00:00,  4.35it/s]\n"
     ]
    },
    {
     "name": "stdout",
     "output_type": "stream",
     "text": [
      "bnn_classification validation accuracy: 0.9852764423076923\n"
     ]
    },
    {
     "name": "stderr",
     "output_type": "stream",
     "text": [
      "100%|██████████| 78/78 [00:01<00:00, 71.54it/s]\n"
     ]
    },
    {
     "name": "stdout",
     "output_type": "stream",
     "text": [
      "mlp_classification validation accuracy: 0.9833733974358975\n"
     ]
    },
    {
     "name": "stderr",
     "output_type": "stream",
     "text": [
      "100%|██████████| 78/78 [00:01<00:00, 72.28it/s]\n"
     ]
    },
    {
     "name": "stdout",
     "output_type": "stream",
     "text": [
      "mlp_dropout_classification validation accuracy: 0.9867788461538461\n",
      "BNN Test Error: 1.47%\n",
      "MLP Test Error: 1.66%\n",
      "MLP Dropout Test Error: 1.32%\n",
      "Epoch 164/600\n"
     ]
    },
    {
     "name": "stderr",
     "output_type": "stream",
     "text": [
      "100%|██████████| 468/468 [00:17<00:00, 26.34it/s]\n",
      "100%|██████████| 468/468 [00:06<00:00, 69.21it/s]\n",
      "100%|██████████| 468/468 [00:07<00:00, 66.80it/s]\n",
      "100%|██████████| 78/78 [00:18<00:00,  4.15it/s]\n"
     ]
    },
    {
     "name": "stdout",
     "output_type": "stream",
     "text": [
      "bnn_classification validation accuracy: 0.9858774038461539\n"
     ]
    },
    {
     "name": "stderr",
     "output_type": "stream",
     "text": [
      "100%|██████████| 78/78 [00:01<00:00, 71.05it/s]\n"
     ]
    },
    {
     "name": "stdout",
     "output_type": "stream",
     "text": [
      "mlp_classification validation accuracy: 0.9834735576923077\n"
     ]
    },
    {
     "name": "stderr",
     "output_type": "stream",
     "text": [
      "100%|██████████| 78/78 [00:01<00:00, 72.43it/s]\n"
     ]
    },
    {
     "name": "stdout",
     "output_type": "stream",
     "text": [
      "mlp_dropout_classification validation accuracy: 0.9869791666666666\n",
      "BNN Test Error: 1.41%\n",
      "MLP Test Error: 1.65%\n",
      "MLP Dropout Test Error: 1.30%\n",
      "Epoch 165/600\n"
     ]
    },
    {
     "name": "stderr",
     "output_type": "stream",
     "text": [
      "100%|██████████| 468/468 [00:17<00:00, 26.62it/s]\n",
      "100%|██████████| 468/468 [00:06<00:00, 66.99it/s]\n",
      "100%|██████████| 468/468 [00:06<00:00, 68.54it/s]\n",
      "100%|██████████| 78/78 [00:18<00:00,  4.25it/s]\n"
     ]
    },
    {
     "name": "stdout",
     "output_type": "stream",
     "text": [
      "bnn_classification validation accuracy: 0.9844751602564102\n"
     ]
    },
    {
     "name": "stderr",
     "output_type": "stream",
     "text": [
      "100%|██████████| 78/78 [00:01<00:00, 71.24it/s]\n"
     ]
    },
    {
     "name": "stdout",
     "output_type": "stream",
     "text": [
      "mlp_classification validation accuracy: 0.9834735576923077\n"
     ]
    },
    {
     "name": "stderr",
     "output_type": "stream",
     "text": [
      "100%|██████████| 78/78 [00:01<00:00, 72.59it/s]\n"
     ]
    },
    {
     "name": "stdout",
     "output_type": "stream",
     "text": [
      "mlp_dropout_classification validation accuracy: 0.9872796474358975\n",
      "BNN Test Error: 1.55%\n",
      "MLP Test Error: 1.65%\n",
      "MLP Dropout Test Error: 1.27%\n",
      "Epoch 166/600\n"
     ]
    },
    {
     "name": "stderr",
     "output_type": "stream",
     "text": [
      "100%|██████████| 468/468 [00:17<00:00, 26.39it/s]\n",
      "100%|██████████| 468/468 [00:06<00:00, 69.42it/s]\n",
      "100%|██████████| 468/468 [00:06<00:00, 68.12it/s]\n",
      "100%|██████████| 78/78 [00:18<00:00,  4.31it/s]\n"
     ]
    },
    {
     "name": "stdout",
     "output_type": "stream",
     "text": [
      "bnn_classification validation accuracy: 0.9849759615384616\n"
     ]
    },
    {
     "name": "stderr",
     "output_type": "stream",
     "text": [
      "100%|██████████| 78/78 [00:01<00:00, 72.90it/s]\n"
     ]
    },
    {
     "name": "stdout",
     "output_type": "stream",
     "text": [
      "mlp_classification validation accuracy: 0.9833733974358975\n"
     ]
    },
    {
     "name": "stderr",
     "output_type": "stream",
     "text": [
      "100%|██████████| 78/78 [00:01<00:00, 70.80it/s]\n"
     ]
    },
    {
     "name": "stdout",
     "output_type": "stream",
     "text": [
      "mlp_dropout_classification validation accuracy: 0.9872796474358975\n",
      "BNN Test Error: 1.50%\n",
      "MLP Test Error: 1.66%\n",
      "MLP Dropout Test Error: 1.27%\n",
      "Epoch 167/600\n"
     ]
    },
    {
     "name": "stderr",
     "output_type": "stream",
     "text": [
      "100%|██████████| 468/468 [00:17<00:00, 26.99it/s]\n",
      "100%|██████████| 468/468 [00:06<00:00, 67.86it/s]\n",
      "100%|██████████| 468/468 [00:07<00:00, 66.39it/s]\n",
      "100%|██████████| 78/78 [00:17<00:00,  4.49it/s]\n"
     ]
    },
    {
     "name": "stdout",
     "output_type": "stream",
     "text": [
      "bnn_classification validation accuracy: 0.9854767628205128\n"
     ]
    },
    {
     "name": "stderr",
     "output_type": "stream",
     "text": [
      "100%|██████████| 78/78 [00:01<00:00, 67.63it/s]\n"
     ]
    },
    {
     "name": "stdout",
     "output_type": "stream",
     "text": [
      "mlp_classification validation accuracy: 0.9834735576923077\n"
     ]
    },
    {
     "name": "stderr",
     "output_type": "stream",
     "text": [
      "100%|██████████| 78/78 [00:01<00:00, 68.55it/s]\n"
     ]
    },
    {
     "name": "stdout",
     "output_type": "stream",
     "text": [
      "mlp_dropout_classification validation accuracy: 0.9877804487179487\n",
      "BNN Test Error: 1.45%\n",
      "MLP Test Error: 1.65%\n",
      "MLP Dropout Test Error: 1.22%\n",
      "Epoch 168/600\n"
     ]
    },
    {
     "name": "stderr",
     "output_type": "stream",
     "text": [
      "100%|██████████| 468/468 [00:17<00:00, 26.97it/s]\n",
      "100%|██████████| 468/468 [00:06<00:00, 67.96it/s]\n",
      "100%|██████████| 468/468 [00:06<00:00, 66.95it/s]\n",
      "100%|██████████| 78/78 [00:18<00:00,  4.20it/s]\n"
     ]
    },
    {
     "name": "stdout",
     "output_type": "stream",
     "text": [
      "bnn_classification validation accuracy: 0.9856770833333334\n"
     ]
    },
    {
     "name": "stderr",
     "output_type": "stream",
     "text": [
      "100%|██████████| 78/78 [00:01<00:00, 71.65it/s]\n"
     ]
    },
    {
     "name": "stdout",
     "output_type": "stream",
     "text": [
      "mlp_classification validation accuracy: 0.9833733974358975\n"
     ]
    },
    {
     "name": "stderr",
     "output_type": "stream",
     "text": [
      "100%|██████████| 78/78 [00:01<00:00, 72.41it/s]\n"
     ]
    },
    {
     "name": "stdout",
     "output_type": "stream",
     "text": [
      "mlp_dropout_classification validation accuracy: 0.9872796474358975\n",
      "BNN Test Error: 1.43%\n",
      "MLP Test Error: 1.66%\n",
      "MLP Dropout Test Error: 1.27%\n",
      "Epoch 169/600\n"
     ]
    },
    {
     "name": "stderr",
     "output_type": "stream",
     "text": [
      "100%|██████████| 468/468 [00:19<00:00, 24.55it/s]\n",
      "100%|██████████| 468/468 [00:07<00:00, 62.18it/s]\n",
      "100%|██████████| 468/468 [00:07<00:00, 65.35it/s]\n",
      "100%|██████████| 78/78 [00:18<00:00,  4.22it/s]\n"
     ]
    },
    {
     "name": "stdout",
     "output_type": "stream",
     "text": [
      "bnn_classification validation accuracy: 0.9855769230769231\n"
     ]
    },
    {
     "name": "stderr",
     "output_type": "stream",
     "text": [
      "100%|██████████| 78/78 [00:01<00:00, 73.85it/s]\n"
     ]
    },
    {
     "name": "stdout",
     "output_type": "stream",
     "text": [
      "mlp_classification validation accuracy: 0.9834735576923077\n"
     ]
    },
    {
     "name": "stderr",
     "output_type": "stream",
     "text": [
      "100%|██████████| 78/78 [00:01<00:00, 72.71it/s]\n"
     ]
    },
    {
     "name": "stdout",
     "output_type": "stream",
     "text": [
      "mlp_dropout_classification validation accuracy: 0.9875801282051282\n",
      "BNN Test Error: 1.44%\n",
      "MLP Test Error: 1.65%\n",
      "MLP Dropout Test Error: 1.24%\n",
      "Epoch 170/600\n"
     ]
    },
    {
     "name": "stderr",
     "output_type": "stream",
     "text": [
      "100%|██████████| 468/468 [00:17<00:00, 27.15it/s]\n",
      "100%|██████████| 468/468 [00:06<00:00, 67.94it/s]\n",
      "100%|██████████| 468/468 [00:07<00:00, 65.23it/s]\n",
      "100%|██████████| 78/78 [00:17<00:00,  4.45it/s]\n"
     ]
    },
    {
     "name": "stdout",
     "output_type": "stream",
     "text": [
      "bnn_classification validation accuracy: 0.9854767628205128\n"
     ]
    },
    {
     "name": "stderr",
     "output_type": "stream",
     "text": [
      "100%|██████████| 78/78 [00:01<00:00, 72.80it/s]\n"
     ]
    },
    {
     "name": "stdout",
     "output_type": "stream",
     "text": [
      "mlp_classification validation accuracy: 0.9834735576923077\n"
     ]
    },
    {
     "name": "stderr",
     "output_type": "stream",
     "text": [
      "100%|██████████| 78/78 [00:01<00:00, 73.24it/s]\n"
     ]
    },
    {
     "name": "stdout",
     "output_type": "stream",
     "text": [
      "mlp_dropout_classification validation accuracy: 0.9876802884615384\n",
      "BNN Test Error: 1.45%\n",
      "MLP Test Error: 1.65%\n",
      "MLP Dropout Test Error: 1.23%\n",
      "Epoch 171/600\n"
     ]
    },
    {
     "name": "stderr",
     "output_type": "stream",
     "text": [
      "100%|██████████| 468/468 [00:18<00:00, 25.57it/s]\n",
      "100%|██████████| 468/468 [00:06<00:00, 67.88it/s]\n",
      "100%|██████████| 468/468 [00:06<00:00, 67.22it/s]\n",
      "100%|██████████| 78/78 [00:18<00:00,  4.25it/s]\n"
     ]
    },
    {
     "name": "stdout",
     "output_type": "stream",
     "text": [
      "bnn_classification validation accuracy: 0.985176282051282\n"
     ]
    },
    {
     "name": "stderr",
     "output_type": "stream",
     "text": [
      "100%|██████████| 78/78 [00:01<00:00, 68.49it/s]\n"
     ]
    },
    {
     "name": "stdout",
     "output_type": "stream",
     "text": [
      "mlp_classification validation accuracy: 0.9834735576923077\n"
     ]
    },
    {
     "name": "stderr",
     "output_type": "stream",
     "text": [
      "100%|██████████| 78/78 [00:01<00:00, 71.76it/s]\n"
     ]
    },
    {
     "name": "stdout",
     "output_type": "stream",
     "text": [
      "mlp_dropout_classification validation accuracy: 0.9870793269230769\n",
      "BNN Test Error: 1.48%\n",
      "MLP Test Error: 1.65%\n",
      "MLP Dropout Test Error: 1.29%\n",
      "Epoch 172/600\n"
     ]
    },
    {
     "name": "stderr",
     "output_type": "stream",
     "text": [
      "100%|██████████| 468/468 [00:17<00:00, 26.82it/s]\n",
      "100%|██████████| 468/468 [00:07<00:00, 66.52it/s]\n",
      "100%|██████████| 468/468 [00:06<00:00, 67.19it/s]\n",
      "100%|██████████| 78/78 [00:18<00:00,  4.29it/s]\n"
     ]
    },
    {
     "name": "stdout",
     "output_type": "stream",
     "text": [
      "bnn_classification validation accuracy: 0.9858774038461539\n"
     ]
    },
    {
     "name": "stderr",
     "output_type": "stream",
     "text": [
      "100%|██████████| 78/78 [00:01<00:00, 72.38it/s]\n"
     ]
    },
    {
     "name": "stdout",
     "output_type": "stream",
     "text": [
      "mlp_classification validation accuracy: 0.9833733974358975\n"
     ]
    },
    {
     "name": "stderr",
     "output_type": "stream",
     "text": [
      "100%|██████████| 78/78 [00:01<00:00, 66.80it/s]\n"
     ]
    },
    {
     "name": "stdout",
     "output_type": "stream",
     "text": [
      "mlp_dropout_classification validation accuracy: 0.9872796474358975\n",
      "BNN Test Error: 1.41%\n",
      "MLP Test Error: 1.66%\n",
      "MLP Dropout Test Error: 1.27%\n",
      "Epoch 173/600\n"
     ]
    },
    {
     "name": "stderr",
     "output_type": "stream",
     "text": [
      "100%|██████████| 468/468 [00:18<00:00, 25.70it/s]\n",
      "100%|██████████| 468/468 [00:06<00:00, 68.17it/s]\n",
      "100%|██████████| 468/468 [00:07<00:00, 66.31it/s]\n",
      "100%|██████████| 78/78 [00:18<00:00,  4.16it/s]\n"
     ]
    },
    {
     "name": "stdout",
     "output_type": "stream",
     "text": [
      "bnn_classification validation accuracy: 0.9856770833333334\n"
     ]
    },
    {
     "name": "stderr",
     "output_type": "stream",
     "text": [
      "100%|██████████| 78/78 [00:01<00:00, 73.26it/s]\n"
     ]
    },
    {
     "name": "stdout",
     "output_type": "stream",
     "text": [
      "mlp_classification validation accuracy: 0.9833733974358975\n"
     ]
    },
    {
     "name": "stderr",
     "output_type": "stream",
     "text": [
      "100%|██████████| 78/78 [00:01<00:00, 73.24it/s]\n"
     ]
    },
    {
     "name": "stdout",
     "output_type": "stream",
     "text": [
      "mlp_dropout_classification validation accuracy: 0.9870793269230769\n",
      "BNN Test Error: 1.43%\n",
      "MLP Test Error: 1.66%\n",
      "MLP Dropout Test Error: 1.29%\n",
      "Epoch 174/600\n"
     ]
    },
    {
     "name": "stderr",
     "output_type": "stream",
     "text": [
      "100%|██████████| 468/468 [00:17<00:00, 26.71it/s]\n",
      "100%|██████████| 468/468 [00:06<00:00, 67.10it/s]\n",
      "100%|██████████| 468/468 [00:06<00:00, 67.57it/s]\n",
      "100%|██████████| 78/78 [00:18<00:00,  4.26it/s]\n"
     ]
    },
    {
     "name": "stdout",
     "output_type": "stream",
     "text": [
      "bnn_classification validation accuracy: 0.9854767628205128\n"
     ]
    },
    {
     "name": "stderr",
     "output_type": "stream",
     "text": [
      "100%|██████████| 78/78 [00:01<00:00, 66.33it/s]\n"
     ]
    },
    {
     "name": "stdout",
     "output_type": "stream",
     "text": [
      "mlp_classification validation accuracy: 0.9834735576923077\n"
     ]
    },
    {
     "name": "stderr",
     "output_type": "stream",
     "text": [
      "100%|██████████| 78/78 [00:01<00:00, 68.43it/s]\n"
     ]
    },
    {
     "name": "stdout",
     "output_type": "stream",
     "text": [
      "mlp_dropout_classification validation accuracy: 0.9870793269230769\n",
      "BNN Test Error: 1.45%\n",
      "MLP Test Error: 1.65%\n",
      "MLP Dropout Test Error: 1.29%\n",
      "Epoch 175/600\n"
     ]
    },
    {
     "name": "stderr",
     "output_type": "stream",
     "text": [
      "100%|██████████| 468/468 [00:18<00:00, 25.82it/s]\n",
      "100%|██████████| 468/468 [00:07<00:00, 66.20it/s]\n",
      "100%|██████████| 468/468 [00:06<00:00, 67.78it/s]\n",
      "100%|██████████| 78/78 [00:17<00:00,  4.41it/s]\n"
     ]
    },
    {
     "name": "stdout",
     "output_type": "stream",
     "text": [
      "bnn_classification validation accuracy: 0.9854767628205128\n"
     ]
    },
    {
     "name": "stderr",
     "output_type": "stream",
     "text": [
      "100%|██████████| 78/78 [00:01<00:00, 72.72it/s]\n"
     ]
    },
    {
     "name": "stdout",
     "output_type": "stream",
     "text": [
      "mlp_classification validation accuracy: 0.9834735576923077\n"
     ]
    },
    {
     "name": "stderr",
     "output_type": "stream",
     "text": [
      "100%|██████████| 78/78 [00:01<00:00, 67.81it/s]\n"
     ]
    },
    {
     "name": "stdout",
     "output_type": "stream",
     "text": [
      "mlp_dropout_classification validation accuracy: 0.9869791666666666\n",
      "BNN Test Error: 1.45%\n",
      "MLP Test Error: 1.65%\n",
      "MLP Dropout Test Error: 1.30%\n",
      "Epoch 176/600\n"
     ]
    },
    {
     "name": "stderr",
     "output_type": "stream",
     "text": [
      "100%|██████████| 468/468 [00:17<00:00, 26.52it/s]\n",
      "100%|██████████| 468/468 [00:06<00:00, 67.90it/s]\n",
      "100%|██████████| 468/468 [00:06<00:00, 67.30it/s]\n",
      "100%|██████████| 78/78 [00:17<00:00,  4.37it/s]\n"
     ]
    },
    {
     "name": "stdout",
     "output_type": "stream",
     "text": [
      "bnn_classification validation accuracy: 0.9855769230769231\n"
     ]
    },
    {
     "name": "stderr",
     "output_type": "stream",
     "text": [
      "100%|██████████| 78/78 [00:01<00:00, 68.83it/s]\n"
     ]
    },
    {
     "name": "stdout",
     "output_type": "stream",
     "text": [
      "mlp_classification validation accuracy: 0.9832732371794872\n"
     ]
    },
    {
     "name": "stderr",
     "output_type": "stream",
     "text": [
      "100%|██████████| 78/78 [00:01<00:00, 68.44it/s]\n"
     ]
    },
    {
     "name": "stdout",
     "output_type": "stream",
     "text": [
      "mlp_dropout_classification validation accuracy: 0.9875801282051282\n",
      "BNN Test Error: 1.44%\n",
      "MLP Test Error: 1.67%\n",
      "MLP Dropout Test Error: 1.24%\n",
      "Epoch 177/600\n"
     ]
    },
    {
     "name": "stderr",
     "output_type": "stream",
     "text": [
      "100%|██████████| 468/468 [00:17<00:00, 26.65it/s]\n",
      "100%|██████████| 468/468 [00:06<00:00, 69.00it/s]\n",
      "100%|██████████| 468/468 [00:06<00:00, 67.53it/s]\n",
      "100%|██████████| 78/78 [00:18<00:00,  4.16it/s]\n"
     ]
    },
    {
     "name": "stdout",
     "output_type": "stream",
     "text": [
      "bnn_classification validation accuracy: 0.9853766025641025\n"
     ]
    },
    {
     "name": "stderr",
     "output_type": "stream",
     "text": [
      "100%|██████████| 78/78 [00:01<00:00, 72.81it/s]\n"
     ]
    },
    {
     "name": "stdout",
     "output_type": "stream",
     "text": [
      "mlp_classification validation accuracy: 0.9834735576923077\n"
     ]
    },
    {
     "name": "stderr",
     "output_type": "stream",
     "text": [
      "100%|██████████| 78/78 [00:01<00:00, 74.01it/s]\n"
     ]
    },
    {
     "name": "stdout",
     "output_type": "stream",
     "text": [
      "mlp_dropout_classification validation accuracy: 0.9869791666666666\n",
      "BNN Test Error: 1.46%\n",
      "MLP Test Error: 1.65%\n",
      "MLP Dropout Test Error: 1.30%\n",
      "Epoch 178/600\n"
     ]
    },
    {
     "name": "stderr",
     "output_type": "stream",
     "text": [
      "100%|██████████| 468/468 [00:17<00:00, 26.77it/s]\n",
      "100%|██████████| 468/468 [00:06<00:00, 67.45it/s]\n",
      "100%|██████████| 468/468 [00:06<00:00, 67.73it/s]\n",
      "100%|██████████| 78/78 [00:18<00:00,  4.15it/s]\n"
     ]
    },
    {
     "name": "stdout",
     "output_type": "stream",
     "text": [
      "bnn_classification validation accuracy: 0.9855769230769231\n"
     ]
    },
    {
     "name": "stderr",
     "output_type": "stream",
     "text": [
      "100%|██████████| 78/78 [00:01<00:00, 73.03it/s]\n"
     ]
    },
    {
     "name": "stdout",
     "output_type": "stream",
     "text": [
      "mlp_classification validation accuracy: 0.9832732371794872\n"
     ]
    },
    {
     "name": "stderr",
     "output_type": "stream",
     "text": [
      "100%|██████████| 78/78 [00:01<00:00, 71.39it/s]\n"
     ]
    },
    {
     "name": "stdout",
     "output_type": "stream",
     "text": [
      "mlp_dropout_classification validation accuracy: 0.9869791666666666\n",
      "BNN Test Error: 1.44%\n",
      "MLP Test Error: 1.67%\n",
      "MLP Dropout Test Error: 1.30%\n",
      "Epoch 179/600\n"
     ]
    },
    {
     "name": "stderr",
     "output_type": "stream",
     "text": [
      "100%|██████████| 468/468 [00:18<00:00, 25.18it/s]\n",
      "100%|██████████| 468/468 [00:06<00:00, 68.09it/s]\n",
      "100%|██████████| 468/468 [00:06<00:00, 68.42it/s]\n",
      "100%|██████████| 78/78 [00:18<00:00,  4.28it/s]\n"
     ]
    },
    {
     "name": "stdout",
     "output_type": "stream",
     "text": [
      "bnn_classification validation accuracy: 0.9855769230769231\n"
     ]
    },
    {
     "name": "stderr",
     "output_type": "stream",
     "text": [
      "100%|██████████| 78/78 [00:01<00:00, 71.56it/s]\n"
     ]
    },
    {
     "name": "stdout",
     "output_type": "stream",
     "text": [
      "mlp_classification validation accuracy: 0.9834735576923077\n"
     ]
    },
    {
     "name": "stderr",
     "output_type": "stream",
     "text": [
      "100%|██████████| 78/78 [00:01<00:00, 71.68it/s]\n"
     ]
    },
    {
     "name": "stdout",
     "output_type": "stream",
     "text": [
      "mlp_dropout_classification validation accuracy: 0.9868790064102564\n",
      "BNN Test Error: 1.44%\n",
      "MLP Test Error: 1.65%\n",
      "MLP Dropout Test Error: 1.31%\n",
      "Epoch 180/600\n"
     ]
    },
    {
     "name": "stderr",
     "output_type": "stream",
     "text": [
      "100%|██████████| 468/468 [00:17<00:00, 26.20it/s]\n",
      "100%|██████████| 468/468 [00:06<00:00, 68.77it/s]\n",
      "100%|██████████| 468/468 [00:06<00:00, 67.89it/s]\n",
      "100%|██████████| 78/78 [00:19<00:00,  4.02it/s]\n"
     ]
    },
    {
     "name": "stdout",
     "output_type": "stream",
     "text": [
      "bnn_classification validation accuracy: 0.985176282051282\n"
     ]
    },
    {
     "name": "stderr",
     "output_type": "stream",
     "text": [
      "100%|██████████| 78/78 [00:01<00:00, 71.07it/s]\n"
     ]
    },
    {
     "name": "stdout",
     "output_type": "stream",
     "text": [
      "mlp_classification validation accuracy: 0.9834735576923077\n"
     ]
    },
    {
     "name": "stderr",
     "output_type": "stream",
     "text": [
      "100%|██████████| 78/78 [00:01<00:00, 72.87it/s]\n"
     ]
    },
    {
     "name": "stdout",
     "output_type": "stream",
     "text": [
      "mlp_dropout_classification validation accuracy: 0.9866786858974359\n",
      "BNN Test Error: 1.48%\n",
      "MLP Test Error: 1.65%\n",
      "MLP Dropout Test Error: 1.33%\n",
      "Epoch 181/600\n"
     ]
    },
    {
     "name": "stderr",
     "output_type": "stream",
     "text": [
      "100%|██████████| 468/468 [00:17<00:00, 27.17it/s]\n",
      "100%|██████████| 468/468 [00:07<00:00, 65.26it/s]\n",
      "100%|██████████| 468/468 [00:06<00:00, 66.90it/s]\n",
      "100%|██████████| 78/78 [00:17<00:00,  4.47it/s]\n"
     ]
    },
    {
     "name": "stdout",
     "output_type": "stream",
     "text": [
      "bnn_classification validation accuracy: 0.9854767628205128\n"
     ]
    },
    {
     "name": "stderr",
     "output_type": "stream",
     "text": [
      "100%|██████████| 78/78 [00:01<00:00, 74.17it/s]\n"
     ]
    },
    {
     "name": "stdout",
     "output_type": "stream",
     "text": [
      "mlp_classification validation accuracy: 0.9834735576923077\n"
     ]
    },
    {
     "name": "stderr",
     "output_type": "stream",
     "text": [
      "100%|██████████| 78/78 [00:01<00:00, 73.38it/s]\n"
     ]
    },
    {
     "name": "stdout",
     "output_type": "stream",
     "text": [
      "mlp_dropout_classification validation accuracy: 0.9870793269230769\n",
      "BNN Test Error: 1.45%\n",
      "MLP Test Error: 1.65%\n",
      "MLP Dropout Test Error: 1.29%\n",
      "Epoch 182/600\n"
     ]
    },
    {
     "name": "stderr",
     "output_type": "stream",
     "text": [
      "100%|██████████| 468/468 [00:18<00:00, 25.55it/s]\n",
      "100%|██████████| 468/468 [00:06<00:00, 69.29it/s]\n",
      "100%|██████████| 468/468 [00:06<00:00, 68.11it/s]\n",
      "100%|██████████| 78/78 [00:18<00:00,  4.31it/s]\n"
     ]
    },
    {
     "name": "stdout",
     "output_type": "stream",
     "text": [
      "bnn_classification validation accuracy: 0.9847756410256411\n"
     ]
    },
    {
     "name": "stderr",
     "output_type": "stream",
     "text": [
      "100%|██████████| 78/78 [00:01<00:00, 72.42it/s]\n"
     ]
    },
    {
     "name": "stdout",
     "output_type": "stream",
     "text": [
      "mlp_classification validation accuracy: 0.9833733974358975\n"
     ]
    },
    {
     "name": "stderr",
     "output_type": "stream",
     "text": [
      "100%|██████████| 78/78 [00:01<00:00, 73.70it/s]\n"
     ]
    },
    {
     "name": "stdout",
     "output_type": "stream",
     "text": [
      "mlp_dropout_classification validation accuracy: 0.9870793269230769\n",
      "BNN Test Error: 1.52%\n",
      "MLP Test Error: 1.66%\n",
      "MLP Dropout Test Error: 1.29%\n",
      "Epoch 183/600\n"
     ]
    },
    {
     "name": "stderr",
     "output_type": "stream",
     "text": [
      "100%|██████████| 468/468 [00:17<00:00, 26.83it/s]\n",
      "100%|██████████| 468/468 [00:06<00:00, 67.73it/s]\n",
      "100%|██████████| 468/468 [00:06<00:00, 68.07it/s]\n",
      "100%|██████████| 78/78 [00:17<00:00,  4.34it/s]\n"
     ]
    },
    {
     "name": "stdout",
     "output_type": "stream",
     "text": [
      "bnn_classification validation accuracy: 0.9855769230769231\n"
     ]
    },
    {
     "name": "stderr",
     "output_type": "stream",
     "text": [
      "100%|██████████| 78/78 [00:01<00:00, 73.38it/s]\n"
     ]
    },
    {
     "name": "stdout",
     "output_type": "stream",
     "text": [
      "mlp_classification validation accuracy: 0.9832732371794872\n"
     ]
    },
    {
     "name": "stderr",
     "output_type": "stream",
     "text": [
      "100%|██████████| 78/78 [00:01<00:00, 74.25it/s]\n"
     ]
    },
    {
     "name": "stdout",
     "output_type": "stream",
     "text": [
      "mlp_dropout_classification validation accuracy: 0.9869791666666666\n",
      "BNN Test Error: 1.44%\n",
      "MLP Test Error: 1.67%\n",
      "MLP Dropout Test Error: 1.30%\n",
      "Epoch 184/600\n"
     ]
    },
    {
     "name": "stderr",
     "output_type": "stream",
     "text": [
      "100%|██████████| 468/468 [00:17<00:00, 26.64it/s]\n",
      "100%|██████████| 468/468 [00:06<00:00, 68.68it/s]\n",
      "100%|██████████| 468/468 [00:06<00:00, 67.53it/s]\n",
      "100%|██████████| 78/78 [00:18<00:00,  4.25it/s]\n"
     ]
    },
    {
     "name": "stdout",
     "output_type": "stream",
     "text": [
      "bnn_classification validation accuracy: 0.985176282051282\n"
     ]
    },
    {
     "name": "stderr",
     "output_type": "stream",
     "text": [
      "100%|██████████| 78/78 [00:01<00:00, 71.65it/s]\n"
     ]
    },
    {
     "name": "stdout",
     "output_type": "stream",
     "text": [
      "mlp_classification validation accuracy: 0.9834735576923077\n"
     ]
    },
    {
     "name": "stderr",
     "output_type": "stream",
     "text": [
      "100%|██████████| 78/78 [00:01<00:00, 72.67it/s]\n"
     ]
    },
    {
     "name": "stdout",
     "output_type": "stream",
     "text": [
      "mlp_dropout_classification validation accuracy: 0.9866786858974359\n",
      "BNN Test Error: 1.48%\n",
      "MLP Test Error: 1.65%\n",
      "MLP Dropout Test Error: 1.33%\n",
      "Epoch 185/600\n"
     ]
    },
    {
     "name": "stderr",
     "output_type": "stream",
     "text": [
      "100%|██████████| 468/468 [00:17<00:00, 27.10it/s]\n",
      "100%|██████████| 468/468 [00:06<00:00, 67.88it/s]\n",
      "100%|██████████| 468/468 [00:06<00:00, 68.72it/s]\n",
      "100%|██████████| 78/78 [00:17<00:00,  4.36it/s]\n"
     ]
    },
    {
     "name": "stdout",
     "output_type": "stream",
     "text": [
      "bnn_classification validation accuracy: 0.9849759615384616\n"
     ]
    },
    {
     "name": "stderr",
     "output_type": "stream",
     "text": [
      "100%|██████████| 78/78 [00:01<00:00, 72.54it/s]\n"
     ]
    },
    {
     "name": "stdout",
     "output_type": "stream",
     "text": [
      "mlp_classification validation accuracy: 0.9834735576923077\n"
     ]
    },
    {
     "name": "stderr",
     "output_type": "stream",
     "text": [
      "100%|██████████| 78/78 [00:01<00:00, 73.16it/s]\n"
     ]
    },
    {
     "name": "stdout",
     "output_type": "stream",
     "text": [
      "mlp_dropout_classification validation accuracy: 0.9862780448717948\n",
      "BNN Test Error: 1.50%\n",
      "MLP Test Error: 1.65%\n",
      "MLP Dropout Test Error: 1.37%\n",
      "Epoch 186/600\n"
     ]
    },
    {
     "name": "stderr",
     "output_type": "stream",
     "text": [
      "100%|██████████| 468/468 [00:17<00:00, 26.51it/s]\n",
      "100%|██████████| 468/468 [00:06<00:00, 67.20it/s]\n",
      "100%|██████████| 468/468 [00:06<00:00, 68.72it/s]\n",
      "100%|██████████| 78/78 [00:18<00:00,  4.33it/s]\n"
     ]
    },
    {
     "name": "stdout",
     "output_type": "stream",
     "text": [
      "bnn_classification validation accuracy: 0.9852764423076923\n"
     ]
    },
    {
     "name": "stderr",
     "output_type": "stream",
     "text": [
      "100%|██████████| 78/78 [00:01<00:00, 67.96it/s]\n"
     ]
    },
    {
     "name": "stdout",
     "output_type": "stream",
     "text": [
      "mlp_classification validation accuracy: 0.9833733974358975\n"
     ]
    },
    {
     "name": "stderr",
     "output_type": "stream",
     "text": [
      "100%|██████████| 78/78 [00:01<00:00, 67.00it/s]\n"
     ]
    },
    {
     "name": "stdout",
     "output_type": "stream",
     "text": [
      "mlp_dropout_classification validation accuracy: 0.9863782051282052\n",
      "BNN Test Error: 1.47%\n",
      "MLP Test Error: 1.66%\n",
      "MLP Dropout Test Error: 1.36%\n",
      "Epoch 187/600\n"
     ]
    },
    {
     "name": "stderr",
     "output_type": "stream",
     "text": [
      "100%|██████████| 468/468 [00:17<00:00, 26.77it/s]\n",
      "100%|██████████| 468/468 [00:06<00:00, 67.40it/s]\n",
      "100%|██████████| 468/468 [00:06<00:00, 67.38it/s]\n",
      "100%|██████████| 78/78 [00:17<00:00,  4.36it/s]\n"
     ]
    },
    {
     "name": "stdout",
     "output_type": "stream",
     "text": [
      "bnn_classification validation accuracy: 0.9852764423076923\n"
     ]
    },
    {
     "name": "stderr",
     "output_type": "stream",
     "text": [
      "100%|██████████| 78/78 [00:01<00:00, 72.02it/s]\n"
     ]
    },
    {
     "name": "stdout",
     "output_type": "stream",
     "text": [
      "mlp_classification validation accuracy: 0.983573717948718\n"
     ]
    },
    {
     "name": "stderr",
     "output_type": "stream",
     "text": [
      "100%|██████████| 78/78 [00:01<00:00, 72.05it/s]\n"
     ]
    },
    {
     "name": "stdout",
     "output_type": "stream",
     "text": [
      "mlp_dropout_classification validation accuracy: 0.9857772435897436\n",
      "BNN Test Error: 1.47%\n",
      "MLP Test Error: 1.64%\n",
      "MLP Dropout Test Error: 1.42%\n",
      "Epoch 188/600\n"
     ]
    },
    {
     "name": "stderr",
     "output_type": "stream",
     "text": [
      "100%|██████████| 468/468 [00:17<00:00, 26.06it/s]\n",
      "100%|██████████| 468/468 [00:06<00:00, 69.93it/s]\n",
      "100%|██████████| 468/468 [00:06<00:00, 68.30it/s]\n",
      "100%|██████████| 78/78 [00:17<00:00,  4.39it/s]\n"
     ]
    },
    {
     "name": "stdout",
     "output_type": "stream",
     "text": [
      "bnn_classification validation accuracy: 0.985176282051282\n"
     ]
    },
    {
     "name": "stderr",
     "output_type": "stream",
     "text": [
      "100%|██████████| 78/78 [00:01<00:00, 73.26it/s]\n"
     ]
    },
    {
     "name": "stdout",
     "output_type": "stream",
     "text": [
      "mlp_classification validation accuracy: 0.9833733974358975\n"
     ]
    },
    {
     "name": "stderr",
     "output_type": "stream",
     "text": [
      "100%|██████████| 78/78 [00:01<00:00, 73.62it/s]\n"
     ]
    },
    {
     "name": "stdout",
     "output_type": "stream",
     "text": [
      "mlp_dropout_classification validation accuracy: 0.9868790064102564\n",
      "BNN Test Error: 1.48%\n",
      "MLP Test Error: 1.66%\n",
      "MLP Dropout Test Error: 1.31%\n",
      "Epoch 189/600\n"
     ]
    },
    {
     "name": "stderr",
     "output_type": "stream",
     "text": [
      "100%|██████████| 468/468 [00:17<00:00, 27.12it/s]\n",
      "100%|██████████| 468/468 [00:06<00:00, 67.41it/s]\n",
      "100%|██████████| 468/468 [00:06<00:00, 68.06it/s]\n",
      "100%|██████████| 78/78 [00:17<00:00,  4.39it/s]\n"
     ]
    },
    {
     "name": "stdout",
     "output_type": "stream",
     "text": [
      "bnn_classification validation accuracy: 0.9852764423076923\n"
     ]
    },
    {
     "name": "stderr",
     "output_type": "stream",
     "text": [
      "100%|██████████| 78/78 [00:01<00:00, 70.04it/s]\n"
     ]
    },
    {
     "name": "stdout",
     "output_type": "stream",
     "text": [
      "mlp_classification validation accuracy: 0.9834735576923077\n"
     ]
    },
    {
     "name": "stderr",
     "output_type": "stream",
     "text": [
      "100%|██████████| 78/78 [00:01<00:00, 70.69it/s]\n"
     ]
    },
    {
     "name": "stdout",
     "output_type": "stream",
     "text": [
      "mlp_dropout_classification validation accuracy: 0.9865785256410257\n",
      "BNN Test Error: 1.47%\n",
      "MLP Test Error: 1.65%\n",
      "MLP Dropout Test Error: 1.34%\n",
      "Epoch 190/600\n"
     ]
    },
    {
     "name": "stderr",
     "output_type": "stream",
     "text": [
      "100%|██████████| 468/468 [00:17<00:00, 26.46it/s]\n",
      "100%|██████████| 468/468 [00:06<00:00, 68.30it/s]\n",
      "100%|██████████| 468/468 [00:06<00:00, 68.52it/s]\n",
      "100%|██████████| 78/78 [00:17<00:00,  4.34it/s]\n"
     ]
    },
    {
     "name": "stdout",
     "output_type": "stream",
     "text": [
      "bnn_classification validation accuracy: 0.9849759615384616\n"
     ]
    },
    {
     "name": "stderr",
     "output_type": "stream",
     "text": [
      "100%|██████████| 78/78 [00:01<00:00, 71.96it/s]\n"
     ]
    },
    {
     "name": "stdout",
     "output_type": "stream",
     "text": [
      "mlp_classification validation accuracy: 0.9833733974358975\n"
     ]
    },
    {
     "name": "stderr",
     "output_type": "stream",
     "text": [
      "100%|██████████| 78/78 [00:01<00:00, 72.52it/s]\n"
     ]
    },
    {
     "name": "stdout",
     "output_type": "stream",
     "text": [
      "mlp_dropout_classification validation accuracy: 0.9864783653846154\n",
      "BNN Test Error: 1.50%\n",
      "MLP Test Error: 1.66%\n",
      "MLP Dropout Test Error: 1.35%\n",
      "Epoch 191/600\n"
     ]
    },
    {
     "name": "stderr",
     "output_type": "stream",
     "text": [
      "100%|██████████| 468/468 [00:18<00:00, 25.98it/s]\n",
      "100%|██████████| 468/468 [00:06<00:00, 68.18it/s]\n",
      "100%|██████████| 468/468 [00:06<00:00, 68.43it/s]\n",
      "100%|██████████| 78/78 [00:18<00:00,  4.30it/s]\n"
     ]
    },
    {
     "name": "stdout",
     "output_type": "stream",
     "text": [
      "bnn_classification validation accuracy: 0.9854767628205128\n"
     ]
    },
    {
     "name": "stderr",
     "output_type": "stream",
     "text": [
      "100%|██████████| 78/78 [00:01<00:00, 70.59it/s]\n"
     ]
    },
    {
     "name": "stdout",
     "output_type": "stream",
     "text": [
      "mlp_classification validation accuracy: 0.9833733974358975\n"
     ]
    },
    {
     "name": "stderr",
     "output_type": "stream",
     "text": [
      "100%|██████████| 78/78 [00:01<00:00, 70.13it/s]\n"
     ]
    },
    {
     "name": "stdout",
     "output_type": "stream",
     "text": [
      "mlp_dropout_classification validation accuracy: 0.9871794871794872\n",
      "BNN Test Error: 1.45%\n",
      "MLP Test Error: 1.66%\n",
      "MLP Dropout Test Error: 1.28%\n",
      "Epoch 192/600\n"
     ]
    },
    {
     "name": "stderr",
     "output_type": "stream",
     "text": [
      "100%|██████████| 468/468 [00:17<00:00, 26.81it/s]\n",
      "100%|██████████| 468/468 [00:06<00:00, 69.43it/s]\n",
      "100%|██████████| 468/468 [00:07<00:00, 66.48it/s]\n",
      "100%|██████████| 78/78 [00:17<00:00,  4.38it/s]\n"
     ]
    },
    {
     "name": "stdout",
     "output_type": "stream",
     "text": [
      "bnn_classification validation accuracy: 0.9853766025641025\n"
     ]
    },
    {
     "name": "stderr",
     "output_type": "stream",
     "text": [
      "100%|██████████| 78/78 [00:01<00:00, 72.77it/s]\n"
     ]
    },
    {
     "name": "stdout",
     "output_type": "stream",
     "text": [
      "mlp_classification validation accuracy: 0.9833733974358975\n"
     ]
    },
    {
     "name": "stderr",
     "output_type": "stream",
     "text": [
      "100%|██████████| 78/78 [00:01<00:00, 69.56it/s]\n"
     ]
    },
    {
     "name": "stdout",
     "output_type": "stream",
     "text": [
      "mlp_dropout_classification validation accuracy: 0.9870793269230769\n",
      "BNN Test Error: 1.46%\n",
      "MLP Test Error: 1.66%\n",
      "MLP Dropout Test Error: 1.29%\n",
      "Epoch 193/600\n"
     ]
    },
    {
     "name": "stderr",
     "output_type": "stream",
     "text": [
      "100%|██████████| 468/468 [00:17<00:00, 26.25it/s]\n",
      "100%|██████████| 468/468 [00:06<00:00, 67.78it/s]\n",
      "100%|██████████| 468/468 [00:06<00:00, 67.59it/s]\n",
      "100%|██████████| 78/78 [00:17<00:00,  4.34it/s]\n"
     ]
    },
    {
     "name": "stdout",
     "output_type": "stream",
     "text": [
      "bnn_classification validation accuracy: 0.9855769230769231\n"
     ]
    },
    {
     "name": "stderr",
     "output_type": "stream",
     "text": [
      "100%|██████████| 78/78 [00:01<00:00, 71.06it/s]\n"
     ]
    },
    {
     "name": "stdout",
     "output_type": "stream",
     "text": [
      "mlp_classification validation accuracy: 0.9833733974358975\n"
     ]
    },
    {
     "name": "stderr",
     "output_type": "stream",
     "text": [
      "100%|██████████| 78/78 [00:01<00:00, 70.77it/s]\n"
     ]
    },
    {
     "name": "stdout",
     "output_type": "stream",
     "text": [
      "mlp_dropout_classification validation accuracy: 0.9867788461538461\n",
      "BNN Test Error: 1.44%\n",
      "MLP Test Error: 1.66%\n",
      "MLP Dropout Test Error: 1.32%\n",
      "Epoch 194/600\n"
     ]
    },
    {
     "name": "stderr",
     "output_type": "stream",
     "text": [
      "100%|██████████| 468/468 [00:17<00:00, 27.08it/s]\n",
      "100%|██████████| 468/468 [00:06<00:00, 67.06it/s]\n",
      "100%|██████████| 468/468 [00:06<00:00, 67.43it/s]\n",
      "100%|██████████| 78/78 [00:18<00:00,  4.15it/s]\n"
     ]
    },
    {
     "name": "stdout",
     "output_type": "stream",
     "text": [
      "bnn_classification validation accuracy: 0.985176282051282\n"
     ]
    },
    {
     "name": "stderr",
     "output_type": "stream",
     "text": [
      "100%|██████████| 78/78 [00:01<00:00, 68.46it/s]\n"
     ]
    },
    {
     "name": "stdout",
     "output_type": "stream",
     "text": [
      "mlp_classification validation accuracy: 0.9832732371794872\n"
     ]
    },
    {
     "name": "stderr",
     "output_type": "stream",
     "text": [
      "100%|██████████| 78/78 [00:01<00:00, 71.69it/s]\n"
     ]
    },
    {
     "name": "stdout",
     "output_type": "stream",
     "text": [
      "mlp_dropout_classification validation accuracy: 0.9869791666666666\n",
      "BNN Test Error: 1.48%\n",
      "MLP Test Error: 1.67%\n",
      "MLP Dropout Test Error: 1.30%\n",
      "Epoch 195/600\n"
     ]
    },
    {
     "name": "stderr",
     "output_type": "stream",
     "text": [
      "100%|██████████| 468/468 [00:18<00:00, 25.54it/s]\n",
      "100%|██████████| 468/468 [00:06<00:00, 67.77it/s]\n",
      "100%|██████████| 468/468 [00:07<00:00, 65.92it/s]\n",
      "100%|██████████| 78/78 [00:17<00:00,  4.36it/s]\n"
     ]
    },
    {
     "name": "stdout",
     "output_type": "stream",
     "text": [
      "bnn_classification validation accuracy: 0.9853766025641025\n"
     ]
    },
    {
     "name": "stderr",
     "output_type": "stream",
     "text": [
      "100%|██████████| 78/78 [00:01<00:00, 70.32it/s]\n"
     ]
    },
    {
     "name": "stdout",
     "output_type": "stream",
     "text": [
      "mlp_classification validation accuracy: 0.9832732371794872\n"
     ]
    },
    {
     "name": "stderr",
     "output_type": "stream",
     "text": [
      "100%|██████████| 78/78 [00:01<00:00, 70.69it/s]\n"
     ]
    },
    {
     "name": "stdout",
     "output_type": "stream",
     "text": [
      "mlp_dropout_classification validation accuracy: 0.9869791666666666\n",
      "BNN Test Error: 1.46%\n",
      "MLP Test Error: 1.67%\n",
      "MLP Dropout Test Error: 1.30%\n",
      "Epoch 196/600\n"
     ]
    },
    {
     "name": "stderr",
     "output_type": "stream",
     "text": [
      "100%|██████████| 468/468 [00:17<00:00, 26.39it/s]\n",
      "100%|██████████| 468/468 [00:06<00:00, 68.59it/s]\n",
      "100%|██████████| 468/468 [00:07<00:00, 66.29it/s]\n",
      "100%|██████████| 78/78 [00:18<00:00,  4.23it/s]\n"
     ]
    },
    {
     "name": "stdout",
     "output_type": "stream",
     "text": [
      "bnn_classification validation accuracy: 0.9854767628205128\n"
     ]
    },
    {
     "name": "stderr",
     "output_type": "stream",
     "text": [
      "100%|██████████| 78/78 [00:01<00:00, 70.30it/s]\n"
     ]
    },
    {
     "name": "stdout",
     "output_type": "stream",
     "text": [
      "mlp_classification validation accuracy: 0.9834735576923077\n"
     ]
    },
    {
     "name": "stderr",
     "output_type": "stream",
     "text": [
      "100%|██████████| 78/78 [00:01<00:00, 70.63it/s]\n"
     ]
    },
    {
     "name": "stdout",
     "output_type": "stream",
     "text": [
      "mlp_dropout_classification validation accuracy: 0.9870793269230769\n",
      "BNN Test Error: 1.45%\n",
      "MLP Test Error: 1.65%\n",
      "MLP Dropout Test Error: 1.29%\n",
      "Epoch 197/600\n"
     ]
    },
    {
     "name": "stderr",
     "output_type": "stream",
     "text": [
      "100%|██████████| 468/468 [00:18<00:00, 25.85it/s]\n",
      "100%|██████████| 468/468 [00:06<00:00, 67.35it/s]\n",
      "100%|██████████| 468/468 [00:06<00:00, 66.99it/s]\n",
      "100%|██████████| 78/78 [00:17<00:00,  4.34it/s]\n"
     ]
    },
    {
     "name": "stdout",
     "output_type": "stream",
     "text": [
      "bnn_classification validation accuracy: 0.9850761217948718\n"
     ]
    },
    {
     "name": "stderr",
     "output_type": "stream",
     "text": [
      "100%|██████████| 78/78 [00:01<00:00, 67.27it/s]\n"
     ]
    },
    {
     "name": "stdout",
     "output_type": "stream",
     "text": [
      "mlp_classification validation accuracy: 0.9834735576923077\n"
     ]
    },
    {
     "name": "stderr",
     "output_type": "stream",
     "text": [
      "100%|██████████| 78/78 [00:01<00:00, 67.58it/s]\n"
     ]
    },
    {
     "name": "stdout",
     "output_type": "stream",
     "text": [
      "mlp_dropout_classification validation accuracy: 0.9867788461538461\n",
      "BNN Test Error: 1.49%\n",
      "MLP Test Error: 1.65%\n",
      "MLP Dropout Test Error: 1.32%\n",
      "Epoch 198/600\n"
     ]
    },
    {
     "name": "stderr",
     "output_type": "stream",
     "text": [
      "100%|██████████| 468/468 [00:17<00:00, 27.04it/s]\n",
      "100%|██████████| 468/468 [00:06<00:00, 67.55it/s]\n",
      "100%|██████████| 468/468 [00:07<00:00, 65.19it/s]\n",
      "100%|██████████| 78/78 [00:17<00:00,  4.38it/s]\n"
     ]
    },
    {
     "name": "stdout",
     "output_type": "stream",
     "text": [
      "bnn_classification validation accuracy: 0.9852764423076923\n"
     ]
    },
    {
     "name": "stderr",
     "output_type": "stream",
     "text": [
      "100%|██████████| 78/78 [00:01<00:00, 70.87it/s]\n"
     ]
    },
    {
     "name": "stdout",
     "output_type": "stream",
     "text": [
      "mlp_classification validation accuracy: 0.9833733974358975\n"
     ]
    },
    {
     "name": "stderr",
     "output_type": "stream",
     "text": [
      "100%|██████████| 78/78 [00:01<00:00, 70.22it/s]\n"
     ]
    },
    {
     "name": "stdout",
     "output_type": "stream",
     "text": [
      "mlp_dropout_classification validation accuracy: 0.9870793269230769\n",
      "BNN Test Error: 1.47%\n",
      "MLP Test Error: 1.66%\n",
      "MLP Dropout Test Error: 1.29%\n",
      "Epoch 199/600\n"
     ]
    },
    {
     "name": "stderr",
     "output_type": "stream",
     "text": [
      "100%|██████████| 468/468 [00:18<00:00, 25.18it/s]\n",
      "100%|██████████| 468/468 [00:06<00:00, 69.03it/s]\n",
      "100%|██████████| 468/468 [00:06<00:00, 67.83it/s]\n",
      "100%|██████████| 78/78 [00:19<00:00,  4.06it/s]\n"
     ]
    },
    {
     "name": "stdout",
     "output_type": "stream",
     "text": [
      "bnn_classification validation accuracy: 0.985176282051282\n"
     ]
    },
    {
     "name": "stderr",
     "output_type": "stream",
     "text": [
      "100%|██████████| 78/78 [00:01<00:00, 72.37it/s]\n"
     ]
    },
    {
     "name": "stdout",
     "output_type": "stream",
     "text": [
      "mlp_classification validation accuracy: 0.9833733974358975\n"
     ]
    },
    {
     "name": "stderr",
     "output_type": "stream",
     "text": [
      "100%|██████████| 78/78 [00:01<00:00, 72.27it/s]\n"
     ]
    },
    {
     "name": "stdout",
     "output_type": "stream",
     "text": [
      "mlp_dropout_classification validation accuracy: 0.9869791666666666\n",
      "BNN Test Error: 1.48%\n",
      "MLP Test Error: 1.66%\n",
      "MLP Dropout Test Error: 1.30%\n",
      "Epoch 200/600\n"
     ]
    },
    {
     "name": "stderr",
     "output_type": "stream",
     "text": [
      "100%|██████████| 468/468 [00:17<00:00, 26.63it/s]\n",
      "100%|██████████| 468/468 [00:06<00:00, 67.30it/s]\n",
      "100%|██████████| 468/468 [00:07<00:00, 66.67it/s]\n",
      "100%|██████████| 78/78 [00:17<00:00,  4.39it/s]\n"
     ]
    },
    {
     "name": "stdout",
     "output_type": "stream",
     "text": [
      "bnn_classification validation accuracy: 0.9850761217948718\n"
     ]
    },
    {
     "name": "stderr",
     "output_type": "stream",
     "text": [
      "100%|██████████| 78/78 [00:01<00:00, 71.23it/s]\n"
     ]
    },
    {
     "name": "stdout",
     "output_type": "stream",
     "text": [
      "mlp_classification validation accuracy: 0.9834735576923077\n"
     ]
    },
    {
     "name": "stderr",
     "output_type": "stream",
     "text": [
      "100%|██████████| 78/78 [00:01<00:00, 72.76it/s]\n"
     ]
    },
    {
     "name": "stdout",
     "output_type": "stream",
     "text": [
      "mlp_dropout_classification validation accuracy: 0.9872796474358975\n",
      "BNN Test Error: 1.49%\n",
      "MLP Test Error: 1.65%\n",
      "MLP Dropout Test Error: 1.27%\n",
      "Epoch 201/600\n"
     ]
    },
    {
     "name": "stderr",
     "output_type": "stream",
     "text": [
      "100%|██████████| 468/468 [00:18<00:00, 25.08it/s]\n",
      "100%|██████████| 468/468 [00:06<00:00, 67.48it/s]\n",
      "100%|██████████| 468/468 [00:06<00:00, 67.35it/s]\n",
      "100%|██████████| 78/78 [00:18<00:00,  4.24it/s]\n"
     ]
    },
    {
     "name": "stdout",
     "output_type": "stream",
     "text": [
      "bnn_classification validation accuracy: 0.9848758012820513\n"
     ]
    },
    {
     "name": "stderr",
     "output_type": "stream",
     "text": [
      "100%|██████████| 78/78 [00:01<00:00, 70.51it/s]\n"
     ]
    },
    {
     "name": "stdout",
     "output_type": "stream",
     "text": [
      "mlp_classification validation accuracy: 0.9833733974358975\n"
     ]
    },
    {
     "name": "stderr",
     "output_type": "stream",
     "text": [
      "100%|██████████| 78/78 [00:01<00:00, 73.33it/s]\n"
     ]
    },
    {
     "name": "stdout",
     "output_type": "stream",
     "text": [
      "mlp_dropout_classification validation accuracy: 0.9866786858974359\n",
      "BNN Test Error: 1.51%\n",
      "MLP Test Error: 1.66%\n",
      "MLP Dropout Test Error: 1.33%\n",
      "Epoch 202/600\n"
     ]
    },
    {
     "name": "stderr",
     "output_type": "stream",
     "text": [
      "100%|██████████| 468/468 [00:17<00:00, 26.62it/s]\n",
      "100%|██████████| 468/468 [00:06<00:00, 67.66it/s]\n",
      "100%|██████████| 468/468 [00:07<00:00, 66.83it/s]\n",
      "100%|██████████| 78/78 [00:17<00:00,  4.35it/s]\n"
     ]
    },
    {
     "name": "stdout",
     "output_type": "stream",
     "text": [
      "bnn_classification validation accuracy: 0.985176282051282\n"
     ]
    },
    {
     "name": "stderr",
     "output_type": "stream",
     "text": [
      "100%|██████████| 78/78 [00:01<00:00, 70.87it/s]\n"
     ]
    },
    {
     "name": "stdout",
     "output_type": "stream",
     "text": [
      "mlp_classification validation accuracy: 0.9833733974358975\n"
     ]
    },
    {
     "name": "stderr",
     "output_type": "stream",
     "text": [
      "100%|██████████| 78/78 [00:01<00:00, 69.74it/s]\n"
     ]
    },
    {
     "name": "stdout",
     "output_type": "stream",
     "text": [
      "mlp_dropout_classification validation accuracy: 0.9869791666666666\n",
      "BNN Test Error: 1.48%\n",
      "MLP Test Error: 1.66%\n",
      "MLP Dropout Test Error: 1.30%\n",
      "Epoch 203/600\n"
     ]
    },
    {
     "name": "stderr",
     "output_type": "stream",
     "text": [
      "100%|██████████| 468/468 [00:18<00:00, 25.98it/s]\n",
      "100%|██████████| 468/468 [00:06<00:00, 67.16it/s]\n",
      "100%|██████████| 468/468 [00:06<00:00, 67.68it/s]\n",
      "100%|██████████| 78/78 [00:17<00:00,  4.37it/s]\n"
     ]
    },
    {
     "name": "stdout",
     "output_type": "stream",
     "text": [
      "bnn_classification validation accuracy: 0.9853766025641025\n"
     ]
    },
    {
     "name": "stderr",
     "output_type": "stream",
     "text": [
      "100%|██████████| 78/78 [00:01<00:00, 72.36it/s]\n"
     ]
    },
    {
     "name": "stdout",
     "output_type": "stream",
     "text": [
      "mlp_classification validation accuracy: 0.9833733974358975\n"
     ]
    },
    {
     "name": "stderr",
     "output_type": "stream",
     "text": [
      "100%|██████████| 78/78 [00:01<00:00, 72.40it/s]\n"
     ]
    },
    {
     "name": "stdout",
     "output_type": "stream",
     "text": [
      "mlp_dropout_classification validation accuracy: 0.9870793269230769\n",
      "BNN Test Error: 1.46%\n",
      "MLP Test Error: 1.66%\n",
      "MLP Dropout Test Error: 1.29%\n",
      "Epoch 204/600\n"
     ]
    },
    {
     "name": "stderr",
     "output_type": "stream",
     "text": [
      "100%|██████████| 468/468 [00:17<00:00, 26.82it/s]\n",
      "100%|██████████| 468/468 [00:06<00:00, 67.95it/s]\n",
      "100%|██████████| 468/468 [00:06<00:00, 67.26it/s]\n",
      "100%|██████████| 78/78 [00:17<00:00,  4.34it/s]\n"
     ]
    },
    {
     "name": "stdout",
     "output_type": "stream",
     "text": [
      "bnn_classification validation accuracy: 0.9852764423076923\n"
     ]
    },
    {
     "name": "stderr",
     "output_type": "stream",
     "text": [
      "100%|██████████| 78/78 [00:01<00:00, 71.10it/s]\n"
     ]
    },
    {
     "name": "stdout",
     "output_type": "stream",
     "text": [
      "mlp_classification validation accuracy: 0.9834735576923077\n"
     ]
    },
    {
     "name": "stderr",
     "output_type": "stream",
     "text": [
      "100%|██████████| 78/78 [00:01<00:00, 73.66it/s]\n"
     ]
    },
    {
     "name": "stdout",
     "output_type": "stream",
     "text": [
      "mlp_dropout_classification validation accuracy: 0.9866786858974359\n",
      "BNN Test Error: 1.47%\n",
      "MLP Test Error: 1.65%\n",
      "MLP Dropout Test Error: 1.33%\n",
      "Epoch 205/600\n"
     ]
    },
    {
     "name": "stderr",
     "output_type": "stream",
     "text": [
      "100%|██████████| 468/468 [00:17<00:00, 26.52it/s]\n",
      "100%|██████████| 468/468 [00:06<00:00, 68.48it/s]\n",
      "100%|██████████| 468/468 [00:06<00:00, 68.80it/s]\n",
      "100%|██████████| 78/78 [00:18<00:00,  4.24it/s]\n"
     ]
    },
    {
     "name": "stdout",
     "output_type": "stream",
     "text": [
      "bnn_classification validation accuracy: 0.9848758012820513\n"
     ]
    },
    {
     "name": "stderr",
     "output_type": "stream",
     "text": [
      "100%|██████████| 78/78 [00:01<00:00, 73.27it/s]\n"
     ]
    },
    {
     "name": "stdout",
     "output_type": "stream",
     "text": [
      "mlp_classification validation accuracy: 0.9833733974358975\n"
     ]
    },
    {
     "name": "stderr",
     "output_type": "stream",
     "text": [
      "100%|██████████| 78/78 [00:01<00:00, 71.19it/s]\n"
     ]
    },
    {
     "name": "stdout",
     "output_type": "stream",
     "text": [
      "mlp_dropout_classification validation accuracy: 0.9870793269230769\n",
      "BNN Test Error: 1.51%\n",
      "MLP Test Error: 1.66%\n",
      "MLP Dropout Test Error: 1.29%\n",
      "Epoch 206/600\n"
     ]
    },
    {
     "name": "stderr",
     "output_type": "stream",
     "text": [
      "100%|██████████| 468/468 [00:17<00:00, 26.96it/s]\n",
      "100%|██████████| 468/468 [00:06<00:00, 67.74it/s]\n",
      "100%|██████████| 468/468 [00:06<00:00, 66.97it/s]\n",
      "100%|██████████| 78/78 [00:17<00:00,  4.37it/s]\n"
     ]
    },
    {
     "name": "stdout",
     "output_type": "stream",
     "text": [
      "bnn_classification validation accuracy: 0.9853766025641025\n"
     ]
    },
    {
     "name": "stderr",
     "output_type": "stream",
     "text": [
      "100%|██████████| 78/78 [00:01<00:00, 72.27it/s]\n"
     ]
    },
    {
     "name": "stdout",
     "output_type": "stream",
     "text": [
      "mlp_classification validation accuracy: 0.9833733974358975\n"
     ]
    },
    {
     "name": "stderr",
     "output_type": "stream",
     "text": [
      "100%|██████████| 78/78 [00:01<00:00, 72.49it/s]\n"
     ]
    },
    {
     "name": "stdout",
     "output_type": "stream",
     "text": [
      "mlp_dropout_classification validation accuracy: 0.9869791666666666\n",
      "BNN Test Error: 1.46%\n",
      "MLP Test Error: 1.66%\n",
      "MLP Dropout Test Error: 1.30%\n",
      "Epoch 207/600\n"
     ]
    },
    {
     "name": "stderr",
     "output_type": "stream",
     "text": [
      "100%|██████████| 468/468 [00:17<00:00, 26.05it/s]\n",
      "100%|██████████| 468/468 [00:06<00:00, 69.56it/s]\n",
      "100%|██████████| 468/468 [00:06<00:00, 68.53it/s]\n",
      "100%|██████████| 78/78 [00:18<00:00,  4.17it/s]\n"
     ]
    },
    {
     "name": "stdout",
     "output_type": "stream",
     "text": [
      "bnn_classification validation accuracy: 0.985176282051282\n"
     ]
    },
    {
     "name": "stderr",
     "output_type": "stream",
     "text": [
      "100%|██████████| 78/78 [00:01<00:00, 71.91it/s]\n"
     ]
    },
    {
     "name": "stdout",
     "output_type": "stream",
     "text": [
      "mlp_classification validation accuracy: 0.9833733974358975\n"
     ]
    },
    {
     "name": "stderr",
     "output_type": "stream",
     "text": [
      "100%|██████████| 78/78 [00:01<00:00, 73.81it/s]\n"
     ]
    },
    {
     "name": "stdout",
     "output_type": "stream",
     "text": [
      "mlp_dropout_classification validation accuracy: 0.9869791666666666\n",
      "BNN Test Error: 1.48%\n",
      "MLP Test Error: 1.66%\n",
      "MLP Dropout Test Error: 1.30%\n",
      "Epoch 208/600\n"
     ]
    },
    {
     "name": "stderr",
     "output_type": "stream",
     "text": [
      "100%|██████████| 468/468 [00:17<00:00, 26.90it/s]\n",
      "100%|██████████| 468/468 [00:07<00:00, 66.71it/s]\n",
      "100%|██████████| 468/468 [00:06<00:00, 68.28it/s]\n",
      "100%|██████████| 78/78 [00:17<00:00,  4.40it/s]\n"
     ]
    },
    {
     "name": "stdout",
     "output_type": "stream",
     "text": [
      "bnn_classification validation accuracy: 0.9850761217948718\n"
     ]
    },
    {
     "name": "stderr",
     "output_type": "stream",
     "text": [
      "100%|██████████| 78/78 [00:01<00:00, 66.88it/s]\n"
     ]
    },
    {
     "name": "stdout",
     "output_type": "stream",
     "text": [
      "mlp_classification validation accuracy: 0.9833733974358975\n"
     ]
    },
    {
     "name": "stderr",
     "output_type": "stream",
     "text": [
      "100%|██████████| 78/78 [00:01<00:00, 73.12it/s]\n"
     ]
    },
    {
     "name": "stdout",
     "output_type": "stream",
     "text": [
      "mlp_dropout_classification validation accuracy: 0.9868790064102564\n",
      "BNN Test Error: 1.49%\n",
      "MLP Test Error: 1.66%\n",
      "MLP Dropout Test Error: 1.31%\n",
      "Epoch 209/600\n"
     ]
    },
    {
     "name": "stderr",
     "output_type": "stream",
     "text": [
      "100%|██████████| 468/468 [00:17<00:00, 26.20it/s]\n",
      "100%|██████████| 468/468 [00:06<00:00, 69.58it/s]\n",
      "100%|██████████| 468/468 [00:06<00:00, 67.02it/s]\n",
      "100%|██████████| 78/78 [00:18<00:00,  4.27it/s]\n"
     ]
    },
    {
     "name": "stdout",
     "output_type": "stream",
     "text": [
      "bnn_classification validation accuracy: 0.9850761217948718\n"
     ]
    },
    {
     "name": "stderr",
     "output_type": "stream",
     "text": [
      "100%|██████████| 78/78 [00:01<00:00, 73.44it/s]\n"
     ]
    },
    {
     "name": "stdout",
     "output_type": "stream",
     "text": [
      "mlp_classification validation accuracy: 0.9833733974358975\n"
     ]
    },
    {
     "name": "stderr",
     "output_type": "stream",
     "text": [
      "100%|██████████| 78/78 [00:01<00:00, 72.82it/s]\n"
     ]
    },
    {
     "name": "stdout",
     "output_type": "stream",
     "text": [
      "mlp_dropout_classification validation accuracy: 0.9867788461538461\n",
      "BNN Test Error: 1.49%\n",
      "MLP Test Error: 1.66%\n",
      "MLP Dropout Test Error: 1.32%\n",
      "Epoch 210/600\n"
     ]
    },
    {
     "name": "stderr",
     "output_type": "stream",
     "text": [
      "100%|██████████| 468/468 [00:17<00:00, 26.63it/s]\n",
      "100%|██████████| 468/468 [00:06<00:00, 67.22it/s]\n",
      "100%|██████████| 468/468 [00:06<00:00, 66.94it/s]\n",
      "100%|██████████| 78/78 [00:18<00:00,  4.29it/s]\n"
     ]
    },
    {
     "name": "stdout",
     "output_type": "stream",
     "text": [
      "bnn_classification validation accuracy: 0.9852764423076923\n"
     ]
    },
    {
     "name": "stderr",
     "output_type": "stream",
     "text": [
      "100%|██████████| 78/78 [00:01<00:00, 72.61it/s]\n"
     ]
    },
    {
     "name": "stdout",
     "output_type": "stream",
     "text": [
      "mlp_classification validation accuracy: 0.9833733974358975\n"
     ]
    },
    {
     "name": "stderr",
     "output_type": "stream",
     "text": [
      "100%|██████████| 78/78 [00:01<00:00, 73.17it/s]\n"
     ]
    },
    {
     "name": "stdout",
     "output_type": "stream",
     "text": [
      "mlp_dropout_classification validation accuracy: 0.9865785256410257\n",
      "BNN Test Error: 1.47%\n",
      "MLP Test Error: 1.66%\n",
      "MLP Dropout Test Error: 1.34%\n",
      "Epoch 211/600\n"
     ]
    },
    {
     "name": "stderr",
     "output_type": "stream",
     "text": [
      "100%|██████████| 468/468 [00:18<00:00, 25.04it/s]\n",
      "100%|██████████| 468/468 [00:06<00:00, 69.01it/s]\n",
      "100%|██████████| 468/468 [00:06<00:00, 69.92it/s]\n",
      "100%|██████████| 78/78 [00:17<00:00,  4.35it/s]\n"
     ]
    },
    {
     "name": "stdout",
     "output_type": "stream",
     "text": [
      "bnn_classification validation accuracy: 0.9850761217948718\n"
     ]
    },
    {
     "name": "stderr",
     "output_type": "stream",
     "text": [
      "100%|██████████| 78/78 [00:01<00:00, 73.75it/s]\n"
     ]
    },
    {
     "name": "stdout",
     "output_type": "stream",
     "text": [
      "mlp_classification validation accuracy: 0.9833733974358975\n"
     ]
    },
    {
     "name": "stderr",
     "output_type": "stream",
     "text": [
      "100%|██████████| 78/78 [00:01<00:00, 70.54it/s]\n"
     ]
    },
    {
     "name": "stdout",
     "output_type": "stream",
     "text": [
      "mlp_dropout_classification validation accuracy: 0.9863782051282052\n",
      "BNN Test Error: 1.49%\n",
      "MLP Test Error: 1.66%\n",
      "MLP Dropout Test Error: 1.36%\n",
      "Epoch 212/600\n"
     ]
    },
    {
     "name": "stderr",
     "output_type": "stream",
     "text": [
      "100%|██████████| 468/468 [00:17<00:00, 26.35it/s]\n",
      "100%|██████████| 468/468 [00:06<00:00, 67.76it/s]\n",
      "100%|██████████| 468/468 [00:06<00:00, 67.88it/s]\n",
      "100%|██████████| 78/78 [00:18<00:00,  4.28it/s]\n"
     ]
    },
    {
     "name": "stdout",
     "output_type": "stream",
     "text": [
      "bnn_classification validation accuracy: 0.9849759615384616\n"
     ]
    },
    {
     "name": "stderr",
     "output_type": "stream",
     "text": [
      "100%|██████████| 78/78 [00:01<00:00, 69.87it/s]\n"
     ]
    },
    {
     "name": "stdout",
     "output_type": "stream",
     "text": [
      "mlp_classification validation accuracy: 0.9833733974358975\n"
     ]
    },
    {
     "name": "stderr",
     "output_type": "stream",
     "text": [
      "100%|██████████| 78/78 [00:01<00:00, 72.86it/s]\n"
     ]
    },
    {
     "name": "stdout",
     "output_type": "stream",
     "text": [
      "mlp_dropout_classification validation accuracy: 0.9867788461538461\n",
      "BNN Test Error: 1.50%\n",
      "MLP Test Error: 1.66%\n",
      "MLP Dropout Test Error: 1.32%\n",
      "Epoch 213/600\n"
     ]
    },
    {
     "name": "stderr",
     "output_type": "stream",
     "text": [
      "100%|██████████| 468/468 [00:17<00:00, 26.58it/s]\n",
      "100%|██████████| 468/468 [00:06<00:00, 68.83it/s]\n",
      "100%|██████████| 468/468 [00:06<00:00, 67.90it/s]\n",
      "100%|██████████| 78/78 [00:18<00:00,  4.12it/s]\n"
     ]
    },
    {
     "name": "stdout",
     "output_type": "stream",
     "text": [
      "bnn_classification validation accuracy: 0.9850761217948718\n"
     ]
    },
    {
     "name": "stderr",
     "output_type": "stream",
     "text": [
      "100%|██████████| 78/78 [00:01<00:00, 73.25it/s]\n"
     ]
    },
    {
     "name": "stdout",
     "output_type": "stream",
     "text": [
      "mlp_classification validation accuracy: 0.9833733974358975\n"
     ]
    },
    {
     "name": "stderr",
     "output_type": "stream",
     "text": [
      "100%|██████████| 78/78 [00:01<00:00, 74.07it/s]\n"
     ]
    },
    {
     "name": "stdout",
     "output_type": "stream",
     "text": [
      "mlp_dropout_classification validation accuracy: 0.9869791666666666\n",
      "BNN Test Error: 1.49%\n",
      "MLP Test Error: 1.66%\n",
      "MLP Dropout Test Error: 1.30%\n",
      "Epoch 214/600\n"
     ]
    },
    {
     "name": "stderr",
     "output_type": "stream",
     "text": [
      "100%|██████████| 468/468 [00:17<00:00, 27.29it/s]\n",
      "100%|██████████| 468/468 [00:06<00:00, 68.48it/s]\n",
      "100%|██████████| 468/468 [00:06<00:00, 68.51it/s]\n",
      "100%|██████████| 78/78 [00:17<00:00,  4.45it/s]\n"
     ]
    },
    {
     "name": "stdout",
     "output_type": "stream",
     "text": [
      "bnn_classification validation accuracy: 0.985176282051282\n"
     ]
    },
    {
     "name": "stderr",
     "output_type": "stream",
     "text": [
      "100%|██████████| 78/78 [00:01<00:00, 72.53it/s]\n"
     ]
    },
    {
     "name": "stdout",
     "output_type": "stream",
     "text": [
      "mlp_classification validation accuracy: 0.9833733974358975\n"
     ]
    },
    {
     "name": "stderr",
     "output_type": "stream",
     "text": [
      "100%|██████████| 78/78 [00:01<00:00, 71.88it/s]\n"
     ]
    },
    {
     "name": "stdout",
     "output_type": "stream",
     "text": [
      "mlp_dropout_classification validation accuracy: 0.9868790064102564\n",
      "BNN Test Error: 1.48%\n",
      "MLP Test Error: 1.66%\n",
      "MLP Dropout Test Error: 1.31%\n",
      "Epoch 215/600\n"
     ]
    },
    {
     "name": "stderr",
     "output_type": "stream",
     "text": [
      "100%|██████████| 468/468 [00:17<00:00, 26.18it/s]\n",
      "100%|██████████| 468/468 [00:06<00:00, 68.92it/s]\n",
      "100%|██████████| 468/468 [00:06<00:00, 67.97it/s]\n",
      "100%|██████████| 78/78 [00:18<00:00,  4.25it/s]\n"
     ]
    },
    {
     "name": "stdout",
     "output_type": "stream",
     "text": [
      "bnn_classification validation accuracy: 0.9850761217948718\n"
     ]
    },
    {
     "name": "stderr",
     "output_type": "stream",
     "text": [
      "100%|██████████| 78/78 [00:01<00:00, 73.18it/s]\n"
     ]
    },
    {
     "name": "stdout",
     "output_type": "stream",
     "text": [
      "mlp_classification validation accuracy: 0.9833733974358975\n"
     ]
    },
    {
     "name": "stderr",
     "output_type": "stream",
     "text": [
      "100%|██████████| 78/78 [00:01<00:00, 71.89it/s]\n"
     ]
    },
    {
     "name": "stdout",
     "output_type": "stream",
     "text": [
      "mlp_dropout_classification validation accuracy: 0.9865785256410257\n",
      "BNN Test Error: 1.49%\n",
      "MLP Test Error: 1.66%\n",
      "MLP Dropout Test Error: 1.34%\n",
      "Epoch 216/600\n"
     ]
    },
    {
     "name": "stderr",
     "output_type": "stream",
     "text": [
      "100%|██████████| 468/468 [00:17<00:00, 27.13it/s]\n",
      "100%|██████████| 468/468 [00:06<00:00, 66.90it/s]\n",
      "100%|██████████| 468/468 [00:06<00:00, 68.16it/s]\n",
      "100%|██████████| 78/78 [00:17<00:00,  4.39it/s]\n"
     ]
    },
    {
     "name": "stdout",
     "output_type": "stream",
     "text": [
      "bnn_classification validation accuracy: 0.9852764423076923\n"
     ]
    },
    {
     "name": "stderr",
     "output_type": "stream",
     "text": [
      "100%|██████████| 78/78 [00:01<00:00, 72.52it/s]\n"
     ]
    },
    {
     "name": "stdout",
     "output_type": "stream",
     "text": [
      "mlp_classification validation accuracy: 0.9833733974358975\n"
     ]
    },
    {
     "name": "stderr",
     "output_type": "stream",
     "text": [
      "100%|██████████| 78/78 [00:01<00:00, 71.11it/s]\n"
     ]
    },
    {
     "name": "stdout",
     "output_type": "stream",
     "text": [
      "mlp_dropout_classification validation accuracy: 0.9868790064102564\n",
      "BNN Test Error: 1.47%\n",
      "MLP Test Error: 1.66%\n",
      "MLP Dropout Test Error: 1.31%\n",
      "Epoch 217/600\n"
     ]
    },
    {
     "name": "stderr",
     "output_type": "stream",
     "text": [
      "100%|██████████| 468/468 [00:17<00:00, 26.04it/s]\n",
      "100%|██████████| 468/468 [00:06<00:00, 68.62it/s]\n",
      "100%|██████████| 468/468 [00:06<00:00, 67.07it/s]\n",
      "100%|██████████| 78/78 [00:17<00:00,  4.41it/s]\n"
     ]
    },
    {
     "name": "stdout",
     "output_type": "stream",
     "text": [
      "bnn_classification validation accuracy: 0.985176282051282\n"
     ]
    },
    {
     "name": "stderr",
     "output_type": "stream",
     "text": [
      "100%|██████████| 78/78 [00:01<00:00, 72.62it/s]\n"
     ]
    },
    {
     "name": "stdout",
     "output_type": "stream",
     "text": [
      "mlp_classification validation accuracy: 0.9833733974358975\n"
     ]
    },
    {
     "name": "stderr",
     "output_type": "stream",
     "text": [
      "100%|██████████| 78/78 [00:01<00:00, 73.76it/s]\n"
     ]
    },
    {
     "name": "stdout",
     "output_type": "stream",
     "text": [
      "mlp_dropout_classification validation accuracy: 0.9867788461538461\n",
      "BNN Test Error: 1.48%\n",
      "MLP Test Error: 1.66%\n",
      "MLP Dropout Test Error: 1.32%\n",
      "Epoch 218/600\n"
     ]
    },
    {
     "name": "stderr",
     "output_type": "stream",
     "text": [
      "100%|██████████| 468/468 [00:17<00:00, 26.54it/s]\n",
      "100%|██████████| 468/468 [00:06<00:00, 67.53it/s]\n",
      "100%|██████████| 468/468 [00:06<00:00, 67.50it/s]\n",
      "100%|██████████| 78/78 [00:18<00:00,  4.33it/s]\n"
     ]
    },
    {
     "name": "stdout",
     "output_type": "stream",
     "text": [
      "bnn_classification validation accuracy: 0.9850761217948718\n"
     ]
    },
    {
     "name": "stderr",
     "output_type": "stream",
     "text": [
      "100%|██████████| 78/78 [00:01<00:00, 72.10it/s]\n"
     ]
    },
    {
     "name": "stdout",
     "output_type": "stream",
     "text": [
      "mlp_classification validation accuracy: 0.9833733974358975\n"
     ]
    },
    {
     "name": "stderr",
     "output_type": "stream",
     "text": [
      "100%|██████████| 78/78 [00:01<00:00, 67.10it/s]\n"
     ]
    },
    {
     "name": "stdout",
     "output_type": "stream",
     "text": [
      "mlp_dropout_classification validation accuracy: 0.9870793269230769\n",
      "BNN Test Error: 1.49%\n",
      "MLP Test Error: 1.66%\n",
      "MLP Dropout Test Error: 1.29%\n",
      "Epoch 219/600\n"
     ]
    },
    {
     "name": "stderr",
     "output_type": "stream",
     "text": [
      "100%|██████████| 468/468 [00:19<00:00, 23.89it/s]\n",
      "100%|██████████| 468/468 [00:06<00:00, 67.74it/s]\n",
      "100%|██████████| 468/468 [00:06<00:00, 67.42it/s]\n",
      "100%|██████████| 78/78 [00:18<00:00,  4.31it/s]\n"
     ]
    },
    {
     "name": "stdout",
     "output_type": "stream",
     "text": [
      "bnn_classification validation accuracy: 0.9848758012820513\n"
     ]
    },
    {
     "name": "stderr",
     "output_type": "stream",
     "text": [
      "100%|██████████| 78/78 [00:01<00:00, 72.06it/s]\n"
     ]
    },
    {
     "name": "stdout",
     "output_type": "stream",
     "text": [
      "mlp_classification validation accuracy: 0.9833733974358975\n"
     ]
    },
    {
     "name": "stderr",
     "output_type": "stream",
     "text": [
      "100%|██████████| 78/78 [00:01<00:00, 70.56it/s]\n"
     ]
    },
    {
     "name": "stdout",
     "output_type": "stream",
     "text": [
      "mlp_dropout_classification validation accuracy: 0.9867788461538461\n",
      "BNN Test Error: 1.51%\n",
      "MLP Test Error: 1.66%\n",
      "MLP Dropout Test Error: 1.32%\n",
      "Epoch 220/600\n"
     ]
    },
    {
     "name": "stderr",
     "output_type": "stream",
     "text": [
      "100%|██████████| 468/468 [00:17<00:00, 26.26it/s]\n",
      "100%|██████████| 468/468 [00:06<00:00, 67.04it/s]\n",
      "100%|██████████| 468/468 [00:07<00:00, 64.69it/s]\n",
      "100%|██████████| 78/78 [00:18<00:00,  4.31it/s]\n"
     ]
    },
    {
     "name": "stdout",
     "output_type": "stream",
     "text": [
      "bnn_classification validation accuracy: 0.9850761217948718\n"
     ]
    },
    {
     "name": "stderr",
     "output_type": "stream",
     "text": [
      "100%|██████████| 78/78 [00:01<00:00, 70.42it/s]\n"
     ]
    },
    {
     "name": "stdout",
     "output_type": "stream",
     "text": [
      "mlp_classification validation accuracy: 0.9833733974358975\n"
     ]
    },
    {
     "name": "stderr",
     "output_type": "stream",
     "text": [
      "100%|██████████| 78/78 [00:01<00:00, 71.07it/s]\n"
     ]
    },
    {
     "name": "stdout",
     "output_type": "stream",
     "text": [
      "mlp_dropout_classification validation accuracy: 0.9869791666666666\n",
      "BNN Test Error: 1.49%\n",
      "MLP Test Error: 1.66%\n",
      "MLP Dropout Test Error: 1.30%\n",
      "Epoch 221/600\n"
     ]
    },
    {
     "name": "stderr",
     "output_type": "stream",
     "text": [
      "100%|██████████| 468/468 [00:17<00:00, 26.38it/s]\n",
      "100%|██████████| 468/468 [00:06<00:00, 68.26it/s]\n",
      "100%|██████████| 468/468 [00:06<00:00, 67.07it/s]\n",
      "100%|██████████| 78/78 [00:18<00:00,  4.15it/s]\n"
     ]
    },
    {
     "name": "stdout",
     "output_type": "stream",
     "text": [
      "bnn_classification validation accuracy: 0.9850761217948718\n"
     ]
    },
    {
     "name": "stderr",
     "output_type": "stream",
     "text": [
      "100%|██████████| 78/78 [00:01<00:00, 72.67it/s]\n"
     ]
    },
    {
     "name": "stdout",
     "output_type": "stream",
     "text": [
      "mlp_classification validation accuracy: 0.9833733974358975\n"
     ]
    },
    {
     "name": "stderr",
     "output_type": "stream",
     "text": [
      "100%|██████████| 78/78 [00:01<00:00, 72.31it/s]\n"
     ]
    },
    {
     "name": "stdout",
     "output_type": "stream",
     "text": [
      "mlp_dropout_classification validation accuracy: 0.9866786858974359\n",
      "BNN Test Error: 1.49%\n",
      "MLP Test Error: 1.66%\n",
      "MLP Dropout Test Error: 1.33%\n",
      "Epoch 222/600\n"
     ]
    },
    {
     "name": "stderr",
     "output_type": "stream",
     "text": [
      "100%|██████████| 468/468 [00:17<00:00, 27.00it/s]\n",
      "100%|██████████| 468/468 [00:07<00:00, 64.63it/s]\n",
      "100%|██████████| 468/468 [00:06<00:00, 67.90it/s]\n",
      "100%|██████████| 78/78 [00:17<00:00,  4.40it/s]\n"
     ]
    },
    {
     "name": "stdout",
     "output_type": "stream",
     "text": [
      "bnn_classification validation accuracy: 0.985176282051282\n"
     ]
    },
    {
     "name": "stderr",
     "output_type": "stream",
     "text": [
      "100%|██████████| 78/78 [00:01<00:00, 55.91it/s]\n"
     ]
    },
    {
     "name": "stdout",
     "output_type": "stream",
     "text": [
      "mlp_classification validation accuracy: 0.9833733974358975\n"
     ]
    },
    {
     "name": "stderr",
     "output_type": "stream",
     "text": [
      "100%|██████████| 78/78 [00:01<00:00, 55.81it/s]\n"
     ]
    },
    {
     "name": "stdout",
     "output_type": "stream",
     "text": [
      "mlp_dropout_classification validation accuracy: 0.9863782051282052\n",
      "BNN Test Error: 1.48%\n",
      "MLP Test Error: 1.66%\n",
      "MLP Dropout Test Error: 1.36%\n",
      "Epoch 223/600\n"
     ]
    },
    {
     "name": "stderr",
     "output_type": "stream",
     "text": [
      "100%|██████████| 468/468 [00:17<00:00, 26.55it/s]\n",
      "100%|██████████| 468/468 [00:06<00:00, 68.03it/s]\n",
      "100%|██████████| 468/468 [00:07<00:00, 66.52it/s]\n",
      "100%|██████████| 78/78 [00:18<00:00,  4.32it/s]\n"
     ]
    },
    {
     "name": "stdout",
     "output_type": "stream",
     "text": [
      "bnn_classification validation accuracy: 0.985176282051282\n"
     ]
    },
    {
     "name": "stderr",
     "output_type": "stream",
     "text": [
      "100%|██████████| 78/78 [00:01<00:00, 70.26it/s]\n"
     ]
    },
    {
     "name": "stdout",
     "output_type": "stream",
     "text": [
      "mlp_classification validation accuracy: 0.9833733974358975\n"
     ]
    },
    {
     "name": "stderr",
     "output_type": "stream",
     "text": [
      "100%|██████████| 78/78 [00:01<00:00, 70.30it/s]\n"
     ]
    },
    {
     "name": "stdout",
     "output_type": "stream",
     "text": [
      "mlp_dropout_classification validation accuracy: 0.9868790064102564\n",
      "BNN Test Error: 1.48%\n",
      "MLP Test Error: 1.66%\n",
      "MLP Dropout Test Error: 1.31%\n",
      "Epoch 224/600\n"
     ]
    },
    {
     "name": "stderr",
     "output_type": "stream",
     "text": [
      "100%|██████████| 468/468 [00:17<00:00, 26.20it/s]\n",
      "100%|██████████| 468/468 [00:06<00:00, 66.97it/s]\n",
      "100%|██████████| 468/468 [00:06<00:00, 66.98it/s]\n",
      "100%|██████████| 78/78 [00:18<00:00,  4.14it/s]\n"
     ]
    },
    {
     "name": "stdout",
     "output_type": "stream",
     "text": [
      "bnn_classification validation accuracy: 0.9854767628205128\n"
     ]
    },
    {
     "name": "stderr",
     "output_type": "stream",
     "text": [
      "100%|██████████| 78/78 [00:01<00:00, 69.02it/s]\n"
     ]
    },
    {
     "name": "stdout",
     "output_type": "stream",
     "text": [
      "mlp_classification validation accuracy: 0.9833733974358975\n"
     ]
    },
    {
     "name": "stderr",
     "output_type": "stream",
     "text": [
      "100%|██████████| 78/78 [00:01<00:00, 68.84it/s]\n"
     ]
    },
    {
     "name": "stdout",
     "output_type": "stream",
     "text": [
      "mlp_dropout_classification validation accuracy: 0.9867788461538461\n",
      "BNN Test Error: 1.45%\n",
      "MLP Test Error: 1.66%\n",
      "MLP Dropout Test Error: 1.32%\n",
      "Epoch 225/600\n"
     ]
    },
    {
     "name": "stderr",
     "output_type": "stream",
     "text": [
      "100%|██████████| 468/468 [00:17<00:00, 26.92it/s]\n",
      "100%|██████████| 468/468 [00:06<00:00, 67.23it/s]\n",
      "100%|██████████| 468/468 [00:06<00:00, 67.88it/s]\n",
      "100%|██████████| 78/78 [00:18<00:00,  4.20it/s]\n"
     ]
    },
    {
     "name": "stdout",
     "output_type": "stream",
     "text": [
      "bnn_classification validation accuracy: 0.9853766025641025\n"
     ]
    },
    {
     "name": "stderr",
     "output_type": "stream",
     "text": [
      "100%|██████████| 78/78 [00:01<00:00, 72.08it/s]\n"
     ]
    },
    {
     "name": "stdout",
     "output_type": "stream",
     "text": [
      "mlp_classification validation accuracy: 0.9834735576923077\n"
     ]
    },
    {
     "name": "stderr",
     "output_type": "stream",
     "text": [
      "100%|██████████| 78/78 [00:01<00:00, 66.01it/s]\n"
     ]
    },
    {
     "name": "stdout",
     "output_type": "stream",
     "text": [
      "mlp_dropout_classification validation accuracy: 0.9871794871794872\n",
      "BNN Test Error: 1.46%\n",
      "MLP Test Error: 1.65%\n",
      "MLP Dropout Test Error: 1.28%\n",
      "Epoch 226/600\n"
     ]
    },
    {
     "name": "stderr",
     "output_type": "stream",
     "text": [
      "100%|██████████| 468/468 [00:17<00:00, 26.76it/s]\n",
      "100%|██████████| 468/468 [00:06<00:00, 68.45it/s]\n",
      "100%|██████████| 468/468 [00:06<00:00, 67.65it/s]\n",
      "100%|██████████| 78/78 [00:19<00:00,  4.09it/s]\n"
     ]
    },
    {
     "name": "stdout",
     "output_type": "stream",
     "text": [
      "bnn_classification validation accuracy: 0.9853766025641025\n"
     ]
    },
    {
     "name": "stderr",
     "output_type": "stream",
     "text": [
      "100%|██████████| 78/78 [00:01<00:00, 69.36it/s]\n"
     ]
    },
    {
     "name": "stdout",
     "output_type": "stream",
     "text": [
      "mlp_classification validation accuracy: 0.9833733974358975\n"
     ]
    },
    {
     "name": "stderr",
     "output_type": "stream",
     "text": [
      "100%|██████████| 78/78 [00:01<00:00, 66.38it/s]\n"
     ]
    },
    {
     "name": "stdout",
     "output_type": "stream",
     "text": [
      "mlp_dropout_classification validation accuracy: 0.9873798076923077\n",
      "BNN Test Error: 1.46%\n",
      "MLP Test Error: 1.66%\n",
      "MLP Dropout Test Error: 1.26%\n",
      "Epoch 227/600\n"
     ]
    },
    {
     "name": "stderr",
     "output_type": "stream",
     "text": [
      "100%|██████████| 468/468 [00:17<00:00, 26.35it/s]\n",
      "100%|██████████| 468/468 [00:06<00:00, 68.48it/s]\n",
      "100%|██████████| 468/468 [00:06<00:00, 68.06it/s]\n",
      "100%|██████████| 78/78 [00:18<00:00,  4.16it/s]\n"
     ]
    },
    {
     "name": "stdout",
     "output_type": "stream",
     "text": [
      "bnn_classification validation accuracy: 0.9853766025641025\n"
     ]
    },
    {
     "name": "stderr",
     "output_type": "stream",
     "text": [
      "100%|██████████| 78/78 [00:01<00:00, 71.56it/s]\n"
     ]
    },
    {
     "name": "stdout",
     "output_type": "stream",
     "text": [
      "mlp_classification validation accuracy: 0.9833733974358975\n"
     ]
    },
    {
     "name": "stderr",
     "output_type": "stream",
     "text": [
      "100%|██████████| 78/78 [00:01<00:00, 72.66it/s]\n"
     ]
    },
    {
     "name": "stdout",
     "output_type": "stream",
     "text": [
      "mlp_dropout_classification validation accuracy: 0.9867788461538461\n",
      "BNN Test Error: 1.46%\n",
      "MLP Test Error: 1.66%\n",
      "MLP Dropout Test Error: 1.32%\n",
      "Epoch 228/600\n"
     ]
    },
    {
     "name": "stderr",
     "output_type": "stream",
     "text": [
      "100%|██████████| 468/468 [00:17<00:00, 26.57it/s]\n",
      "100%|██████████| 468/468 [00:06<00:00, 67.86it/s]\n",
      "100%|██████████| 468/468 [00:06<00:00, 67.74it/s]\n",
      "100%|██████████| 78/78 [00:18<00:00,  4.30it/s]\n"
     ]
    },
    {
     "name": "stdout",
     "output_type": "stream",
     "text": [
      "bnn_classification validation accuracy: 0.9850761217948718\n"
     ]
    },
    {
     "name": "stderr",
     "output_type": "stream",
     "text": [
      "100%|██████████| 78/78 [00:01<00:00, 70.79it/s]\n"
     ]
    },
    {
     "name": "stdout",
     "output_type": "stream",
     "text": [
      "mlp_classification validation accuracy: 0.9833733974358975\n"
     ]
    },
    {
     "name": "stderr",
     "output_type": "stream",
     "text": [
      "100%|██████████| 78/78 [00:01<00:00, 67.11it/s]\n"
     ]
    },
    {
     "name": "stdout",
     "output_type": "stream",
     "text": [
      "mlp_dropout_classification validation accuracy: 0.9871794871794872\n",
      "BNN Test Error: 1.49%\n",
      "MLP Test Error: 1.66%\n",
      "MLP Dropout Test Error: 1.28%\n",
      "Epoch 229/600\n"
     ]
    },
    {
     "name": "stderr",
     "output_type": "stream",
     "text": [
      "100%|██████████| 468/468 [00:17<00:00, 26.56it/s]\n",
      "100%|██████████| 468/468 [00:06<00:00, 69.24it/s]\n",
      "100%|██████████| 468/468 [00:06<00:00, 68.08it/s]\n",
      "100%|██████████| 78/78 [00:18<00:00,  4.11it/s]\n"
     ]
    },
    {
     "name": "stdout",
     "output_type": "stream",
     "text": [
      "bnn_classification validation accuracy: 0.9849759615384616\n"
     ]
    },
    {
     "name": "stderr",
     "output_type": "stream",
     "text": [
      "100%|██████████| 78/78 [00:01<00:00, 71.13it/s]\n"
     ]
    },
    {
     "name": "stdout",
     "output_type": "stream",
     "text": [
      "mlp_classification validation accuracy: 0.9833733974358975\n"
     ]
    },
    {
     "name": "stderr",
     "output_type": "stream",
     "text": [
      "100%|██████████| 78/78 [00:01<00:00, 71.74it/s]\n"
     ]
    },
    {
     "name": "stdout",
     "output_type": "stream",
     "text": [
      "mlp_dropout_classification validation accuracy: 0.9867788461538461\n",
      "BNN Test Error: 1.50%\n",
      "MLP Test Error: 1.66%\n",
      "MLP Dropout Test Error: 1.32%\n",
      "Epoch 230/600\n"
     ]
    },
    {
     "name": "stderr",
     "output_type": "stream",
     "text": [
      "100%|██████████| 468/468 [00:18<00:00, 25.15it/s]\n",
      "100%|██████████| 468/468 [00:06<00:00, 68.25it/s]\n",
      "100%|██████████| 468/468 [00:06<00:00, 68.17it/s]\n",
      "100%|██████████| 78/78 [00:18<00:00,  4.26it/s]\n"
     ]
    },
    {
     "name": "stdout",
     "output_type": "stream",
     "text": [
      "bnn_classification validation accuracy: 0.9850761217948718\n"
     ]
    },
    {
     "name": "stderr",
     "output_type": "stream",
     "text": [
      "100%|██████████| 78/78 [00:01<00:00, 70.24it/s]\n"
     ]
    },
    {
     "name": "stdout",
     "output_type": "stream",
     "text": [
      "mlp_classification validation accuracy: 0.9833733974358975\n"
     ]
    },
    {
     "name": "stderr",
     "output_type": "stream",
     "text": [
      "100%|██████████| 78/78 [00:01<00:00, 69.34it/s]\n"
     ]
    },
    {
     "name": "stdout",
     "output_type": "stream",
     "text": [
      "mlp_dropout_classification validation accuracy: 0.9871794871794872\n",
      "BNN Test Error: 1.49%\n",
      "MLP Test Error: 1.66%\n",
      "MLP Dropout Test Error: 1.28%\n",
      "Epoch 231/600\n"
     ]
    },
    {
     "name": "stderr",
     "output_type": "stream",
     "text": [
      "100%|██████████| 468/468 [00:17<00:00, 27.23it/s]\n",
      "100%|██████████| 468/468 [00:06<00:00, 67.47it/s]\n",
      "100%|██████████| 468/468 [00:06<00:00, 66.92it/s]\n",
      "100%|██████████| 78/78 [00:18<00:00,  4.26it/s]\n"
     ]
    },
    {
     "name": "stdout",
     "output_type": "stream",
     "text": [
      "bnn_classification validation accuracy: 0.985176282051282\n"
     ]
    },
    {
     "name": "stderr",
     "output_type": "stream",
     "text": [
      "100%|██████████| 78/78 [00:01<00:00, 69.14it/s]\n"
     ]
    },
    {
     "name": "stdout",
     "output_type": "stream",
     "text": [
      "mlp_classification validation accuracy: 0.9832732371794872\n"
     ]
    },
    {
     "name": "stderr",
     "output_type": "stream",
     "text": [
      "100%|██████████| 78/78 [00:01<00:00, 71.53it/s]\n"
     ]
    },
    {
     "name": "stdout",
     "output_type": "stream",
     "text": [
      "mlp_dropout_classification validation accuracy: 0.9870793269230769\n",
      "BNN Test Error: 1.48%\n",
      "MLP Test Error: 1.67%\n",
      "MLP Dropout Test Error: 1.29%\n",
      "Epoch 232/600\n"
     ]
    },
    {
     "name": "stderr",
     "output_type": "stream",
     "text": [
      "100%|██████████| 468/468 [00:17<00:00, 26.34it/s]\n",
      "100%|██████████| 468/468 [00:06<00:00, 68.50it/s]\n",
      "100%|██████████| 468/468 [00:06<00:00, 67.98it/s]\n",
      "100%|██████████| 78/78 [00:19<00:00,  4.04it/s]\n"
     ]
    },
    {
     "name": "stdout",
     "output_type": "stream",
     "text": [
      "bnn_classification validation accuracy: 0.9854767628205128\n"
     ]
    },
    {
     "name": "stderr",
     "output_type": "stream",
     "text": [
      "100%|██████████| 78/78 [00:01<00:00, 70.53it/s]\n"
     ]
    },
    {
     "name": "stdout",
     "output_type": "stream",
     "text": [
      "mlp_classification validation accuracy: 0.9834735576923077\n"
     ]
    },
    {
     "name": "stderr",
     "output_type": "stream",
     "text": [
      "100%|██████████| 78/78 [00:01<00:00, 71.28it/s]\n"
     ]
    },
    {
     "name": "stdout",
     "output_type": "stream",
     "text": [
      "mlp_dropout_classification validation accuracy: 0.9871794871794872\n",
      "BNN Test Error: 1.45%\n",
      "MLP Test Error: 1.65%\n",
      "MLP Dropout Test Error: 1.28%\n",
      "Epoch 233/600\n"
     ]
    },
    {
     "name": "stderr",
     "output_type": "stream",
     "text": [
      "100%|██████████| 468/468 [00:17<00:00, 26.72it/s]\n",
      "100%|██████████| 468/468 [00:06<00:00, 68.85it/s]\n",
      "100%|██████████| 468/468 [00:06<00:00, 66.92it/s]\n",
      "100%|██████████| 78/78 [00:18<00:00,  4.19it/s]\n"
     ]
    },
    {
     "name": "stdout",
     "output_type": "stream",
     "text": [
      "bnn_classification validation accuracy: 0.9850761217948718\n"
     ]
    },
    {
     "name": "stderr",
     "output_type": "stream",
     "text": [
      "100%|██████████| 78/78 [00:01<00:00, 72.40it/s]\n"
     ]
    },
    {
     "name": "stdout",
     "output_type": "stream",
     "text": [
      "mlp_classification validation accuracy: 0.9834735576923077\n"
     ]
    },
    {
     "name": "stderr",
     "output_type": "stream",
     "text": [
      "100%|██████████| 78/78 [00:01<00:00, 73.17it/s]\n"
     ]
    },
    {
     "name": "stdout",
     "output_type": "stream",
     "text": [
      "mlp_dropout_classification validation accuracy: 0.9870793269230769\n",
      "BNN Test Error: 1.49%\n",
      "MLP Test Error: 1.65%\n",
      "MLP Dropout Test Error: 1.29%\n",
      "Epoch 234/600\n"
     ]
    },
    {
     "name": "stderr",
     "output_type": "stream",
     "text": [
      "100%|██████████| 468/468 [00:17<00:00, 27.14it/s]\n",
      "100%|██████████| 468/468 [00:06<00:00, 69.51it/s]\n",
      "100%|██████████| 468/468 [00:06<00:00, 67.91it/s]\n",
      "100%|██████████| 78/78 [00:18<00:00,  4.19it/s]\n"
     ]
    },
    {
     "name": "stdout",
     "output_type": "stream",
     "text": [
      "bnn_classification validation accuracy: 0.9853766025641025\n"
     ]
    },
    {
     "name": "stderr",
     "output_type": "stream",
     "text": [
      "100%|██████████| 78/78 [00:01<00:00, 72.12it/s]\n"
     ]
    },
    {
     "name": "stdout",
     "output_type": "stream",
     "text": [
      "mlp_classification validation accuracy: 0.9833733974358975\n"
     ]
    },
    {
     "name": "stderr",
     "output_type": "stream",
     "text": [
      "100%|██████████| 78/78 [00:01<00:00, 70.53it/s]\n"
     ]
    },
    {
     "name": "stdout",
     "output_type": "stream",
     "text": [
      "mlp_dropout_classification validation accuracy: 0.9869791666666666\n",
      "BNN Test Error: 1.46%\n",
      "MLP Test Error: 1.66%\n",
      "MLP Dropout Test Error: 1.30%\n",
      "Epoch 235/600\n"
     ]
    },
    {
     "name": "stderr",
     "output_type": "stream",
     "text": [
      "100%|██████████| 468/468 [00:17<00:00, 27.18it/s]\n",
      "100%|██████████| 468/468 [00:06<00:00, 68.52it/s]\n",
      "100%|██████████| 468/468 [00:06<00:00, 67.38it/s]\n",
      "100%|██████████| 78/78 [00:18<00:00,  4.18it/s]\n"
     ]
    },
    {
     "name": "stdout",
     "output_type": "stream",
     "text": [
      "bnn_classification validation accuracy: 0.9853766025641025\n"
     ]
    },
    {
     "name": "stderr",
     "output_type": "stream",
     "text": [
      "100%|██████████| 78/78 [00:01<00:00, 71.73it/s]\n"
     ]
    },
    {
     "name": "stdout",
     "output_type": "stream",
     "text": [
      "mlp_classification validation accuracy: 0.9833733974358975\n"
     ]
    },
    {
     "name": "stderr",
     "output_type": "stream",
     "text": [
      "100%|██████████| 78/78 [00:01<00:00, 70.39it/s]\n"
     ]
    },
    {
     "name": "stdout",
     "output_type": "stream",
     "text": [
      "mlp_dropout_classification validation accuracy: 0.9870793269230769\n",
      "BNN Test Error: 1.46%\n",
      "MLP Test Error: 1.66%\n",
      "MLP Dropout Test Error: 1.29%\n",
      "Epoch 236/600\n"
     ]
    },
    {
     "name": "stderr",
     "output_type": "stream",
     "text": [
      "100%|██████████| 468/468 [00:18<00:00, 25.91it/s]\n",
      "100%|██████████| 468/468 [00:06<00:00, 69.06it/s]\n",
      "100%|██████████| 468/468 [00:06<00:00, 68.29it/s]\n",
      "100%|██████████| 78/78 [00:18<00:00,  4.30it/s]\n"
     ]
    },
    {
     "name": "stdout",
     "output_type": "stream",
     "text": [
      "bnn_classification validation accuracy: 0.9858774038461539\n"
     ]
    },
    {
     "name": "stderr",
     "output_type": "stream",
     "text": [
      "100%|██████████| 78/78 [00:01<00:00, 67.03it/s]\n"
     ]
    },
    {
     "name": "stdout",
     "output_type": "stream",
     "text": [
      "mlp_classification validation accuracy: 0.9834735576923077\n"
     ]
    },
    {
     "name": "stderr",
     "output_type": "stream",
     "text": [
      "100%|██████████| 78/78 [00:01<00:00, 69.68it/s]\n"
     ]
    },
    {
     "name": "stdout",
     "output_type": "stream",
     "text": [
      "mlp_dropout_classification validation accuracy: 0.9871794871794872\n",
      "BNN Test Error: 1.41%\n",
      "MLP Test Error: 1.65%\n",
      "MLP Dropout Test Error: 1.28%\n",
      "Epoch 237/600\n"
     ]
    },
    {
     "name": "stderr",
     "output_type": "stream",
     "text": [
      "100%|██████████| 468/468 [00:17<00:00, 26.79it/s]\n",
      "100%|██████████| 468/468 [00:06<00:00, 68.92it/s]\n",
      "100%|██████████| 468/468 [00:06<00:00, 66.90it/s]\n",
      "100%|██████████| 78/78 [00:18<00:00,  4.32it/s]\n"
     ]
    },
    {
     "name": "stdout",
     "output_type": "stream",
     "text": [
      "bnn_classification validation accuracy: 0.9850761217948718\n"
     ]
    },
    {
     "name": "stderr",
     "output_type": "stream",
     "text": [
      "100%|██████████| 78/78 [00:01<00:00, 73.32it/s]\n"
     ]
    },
    {
     "name": "stdout",
     "output_type": "stream",
     "text": [
      "mlp_classification validation accuracy: 0.9833733974358975\n"
     ]
    },
    {
     "name": "stderr",
     "output_type": "stream",
     "text": [
      "100%|██████████| 78/78 [00:01<00:00, 72.22it/s]\n"
     ]
    },
    {
     "name": "stdout",
     "output_type": "stream",
     "text": [
      "mlp_dropout_classification validation accuracy: 0.9870793269230769\n",
      "BNN Test Error: 1.49%\n",
      "MLP Test Error: 1.66%\n",
      "MLP Dropout Test Error: 1.29%\n",
      "Epoch 238/600\n"
     ]
    },
    {
     "name": "stderr",
     "output_type": "stream",
     "text": [
      "100%|██████████| 468/468 [00:17<00:00, 26.62it/s]\n",
      "100%|██████████| 468/468 [00:06<00:00, 67.56it/s]\n",
      "100%|██████████| 468/468 [00:06<00:00, 67.52it/s]\n",
      "100%|██████████| 78/78 [00:17<00:00,  4.34it/s]\n"
     ]
    },
    {
     "name": "stdout",
     "output_type": "stream",
     "text": [
      "bnn_classification validation accuracy: 0.984375\n"
     ]
    },
    {
     "name": "stderr",
     "output_type": "stream",
     "text": [
      "100%|██████████| 78/78 [00:01<00:00, 70.35it/s]\n"
     ]
    },
    {
     "name": "stdout",
     "output_type": "stream",
     "text": [
      "mlp_classification validation accuracy: 0.9833733974358975\n"
     ]
    },
    {
     "name": "stderr",
     "output_type": "stream",
     "text": [
      "100%|██████████| 78/78 [00:01<00:00, 70.60it/s]\n"
     ]
    },
    {
     "name": "stdout",
     "output_type": "stream",
     "text": [
      "mlp_dropout_classification validation accuracy: 0.9870793269230769\n",
      "BNN Test Error: 1.56%\n",
      "MLP Test Error: 1.66%\n",
      "MLP Dropout Test Error: 1.29%\n",
      "Epoch 239/600\n"
     ]
    },
    {
     "name": "stderr",
     "output_type": "stream",
     "text": [
      "100%|██████████| 468/468 [00:17<00:00, 26.78it/s]\n",
      "100%|██████████| 468/468 [00:06<00:00, 67.28it/s]\n",
      "100%|██████████| 468/468 [00:06<00:00, 68.50it/s]\n",
      "100%|██████████| 78/78 [00:18<00:00,  4.17it/s]\n"
     ]
    },
    {
     "name": "stdout",
     "output_type": "stream",
     "text": [
      "bnn_classification validation accuracy: 0.9866786858974359\n"
     ]
    },
    {
     "name": "stderr",
     "output_type": "stream",
     "text": [
      "100%|██████████| 78/78 [00:01<00:00, 72.78it/s]\n"
     ]
    },
    {
     "name": "stdout",
     "output_type": "stream",
     "text": [
      "mlp_classification validation accuracy: 0.9833733974358975\n"
     ]
    },
    {
     "name": "stderr",
     "output_type": "stream",
     "text": [
      "100%|██████████| 78/78 [00:01<00:00, 69.19it/s]\n"
     ]
    },
    {
     "name": "stdout",
     "output_type": "stream",
     "text": [
      "mlp_dropout_classification validation accuracy: 0.9870793269230769\n",
      "BNN Test Error: 1.33%\n",
      "MLP Test Error: 1.66%\n",
      "MLP Dropout Test Error: 1.29%\n",
      "Epoch 240/600\n"
     ]
    },
    {
     "name": "stderr",
     "output_type": "stream",
     "text": [
      "100%|██████████| 468/468 [00:17<00:00, 26.87it/s]\n",
      "100%|██████████| 468/468 [00:06<00:00, 67.45it/s]\n",
      "100%|██████████| 468/468 [00:06<00:00, 67.84it/s]\n",
      "100%|██████████| 78/78 [00:18<00:00,  4.21it/s]\n"
     ]
    },
    {
     "name": "stdout",
     "output_type": "stream",
     "text": [
      "bnn_classification validation accuracy: 0.9865785256410257\n"
     ]
    },
    {
     "name": "stderr",
     "output_type": "stream",
     "text": [
      "100%|██████████| 78/78 [00:01<00:00, 70.14it/s]\n"
     ]
    },
    {
     "name": "stdout",
     "output_type": "stream",
     "text": [
      "mlp_classification validation accuracy: 0.9834735576923077\n"
     ]
    },
    {
     "name": "stderr",
     "output_type": "stream",
     "text": [
      "100%|██████████| 78/78 [00:01<00:00, 66.16it/s]\n"
     ]
    },
    {
     "name": "stdout",
     "output_type": "stream",
     "text": [
      "mlp_dropout_classification validation accuracy: 0.9876802884615384\n",
      "BNN Test Error: 1.34%\n",
      "MLP Test Error: 1.65%\n",
      "MLP Dropout Test Error: 1.23%\n",
      "Epoch 241/600\n"
     ]
    },
    {
     "name": "stderr",
     "output_type": "stream",
     "text": [
      "100%|██████████| 468/468 [00:18<00:00, 25.34it/s]\n",
      "100%|██████████| 468/468 [00:06<00:00, 68.43it/s]\n",
      "100%|██████████| 468/468 [00:06<00:00, 67.22it/s]\n",
      "100%|██████████| 78/78 [00:18<00:00,  4.14it/s]\n"
     ]
    },
    {
     "name": "stdout",
     "output_type": "stream",
     "text": [
      "bnn_classification validation accuracy: 0.9867788461538461\n"
     ]
    },
    {
     "name": "stderr",
     "output_type": "stream",
     "text": [
      "100%|██████████| 78/78 [00:01<00:00, 71.34it/s]\n"
     ]
    },
    {
     "name": "stdout",
     "output_type": "stream",
     "text": [
      "mlp_classification validation accuracy: 0.9834735576923077\n"
     ]
    },
    {
     "name": "stderr",
     "output_type": "stream",
     "text": [
      "100%|██████████| 78/78 [00:01<00:00, 71.47it/s]\n"
     ]
    },
    {
     "name": "stdout",
     "output_type": "stream",
     "text": [
      "mlp_dropout_classification validation accuracy: 0.9871794871794872\n",
      "BNN Test Error: 1.32%\n",
      "MLP Test Error: 1.65%\n",
      "MLP Dropout Test Error: 1.28%\n",
      "Epoch 242/600\n"
     ]
    },
    {
     "name": "stderr",
     "output_type": "stream",
     "text": [
      "100%|██████████| 468/468 [00:18<00:00, 25.03it/s]\n",
      "100%|██████████| 468/468 [00:07<00:00, 65.27it/s]\n",
      "100%|██████████| 468/468 [00:07<00:00, 66.30it/s]\n",
      "100%|██████████| 78/78 [00:18<00:00,  4.25it/s]\n"
     ]
    },
    {
     "name": "stdout",
     "output_type": "stream",
     "text": [
      "bnn_classification validation accuracy: 0.9864783653846154\n"
     ]
    },
    {
     "name": "stderr",
     "output_type": "stream",
     "text": [
      "100%|██████████| 78/78 [00:01<00:00, 70.30it/s]\n"
     ]
    },
    {
     "name": "stdout",
     "output_type": "stream",
     "text": [
      "mlp_classification validation accuracy: 0.9833733974358975\n"
     ]
    },
    {
     "name": "stderr",
     "output_type": "stream",
     "text": [
      "100%|██████████| 78/78 [00:01<00:00, 49.53it/s]\n"
     ]
    },
    {
     "name": "stdout",
     "output_type": "stream",
     "text": [
      "mlp_dropout_classification validation accuracy: 0.9870793269230769\n",
      "BNN Test Error: 1.35%\n",
      "MLP Test Error: 1.66%\n",
      "MLP Dropout Test Error: 1.29%\n",
      "Epoch 243/600\n"
     ]
    },
    {
     "name": "stderr",
     "output_type": "stream",
     "text": [
      "100%|██████████| 468/468 [00:18<00:00, 25.87it/s]\n",
      "100%|██████████| 468/468 [00:06<00:00, 67.90it/s]\n",
      "100%|██████████| 468/468 [00:07<00:00, 62.93it/s]\n",
      "100%|██████████| 78/78 [00:18<00:00,  4.32it/s]\n"
     ]
    },
    {
     "name": "stdout",
     "output_type": "stream",
     "text": [
      "bnn_classification validation accuracy: 0.9865785256410257\n"
     ]
    },
    {
     "name": "stderr",
     "output_type": "stream",
     "text": [
      "100%|██████████| 78/78 [00:01<00:00, 69.17it/s]\n"
     ]
    },
    {
     "name": "stdout",
     "output_type": "stream",
     "text": [
      "mlp_classification validation accuracy: 0.9833733974358975\n"
     ]
    },
    {
     "name": "stderr",
     "output_type": "stream",
     "text": [
      "100%|██████████| 78/78 [00:01<00:00, 70.54it/s]\n"
     ]
    },
    {
     "name": "stdout",
     "output_type": "stream",
     "text": [
      "mlp_dropout_classification validation accuracy: 0.9869791666666666\n",
      "BNN Test Error: 1.34%\n",
      "MLP Test Error: 1.66%\n",
      "MLP Dropout Test Error: 1.30%\n",
      "Epoch 244/600\n"
     ]
    },
    {
     "name": "stderr",
     "output_type": "stream",
     "text": [
      "100%|██████████| 468/468 [00:18<00:00, 25.78it/s]\n",
      "100%|██████████| 468/468 [00:06<00:00, 67.71it/s]\n",
      "100%|██████████| 468/468 [00:07<00:00, 66.58it/s]\n",
      "100%|██████████| 78/78 [00:19<00:00,  4.02it/s]\n"
     ]
    },
    {
     "name": "stdout",
     "output_type": "stream",
     "text": [
      "bnn_classification validation accuracy: 0.9865785256410257\n"
     ]
    },
    {
     "name": "stderr",
     "output_type": "stream",
     "text": [
      "100%|██████████| 78/78 [00:01<00:00, 68.49it/s]\n"
     ]
    },
    {
     "name": "stdout",
     "output_type": "stream",
     "text": [
      "mlp_classification validation accuracy: 0.9833733974358975\n"
     ]
    },
    {
     "name": "stderr",
     "output_type": "stream",
     "text": [
      "100%|██████████| 78/78 [00:01<00:00, 68.69it/s]\n"
     ]
    },
    {
     "name": "stdout",
     "output_type": "stream",
     "text": [
      "mlp_dropout_classification validation accuracy: 0.9873798076923077\n",
      "BNN Test Error: 1.34%\n",
      "MLP Test Error: 1.66%\n",
      "MLP Dropout Test Error: 1.26%\n",
      "Epoch 245/600\n"
     ]
    },
    {
     "name": "stderr",
     "output_type": "stream",
     "text": [
      "100%|██████████| 468/468 [00:17<00:00, 27.16it/s]\n",
      "100%|██████████| 468/468 [00:06<00:00, 67.20it/s]\n",
      "100%|██████████| 468/468 [00:07<00:00, 66.83it/s]\n",
      "100%|██████████| 78/78 [00:18<00:00,  4.16it/s]\n"
     ]
    },
    {
     "name": "stdout",
     "output_type": "stream",
     "text": [
      "bnn_classification validation accuracy: 0.9867788461538461\n"
     ]
    },
    {
     "name": "stderr",
     "output_type": "stream",
     "text": [
      "100%|██████████| 78/78 [00:01<00:00, 68.71it/s]\n"
     ]
    },
    {
     "name": "stdout",
     "output_type": "stream",
     "text": [
      "mlp_classification validation accuracy: 0.9834735576923077\n"
     ]
    },
    {
     "name": "stderr",
     "output_type": "stream",
     "text": [
      "100%|██████████| 78/78 [00:01<00:00, 67.82it/s]\n"
     ]
    },
    {
     "name": "stdout",
     "output_type": "stream",
     "text": [
      "mlp_dropout_classification validation accuracy: 0.9870793269230769\n",
      "BNN Test Error: 1.32%\n",
      "MLP Test Error: 1.65%\n",
      "MLP Dropout Test Error: 1.29%\n",
      "Epoch 246/600\n"
     ]
    },
    {
     "name": "stderr",
     "output_type": "stream",
     "text": [
      "100%|██████████| 468/468 [00:17<00:00, 26.51it/s]\n",
      "100%|██████████| 468/468 [00:06<00:00, 67.16it/s]\n",
      "100%|██████████| 468/468 [00:07<00:00, 65.25it/s]\n",
      "100%|██████████| 78/78 [00:17<00:00,  4.47it/s]\n"
     ]
    },
    {
     "name": "stdout",
     "output_type": "stream",
     "text": [
      "bnn_classification validation accuracy: 0.9864783653846154\n"
     ]
    },
    {
     "name": "stderr",
     "output_type": "stream",
     "text": [
      "100%|██████████| 78/78 [00:01<00:00, 68.96it/s]\n"
     ]
    },
    {
     "name": "stdout",
     "output_type": "stream",
     "text": [
      "mlp_classification validation accuracy: 0.9834735576923077\n"
     ]
    },
    {
     "name": "stderr",
     "output_type": "stream",
     "text": [
      "100%|██████████| 78/78 [00:01<00:00, 69.21it/s]\n"
     ]
    },
    {
     "name": "stdout",
     "output_type": "stream",
     "text": [
      "mlp_dropout_classification validation accuracy: 0.9868790064102564\n",
      "BNN Test Error: 1.35%\n",
      "MLP Test Error: 1.65%\n",
      "MLP Dropout Test Error: 1.31%\n",
      "Epoch 247/600\n"
     ]
    },
    {
     "name": "stderr",
     "output_type": "stream",
     "text": [
      "100%|██████████| 468/468 [00:18<00:00, 25.89it/s]\n",
      "100%|██████████| 468/468 [00:06<00:00, 66.89it/s]\n",
      "100%|██████████| 468/468 [00:07<00:00, 66.79it/s]\n",
      "100%|██████████| 78/78 [00:18<00:00,  4.24it/s]\n"
     ]
    },
    {
     "name": "stdout",
     "output_type": "stream",
     "text": [
      "bnn_classification validation accuracy: 0.9862780448717948\n"
     ]
    },
    {
     "name": "stderr",
     "output_type": "stream",
     "text": [
      "100%|██████████| 78/78 [00:01<00:00, 69.98it/s]\n"
     ]
    },
    {
     "name": "stdout",
     "output_type": "stream",
     "text": [
      "mlp_classification validation accuracy: 0.9833733974358975\n"
     ]
    },
    {
     "name": "stderr",
     "output_type": "stream",
     "text": [
      "100%|██████████| 78/78 [00:01<00:00, 69.30it/s]\n"
     ]
    },
    {
     "name": "stdout",
     "output_type": "stream",
     "text": [
      "mlp_dropout_classification validation accuracy: 0.9869791666666666\n",
      "BNN Test Error: 1.37%\n",
      "MLP Test Error: 1.66%\n",
      "MLP Dropout Test Error: 1.30%\n",
      "Epoch 248/600\n"
     ]
    },
    {
     "name": "stderr",
     "output_type": "stream",
     "text": [
      "100%|██████████| 468/468 [00:17<00:00, 26.73it/s]\n",
      "100%|██████████| 468/468 [00:07<00:00, 66.38it/s]\n",
      "100%|██████████| 468/468 [00:06<00:00, 67.34it/s]\n",
      "100%|██████████| 78/78 [00:17<00:00,  4.38it/s]\n"
     ]
    },
    {
     "name": "stdout",
     "output_type": "stream",
     "text": [
      "bnn_classification validation accuracy: 0.9864783653846154\n"
     ]
    },
    {
     "name": "stderr",
     "output_type": "stream",
     "text": [
      "100%|██████████| 78/78 [00:01<00:00, 66.20it/s]\n"
     ]
    },
    {
     "name": "stdout",
     "output_type": "stream",
     "text": [
      "mlp_classification validation accuracy: 0.9833733974358975\n"
     ]
    },
    {
     "name": "stderr",
     "output_type": "stream",
     "text": [
      "100%|██████████| 78/78 [00:01<00:00, 69.59it/s]\n"
     ]
    },
    {
     "name": "stdout",
     "output_type": "stream",
     "text": [
      "mlp_dropout_classification validation accuracy: 0.9871794871794872\n",
      "BNN Test Error: 1.35%\n",
      "MLP Test Error: 1.66%\n",
      "MLP Dropout Test Error: 1.28%\n",
      "Epoch 249/600\n"
     ]
    },
    {
     "name": "stderr",
     "output_type": "stream",
     "text": [
      "100%|██████████| 468/468 [00:17<00:00, 26.18it/s]\n",
      "100%|██████████| 468/468 [00:06<00:00, 68.91it/s]\n",
      "100%|██████████| 468/468 [00:06<00:00, 67.33it/s]\n",
      "100%|██████████| 78/78 [00:19<00:00,  4.05it/s]\n"
     ]
    },
    {
     "name": "stdout",
     "output_type": "stream",
     "text": [
      "bnn_classification validation accuracy: 0.9867788461538461\n"
     ]
    },
    {
     "name": "stderr",
     "output_type": "stream",
     "text": [
      "100%|██████████| 78/78 [00:01<00:00, 72.44it/s]\n"
     ]
    },
    {
     "name": "stdout",
     "output_type": "stream",
     "text": [
      "mlp_classification validation accuracy: 0.9833733974358975\n"
     ]
    },
    {
     "name": "stderr",
     "output_type": "stream",
     "text": [
      "100%|██████████| 78/78 [00:01<00:00, 70.57it/s]\n"
     ]
    },
    {
     "name": "stdout",
     "output_type": "stream",
     "text": [
      "mlp_dropout_classification validation accuracy: 0.9866786858974359\n",
      "BNN Test Error: 1.32%\n",
      "MLP Test Error: 1.66%\n",
      "MLP Dropout Test Error: 1.33%\n",
      "Epoch 250/600\n"
     ]
    },
    {
     "name": "stderr",
     "output_type": "stream",
     "text": [
      "100%|██████████| 468/468 [00:16<00:00, 27.54it/s]\n",
      "100%|██████████| 468/468 [00:06<00:00, 67.44it/s]\n",
      "100%|██████████| 468/468 [00:07<00:00, 66.66it/s]\n",
      "100%|██████████| 78/78 [00:17<00:00,  4.37it/s]\n"
     ]
    },
    {
     "name": "stdout",
     "output_type": "stream",
     "text": [
      "bnn_classification validation accuracy: 0.9867788461538461\n"
     ]
    },
    {
     "name": "stderr",
     "output_type": "stream",
     "text": [
      "100%|██████████| 78/78 [00:01<00:00, 73.12it/s]\n"
     ]
    },
    {
     "name": "stdout",
     "output_type": "stream",
     "text": [
      "mlp_classification validation accuracy: 0.9834735576923077\n"
     ]
    },
    {
     "name": "stderr",
     "output_type": "stream",
     "text": [
      "100%|██████████| 78/78 [00:01<00:00, 72.34it/s]\n"
     ]
    },
    {
     "name": "stdout",
     "output_type": "stream",
     "text": [
      "mlp_dropout_classification validation accuracy: 0.9866786858974359\n",
      "BNN Test Error: 1.32%\n",
      "MLP Test Error: 1.65%\n",
      "MLP Dropout Test Error: 1.33%\n",
      "Epoch 251/600\n"
     ]
    },
    {
     "name": "stderr",
     "output_type": "stream",
     "text": [
      "100%|██████████| 468/468 [00:17<00:00, 26.43it/s]\n",
      "100%|██████████| 468/468 [00:06<00:00, 66.89it/s]\n",
      "100%|██████████| 468/468 [00:07<00:00, 66.60it/s]\n",
      "100%|██████████| 78/78 [00:19<00:00,  3.99it/s]\n"
     ]
    },
    {
     "name": "stdout",
     "output_type": "stream",
     "text": [
      "bnn_classification validation accuracy: 0.9865785256410257\n"
     ]
    },
    {
     "name": "stderr",
     "output_type": "stream",
     "text": [
      "100%|██████████| 78/78 [00:01<00:00, 69.15it/s]\n"
     ]
    },
    {
     "name": "stdout",
     "output_type": "stream",
     "text": [
      "mlp_classification validation accuracy: 0.9833733974358975\n"
     ]
    },
    {
     "name": "stderr",
     "output_type": "stream",
     "text": [
      "100%|██████████| 78/78 [00:01<00:00, 69.47it/s]\n"
     ]
    },
    {
     "name": "stdout",
     "output_type": "stream",
     "text": [
      "mlp_dropout_classification validation accuracy: 0.9864783653846154\n",
      "BNN Test Error: 1.34%\n",
      "MLP Test Error: 1.66%\n",
      "MLP Dropout Test Error: 1.35%\n",
      "Epoch 252/600\n"
     ]
    },
    {
     "name": "stderr",
     "output_type": "stream",
     "text": [
      "100%|██████████| 468/468 [00:18<00:00, 25.95it/s]\n",
      "100%|██████████| 468/468 [00:07<00:00, 64.19it/s]\n",
      "100%|██████████| 468/468 [00:07<00:00, 65.75it/s]\n",
      "100%|██████████| 78/78 [00:18<00:00,  4.27it/s]\n"
     ]
    },
    {
     "name": "stdout",
     "output_type": "stream",
     "text": [
      "bnn_classification validation accuracy: 0.9867788461538461\n"
     ]
    },
    {
     "name": "stderr",
     "output_type": "stream",
     "text": [
      "100%|██████████| 78/78 [00:01<00:00, 68.07it/s]\n"
     ]
    },
    {
     "name": "stdout",
     "output_type": "stream",
     "text": [
      "mlp_classification validation accuracy: 0.9832732371794872\n"
     ]
    },
    {
     "name": "stderr",
     "output_type": "stream",
     "text": [
      "100%|██████████| 78/78 [00:01<00:00, 71.85it/s]\n"
     ]
    },
    {
     "name": "stdout",
     "output_type": "stream",
     "text": [
      "mlp_dropout_classification validation accuracy: 0.9870793269230769\n",
      "BNN Test Error: 1.32%\n",
      "MLP Test Error: 1.67%\n",
      "MLP Dropout Test Error: 1.29%\n",
      "Epoch 253/600\n"
     ]
    },
    {
     "name": "stderr",
     "output_type": "stream",
     "text": [
      "100%|██████████| 468/468 [00:18<00:00, 25.78it/s]\n",
      "100%|██████████| 468/468 [00:06<00:00, 68.33it/s]\n",
      "100%|██████████| 468/468 [00:06<00:00, 67.11it/s]\n",
      "100%|██████████| 78/78 [00:18<00:00,  4.11it/s]\n"
     ]
    },
    {
     "name": "stdout",
     "output_type": "stream",
     "text": [
      "bnn_classification validation accuracy: 0.9865785256410257\n"
     ]
    },
    {
     "name": "stderr",
     "output_type": "stream",
     "text": [
      "100%|██████████| 78/78 [00:01<00:00, 73.18it/s]\n"
     ]
    },
    {
     "name": "stdout",
     "output_type": "stream",
     "text": [
      "mlp_classification validation accuracy: 0.9834735576923077\n"
     ]
    },
    {
     "name": "stderr",
     "output_type": "stream",
     "text": [
      "100%|██████████| 78/78 [00:01<00:00, 71.31it/s]\n"
     ]
    },
    {
     "name": "stdout",
     "output_type": "stream",
     "text": [
      "mlp_dropout_classification validation accuracy: 0.9865785256410257\n",
      "BNN Test Error: 1.34%\n",
      "MLP Test Error: 1.65%\n",
      "MLP Dropout Test Error: 1.34%\n",
      "Epoch 254/600\n"
     ]
    },
    {
     "name": "stderr",
     "output_type": "stream",
     "text": [
      "100%|██████████| 468/468 [00:17<00:00, 26.76it/s]\n",
      "100%|██████████| 468/468 [00:07<00:00, 64.57it/s]\n",
      "100%|██████████| 468/468 [00:06<00:00, 68.14it/s]\n",
      "100%|██████████| 78/78 [00:17<00:00,  4.44it/s]\n"
     ]
    },
    {
     "name": "stdout",
     "output_type": "stream",
     "text": [
      "bnn_classification validation accuracy: 0.9864783653846154\n"
     ]
    },
    {
     "name": "stderr",
     "output_type": "stream",
     "text": [
      "100%|██████████| 78/78 [00:01<00:00, 72.01it/s]\n"
     ]
    },
    {
     "name": "stdout",
     "output_type": "stream",
     "text": [
      "mlp_classification validation accuracy: 0.9834735576923077\n"
     ]
    },
    {
     "name": "stderr",
     "output_type": "stream",
     "text": [
      "100%|██████████| 78/78 [00:01<00:00, 70.75it/s]\n"
     ]
    },
    {
     "name": "stdout",
     "output_type": "stream",
     "text": [
      "mlp_dropout_classification validation accuracy: 0.9870793269230769\n",
      "BNN Test Error: 1.35%\n",
      "MLP Test Error: 1.65%\n",
      "MLP Dropout Test Error: 1.29%\n",
      "Epoch 255/600\n"
     ]
    },
    {
     "name": "stderr",
     "output_type": "stream",
     "text": [
      "100%|██████████| 468/468 [00:18<00:00, 25.86it/s]\n",
      "100%|██████████| 468/468 [00:06<00:00, 68.07it/s]\n",
      "100%|██████████| 468/468 [00:06<00:00, 67.95it/s]\n",
      "100%|██████████| 78/78 [00:19<00:00,  4.01it/s]\n"
     ]
    },
    {
     "name": "stdout",
     "output_type": "stream",
     "text": [
      "bnn_classification validation accuracy: 0.9864783653846154\n"
     ]
    },
    {
     "name": "stderr",
     "output_type": "stream",
     "text": [
      "100%|██████████| 78/78 [00:01<00:00, 71.88it/s]\n"
     ]
    },
    {
     "name": "stdout",
     "output_type": "stream",
     "text": [
      "mlp_classification validation accuracy: 0.9834735576923077\n"
     ]
    },
    {
     "name": "stderr",
     "output_type": "stream",
     "text": [
      "100%|██████████| 78/78 [00:01<00:00, 69.19it/s]\n"
     ]
    },
    {
     "name": "stdout",
     "output_type": "stream",
     "text": [
      "mlp_dropout_classification validation accuracy: 0.9871794871794872\n",
      "BNN Test Error: 1.35%\n",
      "MLP Test Error: 1.65%\n",
      "MLP Dropout Test Error: 1.28%\n",
      "Epoch 256/600\n"
     ]
    },
    {
     "name": "stderr",
     "output_type": "stream",
     "text": [
      "100%|██████████| 468/468 [00:17<00:00, 26.03it/s]\n",
      "100%|██████████| 468/468 [00:07<00:00, 66.80it/s]\n",
      "100%|██████████| 468/468 [00:06<00:00, 68.02it/s]\n",
      "100%|██████████| 78/78 [00:18<00:00,  4.30it/s]\n"
     ]
    },
    {
     "name": "stdout",
     "output_type": "stream",
     "text": [
      "bnn_classification validation accuracy: 0.9866786858974359\n"
     ]
    },
    {
     "name": "stderr",
     "output_type": "stream",
     "text": [
      "100%|██████████| 78/78 [00:01<00:00, 71.24it/s]\n"
     ]
    },
    {
     "name": "stdout",
     "output_type": "stream",
     "text": [
      "mlp_classification validation accuracy: 0.9834735576923077\n"
     ]
    },
    {
     "name": "stderr",
     "output_type": "stream",
     "text": [
      "100%|██████████| 78/78 [00:01<00:00, 72.05it/s]\n"
     ]
    },
    {
     "name": "stdout",
     "output_type": "stream",
     "text": [
      "mlp_dropout_classification validation accuracy: 0.9871794871794872\n",
      "BNN Test Error: 1.33%\n",
      "MLP Test Error: 1.65%\n",
      "MLP Dropout Test Error: 1.28%\n",
      "Epoch 257/600\n"
     ]
    },
    {
     "name": "stderr",
     "output_type": "stream",
     "text": [
      "100%|██████████| 468/468 [00:17<00:00, 26.70it/s]\n",
      "100%|██████████| 468/468 [00:06<00:00, 68.64it/s]\n",
      "100%|██████████| 468/468 [00:07<00:00, 65.54it/s]\n",
      "100%|██████████| 78/78 [00:19<00:00,  4.11it/s]\n"
     ]
    },
    {
     "name": "stdout",
     "output_type": "stream",
     "text": [
      "bnn_classification validation accuracy: 0.9867788461538461\n"
     ]
    },
    {
     "name": "stderr",
     "output_type": "stream",
     "text": [
      "100%|██████████| 78/78 [00:01<00:00, 70.97it/s]\n"
     ]
    },
    {
     "name": "stdout",
     "output_type": "stream",
     "text": [
      "mlp_classification validation accuracy: 0.9834735576923077\n"
     ]
    },
    {
     "name": "stderr",
     "output_type": "stream",
     "text": [
      "100%|██████████| 78/78 [00:01<00:00, 71.56it/s]\n"
     ]
    },
    {
     "name": "stdout",
     "output_type": "stream",
     "text": [
      "mlp_dropout_classification validation accuracy: 0.9872796474358975\n",
      "BNN Test Error: 1.32%\n",
      "MLP Test Error: 1.65%\n",
      "MLP Dropout Test Error: 1.27%\n",
      "Epoch 258/600\n"
     ]
    },
    {
     "name": "stderr",
     "output_type": "stream",
     "text": [
      "100%|██████████| 468/468 [00:17<00:00, 26.43it/s]\n",
      "100%|██████████| 468/468 [00:07<00:00, 66.70it/s]\n",
      "100%|██████████| 468/468 [00:07<00:00, 66.28it/s]\n",
      "100%|██████████| 78/78 [00:17<00:00,  4.35it/s]\n"
     ]
    },
    {
     "name": "stdout",
     "output_type": "stream",
     "text": [
      "bnn_classification validation accuracy: 0.9867788461538461\n"
     ]
    },
    {
     "name": "stderr",
     "output_type": "stream",
     "text": [
      "100%|██████████| 78/78 [00:01<00:00, 72.43it/s]\n"
     ]
    },
    {
     "name": "stdout",
     "output_type": "stream",
     "text": [
      "mlp_classification validation accuracy: 0.9834735576923077\n"
     ]
    },
    {
     "name": "stderr",
     "output_type": "stream",
     "text": [
      "100%|██████████| 78/78 [00:01<00:00, 72.97it/s]\n"
     ]
    },
    {
     "name": "stdout",
     "output_type": "stream",
     "text": [
      "mlp_dropout_classification validation accuracy: 0.987479967948718\n",
      "BNN Test Error: 1.32%\n",
      "MLP Test Error: 1.65%\n",
      "MLP Dropout Test Error: 1.25%\n",
      "Epoch 259/600\n"
     ]
    },
    {
     "name": "stderr",
     "output_type": "stream",
     "text": [
      "100%|██████████| 468/468 [00:17<00:00, 26.29it/s]\n",
      "100%|██████████| 468/468 [00:06<00:00, 68.29it/s]\n",
      "100%|██████████| 468/468 [00:06<00:00, 67.57it/s]\n",
      "100%|██████████| 78/78 [00:18<00:00,  4.21it/s]\n"
     ]
    },
    {
     "name": "stdout",
     "output_type": "stream",
     "text": [
      "bnn_classification validation accuracy: 0.9866786858974359\n"
     ]
    },
    {
     "name": "stderr",
     "output_type": "stream",
     "text": [
      "100%|██████████| 78/78 [00:01<00:00, 73.04it/s]\n"
     ]
    },
    {
     "name": "stdout",
     "output_type": "stream",
     "text": [
      "mlp_classification validation accuracy: 0.9834735576923077\n"
     ]
    },
    {
     "name": "stderr",
     "output_type": "stream",
     "text": [
      "100%|██████████| 78/78 [00:01<00:00, 72.06it/s]\n"
     ]
    },
    {
     "name": "stdout",
     "output_type": "stream",
     "text": [
      "mlp_dropout_classification validation accuracy: 0.9872796474358975\n",
      "BNN Test Error: 1.33%\n",
      "MLP Test Error: 1.65%\n",
      "MLP Dropout Test Error: 1.27%\n",
      "Epoch 260/600\n"
     ]
    },
    {
     "name": "stderr",
     "output_type": "stream",
     "text": [
      "100%|██████████| 468/468 [00:17<00:00, 27.13it/s]\n",
      "100%|██████████| 468/468 [00:06<00:00, 67.14it/s]\n",
      "100%|██████████| 468/468 [00:07<00:00, 63.23it/s]\n",
      "100%|██████████| 78/78 [00:17<00:00,  4.34it/s]\n"
     ]
    },
    {
     "name": "stdout",
     "output_type": "stream",
     "text": [
      "bnn_classification validation accuracy: 0.9866786858974359\n"
     ]
    },
    {
     "name": "stderr",
     "output_type": "stream",
     "text": [
      "100%|██████████| 78/78 [00:01<00:00, 70.46it/s]\n"
     ]
    },
    {
     "name": "stdout",
     "output_type": "stream",
     "text": [
      "mlp_classification validation accuracy: 0.9834735576923077\n"
     ]
    },
    {
     "name": "stderr",
     "output_type": "stream",
     "text": [
      "100%|██████████| 78/78 [00:01<00:00, 70.74it/s]\n"
     ]
    },
    {
     "name": "stdout",
     "output_type": "stream",
     "text": [
      "mlp_dropout_classification validation accuracy: 0.9872796474358975\n",
      "BNN Test Error: 1.33%\n",
      "MLP Test Error: 1.65%\n",
      "MLP Dropout Test Error: 1.27%\n",
      "Epoch 261/600\n"
     ]
    },
    {
     "name": "stderr",
     "output_type": "stream",
     "text": [
      "100%|██████████| 468/468 [00:19<00:00, 24.61it/s]\n",
      "100%|██████████| 468/468 [00:06<00:00, 67.41it/s]\n",
      "100%|██████████| 468/468 [00:06<00:00, 67.68it/s]\n",
      "100%|██████████| 78/78 [00:18<00:00,  4.32it/s]\n"
     ]
    },
    {
     "name": "stdout",
     "output_type": "stream",
     "text": [
      "bnn_classification validation accuracy: 0.9869791666666666\n"
     ]
    },
    {
     "name": "stderr",
     "output_type": "stream",
     "text": [
      "100%|██████████| 78/78 [00:01<00:00, 72.91it/s]\n"
     ]
    },
    {
     "name": "stdout",
     "output_type": "stream",
     "text": [
      "mlp_classification validation accuracy: 0.9834735576923077\n"
     ]
    },
    {
     "name": "stderr",
     "output_type": "stream",
     "text": [
      "100%|██████████| 78/78 [00:01<00:00, 70.50it/s]\n"
     ]
    },
    {
     "name": "stdout",
     "output_type": "stream",
     "text": [
      "mlp_dropout_classification validation accuracy: 0.9875801282051282\n",
      "BNN Test Error: 1.30%\n",
      "MLP Test Error: 1.65%\n",
      "MLP Dropout Test Error: 1.24%\n",
      "Epoch 262/600\n"
     ]
    },
    {
     "name": "stderr",
     "output_type": "stream",
     "text": [
      "100%|██████████| 468/468 [00:17<00:00, 26.65it/s]\n",
      "100%|██████████| 468/468 [00:06<00:00, 68.14it/s]\n",
      "100%|██████████| 468/468 [00:07<00:00, 65.23it/s]\n",
      "100%|██████████| 78/78 [00:16<00:00,  4.67it/s]\n"
     ]
    },
    {
     "name": "stdout",
     "output_type": "stream",
     "text": [
      "bnn_classification validation accuracy: 0.9867788461538461\n"
     ]
    },
    {
     "name": "stderr",
     "output_type": "stream",
     "text": [
      "100%|██████████| 78/78 [00:01<00:00, 64.76it/s]\n"
     ]
    },
    {
     "name": "stdout",
     "output_type": "stream",
     "text": [
      "mlp_classification validation accuracy: 0.9833733974358975\n"
     ]
    },
    {
     "name": "stderr",
     "output_type": "stream",
     "text": [
      "100%|██████████| 78/78 [00:01<00:00, 71.62it/s]\n"
     ]
    },
    {
     "name": "stdout",
     "output_type": "stream",
     "text": [
      "mlp_dropout_classification validation accuracy: 0.9877804487179487\n",
      "BNN Test Error: 1.32%\n",
      "MLP Test Error: 1.66%\n",
      "MLP Dropout Test Error: 1.22%\n",
      "Epoch 263/600\n"
     ]
    },
    {
     "name": "stderr",
     "output_type": "stream",
     "text": [
      "100%|██████████| 468/468 [00:17<00:00, 27.40it/s]\n",
      "100%|██████████| 468/468 [00:06<00:00, 68.89it/s]\n",
      "100%|██████████| 468/468 [00:06<00:00, 67.04it/s]\n",
      "100%|██████████| 78/78 [00:17<00:00,  4.35it/s]\n"
     ]
    },
    {
     "name": "stdout",
     "output_type": "stream",
     "text": [
      "bnn_classification validation accuracy: 0.9866786858974359\n"
     ]
    },
    {
     "name": "stderr",
     "output_type": "stream",
     "text": [
      "100%|██████████| 78/78 [00:01<00:00, 69.52it/s]\n"
     ]
    },
    {
     "name": "stdout",
     "output_type": "stream",
     "text": [
      "mlp_classification validation accuracy: 0.9832732371794872\n"
     ]
    },
    {
     "name": "stderr",
     "output_type": "stream",
     "text": [
      "100%|██████████| 78/78 [00:01<00:00, 69.65it/s]\n"
     ]
    },
    {
     "name": "stdout",
     "output_type": "stream",
     "text": [
      "mlp_dropout_classification validation accuracy: 0.9872796474358975\n",
      "BNN Test Error: 1.33%\n",
      "MLP Test Error: 1.67%\n",
      "MLP Dropout Test Error: 1.27%\n",
      "Epoch 264/600\n"
     ]
    },
    {
     "name": "stderr",
     "output_type": "stream",
     "text": [
      "100%|██████████| 468/468 [00:17<00:00, 26.44it/s]\n",
      "100%|██████████| 468/468 [00:06<00:00, 67.84it/s]\n",
      "100%|██████████| 468/468 [00:06<00:00, 67.01it/s]\n",
      "100%|██████████| 78/78 [00:19<00:00,  4.07it/s]\n"
     ]
    },
    {
     "name": "stdout",
     "output_type": "stream",
     "text": [
      "bnn_classification validation accuracy: 0.9868790064102564\n"
     ]
    },
    {
     "name": "stderr",
     "output_type": "stream",
     "text": [
      "100%|██████████| 78/78 [00:01<00:00, 70.94it/s]\n"
     ]
    },
    {
     "name": "stdout",
     "output_type": "stream",
     "text": [
      "mlp_classification validation accuracy: 0.9834735576923077\n"
     ]
    },
    {
     "name": "stderr",
     "output_type": "stream",
     "text": [
      "100%|██████████| 78/78 [00:01<00:00, 71.43it/s]\n"
     ]
    },
    {
     "name": "stdout",
     "output_type": "stream",
     "text": [
      "mlp_dropout_classification validation accuracy: 0.9872796474358975\n",
      "BNN Test Error: 1.31%\n",
      "MLP Test Error: 1.65%\n",
      "MLP Dropout Test Error: 1.27%\n",
      "Epoch 265/600\n"
     ]
    },
    {
     "name": "stderr",
     "output_type": "stream",
     "text": [
      "100%|██████████| 468/468 [00:18<00:00, 25.65it/s]\n",
      "100%|██████████| 468/468 [00:06<00:00, 67.68it/s]\n",
      "100%|██████████| 468/468 [00:06<00:00, 67.84it/s]\n",
      "100%|██████████| 78/78 [00:18<00:00,  4.32it/s]\n"
     ]
    },
    {
     "name": "stdout",
     "output_type": "stream",
     "text": [
      "bnn_classification validation accuracy: 0.9868790064102564\n"
     ]
    },
    {
     "name": "stderr",
     "output_type": "stream",
     "text": [
      "100%|██████████| 78/78 [00:01<00:00, 69.01it/s]\n"
     ]
    },
    {
     "name": "stdout",
     "output_type": "stream",
     "text": [
      "mlp_classification validation accuracy: 0.9834735576923077\n"
     ]
    },
    {
     "name": "stderr",
     "output_type": "stream",
     "text": [
      "100%|██████████| 78/78 [00:01<00:00, 53.76it/s]\n"
     ]
    },
    {
     "name": "stdout",
     "output_type": "stream",
     "text": [
      "mlp_dropout_classification validation accuracy: 0.9876802884615384\n",
      "BNN Test Error: 1.31%\n",
      "MLP Test Error: 1.65%\n",
      "MLP Dropout Test Error: 1.23%\n",
      "Epoch 266/600\n"
     ]
    },
    {
     "name": "stderr",
     "output_type": "stream",
     "text": [
      "100%|██████████| 468/468 [00:17<00:00, 26.75it/s]\n",
      "100%|██████████| 468/468 [00:06<00:00, 68.15it/s]\n",
      "100%|██████████| 468/468 [00:07<00:00, 65.75it/s]\n",
      "100%|██████████| 78/78 [00:19<00:00,  4.06it/s]\n"
     ]
    },
    {
     "name": "stdout",
     "output_type": "stream",
     "text": [
      "bnn_classification validation accuracy: 0.9867788461538461\n"
     ]
    },
    {
     "name": "stderr",
     "output_type": "stream",
     "text": [
      "100%|██████████| 78/78 [00:01<00:00, 72.45it/s]\n"
     ]
    },
    {
     "name": "stdout",
     "output_type": "stream",
     "text": [
      "mlp_classification validation accuracy: 0.9833733974358975\n"
     ]
    },
    {
     "name": "stderr",
     "output_type": "stream",
     "text": [
      "100%|██████████| 78/78 [00:01<00:00, 72.03it/s]\n"
     ]
    },
    {
     "name": "stdout",
     "output_type": "stream",
     "text": [
      "mlp_dropout_classification validation accuracy: 0.9870793269230769\n",
      "BNN Test Error: 1.32%\n",
      "MLP Test Error: 1.66%\n",
      "MLP Dropout Test Error: 1.29%\n",
      "Epoch 267/600\n"
     ]
    },
    {
     "name": "stderr",
     "output_type": "stream",
     "text": [
      "100%|██████████| 468/468 [00:18<00:00, 25.18it/s]\n",
      "100%|██████████| 468/468 [00:06<00:00, 68.15it/s]\n",
      "100%|██████████| 468/468 [00:06<00:00, 67.67it/s]\n",
      "100%|██████████| 78/78 [00:18<00:00,  4.21it/s]\n"
     ]
    },
    {
     "name": "stdout",
     "output_type": "stream",
     "text": [
      "bnn_classification validation accuracy: 0.9866786858974359\n"
     ]
    },
    {
     "name": "stderr",
     "output_type": "stream",
     "text": [
      "100%|██████████| 78/78 [00:01<00:00, 70.21it/s]\n"
     ]
    },
    {
     "name": "stdout",
     "output_type": "stream",
     "text": [
      "mlp_classification validation accuracy: 0.9834735576923077\n"
     ]
    },
    {
     "name": "stderr",
     "output_type": "stream",
     "text": [
      "100%|██████████| 78/78 [00:01<00:00, 72.30it/s]\n"
     ]
    },
    {
     "name": "stdout",
     "output_type": "stream",
     "text": [
      "mlp_dropout_classification validation accuracy: 0.9871794871794872\n",
      "BNN Test Error: 1.33%\n",
      "MLP Test Error: 1.65%\n",
      "MLP Dropout Test Error: 1.28%\n",
      "Epoch 268/600\n"
     ]
    },
    {
     "name": "stderr",
     "output_type": "stream",
     "text": [
      "100%|██████████| 468/468 [00:17<00:00, 26.20it/s]\n",
      "100%|██████████| 468/468 [00:06<00:00, 67.43it/s]\n",
      "100%|██████████| 468/468 [00:06<00:00, 67.95it/s]\n",
      "100%|██████████| 78/78 [00:18<00:00,  4.33it/s]\n"
     ]
    },
    {
     "name": "stdout",
     "output_type": "stream",
     "text": [
      "bnn_classification validation accuracy: 0.9865785256410257\n"
     ]
    },
    {
     "name": "stderr",
     "output_type": "stream",
     "text": [
      "100%|██████████| 78/78 [00:01<00:00, 72.68it/s]\n"
     ]
    },
    {
     "name": "stdout",
     "output_type": "stream",
     "text": [
      "mlp_classification validation accuracy: 0.9834735576923077\n"
     ]
    },
    {
     "name": "stderr",
     "output_type": "stream",
     "text": [
      "100%|██████████| 78/78 [00:01<00:00, 70.91it/s]\n"
     ]
    },
    {
     "name": "stdout",
     "output_type": "stream",
     "text": [
      "mlp_dropout_classification validation accuracy: 0.9871794871794872\n",
      "BNN Test Error: 1.34%\n",
      "MLP Test Error: 1.65%\n",
      "MLP Dropout Test Error: 1.28%\n",
      "Epoch 269/600\n"
     ]
    },
    {
     "name": "stderr",
     "output_type": "stream",
     "text": [
      "100%|██████████| 468/468 [00:17<00:00, 26.94it/s]\n",
      "100%|██████████| 468/468 [00:07<00:00, 65.55it/s]\n",
      "100%|██████████| 468/468 [00:07<00:00, 66.57it/s]\n",
      "100%|██████████| 78/78 [00:18<00:00,  4.30it/s]\n"
     ]
    },
    {
     "name": "stdout",
     "output_type": "stream",
     "text": [
      "bnn_classification validation accuracy: 0.9867788461538461\n"
     ]
    },
    {
     "name": "stderr",
     "output_type": "stream",
     "text": [
      "100%|██████████| 78/78 [00:01<00:00, 70.08it/s]\n"
     ]
    },
    {
     "name": "stdout",
     "output_type": "stream",
     "text": [
      "mlp_classification validation accuracy: 0.9833733974358975\n"
     ]
    },
    {
     "name": "stderr",
     "output_type": "stream",
     "text": [
      "100%|██████████| 78/78 [00:01<00:00, 72.37it/s]\n"
     ]
    },
    {
     "name": "stdout",
     "output_type": "stream",
     "text": [
      "mlp_dropout_classification validation accuracy: 0.9872796474358975\n",
      "BNN Test Error: 1.32%\n",
      "MLP Test Error: 1.66%\n",
      "MLP Dropout Test Error: 1.27%\n",
      "Epoch 270/600\n"
     ]
    },
    {
     "name": "stderr",
     "output_type": "stream",
     "text": [
      "100%|██████████| 468/468 [00:18<00:00, 24.66it/s]\n",
      "100%|██████████| 468/468 [00:06<00:00, 67.72it/s]\n",
      "100%|██████████| 468/468 [00:07<00:00, 66.69it/s]\n",
      "100%|██████████| 78/78 [00:19<00:00,  4.05it/s]\n"
     ]
    },
    {
     "name": "stdout",
     "output_type": "stream",
     "text": [
      "bnn_classification validation accuracy: 0.9867788461538461\n"
     ]
    },
    {
     "name": "stderr",
     "output_type": "stream",
     "text": [
      "100%|██████████| 78/78 [00:01<00:00, 72.25it/s]\n"
     ]
    },
    {
     "name": "stdout",
     "output_type": "stream",
     "text": [
      "mlp_classification validation accuracy: 0.9833733974358975\n"
     ]
    },
    {
     "name": "stderr",
     "output_type": "stream",
     "text": [
      "100%|██████████| 78/78 [00:01<00:00, 69.98it/s]\n"
     ]
    },
    {
     "name": "stdout",
     "output_type": "stream",
     "text": [
      "mlp_dropout_classification validation accuracy: 0.9872796474358975\n",
      "BNN Test Error: 1.32%\n",
      "MLP Test Error: 1.66%\n",
      "MLP Dropout Test Error: 1.27%\n",
      "Epoch 271/600\n"
     ]
    },
    {
     "name": "stderr",
     "output_type": "stream",
     "text": [
      "100%|██████████| 468/468 [00:17<00:00, 26.88it/s]\n",
      "100%|██████████| 468/468 [00:07<00:00, 66.47it/s]\n",
      "100%|██████████| 468/468 [00:06<00:00, 67.24it/s]\n",
      "100%|██████████| 78/78 [00:17<00:00,  4.40it/s]\n"
     ]
    },
    {
     "name": "stdout",
     "output_type": "stream",
     "text": [
      "bnn_classification validation accuracy: 0.9865785256410257\n"
     ]
    },
    {
     "name": "stderr",
     "output_type": "stream",
     "text": [
      "100%|██████████| 78/78 [00:01<00:00, 71.29it/s]\n"
     ]
    },
    {
     "name": "stdout",
     "output_type": "stream",
     "text": [
      "mlp_classification validation accuracy: 0.9833733974358975\n"
     ]
    },
    {
     "name": "stderr",
     "output_type": "stream",
     "text": [
      "100%|██████████| 78/78 [00:01<00:00, 70.77it/s]\n"
     ]
    },
    {
     "name": "stdout",
     "output_type": "stream",
     "text": [
      "mlp_dropout_classification validation accuracy: 0.9876802884615384\n",
      "BNN Test Error: 1.34%\n",
      "MLP Test Error: 1.66%\n",
      "MLP Dropout Test Error: 1.23%\n",
      "Epoch 272/600\n"
     ]
    },
    {
     "name": "stderr",
     "output_type": "stream",
     "text": [
      "100%|██████████| 468/468 [00:18<00:00, 25.15it/s]\n",
      "100%|██████████| 468/468 [00:06<00:00, 67.38it/s]\n",
      "100%|██████████| 468/468 [00:06<00:00, 67.54it/s]\n",
      "100%|██████████| 78/78 [00:17<00:00,  4.36it/s]\n"
     ]
    },
    {
     "name": "stdout",
     "output_type": "stream",
     "text": [
      "bnn_classification validation accuracy: 0.9867788461538461\n"
     ]
    },
    {
     "name": "stderr",
     "output_type": "stream",
     "text": [
      "100%|██████████| 78/78 [00:01<00:00, 72.00it/s]\n"
     ]
    },
    {
     "name": "stdout",
     "output_type": "stream",
     "text": [
      "mlp_classification validation accuracy: 0.9834735576923077\n"
     ]
    },
    {
     "name": "stderr",
     "output_type": "stream",
     "text": [
      "100%|██████████| 78/78 [00:01<00:00, 68.41it/s]\n"
     ]
    },
    {
     "name": "stdout",
     "output_type": "stream",
     "text": [
      "mlp_dropout_classification validation accuracy: 0.987479967948718\n",
      "BNN Test Error: 1.32%\n",
      "MLP Test Error: 1.65%\n",
      "MLP Dropout Test Error: 1.25%\n",
      "Epoch 273/600\n"
     ]
    },
    {
     "name": "stderr",
     "output_type": "stream",
     "text": [
      "100%|██████████| 468/468 [00:17<00:00, 26.46it/s]\n",
      "100%|██████████| 468/468 [00:07<00:00, 66.31it/s]\n",
      "100%|██████████| 468/468 [00:06<00:00, 67.16it/s]\n",
      "100%|██████████| 78/78 [00:18<00:00,  4.31it/s]\n"
     ]
    },
    {
     "name": "stdout",
     "output_type": "stream",
     "text": [
      "bnn_classification validation accuracy: 0.9869791666666666\n"
     ]
    },
    {
     "name": "stderr",
     "output_type": "stream",
     "text": [
      "100%|██████████| 78/78 [00:01<00:00, 68.83it/s]\n"
     ]
    },
    {
     "name": "stdout",
     "output_type": "stream",
     "text": [
      "mlp_classification validation accuracy: 0.9833733974358975\n"
     ]
    },
    {
     "name": "stderr",
     "output_type": "stream",
     "text": [
      "100%|██████████| 78/78 [00:01<00:00, 72.50it/s]\n"
     ]
    },
    {
     "name": "stdout",
     "output_type": "stream",
     "text": [
      "mlp_dropout_classification validation accuracy: 0.9875801282051282\n",
      "BNN Test Error: 1.30%\n",
      "MLP Test Error: 1.66%\n",
      "MLP Dropout Test Error: 1.24%\n",
      "Epoch 274/600\n"
     ]
    },
    {
     "name": "stderr",
     "output_type": "stream",
     "text": [
      "100%|██████████| 468/468 [00:18<00:00, 25.17it/s]\n",
      "100%|██████████| 468/468 [00:06<00:00, 67.07it/s]\n",
      "100%|██████████| 468/468 [00:06<00:00, 66.88it/s]\n",
      "100%|██████████| 78/78 [00:19<00:00,  4.01it/s]\n"
     ]
    },
    {
     "name": "stdout",
     "output_type": "stream",
     "text": [
      "bnn_classification validation accuracy: 0.9865785256410257\n"
     ]
    },
    {
     "name": "stderr",
     "output_type": "stream",
     "text": [
      "100%|██████████| 78/78 [00:01<00:00, 69.28it/s]\n"
     ]
    },
    {
     "name": "stdout",
     "output_type": "stream",
     "text": [
      "mlp_classification validation accuracy: 0.9833733974358975\n"
     ]
    },
    {
     "name": "stderr",
     "output_type": "stream",
     "text": [
      "100%|██████████| 78/78 [00:01<00:00, 68.46it/s]\n"
     ]
    },
    {
     "name": "stdout",
     "output_type": "stream",
     "text": [
      "mlp_dropout_classification validation accuracy: 0.9872796474358975\n",
      "BNN Test Error: 1.34%\n",
      "MLP Test Error: 1.66%\n",
      "MLP Dropout Test Error: 1.27%\n",
      "Epoch 275/600\n"
     ]
    },
    {
     "name": "stderr",
     "output_type": "stream",
     "text": [
      "100%|██████████| 468/468 [00:17<00:00, 26.05it/s]\n",
      "100%|██████████| 468/468 [00:07<00:00, 65.43it/s]\n",
      "100%|██████████| 468/468 [00:07<00:00, 66.30it/s]\n",
      "100%|██████████| 78/78 [00:17<00:00,  4.38it/s]\n"
     ]
    },
    {
     "name": "stdout",
     "output_type": "stream",
     "text": [
      "bnn_classification validation accuracy: 0.9867788461538461\n"
     ]
    },
    {
     "name": "stderr",
     "output_type": "stream",
     "text": [
      "100%|██████████| 78/78 [00:01<00:00, 73.55it/s]\n"
     ]
    },
    {
     "name": "stdout",
     "output_type": "stream",
     "text": [
      "mlp_classification validation accuracy: 0.9833733974358975\n"
     ]
    },
    {
     "name": "stderr",
     "output_type": "stream",
     "text": [
      "100%|██████████| 78/78 [00:01<00:00, 73.81it/s]\n"
     ]
    },
    {
     "name": "stdout",
     "output_type": "stream",
     "text": [
      "mlp_dropout_classification validation accuracy: 0.9873798076923077\n",
      "BNN Test Error: 1.32%\n",
      "MLP Test Error: 1.66%\n",
      "MLP Dropout Test Error: 1.26%\n",
      "Epoch 276/600\n"
     ]
    },
    {
     "name": "stderr",
     "output_type": "stream",
     "text": [
      "100%|██████████| 468/468 [00:18<00:00, 25.76it/s]\n",
      "100%|██████████| 468/468 [00:06<00:00, 67.03it/s]\n",
      "100%|██████████| 468/468 [00:07<00:00, 66.43it/s]\n",
      "100%|██████████| 78/78 [00:18<00:00,  4.21it/s]\n"
     ]
    },
    {
     "name": "stdout",
     "output_type": "stream",
     "text": [
      "bnn_classification validation accuracy: 0.9867788461538461\n"
     ]
    },
    {
     "name": "stderr",
     "output_type": "stream",
     "text": [
      "100%|██████████| 78/78 [00:01<00:00, 70.27it/s]\n"
     ]
    },
    {
     "name": "stdout",
     "output_type": "stream",
     "text": [
      "mlp_classification validation accuracy: 0.9833733974358975\n"
     ]
    },
    {
     "name": "stderr",
     "output_type": "stream",
     "text": [
      "100%|██████████| 78/78 [00:01<00:00, 72.15it/s]\n"
     ]
    },
    {
     "name": "stdout",
     "output_type": "stream",
     "text": [
      "mlp_dropout_classification validation accuracy: 0.9871794871794872\n",
      "BNN Test Error: 1.32%\n",
      "MLP Test Error: 1.66%\n",
      "MLP Dropout Test Error: 1.28%\n",
      "Epoch 277/600\n"
     ]
    },
    {
     "name": "stderr",
     "output_type": "stream",
     "text": [
      "100%|██████████| 468/468 [00:16<00:00, 27.55it/s]\n",
      "100%|██████████| 468/468 [00:07<00:00, 61.86it/s]\n",
      "100%|██████████| 468/468 [00:06<00:00, 67.87it/s]\n",
      "100%|██████████| 78/78 [00:17<00:00,  4.44it/s]\n"
     ]
    },
    {
     "name": "stdout",
     "output_type": "stream",
     "text": [
      "bnn_classification validation accuracy: 0.9866786858974359\n"
     ]
    },
    {
     "name": "stderr",
     "output_type": "stream",
     "text": [
      "100%|██████████| 78/78 [00:01<00:00, 71.75it/s]\n"
     ]
    },
    {
     "name": "stdout",
     "output_type": "stream",
     "text": [
      "mlp_classification validation accuracy: 0.9834735576923077\n"
     ]
    },
    {
     "name": "stderr",
     "output_type": "stream",
     "text": [
      "100%|██████████| 78/78 [00:01<00:00, 69.16it/s]\n"
     ]
    },
    {
     "name": "stdout",
     "output_type": "stream",
     "text": [
      "mlp_dropout_classification validation accuracy: 0.9870793269230769\n",
      "BNN Test Error: 1.33%\n",
      "MLP Test Error: 1.65%\n",
      "MLP Dropout Test Error: 1.29%\n",
      "Epoch 278/600\n"
     ]
    },
    {
     "name": "stderr",
     "output_type": "stream",
     "text": [
      "100%|██████████| 468/468 [00:17<00:00, 26.70it/s]\n",
      "100%|██████████| 468/468 [00:06<00:00, 68.95it/s]\n",
      "100%|██████████| 468/468 [00:06<00:00, 67.79it/s]\n",
      "100%|██████████| 78/78 [00:18<00:00,  4.14it/s]\n"
     ]
    },
    {
     "name": "stdout",
     "output_type": "stream",
     "text": [
      "bnn_classification validation accuracy: 0.9868790064102564\n"
     ]
    },
    {
     "name": "stderr",
     "output_type": "stream",
     "text": [
      "100%|██████████| 78/78 [00:01<00:00, 72.54it/s]\n"
     ]
    },
    {
     "name": "stdout",
     "output_type": "stream",
     "text": [
      "mlp_classification validation accuracy: 0.9833733974358975\n"
     ]
    },
    {
     "name": "stderr",
     "output_type": "stream",
     "text": [
      "100%|██████████| 78/78 [00:01<00:00, 72.78it/s]\n"
     ]
    },
    {
     "name": "stdout",
     "output_type": "stream",
     "text": [
      "mlp_dropout_classification validation accuracy: 0.9872796474358975\n",
      "BNN Test Error: 1.31%\n",
      "MLP Test Error: 1.66%\n",
      "MLP Dropout Test Error: 1.27%\n",
      "Epoch 279/600\n"
     ]
    },
    {
     "name": "stderr",
     "output_type": "stream",
     "text": [
      "100%|██████████| 468/468 [00:17<00:00, 26.66it/s]\n",
      "100%|██████████| 468/468 [00:06<00:00, 68.46it/s]\n",
      "100%|██████████| 468/468 [00:07<00:00, 66.05it/s]\n",
      "100%|██████████| 78/78 [00:18<00:00,  4.25it/s]\n"
     ]
    },
    {
     "name": "stdout",
     "output_type": "stream",
     "text": [
      "bnn_classification validation accuracy: 0.9867788461538461\n"
     ]
    },
    {
     "name": "stderr",
     "output_type": "stream",
     "text": [
      "100%|██████████| 78/78 [00:01<00:00, 72.36it/s]\n"
     ]
    },
    {
     "name": "stdout",
     "output_type": "stream",
     "text": [
      "mlp_classification validation accuracy: 0.9833733974358975\n"
     ]
    },
    {
     "name": "stderr",
     "output_type": "stream",
     "text": [
      "100%|██████████| 78/78 [00:01<00:00, 73.22it/s]\n"
     ]
    },
    {
     "name": "stdout",
     "output_type": "stream",
     "text": [
      "mlp_dropout_classification validation accuracy: 0.987479967948718\n",
      "BNN Test Error: 1.32%\n",
      "MLP Test Error: 1.66%\n",
      "MLP Dropout Test Error: 1.25%\n",
      "Epoch 280/600\n"
     ]
    },
    {
     "name": "stderr",
     "output_type": "stream",
     "text": [
      "100%|██████████| 468/468 [00:17<00:00, 26.49it/s]\n",
      "100%|██████████| 468/468 [00:06<00:00, 66.95it/s]\n",
      "100%|██████████| 468/468 [00:06<00:00, 67.44it/s]\n",
      "100%|██████████| 78/78 [00:19<00:00,  4.08it/s]\n"
     ]
    },
    {
     "name": "stdout",
     "output_type": "stream",
     "text": [
      "bnn_classification validation accuracy: 0.9867788461538461\n"
     ]
    },
    {
     "name": "stderr",
     "output_type": "stream",
     "text": [
      "100%|██████████| 78/78 [00:01<00:00, 72.07it/s]\n"
     ]
    },
    {
     "name": "stdout",
     "output_type": "stream",
     "text": [
      "mlp_classification validation accuracy: 0.9834735576923077\n"
     ]
    },
    {
     "name": "stderr",
     "output_type": "stream",
     "text": [
      "100%|██████████| 78/78 [00:01<00:00, 73.73it/s]\n"
     ]
    },
    {
     "name": "stdout",
     "output_type": "stream",
     "text": [
      "mlp_dropout_classification validation accuracy: 0.9869791666666666\n",
      "BNN Test Error: 1.32%\n",
      "MLP Test Error: 1.65%\n",
      "MLP Dropout Test Error: 1.30%\n",
      "Epoch 281/600\n"
     ]
    },
    {
     "name": "stderr",
     "output_type": "stream",
     "text": [
      "100%|██████████| 468/468 [00:17<00:00, 26.91it/s]\n",
      "100%|██████████| 468/468 [00:06<00:00, 68.18it/s]\n",
      "100%|██████████| 468/468 [00:07<00:00, 65.63it/s]\n",
      "100%|██████████| 78/78 [00:17<00:00,  4.40it/s]\n"
     ]
    },
    {
     "name": "stdout",
     "output_type": "stream",
     "text": [
      "bnn_classification validation accuracy: 0.9864783653846154\n"
     ]
    },
    {
     "name": "stderr",
     "output_type": "stream",
     "text": [
      "100%|██████████| 78/78 [00:01<00:00, 69.98it/s]\n"
     ]
    },
    {
     "name": "stdout",
     "output_type": "stream",
     "text": [
      "mlp_classification validation accuracy: 0.9834735576923077\n"
     ]
    },
    {
     "name": "stderr",
     "output_type": "stream",
     "text": [
      "100%|██████████| 78/78 [00:01<00:00, 71.63it/s]\n"
     ]
    },
    {
     "name": "stdout",
     "output_type": "stream",
     "text": [
      "mlp_dropout_classification validation accuracy: 0.9872796474358975\n",
      "BNN Test Error: 1.35%\n",
      "MLP Test Error: 1.65%\n",
      "MLP Dropout Test Error: 1.27%\n",
      "Epoch 282/600\n"
     ]
    },
    {
     "name": "stderr",
     "output_type": "stream",
     "text": [
      "100%|██████████| 468/468 [00:17<00:00, 26.25it/s]\n",
      "100%|██████████| 468/468 [00:06<00:00, 67.42it/s]\n",
      "100%|██████████| 468/468 [00:06<00:00, 68.20it/s]\n",
      "100%|██████████| 78/78 [00:18<00:00,  4.14it/s]\n"
     ]
    },
    {
     "name": "stdout",
     "output_type": "stream",
     "text": [
      "bnn_classification validation accuracy: 0.9866786858974359\n"
     ]
    },
    {
     "name": "stderr",
     "output_type": "stream",
     "text": [
      "100%|██████████| 78/78 [00:01<00:00, 69.12it/s]\n"
     ]
    },
    {
     "name": "stdout",
     "output_type": "stream",
     "text": [
      "mlp_classification validation accuracy: 0.9833733974358975\n"
     ]
    },
    {
     "name": "stderr",
     "output_type": "stream",
     "text": [
      "100%|██████████| 78/78 [00:01<00:00, 69.23it/s]\n"
     ]
    },
    {
     "name": "stdout",
     "output_type": "stream",
     "text": [
      "mlp_dropout_classification validation accuracy: 0.9871794871794872\n",
      "BNN Test Error: 1.33%\n",
      "MLP Test Error: 1.66%\n",
      "MLP Dropout Test Error: 1.28%\n",
      "Epoch 283/600\n"
     ]
    },
    {
     "name": "stderr",
     "output_type": "stream",
     "text": [
      "100%|██████████| 468/468 [00:17<00:00, 26.78it/s]\n",
      "100%|██████████| 468/468 [00:06<00:00, 67.95it/s]\n",
      "100%|██████████| 468/468 [00:07<00:00, 65.61it/s]\n",
      "100%|██████████| 78/78 [00:17<00:00,  4.40it/s]\n"
     ]
    },
    {
     "name": "stdout",
     "output_type": "stream",
     "text": [
      "bnn_classification validation accuracy: 0.9866786858974359\n"
     ]
    },
    {
     "name": "stderr",
     "output_type": "stream",
     "text": [
      "100%|██████████| 78/78 [00:01<00:00, 72.85it/s]\n"
     ]
    },
    {
     "name": "stdout",
     "output_type": "stream",
     "text": [
      "mlp_classification validation accuracy: 0.9833733974358975\n"
     ]
    },
    {
     "name": "stderr",
     "output_type": "stream",
     "text": [
      "100%|██████████| 78/78 [00:01<00:00, 72.17it/s]\n"
     ]
    },
    {
     "name": "stdout",
     "output_type": "stream",
     "text": [
      "mlp_dropout_classification validation accuracy: 0.9871794871794872\n",
      "BNN Test Error: 1.33%\n",
      "MLP Test Error: 1.66%\n",
      "MLP Dropout Test Error: 1.28%\n",
      "Epoch 284/600\n"
     ]
    },
    {
     "name": "stderr",
     "output_type": "stream",
     "text": [
      "100%|██████████| 468/468 [00:18<00:00, 25.50it/s]\n",
      "100%|██████████| 468/468 [00:06<00:00, 67.90it/s]\n",
      "100%|██████████| 468/468 [00:06<00:00, 68.17it/s]\n",
      "100%|██████████| 78/78 [00:17<00:00,  4.35it/s]\n"
     ]
    },
    {
     "name": "stdout",
     "output_type": "stream",
     "text": [
      "bnn_classification validation accuracy: 0.9866786858974359\n"
     ]
    },
    {
     "name": "stderr",
     "output_type": "stream",
     "text": [
      "100%|██████████| 78/78 [00:01<00:00, 71.77it/s]\n"
     ]
    },
    {
     "name": "stdout",
     "output_type": "stream",
     "text": [
      "mlp_classification validation accuracy: 0.9833733974358975\n"
     ]
    },
    {
     "name": "stderr",
     "output_type": "stream",
     "text": [
      "100%|██████████| 78/78 [00:01<00:00, 70.33it/s]\n"
     ]
    },
    {
     "name": "stdout",
     "output_type": "stream",
     "text": [
      "mlp_dropout_classification validation accuracy: 0.9869791666666666\n",
      "BNN Test Error: 1.33%\n",
      "MLP Test Error: 1.66%\n",
      "MLP Dropout Test Error: 1.30%\n",
      "Epoch 285/600\n"
     ]
    },
    {
     "name": "stderr",
     "output_type": "stream",
     "text": [
      "100%|██████████| 468/468 [00:17<00:00, 26.89it/s]\n",
      "100%|██████████| 468/468 [00:06<00:00, 67.26it/s]\n",
      "100%|██████████| 468/468 [00:06<00:00, 67.82it/s]\n",
      "100%|██████████| 78/78 [00:19<00:00,  3.98it/s]\n"
     ]
    },
    {
     "name": "stdout",
     "output_type": "stream",
     "text": [
      "bnn_classification validation accuracy: 0.9862780448717948\n"
     ]
    },
    {
     "name": "stderr",
     "output_type": "stream",
     "text": [
      "100%|██████████| 78/78 [00:01<00:00, 71.81it/s]\n"
     ]
    },
    {
     "name": "stdout",
     "output_type": "stream",
     "text": [
      "mlp_classification validation accuracy: 0.9834735576923077\n"
     ]
    },
    {
     "name": "stderr",
     "output_type": "stream",
     "text": [
      "100%|██████████| 78/78 [00:01<00:00, 70.30it/s]\n"
     ]
    },
    {
     "name": "stdout",
     "output_type": "stream",
     "text": [
      "mlp_dropout_classification validation accuracy: 0.9870793269230769\n",
      "BNN Test Error: 1.37%\n",
      "MLP Test Error: 1.65%\n",
      "MLP Dropout Test Error: 1.29%\n",
      "Epoch 286/600\n"
     ]
    },
    {
     "name": "stderr",
     "output_type": "stream",
     "text": [
      "100%|██████████| 468/468 [00:17<00:00, 27.29it/s]\n",
      "100%|██████████| 468/468 [00:06<00:00, 67.33it/s]\n",
      "100%|██████████| 468/468 [00:07<00:00, 66.64it/s]\n",
      "100%|██████████| 78/78 [00:16<00:00,  4.74it/s]\n"
     ]
    },
    {
     "name": "stdout",
     "output_type": "stream",
     "text": [
      "bnn_classification validation accuracy: 0.9866786858974359\n"
     ]
    },
    {
     "name": "stderr",
     "output_type": "stream",
     "text": [
      "100%|██████████| 78/78 [00:01<00:00, 72.05it/s]\n"
     ]
    },
    {
     "name": "stdout",
     "output_type": "stream",
     "text": [
      "mlp_classification validation accuracy: 0.9833733974358975\n"
     ]
    },
    {
     "name": "stderr",
     "output_type": "stream",
     "text": [
      "100%|██████████| 78/78 [00:01<00:00, 67.06it/s]\n"
     ]
    },
    {
     "name": "stdout",
     "output_type": "stream",
     "text": [
      "mlp_dropout_classification validation accuracy: 0.9873798076923077\n",
      "BNN Test Error: 1.33%\n",
      "MLP Test Error: 1.66%\n",
      "MLP Dropout Test Error: 1.26%\n",
      "Epoch 287/600\n"
     ]
    },
    {
     "name": "stderr",
     "output_type": "stream",
     "text": [
      "100%|██████████| 468/468 [00:18<00:00, 25.90it/s]\n",
      "100%|██████████| 468/468 [00:06<00:00, 67.43it/s]\n",
      "100%|██████████| 468/468 [00:06<00:00, 66.90it/s]\n",
      "100%|██████████| 78/78 [00:18<00:00,  4.15it/s]\n"
     ]
    },
    {
     "name": "stdout",
     "output_type": "stream",
     "text": [
      "bnn_classification validation accuracy: 0.9865785256410257\n"
     ]
    },
    {
     "name": "stderr",
     "output_type": "stream",
     "text": [
      "100%|██████████| 78/78 [00:01<00:00, 71.19it/s]\n"
     ]
    },
    {
     "name": "stdout",
     "output_type": "stream",
     "text": [
      "mlp_classification validation accuracy: 0.9833733974358975\n"
     ]
    },
    {
     "name": "stderr",
     "output_type": "stream",
     "text": [
      "100%|██████████| 78/78 [00:01<00:00, 71.86it/s]\n"
     ]
    },
    {
     "name": "stdout",
     "output_type": "stream",
     "text": [
      "mlp_dropout_classification validation accuracy: 0.9873798076923077\n",
      "BNN Test Error: 1.34%\n",
      "MLP Test Error: 1.66%\n",
      "MLP Dropout Test Error: 1.26%\n",
      "Epoch 288/600\n"
     ]
    },
    {
     "name": "stderr",
     "output_type": "stream",
     "text": [
      "100%|██████████| 468/468 [00:17<00:00, 26.48it/s]\n",
      "100%|██████████| 468/468 [00:07<00:00, 66.01it/s]\n",
      "100%|██████████| 468/468 [00:07<00:00, 65.12it/s]\n",
      "100%|██████████| 78/78 [00:18<00:00,  4.32it/s]\n"
     ]
    },
    {
     "name": "stdout",
     "output_type": "stream",
     "text": [
      "bnn_classification validation accuracy: 0.9866786858974359\n"
     ]
    },
    {
     "name": "stderr",
     "output_type": "stream",
     "text": [
      "100%|██████████| 78/78 [00:01<00:00, 69.51it/s]\n"
     ]
    },
    {
     "name": "stdout",
     "output_type": "stream",
     "text": [
      "mlp_classification validation accuracy: 0.9833733974358975\n"
     ]
    },
    {
     "name": "stderr",
     "output_type": "stream",
     "text": [
      "100%|██████████| 78/78 [00:01<00:00, 66.70it/s]\n"
     ]
    },
    {
     "name": "stdout",
     "output_type": "stream",
     "text": [
      "mlp_dropout_classification validation accuracy: 0.9869791666666666\n",
      "BNN Test Error: 1.33%\n",
      "MLP Test Error: 1.66%\n",
      "MLP Dropout Test Error: 1.30%\n",
      "Epoch 289/600\n"
     ]
    },
    {
     "name": "stderr",
     "output_type": "stream",
     "text": [
      "100%|██████████| 468/468 [00:18<00:00, 25.43it/s]\n",
      "100%|██████████| 468/468 [00:06<00:00, 66.89it/s]\n",
      "100%|██████████| 468/468 [00:07<00:00, 65.72it/s]\n",
      "100%|██████████| 78/78 [00:19<00:00,  4.06it/s]\n"
     ]
    },
    {
     "name": "stdout",
     "output_type": "stream",
     "text": [
      "bnn_classification validation accuracy: 0.9863782051282052\n"
     ]
    },
    {
     "name": "stderr",
     "output_type": "stream",
     "text": [
      "100%|██████████| 78/78 [00:01<00:00, 70.06it/s]\n"
     ]
    },
    {
     "name": "stdout",
     "output_type": "stream",
     "text": [
      "mlp_classification validation accuracy: 0.9834735576923077\n"
     ]
    },
    {
     "name": "stderr",
     "output_type": "stream",
     "text": [
      "100%|██████████| 78/78 [00:01<00:00, 70.02it/s]\n"
     ]
    },
    {
     "name": "stdout",
     "output_type": "stream",
     "text": [
      "mlp_dropout_classification validation accuracy: 0.9873798076923077\n",
      "BNN Test Error: 1.36%\n",
      "MLP Test Error: 1.65%\n",
      "MLP Dropout Test Error: 1.26%\n",
      "Epoch 290/600\n"
     ]
    },
    {
     "name": "stderr",
     "output_type": "stream",
     "text": [
      "100%|██████████| 468/468 [00:17<00:00, 26.04it/s]\n",
      "100%|██████████| 468/468 [00:07<00:00, 66.05it/s]\n",
      "100%|██████████| 468/468 [00:07<00:00, 64.73it/s]\n",
      "100%|██████████| 78/78 [00:18<00:00,  4.33it/s]\n"
     ]
    },
    {
     "name": "stdout",
     "output_type": "stream",
     "text": [
      "bnn_classification validation accuracy: 0.9866786858974359\n"
     ]
    },
    {
     "name": "stderr",
     "output_type": "stream",
     "text": [
      "100%|██████████| 78/78 [00:01<00:00, 68.34it/s]\n"
     ]
    },
    {
     "name": "stdout",
     "output_type": "stream",
     "text": [
      "mlp_classification validation accuracy: 0.9833733974358975\n"
     ]
    },
    {
     "name": "stderr",
     "output_type": "stream",
     "text": [
      "100%|██████████| 78/78 [00:01<00:00, 69.52it/s]\n"
     ]
    },
    {
     "name": "stdout",
     "output_type": "stream",
     "text": [
      "mlp_dropout_classification validation accuracy: 0.9871794871794872\n",
      "BNN Test Error: 1.33%\n",
      "MLP Test Error: 1.66%\n",
      "MLP Dropout Test Error: 1.28%\n",
      "Epoch 291/600\n"
     ]
    },
    {
     "name": "stderr",
     "output_type": "stream",
     "text": [
      "100%|██████████| 468/468 [00:18<00:00, 25.83it/s]\n",
      "100%|██████████| 468/468 [00:07<00:00, 65.45it/s]\n",
      "100%|██████████| 468/468 [00:07<00:00, 65.14it/s]\n",
      "100%|██████████| 78/78 [00:19<00:00,  3.99it/s]\n"
     ]
    },
    {
     "name": "stdout",
     "output_type": "stream",
     "text": [
      "bnn_classification validation accuracy: 0.9868790064102564\n"
     ]
    },
    {
     "name": "stderr",
     "output_type": "stream",
     "text": [
      "100%|██████████| 78/78 [00:01<00:00, 70.39it/s]\n"
     ]
    },
    {
     "name": "stdout",
     "output_type": "stream",
     "text": [
      "mlp_classification validation accuracy: 0.9833733974358975\n"
     ]
    },
    {
     "name": "stderr",
     "output_type": "stream",
     "text": [
      "100%|██████████| 78/78 [00:01<00:00, 71.31it/s]\n"
     ]
    },
    {
     "name": "stdout",
     "output_type": "stream",
     "text": [
      "mlp_dropout_classification validation accuracy: 0.9873798076923077\n",
      "BNN Test Error: 1.31%\n",
      "MLP Test Error: 1.66%\n",
      "MLP Dropout Test Error: 1.26%\n",
      "Epoch 292/600\n"
     ]
    },
    {
     "name": "stderr",
     "output_type": "stream",
     "text": [
      "100%|██████████| 468/468 [00:17<00:00, 26.64it/s]\n",
      "100%|██████████| 468/468 [00:06<00:00, 66.88it/s]\n",
      "100%|██████████| 468/468 [00:07<00:00, 61.38it/s]\n",
      "100%|██████████| 78/78 [00:18<00:00,  4.32it/s]\n"
     ]
    },
    {
     "name": "stdout",
     "output_type": "stream",
     "text": [
      "bnn_classification validation accuracy: 0.9864783653846154\n"
     ]
    },
    {
     "name": "stderr",
     "output_type": "stream",
     "text": [
      "100%|██████████| 78/78 [00:01<00:00, 71.14it/s]\n"
     ]
    },
    {
     "name": "stdout",
     "output_type": "stream",
     "text": [
      "mlp_classification validation accuracy: 0.9832732371794872\n"
     ]
    },
    {
     "name": "stderr",
     "output_type": "stream",
     "text": [
      "100%|██████████| 78/78 [00:01<00:00, 70.80it/s]\n"
     ]
    },
    {
     "name": "stdout",
     "output_type": "stream",
     "text": [
      "mlp_dropout_classification validation accuracy: 0.9870793269230769\n",
      "BNN Test Error: 1.35%\n",
      "MLP Test Error: 1.67%\n",
      "MLP Dropout Test Error: 1.29%\n",
      "Epoch 293/600\n"
     ]
    },
    {
     "name": "stderr",
     "output_type": "stream",
     "text": [
      "100%|██████████| 468/468 [00:18<00:00, 24.75it/s]\n",
      "100%|██████████| 468/468 [00:06<00:00, 68.22it/s]\n",
      "100%|██████████| 468/468 [00:06<00:00, 67.05it/s]\n",
      "100%|██████████| 78/78 [00:17<00:00,  4.35it/s]\n"
     ]
    },
    {
     "name": "stdout",
     "output_type": "stream",
     "text": [
      "bnn_classification validation accuracy: 0.9868790064102564\n"
     ]
    },
    {
     "name": "stderr",
     "output_type": "stream",
     "text": [
      "100%|██████████| 78/78 [00:01<00:00, 67.02it/s]\n"
     ]
    },
    {
     "name": "stdout",
     "output_type": "stream",
     "text": [
      "mlp_classification validation accuracy: 0.9833733974358975\n"
     ]
    },
    {
     "name": "stderr",
     "output_type": "stream",
     "text": [
      "100%|██████████| 78/78 [00:01<00:00, 68.02it/s]\n"
     ]
    },
    {
     "name": "stdout",
     "output_type": "stream",
     "text": [
      "mlp_dropout_classification validation accuracy: 0.9872796474358975\n",
      "BNN Test Error: 1.31%\n",
      "MLP Test Error: 1.66%\n",
      "MLP Dropout Test Error: 1.27%\n",
      "Epoch 294/600\n"
     ]
    },
    {
     "name": "stderr",
     "output_type": "stream",
     "text": [
      "100%|██████████| 468/468 [00:18<00:00, 25.39it/s]\n",
      "100%|██████████| 468/468 [00:06<00:00, 67.71it/s]\n",
      "100%|██████████| 468/468 [00:07<00:00, 65.38it/s]\n",
      "100%|██████████| 78/78 [00:18<00:00,  4.26it/s]\n"
     ]
    },
    {
     "name": "stdout",
     "output_type": "stream",
     "text": [
      "bnn_classification validation accuracy: 0.9867788461538461\n"
     ]
    },
    {
     "name": "stderr",
     "output_type": "stream",
     "text": [
      "100%|██████████| 78/78 [00:01<00:00, 71.95it/s]\n"
     ]
    },
    {
     "name": "stdout",
     "output_type": "stream",
     "text": [
      "mlp_classification validation accuracy: 0.9833733974358975\n"
     ]
    },
    {
     "name": "stderr",
     "output_type": "stream",
     "text": [
      "100%|██████████| 78/78 [00:01<00:00, 71.27it/s]\n"
     ]
    },
    {
     "name": "stdout",
     "output_type": "stream",
     "text": [
      "mlp_dropout_classification validation accuracy: 0.9872796474358975\n",
      "BNN Test Error: 1.32%\n",
      "MLP Test Error: 1.66%\n",
      "MLP Dropout Test Error: 1.27%\n",
      "Epoch 295/600\n"
     ]
    },
    {
     "name": "stderr",
     "output_type": "stream",
     "text": [
      "100%|██████████| 468/468 [00:18<00:00, 25.71it/s]\n",
      "100%|██████████| 468/468 [00:07<00:00, 66.54it/s]\n",
      "100%|██████████| 468/468 [00:07<00:00, 65.27it/s]\n",
      "100%|██████████| 78/78 [00:17<00:00,  4.36it/s]\n"
     ]
    },
    {
     "name": "stdout",
     "output_type": "stream",
     "text": [
      "bnn_classification validation accuracy: 0.9865785256410257\n"
     ]
    },
    {
     "name": "stderr",
     "output_type": "stream",
     "text": [
      "100%|██████████| 78/78 [00:01<00:00, 68.46it/s]\n"
     ]
    },
    {
     "name": "stdout",
     "output_type": "stream",
     "text": [
      "mlp_classification validation accuracy: 0.9833733974358975\n"
     ]
    },
    {
     "name": "stderr",
     "output_type": "stream",
     "text": [
      "100%|██████████| 78/78 [00:01<00:00, 68.81it/s]\n"
     ]
    },
    {
     "name": "stdout",
     "output_type": "stream",
     "text": [
      "mlp_dropout_classification validation accuracy: 0.9871794871794872\n",
      "BNN Test Error: 1.34%\n",
      "MLP Test Error: 1.66%\n",
      "MLP Dropout Test Error: 1.28%\n",
      "Epoch 296/600\n"
     ]
    },
    {
     "name": "stderr",
     "output_type": "stream",
     "text": [
      "100%|██████████| 468/468 [00:18<00:00, 25.89it/s]\n",
      "100%|██████████| 468/468 [00:07<00:00, 65.86it/s]\n",
      "100%|██████████| 468/468 [00:07<00:00, 65.23it/s]\n",
      "100%|██████████| 78/78 [00:19<00:00,  4.03it/s]\n"
     ]
    },
    {
     "name": "stdout",
     "output_type": "stream",
     "text": [
      "bnn_classification validation accuracy: 0.9865785256410257\n"
     ]
    },
    {
     "name": "stderr",
     "output_type": "stream",
     "text": [
      "100%|██████████| 78/78 [00:01<00:00, 69.16it/s]\n"
     ]
    },
    {
     "name": "stdout",
     "output_type": "stream",
     "text": [
      "mlp_classification validation accuracy: 0.9833733974358975\n"
     ]
    },
    {
     "name": "stderr",
     "output_type": "stream",
     "text": [
      "100%|██████████| 78/78 [00:01<00:00, 71.05it/s]\n"
     ]
    },
    {
     "name": "stdout",
     "output_type": "stream",
     "text": [
      "mlp_dropout_classification validation accuracy: 0.9870793269230769\n",
      "BNN Test Error: 1.34%\n",
      "MLP Test Error: 1.66%\n",
      "MLP Dropout Test Error: 1.29%\n",
      "Epoch 297/600\n"
     ]
    },
    {
     "name": "stderr",
     "output_type": "stream",
     "text": [
      "100%|██████████| 468/468 [00:18<00:00, 24.89it/s]\n",
      "100%|██████████| 468/468 [00:07<00:00, 66.51it/s]\n",
      "100%|██████████| 468/468 [00:07<00:00, 65.96it/s]\n",
      "100%|██████████| 78/78 [00:18<00:00,  4.13it/s]\n"
     ]
    },
    {
     "name": "stdout",
     "output_type": "stream",
     "text": [
      "bnn_classification validation accuracy: 0.9862780448717948\n"
     ]
    },
    {
     "name": "stderr",
     "output_type": "stream",
     "text": [
      "100%|██████████| 78/78 [00:01<00:00, 66.88it/s]\n"
     ]
    },
    {
     "name": "stdout",
     "output_type": "stream",
     "text": [
      "mlp_classification validation accuracy: 0.9833733974358975\n"
     ]
    },
    {
     "name": "stderr",
     "output_type": "stream",
     "text": [
      "100%|██████████| 78/78 [00:01<00:00, 66.02it/s]\n"
     ]
    },
    {
     "name": "stdout",
     "output_type": "stream",
     "text": [
      "mlp_dropout_classification validation accuracy: 0.9872796474358975\n",
      "BNN Test Error: 1.37%\n",
      "MLP Test Error: 1.66%\n",
      "MLP Dropout Test Error: 1.27%\n",
      "Epoch 298/600\n"
     ]
    },
    {
     "name": "stderr",
     "output_type": "stream",
     "text": [
      "100%|██████████| 468/468 [00:17<00:00, 26.40it/s]\n",
      "100%|██████████| 468/468 [00:07<00:00, 66.47it/s]\n",
      "100%|██████████| 468/468 [00:07<00:00, 65.38it/s]\n",
      "100%|██████████| 78/78 [00:19<00:00,  4.10it/s]\n"
     ]
    },
    {
     "name": "stdout",
     "output_type": "stream",
     "text": [
      "bnn_classification validation accuracy: 0.9866786858974359\n"
     ]
    },
    {
     "name": "stderr",
     "output_type": "stream",
     "text": [
      "100%|██████████| 78/78 [00:01<00:00, 71.01it/s]\n"
     ]
    },
    {
     "name": "stdout",
     "output_type": "stream",
     "text": [
      "mlp_classification validation accuracy: 0.9833733974358975\n"
     ]
    },
    {
     "name": "stderr",
     "output_type": "stream",
     "text": [
      "100%|██████████| 78/78 [00:01<00:00, 70.16it/s]\n"
     ]
    },
    {
     "name": "stdout",
     "output_type": "stream",
     "text": [
      "mlp_dropout_classification validation accuracy: 0.9875801282051282\n",
      "BNN Test Error: 1.33%\n",
      "MLP Test Error: 1.66%\n",
      "MLP Dropout Test Error: 1.24%\n",
      "Epoch 299/600\n"
     ]
    },
    {
     "name": "stderr",
     "output_type": "stream",
     "text": [
      "100%|██████████| 468/468 [00:18<00:00, 25.97it/s]\n",
      "100%|██████████| 468/468 [00:07<00:00, 66.17it/s]\n",
      "100%|██████████| 468/468 [00:07<00:00, 66.56it/s]\n",
      "100%|██████████| 78/78 [00:17<00:00,  4.39it/s]\n"
     ]
    },
    {
     "name": "stdout",
     "output_type": "stream",
     "text": [
      "bnn_classification validation accuracy: 0.9862780448717948\n"
     ]
    },
    {
     "name": "stderr",
     "output_type": "stream",
     "text": [
      "100%|██████████| 78/78 [00:01<00:00, 67.17it/s]\n"
     ]
    },
    {
     "name": "stdout",
     "output_type": "stream",
     "text": [
      "mlp_classification validation accuracy: 0.9833733974358975\n"
     ]
    },
    {
     "name": "stderr",
     "output_type": "stream",
     "text": [
      "100%|██████████| 78/78 [00:01<00:00, 65.24it/s]\n"
     ]
    },
    {
     "name": "stdout",
     "output_type": "stream",
     "text": [
      "mlp_dropout_classification validation accuracy: 0.9876802884615384\n",
      "BNN Test Error: 1.37%\n",
      "MLP Test Error: 1.66%\n",
      "MLP Dropout Test Error: 1.23%\n",
      "Epoch 300/600\n"
     ]
    },
    {
     "name": "stderr",
     "output_type": "stream",
     "text": [
      "100%|██████████| 468/468 [00:18<00:00, 25.19it/s]\n",
      "100%|██████████| 468/468 [00:06<00:00, 67.20it/s]\n",
      "100%|██████████| 468/468 [00:07<00:00, 66.59it/s]\n",
      "100%|██████████| 78/78 [00:19<00:00,  4.09it/s]\n"
     ]
    },
    {
     "name": "stdout",
     "output_type": "stream",
     "text": [
      "bnn_classification validation accuracy: 0.9866786858974359\n"
     ]
    },
    {
     "name": "stderr",
     "output_type": "stream",
     "text": [
      "100%|██████████| 78/78 [00:01<00:00, 71.43it/s]\n"
     ]
    },
    {
     "name": "stdout",
     "output_type": "stream",
     "text": [
      "mlp_classification validation accuracy: 0.9833733974358975\n"
     ]
    },
    {
     "name": "stderr",
     "output_type": "stream",
     "text": [
      "100%|██████████| 78/78 [00:01<00:00, 72.15it/s]\n"
     ]
    },
    {
     "name": "stdout",
     "output_type": "stream",
     "text": [
      "mlp_dropout_classification validation accuracy: 0.9872796474358975\n",
      "BNN Test Error: 1.33%\n",
      "MLP Test Error: 1.66%\n",
      "MLP Dropout Test Error: 1.27%\n",
      "Epoch 301/600\n"
     ]
    },
    {
     "name": "stderr",
     "output_type": "stream",
     "text": [
      "100%|██████████| 468/468 [00:17<00:00, 26.46it/s]\n",
      "100%|██████████| 468/468 [00:07<00:00, 66.21it/s]\n",
      "100%|██████████| 468/468 [00:07<00:00, 65.40it/s]\n",
      "100%|██████████| 78/78 [00:17<00:00,  4.35it/s]\n"
     ]
    },
    {
     "name": "stdout",
     "output_type": "stream",
     "text": [
      "bnn_classification validation accuracy: 0.9863782051282052\n"
     ]
    },
    {
     "name": "stderr",
     "output_type": "stream",
     "text": [
      "100%|██████████| 78/78 [00:01<00:00, 69.45it/s]\n"
     ]
    },
    {
     "name": "stdout",
     "output_type": "stream",
     "text": [
      "mlp_classification validation accuracy: 0.9833733974358975\n"
     ]
    },
    {
     "name": "stderr",
     "output_type": "stream",
     "text": [
      "100%|██████████| 78/78 [00:01<00:00, 71.87it/s]\n"
     ]
    },
    {
     "name": "stdout",
     "output_type": "stream",
     "text": [
      "mlp_dropout_classification validation accuracy: 0.9869791666666666\n",
      "BNN Test Error: 1.36%\n",
      "MLP Test Error: 1.66%\n",
      "MLP Dropout Test Error: 1.30%\n",
      "Epoch 302/600\n"
     ]
    },
    {
     "name": "stderr",
     "output_type": "stream",
     "text": [
      "100%|██████████| 468/468 [00:18<00:00, 25.62it/s]\n",
      "100%|██████████| 468/468 [00:06<00:00, 67.84it/s]\n",
      "100%|██████████| 468/468 [00:07<00:00, 66.64it/s]\n",
      "100%|██████████| 78/78 [00:18<00:00,  4.30it/s]\n"
     ]
    },
    {
     "name": "stdout",
     "output_type": "stream",
     "text": [
      "bnn_classification validation accuracy: 0.9866786858974359\n"
     ]
    },
    {
     "name": "stderr",
     "output_type": "stream",
     "text": [
      "100%|██████████| 78/78 [00:01<00:00, 71.57it/s]\n"
     ]
    },
    {
     "name": "stdout",
     "output_type": "stream",
     "text": [
      "mlp_classification validation accuracy: 0.9833733974358975\n"
     ]
    },
    {
     "name": "stderr",
     "output_type": "stream",
     "text": [
      "100%|██████████| 78/78 [00:01<00:00, 72.31it/s]\n"
     ]
    },
    {
     "name": "stdout",
     "output_type": "stream",
     "text": [
      "mlp_dropout_classification validation accuracy: 0.9870793269230769\n",
      "BNN Test Error: 1.33%\n",
      "MLP Test Error: 1.66%\n",
      "MLP Dropout Test Error: 1.29%\n",
      "Epoch 303/600\n"
     ]
    },
    {
     "name": "stderr",
     "output_type": "stream",
     "text": [
      "100%|██████████| 468/468 [00:17<00:00, 26.12it/s]\n",
      "100%|██████████| 468/468 [00:07<00:00, 66.79it/s]\n",
      "100%|██████████| 468/468 [00:06<00:00, 67.40it/s]\n",
      "100%|██████████| 78/78 [00:17<00:00,  4.37it/s]\n"
     ]
    },
    {
     "name": "stdout",
     "output_type": "stream",
     "text": [
      "bnn_classification validation accuracy: 0.9862780448717948\n"
     ]
    },
    {
     "name": "stderr",
     "output_type": "stream",
     "text": [
      "100%|██████████| 78/78 [00:01<00:00, 65.20it/s]\n"
     ]
    },
    {
     "name": "stdout",
     "output_type": "stream",
     "text": [
      "mlp_classification validation accuracy: 0.9833733974358975\n"
     ]
    },
    {
     "name": "stderr",
     "output_type": "stream",
     "text": [
      "100%|██████████| 78/78 [00:01<00:00, 72.29it/s]\n"
     ]
    },
    {
     "name": "stdout",
     "output_type": "stream",
     "text": [
      "mlp_dropout_classification validation accuracy: 0.9869791666666666\n",
      "BNN Test Error: 1.37%\n",
      "MLP Test Error: 1.66%\n",
      "MLP Dropout Test Error: 1.30%\n",
      "Epoch 304/600\n"
     ]
    },
    {
     "name": "stderr",
     "output_type": "stream",
     "text": [
      "100%|██████████| 468/468 [00:17<00:00, 26.56it/s]\n",
      "100%|██████████| 468/468 [00:06<00:00, 67.99it/s]\n",
      "100%|██████████| 468/468 [00:07<00:00, 65.89it/s]\n",
      "100%|██████████| 78/78 [00:17<00:00,  4.37it/s]\n"
     ]
    },
    {
     "name": "stdout",
     "output_type": "stream",
     "text": [
      "bnn_classification validation accuracy: 0.9866786858974359\n"
     ]
    },
    {
     "name": "stderr",
     "output_type": "stream",
     "text": [
      "100%|██████████| 78/78 [00:01<00:00, 71.15it/s]\n"
     ]
    },
    {
     "name": "stdout",
     "output_type": "stream",
     "text": [
      "mlp_classification validation accuracy: 0.9833733974358975\n"
     ]
    },
    {
     "name": "stderr",
     "output_type": "stream",
     "text": [
      "100%|██████████| 78/78 [00:01<00:00, 72.72it/s]\n"
     ]
    },
    {
     "name": "stdout",
     "output_type": "stream",
     "text": [
      "mlp_dropout_classification validation accuracy: 0.9872796474358975\n",
      "BNN Test Error: 1.33%\n",
      "MLP Test Error: 1.66%\n",
      "MLP Dropout Test Error: 1.27%\n",
      "Epoch 305/600\n"
     ]
    },
    {
     "name": "stderr",
     "output_type": "stream",
     "text": [
      "100%|██████████| 468/468 [00:17<00:00, 26.36it/s]\n",
      "100%|██████████| 468/468 [00:06<00:00, 68.46it/s]\n",
      "100%|██████████| 468/468 [00:07<00:00, 66.62it/s]\n",
      "100%|██████████| 78/78 [00:18<00:00,  4.27it/s]\n"
     ]
    },
    {
     "name": "stdout",
     "output_type": "stream",
     "text": [
      "bnn_classification validation accuracy: 0.9865785256410257\n"
     ]
    },
    {
     "name": "stderr",
     "output_type": "stream",
     "text": [
      "100%|██████████| 78/78 [00:01<00:00, 70.92it/s]\n"
     ]
    },
    {
     "name": "stdout",
     "output_type": "stream",
     "text": [
      "mlp_classification validation accuracy: 0.9833733974358975\n"
     ]
    },
    {
     "name": "stderr",
     "output_type": "stream",
     "text": [
      "100%|██████████| 78/78 [00:01<00:00, 70.81it/s]\n"
     ]
    },
    {
     "name": "stdout",
     "output_type": "stream",
     "text": [
      "mlp_dropout_classification validation accuracy: 0.9871794871794872\n",
      "BNN Test Error: 1.34%\n",
      "MLP Test Error: 1.66%\n",
      "MLP Dropout Test Error: 1.28%\n",
      "Epoch 306/600\n"
     ]
    },
    {
     "name": "stderr",
     "output_type": "stream",
     "text": [
      "100%|██████████| 468/468 [00:17<00:00, 26.72it/s]\n",
      "100%|██████████| 468/468 [00:06<00:00, 67.27it/s]\n",
      "100%|██████████| 468/468 [00:06<00:00, 67.18it/s]\n",
      "100%|██████████| 78/78 [00:16<00:00,  4.67it/s]\n"
     ]
    },
    {
     "name": "stdout",
     "output_type": "stream",
     "text": [
      "bnn_classification validation accuracy: 0.9867788461538461\n"
     ]
    },
    {
     "name": "stderr",
     "output_type": "stream",
     "text": [
      "100%|██████████| 78/78 [00:01<00:00, 69.41it/s]\n"
     ]
    },
    {
     "name": "stdout",
     "output_type": "stream",
     "text": [
      "mlp_classification validation accuracy: 0.9833733974358975\n"
     ]
    },
    {
     "name": "stderr",
     "output_type": "stream",
     "text": [
      "100%|██████████| 78/78 [00:01<00:00, 70.54it/s]\n"
     ]
    },
    {
     "name": "stdout",
     "output_type": "stream",
     "text": [
      "mlp_dropout_classification validation accuracy: 0.9870793269230769\n",
      "BNN Test Error: 1.32%\n",
      "MLP Test Error: 1.66%\n",
      "MLP Dropout Test Error: 1.29%\n",
      "Epoch 307/600\n"
     ]
    },
    {
     "name": "stderr",
     "output_type": "stream",
     "text": [
      "100%|██████████| 468/468 [00:17<00:00, 26.14it/s]\n",
      "100%|██████████| 468/468 [00:06<00:00, 67.59it/s]\n",
      "100%|██████████| 468/468 [00:06<00:00, 67.15it/s]\n",
      "100%|██████████| 78/78 [00:17<00:00,  4.37it/s]\n"
     ]
    },
    {
     "name": "stdout",
     "output_type": "stream",
     "text": [
      "bnn_classification validation accuracy: 0.9866786858974359\n"
     ]
    },
    {
     "name": "stderr",
     "output_type": "stream",
     "text": [
      "100%|██████████| 78/78 [00:01<00:00, 71.62it/s]\n"
     ]
    },
    {
     "name": "stdout",
     "output_type": "stream",
     "text": [
      "mlp_classification validation accuracy: 0.9833733974358975\n"
     ]
    },
    {
     "name": "stderr",
     "output_type": "stream",
     "text": [
      "100%|██████████| 78/78 [00:01<00:00, 71.32it/s]\n"
     ]
    },
    {
     "name": "stdout",
     "output_type": "stream",
     "text": [
      "mlp_dropout_classification validation accuracy: 0.9869791666666666\n",
      "BNN Test Error: 1.33%\n",
      "MLP Test Error: 1.66%\n",
      "MLP Dropout Test Error: 1.30%\n",
      "Epoch 308/600\n"
     ]
    },
    {
     "name": "stderr",
     "output_type": "stream",
     "text": [
      "100%|██████████| 468/468 [00:17<00:00, 26.24it/s]\n",
      "100%|██████████| 468/468 [00:06<00:00, 67.14it/s]\n",
      "100%|██████████| 468/468 [00:07<00:00, 66.34it/s]\n",
      "100%|██████████| 78/78 [00:18<00:00,  4.32it/s]\n"
     ]
    },
    {
     "name": "stdout",
     "output_type": "stream",
     "text": [
      "bnn_classification validation accuracy: 0.9865785256410257\n"
     ]
    },
    {
     "name": "stderr",
     "output_type": "stream",
     "text": [
      "100%|██████████| 78/78 [00:01<00:00, 70.77it/s]\n"
     ]
    },
    {
     "name": "stdout",
     "output_type": "stream",
     "text": [
      "mlp_classification validation accuracy: 0.9833733974358975\n"
     ]
    },
    {
     "name": "stderr",
     "output_type": "stream",
     "text": [
      "100%|██████████| 78/78 [00:01<00:00, 72.12it/s]\n"
     ]
    },
    {
     "name": "stdout",
     "output_type": "stream",
     "text": [
      "mlp_dropout_classification validation accuracy: 0.9872796474358975\n",
      "BNN Test Error: 1.34%\n",
      "MLP Test Error: 1.66%\n",
      "MLP Dropout Test Error: 1.27%\n",
      "Epoch 309/600\n"
     ]
    },
    {
     "name": "stderr",
     "output_type": "stream",
     "text": [
      "100%|██████████| 468/468 [00:17<00:00, 27.00it/s]\n",
      "100%|██████████| 468/468 [00:06<00:00, 67.36it/s]\n",
      "100%|██████████| 468/468 [00:07<00:00, 66.82it/s]\n",
      "100%|██████████| 78/78 [00:18<00:00,  4.25it/s]\n"
     ]
    },
    {
     "name": "stdout",
     "output_type": "stream",
     "text": [
      "bnn_classification validation accuracy: 0.9863782051282052\n"
     ]
    },
    {
     "name": "stderr",
     "output_type": "stream",
     "text": [
      "100%|██████████| 78/78 [00:01<00:00, 68.93it/s]\n"
     ]
    },
    {
     "name": "stdout",
     "output_type": "stream",
     "text": [
      "mlp_classification validation accuracy: 0.9833733974358975\n"
     ]
    },
    {
     "name": "stderr",
     "output_type": "stream",
     "text": [
      "100%|██████████| 78/78 [00:01<00:00, 72.36it/s]\n"
     ]
    },
    {
     "name": "stdout",
     "output_type": "stream",
     "text": [
      "mlp_dropout_classification validation accuracy: 0.987479967948718\n",
      "BNN Test Error: 1.36%\n",
      "MLP Test Error: 1.66%\n",
      "MLP Dropout Test Error: 1.25%\n",
      "Epoch 310/600\n"
     ]
    },
    {
     "name": "stderr",
     "output_type": "stream",
     "text": [
      "100%|██████████| 468/468 [00:17<00:00, 26.03it/s]\n",
      "100%|██████████| 468/468 [00:06<00:00, 68.39it/s]\n",
      "100%|██████████| 468/468 [00:06<00:00, 67.53it/s]\n",
      "100%|██████████| 78/78 [00:18<00:00,  4.25it/s]\n"
     ]
    },
    {
     "name": "stdout",
     "output_type": "stream",
     "text": [
      "bnn_classification validation accuracy: 0.9865785256410257\n"
     ]
    },
    {
     "name": "stderr",
     "output_type": "stream",
     "text": [
      "100%|██████████| 78/78 [00:01<00:00, 70.98it/s]\n"
     ]
    },
    {
     "name": "stdout",
     "output_type": "stream",
     "text": [
      "mlp_classification validation accuracy: 0.9833733974358975\n"
     ]
    },
    {
     "name": "stderr",
     "output_type": "stream",
     "text": [
      "100%|██████████| 78/78 [00:01<00:00, 71.48it/s]\n"
     ]
    },
    {
     "name": "stdout",
     "output_type": "stream",
     "text": [
      "mlp_dropout_classification validation accuracy: 0.9873798076923077\n",
      "BNN Test Error: 1.34%\n",
      "MLP Test Error: 1.66%\n",
      "MLP Dropout Test Error: 1.26%\n",
      "Epoch 311/600\n"
     ]
    },
    {
     "name": "stderr",
     "output_type": "stream",
     "text": [
      "100%|██████████| 468/468 [00:18<00:00, 24.66it/s]\n",
      "100%|██████████| 468/468 [00:06<00:00, 68.14it/s]\n",
      "100%|██████████| 468/468 [00:06<00:00, 66.90it/s]\n",
      "100%|██████████| 78/78 [00:17<00:00,  4.47it/s]\n"
     ]
    },
    {
     "name": "stdout",
     "output_type": "stream",
     "text": [
      "bnn_classification validation accuracy: 0.9861778846153846\n"
     ]
    },
    {
     "name": "stderr",
     "output_type": "stream",
     "text": [
      "100%|██████████| 78/78 [00:01<00:00, 71.96it/s]\n"
     ]
    },
    {
     "name": "stdout",
     "output_type": "stream",
     "text": [
      "mlp_classification validation accuracy: 0.9833733974358975\n"
     ]
    },
    {
     "name": "stderr",
     "output_type": "stream",
     "text": [
      "100%|██████████| 78/78 [00:01<00:00, 70.70it/s]\n"
     ]
    },
    {
     "name": "stdout",
     "output_type": "stream",
     "text": [
      "mlp_dropout_classification validation accuracy: 0.9875801282051282\n",
      "BNN Test Error: 1.38%\n",
      "MLP Test Error: 1.66%\n",
      "MLP Dropout Test Error: 1.24%\n",
      "Epoch 312/600\n"
     ]
    },
    {
     "name": "stderr",
     "output_type": "stream",
     "text": [
      "100%|██████████| 468/468 [00:17<00:00, 26.75it/s]\n",
      "100%|██████████| 468/468 [00:07<00:00, 65.62it/s]\n",
      "100%|██████████| 468/468 [00:07<00:00, 64.93it/s]\n",
      "100%|██████████| 78/78 [00:17<00:00,  4.37it/s]\n"
     ]
    },
    {
     "name": "stdout",
     "output_type": "stream",
     "text": [
      "bnn_classification validation accuracy: 0.9862780448717948\n"
     ]
    },
    {
     "name": "stderr",
     "output_type": "stream",
     "text": [
      "100%|██████████| 78/78 [00:01<00:00, 69.03it/s]\n"
     ]
    },
    {
     "name": "stdout",
     "output_type": "stream",
     "text": [
      "mlp_classification validation accuracy: 0.9833733974358975\n"
     ]
    },
    {
     "name": "stderr",
     "output_type": "stream",
     "text": [
      "100%|██████████| 78/78 [00:01<00:00, 70.56it/s]\n"
     ]
    },
    {
     "name": "stdout",
     "output_type": "stream",
     "text": [
      "mlp_dropout_classification validation accuracy: 0.9873798076923077\n",
      "BNN Test Error: 1.37%\n",
      "MLP Test Error: 1.66%\n",
      "MLP Dropout Test Error: 1.26%\n",
      "Epoch 313/600\n"
     ]
    },
    {
     "name": "stderr",
     "output_type": "stream",
     "text": [
      "100%|██████████| 468/468 [00:17<00:00, 26.33it/s]\n",
      "100%|██████████| 468/468 [00:06<00:00, 68.41it/s]\n",
      "100%|██████████| 468/468 [00:06<00:00, 67.19it/s]\n",
      "100%|██████████| 78/78 [00:18<00:00,  4.26it/s]\n"
     ]
    },
    {
     "name": "stdout",
     "output_type": "stream",
     "text": [
      "bnn_classification validation accuracy: 0.9865785256410257\n"
     ]
    },
    {
     "name": "stderr",
     "output_type": "stream",
     "text": [
      "100%|██████████| 78/78 [00:01<00:00, 73.07it/s]\n"
     ]
    },
    {
     "name": "stdout",
     "output_type": "stream",
     "text": [
      "mlp_classification validation accuracy: 0.9833733974358975\n"
     ]
    },
    {
     "name": "stderr",
     "output_type": "stream",
     "text": [
      "100%|██████████| 78/78 [00:01<00:00, 70.53it/s]\n"
     ]
    },
    {
     "name": "stdout",
     "output_type": "stream",
     "text": [
      "mlp_dropout_classification validation accuracy: 0.9876802884615384\n",
      "BNN Test Error: 1.34%\n",
      "MLP Test Error: 1.66%\n",
      "MLP Dropout Test Error: 1.23%\n",
      "Epoch 314/600\n"
     ]
    },
    {
     "name": "stderr",
     "output_type": "stream",
     "text": [
      "100%|██████████| 468/468 [00:17<00:00, 26.99it/s]\n",
      "100%|██████████| 468/468 [00:06<00:00, 67.25it/s]\n",
      "100%|██████████| 468/468 [00:06<00:00, 66.97it/s]\n",
      "100%|██████████| 78/78 [00:18<00:00,  4.22it/s]\n"
     ]
    },
    {
     "name": "stdout",
     "output_type": "stream",
     "text": [
      "bnn_classification validation accuracy: 0.9864783653846154\n"
     ]
    },
    {
     "name": "stderr",
     "output_type": "stream",
     "text": [
      "100%|██████████| 78/78 [00:01<00:00, 63.77it/s]\n"
     ]
    },
    {
     "name": "stdout",
     "output_type": "stream",
     "text": [
      "mlp_classification validation accuracy: 0.9833733974358975\n"
     ]
    },
    {
     "name": "stderr",
     "output_type": "stream",
     "text": [
      "100%|██████████| 78/78 [00:01<00:00, 69.65it/s]\n"
     ]
    },
    {
     "name": "stdout",
     "output_type": "stream",
     "text": [
      "mlp_dropout_classification validation accuracy: 0.9872796474358975\n",
      "BNN Test Error: 1.35%\n",
      "MLP Test Error: 1.66%\n",
      "MLP Dropout Test Error: 1.27%\n",
      "Epoch 315/600\n"
     ]
    },
    {
     "name": "stderr",
     "output_type": "stream",
     "text": [
      "100%|██████████| 468/468 [00:17<00:00, 26.95it/s]\n",
      "100%|██████████| 468/468 [00:06<00:00, 68.56it/s]\n",
      "100%|██████████| 468/468 [00:07<00:00, 65.26it/s]\n",
      "100%|██████████| 78/78 [00:17<00:00,  4.41it/s]\n"
     ]
    },
    {
     "name": "stdout",
     "output_type": "stream",
     "text": [
      "bnn_classification validation accuracy: 0.9865785256410257\n"
     ]
    },
    {
     "name": "stderr",
     "output_type": "stream",
     "text": [
      "100%|██████████| 78/78 [00:01<00:00, 70.64it/s]\n"
     ]
    },
    {
     "name": "stdout",
     "output_type": "stream",
     "text": [
      "mlp_classification validation accuracy: 0.9833733974358975\n"
     ]
    },
    {
     "name": "stderr",
     "output_type": "stream",
     "text": [
      "100%|██████████| 78/78 [00:01<00:00, 71.00it/s]\n"
     ]
    },
    {
     "name": "stdout",
     "output_type": "stream",
     "text": [
      "mlp_dropout_classification validation accuracy: 0.9871794871794872\n",
      "BNN Test Error: 1.34%\n",
      "MLP Test Error: 1.66%\n",
      "MLP Dropout Test Error: 1.28%\n",
      "Epoch 316/600\n"
     ]
    },
    {
     "name": "stderr",
     "output_type": "stream",
     "text": [
      "100%|██████████| 468/468 [00:18<00:00, 25.36it/s]\n",
      "100%|██████████| 468/468 [00:06<00:00, 68.19it/s]\n",
      "100%|██████████| 468/468 [00:06<00:00, 67.13it/s]\n",
      "100%|██████████| 78/78 [00:18<00:00,  4.29it/s]\n"
     ]
    },
    {
     "name": "stdout",
     "output_type": "stream",
     "text": [
      "bnn_classification validation accuracy: 0.9863782051282052\n"
     ]
    },
    {
     "name": "stderr",
     "output_type": "stream",
     "text": [
      "100%|██████████| 78/78 [00:01<00:00, 72.71it/s]\n"
     ]
    },
    {
     "name": "stdout",
     "output_type": "stream",
     "text": [
      "mlp_classification validation accuracy: 0.9833733974358975\n"
     ]
    },
    {
     "name": "stderr",
     "output_type": "stream",
     "text": [
      "100%|██████████| 78/78 [00:01<00:00, 72.30it/s]\n"
     ]
    },
    {
     "name": "stdout",
     "output_type": "stream",
     "text": [
      "mlp_dropout_classification validation accuracy: 0.9872796474358975\n",
      "BNN Test Error: 1.36%\n",
      "MLP Test Error: 1.66%\n",
      "MLP Dropout Test Error: 1.27%\n",
      "Epoch 317/600\n"
     ]
    },
    {
     "name": "stderr",
     "output_type": "stream",
     "text": [
      "100%|██████████| 468/468 [00:17<00:00, 27.04it/s]\n",
      "100%|██████████| 468/468 [00:07<00:00, 66.56it/s]\n",
      "100%|██████████| 468/468 [00:07<00:00, 66.56it/s]\n",
      "100%|██████████| 78/78 [00:17<00:00,  4.40it/s]\n"
     ]
    },
    {
     "name": "stdout",
     "output_type": "stream",
     "text": [
      "bnn_classification validation accuracy: 0.9863782051282052\n"
     ]
    },
    {
     "name": "stderr",
     "output_type": "stream",
     "text": [
      "100%|██████████| 78/78 [00:01<00:00, 72.10it/s]\n"
     ]
    },
    {
     "name": "stdout",
     "output_type": "stream",
     "text": [
      "mlp_classification validation accuracy: 0.9833733974358975\n"
     ]
    },
    {
     "name": "stderr",
     "output_type": "stream",
     "text": [
      "100%|██████████| 78/78 [00:01<00:00, 64.50it/s]\n"
     ]
    },
    {
     "name": "stdout",
     "output_type": "stream",
     "text": [
      "mlp_dropout_classification validation accuracy: 0.9870793269230769\n",
      "BNN Test Error: 1.36%\n",
      "MLP Test Error: 1.66%\n",
      "MLP Dropout Test Error: 1.29%\n",
      "Epoch 318/600\n"
     ]
    },
    {
     "name": "stderr",
     "output_type": "stream",
     "text": [
      "100%|██████████| 468/468 [00:17<00:00, 26.06it/s]\n",
      "100%|██████████| 468/468 [00:06<00:00, 68.56it/s]\n",
      "100%|██████████| 468/468 [00:06<00:00, 67.13it/s]\n",
      "100%|██████████| 78/78 [00:19<00:00,  4.07it/s]\n"
     ]
    },
    {
     "name": "stdout",
     "output_type": "stream",
     "text": [
      "bnn_classification validation accuracy: 0.9866786858974359\n"
     ]
    },
    {
     "name": "stderr",
     "output_type": "stream",
     "text": [
      "100%|██████████| 78/78 [00:01<00:00, 72.10it/s]\n"
     ]
    },
    {
     "name": "stdout",
     "output_type": "stream",
     "text": [
      "mlp_classification validation accuracy: 0.9833733974358975\n"
     ]
    },
    {
     "name": "stderr",
     "output_type": "stream",
     "text": [
      "100%|██████████| 78/78 [00:01<00:00, 69.22it/s]\n"
     ]
    },
    {
     "name": "stdout",
     "output_type": "stream",
     "text": [
      "mlp_dropout_classification validation accuracy: 0.9868790064102564\n",
      "BNN Test Error: 1.33%\n",
      "MLP Test Error: 1.66%\n",
      "MLP Dropout Test Error: 1.31%\n",
      "Epoch 319/600\n"
     ]
    },
    {
     "name": "stderr",
     "output_type": "stream",
     "text": [
      "100%|██████████| 468/468 [00:18<00:00, 25.76it/s]\n",
      "100%|██████████| 468/468 [00:06<00:00, 68.53it/s]\n",
      "100%|██████████| 468/468 [00:06<00:00, 68.13it/s]\n",
      "100%|██████████| 78/78 [00:17<00:00,  4.45it/s]\n"
     ]
    },
    {
     "name": "stdout",
     "output_type": "stream",
     "text": [
      "bnn_classification validation accuracy: 0.9864783653846154\n"
     ]
    },
    {
     "name": "stderr",
     "output_type": "stream",
     "text": [
      "100%|██████████| 78/78 [00:01<00:00, 70.55it/s]\n"
     ]
    },
    {
     "name": "stdout",
     "output_type": "stream",
     "text": [
      "mlp_classification validation accuracy: 0.9833733974358975\n"
     ]
    },
    {
     "name": "stderr",
     "output_type": "stream",
     "text": [
      "100%|██████████| 78/78 [00:01<00:00, 70.45it/s]\n"
     ]
    },
    {
     "name": "stdout",
     "output_type": "stream",
     "text": [
      "mlp_dropout_classification validation accuracy: 0.9872796474358975\n",
      "BNN Test Error: 1.35%\n",
      "MLP Test Error: 1.66%\n",
      "MLP Dropout Test Error: 1.27%\n",
      "Epoch 320/600\n"
     ]
    },
    {
     "name": "stderr",
     "output_type": "stream",
     "text": [
      "100%|██████████| 468/468 [00:17<00:00, 26.74it/s]\n",
      "100%|██████████| 468/468 [00:06<00:00, 67.75it/s]\n",
      "100%|██████████| 468/468 [00:06<00:00, 66.98it/s]\n",
      "100%|██████████| 78/78 [00:17<00:00,  4.35it/s]\n"
     ]
    },
    {
     "name": "stdout",
     "output_type": "stream",
     "text": [
      "bnn_classification validation accuracy: 0.9864783653846154\n"
     ]
    },
    {
     "name": "stderr",
     "output_type": "stream",
     "text": [
      "100%|██████████| 78/78 [00:01<00:00, 70.36it/s]\n"
     ]
    },
    {
     "name": "stdout",
     "output_type": "stream",
     "text": [
      "mlp_classification validation accuracy: 0.9833733974358975\n"
     ]
    },
    {
     "name": "stderr",
     "output_type": "stream",
     "text": [
      "100%|██████████| 78/78 [00:01<00:00, 70.77it/s]\n"
     ]
    },
    {
     "name": "stdout",
     "output_type": "stream",
     "text": [
      "mlp_dropout_classification validation accuracy: 0.9873798076923077\n",
      "BNN Test Error: 1.35%\n",
      "MLP Test Error: 1.66%\n",
      "MLP Dropout Test Error: 1.26%\n",
      "Epoch 321/600\n"
     ]
    },
    {
     "name": "stderr",
     "output_type": "stream",
     "text": [
      "100%|██████████| 468/468 [00:17<00:00, 26.53it/s]\n",
      "100%|██████████| 468/468 [00:06<00:00, 67.33it/s]\n",
      "100%|██████████| 468/468 [00:06<00:00, 67.62it/s]\n",
      "100%|██████████| 78/78 [00:16<00:00,  4.62it/s]\n"
     ]
    },
    {
     "name": "stdout",
     "output_type": "stream",
     "text": [
      "bnn_classification validation accuracy: 0.9863782051282052\n"
     ]
    },
    {
     "name": "stderr",
     "output_type": "stream",
     "text": [
      "100%|██████████| 78/78 [00:01<00:00, 71.46it/s]\n"
     ]
    },
    {
     "name": "stdout",
     "output_type": "stream",
     "text": [
      "mlp_classification validation accuracy: 0.9833733974358975\n"
     ]
    },
    {
     "name": "stderr",
     "output_type": "stream",
     "text": [
      "100%|██████████| 78/78 [00:01<00:00, 72.49it/s]\n"
     ]
    },
    {
     "name": "stdout",
     "output_type": "stream",
     "text": [
      "mlp_dropout_classification validation accuracy: 0.9871794871794872\n",
      "BNN Test Error: 1.36%\n",
      "MLP Test Error: 1.66%\n",
      "MLP Dropout Test Error: 1.28%\n",
      "Epoch 322/600\n"
     ]
    },
    {
     "name": "stderr",
     "output_type": "stream",
     "text": [
      "100%|██████████| 468/468 [00:16<00:00, 27.58it/s]\n",
      "100%|██████████| 468/468 [00:06<00:00, 68.41it/s]\n",
      "100%|██████████| 468/468 [00:06<00:00, 66.98it/s]\n",
      "100%|██████████| 78/78 [00:16<00:00,  4.60it/s]\n"
     ]
    },
    {
     "name": "stdout",
     "output_type": "stream",
     "text": [
      "bnn_classification validation accuracy: 0.9866786858974359\n"
     ]
    },
    {
     "name": "stderr",
     "output_type": "stream",
     "text": [
      "100%|██████████| 78/78 [00:01<00:00, 73.43it/s]\n"
     ]
    },
    {
     "name": "stdout",
     "output_type": "stream",
     "text": [
      "mlp_classification validation accuracy: 0.9833733974358975\n"
     ]
    },
    {
     "name": "stderr",
     "output_type": "stream",
     "text": [
      "100%|██████████| 78/78 [00:01<00:00, 72.52it/s]\n"
     ]
    },
    {
     "name": "stdout",
     "output_type": "stream",
     "text": [
      "mlp_dropout_classification validation accuracy: 0.9871794871794872\n",
      "BNN Test Error: 1.33%\n",
      "MLP Test Error: 1.66%\n",
      "MLP Dropout Test Error: 1.28%\n",
      "Epoch 323/600\n"
     ]
    },
    {
     "name": "stderr",
     "output_type": "stream",
     "text": [
      "100%|██████████| 468/468 [00:16<00:00, 27.77it/s]\n",
      "100%|██████████| 468/468 [00:06<00:00, 68.63it/s]\n",
      "100%|██████████| 468/468 [00:07<00:00, 66.76it/s]\n",
      "100%|██████████| 78/78 [00:18<00:00,  4.21it/s]\n"
     ]
    },
    {
     "name": "stdout",
     "output_type": "stream",
     "text": [
      "bnn_classification validation accuracy: 0.9863782051282052\n"
     ]
    },
    {
     "name": "stderr",
     "output_type": "stream",
     "text": [
      "100%|██████████| 78/78 [00:01<00:00, 68.31it/s]\n"
     ]
    },
    {
     "name": "stdout",
     "output_type": "stream",
     "text": [
      "mlp_classification validation accuracy: 0.9833733974358975\n"
     ]
    },
    {
     "name": "stderr",
     "output_type": "stream",
     "text": [
      "100%|██████████| 78/78 [00:01<00:00, 71.73it/s]\n"
     ]
    },
    {
     "name": "stdout",
     "output_type": "stream",
     "text": [
      "mlp_dropout_classification validation accuracy: 0.9871794871794872\n",
      "BNN Test Error: 1.36%\n",
      "MLP Test Error: 1.66%\n",
      "MLP Dropout Test Error: 1.28%\n",
      "Epoch 324/600\n"
     ]
    },
    {
     "name": "stderr",
     "output_type": "stream",
     "text": [
      "100%|██████████| 468/468 [00:17<00:00, 26.41it/s]\n",
      "100%|██████████| 468/468 [00:06<00:00, 69.46it/s]\n",
      "100%|██████████| 468/468 [00:06<00:00, 68.10it/s]\n",
      "100%|██████████| 78/78 [00:18<00:00,  4.33it/s]\n"
     ]
    },
    {
     "name": "stdout",
     "output_type": "stream",
     "text": [
      "bnn_classification validation accuracy: 0.9866786858974359\n"
     ]
    },
    {
     "name": "stderr",
     "output_type": "stream",
     "text": [
      "100%|██████████| 78/78 [00:01<00:00, 71.39it/s]\n"
     ]
    },
    {
     "name": "stdout",
     "output_type": "stream",
     "text": [
      "mlp_classification validation accuracy: 0.9833733974358975\n"
     ]
    },
    {
     "name": "stderr",
     "output_type": "stream",
     "text": [
      "100%|██████████| 78/78 [00:01<00:00, 73.59it/s]\n"
     ]
    },
    {
     "name": "stdout",
     "output_type": "stream",
     "text": [
      "mlp_dropout_classification validation accuracy: 0.9871794871794872\n",
      "BNN Test Error: 1.33%\n",
      "MLP Test Error: 1.66%\n",
      "MLP Dropout Test Error: 1.28%\n",
      "Epoch 325/600\n"
     ]
    },
    {
     "name": "stderr",
     "output_type": "stream",
     "text": [
      "100%|██████████| 468/468 [00:18<00:00, 25.52it/s]\n",
      "100%|██████████| 468/468 [00:06<00:00, 67.18it/s]\n",
      "100%|██████████| 468/468 [00:06<00:00, 68.20it/s]\n",
      "100%|██████████| 78/78 [00:18<00:00,  4.28it/s]\n"
     ]
    },
    {
     "name": "stdout",
     "output_type": "stream",
     "text": [
      "bnn_classification validation accuracy: 0.9866786858974359\n"
     ]
    },
    {
     "name": "stderr",
     "output_type": "stream",
     "text": [
      "100%|██████████| 78/78 [00:01<00:00, 68.16it/s]\n"
     ]
    },
    {
     "name": "stdout",
     "output_type": "stream",
     "text": [
      "mlp_classification validation accuracy: 0.9833733974358975\n"
     ]
    },
    {
     "name": "stderr",
     "output_type": "stream",
     "text": [
      "100%|██████████| 78/78 [00:01<00:00, 69.13it/s]\n"
     ]
    },
    {
     "name": "stdout",
     "output_type": "stream",
     "text": [
      "mlp_dropout_classification validation accuracy: 0.9870793269230769\n",
      "BNN Test Error: 1.33%\n",
      "MLP Test Error: 1.66%\n",
      "MLP Dropout Test Error: 1.29%\n",
      "Epoch 326/600\n"
     ]
    },
    {
     "name": "stderr",
     "output_type": "stream",
     "text": [
      "100%|██████████| 468/468 [00:17<00:00, 26.71it/s]\n",
      "100%|██████████| 468/468 [00:06<00:00, 67.97it/s]\n",
      "100%|██████████| 468/468 [00:07<00:00, 64.96it/s]\n",
      "100%|██████████| 78/78 [00:17<00:00,  4.50it/s]\n"
     ]
    },
    {
     "name": "stdout",
     "output_type": "stream",
     "text": [
      "bnn_classification validation accuracy: 0.9864783653846154\n"
     ]
    },
    {
     "name": "stderr",
     "output_type": "stream",
     "text": [
      "100%|██████████| 78/78 [00:01<00:00, 69.88it/s]\n"
     ]
    },
    {
     "name": "stdout",
     "output_type": "stream",
     "text": [
      "mlp_classification validation accuracy: 0.9833733974358975\n"
     ]
    },
    {
     "name": "stderr",
     "output_type": "stream",
     "text": [
      "100%|██████████| 78/78 [00:01<00:00, 72.05it/s]\n"
     ]
    },
    {
     "name": "stdout",
     "output_type": "stream",
     "text": [
      "mlp_dropout_classification validation accuracy: 0.9875801282051282\n",
      "BNN Test Error: 1.35%\n",
      "MLP Test Error: 1.66%\n",
      "MLP Dropout Test Error: 1.24%\n",
      "Epoch 327/600\n"
     ]
    },
    {
     "name": "stderr",
     "output_type": "stream",
     "text": [
      "100%|██████████| 468/468 [00:17<00:00, 26.77it/s]\n",
      "100%|██████████| 468/468 [00:06<00:00, 69.09it/s]\n",
      "100%|██████████| 468/468 [00:06<00:00, 68.00it/s]\n",
      "100%|██████████| 78/78 [00:18<00:00,  4.11it/s]\n"
     ]
    },
    {
     "name": "stdout",
     "output_type": "stream",
     "text": [
      "bnn_classification validation accuracy: 0.9866786858974359\n"
     ]
    },
    {
     "name": "stderr",
     "output_type": "stream",
     "text": [
      "100%|██████████| 78/78 [00:01<00:00, 72.41it/s]\n"
     ]
    },
    {
     "name": "stdout",
     "output_type": "stream",
     "text": [
      "mlp_classification validation accuracy: 0.9833733974358975\n"
     ]
    },
    {
     "name": "stderr",
     "output_type": "stream",
     "text": [
      "100%|██████████| 78/78 [00:01<00:00, 72.22it/s]\n"
     ]
    },
    {
     "name": "stdout",
     "output_type": "stream",
     "text": [
      "mlp_dropout_classification validation accuracy: 0.9877804487179487\n",
      "BNN Test Error: 1.33%\n",
      "MLP Test Error: 1.66%\n",
      "MLP Dropout Test Error: 1.22%\n",
      "Epoch 328/600\n"
     ]
    },
    {
     "name": "stderr",
     "output_type": "stream",
     "text": [
      "100%|██████████| 468/468 [00:17<00:00, 26.92it/s]\n",
      "100%|██████████| 468/468 [00:06<00:00, 67.72it/s]\n",
      "100%|██████████| 468/468 [00:06<00:00, 68.29it/s]\n",
      "100%|██████████| 78/78 [00:17<00:00,  4.39it/s]\n"
     ]
    },
    {
     "name": "stdout",
     "output_type": "stream",
     "text": [
      "bnn_classification validation accuracy: 0.9865785256410257\n"
     ]
    },
    {
     "name": "stderr",
     "output_type": "stream",
     "text": [
      "100%|██████████| 78/78 [00:01<00:00, 72.08it/s]\n"
     ]
    },
    {
     "name": "stdout",
     "output_type": "stream",
     "text": [
      "mlp_classification validation accuracy: 0.9833733974358975\n"
     ]
    },
    {
     "name": "stderr",
     "output_type": "stream",
     "text": [
      "100%|██████████| 78/78 [00:01<00:00, 71.96it/s]\n"
     ]
    },
    {
     "name": "stdout",
     "output_type": "stream",
     "text": [
      "mlp_dropout_classification validation accuracy: 0.9875801282051282\n",
      "BNN Test Error: 1.34%\n",
      "MLP Test Error: 1.66%\n",
      "MLP Dropout Test Error: 1.24%\n",
      "Epoch 329/600\n"
     ]
    },
    {
     "name": "stderr",
     "output_type": "stream",
     "text": [
      "100%|██████████| 468/468 [00:18<00:00, 25.15it/s]\n",
      "100%|██████████| 468/468 [00:06<00:00, 68.69it/s]\n",
      "100%|██████████| 468/468 [00:06<00:00, 68.53it/s]\n",
      "100%|██████████| 78/78 [00:17<00:00,  4.40it/s]\n"
     ]
    },
    {
     "name": "stdout",
     "output_type": "stream",
     "text": [
      "bnn_classification validation accuracy: 0.9863782051282052\n"
     ]
    },
    {
     "name": "stderr",
     "output_type": "stream",
     "text": [
      "100%|██████████| 78/78 [00:01<00:00, 70.05it/s]\n"
     ]
    },
    {
     "name": "stdout",
     "output_type": "stream",
     "text": [
      "mlp_classification validation accuracy: 0.9833733974358975\n"
     ]
    },
    {
     "name": "stderr",
     "output_type": "stream",
     "text": [
      "100%|██████████| 78/78 [00:01<00:00, 71.82it/s]\n"
     ]
    },
    {
     "name": "stdout",
     "output_type": "stream",
     "text": [
      "mlp_dropout_classification validation accuracy: 0.9875801282051282\n",
      "BNN Test Error: 1.36%\n",
      "MLP Test Error: 1.66%\n",
      "MLP Dropout Test Error: 1.24%\n",
      "Epoch 330/600\n"
     ]
    },
    {
     "name": "stderr",
     "output_type": "stream",
     "text": [
      "100%|██████████| 468/468 [00:17<00:00, 26.60it/s]\n",
      "100%|██████████| 468/468 [00:07<00:00, 66.25it/s]\n",
      "100%|██████████| 468/468 [00:06<00:00, 68.77it/s]\n",
      "100%|██████████| 78/78 [00:18<00:00,  4.31it/s]\n"
     ]
    },
    {
     "name": "stdout",
     "output_type": "stream",
     "text": [
      "bnn_classification validation accuracy: 0.9867788461538461\n"
     ]
    },
    {
     "name": "stderr",
     "output_type": "stream",
     "text": [
      "100%|██████████| 78/78 [00:01<00:00, 72.84it/s]\n"
     ]
    },
    {
     "name": "stdout",
     "output_type": "stream",
     "text": [
      "mlp_classification validation accuracy: 0.9833733974358975\n"
     ]
    },
    {
     "name": "stderr",
     "output_type": "stream",
     "text": [
      "100%|██████████| 78/78 [00:01<00:00, 70.93it/s]\n"
     ]
    },
    {
     "name": "stdout",
     "output_type": "stream",
     "text": [
      "mlp_dropout_classification validation accuracy: 0.9875801282051282\n",
      "BNN Test Error: 1.32%\n",
      "MLP Test Error: 1.66%\n",
      "MLP Dropout Test Error: 1.24%\n",
      "Epoch 331/600\n"
     ]
    },
    {
     "name": "stderr",
     "output_type": "stream",
     "text": [
      "100%|██████████| 468/468 [00:17<00:00, 26.69it/s]\n",
      "100%|██████████| 468/468 [00:06<00:00, 67.87it/s]\n",
      "100%|██████████| 468/468 [00:06<00:00, 67.56it/s]\n",
      "100%|██████████| 78/78 [00:17<00:00,  4.44it/s]\n"
     ]
    },
    {
     "name": "stdout",
     "output_type": "stream",
     "text": [
      "bnn_classification validation accuracy: 0.9864783653846154\n"
     ]
    },
    {
     "name": "stderr",
     "output_type": "stream",
     "text": [
      "100%|██████████| 78/78 [00:01<00:00, 73.60it/s]\n"
     ]
    },
    {
     "name": "stdout",
     "output_type": "stream",
     "text": [
      "mlp_classification validation accuracy: 0.9833733974358975\n"
     ]
    },
    {
     "name": "stderr",
     "output_type": "stream",
     "text": [
      "100%|██████████| 78/78 [00:01<00:00, 73.71it/s]\n"
     ]
    },
    {
     "name": "stdout",
     "output_type": "stream",
     "text": [
      "mlp_dropout_classification validation accuracy: 0.9877804487179487\n",
      "BNN Test Error: 1.35%\n",
      "MLP Test Error: 1.66%\n",
      "MLP Dropout Test Error: 1.22%\n",
      "Epoch 332/600\n"
     ]
    },
    {
     "name": "stderr",
     "output_type": "stream",
     "text": [
      "100%|██████████| 468/468 [00:17<00:00, 26.91it/s]\n",
      "100%|██████████| 468/468 [00:06<00:00, 69.40it/s]\n",
      "100%|██████████| 468/468 [00:06<00:00, 68.31it/s]\n",
      "100%|██████████| 78/78 [00:18<00:00,  4.28it/s]\n"
     ]
    },
    {
     "name": "stdout",
     "output_type": "stream",
     "text": [
      "bnn_classification validation accuracy: 0.9866786858974359\n"
     ]
    },
    {
     "name": "stderr",
     "output_type": "stream",
     "text": [
      "100%|██████████| 78/78 [00:01<00:00, 67.37it/s]\n"
     ]
    },
    {
     "name": "stdout",
     "output_type": "stream",
     "text": [
      "mlp_classification validation accuracy: 0.9833733974358975\n"
     ]
    },
    {
     "name": "stderr",
     "output_type": "stream",
     "text": [
      "100%|██████████| 78/78 [00:01<00:00, 72.80it/s]\n"
     ]
    },
    {
     "name": "stdout",
     "output_type": "stream",
     "text": [
      "mlp_dropout_classification validation accuracy: 0.9875801282051282\n",
      "BNN Test Error: 1.33%\n",
      "MLP Test Error: 1.66%\n",
      "MLP Dropout Test Error: 1.24%\n",
      "Epoch 333/600\n"
     ]
    },
    {
     "name": "stderr",
     "output_type": "stream",
     "text": [
      "100%|██████████| 468/468 [00:18<00:00, 25.66it/s]\n",
      "100%|██████████| 468/468 [00:06<00:00, 67.49it/s]\n",
      "100%|██████████| 468/468 [00:06<00:00, 67.93it/s]\n",
      "100%|██████████| 78/78 [00:17<00:00,  4.33it/s]\n"
     ]
    },
    {
     "name": "stdout",
     "output_type": "stream",
     "text": [
      "bnn_classification validation accuracy: 0.9862780448717948\n"
     ]
    },
    {
     "name": "stderr",
     "output_type": "stream",
     "text": [
      "100%|██████████| 78/78 [00:01<00:00, 71.58it/s]\n"
     ]
    },
    {
     "name": "stdout",
     "output_type": "stream",
     "text": [
      "mlp_classification validation accuracy: 0.9833733974358975\n"
     ]
    },
    {
     "name": "stderr",
     "output_type": "stream",
     "text": [
      "100%|██████████| 78/78 [00:01<00:00, 73.99it/s]\n"
     ]
    },
    {
     "name": "stdout",
     "output_type": "stream",
     "text": [
      "mlp_dropout_classification validation accuracy: 0.987479967948718\n",
      "BNN Test Error: 1.37%\n",
      "MLP Test Error: 1.66%\n",
      "MLP Dropout Test Error: 1.25%\n",
      "Epoch 334/600\n"
     ]
    },
    {
     "name": "stderr",
     "output_type": "stream",
     "text": [
      "100%|██████████| 468/468 [00:17<00:00, 26.89it/s]\n",
      "100%|██████████| 468/468 [00:06<00:00, 68.49it/s]\n",
      "100%|██████████| 468/468 [00:06<00:00, 67.04it/s]\n",
      "100%|██████████| 78/78 [00:17<00:00,  4.49it/s]\n"
     ]
    },
    {
     "name": "stdout",
     "output_type": "stream",
     "text": [
      "bnn_classification validation accuracy: 0.9865785256410257\n"
     ]
    },
    {
     "name": "stderr",
     "output_type": "stream",
     "text": [
      "100%|██████████| 78/78 [00:01<00:00, 72.20it/s]\n"
     ]
    },
    {
     "name": "stdout",
     "output_type": "stream",
     "text": [
      "mlp_classification validation accuracy: 0.9833733974358975\n"
     ]
    },
    {
     "name": "stderr",
     "output_type": "stream",
     "text": [
      "100%|██████████| 78/78 [00:01<00:00, 73.36it/s]\n"
     ]
    },
    {
     "name": "stdout",
     "output_type": "stream",
     "text": [
      "mlp_dropout_classification validation accuracy: 0.9873798076923077\n",
      "BNN Test Error: 1.34%\n",
      "MLP Test Error: 1.66%\n",
      "MLP Dropout Test Error: 1.26%\n",
      "Epoch 335/600\n"
     ]
    },
    {
     "name": "stderr",
     "output_type": "stream",
     "text": [
      "100%|██████████| 468/468 [00:18<00:00, 25.87it/s]\n",
      "100%|██████████| 468/468 [00:06<00:00, 69.68it/s]\n",
      "100%|██████████| 468/468 [00:06<00:00, 67.42it/s]\n",
      "100%|██████████| 78/78 [00:18<00:00,  4.26it/s]\n"
     ]
    },
    {
     "name": "stdout",
     "output_type": "stream",
     "text": [
      "bnn_classification validation accuracy: 0.9866786858974359\n"
     ]
    },
    {
     "name": "stderr",
     "output_type": "stream",
     "text": [
      "100%|██████████| 78/78 [00:01<00:00, 71.90it/s]\n"
     ]
    },
    {
     "name": "stdout",
     "output_type": "stream",
     "text": [
      "mlp_classification validation accuracy: 0.9833733974358975\n"
     ]
    },
    {
     "name": "stderr",
     "output_type": "stream",
     "text": [
      "100%|██████████| 78/78 [00:01<00:00, 70.26it/s]\n"
     ]
    },
    {
     "name": "stdout",
     "output_type": "stream",
     "text": [
      "mlp_dropout_classification validation accuracy: 0.9875801282051282\n",
      "BNN Test Error: 1.33%\n",
      "MLP Test Error: 1.66%\n",
      "MLP Dropout Test Error: 1.24%\n",
      "Epoch 336/600\n"
     ]
    },
    {
     "name": "stderr",
     "output_type": "stream",
     "text": [
      "100%|██████████| 468/468 [00:17<00:00, 26.74it/s]\n",
      "100%|██████████| 468/468 [00:06<00:00, 67.73it/s]\n",
      "100%|██████████| 468/468 [00:06<00:00, 68.34it/s]\n",
      "100%|██████████| 78/78 [00:19<00:00,  4.10it/s]\n"
     ]
    },
    {
     "name": "stdout",
     "output_type": "stream",
     "text": [
      "bnn_classification validation accuracy: 0.9864783653846154\n"
     ]
    },
    {
     "name": "stderr",
     "output_type": "stream",
     "text": [
      "100%|██████████| 78/78 [00:01<00:00, 73.98it/s]\n"
     ]
    },
    {
     "name": "stdout",
     "output_type": "stream",
     "text": [
      "mlp_classification validation accuracy: 0.9833733974358975\n"
     ]
    },
    {
     "name": "stderr",
     "output_type": "stream",
     "text": [
      "100%|██████████| 78/78 [00:01<00:00, 67.13it/s]\n"
     ]
    },
    {
     "name": "stdout",
     "output_type": "stream",
     "text": [
      "mlp_dropout_classification validation accuracy: 0.9873798076923077\n",
      "BNN Test Error: 1.35%\n",
      "MLP Test Error: 1.66%\n",
      "MLP Dropout Test Error: 1.26%\n",
      "Epoch 337/600\n"
     ]
    },
    {
     "name": "stderr",
     "output_type": "stream",
     "text": [
      "100%|██████████| 468/468 [00:17<00:00, 27.18it/s]\n",
      "100%|██████████| 468/468 [00:06<00:00, 68.94it/s]\n",
      "100%|██████████| 468/468 [00:06<00:00, 67.31it/s]\n",
      "100%|██████████| 78/78 [00:17<00:00,  4.45it/s]\n"
     ]
    },
    {
     "name": "stdout",
     "output_type": "stream",
     "text": [
      "bnn_classification validation accuracy: 0.9863782051282052\n"
     ]
    },
    {
     "name": "stderr",
     "output_type": "stream",
     "text": [
      "100%|██████████| 78/78 [00:01<00:00, 72.76it/s]\n"
     ]
    },
    {
     "name": "stdout",
     "output_type": "stream",
     "text": [
      "mlp_classification validation accuracy: 0.9833733974358975\n"
     ]
    },
    {
     "name": "stderr",
     "output_type": "stream",
     "text": [
      "100%|██████████| 78/78 [00:01<00:00, 72.70it/s]\n"
     ]
    },
    {
     "name": "stdout",
     "output_type": "stream",
     "text": [
      "mlp_dropout_classification validation accuracy: 0.9871794871794872\n",
      "BNN Test Error: 1.36%\n",
      "MLP Test Error: 1.66%\n",
      "MLP Dropout Test Error: 1.28%\n",
      "Epoch 338/600\n"
     ]
    },
    {
     "name": "stderr",
     "output_type": "stream",
     "text": [
      "100%|██████████| 468/468 [00:17<00:00, 26.05it/s]\n",
      "100%|██████████| 468/468 [00:06<00:00, 69.24it/s]\n",
      "100%|██████████| 468/468 [00:06<00:00, 67.75it/s]\n",
      "100%|██████████| 78/78 [00:17<00:00,  4.42it/s]\n"
     ]
    },
    {
     "name": "stdout",
     "output_type": "stream",
     "text": [
      "bnn_classification validation accuracy: 0.9866786858974359\n"
     ]
    },
    {
     "name": "stderr",
     "output_type": "stream",
     "text": [
      "100%|██████████| 78/78 [00:01<00:00, 71.50it/s]\n"
     ]
    },
    {
     "name": "stdout",
     "output_type": "stream",
     "text": [
      "mlp_classification validation accuracy: 0.9833733974358975\n"
     ]
    },
    {
     "name": "stderr",
     "output_type": "stream",
     "text": [
      "100%|██████████| 78/78 [00:01<00:00, 73.02it/s]\n"
     ]
    },
    {
     "name": "stdout",
     "output_type": "stream",
     "text": [
      "mlp_dropout_classification validation accuracy: 0.9872796474358975\n",
      "BNN Test Error: 1.33%\n",
      "MLP Test Error: 1.66%\n",
      "MLP Dropout Test Error: 1.27%\n",
      "Epoch 339/600\n"
     ]
    },
    {
     "name": "stderr",
     "output_type": "stream",
     "text": [
      "100%|██████████| 468/468 [00:17<00:00, 26.61it/s]\n",
      "100%|██████████| 468/468 [00:07<00:00, 65.41it/s]\n",
      "100%|██████████| 468/468 [00:07<00:00, 65.55it/s]\n",
      "100%|██████████| 78/78 [00:17<00:00,  4.42it/s]\n"
     ]
    },
    {
     "name": "stdout",
     "output_type": "stream",
     "text": [
      "bnn_classification validation accuracy: 0.9863782051282052\n"
     ]
    },
    {
     "name": "stderr",
     "output_type": "stream",
     "text": [
      "100%|██████████| 78/78 [00:01<00:00, 72.73it/s]\n"
     ]
    },
    {
     "name": "stdout",
     "output_type": "stream",
     "text": [
      "mlp_classification validation accuracy: 0.9833733974358975\n"
     ]
    },
    {
     "name": "stderr",
     "output_type": "stream",
     "text": [
      "100%|██████████| 78/78 [00:01<00:00, 72.49it/s]\n"
     ]
    },
    {
     "name": "stdout",
     "output_type": "stream",
     "text": [
      "mlp_dropout_classification validation accuracy: 0.9872796474358975\n",
      "BNN Test Error: 1.36%\n",
      "MLP Test Error: 1.66%\n",
      "MLP Dropout Test Error: 1.27%\n",
      "Epoch 340/600\n"
     ]
    },
    {
     "name": "stderr",
     "output_type": "stream",
     "text": [
      "100%|██████████| 468/468 [00:17<00:00, 26.68it/s]\n",
      "100%|██████████| 468/468 [00:06<00:00, 69.14it/s]\n",
      "100%|██████████| 468/468 [00:06<00:00, 68.35it/s]\n",
      "100%|██████████| 78/78 [00:18<00:00,  4.12it/s]\n"
     ]
    },
    {
     "name": "stdout",
     "output_type": "stream",
     "text": [
      "bnn_classification validation accuracy: 0.9862780448717948\n"
     ]
    },
    {
     "name": "stderr",
     "output_type": "stream",
     "text": [
      "100%|██████████| 78/78 [00:01<00:00, 74.31it/s]\n"
     ]
    },
    {
     "name": "stdout",
     "output_type": "stream",
     "text": [
      "mlp_classification validation accuracy: 0.9833733974358975\n"
     ]
    },
    {
     "name": "stderr",
     "output_type": "stream",
     "text": [
      "100%|██████████| 78/78 [00:01<00:00, 73.87it/s]\n"
     ]
    },
    {
     "name": "stdout",
     "output_type": "stream",
     "text": [
      "mlp_dropout_classification validation accuracy: 0.9875801282051282\n",
      "BNN Test Error: 1.37%\n",
      "MLP Test Error: 1.66%\n",
      "MLP Dropout Test Error: 1.24%\n",
      "Epoch 341/600\n"
     ]
    },
    {
     "name": "stderr",
     "output_type": "stream",
     "text": [
      "100%|██████████| 468/468 [00:17<00:00, 26.62it/s]\n",
      "100%|██████████| 468/468 [00:06<00:00, 69.18it/s]\n",
      "100%|██████████| 468/468 [00:06<00:00, 68.38it/s]\n",
      "100%|██████████| 78/78 [00:17<00:00,  4.41it/s]\n"
     ]
    },
    {
     "name": "stdout",
     "output_type": "stream",
     "text": [
      "bnn_classification validation accuracy: 0.9864783653846154\n"
     ]
    },
    {
     "name": "stderr",
     "output_type": "stream",
     "text": [
      "100%|██████████| 78/78 [00:01<00:00, 73.17it/s]\n"
     ]
    },
    {
     "name": "stdout",
     "output_type": "stream",
     "text": [
      "mlp_classification validation accuracy: 0.9833733974358975\n"
     ]
    },
    {
     "name": "stderr",
     "output_type": "stream",
     "text": [
      "100%|██████████| 78/78 [00:01<00:00, 72.98it/s]\n"
     ]
    },
    {
     "name": "stdout",
     "output_type": "stream",
     "text": [
      "mlp_dropout_classification validation accuracy: 0.9875801282051282\n",
      "BNN Test Error: 1.35%\n",
      "MLP Test Error: 1.66%\n",
      "MLP Dropout Test Error: 1.24%\n",
      "Epoch 342/600\n"
     ]
    },
    {
     "name": "stderr",
     "output_type": "stream",
     "text": [
      "100%|██████████| 468/468 [00:18<00:00, 24.95it/s]\n",
      "100%|██████████| 468/468 [00:06<00:00, 68.34it/s]\n",
      "100%|██████████| 468/468 [00:06<00:00, 67.17it/s]\n",
      "100%|██████████| 78/78 [00:17<00:00,  4.41it/s]\n"
     ]
    },
    {
     "name": "stdout",
     "output_type": "stream",
     "text": [
      "bnn_classification validation accuracy: 0.9864783653846154\n"
     ]
    },
    {
     "name": "stderr",
     "output_type": "stream",
     "text": [
      "100%|██████████| 78/78 [00:01<00:00, 73.08it/s]\n"
     ]
    },
    {
     "name": "stdout",
     "output_type": "stream",
     "text": [
      "mlp_classification validation accuracy: 0.9833733974358975\n"
     ]
    },
    {
     "name": "stderr",
     "output_type": "stream",
     "text": [
      "100%|██████████| 78/78 [00:01<00:00, 74.19it/s]\n"
     ]
    },
    {
     "name": "stdout",
     "output_type": "stream",
     "text": [
      "mlp_dropout_classification validation accuracy: 0.987479967948718\n",
      "BNN Test Error: 1.35%\n",
      "MLP Test Error: 1.66%\n",
      "MLP Dropout Test Error: 1.25%\n",
      "Epoch 343/600\n"
     ]
    },
    {
     "name": "stderr",
     "output_type": "stream",
     "text": [
      "100%|██████████| 468/468 [00:18<00:00, 25.38it/s]\n",
      "100%|██████████| 468/468 [00:06<00:00, 67.22it/s]\n",
      "100%|██████████| 468/468 [00:06<00:00, 68.27it/s]\n",
      "100%|██████████| 78/78 [00:18<00:00,  4.30it/s]\n"
     ]
    },
    {
     "name": "stdout",
     "output_type": "stream",
     "text": [
      "bnn_classification validation accuracy: 0.9863782051282052\n"
     ]
    },
    {
     "name": "stderr",
     "output_type": "stream",
     "text": [
      "100%|██████████| 78/78 [00:01<00:00, 71.18it/s]\n"
     ]
    },
    {
     "name": "stdout",
     "output_type": "stream",
     "text": [
      "mlp_classification validation accuracy: 0.9833733974358975\n"
     ]
    },
    {
     "name": "stderr",
     "output_type": "stream",
     "text": [
      "100%|██████████| 78/78 [00:01<00:00, 71.83it/s]\n"
     ]
    },
    {
     "name": "stdout",
     "output_type": "stream",
     "text": [
      "mlp_dropout_classification validation accuracy: 0.9872796474358975\n",
      "BNN Test Error: 1.36%\n",
      "MLP Test Error: 1.66%\n",
      "MLP Dropout Test Error: 1.27%\n",
      "Epoch 344/600\n"
     ]
    },
    {
     "name": "stderr",
     "output_type": "stream",
     "text": [
      "100%|██████████| 468/468 [00:17<00:00, 27.11it/s]\n",
      "100%|██████████| 468/468 [00:06<00:00, 68.23it/s]\n",
      "100%|██████████| 468/468 [00:06<00:00, 67.17it/s]\n",
      "100%|██████████| 78/78 [00:17<00:00,  4.44it/s]\n"
     ]
    },
    {
     "name": "stdout",
     "output_type": "stream",
     "text": [
      "bnn_classification validation accuracy: 0.9864783653846154\n"
     ]
    },
    {
     "name": "stderr",
     "output_type": "stream",
     "text": [
      "100%|██████████| 78/78 [00:01<00:00, 65.03it/s]\n"
     ]
    },
    {
     "name": "stdout",
     "output_type": "stream",
     "text": [
      "mlp_classification validation accuracy: 0.9833733974358975\n"
     ]
    },
    {
     "name": "stderr",
     "output_type": "stream",
     "text": [
      "100%|██████████| 78/78 [00:01<00:00, 71.01it/s]\n"
     ]
    },
    {
     "name": "stdout",
     "output_type": "stream",
     "text": [
      "mlp_dropout_classification validation accuracy: 0.9875801282051282\n",
      "BNN Test Error: 1.35%\n",
      "MLP Test Error: 1.66%\n",
      "MLP Dropout Test Error: 1.24%\n",
      "Epoch 345/600\n"
     ]
    },
    {
     "name": "stderr",
     "output_type": "stream",
     "text": [
      "100%|██████████| 468/468 [00:17<00:00, 27.16it/s]\n",
      "100%|██████████| 468/468 [00:06<00:00, 68.79it/s]\n",
      "100%|██████████| 468/468 [00:07<00:00, 66.37it/s]\n",
      "100%|██████████| 78/78 [00:18<00:00,  4.12it/s]\n"
     ]
    },
    {
     "name": "stdout",
     "output_type": "stream",
     "text": [
      "bnn_classification validation accuracy: 0.9864783653846154\n"
     ]
    },
    {
     "name": "stderr",
     "output_type": "stream",
     "text": [
      "100%|██████████| 78/78 [00:01<00:00, 71.02it/s]\n"
     ]
    },
    {
     "name": "stdout",
     "output_type": "stream",
     "text": [
      "mlp_classification validation accuracy: 0.9833733974358975\n"
     ]
    },
    {
     "name": "stderr",
     "output_type": "stream",
     "text": [
      "100%|██████████| 78/78 [00:01<00:00, 70.10it/s]\n"
     ]
    },
    {
     "name": "stdout",
     "output_type": "stream",
     "text": [
      "mlp_dropout_classification validation accuracy: 0.9872796474358975\n",
      "BNN Test Error: 1.35%\n",
      "MLP Test Error: 1.66%\n",
      "MLP Dropout Test Error: 1.27%\n",
      "Epoch 346/600\n"
     ]
    },
    {
     "name": "stderr",
     "output_type": "stream",
     "text": [
      "100%|██████████| 468/468 [00:17<00:00, 27.04it/s]\n",
      "100%|██████████| 468/468 [00:06<00:00, 69.15it/s]\n",
      "100%|██████████| 468/468 [00:06<00:00, 67.97it/s]\n",
      "100%|██████████| 78/78 [00:18<00:00,  4.29it/s]\n"
     ]
    },
    {
     "name": "stdout",
     "output_type": "stream",
     "text": [
      "bnn_classification validation accuracy: 0.9865785256410257\n"
     ]
    },
    {
     "name": "stderr",
     "output_type": "stream",
     "text": [
      "100%|██████████| 78/78 [00:01<00:00, 73.27it/s]\n"
     ]
    },
    {
     "name": "stdout",
     "output_type": "stream",
     "text": [
      "mlp_classification validation accuracy: 0.9833733974358975\n"
     ]
    },
    {
     "name": "stderr",
     "output_type": "stream",
     "text": [
      "100%|██████████| 78/78 [00:01<00:00, 71.83it/s]\n"
     ]
    },
    {
     "name": "stdout",
     "output_type": "stream",
     "text": [
      "mlp_dropout_classification validation accuracy: 0.9872796474358975\n",
      "BNN Test Error: 1.34%\n",
      "MLP Test Error: 1.66%\n",
      "MLP Dropout Test Error: 1.27%\n",
      "Epoch 347/600\n"
     ]
    },
    {
     "name": "stderr",
     "output_type": "stream",
     "text": [
      "100%|██████████| 468/468 [00:17<00:00, 26.77it/s]\n",
      "100%|██████████| 468/468 [00:07<00:00, 66.45it/s]\n",
      "100%|██████████| 468/468 [00:06<00:00, 67.40it/s]\n",
      "100%|██████████| 78/78 [00:17<00:00,  4.41it/s]\n"
     ]
    },
    {
     "name": "stdout",
     "output_type": "stream",
     "text": [
      "bnn_classification validation accuracy: 0.9863782051282052\n"
     ]
    },
    {
     "name": "stderr",
     "output_type": "stream",
     "text": [
      "100%|██████████| 78/78 [00:01<00:00, 72.11it/s]\n"
     ]
    },
    {
     "name": "stdout",
     "output_type": "stream",
     "text": [
      "mlp_classification validation accuracy: 0.9833733974358975\n"
     ]
    },
    {
     "name": "stderr",
     "output_type": "stream",
     "text": [
      "100%|██████████| 78/78 [00:01<00:00, 72.21it/s]\n"
     ]
    },
    {
     "name": "stdout",
     "output_type": "stream",
     "text": [
      "mlp_dropout_classification validation accuracy: 0.9871794871794872\n",
      "BNN Test Error: 1.36%\n",
      "MLP Test Error: 1.66%\n",
      "MLP Dropout Test Error: 1.28%\n",
      "Epoch 348/600\n"
     ]
    },
    {
     "name": "stderr",
     "output_type": "stream",
     "text": [
      "100%|██████████| 468/468 [00:17<00:00, 26.62it/s]\n",
      "100%|██████████| 468/468 [00:06<00:00, 67.74it/s]\n",
      "100%|██████████| 468/468 [00:07<00:00, 64.90it/s]\n",
      "100%|██████████| 78/78 [00:18<00:00,  4.32it/s]\n"
     ]
    },
    {
     "name": "stdout",
     "output_type": "stream",
     "text": [
      "bnn_classification validation accuracy: 0.9863782051282052\n"
     ]
    },
    {
     "name": "stderr",
     "output_type": "stream",
     "text": [
      "100%|██████████| 78/78 [00:01<00:00, 70.62it/s]\n"
     ]
    },
    {
     "name": "stdout",
     "output_type": "stream",
     "text": [
      "mlp_classification validation accuracy: 0.9833733974358975\n"
     ]
    },
    {
     "name": "stderr",
     "output_type": "stream",
     "text": [
      "100%|██████████| 78/78 [00:01<00:00, 72.27it/s]\n"
     ]
    },
    {
     "name": "stdout",
     "output_type": "stream",
     "text": [
      "mlp_dropout_classification validation accuracy: 0.9870793269230769\n",
      "BNN Test Error: 1.36%\n",
      "MLP Test Error: 1.66%\n",
      "MLP Dropout Test Error: 1.29%\n",
      "Epoch 349/600\n"
     ]
    },
    {
     "name": "stderr",
     "output_type": "stream",
     "text": [
      "100%|██████████| 468/468 [00:18<00:00, 24.79it/s]\n",
      "100%|██████████| 468/468 [00:06<00:00, 69.07it/s]\n",
      "100%|██████████| 468/468 [00:06<00:00, 67.43it/s]\n",
      "100%|██████████| 78/78 [00:19<00:00,  4.06it/s]\n"
     ]
    },
    {
     "name": "stdout",
     "output_type": "stream",
     "text": [
      "bnn_classification validation accuracy: 0.9862780448717948\n"
     ]
    },
    {
     "name": "stderr",
     "output_type": "stream",
     "text": [
      "100%|██████████| 78/78 [00:01<00:00, 74.02it/s]\n"
     ]
    },
    {
     "name": "stdout",
     "output_type": "stream",
     "text": [
      "mlp_classification validation accuracy: 0.9833733974358975\n"
     ]
    },
    {
     "name": "stderr",
     "output_type": "stream",
     "text": [
      "100%|██████████| 78/78 [00:01<00:00, 74.33it/s]\n"
     ]
    },
    {
     "name": "stdout",
     "output_type": "stream",
     "text": [
      "mlp_dropout_classification validation accuracy: 0.9872796474358975\n",
      "BNN Test Error: 1.37%\n",
      "MLP Test Error: 1.66%\n",
      "MLP Dropout Test Error: 1.27%\n",
      "Epoch 350/600\n"
     ]
    },
    {
     "name": "stderr",
     "output_type": "stream",
     "text": [
      "100%|██████████| 468/468 [00:17<00:00, 27.50it/s]\n",
      "100%|██████████| 468/468 [00:06<00:00, 68.03it/s]\n",
      "100%|██████████| 468/468 [00:06<00:00, 68.16it/s]\n",
      "100%|██████████| 78/78 [00:17<00:00,  4.44it/s]\n"
     ]
    },
    {
     "name": "stdout",
     "output_type": "stream",
     "text": [
      "bnn_classification validation accuracy: 0.9862780448717948\n"
     ]
    },
    {
     "name": "stderr",
     "output_type": "stream",
     "text": [
      "100%|██████████| 78/78 [00:01<00:00, 73.25it/s]\n"
     ]
    },
    {
     "name": "stdout",
     "output_type": "stream",
     "text": [
      "mlp_classification validation accuracy: 0.9833733974358975\n"
     ]
    },
    {
     "name": "stderr",
     "output_type": "stream",
     "text": [
      "100%|██████████| 78/78 [00:01<00:00, 73.14it/s]\n"
     ]
    },
    {
     "name": "stdout",
     "output_type": "stream",
     "text": [
      "mlp_dropout_classification validation accuracy: 0.9870793269230769\n",
      "BNN Test Error: 1.37%\n",
      "MLP Test Error: 1.66%\n",
      "MLP Dropout Test Error: 1.29%\n",
      "Epoch 351/600\n"
     ]
    },
    {
     "name": "stderr",
     "output_type": "stream",
     "text": [
      "100%|██████████| 468/468 [00:19<00:00, 24.18it/s]\n",
      "100%|██████████| 468/468 [00:06<00:00, 69.44it/s]\n",
      "100%|██████████| 468/468 [00:06<00:00, 68.19it/s]\n",
      "100%|██████████| 78/78 [00:17<00:00,  4.36it/s]\n"
     ]
    },
    {
     "name": "stdout",
     "output_type": "stream",
     "text": [
      "bnn_classification validation accuracy: 0.9862780448717948\n"
     ]
    },
    {
     "name": "stderr",
     "output_type": "stream",
     "text": [
      "100%|██████████| 78/78 [00:01<00:00, 72.38it/s]\n"
     ]
    },
    {
     "name": "stdout",
     "output_type": "stream",
     "text": [
      "mlp_classification validation accuracy: 0.9833733974358975\n"
     ]
    },
    {
     "name": "stderr",
     "output_type": "stream",
     "text": [
      "100%|██████████| 78/78 [00:01<00:00, 73.59it/s]\n"
     ]
    },
    {
     "name": "stdout",
     "output_type": "stream",
     "text": [
      "mlp_dropout_classification validation accuracy: 0.9870793269230769\n",
      "BNN Test Error: 1.37%\n",
      "MLP Test Error: 1.66%\n",
      "MLP Dropout Test Error: 1.29%\n",
      "Epoch 352/600\n"
     ]
    },
    {
     "name": "stderr",
     "output_type": "stream",
     "text": [
      "100%|██████████| 468/468 [00:18<00:00, 25.66it/s]\n",
      "100%|██████████| 468/468 [00:07<00:00, 66.45it/s]\n",
      "100%|██████████| 468/468 [00:06<00:00, 68.24it/s]\n",
      "100%|██████████| 78/78 [00:16<00:00,  4.62it/s]\n"
     ]
    },
    {
     "name": "stdout",
     "output_type": "stream",
     "text": [
      "bnn_classification validation accuracy: 0.9863782051282052\n"
     ]
    },
    {
     "name": "stderr",
     "output_type": "stream",
     "text": [
      "100%|██████████| 78/78 [00:01<00:00, 71.88it/s]\n"
     ]
    },
    {
     "name": "stdout",
     "output_type": "stream",
     "text": [
      "mlp_classification validation accuracy: 0.9833733974358975\n"
     ]
    },
    {
     "name": "stderr",
     "output_type": "stream",
     "text": [
      "100%|██████████| 78/78 [00:01<00:00, 72.30it/s]\n"
     ]
    },
    {
     "name": "stdout",
     "output_type": "stream",
     "text": [
      "mlp_dropout_classification validation accuracy: 0.9872796474358975\n",
      "BNN Test Error: 1.36%\n",
      "MLP Test Error: 1.66%\n",
      "MLP Dropout Test Error: 1.27%\n",
      "Epoch 353/600\n"
     ]
    },
    {
     "name": "stderr",
     "output_type": "stream",
     "text": [
      "100%|██████████| 468/468 [00:16<00:00, 27.60it/s]\n",
      "100%|██████████| 468/468 [00:06<00:00, 68.69it/s]\n",
      "100%|██████████| 468/468 [00:06<00:00, 67.81it/s]\n",
      "100%|██████████| 78/78 [00:18<00:00,  4.33it/s]\n"
     ]
    },
    {
     "name": "stdout",
     "output_type": "stream",
     "text": [
      "bnn_classification validation accuracy: 0.9866786858974359\n"
     ]
    },
    {
     "name": "stderr",
     "output_type": "stream",
     "text": [
      "100%|██████████| 78/78 [00:01<00:00, 73.04it/s]\n"
     ]
    },
    {
     "name": "stdout",
     "output_type": "stream",
     "text": [
      "mlp_classification validation accuracy: 0.9833733974358975\n"
     ]
    },
    {
     "name": "stderr",
     "output_type": "stream",
     "text": [
      "100%|██████████| 78/78 [00:01<00:00, 69.54it/s]\n"
     ]
    },
    {
     "name": "stdout",
     "output_type": "stream",
     "text": [
      "mlp_dropout_classification validation accuracy: 0.9871794871794872\n",
      "BNN Test Error: 1.33%\n",
      "MLP Test Error: 1.66%\n",
      "MLP Dropout Test Error: 1.28%\n",
      "Epoch 354/600\n"
     ]
    },
    {
     "name": "stderr",
     "output_type": "stream",
     "text": [
      "100%|██████████| 468/468 [00:17<00:00, 26.46it/s]\n",
      "100%|██████████| 468/468 [00:06<00:00, 69.03it/s]\n",
      "100%|██████████| 468/468 [00:06<00:00, 68.15it/s]\n",
      "100%|██████████| 78/78 [00:17<00:00,  4.40it/s]\n"
     ]
    },
    {
     "name": "stdout",
     "output_type": "stream",
     "text": [
      "bnn_classification validation accuracy: 0.9862780448717948\n"
     ]
    },
    {
     "name": "stderr",
     "output_type": "stream",
     "text": [
      "100%|██████████| 78/78 [00:01<00:00, 71.80it/s]\n"
     ]
    },
    {
     "name": "stdout",
     "output_type": "stream",
     "text": [
      "mlp_classification validation accuracy: 0.9833733974358975\n"
     ]
    },
    {
     "name": "stderr",
     "output_type": "stream",
     "text": [
      "100%|██████████| 78/78 [00:01<00:00, 70.09it/s]\n"
     ]
    },
    {
     "name": "stdout",
     "output_type": "stream",
     "text": [
      "mlp_dropout_classification validation accuracy: 0.9872796474358975\n",
      "BNN Test Error: 1.37%\n",
      "MLP Test Error: 1.66%\n",
      "MLP Dropout Test Error: 1.27%\n",
      "Epoch 355/600\n"
     ]
    },
    {
     "name": "stderr",
     "output_type": "stream",
     "text": [
      "100%|██████████| 468/468 [00:19<00:00, 24.57it/s]\n",
      "100%|██████████| 468/468 [00:07<00:00, 66.85it/s]\n",
      "100%|██████████| 468/468 [00:06<00:00, 67.55it/s]\n",
      "100%|██████████| 78/78 [00:17<00:00,  4.48it/s]\n"
     ]
    },
    {
     "name": "stdout",
     "output_type": "stream",
     "text": [
      "bnn_classification validation accuracy: 0.9863782051282052\n"
     ]
    },
    {
     "name": "stderr",
     "output_type": "stream",
     "text": [
      "100%|██████████| 78/78 [00:01<00:00, 65.13it/s]\n"
     ]
    },
    {
     "name": "stdout",
     "output_type": "stream",
     "text": [
      "mlp_classification validation accuracy: 0.9833733974358975\n"
     ]
    },
    {
     "name": "stderr",
     "output_type": "stream",
     "text": [
      "100%|██████████| 78/78 [00:01<00:00, 71.77it/s]\n"
     ]
    },
    {
     "name": "stdout",
     "output_type": "stream",
     "text": [
      "mlp_dropout_classification validation accuracy: 0.9871794871794872\n",
      "BNN Test Error: 1.36%\n",
      "MLP Test Error: 1.66%\n",
      "MLP Dropout Test Error: 1.28%\n",
      "Epoch 356/600\n"
     ]
    },
    {
     "name": "stderr",
     "output_type": "stream",
     "text": [
      "100%|██████████| 468/468 [00:17<00:00, 27.02it/s]\n",
      "100%|██████████| 468/468 [00:06<00:00, 67.71it/s]\n",
      "100%|██████████| 468/468 [00:07<00:00, 66.30it/s]\n",
      "100%|██████████| 78/78 [00:17<00:00,  4.43it/s]\n"
     ]
    },
    {
     "name": "stdout",
     "output_type": "stream",
     "text": [
      "bnn_classification validation accuracy: 0.9865785256410257\n"
     ]
    },
    {
     "name": "stderr",
     "output_type": "stream",
     "text": [
      "100%|██████████| 78/78 [00:01<00:00, 72.84it/s]\n"
     ]
    },
    {
     "name": "stdout",
     "output_type": "stream",
     "text": [
      "mlp_classification validation accuracy: 0.9833733974358975\n"
     ]
    },
    {
     "name": "stderr",
     "output_type": "stream",
     "text": [
      "100%|██████████| 78/78 [00:01<00:00, 72.87it/s]\n"
     ]
    },
    {
     "name": "stdout",
     "output_type": "stream",
     "text": [
      "mlp_dropout_classification validation accuracy: 0.987479967948718\n",
      "BNN Test Error: 1.34%\n",
      "MLP Test Error: 1.66%\n",
      "MLP Dropout Test Error: 1.25%\n",
      "Epoch 357/600\n"
     ]
    },
    {
     "name": "stderr",
     "output_type": "stream",
     "text": [
      "100%|██████████| 468/468 [00:17<00:00, 26.84it/s]\n",
      "100%|██████████| 468/468 [00:06<00:00, 68.71it/s]\n",
      "100%|██████████| 468/468 [00:07<00:00, 66.72it/s]\n",
      "100%|██████████| 78/78 [00:17<00:00,  4.43it/s]\n"
     ]
    },
    {
     "name": "stdout",
     "output_type": "stream",
     "text": [
      "bnn_classification validation accuracy: 0.9864783653846154\n"
     ]
    },
    {
     "name": "stderr",
     "output_type": "stream",
     "text": [
      "100%|██████████| 78/78 [00:01<00:00, 69.69it/s]\n"
     ]
    },
    {
     "name": "stdout",
     "output_type": "stream",
     "text": [
      "mlp_classification validation accuracy: 0.9833733974358975\n"
     ]
    },
    {
     "name": "stderr",
     "output_type": "stream",
     "text": [
      "100%|██████████| 78/78 [00:01<00:00, 70.94it/s]\n"
     ]
    },
    {
     "name": "stdout",
     "output_type": "stream",
     "text": [
      "mlp_dropout_classification validation accuracy: 0.987479967948718\n",
      "BNN Test Error: 1.35%\n",
      "MLP Test Error: 1.66%\n",
      "MLP Dropout Test Error: 1.25%\n",
      "Epoch 358/600\n"
     ]
    },
    {
     "name": "stderr",
     "output_type": "stream",
     "text": [
      "100%|██████████| 468/468 [00:17<00:00, 26.78it/s]\n",
      "100%|██████████| 468/468 [00:06<00:00, 67.26it/s]\n",
      "100%|██████████| 468/468 [00:07<00:00, 66.27it/s]\n",
      "100%|██████████| 78/78 [00:17<00:00,  4.35it/s]\n"
     ]
    },
    {
     "name": "stdout",
     "output_type": "stream",
     "text": [
      "bnn_classification validation accuracy: 0.9864783653846154\n"
     ]
    },
    {
     "name": "stderr",
     "output_type": "stream",
     "text": [
      "100%|██████████| 78/78 [00:01<00:00, 69.77it/s]\n"
     ]
    },
    {
     "name": "stdout",
     "output_type": "stream",
     "text": [
      "mlp_classification validation accuracy: 0.9833733974358975\n"
     ]
    },
    {
     "name": "stderr",
     "output_type": "stream",
     "text": [
      "100%|██████████| 78/78 [00:01<00:00, 70.89it/s]\n"
     ]
    },
    {
     "name": "stdout",
     "output_type": "stream",
     "text": [
      "mlp_dropout_classification validation accuracy: 0.9873798076923077\n",
      "BNN Test Error: 1.35%\n",
      "MLP Test Error: 1.66%\n",
      "MLP Dropout Test Error: 1.26%\n",
      "Epoch 359/600\n"
     ]
    },
    {
     "name": "stderr",
     "output_type": "stream",
     "text": [
      "100%|██████████| 468/468 [00:17<00:00, 26.20it/s]\n",
      "100%|██████████| 468/468 [00:06<00:00, 68.59it/s]\n",
      "100%|██████████| 468/468 [00:06<00:00, 68.49it/s]\n",
      "100%|██████████| 78/78 [00:18<00:00,  4.32it/s]\n"
     ]
    },
    {
     "name": "stdout",
     "output_type": "stream",
     "text": [
      "bnn_classification validation accuracy: 0.9864783653846154\n"
     ]
    },
    {
     "name": "stderr",
     "output_type": "stream",
     "text": [
      "100%|██████████| 78/78 [00:01<00:00, 69.75it/s]\n"
     ]
    },
    {
     "name": "stdout",
     "output_type": "stream",
     "text": [
      "mlp_classification validation accuracy: 0.9833733974358975\n"
     ]
    },
    {
     "name": "stderr",
     "output_type": "stream",
     "text": [
      "100%|██████████| 78/78 [00:01<00:00, 71.93it/s]\n"
     ]
    },
    {
     "name": "stdout",
     "output_type": "stream",
     "text": [
      "mlp_dropout_classification validation accuracy: 0.9877804487179487\n",
      "BNN Test Error: 1.35%\n",
      "MLP Test Error: 1.66%\n",
      "MLP Dropout Test Error: 1.22%\n",
      "Epoch 360/600\n"
     ]
    },
    {
     "name": "stderr",
     "output_type": "stream",
     "text": [
      "100%|██████████| 468/468 [00:18<00:00, 25.16it/s]\n",
      "100%|██████████| 468/468 [00:06<00:00, 68.51it/s]\n",
      "100%|██████████| 468/468 [00:06<00:00, 68.05it/s]\n",
      "100%|██████████| 78/78 [00:18<00:00,  4.31it/s]\n"
     ]
    },
    {
     "name": "stdout",
     "output_type": "stream",
     "text": [
      "bnn_classification validation accuracy: 0.9864783653846154\n"
     ]
    },
    {
     "name": "stderr",
     "output_type": "stream",
     "text": [
      "100%|██████████| 78/78 [00:01<00:00, 73.11it/s]\n"
     ]
    },
    {
     "name": "stdout",
     "output_type": "stream",
     "text": [
      "mlp_classification validation accuracy: 0.9833733974358975\n"
     ]
    },
    {
     "name": "stderr",
     "output_type": "stream",
     "text": [
      "100%|██████████| 78/78 [00:01<00:00, 71.18it/s]\n"
     ]
    },
    {
     "name": "stdout",
     "output_type": "stream",
     "text": [
      "mlp_dropout_classification validation accuracy: 0.9875801282051282\n",
      "BNN Test Error: 1.35%\n",
      "MLP Test Error: 1.66%\n",
      "MLP Dropout Test Error: 1.24%\n",
      "Epoch 361/600\n"
     ]
    },
    {
     "name": "stderr",
     "output_type": "stream",
     "text": [
      "100%|██████████| 468/468 [00:17<00:00, 27.19it/s]\n",
      "100%|██████████| 468/468 [00:06<00:00, 69.43it/s]\n",
      "100%|██████████| 468/468 [00:07<00:00, 61.22it/s]\n",
      "100%|██████████| 78/78 [00:17<00:00,  4.43it/s]\n"
     ]
    },
    {
     "name": "stdout",
     "output_type": "stream",
     "text": [
      "bnn_classification validation accuracy: 0.9863782051282052\n"
     ]
    },
    {
     "name": "stderr",
     "output_type": "stream",
     "text": [
      "100%|██████████| 78/78 [00:01<00:00, 69.16it/s]\n"
     ]
    },
    {
     "name": "stdout",
     "output_type": "stream",
     "text": [
      "mlp_classification validation accuracy: 0.9833733974358975\n"
     ]
    },
    {
     "name": "stderr",
     "output_type": "stream",
     "text": [
      "100%|██████████| 78/78 [00:01<00:00, 72.45it/s]\n"
     ]
    },
    {
     "name": "stdout",
     "output_type": "stream",
     "text": [
      "mlp_dropout_classification validation accuracy: 0.9875801282051282\n",
      "BNN Test Error: 1.36%\n",
      "MLP Test Error: 1.66%\n",
      "MLP Dropout Test Error: 1.24%\n",
      "Epoch 362/600\n"
     ]
    },
    {
     "name": "stderr",
     "output_type": "stream",
     "text": [
      "100%|██████████| 468/468 [00:17<00:00, 26.27it/s]\n",
      "100%|██████████| 468/468 [00:06<00:00, 69.47it/s]\n",
      "100%|██████████| 468/468 [00:06<00:00, 67.91it/s]\n",
      "100%|██████████| 78/78 [00:19<00:00,  3.98it/s]\n"
     ]
    },
    {
     "name": "stdout",
     "output_type": "stream",
     "text": [
      "bnn_classification validation accuracy: 0.9864783653846154\n"
     ]
    },
    {
     "name": "stderr",
     "output_type": "stream",
     "text": [
      "100%|██████████| 78/78 [00:01<00:00, 72.35it/s]\n"
     ]
    },
    {
     "name": "stdout",
     "output_type": "stream",
     "text": [
      "mlp_classification validation accuracy: 0.9833733974358975\n"
     ]
    },
    {
     "name": "stderr",
     "output_type": "stream",
     "text": [
      "100%|██████████| 78/78 [00:01<00:00, 73.43it/s]\n"
     ]
    },
    {
     "name": "stdout",
     "output_type": "stream",
     "text": [
      "mlp_dropout_classification validation accuracy: 0.9875801282051282\n",
      "BNN Test Error: 1.35%\n",
      "MLP Test Error: 1.66%\n",
      "MLP Dropout Test Error: 1.24%\n",
      "Epoch 363/600\n"
     ]
    },
    {
     "name": "stderr",
     "output_type": "stream",
     "text": [
      "100%|██████████| 468/468 [00:17<00:00, 26.76it/s]\n",
      "100%|██████████| 468/468 [00:06<00:00, 69.03it/s]\n",
      "100%|██████████| 468/468 [00:06<00:00, 68.39it/s]\n",
      "100%|██████████| 78/78 [00:17<00:00,  4.41it/s]\n"
     ]
    },
    {
     "name": "stdout",
     "output_type": "stream",
     "text": [
      "bnn_classification validation accuracy: 0.9864783653846154\n"
     ]
    },
    {
     "name": "stderr",
     "output_type": "stream",
     "text": [
      "100%|██████████| 78/78 [00:01<00:00, 70.96it/s]\n"
     ]
    },
    {
     "name": "stdout",
     "output_type": "stream",
     "text": [
      "mlp_classification validation accuracy: 0.9833733974358975\n"
     ]
    },
    {
     "name": "stderr",
     "output_type": "stream",
     "text": [
      "100%|██████████| 78/78 [00:01<00:00, 73.81it/s]\n"
     ]
    },
    {
     "name": "stdout",
     "output_type": "stream",
     "text": [
      "mlp_dropout_classification validation accuracy: 0.9877804487179487\n",
      "BNN Test Error: 1.35%\n",
      "MLP Test Error: 1.66%\n",
      "MLP Dropout Test Error: 1.22%\n",
      "Epoch 364/600\n"
     ]
    },
    {
     "name": "stderr",
     "output_type": "stream",
     "text": [
      "100%|██████████| 468/468 [00:18<00:00, 25.48it/s]\n",
      "100%|██████████| 468/468 [00:06<00:00, 68.98it/s]\n",
      "100%|██████████| 468/468 [00:06<00:00, 67.68it/s]\n",
      "100%|██████████| 78/78 [00:17<00:00,  4.45it/s]\n"
     ]
    },
    {
     "name": "stdout",
     "output_type": "stream",
     "text": [
      "bnn_classification validation accuracy: 0.9863782051282052\n"
     ]
    },
    {
     "name": "stderr",
     "output_type": "stream",
     "text": [
      "100%|██████████| 78/78 [00:01<00:00, 72.90it/s]\n"
     ]
    },
    {
     "name": "stdout",
     "output_type": "stream",
     "text": [
      "mlp_classification validation accuracy: 0.9833733974358975\n"
     ]
    },
    {
     "name": "stderr",
     "output_type": "stream",
     "text": [
      "100%|██████████| 78/78 [00:01<00:00, 71.04it/s]\n"
     ]
    },
    {
     "name": "stdout",
     "output_type": "stream",
     "text": [
      "mlp_dropout_classification validation accuracy: 0.9878806089743589\n",
      "BNN Test Error: 1.36%\n",
      "MLP Test Error: 1.66%\n",
      "MLP Dropout Test Error: 1.21%\n",
      "Epoch 365/600\n"
     ]
    },
    {
     "name": "stderr",
     "output_type": "stream",
     "text": [
      "100%|██████████| 468/468 [00:17<00:00, 26.29it/s]\n",
      "100%|██████████| 468/468 [00:07<00:00, 64.94it/s]\n",
      "100%|██████████| 468/468 [00:06<00:00, 66.97it/s]\n",
      "100%|██████████| 78/78 [00:18<00:00,  4.30it/s]\n"
     ]
    },
    {
     "name": "stdout",
     "output_type": "stream",
     "text": [
      "bnn_classification validation accuracy: 0.9865785256410257\n"
     ]
    },
    {
     "name": "stderr",
     "output_type": "stream",
     "text": [
      "100%|██████████| 78/78 [00:01<00:00, 67.26it/s]\n"
     ]
    },
    {
     "name": "stdout",
     "output_type": "stream",
     "text": [
      "mlp_classification validation accuracy: 0.9833733974358975\n"
     ]
    },
    {
     "name": "stderr",
     "output_type": "stream",
     "text": [
      "100%|██████████| 78/78 [00:01<00:00, 69.30it/s]\n"
     ]
    },
    {
     "name": "stdout",
     "output_type": "stream",
     "text": [
      "mlp_dropout_classification validation accuracy: 0.9877804487179487\n",
      "BNN Test Error: 1.34%\n",
      "MLP Test Error: 1.66%\n",
      "MLP Dropout Test Error: 1.22%\n",
      "Epoch 366/600\n"
     ]
    },
    {
     "name": "stderr",
     "output_type": "stream",
     "text": [
      "100%|██████████| 468/468 [00:17<00:00, 27.05it/s]\n",
      "100%|██████████| 468/468 [00:07<00:00, 65.62it/s]\n",
      "100%|██████████| 468/468 [00:07<00:00, 66.49it/s]\n",
      "100%|██████████| 78/78 [00:18<00:00,  4.28it/s]\n"
     ]
    },
    {
     "name": "stdout",
     "output_type": "stream",
     "text": [
      "bnn_classification validation accuracy: 0.9865785256410257\n"
     ]
    },
    {
     "name": "stderr",
     "output_type": "stream",
     "text": [
      "100%|██████████| 78/78 [00:01<00:00, 69.28it/s]\n"
     ]
    },
    {
     "name": "stdout",
     "output_type": "stream",
     "text": [
      "mlp_classification validation accuracy: 0.9833733974358975\n"
     ]
    },
    {
     "name": "stderr",
     "output_type": "stream",
     "text": [
      "100%|██████████| 78/78 [00:01<00:00, 65.16it/s]\n"
     ]
    },
    {
     "name": "stdout",
     "output_type": "stream",
     "text": [
      "mlp_dropout_classification validation accuracy: 0.9875801282051282\n",
      "BNN Test Error: 1.34%\n",
      "MLP Test Error: 1.66%\n",
      "MLP Dropout Test Error: 1.24%\n",
      "Epoch 367/600\n"
     ]
    },
    {
     "name": "stderr",
     "output_type": "stream",
     "text": [
      "100%|██████████| 468/468 [00:17<00:00, 26.79it/s]\n",
      "100%|██████████| 468/468 [00:06<00:00, 67.56it/s]\n",
      "100%|██████████| 468/468 [00:07<00:00, 65.34it/s]\n",
      "100%|██████████| 78/78 [00:17<00:00,  4.42it/s]\n"
     ]
    },
    {
     "name": "stdout",
     "output_type": "stream",
     "text": [
      "bnn_classification validation accuracy: 0.9862780448717948\n"
     ]
    },
    {
     "name": "stderr",
     "output_type": "stream",
     "text": [
      "100%|██████████| 78/78 [00:01<00:00, 69.61it/s]\n"
     ]
    },
    {
     "name": "stdout",
     "output_type": "stream",
     "text": [
      "mlp_classification validation accuracy: 0.9833733974358975\n"
     ]
    },
    {
     "name": "stderr",
     "output_type": "stream",
     "text": [
      "100%|██████████| 78/78 [00:01<00:00, 69.76it/s]\n"
     ]
    },
    {
     "name": "stdout",
     "output_type": "stream",
     "text": [
      "mlp_dropout_classification validation accuracy: 0.9875801282051282\n",
      "BNN Test Error: 1.37%\n",
      "MLP Test Error: 1.66%\n",
      "MLP Dropout Test Error: 1.24%\n",
      "Epoch 368/600\n"
     ]
    },
    {
     "name": "stderr",
     "output_type": "stream",
     "text": [
      "100%|██████████| 468/468 [00:17<00:00, 26.18it/s]\n",
      "100%|██████████| 468/468 [00:06<00:00, 68.44it/s]\n",
      "100%|██████████| 468/468 [00:06<00:00, 67.20it/s]\n",
      "100%|██████████| 78/78 [00:18<00:00,  4.28it/s]\n"
     ]
    },
    {
     "name": "stdout",
     "output_type": "stream",
     "text": [
      "bnn_classification validation accuracy: 0.9865785256410257\n"
     ]
    },
    {
     "name": "stderr",
     "output_type": "stream",
     "text": [
      "100%|██████████| 78/78 [00:01<00:00, 71.65it/s]\n"
     ]
    },
    {
     "name": "stdout",
     "output_type": "stream",
     "text": [
      "mlp_classification validation accuracy: 0.9833733974358975\n"
     ]
    },
    {
     "name": "stderr",
     "output_type": "stream",
     "text": [
      "100%|██████████| 78/78 [00:01<00:00, 71.52it/s]\n"
     ]
    },
    {
     "name": "stdout",
     "output_type": "stream",
     "text": [
      "mlp_dropout_classification validation accuracy: 0.987479967948718\n",
      "BNN Test Error: 1.34%\n",
      "MLP Test Error: 1.66%\n",
      "MLP Dropout Test Error: 1.25%\n",
      "Epoch 369/600\n"
     ]
    },
    {
     "name": "stderr",
     "output_type": "stream",
     "text": [
      "100%|██████████| 468/468 [00:18<00:00, 25.55it/s]\n",
      "100%|██████████| 468/468 [00:07<00:00, 64.53it/s]\n",
      "100%|██████████| 468/468 [00:06<00:00, 67.07it/s]\n",
      "100%|██████████| 78/78 [00:17<00:00,  4.41it/s]\n"
     ]
    },
    {
     "name": "stdout",
     "output_type": "stream",
     "text": [
      "bnn_classification validation accuracy: 0.9862780448717948\n"
     ]
    },
    {
     "name": "stderr",
     "output_type": "stream",
     "text": [
      "100%|██████████| 78/78 [00:01<00:00, 69.49it/s]\n"
     ]
    },
    {
     "name": "stdout",
     "output_type": "stream",
     "text": [
      "mlp_classification validation accuracy: 0.9833733974358975\n"
     ]
    },
    {
     "name": "stderr",
     "output_type": "stream",
     "text": [
      "100%|██████████| 78/78 [00:01<00:00, 69.32it/s]\n"
     ]
    },
    {
     "name": "stdout",
     "output_type": "stream",
     "text": [
      "mlp_dropout_classification validation accuracy: 0.9876802884615384\n",
      "BNN Test Error: 1.37%\n",
      "MLP Test Error: 1.66%\n",
      "MLP Dropout Test Error: 1.23%\n",
      "Epoch 370/600\n"
     ]
    },
    {
     "name": "stderr",
     "output_type": "stream",
     "text": [
      "100%|██████████| 468/468 [00:18<00:00, 25.65it/s]\n",
      "100%|██████████| 468/468 [00:06<00:00, 66.86it/s]\n",
      "100%|██████████| 468/468 [00:07<00:00, 65.65it/s]\n",
      "100%|██████████| 78/78 [00:19<00:00,  4.09it/s]\n"
     ]
    },
    {
     "name": "stdout",
     "output_type": "stream",
     "text": [
      "bnn_classification validation accuracy: 0.9863782051282052\n"
     ]
    },
    {
     "name": "stderr",
     "output_type": "stream",
     "text": [
      "100%|██████████| 78/78 [00:01<00:00, 67.81it/s]\n"
     ]
    },
    {
     "name": "stdout",
     "output_type": "stream",
     "text": [
      "mlp_classification validation accuracy: 0.9833733974358975\n"
     ]
    },
    {
     "name": "stderr",
     "output_type": "stream",
     "text": [
      "100%|██████████| 78/78 [00:01<00:00, 69.25it/s]\n"
     ]
    },
    {
     "name": "stdout",
     "output_type": "stream",
     "text": [
      "mlp_dropout_classification validation accuracy: 0.9876802884615384\n",
      "BNN Test Error: 1.36%\n",
      "MLP Test Error: 1.66%\n",
      "MLP Dropout Test Error: 1.23%\n",
      "Epoch 371/600\n"
     ]
    },
    {
     "name": "stderr",
     "output_type": "stream",
     "text": [
      "100%|██████████| 468/468 [00:18<00:00, 25.58it/s]\n",
      "100%|██████████| 468/468 [00:06<00:00, 66.95it/s]\n",
      "100%|██████████| 468/468 [00:07<00:00, 65.45it/s]\n",
      "100%|██████████| 78/78 [00:20<00:00,  3.88it/s]\n"
     ]
    },
    {
     "name": "stdout",
     "output_type": "stream",
     "text": [
      "bnn_classification validation accuracy: 0.9862780448717948\n"
     ]
    },
    {
     "name": "stderr",
     "output_type": "stream",
     "text": [
      "100%|██████████| 78/78 [00:01<00:00, 69.52it/s]\n"
     ]
    },
    {
     "name": "stdout",
     "output_type": "stream",
     "text": [
      "mlp_classification validation accuracy: 0.9833733974358975\n"
     ]
    },
    {
     "name": "stderr",
     "output_type": "stream",
     "text": [
      "100%|██████████| 78/78 [00:01<00:00, 71.71it/s]\n"
     ]
    },
    {
     "name": "stdout",
     "output_type": "stream",
     "text": [
      "mlp_dropout_classification validation accuracy: 0.9876802884615384\n",
      "BNN Test Error: 1.37%\n",
      "MLP Test Error: 1.66%\n",
      "MLP Dropout Test Error: 1.23%\n",
      "Epoch 372/600\n"
     ]
    },
    {
     "name": "stderr",
     "output_type": "stream",
     "text": [
      "100%|██████████| 468/468 [00:17<00:00, 26.89it/s]\n",
      "100%|██████████| 468/468 [00:07<00:00, 66.08it/s]\n",
      "100%|██████████| 468/468 [00:06<00:00, 67.01it/s]\n",
      "100%|██████████| 78/78 [00:17<00:00,  4.37it/s]\n"
     ]
    },
    {
     "name": "stdout",
     "output_type": "stream",
     "text": [
      "bnn_classification validation accuracy: 0.9863782051282052\n"
     ]
    },
    {
     "name": "stderr",
     "output_type": "stream",
     "text": [
      "100%|██████████| 78/78 [00:01<00:00, 71.24it/s]\n"
     ]
    },
    {
     "name": "stdout",
     "output_type": "stream",
     "text": [
      "mlp_classification validation accuracy: 0.9833733974358975\n"
     ]
    },
    {
     "name": "stderr",
     "output_type": "stream",
     "text": [
      "100%|██████████| 78/78 [00:01<00:00, 69.38it/s]\n"
     ]
    },
    {
     "name": "stdout",
     "output_type": "stream",
     "text": [
      "mlp_dropout_classification validation accuracy: 0.9876802884615384\n",
      "BNN Test Error: 1.36%\n",
      "MLP Test Error: 1.66%\n",
      "MLP Dropout Test Error: 1.23%\n",
      "Epoch 373/600\n"
     ]
    },
    {
     "name": "stderr",
     "output_type": "stream",
     "text": [
      "100%|██████████| 468/468 [00:17<00:00, 26.37it/s]\n",
      "100%|██████████| 468/468 [00:06<00:00, 67.95it/s]\n",
      "100%|██████████| 468/468 [00:07<00:00, 66.03it/s]\n",
      "100%|██████████| 78/78 [00:17<00:00,  4.58it/s]\n"
     ]
    },
    {
     "name": "stdout",
     "output_type": "stream",
     "text": [
      "bnn_classification validation accuracy: 0.9865785256410257\n"
     ]
    },
    {
     "name": "stderr",
     "output_type": "stream",
     "text": [
      "100%|██████████| 78/78 [00:01<00:00, 71.97it/s]\n"
     ]
    },
    {
     "name": "stdout",
     "output_type": "stream",
     "text": [
      "mlp_classification validation accuracy: 0.9833733974358975\n"
     ]
    },
    {
     "name": "stderr",
     "output_type": "stream",
     "text": [
      "100%|██████████| 78/78 [00:01<00:00, 71.22it/s]\n"
     ]
    },
    {
     "name": "stdout",
     "output_type": "stream",
     "text": [
      "mlp_dropout_classification validation accuracy: 0.9877804487179487\n",
      "BNN Test Error: 1.34%\n",
      "MLP Test Error: 1.66%\n",
      "MLP Dropout Test Error: 1.22%\n",
      "Epoch 374/600\n"
     ]
    },
    {
     "name": "stderr",
     "output_type": "stream",
     "text": [
      "100%|██████████| 468/468 [00:17<00:00, 26.32it/s]\n",
      "100%|██████████| 468/468 [00:07<00:00, 65.92it/s]\n",
      "100%|██████████| 468/468 [00:07<00:00, 65.68it/s]\n",
      "100%|██████████| 78/78 [00:17<00:00,  4.37it/s]\n"
     ]
    },
    {
     "name": "stdout",
     "output_type": "stream",
     "text": [
      "bnn_classification validation accuracy: 0.9866786858974359\n"
     ]
    },
    {
     "name": "stderr",
     "output_type": "stream",
     "text": [
      "100%|██████████| 78/78 [00:01<00:00, 69.93it/s]\n"
     ]
    },
    {
     "name": "stdout",
     "output_type": "stream",
     "text": [
      "mlp_classification validation accuracy: 0.9833733974358975\n"
     ]
    },
    {
     "name": "stderr",
     "output_type": "stream",
     "text": [
      "100%|██████████| 78/78 [00:01<00:00, 70.99it/s]\n"
     ]
    },
    {
     "name": "stdout",
     "output_type": "stream",
     "text": [
      "mlp_dropout_classification validation accuracy: 0.9876802884615384\n",
      "BNN Test Error: 1.33%\n",
      "MLP Test Error: 1.66%\n",
      "MLP Dropout Test Error: 1.23%\n",
      "Epoch 375/600\n"
     ]
    },
    {
     "name": "stderr",
     "output_type": "stream",
     "text": [
      "100%|██████████| 468/468 [00:17<00:00, 26.84it/s]\n",
      "100%|██████████| 468/468 [00:07<00:00, 66.19it/s]\n",
      "100%|██████████| 468/468 [00:07<00:00, 65.17it/s]\n",
      "100%|██████████| 78/78 [00:16<00:00,  4.62it/s]\n"
     ]
    },
    {
     "name": "stdout",
     "output_type": "stream",
     "text": [
      "bnn_classification validation accuracy: 0.9865785256410257\n"
     ]
    },
    {
     "name": "stderr",
     "output_type": "stream",
     "text": [
      "100%|██████████| 78/78 [00:01<00:00, 70.84it/s]\n"
     ]
    },
    {
     "name": "stdout",
     "output_type": "stream",
     "text": [
      "mlp_classification validation accuracy: 0.9833733974358975\n"
     ]
    },
    {
     "name": "stderr",
     "output_type": "stream",
     "text": [
      "100%|██████████| 78/78 [00:01<00:00, 69.49it/s]\n"
     ]
    },
    {
     "name": "stdout",
     "output_type": "stream",
     "text": [
      "mlp_dropout_classification validation accuracy: 0.9877804487179487\n",
      "BNN Test Error: 1.34%\n",
      "MLP Test Error: 1.66%\n",
      "MLP Dropout Test Error: 1.22%\n",
      "Epoch 376/600\n"
     ]
    },
    {
     "name": "stderr",
     "output_type": "stream",
     "text": [
      "100%|██████████| 468/468 [00:17<00:00, 26.19it/s]\n",
      "100%|██████████| 468/468 [00:06<00:00, 68.47it/s]\n",
      "100%|██████████| 468/468 [00:06<00:00, 67.23it/s]\n",
      "100%|██████████| 78/78 [00:17<00:00,  4.34it/s]\n"
     ]
    },
    {
     "name": "stdout",
     "output_type": "stream",
     "text": [
      "bnn_classification validation accuracy: 0.9865785256410257\n"
     ]
    },
    {
     "name": "stderr",
     "output_type": "stream",
     "text": [
      "100%|██████████| 78/78 [00:01<00:00, 70.62it/s]\n"
     ]
    },
    {
     "name": "stdout",
     "output_type": "stream",
     "text": [
      "mlp_classification validation accuracy: 0.9833733974358975\n"
     ]
    },
    {
     "name": "stderr",
     "output_type": "stream",
     "text": [
      "100%|██████████| 78/78 [00:01<00:00, 72.07it/s]\n"
     ]
    },
    {
     "name": "stdout",
     "output_type": "stream",
     "text": [
      "mlp_dropout_classification validation accuracy: 0.9875801282051282\n",
      "BNN Test Error: 1.34%\n",
      "MLP Test Error: 1.66%\n",
      "MLP Dropout Test Error: 1.24%\n",
      "Epoch 377/600\n"
     ]
    },
    {
     "name": "stderr",
     "output_type": "stream",
     "text": [
      "100%|██████████| 468/468 [00:18<00:00, 25.26it/s]\n",
      "100%|██████████| 468/468 [00:06<00:00, 68.55it/s]\n",
      "100%|██████████| 468/468 [00:06<00:00, 68.55it/s]\n",
      "100%|██████████| 78/78 [00:18<00:00,  4.24it/s]\n"
     ]
    },
    {
     "name": "stdout",
     "output_type": "stream",
     "text": [
      "bnn_classification validation accuracy: 0.9861778846153846\n"
     ]
    },
    {
     "name": "stderr",
     "output_type": "stream",
     "text": [
      "100%|██████████| 78/78 [00:01<00:00, 71.19it/s]\n"
     ]
    },
    {
     "name": "stdout",
     "output_type": "stream",
     "text": [
      "mlp_classification validation accuracy: 0.9833733974358975\n"
     ]
    },
    {
     "name": "stderr",
     "output_type": "stream",
     "text": [
      "100%|██████████| 78/78 [00:01<00:00, 73.73it/s]\n"
     ]
    },
    {
     "name": "stdout",
     "output_type": "stream",
     "text": [
      "mlp_dropout_classification validation accuracy: 0.987479967948718\n",
      "BNN Test Error: 1.38%\n",
      "MLP Test Error: 1.66%\n",
      "MLP Dropout Test Error: 1.25%\n",
      "Epoch 378/600\n"
     ]
    },
    {
     "name": "stderr",
     "output_type": "stream",
     "text": [
      "100%|██████████| 468/468 [00:17<00:00, 26.73it/s]\n",
      "100%|██████████| 468/468 [00:07<00:00, 66.04it/s]\n",
      "100%|██████████| 468/468 [00:07<00:00, 65.30it/s]\n",
      "100%|██████████| 78/78 [00:17<00:00,  4.33it/s]\n"
     ]
    },
    {
     "name": "stdout",
     "output_type": "stream",
     "text": [
      "bnn_classification validation accuracy: 0.9864783653846154\n"
     ]
    },
    {
     "name": "stderr",
     "output_type": "stream",
     "text": [
      "100%|██████████| 78/78 [00:01<00:00, 71.47it/s]\n"
     ]
    },
    {
     "name": "stdout",
     "output_type": "stream",
     "text": [
      "mlp_classification validation accuracy: 0.9833733974358975\n"
     ]
    },
    {
     "name": "stderr",
     "output_type": "stream",
     "text": [
      "100%|██████████| 78/78 [00:01<00:00, 70.76it/s]\n"
     ]
    },
    {
     "name": "stdout",
     "output_type": "stream",
     "text": [
      "mlp_dropout_classification validation accuracy: 0.9876802884615384\n",
      "BNN Test Error: 1.35%\n",
      "MLP Test Error: 1.66%\n",
      "MLP Dropout Test Error: 1.23%\n",
      "Epoch 379/600\n"
     ]
    },
    {
     "name": "stderr",
     "output_type": "stream",
     "text": [
      "100%|██████████| 468/468 [00:17<00:00, 26.15it/s]\n",
      "100%|██████████| 468/468 [00:06<00:00, 68.40it/s]\n",
      "100%|██████████| 468/468 [00:06<00:00, 67.06it/s]\n",
      "100%|██████████| 78/78 [00:19<00:00,  3.91it/s]\n"
     ]
    },
    {
     "name": "stdout",
     "output_type": "stream",
     "text": [
      "bnn_classification validation accuracy: 0.9861778846153846\n"
     ]
    },
    {
     "name": "stderr",
     "output_type": "stream",
     "text": [
      "100%|██████████| 78/78 [00:01<00:00, 72.68it/s]\n"
     ]
    },
    {
     "name": "stdout",
     "output_type": "stream",
     "text": [
      "mlp_classification validation accuracy: 0.9833733974358975\n"
     ]
    },
    {
     "name": "stderr",
     "output_type": "stream",
     "text": [
      "100%|██████████| 78/78 [00:01<00:00, 72.51it/s]\n"
     ]
    },
    {
     "name": "stdout",
     "output_type": "stream",
     "text": [
      "mlp_dropout_classification validation accuracy: 0.987479967948718\n",
      "BNN Test Error: 1.38%\n",
      "MLP Test Error: 1.66%\n",
      "MLP Dropout Test Error: 1.25%\n",
      "Epoch 380/600\n"
     ]
    },
    {
     "name": "stderr",
     "output_type": "stream",
     "text": [
      "100%|██████████| 468/468 [00:17<00:00, 26.00it/s]\n",
      "100%|██████████| 468/468 [00:06<00:00, 68.96it/s]\n",
      "100%|██████████| 468/468 [00:06<00:00, 67.71it/s]\n",
      "100%|██████████| 78/78 [00:18<00:00,  4.20it/s]\n"
     ]
    },
    {
     "name": "stdout",
     "output_type": "stream",
     "text": [
      "bnn_classification validation accuracy: 0.9866786858974359\n"
     ]
    },
    {
     "name": "stderr",
     "output_type": "stream",
     "text": [
      "100%|██████████| 78/78 [00:01<00:00, 70.26it/s]\n"
     ]
    },
    {
     "name": "stdout",
     "output_type": "stream",
     "text": [
      "mlp_classification validation accuracy: 0.9833733974358975\n"
     ]
    },
    {
     "name": "stderr",
     "output_type": "stream",
     "text": [
      "100%|██████████| 78/78 [00:01<00:00, 70.82it/s]\n"
     ]
    },
    {
     "name": "stdout",
     "output_type": "stream",
     "text": [
      "mlp_dropout_classification validation accuracy: 0.987479967948718\n",
      "BNN Test Error: 1.33%\n",
      "MLP Test Error: 1.66%\n",
      "MLP Dropout Test Error: 1.25%\n",
      "Epoch 381/600\n"
     ]
    },
    {
     "name": "stderr",
     "output_type": "stream",
     "text": [
      "100%|██████████| 468/468 [00:17<00:00, 26.78it/s]\n",
      "100%|██████████| 468/468 [00:06<00:00, 68.66it/s]\n",
      "100%|██████████| 468/468 [00:07<00:00, 66.03it/s]\n",
      "100%|██████████| 78/78 [00:17<00:00,  4.47it/s]\n"
     ]
    },
    {
     "name": "stdout",
     "output_type": "stream",
     "text": [
      "bnn_classification validation accuracy: 0.9860777243589743\n"
     ]
    },
    {
     "name": "stderr",
     "output_type": "stream",
     "text": [
      "100%|██████████| 78/78 [00:01<00:00, 71.41it/s]\n"
     ]
    },
    {
     "name": "stdout",
     "output_type": "stream",
     "text": [
      "mlp_classification validation accuracy: 0.9833733974358975\n"
     ]
    },
    {
     "name": "stderr",
     "output_type": "stream",
     "text": [
      "100%|██████████| 78/78 [00:01<00:00, 70.61it/s]\n"
     ]
    },
    {
     "name": "stdout",
     "output_type": "stream",
     "text": [
      "mlp_dropout_classification validation accuracy: 0.9871794871794872\n",
      "BNN Test Error: 1.39%\n",
      "MLP Test Error: 1.66%\n",
      "MLP Dropout Test Error: 1.28%\n",
      "Epoch 382/600\n"
     ]
    },
    {
     "name": "stderr",
     "output_type": "stream",
     "text": [
      "100%|██████████| 468/468 [00:18<00:00, 25.59it/s]\n",
      "100%|██████████| 468/468 [00:06<00:00, 67.46it/s]\n",
      "100%|██████████| 468/468 [00:06<00:00, 67.79it/s]\n",
      "100%|██████████| 78/78 [00:17<00:00,  4.38it/s]\n"
     ]
    },
    {
     "name": "stdout",
     "output_type": "stream",
     "text": [
      "bnn_classification validation accuracy: 0.9864783653846154\n"
     ]
    },
    {
     "name": "stderr",
     "output_type": "stream",
     "text": [
      "100%|██████████| 78/78 [00:01<00:00, 72.29it/s]\n"
     ]
    },
    {
     "name": "stdout",
     "output_type": "stream",
     "text": [
      "mlp_classification validation accuracy: 0.9833733974358975\n"
     ]
    },
    {
     "name": "stderr",
     "output_type": "stream",
     "text": [
      "100%|██████████| 78/78 [00:01<00:00, 73.88it/s]\n"
     ]
    },
    {
     "name": "stdout",
     "output_type": "stream",
     "text": [
      "mlp_dropout_classification validation accuracy: 0.9872796474358975\n",
      "BNN Test Error: 1.35%\n",
      "MLP Test Error: 1.66%\n",
      "MLP Dropout Test Error: 1.27%\n",
      "Epoch 383/600\n"
     ]
    },
    {
     "name": "stderr",
     "output_type": "stream",
     "text": [
      "100%|██████████| 468/468 [00:17<00:00, 26.90it/s]\n",
      "100%|██████████| 468/468 [00:07<00:00, 66.42it/s]\n",
      "100%|██████████| 468/468 [00:07<00:00, 64.90it/s]\n",
      "100%|██████████| 78/78 [00:17<00:00,  4.36it/s]\n"
     ]
    },
    {
     "name": "stdout",
     "output_type": "stream",
     "text": [
      "bnn_classification validation accuracy: 0.9864783653846154\n"
     ]
    },
    {
     "name": "stderr",
     "output_type": "stream",
     "text": [
      "100%|██████████| 78/78 [00:01<00:00, 66.56it/s]\n"
     ]
    },
    {
     "name": "stdout",
     "output_type": "stream",
     "text": [
      "mlp_classification validation accuracy: 0.9833733974358975\n"
     ]
    },
    {
     "name": "stderr",
     "output_type": "stream",
     "text": [
      "100%|██████████| 78/78 [00:01<00:00, 66.81it/s]\n"
     ]
    },
    {
     "name": "stdout",
     "output_type": "stream",
     "text": [
      "mlp_dropout_classification validation accuracy: 0.9872796474358975\n",
      "BNN Test Error: 1.35%\n",
      "MLP Test Error: 1.66%\n",
      "MLP Dropout Test Error: 1.27%\n",
      "Epoch 384/600\n"
     ]
    },
    {
     "name": "stderr",
     "output_type": "stream",
     "text": [
      "100%|██████████| 468/468 [00:17<00:00, 27.17it/s]\n",
      "100%|██████████| 468/468 [00:06<00:00, 67.49it/s]\n",
      "100%|██████████| 468/468 [00:07<00:00, 65.35it/s]\n",
      "100%|██████████| 78/78 [00:18<00:00,  4.22it/s]\n"
     ]
    },
    {
     "name": "stdout",
     "output_type": "stream",
     "text": [
      "bnn_classification validation accuracy: 0.9862780448717948\n"
     ]
    },
    {
     "name": "stderr",
     "output_type": "stream",
     "text": [
      "100%|██████████| 78/78 [00:01<00:00, 69.25it/s]\n"
     ]
    },
    {
     "name": "stdout",
     "output_type": "stream",
     "text": [
      "mlp_classification validation accuracy: 0.9833733974358975\n"
     ]
    },
    {
     "name": "stderr",
     "output_type": "stream",
     "text": [
      "100%|██████████| 78/78 [00:01<00:00, 70.96it/s]\n"
     ]
    },
    {
     "name": "stdout",
     "output_type": "stream",
     "text": [
      "mlp_dropout_classification validation accuracy: 0.9872796474358975\n",
      "BNN Test Error: 1.37%\n",
      "MLP Test Error: 1.66%\n",
      "MLP Dropout Test Error: 1.27%\n",
      "Epoch 385/600\n"
     ]
    },
    {
     "name": "stderr",
     "output_type": "stream",
     "text": [
      "100%|██████████| 468/468 [00:17<00:00, 26.16it/s]\n",
      "100%|██████████| 468/468 [00:06<00:00, 68.51it/s]\n",
      "100%|██████████| 468/468 [00:06<00:00, 67.20it/s]\n",
      "100%|██████████| 78/78 [00:18<00:00,  4.26it/s]\n"
     ]
    },
    {
     "name": "stdout",
     "output_type": "stream",
     "text": [
      "bnn_classification validation accuracy: 0.9863782051282052\n"
     ]
    },
    {
     "name": "stderr",
     "output_type": "stream",
     "text": [
      "100%|██████████| 78/78 [00:01<00:00, 71.65it/s]\n"
     ]
    },
    {
     "name": "stdout",
     "output_type": "stream",
     "text": [
      "mlp_classification validation accuracy: 0.9833733974358975\n"
     ]
    },
    {
     "name": "stderr",
     "output_type": "stream",
     "text": [
      "100%|██████████| 78/78 [00:01<00:00, 71.27it/s]\n"
     ]
    },
    {
     "name": "stdout",
     "output_type": "stream",
     "text": [
      "mlp_dropout_classification validation accuracy: 0.9872796474358975\n",
      "BNN Test Error: 1.36%\n",
      "MLP Test Error: 1.66%\n",
      "MLP Dropout Test Error: 1.27%\n",
      "Epoch 386/600\n"
     ]
    },
    {
     "name": "stderr",
     "output_type": "stream",
     "text": [
      "100%|██████████| 468/468 [00:17<00:00, 26.86it/s]\n",
      "100%|██████████| 468/468 [00:06<00:00, 67.23it/s]\n",
      "100%|██████████| 468/468 [00:06<00:00, 66.96it/s]\n",
      "100%|██████████| 78/78 [00:17<00:00,  4.49it/s]\n"
     ]
    },
    {
     "name": "stdout",
     "output_type": "stream",
     "text": [
      "bnn_classification validation accuracy: 0.9865785256410257\n"
     ]
    },
    {
     "name": "stderr",
     "output_type": "stream",
     "text": [
      "100%|██████████| 78/78 [00:01<00:00, 72.43it/s]\n"
     ]
    },
    {
     "name": "stdout",
     "output_type": "stream",
     "text": [
      "mlp_classification validation accuracy: 0.9833733974358975\n"
     ]
    },
    {
     "name": "stderr",
     "output_type": "stream",
     "text": [
      "100%|██████████| 78/78 [00:01<00:00, 71.04it/s]\n"
     ]
    },
    {
     "name": "stdout",
     "output_type": "stream",
     "text": [
      "mlp_dropout_classification validation accuracy: 0.9872796474358975\n",
      "BNN Test Error: 1.34%\n",
      "MLP Test Error: 1.66%\n",
      "MLP Dropout Test Error: 1.27%\n",
      "Epoch 387/600\n"
     ]
    },
    {
     "name": "stderr",
     "output_type": "stream",
     "text": [
      "100%|██████████| 468/468 [00:17<00:00, 26.42it/s]\n",
      "100%|██████████| 468/468 [00:06<00:00, 67.24it/s]\n",
      "100%|██████████| 468/468 [00:07<00:00, 64.54it/s]\n",
      "100%|██████████| 78/78 [00:18<00:00,  4.22it/s]\n"
     ]
    },
    {
     "name": "stdout",
     "output_type": "stream",
     "text": [
      "bnn_classification validation accuracy: 0.9861778846153846\n"
     ]
    },
    {
     "name": "stderr",
     "output_type": "stream",
     "text": [
      "100%|██████████| 78/78 [00:01<00:00, 70.00it/s]\n"
     ]
    },
    {
     "name": "stdout",
     "output_type": "stream",
     "text": [
      "mlp_classification validation accuracy: 0.9833733974358975\n"
     ]
    },
    {
     "name": "stderr",
     "output_type": "stream",
     "text": [
      "100%|██████████| 78/78 [00:01<00:00, 71.32it/s]\n"
     ]
    },
    {
     "name": "stdout",
     "output_type": "stream",
     "text": [
      "mlp_dropout_classification validation accuracy: 0.9872796474358975\n",
      "BNN Test Error: 1.38%\n",
      "MLP Test Error: 1.66%\n",
      "MLP Dropout Test Error: 1.27%\n",
      "Epoch 388/600\n"
     ]
    },
    {
     "name": "stderr",
     "output_type": "stream",
     "text": [
      "100%|██████████| 468/468 [00:18<00:00, 25.89it/s]\n",
      "100%|██████████| 468/468 [00:07<00:00, 66.11it/s]\n",
      "100%|██████████| 468/468 [00:07<00:00, 65.01it/s]\n",
      "100%|██████████| 78/78 [00:19<00:00,  3.92it/s]\n"
     ]
    },
    {
     "name": "stdout",
     "output_type": "stream",
     "text": [
      "bnn_classification validation accuracy: 0.9863782051282052\n"
     ]
    },
    {
     "name": "stderr",
     "output_type": "stream",
     "text": [
      "100%|██████████| 78/78 [00:01<00:00, 68.76it/s]\n"
     ]
    },
    {
     "name": "stdout",
     "output_type": "stream",
     "text": [
      "mlp_classification validation accuracy: 0.9833733974358975\n"
     ]
    },
    {
     "name": "stderr",
     "output_type": "stream",
     "text": [
      "100%|██████████| 78/78 [00:01<00:00, 70.11it/s]\n"
     ]
    },
    {
     "name": "stdout",
     "output_type": "stream",
     "text": [
      "mlp_dropout_classification validation accuracy: 0.9877804487179487\n",
      "BNN Test Error: 1.36%\n",
      "MLP Test Error: 1.66%\n",
      "MLP Dropout Test Error: 1.22%\n",
      "Epoch 389/600\n"
     ]
    },
    {
     "name": "stderr",
     "output_type": "stream",
     "text": [
      "100%|██████████| 468/468 [00:17<00:00, 26.52it/s]\n",
      "100%|██████████| 468/468 [00:07<00:00, 66.19it/s]\n",
      "100%|██████████| 468/468 [00:07<00:00, 66.38it/s]\n",
      "100%|██████████| 78/78 [00:18<00:00,  4.31it/s]\n"
     ]
    },
    {
     "name": "stdout",
     "output_type": "stream",
     "text": [
      "bnn_classification validation accuracy: 0.9864783653846154\n"
     ]
    },
    {
     "name": "stderr",
     "output_type": "stream",
     "text": [
      "100%|██████████| 78/78 [00:01<00:00, 73.29it/s]\n"
     ]
    },
    {
     "name": "stdout",
     "output_type": "stream",
     "text": [
      "mlp_classification validation accuracy: 0.9833733974358975\n"
     ]
    },
    {
     "name": "stderr",
     "output_type": "stream",
     "text": [
      "100%|██████████| 78/78 [00:01<00:00, 73.31it/s]\n"
     ]
    },
    {
     "name": "stdout",
     "output_type": "stream",
     "text": [
      "mlp_dropout_classification validation accuracy: 0.9876802884615384\n",
      "BNN Test Error: 1.35%\n",
      "MLP Test Error: 1.66%\n",
      "MLP Dropout Test Error: 1.23%\n",
      "Epoch 390/600\n"
     ]
    },
    {
     "name": "stderr",
     "output_type": "stream",
     "text": [
      "100%|██████████| 468/468 [00:18<00:00, 24.86it/s]\n",
      "100%|██████████| 468/468 [00:06<00:00, 68.14it/s]\n",
      "100%|██████████| 468/468 [00:06<00:00, 67.33it/s]\n",
      "100%|██████████| 78/78 [00:18<00:00,  4.24it/s]\n"
     ]
    },
    {
     "name": "stdout",
     "output_type": "stream",
     "text": [
      "bnn_classification validation accuracy: 0.9864783653846154\n"
     ]
    },
    {
     "name": "stderr",
     "output_type": "stream",
     "text": [
      "100%|██████████| 78/78 [00:01<00:00, 71.38it/s]\n"
     ]
    },
    {
     "name": "stdout",
     "output_type": "stream",
     "text": [
      "mlp_classification validation accuracy: 0.9833733974358975\n"
     ]
    },
    {
     "name": "stderr",
     "output_type": "stream",
     "text": [
      "100%|██████████| 78/78 [00:01<00:00, 69.98it/s]\n"
     ]
    },
    {
     "name": "stdout",
     "output_type": "stream",
     "text": [
      "mlp_dropout_classification validation accuracy: 0.9870793269230769\n",
      "BNN Test Error: 1.35%\n",
      "MLP Test Error: 1.66%\n",
      "MLP Dropout Test Error: 1.29%\n",
      "Epoch 391/600\n"
     ]
    },
    {
     "name": "stderr",
     "output_type": "stream",
     "text": [
      "100%|██████████| 468/468 [00:17<00:00, 26.01it/s]\n",
      "100%|██████████| 468/468 [00:07<00:00, 66.44it/s]\n",
      "100%|██████████| 468/468 [00:06<00:00, 68.08it/s]\n",
      "100%|██████████| 78/78 [00:17<00:00,  4.36it/s]\n"
     ]
    },
    {
     "name": "stdout",
     "output_type": "stream",
     "text": [
      "bnn_classification validation accuracy: 0.9863782051282052\n"
     ]
    },
    {
     "name": "stderr",
     "output_type": "stream",
     "text": [
      "100%|██████████| 78/78 [00:01<00:00, 72.21it/s]\n"
     ]
    },
    {
     "name": "stdout",
     "output_type": "stream",
     "text": [
      "mlp_classification validation accuracy: 0.9833733974358975\n"
     ]
    },
    {
     "name": "stderr",
     "output_type": "stream",
     "text": [
      "100%|██████████| 78/78 [00:01<00:00, 71.45it/s]\n"
     ]
    },
    {
     "name": "stdout",
     "output_type": "stream",
     "text": [
      "mlp_dropout_classification validation accuracy: 0.9871794871794872\n",
      "BNN Test Error: 1.36%\n",
      "MLP Test Error: 1.66%\n",
      "MLP Dropout Test Error: 1.28%\n",
      "Epoch 392/600\n"
     ]
    },
    {
     "name": "stderr",
     "output_type": "stream",
     "text": [
      "100%|██████████| 468/468 [00:17<00:00, 26.97it/s]\n",
      "100%|██████████| 468/468 [00:06<00:00, 67.50it/s]\n",
      "100%|██████████| 468/468 [00:06<00:00, 67.28it/s]\n",
      "100%|██████████| 78/78 [00:18<00:00,  4.32it/s]\n"
     ]
    },
    {
     "name": "stdout",
     "output_type": "stream",
     "text": [
      "bnn_classification validation accuracy: 0.9866786858974359\n"
     ]
    },
    {
     "name": "stderr",
     "output_type": "stream",
     "text": [
      "100%|██████████| 78/78 [00:01<00:00, 70.45it/s]\n"
     ]
    },
    {
     "name": "stdout",
     "output_type": "stream",
     "text": [
      "mlp_classification validation accuracy: 0.9833733974358975\n"
     ]
    },
    {
     "name": "stderr",
     "output_type": "stream",
     "text": [
      "100%|██████████| 78/78 [00:01<00:00, 73.75it/s]\n"
     ]
    },
    {
     "name": "stdout",
     "output_type": "stream",
     "text": [
      "mlp_dropout_classification validation accuracy: 0.9871794871794872\n",
      "BNN Test Error: 1.33%\n",
      "MLP Test Error: 1.66%\n",
      "MLP Dropout Test Error: 1.28%\n",
      "Epoch 393/600\n"
     ]
    },
    {
     "name": "stderr",
     "output_type": "stream",
     "text": [
      "100%|██████████| 468/468 [00:17<00:00, 26.82it/s]\n",
      "100%|██████████| 468/468 [00:06<00:00, 68.10it/s]\n",
      "100%|██████████| 468/468 [00:06<00:00, 68.11it/s]\n",
      "100%|██████████| 78/78 [00:18<00:00,  4.29it/s]\n"
     ]
    },
    {
     "name": "stdout",
     "output_type": "stream",
     "text": [
      "bnn_classification validation accuracy: 0.9861778846153846\n"
     ]
    },
    {
     "name": "stderr",
     "output_type": "stream",
     "text": [
      "100%|██████████| 78/78 [00:01<00:00, 70.46it/s]\n"
     ]
    },
    {
     "name": "stdout",
     "output_type": "stream",
     "text": [
      "mlp_classification validation accuracy: 0.9833733974358975\n"
     ]
    },
    {
     "name": "stderr",
     "output_type": "stream",
     "text": [
      "100%|██████████| 78/78 [00:01<00:00, 69.48it/s]\n"
     ]
    },
    {
     "name": "stdout",
     "output_type": "stream",
     "text": [
      "mlp_dropout_classification validation accuracy: 0.9872796474358975\n",
      "BNN Test Error: 1.38%\n",
      "MLP Test Error: 1.66%\n",
      "MLP Dropout Test Error: 1.27%\n",
      "Epoch 394/600\n"
     ]
    },
    {
     "name": "stderr",
     "output_type": "stream",
     "text": [
      "100%|██████████| 468/468 [00:18<00:00, 25.65it/s]\n",
      "100%|██████████| 468/468 [00:06<00:00, 68.64it/s]\n",
      "100%|██████████| 468/468 [00:06<00:00, 67.30it/s]\n",
      "100%|██████████| 78/78 [00:17<00:00,  4.35it/s]\n"
     ]
    },
    {
     "name": "stdout",
     "output_type": "stream",
     "text": [
      "bnn_classification validation accuracy: 0.9864783653846154\n"
     ]
    },
    {
     "name": "stderr",
     "output_type": "stream",
     "text": [
      "100%|██████████| 78/78 [00:01<00:00, 71.87it/s]\n"
     ]
    },
    {
     "name": "stdout",
     "output_type": "stream",
     "text": [
      "mlp_classification validation accuracy: 0.9833733974358975\n"
     ]
    },
    {
     "name": "stderr",
     "output_type": "stream",
     "text": [
      "100%|██████████| 78/78 [00:01<00:00, 71.26it/s]\n"
     ]
    },
    {
     "name": "stdout",
     "output_type": "stream",
     "text": [
      "mlp_dropout_classification validation accuracy: 0.9871794871794872\n",
      "BNN Test Error: 1.35%\n",
      "MLP Test Error: 1.66%\n",
      "MLP Dropout Test Error: 1.28%\n",
      "Epoch 395/600\n"
     ]
    },
    {
     "name": "stderr",
     "output_type": "stream",
     "text": [
      "100%|██████████| 468/468 [00:17<00:00, 26.51it/s]\n",
      "100%|██████████| 468/468 [00:06<00:00, 67.12it/s]\n",
      "100%|██████████| 468/468 [00:07<00:00, 66.22it/s]\n",
      "100%|██████████| 78/78 [00:17<00:00,  4.48it/s]\n"
     ]
    },
    {
     "name": "stdout",
     "output_type": "stream",
     "text": [
      "bnn_classification validation accuracy: 0.9862780448717948\n"
     ]
    },
    {
     "name": "stderr",
     "output_type": "stream",
     "text": [
      "100%|██████████| 78/78 [00:01<00:00, 72.06it/s]\n"
     ]
    },
    {
     "name": "stdout",
     "output_type": "stream",
     "text": [
      "mlp_classification validation accuracy: 0.9833733974358975\n"
     ]
    },
    {
     "name": "stderr",
     "output_type": "stream",
     "text": [
      "100%|██████████| 78/78 [00:01<00:00, 72.90it/s]\n"
     ]
    },
    {
     "name": "stdout",
     "output_type": "stream",
     "text": [
      "mlp_dropout_classification validation accuracy: 0.9872796474358975\n",
      "BNN Test Error: 1.37%\n",
      "MLP Test Error: 1.66%\n",
      "MLP Dropout Test Error: 1.27%\n",
      "Epoch 396/600\n"
     ]
    },
    {
     "name": "stderr",
     "output_type": "stream",
     "text": [
      "100%|██████████| 468/468 [00:16<00:00, 28.08it/s]\n",
      "100%|██████████| 468/468 [00:06<00:00, 68.92it/s]\n",
      "100%|██████████| 468/468 [00:06<00:00, 68.36it/s]\n",
      "100%|██████████| 78/78 [00:18<00:00,  4.12it/s]\n"
     ]
    },
    {
     "name": "stdout",
     "output_type": "stream",
     "text": [
      "bnn_classification validation accuracy: 0.9863782051282052\n"
     ]
    },
    {
     "name": "stderr",
     "output_type": "stream",
     "text": [
      "100%|██████████| 78/78 [00:01<00:00, 72.88it/s]\n"
     ]
    },
    {
     "name": "stdout",
     "output_type": "stream",
     "text": [
      "mlp_classification validation accuracy: 0.9833733974358975\n"
     ]
    },
    {
     "name": "stderr",
     "output_type": "stream",
     "text": [
      "100%|██████████| 78/78 [00:01<00:00, 72.22it/s]\n"
     ]
    },
    {
     "name": "stdout",
     "output_type": "stream",
     "text": [
      "mlp_dropout_classification validation accuracy: 0.9872796474358975\n",
      "BNN Test Error: 1.36%\n",
      "MLP Test Error: 1.66%\n",
      "MLP Dropout Test Error: 1.27%\n",
      "Epoch 397/600\n"
     ]
    },
    {
     "name": "stderr",
     "output_type": "stream",
     "text": [
      "100%|██████████| 468/468 [00:17<00:00, 27.16it/s]\n",
      "100%|██████████| 468/468 [00:06<00:00, 66.89it/s]\n",
      "100%|██████████| 468/468 [00:06<00:00, 68.04it/s]\n",
      "100%|██████████| 78/78 [00:16<00:00,  4.63it/s]\n"
     ]
    },
    {
     "name": "stdout",
     "output_type": "stream",
     "text": [
      "bnn_classification validation accuracy: 0.9865785256410257\n"
     ]
    },
    {
     "name": "stderr",
     "output_type": "stream",
     "text": [
      "100%|██████████| 78/78 [00:01<00:00, 71.14it/s]\n"
     ]
    },
    {
     "name": "stdout",
     "output_type": "stream",
     "text": [
      "mlp_classification validation accuracy: 0.9833733974358975\n"
     ]
    },
    {
     "name": "stderr",
     "output_type": "stream",
     "text": [
      "100%|██████████| 78/78 [00:01<00:00, 65.87it/s]\n"
     ]
    },
    {
     "name": "stdout",
     "output_type": "stream",
     "text": [
      "mlp_dropout_classification validation accuracy: 0.987479967948718\n",
      "BNN Test Error: 1.34%\n",
      "MLP Test Error: 1.66%\n",
      "MLP Dropout Test Error: 1.25%\n",
      "Epoch 398/600\n"
     ]
    },
    {
     "name": "stderr",
     "output_type": "stream",
     "text": [
      "100%|██████████| 468/468 [00:17<00:00, 26.43it/s]\n",
      "100%|██████████| 468/468 [00:06<00:00, 68.95it/s]\n",
      "100%|██████████| 468/468 [00:06<00:00, 67.58it/s]\n",
      "100%|██████████| 78/78 [00:17<00:00,  4.37it/s]\n"
     ]
    },
    {
     "name": "stdout",
     "output_type": "stream",
     "text": [
      "bnn_classification validation accuracy: 0.9863782051282052\n"
     ]
    },
    {
     "name": "stderr",
     "output_type": "stream",
     "text": [
      "100%|██████████| 78/78 [00:01<00:00, 71.71it/s]\n"
     ]
    },
    {
     "name": "stdout",
     "output_type": "stream",
     "text": [
      "mlp_classification validation accuracy: 0.9833733974358975\n"
     ]
    },
    {
     "name": "stderr",
     "output_type": "stream",
     "text": [
      "100%|██████████| 78/78 [00:01<00:00, 72.10it/s]\n"
     ]
    },
    {
     "name": "stdout",
     "output_type": "stream",
     "text": [
      "mlp_dropout_classification validation accuracy: 0.9875801282051282\n",
      "BNN Test Error: 1.36%\n",
      "MLP Test Error: 1.66%\n",
      "MLP Dropout Test Error: 1.24%\n",
      "Epoch 399/600\n"
     ]
    },
    {
     "name": "stderr",
     "output_type": "stream",
     "text": [
      "100%|██████████| 468/468 [00:17<00:00, 26.18it/s]\n",
      "100%|██████████| 468/468 [00:07<00:00, 66.59it/s]\n",
      "100%|██████████| 468/468 [00:06<00:00, 67.01it/s]\n",
      "100%|██████████| 78/78 [00:17<00:00,  4.37it/s]\n"
     ]
    },
    {
     "name": "stdout",
     "output_type": "stream",
     "text": [
      "bnn_classification validation accuracy: 0.9860777243589743\n"
     ]
    },
    {
     "name": "stderr",
     "output_type": "stream",
     "text": [
      "100%|██████████| 78/78 [00:01<00:00, 69.90it/s]\n"
     ]
    },
    {
     "name": "stdout",
     "output_type": "stream",
     "text": [
      "mlp_classification validation accuracy: 0.9833733974358975\n"
     ]
    },
    {
     "name": "stderr",
     "output_type": "stream",
     "text": [
      "100%|██████████| 78/78 [00:01<00:00, 72.77it/s]\n"
     ]
    },
    {
     "name": "stdout",
     "output_type": "stream",
     "text": [
      "mlp_dropout_classification validation accuracy: 0.9875801282051282\n",
      "BNN Test Error: 1.39%\n",
      "MLP Test Error: 1.66%\n",
      "MLP Dropout Test Error: 1.24%\n",
      "Epoch 400/600\n"
     ]
    },
    {
     "name": "stderr",
     "output_type": "stream",
     "text": [
      "100%|██████████| 468/468 [00:17<00:00, 26.82it/s]\n",
      "100%|██████████| 468/468 [00:07<00:00, 64.51it/s]\n",
      "100%|██████████| 468/468 [00:07<00:00, 64.58it/s]\n",
      "100%|██████████| 78/78 [00:17<00:00,  4.33it/s]\n"
     ]
    },
    {
     "name": "stdout",
     "output_type": "stream",
     "text": [
      "bnn_classification validation accuracy: 0.9865785256410257\n"
     ]
    },
    {
     "name": "stderr",
     "output_type": "stream",
     "text": [
      "100%|██████████| 78/78 [00:01<00:00, 68.52it/s]\n"
     ]
    },
    {
     "name": "stdout",
     "output_type": "stream",
     "text": [
      "mlp_classification validation accuracy: 0.9833733974358975\n"
     ]
    },
    {
     "name": "stderr",
     "output_type": "stream",
     "text": [
      "100%|██████████| 78/78 [00:01<00:00, 68.31it/s]\n"
     ]
    },
    {
     "name": "stdout",
     "output_type": "stream",
     "text": [
      "mlp_dropout_classification validation accuracy: 0.9872796474358975\n",
      "BNN Test Error: 1.34%\n",
      "MLP Test Error: 1.66%\n",
      "MLP Dropout Test Error: 1.27%\n",
      "Epoch 401/600\n"
     ]
    },
    {
     "name": "stderr",
     "output_type": "stream",
     "text": [
      "100%|██████████| 468/468 [00:18<00:00, 25.46it/s]\n",
      "100%|██████████| 468/468 [00:07<00:00, 66.34it/s]\n",
      "100%|██████████| 468/468 [00:07<00:00, 65.81it/s]\n",
      "100%|██████████| 78/78 [00:18<00:00,  4.12it/s]\n"
     ]
    },
    {
     "name": "stdout",
     "output_type": "stream",
     "text": [
      "bnn_classification validation accuracy: 0.9867788461538461\n"
     ]
    },
    {
     "name": "stderr",
     "output_type": "stream",
     "text": [
      "100%|██████████| 78/78 [00:01<00:00, 68.23it/s]\n"
     ]
    },
    {
     "name": "stdout",
     "output_type": "stream",
     "text": [
      "mlp_classification validation accuracy: 0.9833733974358975\n"
     ]
    },
    {
     "name": "stderr",
     "output_type": "stream",
     "text": [
      "100%|██████████| 78/78 [00:01<00:00, 68.09it/s]\n"
     ]
    },
    {
     "name": "stdout",
     "output_type": "stream",
     "text": [
      "mlp_dropout_classification validation accuracy: 0.9873798076923077\n",
      "BNN Test Error: 1.32%\n",
      "MLP Test Error: 1.66%\n",
      "MLP Dropout Test Error: 1.26%\n",
      "Epoch 402/600\n"
     ]
    },
    {
     "name": "stderr",
     "output_type": "stream",
     "text": [
      "100%|██████████| 468/468 [00:18<00:00, 25.98it/s]\n",
      "100%|██████████| 468/468 [00:06<00:00, 68.33it/s]\n",
      "100%|██████████| 468/468 [00:06<00:00, 67.62it/s]\n",
      "100%|██████████| 78/78 [00:18<00:00,  4.14it/s]\n"
     ]
    },
    {
     "name": "stdout",
     "output_type": "stream",
     "text": [
      "bnn_classification validation accuracy: 0.9865785256410257\n"
     ]
    },
    {
     "name": "stderr",
     "output_type": "stream",
     "text": [
      "100%|██████████| 78/78 [00:01<00:00, 71.74it/s]\n"
     ]
    },
    {
     "name": "stdout",
     "output_type": "stream",
     "text": [
      "mlp_classification validation accuracy: 0.9833733974358975\n"
     ]
    },
    {
     "name": "stderr",
     "output_type": "stream",
     "text": [
      "100%|██████████| 78/78 [00:01<00:00, 70.47it/s]\n"
     ]
    },
    {
     "name": "stdout",
     "output_type": "stream",
     "text": [
      "mlp_dropout_classification validation accuracy: 0.9871794871794872\n",
      "BNN Test Error: 1.34%\n",
      "MLP Test Error: 1.66%\n",
      "MLP Dropout Test Error: 1.28%\n",
      "Epoch 403/600\n"
     ]
    },
    {
     "name": "stderr",
     "output_type": "stream",
     "text": [
      "100%|██████████| 468/468 [00:18<00:00, 25.55it/s]\n",
      "100%|██████████| 468/468 [00:07<00:00, 66.76it/s]\n",
      "100%|██████████| 468/468 [00:06<00:00, 67.31it/s]\n",
      "100%|██████████| 78/78 [00:17<00:00,  4.38it/s]\n"
     ]
    },
    {
     "name": "stdout",
     "output_type": "stream",
     "text": [
      "bnn_classification validation accuracy: 0.9864783653846154\n"
     ]
    },
    {
     "name": "stderr",
     "output_type": "stream",
     "text": [
      "100%|██████████| 78/78 [00:01<00:00, 71.81it/s]\n"
     ]
    },
    {
     "name": "stdout",
     "output_type": "stream",
     "text": [
      "mlp_classification validation accuracy: 0.9833733974358975\n"
     ]
    },
    {
     "name": "stderr",
     "output_type": "stream",
     "text": [
      "100%|██████████| 78/78 [00:01<00:00, 71.40it/s]\n"
     ]
    },
    {
     "name": "stdout",
     "output_type": "stream",
     "text": [
      "mlp_dropout_classification validation accuracy: 0.9872796474358975\n",
      "BNN Test Error: 1.35%\n",
      "MLP Test Error: 1.66%\n",
      "MLP Dropout Test Error: 1.27%\n",
      "Epoch 404/600\n"
     ]
    },
    {
     "name": "stderr",
     "output_type": "stream",
     "text": [
      "100%|██████████| 468/468 [00:18<00:00, 25.99it/s]\n",
      "100%|██████████| 468/468 [00:07<00:00, 66.57it/s]\n",
      "100%|██████████| 468/468 [00:07<00:00, 64.07it/s]\n",
      "100%|██████████| 78/78 [00:18<00:00,  4.29it/s]\n"
     ]
    },
    {
     "name": "stdout",
     "output_type": "stream",
     "text": [
      "bnn_classification validation accuracy: 0.9862780448717948\n"
     ]
    },
    {
     "name": "stderr",
     "output_type": "stream",
     "text": [
      "100%|██████████| 78/78 [00:01<00:00, 72.83it/s]\n"
     ]
    },
    {
     "name": "stdout",
     "output_type": "stream",
     "text": [
      "mlp_classification validation accuracy: 0.9833733974358975\n"
     ]
    },
    {
     "name": "stderr",
     "output_type": "stream",
     "text": [
      "100%|██████████| 78/78 [00:01<00:00, 70.09it/s]\n"
     ]
    },
    {
     "name": "stdout",
     "output_type": "stream",
     "text": [
      "mlp_dropout_classification validation accuracy: 0.9873798076923077\n",
      "BNN Test Error: 1.37%\n",
      "MLP Test Error: 1.66%\n",
      "MLP Dropout Test Error: 1.26%\n",
      "Epoch 405/600\n"
     ]
    },
    {
     "name": "stderr",
     "output_type": "stream",
     "text": [
      "100%|██████████| 468/468 [00:17<00:00, 26.83it/s]\n",
      "100%|██████████| 468/468 [00:06<00:00, 68.13it/s]\n",
      "100%|██████████| 468/468 [00:06<00:00, 67.07it/s]\n",
      "100%|██████████| 78/78 [00:19<00:00,  3.92it/s]\n"
     ]
    },
    {
     "name": "stdout",
     "output_type": "stream",
     "text": [
      "bnn_classification validation accuracy: 0.9861778846153846\n"
     ]
    },
    {
     "name": "stderr",
     "output_type": "stream",
     "text": [
      "100%|██████████| 78/78 [00:01<00:00, 72.15it/s]\n"
     ]
    },
    {
     "name": "stdout",
     "output_type": "stream",
     "text": [
      "mlp_classification validation accuracy: 0.9833733974358975\n"
     ]
    },
    {
     "name": "stderr",
     "output_type": "stream",
     "text": [
      "100%|██████████| 78/78 [00:01<00:00, 72.06it/s]\n"
     ]
    },
    {
     "name": "stdout",
     "output_type": "stream",
     "text": [
      "mlp_dropout_classification validation accuracy: 0.9873798076923077\n",
      "BNN Test Error: 1.38%\n",
      "MLP Test Error: 1.66%\n",
      "MLP Dropout Test Error: 1.26%\n",
      "Epoch 406/600\n"
     ]
    },
    {
     "name": "stderr",
     "output_type": "stream",
     "text": [
      "100%|██████████| 468/468 [00:17<00:00, 26.79it/s]\n",
      "100%|██████████| 468/468 [00:07<00:00, 66.83it/s]\n",
      "100%|██████████| 468/468 [00:06<00:00, 67.26it/s]\n",
      "100%|██████████| 78/78 [00:17<00:00,  4.44it/s]\n"
     ]
    },
    {
     "name": "stdout",
     "output_type": "stream",
     "text": [
      "bnn_classification validation accuracy: 0.9864783653846154\n"
     ]
    },
    {
     "name": "stderr",
     "output_type": "stream",
     "text": [
      "100%|██████████| 78/78 [00:01<00:00, 73.12it/s]\n"
     ]
    },
    {
     "name": "stdout",
     "output_type": "stream",
     "text": [
      "mlp_classification validation accuracy: 0.9833733974358975\n"
     ]
    },
    {
     "name": "stderr",
     "output_type": "stream",
     "text": [
      "100%|██████████| 78/78 [00:01<00:00, 72.66it/s]\n"
     ]
    },
    {
     "name": "stdout",
     "output_type": "stream",
     "text": [
      "mlp_dropout_classification validation accuracy: 0.9872796474358975\n",
      "BNN Test Error: 1.35%\n",
      "MLP Test Error: 1.66%\n",
      "MLP Dropout Test Error: 1.27%\n",
      "Epoch 407/600\n"
     ]
    },
    {
     "name": "stderr",
     "output_type": "stream",
     "text": [
      "100%|██████████| 468/468 [00:19<00:00, 24.44it/s]\n",
      "100%|██████████| 468/468 [00:06<00:00, 68.13it/s]\n",
      "100%|██████████| 468/468 [00:06<00:00, 67.21it/s]\n",
      "100%|██████████| 78/78 [00:17<00:00,  4.35it/s]\n"
     ]
    },
    {
     "name": "stdout",
     "output_type": "stream",
     "text": [
      "bnn_classification validation accuracy: 0.9860777243589743\n"
     ]
    },
    {
     "name": "stderr",
     "output_type": "stream",
     "text": [
      "100%|██████████| 78/78 [00:01<00:00, 72.77it/s]\n"
     ]
    },
    {
     "name": "stdout",
     "output_type": "stream",
     "text": [
      "mlp_classification validation accuracy: 0.9833733974358975\n"
     ]
    },
    {
     "name": "stderr",
     "output_type": "stream",
     "text": [
      "100%|██████████| 78/78 [00:01<00:00, 71.09it/s]\n"
     ]
    },
    {
     "name": "stdout",
     "output_type": "stream",
     "text": [
      "mlp_dropout_classification validation accuracy: 0.9873798076923077\n",
      "BNN Test Error: 1.39%\n",
      "MLP Test Error: 1.66%\n",
      "MLP Dropout Test Error: 1.26%\n",
      "Epoch 408/600\n"
     ]
    },
    {
     "name": "stderr",
     "output_type": "stream",
     "text": [
      "100%|██████████| 468/468 [00:17<00:00, 26.08it/s]\n",
      "100%|██████████| 468/468 [00:07<00:00, 66.27it/s]\n",
      "100%|██████████| 468/468 [00:06<00:00, 67.30it/s]\n",
      "100%|██████████| 78/78 [00:17<00:00,  4.38it/s]\n"
     ]
    },
    {
     "name": "stdout",
     "output_type": "stream",
     "text": [
      "bnn_classification validation accuracy: 0.9864783653846154\n"
     ]
    },
    {
     "name": "stderr",
     "output_type": "stream",
     "text": [
      "100%|██████████| 78/78 [00:01<00:00, 70.98it/s]\n"
     ]
    },
    {
     "name": "stdout",
     "output_type": "stream",
     "text": [
      "mlp_classification validation accuracy: 0.9833733974358975\n"
     ]
    },
    {
     "name": "stderr",
     "output_type": "stream",
     "text": [
      "100%|██████████| 78/78 [00:01<00:00, 71.24it/s]\n"
     ]
    },
    {
     "name": "stdout",
     "output_type": "stream",
     "text": [
      "mlp_dropout_classification validation accuracy: 0.9876802884615384\n",
      "BNN Test Error: 1.35%\n",
      "MLP Test Error: 1.66%\n",
      "MLP Dropout Test Error: 1.23%\n",
      "Epoch 409/600\n"
     ]
    },
    {
     "name": "stderr",
     "output_type": "stream",
     "text": [
      "100%|██████████| 468/468 [00:18<00:00, 25.41it/s]\n",
      "100%|██████████| 468/468 [00:06<00:00, 68.86it/s]\n",
      "100%|██████████| 468/468 [00:06<00:00, 67.07it/s]\n",
      "100%|██████████| 78/78 [00:17<00:00,  4.36it/s]\n"
     ]
    },
    {
     "name": "stdout",
     "output_type": "stream",
     "text": [
      "bnn_classification validation accuracy: 0.9864783653846154\n"
     ]
    },
    {
     "name": "stderr",
     "output_type": "stream",
     "text": [
      "100%|██████████| 78/78 [00:01<00:00, 72.10it/s]\n"
     ]
    },
    {
     "name": "stdout",
     "output_type": "stream",
     "text": [
      "mlp_classification validation accuracy: 0.9833733974358975\n"
     ]
    },
    {
     "name": "stderr",
     "output_type": "stream",
     "text": [
      "100%|██████████| 78/78 [00:01<00:00, 71.65it/s]\n"
     ]
    },
    {
     "name": "stdout",
     "output_type": "stream",
     "text": [
      "mlp_dropout_classification validation accuracy: 0.9875801282051282\n",
      "BNN Test Error: 1.35%\n",
      "MLP Test Error: 1.66%\n",
      "MLP Dropout Test Error: 1.24%\n",
      "Epoch 410/600\n"
     ]
    },
    {
     "name": "stderr",
     "output_type": "stream",
     "text": [
      "100%|██████████| 468/468 [00:17<00:00, 26.60it/s]\n",
      "100%|██████████| 468/468 [00:06<00:00, 68.42it/s]\n",
      "100%|██████████| 468/468 [00:06<00:00, 68.38it/s]\n",
      "100%|██████████| 78/78 [00:18<00:00,  4.32it/s]\n"
     ]
    },
    {
     "name": "stdout",
     "output_type": "stream",
     "text": [
      "bnn_classification validation accuracy: 0.9862780448717948\n"
     ]
    },
    {
     "name": "stderr",
     "output_type": "stream",
     "text": [
      "100%|██████████| 78/78 [00:01<00:00, 70.81it/s]\n"
     ]
    },
    {
     "name": "stdout",
     "output_type": "stream",
     "text": [
      "mlp_classification validation accuracy: 0.9833733974358975\n"
     ]
    },
    {
     "name": "stderr",
     "output_type": "stream",
     "text": [
      "100%|██████████| 78/78 [00:01<00:00, 71.73it/s]\n"
     ]
    },
    {
     "name": "stdout",
     "output_type": "stream",
     "text": [
      "mlp_dropout_classification validation accuracy: 0.9875801282051282\n",
      "BNN Test Error: 1.37%\n",
      "MLP Test Error: 1.66%\n",
      "MLP Dropout Test Error: 1.24%\n",
      "Epoch 411/600\n"
     ]
    },
    {
     "name": "stderr",
     "output_type": "stream",
     "text": [
      "100%|██████████| 468/468 [00:18<00:00, 24.67it/s]\n",
      "100%|██████████| 468/468 [00:06<00:00, 68.42it/s]\n",
      "100%|██████████| 468/468 [00:06<00:00, 67.50it/s]\n",
      "100%|██████████| 78/78 [00:18<00:00,  4.32it/s]\n"
     ]
    },
    {
     "name": "stdout",
     "output_type": "stream",
     "text": [
      "bnn_classification validation accuracy: 0.9863782051282052\n"
     ]
    },
    {
     "name": "stderr",
     "output_type": "stream",
     "text": [
      "100%|██████████| 78/78 [00:01<00:00, 68.39it/s]\n"
     ]
    },
    {
     "name": "stdout",
     "output_type": "stream",
     "text": [
      "mlp_classification validation accuracy: 0.9833733974358975\n"
     ]
    },
    {
     "name": "stderr",
     "output_type": "stream",
     "text": [
      "100%|██████████| 78/78 [00:01<00:00, 72.15it/s]\n"
     ]
    },
    {
     "name": "stdout",
     "output_type": "stream",
     "text": [
      "mlp_dropout_classification validation accuracy: 0.987479967948718\n",
      "BNN Test Error: 1.36%\n",
      "MLP Test Error: 1.66%\n",
      "MLP Dropout Test Error: 1.25%\n",
      "Epoch 412/600\n"
     ]
    },
    {
     "name": "stderr",
     "output_type": "stream",
     "text": [
      "100%|██████████| 468/468 [00:17<00:00, 26.64it/s]\n",
      "100%|██████████| 468/468 [00:07<00:00, 66.34it/s]\n",
      "100%|██████████| 468/468 [00:07<00:00, 65.08it/s]\n",
      "100%|██████████| 78/78 [00:17<00:00,  4.41it/s]\n"
     ]
    },
    {
     "name": "stdout",
     "output_type": "stream",
     "text": [
      "bnn_classification validation accuracy: 0.9861778846153846\n"
     ]
    },
    {
     "name": "stderr",
     "output_type": "stream",
     "text": [
      "100%|██████████| 78/78 [00:01<00:00, 70.94it/s]\n"
     ]
    },
    {
     "name": "stdout",
     "output_type": "stream",
     "text": [
      "mlp_classification validation accuracy: 0.9833733974358975\n"
     ]
    },
    {
     "name": "stderr",
     "output_type": "stream",
     "text": [
      "100%|██████████| 78/78 [00:01<00:00, 72.66it/s]\n"
     ]
    },
    {
     "name": "stdout",
     "output_type": "stream",
     "text": [
      "mlp_dropout_classification validation accuracy: 0.9875801282051282\n",
      "BNN Test Error: 1.38%\n",
      "MLP Test Error: 1.66%\n",
      "MLP Dropout Test Error: 1.24%\n",
      "Epoch 413/600\n"
     ]
    },
    {
     "name": "stderr",
     "output_type": "stream",
     "text": [
      "100%|██████████| 468/468 [00:17<00:00, 26.54it/s]\n",
      "100%|██████████| 468/468 [00:06<00:00, 68.82it/s]\n",
      "100%|██████████| 468/468 [00:07<00:00, 66.66it/s]\n",
      "100%|██████████| 78/78 [00:19<00:00,  4.05it/s]\n"
     ]
    },
    {
     "name": "stdout",
     "output_type": "stream",
     "text": [
      "bnn_classification validation accuracy: 0.9863782051282052\n"
     ]
    },
    {
     "name": "stderr",
     "output_type": "stream",
     "text": [
      "100%|██████████| 78/78 [00:01<00:00, 71.72it/s]\n"
     ]
    },
    {
     "name": "stdout",
     "output_type": "stream",
     "text": [
      "mlp_classification validation accuracy: 0.9833733974358975\n"
     ]
    },
    {
     "name": "stderr",
     "output_type": "stream",
     "text": [
      "100%|██████████| 78/78 [00:01<00:00, 72.70it/s]\n"
     ]
    },
    {
     "name": "stdout",
     "output_type": "stream",
     "text": [
      "mlp_dropout_classification validation accuracy: 0.9875801282051282\n",
      "BNN Test Error: 1.36%\n",
      "MLP Test Error: 1.66%\n",
      "MLP Dropout Test Error: 1.24%\n",
      "Epoch 414/600\n"
     ]
    },
    {
     "name": "stderr",
     "output_type": "stream",
     "text": [
      "100%|██████████| 468/468 [00:17<00:00, 26.94it/s]\n",
      "100%|██████████| 468/468 [00:06<00:00, 67.35it/s]\n",
      "100%|██████████| 468/468 [00:06<00:00, 68.02it/s]\n",
      "100%|██████████| 78/78 [00:17<00:00,  4.41it/s]\n"
     ]
    },
    {
     "name": "stdout",
     "output_type": "stream",
     "text": [
      "bnn_classification validation accuracy: 0.9862780448717948\n"
     ]
    },
    {
     "name": "stderr",
     "output_type": "stream",
     "text": [
      "100%|██████████| 78/78 [00:01<00:00, 62.44it/s]\n"
     ]
    },
    {
     "name": "stdout",
     "output_type": "stream",
     "text": [
      "mlp_classification validation accuracy: 0.9833733974358975\n"
     ]
    },
    {
     "name": "stderr",
     "output_type": "stream",
     "text": [
      "100%|██████████| 78/78 [00:01<00:00, 70.13it/s]\n"
     ]
    },
    {
     "name": "stdout",
     "output_type": "stream",
     "text": [
      "mlp_dropout_classification validation accuracy: 0.987479967948718\n",
      "BNN Test Error: 1.37%\n",
      "MLP Test Error: 1.66%\n",
      "MLP Dropout Test Error: 1.25%\n",
      "Epoch 415/600\n"
     ]
    },
    {
     "name": "stderr",
     "output_type": "stream",
     "text": [
      "100%|██████████| 468/468 [00:18<00:00, 25.88it/s]\n",
      "100%|██████████| 468/468 [00:06<00:00, 67.90it/s]\n",
      "100%|██████████| 468/468 [00:07<00:00, 65.78it/s]\n",
      "100%|██████████| 78/78 [00:17<00:00,  4.36it/s]\n"
     ]
    },
    {
     "name": "stdout",
     "output_type": "stream",
     "text": [
      "bnn_classification validation accuracy: 0.9867788461538461\n"
     ]
    },
    {
     "name": "stderr",
     "output_type": "stream",
     "text": [
      "100%|██████████| 78/78 [00:01<00:00, 69.67it/s]\n"
     ]
    },
    {
     "name": "stdout",
     "output_type": "stream",
     "text": [
      "mlp_classification validation accuracy: 0.9833733974358975\n"
     ]
    },
    {
     "name": "stderr",
     "output_type": "stream",
     "text": [
      "100%|██████████| 78/78 [00:01<00:00, 71.87it/s]\n"
     ]
    },
    {
     "name": "stdout",
     "output_type": "stream",
     "text": [
      "mlp_dropout_classification validation accuracy: 0.9875801282051282\n",
      "BNN Test Error: 1.32%\n",
      "MLP Test Error: 1.66%\n",
      "MLP Dropout Test Error: 1.24%\n",
      "Epoch 416/600\n"
     ]
    },
    {
     "name": "stderr",
     "output_type": "stream",
     "text": [
      "100%|██████████| 468/468 [00:17<00:00, 26.54it/s]\n",
      "100%|██████████| 468/468 [00:07<00:00, 65.92it/s]\n",
      "100%|██████████| 468/468 [00:06<00:00, 66.99it/s]\n",
      "100%|██████████| 78/78 [00:17<00:00,  4.39it/s]\n"
     ]
    },
    {
     "name": "stdout",
     "output_type": "stream",
     "text": [
      "bnn_classification validation accuracy: 0.9867788461538461\n"
     ]
    },
    {
     "name": "stderr",
     "output_type": "stream",
     "text": [
      "100%|██████████| 78/78 [00:01<00:00, 70.29it/s]\n"
     ]
    },
    {
     "name": "stdout",
     "output_type": "stream",
     "text": [
      "mlp_classification validation accuracy: 0.9833733974358975\n"
     ]
    },
    {
     "name": "stderr",
     "output_type": "stream",
     "text": [
      "100%|██████████| 78/78 [00:01<00:00, 72.12it/s]\n"
     ]
    },
    {
     "name": "stdout",
     "output_type": "stream",
     "text": [
      "mlp_dropout_classification validation accuracy: 0.987479967948718\n",
      "BNN Test Error: 1.32%\n",
      "MLP Test Error: 1.66%\n",
      "MLP Dropout Test Error: 1.25%\n",
      "Epoch 417/600\n"
     ]
    },
    {
     "name": "stderr",
     "output_type": "stream",
     "text": [
      "100%|██████████| 468/468 [00:17<00:00, 26.52it/s]\n",
      "100%|██████████| 468/468 [00:06<00:00, 67.78it/s]\n",
      "100%|██████████| 468/468 [00:07<00:00, 66.46it/s]\n",
      "100%|██████████| 78/78 [00:18<00:00,  4.29it/s]\n"
     ]
    },
    {
     "name": "stdout",
     "output_type": "stream",
     "text": [
      "bnn_classification validation accuracy: 0.9864783653846154\n"
     ]
    },
    {
     "name": "stderr",
     "output_type": "stream",
     "text": [
      "100%|██████████| 78/78 [00:01<00:00, 71.86it/s]\n"
     ]
    },
    {
     "name": "stdout",
     "output_type": "stream",
     "text": [
      "mlp_classification validation accuracy: 0.9833733974358975\n"
     ]
    },
    {
     "name": "stderr",
     "output_type": "stream",
     "text": [
      "100%|██████████| 78/78 [00:01<00:00, 71.82it/s]\n"
     ]
    },
    {
     "name": "stdout",
     "output_type": "stream",
     "text": [
      "mlp_dropout_classification validation accuracy: 0.987479967948718\n",
      "BNN Test Error: 1.35%\n",
      "MLP Test Error: 1.66%\n",
      "MLP Dropout Test Error: 1.25%\n",
      "Epoch 418/600\n"
     ]
    },
    {
     "name": "stderr",
     "output_type": "stream",
     "text": [
      "100%|██████████| 468/468 [00:17<00:00, 26.79it/s]\n",
      "100%|██████████| 468/468 [00:06<00:00, 67.82it/s]\n",
      "100%|██████████| 468/468 [00:06<00:00, 67.03it/s]\n",
      "100%|██████████| 78/78 [00:18<00:00,  4.31it/s]\n"
     ]
    },
    {
     "name": "stdout",
     "output_type": "stream",
     "text": [
      "bnn_classification validation accuracy: 0.9866786858974359\n"
     ]
    },
    {
     "name": "stderr",
     "output_type": "stream",
     "text": [
      "100%|██████████| 78/78 [00:01<00:00, 66.86it/s]\n"
     ]
    },
    {
     "name": "stdout",
     "output_type": "stream",
     "text": [
      "mlp_classification validation accuracy: 0.9833733974358975\n"
     ]
    },
    {
     "name": "stderr",
     "output_type": "stream",
     "text": [
      "100%|██████████| 78/78 [00:01<00:00, 70.24it/s]\n"
     ]
    },
    {
     "name": "stdout",
     "output_type": "stream",
     "text": [
      "mlp_dropout_classification validation accuracy: 0.987479967948718\n",
      "BNN Test Error: 1.33%\n",
      "MLP Test Error: 1.66%\n",
      "MLP Dropout Test Error: 1.25%\n",
      "Epoch 419/600\n"
     ]
    },
    {
     "name": "stderr",
     "output_type": "stream",
     "text": [
      "100%|██████████| 468/468 [00:17<00:00, 26.04it/s]\n",
      "100%|██████████| 468/468 [00:06<00:00, 67.39it/s]\n",
      "100%|██████████| 468/468 [00:07<00:00, 65.33it/s]\n",
      "100%|██████████| 78/78 [00:17<00:00,  4.53it/s]\n"
     ]
    },
    {
     "name": "stdout",
     "output_type": "stream",
     "text": [
      "bnn_classification validation accuracy: 0.9864783653846154\n"
     ]
    },
    {
     "name": "stderr",
     "output_type": "stream",
     "text": [
      "100%|██████████| 78/78 [00:01<00:00, 72.21it/s]\n"
     ]
    },
    {
     "name": "stdout",
     "output_type": "stream",
     "text": [
      "mlp_classification validation accuracy: 0.9833733974358975\n"
     ]
    },
    {
     "name": "stderr",
     "output_type": "stream",
     "text": [
      "100%|██████████| 78/78 [00:01<00:00, 71.38it/s]\n"
     ]
    },
    {
     "name": "stdout",
     "output_type": "stream",
     "text": [
      "mlp_dropout_classification validation accuracy: 0.9876802884615384\n",
      "BNN Test Error: 1.35%\n",
      "MLP Test Error: 1.66%\n",
      "MLP Dropout Test Error: 1.23%\n",
      "Epoch 420/600\n"
     ]
    },
    {
     "name": "stderr",
     "output_type": "stream",
     "text": [
      "100%|██████████| 468/468 [00:18<00:00, 25.57it/s]\n",
      "100%|██████████| 468/468 [00:07<00:00, 65.10it/s]\n",
      "100%|██████████| 468/468 [00:06<00:00, 67.08it/s]\n",
      "100%|██████████| 78/78 [00:17<00:00,  4.43it/s]\n"
     ]
    },
    {
     "name": "stdout",
     "output_type": "stream",
     "text": [
      "bnn_classification validation accuracy: 0.9865785256410257\n"
     ]
    },
    {
     "name": "stderr",
     "output_type": "stream",
     "text": [
      "100%|██████████| 78/78 [00:01<00:00, 71.36it/s]\n"
     ]
    },
    {
     "name": "stdout",
     "output_type": "stream",
     "text": [
      "mlp_classification validation accuracy: 0.9833733974358975\n"
     ]
    },
    {
     "name": "stderr",
     "output_type": "stream",
     "text": [
      "100%|██████████| 78/78 [00:01<00:00, 71.28it/s]\n"
     ]
    },
    {
     "name": "stdout",
     "output_type": "stream",
     "text": [
      "mlp_dropout_classification validation accuracy: 0.9876802884615384\n",
      "BNN Test Error: 1.34%\n",
      "MLP Test Error: 1.66%\n",
      "MLP Dropout Test Error: 1.23%\n",
      "Epoch 421/600\n"
     ]
    },
    {
     "name": "stderr",
     "output_type": "stream",
     "text": [
      "100%|██████████| 468/468 [00:17<00:00, 26.18it/s]\n",
      "100%|██████████| 468/468 [00:07<00:00, 66.59it/s]\n",
      "100%|██████████| 468/468 [00:07<00:00, 66.13it/s]\n",
      "100%|██████████| 78/78 [00:19<00:00,  4.06it/s]\n"
     ]
    },
    {
     "name": "stdout",
     "output_type": "stream",
     "text": [
      "bnn_classification validation accuracy: 0.9867788461538461\n"
     ]
    },
    {
     "name": "stderr",
     "output_type": "stream",
     "text": [
      "100%|██████████| 78/78 [00:01<00:00, 68.00it/s]\n"
     ]
    },
    {
     "name": "stdout",
     "output_type": "stream",
     "text": [
      "mlp_classification validation accuracy: 0.9833733974358975\n"
     ]
    },
    {
     "name": "stderr",
     "output_type": "stream",
     "text": [
      "100%|██████████| 78/78 [00:01<00:00, 69.90it/s]\n"
     ]
    },
    {
     "name": "stdout",
     "output_type": "stream",
     "text": [
      "mlp_dropout_classification validation accuracy: 0.987479967948718\n",
      "BNN Test Error: 1.32%\n",
      "MLP Test Error: 1.66%\n",
      "MLP Dropout Test Error: 1.25%\n",
      "Epoch 422/600\n"
     ]
    },
    {
     "name": "stderr",
     "output_type": "stream",
     "text": [
      "100%|██████████| 468/468 [00:17<00:00, 26.72it/s]\n",
      "100%|██████████| 468/468 [00:06<00:00, 66.99it/s]\n",
      "100%|██████████| 468/468 [00:06<00:00, 67.38it/s]\n",
      "100%|██████████| 78/78 [00:18<00:00,  4.16it/s]\n"
     ]
    },
    {
     "name": "stdout",
     "output_type": "stream",
     "text": [
      "bnn_classification validation accuracy: 0.9867788461538461\n"
     ]
    },
    {
     "name": "stderr",
     "output_type": "stream",
     "text": [
      "100%|██████████| 78/78 [00:01<00:00, 69.98it/s]\n"
     ]
    },
    {
     "name": "stdout",
     "output_type": "stream",
     "text": [
      "mlp_classification validation accuracy: 0.9833733974358975\n"
     ]
    },
    {
     "name": "stderr",
     "output_type": "stream",
     "text": [
      "100%|██████████| 78/78 [00:01<00:00, 71.00it/s]\n"
     ]
    },
    {
     "name": "stdout",
     "output_type": "stream",
     "text": [
      "mlp_dropout_classification validation accuracy: 0.9875801282051282\n",
      "BNN Test Error: 1.32%\n",
      "MLP Test Error: 1.66%\n",
      "MLP Dropout Test Error: 1.24%\n",
      "Epoch 423/600\n"
     ]
    },
    {
     "name": "stderr",
     "output_type": "stream",
     "text": [
      "100%|██████████| 468/468 [00:17<00:00, 26.64it/s]\n",
      "100%|██████████| 468/468 [00:06<00:00, 68.94it/s]\n",
      "100%|██████████| 468/468 [00:07<00:00, 66.06it/s]\n",
      "100%|██████████| 78/78 [00:17<00:00,  4.38it/s]\n"
     ]
    },
    {
     "name": "stdout",
     "output_type": "stream",
     "text": [
      "bnn_classification validation accuracy: 0.9864783653846154\n"
     ]
    },
    {
     "name": "stderr",
     "output_type": "stream",
     "text": [
      "100%|██████████| 78/78 [00:01<00:00, 72.31it/s]\n"
     ]
    },
    {
     "name": "stdout",
     "output_type": "stream",
     "text": [
      "mlp_classification validation accuracy: 0.9833733974358975\n"
     ]
    },
    {
     "name": "stderr",
     "output_type": "stream",
     "text": [
      "100%|██████████| 78/78 [00:01<00:00, 72.70it/s]\n"
     ]
    },
    {
     "name": "stdout",
     "output_type": "stream",
     "text": [
      "mlp_dropout_classification validation accuracy: 0.9875801282051282\n",
      "BNN Test Error: 1.35%\n",
      "MLP Test Error: 1.66%\n",
      "MLP Dropout Test Error: 1.24%\n",
      "Epoch 424/600\n"
     ]
    },
    {
     "name": "stderr",
     "output_type": "stream",
     "text": [
      "100%|██████████| 468/468 [00:17<00:00, 26.45it/s]\n",
      "100%|██████████| 468/468 [00:07<00:00, 66.20it/s]\n",
      "100%|██████████| 468/468 [00:06<00:00, 67.75it/s]\n",
      "100%|██████████| 78/78 [00:18<00:00,  4.33it/s]\n"
     ]
    },
    {
     "name": "stdout",
     "output_type": "stream",
     "text": [
      "bnn_classification validation accuracy: 0.9863782051282052\n"
     ]
    },
    {
     "name": "stderr",
     "output_type": "stream",
     "text": [
      "100%|██████████| 78/78 [00:01<00:00, 71.88it/s]\n"
     ]
    },
    {
     "name": "stdout",
     "output_type": "stream",
     "text": [
      "mlp_classification validation accuracy: 0.9833733974358975\n"
     ]
    },
    {
     "name": "stderr",
     "output_type": "stream",
     "text": [
      "100%|██████████| 78/78 [00:01<00:00, 73.24it/s]\n"
     ]
    },
    {
     "name": "stdout",
     "output_type": "stream",
     "text": [
      "mlp_dropout_classification validation accuracy: 0.9876802884615384\n",
      "BNN Test Error: 1.36%\n",
      "MLP Test Error: 1.66%\n",
      "MLP Dropout Test Error: 1.23%\n",
      "Epoch 425/600\n"
     ]
    },
    {
     "name": "stderr",
     "output_type": "stream",
     "text": [
      "100%|██████████| 468/468 [00:17<00:00, 26.53it/s]\n",
      "100%|██████████| 468/468 [00:06<00:00, 67.64it/s]\n",
      "100%|██████████| 468/468 [00:07<00:00, 65.71it/s]\n",
      "100%|██████████| 78/78 [00:18<00:00,  4.27it/s]\n"
     ]
    },
    {
     "name": "stdout",
     "output_type": "stream",
     "text": [
      "bnn_classification validation accuracy: 0.9863782051282052\n"
     ]
    },
    {
     "name": "stderr",
     "output_type": "stream",
     "text": [
      "100%|██████████| 78/78 [00:01<00:00, 71.73it/s]\n"
     ]
    },
    {
     "name": "stdout",
     "output_type": "stream",
     "text": [
      "mlp_classification validation accuracy: 0.9833733974358975\n"
     ]
    },
    {
     "name": "stderr",
     "output_type": "stream",
     "text": [
      "100%|██████████| 78/78 [00:01<00:00, 69.40it/s]\n"
     ]
    },
    {
     "name": "stdout",
     "output_type": "stream",
     "text": [
      "mlp_dropout_classification validation accuracy: 0.9876802884615384\n",
      "BNN Test Error: 1.36%\n",
      "MLP Test Error: 1.66%\n",
      "MLP Dropout Test Error: 1.23%\n",
      "Epoch 426/600\n"
     ]
    },
    {
     "name": "stderr",
     "output_type": "stream",
     "text": [
      "100%|██████████| 468/468 [00:17<00:00, 26.86it/s]\n",
      "100%|██████████| 468/468 [00:06<00:00, 68.24it/s]\n",
      "100%|██████████| 468/468 [00:07<00:00, 66.73it/s]\n",
      "100%|██████████| 78/78 [00:17<00:00,  4.42it/s]\n"
     ]
    },
    {
     "name": "stdout",
     "output_type": "stream",
     "text": [
      "bnn_classification validation accuracy: 0.9866786858974359\n"
     ]
    },
    {
     "name": "stderr",
     "output_type": "stream",
     "text": [
      "100%|██████████| 78/78 [00:01<00:00, 67.56it/s]\n"
     ]
    },
    {
     "name": "stdout",
     "output_type": "stream",
     "text": [
      "mlp_classification validation accuracy: 0.9833733974358975\n"
     ]
    },
    {
     "name": "stderr",
     "output_type": "stream",
     "text": [
      "100%|██████████| 78/78 [00:01<00:00, 71.27it/s]\n"
     ]
    },
    {
     "name": "stdout",
     "output_type": "stream",
     "text": [
      "mlp_dropout_classification validation accuracy: 0.9876802884615384\n",
      "BNN Test Error: 1.33%\n",
      "MLP Test Error: 1.66%\n",
      "MLP Dropout Test Error: 1.23%\n",
      "Epoch 427/600\n"
     ]
    },
    {
     "name": "stderr",
     "output_type": "stream",
     "text": [
      "100%|██████████| 468/468 [00:17<00:00, 26.78it/s]\n",
      "100%|██████████| 468/468 [00:06<00:00, 66.89it/s]\n",
      "100%|██████████| 468/468 [00:06<00:00, 67.12it/s]\n",
      "100%|██████████| 78/78 [00:18<00:00,  4.30it/s]\n"
     ]
    },
    {
     "name": "stdout",
     "output_type": "stream",
     "text": [
      "bnn_classification validation accuracy: 0.9865785256410257\n"
     ]
    },
    {
     "name": "stderr",
     "output_type": "stream",
     "text": [
      "100%|██████████| 78/78 [00:01<00:00, 71.40it/s]\n"
     ]
    },
    {
     "name": "stdout",
     "output_type": "stream",
     "text": [
      "mlp_classification validation accuracy: 0.9833733974358975\n"
     ]
    },
    {
     "name": "stderr",
     "output_type": "stream",
     "text": [
      "100%|██████████| 78/78 [00:01<00:00, 72.38it/s]\n"
     ]
    },
    {
     "name": "stdout",
     "output_type": "stream",
     "text": [
      "mlp_dropout_classification validation accuracy: 0.9875801282051282\n",
      "BNN Test Error: 1.34%\n",
      "MLP Test Error: 1.66%\n",
      "MLP Dropout Test Error: 1.24%\n",
      "Epoch 428/600\n"
     ]
    },
    {
     "name": "stderr",
     "output_type": "stream",
     "text": [
      "100%|██████████| 468/468 [00:19<00:00, 23.79it/s]\n",
      "100%|██████████| 468/468 [00:06<00:00, 67.14it/s]\n",
      "100%|██████████| 468/468 [00:06<00:00, 67.13it/s]\n",
      "100%|██████████| 78/78 [00:17<00:00,  4.55it/s]\n"
     ]
    },
    {
     "name": "stdout",
     "output_type": "stream",
     "text": [
      "bnn_classification validation accuracy: 0.9866786858974359\n"
     ]
    },
    {
     "name": "stderr",
     "output_type": "stream",
     "text": [
      "100%|██████████| 78/78 [00:01<00:00, 70.04it/s]\n"
     ]
    },
    {
     "name": "stdout",
     "output_type": "stream",
     "text": [
      "mlp_classification validation accuracy: 0.9833733974358975\n"
     ]
    },
    {
     "name": "stderr",
     "output_type": "stream",
     "text": [
      "100%|██████████| 78/78 [00:01<00:00, 69.19it/s]\n"
     ]
    },
    {
     "name": "stdout",
     "output_type": "stream",
     "text": [
      "mlp_dropout_classification validation accuracy: 0.987479967948718\n",
      "BNN Test Error: 1.33%\n",
      "MLP Test Error: 1.66%\n",
      "MLP Dropout Test Error: 1.25%\n",
      "Epoch 429/600\n"
     ]
    },
    {
     "name": "stderr",
     "output_type": "stream",
     "text": [
      "100%|██████████| 468/468 [00:17<00:00, 27.20it/s]\n",
      "100%|██████████| 468/468 [00:06<00:00, 69.22it/s]\n",
      "100%|██████████| 468/468 [00:07<00:00, 63.27it/s]\n",
      "100%|██████████| 78/78 [00:17<00:00,  4.39it/s]\n"
     ]
    },
    {
     "name": "stdout",
     "output_type": "stream",
     "text": [
      "bnn_classification validation accuracy: 0.9867788461538461\n"
     ]
    },
    {
     "name": "stderr",
     "output_type": "stream",
     "text": [
      "100%|██████████| 78/78 [00:01<00:00, 72.97it/s]\n"
     ]
    },
    {
     "name": "stdout",
     "output_type": "stream",
     "text": [
      "mlp_classification validation accuracy: 0.9833733974358975\n"
     ]
    },
    {
     "name": "stderr",
     "output_type": "stream",
     "text": [
      "100%|██████████| 78/78 [00:01<00:00, 72.90it/s]\n"
     ]
    },
    {
     "name": "stdout",
     "output_type": "stream",
     "text": [
      "mlp_dropout_classification validation accuracy: 0.9875801282051282\n",
      "BNN Test Error: 1.32%\n",
      "MLP Test Error: 1.66%\n",
      "MLP Dropout Test Error: 1.24%\n",
      "Epoch 430/600\n"
     ]
    },
    {
     "name": "stderr",
     "output_type": "stream",
     "text": [
      "100%|██████████| 468/468 [00:17<00:00, 26.96it/s]\n",
      "100%|██████████| 468/468 [00:06<00:00, 69.19it/s]\n",
      "100%|██████████| 468/468 [00:06<00:00, 68.73it/s]\n",
      "100%|██████████| 78/78 [00:19<00:00,  3.94it/s]\n"
     ]
    },
    {
     "name": "stdout",
     "output_type": "stream",
     "text": [
      "bnn_classification validation accuracy: 0.9867788461538461\n"
     ]
    },
    {
     "name": "stderr",
     "output_type": "stream",
     "text": [
      "100%|██████████| 78/78 [00:01<00:00, 68.44it/s]\n"
     ]
    },
    {
     "name": "stdout",
     "output_type": "stream",
     "text": [
      "mlp_classification validation accuracy: 0.9833733974358975\n"
     ]
    },
    {
     "name": "stderr",
     "output_type": "stream",
     "text": [
      "100%|██████████| 78/78 [00:01<00:00, 64.94it/s]\n"
     ]
    },
    {
     "name": "stdout",
     "output_type": "stream",
     "text": [
      "mlp_dropout_classification validation accuracy: 0.987479967948718\n",
      "BNN Test Error: 1.32%\n",
      "MLP Test Error: 1.66%\n",
      "MLP Dropout Test Error: 1.25%\n",
      "Epoch 431/600\n"
     ]
    },
    {
     "name": "stderr",
     "output_type": "stream",
     "text": [
      "100%|██████████| 468/468 [00:17<00:00, 27.25it/s]\n",
      "100%|██████████| 468/468 [00:06<00:00, 67.18it/s]\n",
      "100%|██████████| 468/468 [00:07<00:00, 66.37it/s]\n",
      "100%|██████████| 78/78 [00:17<00:00,  4.46it/s]\n"
     ]
    },
    {
     "name": "stdout",
     "output_type": "stream",
     "text": [
      "bnn_classification validation accuracy: 0.9865785256410257\n"
     ]
    },
    {
     "name": "stderr",
     "output_type": "stream",
     "text": [
      "100%|██████████| 78/78 [00:01<00:00, 70.42it/s]\n"
     ]
    },
    {
     "name": "stdout",
     "output_type": "stream",
     "text": [
      "mlp_classification validation accuracy: 0.9833733974358975\n"
     ]
    },
    {
     "name": "stderr",
     "output_type": "stream",
     "text": [
      "100%|██████████| 78/78 [00:01<00:00, 72.39it/s]\n"
     ]
    },
    {
     "name": "stdout",
     "output_type": "stream",
     "text": [
      "mlp_dropout_classification validation accuracy: 0.9873798076923077\n",
      "BNN Test Error: 1.34%\n",
      "MLP Test Error: 1.66%\n",
      "MLP Dropout Test Error: 1.26%\n",
      "Epoch 432/600\n"
     ]
    },
    {
     "name": "stderr",
     "output_type": "stream",
     "text": [
      "100%|██████████| 468/468 [00:19<00:00, 24.61it/s]\n",
      "100%|██████████| 468/468 [00:06<00:00, 69.02it/s]\n",
      "100%|██████████| 468/468 [00:06<00:00, 68.26it/s]\n",
      "100%|██████████| 78/78 [00:18<00:00,  4.31it/s]\n"
     ]
    },
    {
     "name": "stdout",
     "output_type": "stream",
     "text": [
      "bnn_classification validation accuracy: 0.9864783653846154\n"
     ]
    },
    {
     "name": "stderr",
     "output_type": "stream",
     "text": [
      "100%|██████████| 78/78 [00:01<00:00, 73.38it/s]\n"
     ]
    },
    {
     "name": "stdout",
     "output_type": "stream",
     "text": [
      "mlp_classification validation accuracy: 0.9833733974358975\n"
     ]
    },
    {
     "name": "stderr",
     "output_type": "stream",
     "text": [
      "100%|██████████| 78/78 [00:01<00:00, 71.62it/s]\n"
     ]
    },
    {
     "name": "stdout",
     "output_type": "stream",
     "text": [
      "mlp_dropout_classification validation accuracy: 0.9875801282051282\n",
      "BNN Test Error: 1.35%\n",
      "MLP Test Error: 1.66%\n",
      "MLP Dropout Test Error: 1.24%\n",
      "Epoch 433/600\n"
     ]
    },
    {
     "name": "stderr",
     "output_type": "stream",
     "text": [
      "100%|██████████| 468/468 [00:17<00:00, 26.80it/s]\n",
      "100%|██████████| 468/468 [00:06<00:00, 69.83it/s]\n",
      "100%|██████████| 468/468 [00:06<00:00, 68.15it/s]\n",
      "100%|██████████| 78/78 [00:17<00:00,  4.34it/s]\n"
     ]
    },
    {
     "name": "stdout",
     "output_type": "stream",
     "text": [
      "bnn_classification validation accuracy: 0.9864783653846154\n"
     ]
    },
    {
     "name": "stderr",
     "output_type": "stream",
     "text": [
      "100%|██████████| 78/78 [00:01<00:00, 72.13it/s]\n"
     ]
    },
    {
     "name": "stdout",
     "output_type": "stream",
     "text": [
      "mlp_classification validation accuracy: 0.9833733974358975\n"
     ]
    },
    {
     "name": "stderr",
     "output_type": "stream",
     "text": [
      "100%|██████████| 78/78 [00:01<00:00, 73.47it/s]\n"
     ]
    },
    {
     "name": "stdout",
     "output_type": "stream",
     "text": [
      "mlp_dropout_classification validation accuracy: 0.9876802884615384\n",
      "BNN Test Error: 1.35%\n",
      "MLP Test Error: 1.66%\n",
      "MLP Dropout Test Error: 1.23%\n",
      "Epoch 434/600\n"
     ]
    },
    {
     "name": "stderr",
     "output_type": "stream",
     "text": [
      "100%|██████████| 468/468 [00:17<00:00, 27.16it/s]\n",
      "100%|██████████| 468/468 [00:06<00:00, 67.89it/s]\n",
      "100%|██████████| 468/468 [00:06<00:00, 67.32it/s]\n",
      "100%|██████████| 78/78 [00:19<00:00,  3.97it/s]\n"
     ]
    },
    {
     "name": "stdout",
     "output_type": "stream",
     "text": [
      "bnn_classification validation accuracy: 0.9866786858974359\n"
     ]
    },
    {
     "name": "stderr",
     "output_type": "stream",
     "text": [
      "100%|██████████| 78/78 [00:01<00:00, 72.26it/s]\n"
     ]
    },
    {
     "name": "stdout",
     "output_type": "stream",
     "text": [
      "mlp_classification validation accuracy: 0.9833733974358975\n"
     ]
    },
    {
     "name": "stderr",
     "output_type": "stream",
     "text": [
      "100%|██████████| 78/78 [00:01<00:00, 72.39it/s]\n"
     ]
    },
    {
     "name": "stdout",
     "output_type": "stream",
     "text": [
      "mlp_dropout_classification validation accuracy: 0.9873798076923077\n",
      "BNN Test Error: 1.33%\n",
      "MLP Test Error: 1.66%\n",
      "MLP Dropout Test Error: 1.26%\n",
      "Epoch 435/600\n"
     ]
    },
    {
     "name": "stderr",
     "output_type": "stream",
     "text": [
      "100%|██████████| 468/468 [00:17<00:00, 26.74it/s]\n",
      "100%|██████████| 468/468 [00:06<00:00, 68.63it/s]\n",
      "100%|██████████| 468/468 [00:06<00:00, 68.21it/s]\n",
      "100%|██████████| 78/78 [00:18<00:00,  4.27it/s]\n"
     ]
    },
    {
     "name": "stdout",
     "output_type": "stream",
     "text": [
      "bnn_classification validation accuracy: 0.9865785256410257\n"
     ]
    },
    {
     "name": "stderr",
     "output_type": "stream",
     "text": [
      "100%|██████████| 78/78 [00:01<00:00, 72.54it/s]\n"
     ]
    },
    {
     "name": "stdout",
     "output_type": "stream",
     "text": [
      "mlp_classification validation accuracy: 0.9833733974358975\n"
     ]
    },
    {
     "name": "stderr",
     "output_type": "stream",
     "text": [
      "100%|██████████| 78/78 [00:01<00:00, 73.51it/s]\n"
     ]
    },
    {
     "name": "stdout",
     "output_type": "stream",
     "text": [
      "mlp_dropout_classification validation accuracy: 0.9873798076923077\n",
      "BNN Test Error: 1.34%\n",
      "MLP Test Error: 1.66%\n",
      "MLP Dropout Test Error: 1.26%\n",
      "Epoch 436/600\n"
     ]
    },
    {
     "name": "stderr",
     "output_type": "stream",
     "text": [
      "100%|██████████| 468/468 [00:19<00:00, 23.71it/s]\n",
      "100%|██████████| 468/468 [00:06<00:00, 68.85it/s]\n",
      "100%|██████████| 468/468 [00:06<00:00, 68.11it/s]\n",
      "100%|██████████| 78/78 [00:18<00:00,  4.31it/s]\n"
     ]
    },
    {
     "name": "stdout",
     "output_type": "stream",
     "text": [
      "bnn_classification validation accuracy: 0.9867788461538461\n"
     ]
    },
    {
     "name": "stderr",
     "output_type": "stream",
     "text": [
      "100%|██████████| 78/78 [00:01<00:00, 71.36it/s]\n"
     ]
    },
    {
     "name": "stdout",
     "output_type": "stream",
     "text": [
      "mlp_classification validation accuracy: 0.9833733974358975\n"
     ]
    },
    {
     "name": "stderr",
     "output_type": "stream",
     "text": [
      "100%|██████████| 78/78 [00:01<00:00, 72.49it/s]\n"
     ]
    },
    {
     "name": "stdout",
     "output_type": "stream",
     "text": [
      "mlp_dropout_classification validation accuracy: 0.987479967948718\n",
      "BNN Test Error: 1.32%\n",
      "MLP Test Error: 1.66%\n",
      "MLP Dropout Test Error: 1.25%\n",
      "Epoch 437/600\n"
     ]
    },
    {
     "name": "stderr",
     "output_type": "stream",
     "text": [
      "100%|██████████| 468/468 [00:17<00:00, 26.80it/s]\n",
      "100%|██████████| 468/468 [00:07<00:00, 61.68it/s]\n",
      "100%|██████████| 468/468 [00:07<00:00, 66.54it/s]\n",
      "100%|██████████| 78/78 [00:17<00:00,  4.46it/s]\n"
     ]
    },
    {
     "name": "stdout",
     "output_type": "stream",
     "text": [
      "bnn_classification validation accuracy: 0.9866786858974359\n"
     ]
    },
    {
     "name": "stderr",
     "output_type": "stream",
     "text": [
      "100%|██████████| 78/78 [00:01<00:00, 71.39it/s]\n"
     ]
    },
    {
     "name": "stdout",
     "output_type": "stream",
     "text": [
      "mlp_classification validation accuracy: 0.9833733974358975\n"
     ]
    },
    {
     "name": "stderr",
     "output_type": "stream",
     "text": [
      "100%|██████████| 78/78 [00:01<00:00, 71.37it/s]\n"
     ]
    },
    {
     "name": "stdout",
     "output_type": "stream",
     "text": [
      "mlp_dropout_classification validation accuracy: 0.9875801282051282\n",
      "BNN Test Error: 1.33%\n",
      "MLP Test Error: 1.66%\n",
      "MLP Dropout Test Error: 1.24%\n",
      "Epoch 438/600\n"
     ]
    },
    {
     "name": "stderr",
     "output_type": "stream",
     "text": [
      "100%|██████████| 468/468 [00:17<00:00, 26.35it/s]\n",
      "100%|██████████| 468/468 [00:07<00:00, 66.77it/s]\n",
      "100%|██████████| 468/468 [00:07<00:00, 66.79it/s]\n",
      "100%|██████████| 78/78 [00:20<00:00,  3.86it/s]\n"
     ]
    },
    {
     "name": "stdout",
     "output_type": "stream",
     "text": [
      "bnn_classification validation accuracy: 0.9865785256410257\n"
     ]
    },
    {
     "name": "stderr",
     "output_type": "stream",
     "text": [
      "100%|██████████| 78/78 [00:01<00:00, 69.93it/s]\n"
     ]
    },
    {
     "name": "stdout",
     "output_type": "stream",
     "text": [
      "mlp_classification validation accuracy: 0.9833733974358975\n"
     ]
    },
    {
     "name": "stderr",
     "output_type": "stream",
     "text": [
      "100%|██████████| 78/78 [00:01<00:00, 66.95it/s]\n"
     ]
    },
    {
     "name": "stdout",
     "output_type": "stream",
     "text": [
      "mlp_dropout_classification validation accuracy: 0.987479967948718\n",
      "BNN Test Error: 1.34%\n",
      "MLP Test Error: 1.66%\n",
      "MLP Dropout Test Error: 1.25%\n",
      "Epoch 439/600\n"
     ]
    },
    {
     "name": "stderr",
     "output_type": "stream",
     "text": [
      "100%|██████████| 468/468 [00:17<00:00, 26.52it/s]\n",
      "100%|██████████| 468/468 [00:06<00:00, 67.24it/s]\n",
      "100%|██████████| 468/468 [00:06<00:00, 67.56it/s]\n",
      "100%|██████████| 78/78 [00:17<00:00,  4.36it/s]\n"
     ]
    },
    {
     "name": "stdout",
     "output_type": "stream",
     "text": [
      "bnn_classification validation accuracy: 0.9866786858974359\n"
     ]
    },
    {
     "name": "stderr",
     "output_type": "stream",
     "text": [
      "100%|██████████| 78/78 [00:01<00:00, 64.13it/s]\n"
     ]
    },
    {
     "name": "stdout",
     "output_type": "stream",
     "text": [
      "mlp_classification validation accuracy: 0.9833733974358975\n"
     ]
    },
    {
     "name": "stderr",
     "output_type": "stream",
     "text": [
      "100%|██████████| 78/78 [00:01<00:00, 68.00it/s]\n"
     ]
    },
    {
     "name": "stdout",
     "output_type": "stream",
     "text": [
      "mlp_dropout_classification validation accuracy: 0.9873798076923077\n",
      "BNN Test Error: 1.33%\n",
      "MLP Test Error: 1.66%\n",
      "MLP Dropout Test Error: 1.26%\n",
      "Epoch 440/600\n"
     ]
    },
    {
     "name": "stderr",
     "output_type": "stream",
     "text": [
      "100%|██████████| 468/468 [00:18<00:00, 24.99it/s]\n",
      "100%|██████████| 468/468 [00:07<00:00, 66.41it/s]\n",
      "100%|██████████| 468/468 [00:07<00:00, 66.54it/s]\n",
      "100%|██████████| 78/78 [00:17<00:00,  4.43it/s]\n"
     ]
    },
    {
     "name": "stdout",
     "output_type": "stream",
     "text": [
      "bnn_classification validation accuracy: 0.9865785256410257\n"
     ]
    },
    {
     "name": "stderr",
     "output_type": "stream",
     "text": [
      "100%|██████████| 78/78 [00:01<00:00, 69.32it/s]\n"
     ]
    },
    {
     "name": "stdout",
     "output_type": "stream",
     "text": [
      "mlp_classification validation accuracy: 0.9833733974358975\n"
     ]
    },
    {
     "name": "stderr",
     "output_type": "stream",
     "text": [
      "100%|██████████| 78/78 [00:01<00:00, 70.27it/s]\n"
     ]
    },
    {
     "name": "stdout",
     "output_type": "stream",
     "text": [
      "mlp_dropout_classification validation accuracy: 0.987479967948718\n",
      "BNN Test Error: 1.34%\n",
      "MLP Test Error: 1.66%\n",
      "MLP Dropout Test Error: 1.25%\n",
      "Epoch 441/600\n"
     ]
    },
    {
     "name": "stderr",
     "output_type": "stream",
     "text": [
      "100%|██████████| 468/468 [00:19<00:00, 24.40it/s]\n",
      "100%|██████████| 468/468 [00:06<00:00, 67.43it/s]\n",
      "100%|██████████| 468/468 [00:07<00:00, 66.82it/s]\n",
      "100%|██████████| 78/78 [00:18<00:00,  4.31it/s]\n"
     ]
    },
    {
     "name": "stdout",
     "output_type": "stream",
     "text": [
      "bnn_classification validation accuracy: 0.9866786858974359\n"
     ]
    },
    {
     "name": "stderr",
     "output_type": "stream",
     "text": [
      "100%|██████████| 78/78 [00:01<00:00, 69.16it/s]\n"
     ]
    },
    {
     "name": "stdout",
     "output_type": "stream",
     "text": [
      "mlp_classification validation accuracy: 0.9833733974358975\n"
     ]
    },
    {
     "name": "stderr",
     "output_type": "stream",
     "text": [
      "100%|██████████| 78/78 [00:01<00:00, 72.19it/s]\n"
     ]
    },
    {
     "name": "stdout",
     "output_type": "stream",
     "text": [
      "mlp_dropout_classification validation accuracy: 0.987479967948718\n",
      "BNN Test Error: 1.33%\n",
      "MLP Test Error: 1.66%\n",
      "MLP Dropout Test Error: 1.25%\n",
      "Epoch 442/600\n"
     ]
    },
    {
     "name": "stderr",
     "output_type": "stream",
     "text": [
      "100%|██████████| 468/468 [00:18<00:00, 25.93it/s]\n",
      "100%|██████████| 468/468 [00:06<00:00, 67.22it/s]\n",
      "100%|██████████| 468/468 [00:07<00:00, 65.21it/s]\n",
      "100%|██████████| 78/78 [00:18<00:00,  4.24it/s]\n"
     ]
    },
    {
     "name": "stdout",
     "output_type": "stream",
     "text": [
      "bnn_classification validation accuracy: 0.9865785256410257\n"
     ]
    },
    {
     "name": "stderr",
     "output_type": "stream",
     "text": [
      "100%|██████████| 78/78 [00:01<00:00, 70.81it/s]\n"
     ]
    },
    {
     "name": "stdout",
     "output_type": "stream",
     "text": [
      "mlp_classification validation accuracy: 0.9833733974358975\n"
     ]
    },
    {
     "name": "stderr",
     "output_type": "stream",
     "text": [
      "100%|██████████| 78/78 [00:01<00:00, 71.21it/s]\n"
     ]
    },
    {
     "name": "stdout",
     "output_type": "stream",
     "text": [
      "mlp_dropout_classification validation accuracy: 0.9875801282051282\n",
      "BNN Test Error: 1.34%\n",
      "MLP Test Error: 1.66%\n",
      "MLP Dropout Test Error: 1.24%\n",
      "Epoch 443/600\n"
     ]
    },
    {
     "name": "stderr",
     "output_type": "stream",
     "text": [
      "100%|██████████| 468/468 [00:17<00:00, 26.62it/s]\n",
      "100%|██████████| 468/468 [00:06<00:00, 67.19it/s]\n",
      "100%|██████████| 468/468 [00:07<00:00, 66.45it/s]\n",
      "100%|██████████| 78/78 [00:18<00:00,  4.17it/s]\n"
     ]
    },
    {
     "name": "stdout",
     "output_type": "stream",
     "text": [
      "bnn_classification validation accuracy: 0.9868790064102564\n"
     ]
    },
    {
     "name": "stderr",
     "output_type": "stream",
     "text": [
      "100%|██████████| 78/78 [00:01<00:00, 66.14it/s]\n"
     ]
    },
    {
     "name": "stdout",
     "output_type": "stream",
     "text": [
      "mlp_classification validation accuracy: 0.9833733974358975\n"
     ]
    },
    {
     "name": "stderr",
     "output_type": "stream",
     "text": [
      "100%|██████████| 78/78 [00:01<00:00, 69.45it/s]\n"
     ]
    },
    {
     "name": "stdout",
     "output_type": "stream",
     "text": [
      "mlp_dropout_classification validation accuracy: 0.9875801282051282\n",
      "BNN Test Error: 1.31%\n",
      "MLP Test Error: 1.66%\n",
      "MLP Dropout Test Error: 1.24%\n",
      "Epoch 444/600\n"
     ]
    },
    {
     "name": "stderr",
     "output_type": "stream",
     "text": [
      "100%|██████████| 468/468 [00:17<00:00, 26.46it/s]\n",
      "100%|██████████| 468/468 [00:06<00:00, 67.68it/s]\n",
      "100%|██████████| 468/468 [00:06<00:00, 67.60it/s]\n",
      "100%|██████████| 78/78 [00:18<00:00,  4.33it/s]\n"
     ]
    },
    {
     "name": "stdout",
     "output_type": "stream",
     "text": [
      "bnn_classification validation accuracy: 0.9866786858974359\n"
     ]
    },
    {
     "name": "stderr",
     "output_type": "stream",
     "text": [
      "100%|██████████| 78/78 [00:01<00:00, 72.39it/s]\n"
     ]
    },
    {
     "name": "stdout",
     "output_type": "stream",
     "text": [
      "mlp_classification validation accuracy: 0.9833733974358975\n"
     ]
    },
    {
     "name": "stderr",
     "output_type": "stream",
     "text": [
      "100%|██████████| 78/78 [00:01<00:00, 73.01it/s]\n"
     ]
    },
    {
     "name": "stdout",
     "output_type": "stream",
     "text": [
      "mlp_dropout_classification validation accuracy: 0.9875801282051282\n",
      "BNN Test Error: 1.33%\n",
      "MLP Test Error: 1.66%\n",
      "MLP Dropout Test Error: 1.24%\n",
      "Epoch 445/600\n"
     ]
    },
    {
     "name": "stderr",
     "output_type": "stream",
     "text": [
      "100%|██████████| 468/468 [00:19<00:00, 24.01it/s]\n",
      "100%|██████████| 468/468 [00:06<00:00, 68.34it/s]\n",
      "100%|██████████| 468/468 [00:06<00:00, 67.38it/s]\n",
      "100%|██████████| 78/78 [00:18<00:00,  4.32it/s]\n"
     ]
    },
    {
     "name": "stdout",
     "output_type": "stream",
     "text": [
      "bnn_classification validation accuracy: 0.9865785256410257\n"
     ]
    },
    {
     "name": "stderr",
     "output_type": "stream",
     "text": [
      "100%|██████████| 78/78 [00:01<00:00, 71.96it/s]\n"
     ]
    },
    {
     "name": "stdout",
     "output_type": "stream",
     "text": [
      "mlp_classification validation accuracy: 0.9833733974358975\n"
     ]
    },
    {
     "name": "stderr",
     "output_type": "stream",
     "text": [
      "100%|██████████| 78/78 [00:01<00:00, 73.24it/s]\n"
     ]
    },
    {
     "name": "stdout",
     "output_type": "stream",
     "text": [
      "mlp_dropout_classification validation accuracy: 0.9875801282051282\n",
      "BNN Test Error: 1.34%\n",
      "MLP Test Error: 1.66%\n",
      "MLP Dropout Test Error: 1.24%\n",
      "Epoch 446/600\n"
     ]
    },
    {
     "name": "stderr",
     "output_type": "stream",
     "text": [
      "100%|██████████| 468/468 [00:17<00:00, 26.79it/s]\n",
      "100%|██████████| 468/468 [00:06<00:00, 67.56it/s]\n",
      "100%|██████████| 468/468 [00:08<00:00, 58.29it/s]\n",
      "100%|██████████| 78/78 [00:18<00:00,  4.32it/s]\n"
     ]
    },
    {
     "name": "stdout",
     "output_type": "stream",
     "text": [
      "bnn_classification validation accuracy: 0.9866786858974359\n"
     ]
    },
    {
     "name": "stderr",
     "output_type": "stream",
     "text": [
      "100%|██████████| 78/78 [00:01<00:00, 71.07it/s]\n"
     ]
    },
    {
     "name": "stdout",
     "output_type": "stream",
     "text": [
      "mlp_classification validation accuracy: 0.9833733974358975\n"
     ]
    },
    {
     "name": "stderr",
     "output_type": "stream",
     "text": [
      "100%|██████████| 78/78 [00:01<00:00, 68.72it/s]\n"
     ]
    },
    {
     "name": "stdout",
     "output_type": "stream",
     "text": [
      "mlp_dropout_classification validation accuracy: 0.9876802884615384\n",
      "BNN Test Error: 1.33%\n",
      "MLP Test Error: 1.66%\n",
      "MLP Dropout Test Error: 1.23%\n",
      "Epoch 447/600\n"
     ]
    },
    {
     "name": "stderr",
     "output_type": "stream",
     "text": [
      "100%|██████████| 468/468 [00:17<00:00, 26.53it/s]\n",
      "100%|██████████| 468/468 [00:06<00:00, 68.14it/s]\n",
      "100%|██████████| 468/468 [00:06<00:00, 67.37it/s]\n",
      "100%|██████████| 78/78 [00:19<00:00,  3.90it/s]\n"
     ]
    },
    {
     "name": "stdout",
     "output_type": "stream",
     "text": [
      "bnn_classification validation accuracy: 0.9866786858974359\n"
     ]
    },
    {
     "name": "stderr",
     "output_type": "stream",
     "text": [
      "100%|██████████| 78/78 [00:01<00:00, 72.58it/s]\n"
     ]
    },
    {
     "name": "stdout",
     "output_type": "stream",
     "text": [
      "mlp_classification validation accuracy: 0.9833733974358975\n"
     ]
    },
    {
     "name": "stderr",
     "output_type": "stream",
     "text": [
      "100%|██████████| 78/78 [00:01<00:00, 72.86it/s]\n"
     ]
    },
    {
     "name": "stdout",
     "output_type": "stream",
     "text": [
      "mlp_dropout_classification validation accuracy: 0.9876802884615384\n",
      "BNN Test Error: 1.33%\n",
      "MLP Test Error: 1.66%\n",
      "MLP Dropout Test Error: 1.23%\n",
      "Epoch 448/600\n"
     ]
    },
    {
     "name": "stderr",
     "output_type": "stream",
     "text": [
      "100%|██████████| 468/468 [00:17<00:00, 26.55it/s]\n",
      "100%|██████████| 468/468 [00:06<00:00, 68.87it/s]\n",
      "100%|██████████| 468/468 [00:06<00:00, 67.71it/s]\n",
      "100%|██████████| 78/78 [00:17<00:00,  4.36it/s]\n"
     ]
    },
    {
     "name": "stdout",
     "output_type": "stream",
     "text": [
      "bnn_classification validation accuracy: 0.9865785256410257\n"
     ]
    },
    {
     "name": "stderr",
     "output_type": "stream",
     "text": [
      "100%|██████████| 78/78 [00:01<00:00, 72.94it/s]\n"
     ]
    },
    {
     "name": "stdout",
     "output_type": "stream",
     "text": [
      "mlp_classification validation accuracy: 0.9833733974358975\n"
     ]
    },
    {
     "name": "stderr",
     "output_type": "stream",
     "text": [
      "100%|██████████| 78/78 [00:01<00:00, 71.89it/s]\n"
     ]
    },
    {
     "name": "stdout",
     "output_type": "stream",
     "text": [
      "mlp_dropout_classification validation accuracy: 0.9879807692307693\n",
      "BNN Test Error: 1.34%\n",
      "MLP Test Error: 1.66%\n",
      "MLP Dropout Test Error: 1.20%\n",
      "Epoch 449/600\n"
     ]
    },
    {
     "name": "stderr",
     "output_type": "stream",
     "text": [
      "100%|██████████| 468/468 [00:17<00:00, 26.76it/s]\n",
      "100%|██████████| 468/468 [00:06<00:00, 67.91it/s]\n",
      "100%|██████████| 468/468 [00:07<00:00, 66.59it/s]\n",
      "100%|██████████| 78/78 [00:17<00:00,  4.35it/s]\n"
     ]
    },
    {
     "name": "stdout",
     "output_type": "stream",
     "text": [
      "bnn_classification validation accuracy: 0.9864783653846154\n"
     ]
    },
    {
     "name": "stderr",
     "output_type": "stream",
     "text": [
      "100%|██████████| 78/78 [00:01<00:00, 72.74it/s]\n"
     ]
    },
    {
     "name": "stdout",
     "output_type": "stream",
     "text": [
      "mlp_classification validation accuracy: 0.9833733974358975\n"
     ]
    },
    {
     "name": "stderr",
     "output_type": "stream",
     "text": [
      "100%|██████████| 78/78 [00:01<00:00, 72.40it/s]\n"
     ]
    },
    {
     "name": "stdout",
     "output_type": "stream",
     "text": [
      "mlp_dropout_classification validation accuracy: 0.9878806089743589\n",
      "BNN Test Error: 1.35%\n",
      "MLP Test Error: 1.66%\n",
      "MLP Dropout Test Error: 1.21%\n",
      "Epoch 450/600\n"
     ]
    },
    {
     "name": "stderr",
     "output_type": "stream",
     "text": [
      "100%|██████████| 468/468 [00:17<00:00, 26.80it/s]\n",
      "100%|██████████| 468/468 [00:06<00:00, 67.17it/s]\n",
      "100%|██████████| 468/468 [00:07<00:00, 65.45it/s]\n",
      "100%|██████████| 78/78 [00:18<00:00,  4.30it/s]\n"
     ]
    },
    {
     "name": "stdout",
     "output_type": "stream",
     "text": [
      "bnn_classification validation accuracy: 0.9865785256410257\n"
     ]
    },
    {
     "name": "stderr",
     "output_type": "stream",
     "text": [
      "100%|██████████| 78/78 [00:01<00:00, 72.99it/s]\n"
     ]
    },
    {
     "name": "stdout",
     "output_type": "stream",
     "text": [
      "mlp_classification validation accuracy: 0.9833733974358975\n"
     ]
    },
    {
     "name": "stderr",
     "output_type": "stream",
     "text": [
      "100%|██████████| 78/78 [00:01<00:00, 71.88it/s]\n"
     ]
    },
    {
     "name": "stdout",
     "output_type": "stream",
     "text": [
      "mlp_dropout_classification validation accuracy: 0.9877804487179487\n",
      "BNN Test Error: 1.34%\n",
      "MLP Test Error: 1.66%\n",
      "MLP Dropout Test Error: 1.22%\n",
      "Epoch 451/600\n"
     ]
    },
    {
     "name": "stderr",
     "output_type": "stream",
     "text": [
      "100%|██████████| 468/468 [00:17<00:00, 26.97it/s]\n",
      "100%|██████████| 468/468 [00:06<00:00, 67.51it/s]\n",
      "100%|██████████| 468/468 [00:06<00:00, 67.21it/s]\n",
      "100%|██████████| 78/78 [00:19<00:00,  3.92it/s]\n"
     ]
    },
    {
     "name": "stdout",
     "output_type": "stream",
     "text": [
      "bnn_classification validation accuracy: 0.9867788461538461\n"
     ]
    },
    {
     "name": "stderr",
     "output_type": "stream",
     "text": [
      "100%|██████████| 78/78 [00:01<00:00, 72.96it/s]\n"
     ]
    },
    {
     "name": "stdout",
     "output_type": "stream",
     "text": [
      "mlp_classification validation accuracy: 0.9833733974358975\n"
     ]
    },
    {
     "name": "stderr",
     "output_type": "stream",
     "text": [
      "100%|██████████| 78/78 [00:01<00:00, 68.77it/s]\n"
     ]
    },
    {
     "name": "stdout",
     "output_type": "stream",
     "text": [
      "mlp_dropout_classification validation accuracy: 0.9878806089743589\n",
      "BNN Test Error: 1.32%\n",
      "MLP Test Error: 1.66%\n",
      "MLP Dropout Test Error: 1.21%\n",
      "Epoch 452/600\n"
     ]
    },
    {
     "name": "stderr",
     "output_type": "stream",
     "text": [
      "100%|██████████| 468/468 [00:17<00:00, 26.78it/s]\n",
      "100%|██████████| 468/468 [00:06<00:00, 69.09it/s]\n",
      "100%|██████████| 468/468 [00:07<00:00, 65.97it/s]\n",
      "100%|██████████| 78/78 [00:17<00:00,  4.44it/s]\n"
     ]
    },
    {
     "name": "stdout",
     "output_type": "stream",
     "text": [
      "bnn_classification validation accuracy: 0.9866786858974359\n"
     ]
    },
    {
     "name": "stderr",
     "output_type": "stream",
     "text": [
      "100%|██████████| 78/78 [00:01<00:00, 72.60it/s]\n"
     ]
    },
    {
     "name": "stdout",
     "output_type": "stream",
     "text": [
      "mlp_classification validation accuracy: 0.9833733974358975\n"
     ]
    },
    {
     "name": "stderr",
     "output_type": "stream",
     "text": [
      "100%|██████████| 78/78 [00:01<00:00, 73.16it/s]\n"
     ]
    },
    {
     "name": "stdout",
     "output_type": "stream",
     "text": [
      "mlp_dropout_classification validation accuracy: 0.9877804487179487\n",
      "BNN Test Error: 1.33%\n",
      "MLP Test Error: 1.66%\n",
      "MLP Dropout Test Error: 1.22%\n",
      "Epoch 453/600\n"
     ]
    },
    {
     "name": "stderr",
     "output_type": "stream",
     "text": [
      "100%|██████████| 468/468 [00:18<00:00, 25.47it/s]\n",
      "100%|██████████| 468/468 [00:06<00:00, 68.54it/s]\n",
      "100%|██████████| 468/468 [00:06<00:00, 67.40it/s]\n",
      "100%|██████████| 78/78 [00:18<00:00,  4.32it/s]\n"
     ]
    },
    {
     "name": "stdout",
     "output_type": "stream",
     "text": [
      "bnn_classification validation accuracy: 0.9868790064102564\n"
     ]
    },
    {
     "name": "stderr",
     "output_type": "stream",
     "text": [
      "100%|██████████| 78/78 [00:01<00:00, 71.64it/s]\n"
     ]
    },
    {
     "name": "stdout",
     "output_type": "stream",
     "text": [
      "mlp_classification validation accuracy: 0.9833733974358975\n"
     ]
    },
    {
     "name": "stderr",
     "output_type": "stream",
     "text": [
      "100%|██████████| 78/78 [00:01<00:00, 71.40it/s]\n"
     ]
    },
    {
     "name": "stdout",
     "output_type": "stream",
     "text": [
      "mlp_dropout_classification validation accuracy: 0.9876802884615384\n",
      "BNN Test Error: 1.31%\n",
      "MLP Test Error: 1.66%\n",
      "MLP Dropout Test Error: 1.23%\n",
      "Epoch 454/600\n"
     ]
    },
    {
     "name": "stderr",
     "output_type": "stream",
     "text": [
      "100%|██████████| 468/468 [00:17<00:00, 26.44it/s]\n",
      "100%|██████████| 468/468 [00:06<00:00, 66.91it/s]\n",
      "100%|██████████| 468/468 [00:07<00:00, 66.29it/s]\n",
      "100%|██████████| 78/78 [00:17<00:00,  4.42it/s]\n"
     ]
    },
    {
     "name": "stdout",
     "output_type": "stream",
     "text": [
      "bnn_classification validation accuracy: 0.9864783653846154\n"
     ]
    },
    {
     "name": "stderr",
     "output_type": "stream",
     "text": [
      "100%|██████████| 78/78 [00:01<00:00, 73.08it/s]\n"
     ]
    },
    {
     "name": "stdout",
     "output_type": "stream",
     "text": [
      "mlp_classification validation accuracy: 0.9833733974358975\n"
     ]
    },
    {
     "name": "stderr",
     "output_type": "stream",
     "text": [
      "100%|██████████| 78/78 [00:01<00:00, 65.97it/s]\n"
     ]
    },
    {
     "name": "stdout",
     "output_type": "stream",
     "text": [
      "mlp_dropout_classification validation accuracy: 0.9876802884615384\n",
      "BNN Test Error: 1.35%\n",
      "MLP Test Error: 1.66%\n",
      "MLP Dropout Test Error: 1.23%\n",
      "Epoch 455/600\n"
     ]
    },
    {
     "name": "stderr",
     "output_type": "stream",
     "text": [
      "100%|██████████| 468/468 [00:17<00:00, 26.86it/s]\n",
      "100%|██████████| 468/468 [00:06<00:00, 68.35it/s]\n",
      "100%|██████████| 468/468 [00:06<00:00, 66.92it/s]\n",
      "100%|██████████| 78/78 [00:19<00:00,  4.09it/s]\n"
     ]
    },
    {
     "name": "stdout",
     "output_type": "stream",
     "text": [
      "bnn_classification validation accuracy: 0.9865785256410257\n"
     ]
    },
    {
     "name": "stderr",
     "output_type": "stream",
     "text": [
      "100%|██████████| 78/78 [00:01<00:00, 71.44it/s]\n"
     ]
    },
    {
     "name": "stdout",
     "output_type": "stream",
     "text": [
      "mlp_classification validation accuracy: 0.9833733974358975\n"
     ]
    },
    {
     "name": "stderr",
     "output_type": "stream",
     "text": [
      "100%|██████████| 78/78 [00:01<00:00, 69.53it/s]\n"
     ]
    },
    {
     "name": "stdout",
     "output_type": "stream",
     "text": [
      "mlp_dropout_classification validation accuracy: 0.9878806089743589\n",
      "BNN Test Error: 1.34%\n",
      "MLP Test Error: 1.66%\n",
      "MLP Dropout Test Error: 1.21%\n",
      "Epoch 456/600\n"
     ]
    },
    {
     "name": "stderr",
     "output_type": "stream",
     "text": [
      "100%|██████████| 468/468 [00:17<00:00, 26.37it/s]\n",
      "100%|██████████| 468/468 [00:06<00:00, 68.73it/s]\n",
      "100%|██████████| 468/468 [00:06<00:00, 67.43it/s]\n",
      "100%|██████████| 78/78 [00:17<00:00,  4.39it/s]\n"
     ]
    },
    {
     "name": "stdout",
     "output_type": "stream",
     "text": [
      "bnn_classification validation accuracy: 0.9864783653846154\n"
     ]
    },
    {
     "name": "stderr",
     "output_type": "stream",
     "text": [
      "100%|██████████| 78/78 [00:01<00:00, 68.81it/s]\n"
     ]
    },
    {
     "name": "stdout",
     "output_type": "stream",
     "text": [
      "mlp_classification validation accuracy: 0.9833733974358975\n"
     ]
    },
    {
     "name": "stderr",
     "output_type": "stream",
     "text": [
      "100%|██████████| 78/78 [00:01<00:00, 73.24it/s]\n"
     ]
    },
    {
     "name": "stdout",
     "output_type": "stream",
     "text": [
      "mlp_dropout_classification validation accuracy: 0.9876802884615384\n",
      "BNN Test Error: 1.35%\n",
      "MLP Test Error: 1.66%\n",
      "MLP Dropout Test Error: 1.23%\n",
      "Epoch 457/600\n"
     ]
    },
    {
     "name": "stderr",
     "output_type": "stream",
     "text": [
      "100%|██████████| 468/468 [00:18<00:00, 25.24it/s]\n",
      "100%|██████████| 468/468 [00:06<00:00, 67.31it/s]\n",
      "100%|██████████| 468/468 [00:06<00:00, 67.34it/s]\n",
      "100%|██████████| 78/78 [00:17<00:00,  4.44it/s]\n"
     ]
    },
    {
     "name": "stdout",
     "output_type": "stream",
     "text": [
      "bnn_classification validation accuracy: 0.9866786858974359\n"
     ]
    },
    {
     "name": "stderr",
     "output_type": "stream",
     "text": [
      "100%|██████████| 78/78 [00:01<00:00, 71.61it/s]\n"
     ]
    },
    {
     "name": "stdout",
     "output_type": "stream",
     "text": [
      "mlp_classification validation accuracy: 0.9833733974358975\n"
     ]
    },
    {
     "name": "stderr",
     "output_type": "stream",
     "text": [
      "100%|██████████| 78/78 [00:01<00:00, 72.30it/s]\n"
     ]
    },
    {
     "name": "stdout",
     "output_type": "stream",
     "text": [
      "mlp_dropout_classification validation accuracy: 0.9875801282051282\n",
      "BNN Test Error: 1.33%\n",
      "MLP Test Error: 1.66%\n",
      "MLP Dropout Test Error: 1.24%\n",
      "Epoch 458/600\n"
     ]
    },
    {
     "name": "stderr",
     "output_type": "stream",
     "text": [
      "100%|██████████| 468/468 [00:17<00:00, 26.62it/s]\n",
      "100%|██████████| 468/468 [00:06<00:00, 68.10it/s]\n",
      "100%|██████████| 468/468 [00:07<00:00, 65.73it/s]\n",
      "100%|██████████| 78/78 [00:18<00:00,  4.31it/s]\n"
     ]
    },
    {
     "name": "stdout",
     "output_type": "stream",
     "text": [
      "bnn_classification validation accuracy: 0.9863782051282052\n"
     ]
    },
    {
     "name": "stderr",
     "output_type": "stream",
     "text": [
      "100%|██████████| 78/78 [00:01<00:00, 72.22it/s]\n"
     ]
    },
    {
     "name": "stdout",
     "output_type": "stream",
     "text": [
      "mlp_classification validation accuracy: 0.9833733974358975\n"
     ]
    },
    {
     "name": "stderr",
     "output_type": "stream",
     "text": [
      "100%|██████████| 78/78 [00:01<00:00, 70.04it/s]\n"
     ]
    },
    {
     "name": "stdout",
     "output_type": "stream",
     "text": [
      "mlp_dropout_classification validation accuracy: 0.9875801282051282\n",
      "BNN Test Error: 1.36%\n",
      "MLP Test Error: 1.66%\n",
      "MLP Dropout Test Error: 1.24%\n",
      "Epoch 459/600\n"
     ]
    },
    {
     "name": "stderr",
     "output_type": "stream",
     "text": [
      "100%|██████████| 468/468 [00:17<00:00, 26.58it/s]\n",
      "100%|██████████| 468/468 [00:06<00:00, 67.98it/s]\n",
      "100%|██████████| 468/468 [00:06<00:00, 68.11it/s]\n",
      "100%|██████████| 78/78 [00:18<00:00,  4.22it/s]\n"
     ]
    },
    {
     "name": "stdout",
     "output_type": "stream",
     "text": [
      "bnn_classification validation accuracy: 0.9866786858974359\n"
     ]
    },
    {
     "name": "stderr",
     "output_type": "stream",
     "text": [
      "100%|██████████| 78/78 [00:01<00:00, 71.41it/s]\n"
     ]
    },
    {
     "name": "stdout",
     "output_type": "stream",
     "text": [
      "mlp_classification validation accuracy: 0.9833733974358975\n"
     ]
    },
    {
     "name": "stderr",
     "output_type": "stream",
     "text": [
      "100%|██████████| 78/78 [00:01<00:00, 71.56it/s]\n"
     ]
    },
    {
     "name": "stdout",
     "output_type": "stream",
     "text": [
      "mlp_dropout_classification validation accuracy: 0.9877804487179487\n",
      "BNN Test Error: 1.33%\n",
      "MLP Test Error: 1.66%\n",
      "MLP Dropout Test Error: 1.22%\n",
      "Epoch 460/600\n"
     ]
    },
    {
     "name": "stderr",
     "output_type": "stream",
     "text": [
      "100%|██████████| 468/468 [00:17<00:00, 26.87it/s]\n",
      "100%|██████████| 468/468 [00:06<00:00, 68.03it/s]\n",
      "100%|██████████| 468/468 [00:06<00:00, 67.36it/s]\n",
      "100%|██████████| 78/78 [00:17<00:00,  4.42it/s]\n"
     ]
    },
    {
     "name": "stdout",
     "output_type": "stream",
     "text": [
      "bnn_classification validation accuracy: 0.9864783653846154\n"
     ]
    },
    {
     "name": "stderr",
     "output_type": "stream",
     "text": [
      "100%|██████████| 78/78 [00:01<00:00, 72.18it/s]\n"
     ]
    },
    {
     "name": "stdout",
     "output_type": "stream",
     "text": [
      "mlp_classification validation accuracy: 0.9833733974358975\n"
     ]
    },
    {
     "name": "stderr",
     "output_type": "stream",
     "text": [
      "100%|██████████| 78/78 [00:01<00:00, 70.81it/s]\n"
     ]
    },
    {
     "name": "stdout",
     "output_type": "stream",
     "text": [
      "mlp_dropout_classification validation accuracy: 0.9877804487179487\n",
      "BNN Test Error: 1.35%\n",
      "MLP Test Error: 1.66%\n",
      "MLP Dropout Test Error: 1.22%\n",
      "Epoch 461/600\n"
     ]
    },
    {
     "name": "stderr",
     "output_type": "stream",
     "text": [
      "100%|██████████| 468/468 [00:19<00:00, 24.08it/s]\n",
      "100%|██████████| 468/468 [00:06<00:00, 67.54it/s]\n",
      "100%|██████████| 468/468 [00:07<00:00, 66.85it/s]\n",
      "100%|██████████| 78/78 [00:18<00:00,  4.29it/s]\n"
     ]
    },
    {
     "name": "stdout",
     "output_type": "stream",
     "text": [
      "bnn_classification validation accuracy: 0.9864783653846154\n"
     ]
    },
    {
     "name": "stderr",
     "output_type": "stream",
     "text": [
      "100%|██████████| 78/78 [00:01<00:00, 69.69it/s]\n"
     ]
    },
    {
     "name": "stdout",
     "output_type": "stream",
     "text": [
      "mlp_classification validation accuracy: 0.9833733974358975\n"
     ]
    },
    {
     "name": "stderr",
     "output_type": "stream",
     "text": [
      "100%|██████████| 78/78 [00:01<00:00, 71.64it/s]\n"
     ]
    },
    {
     "name": "stdout",
     "output_type": "stream",
     "text": [
      "mlp_dropout_classification validation accuracy: 0.9875801282051282\n",
      "BNN Test Error: 1.35%\n",
      "MLP Test Error: 1.66%\n",
      "MLP Dropout Test Error: 1.24%\n",
      "Epoch 462/600\n"
     ]
    },
    {
     "name": "stderr",
     "output_type": "stream",
     "text": [
      "100%|██████████| 468/468 [00:17<00:00, 26.12it/s]\n",
      "100%|██████████| 468/468 [00:07<00:00, 64.86it/s]\n",
      "100%|██████████| 468/468 [00:07<00:00, 65.12it/s]\n",
      "100%|██████████| 78/78 [00:18<00:00,  4.31it/s]\n"
     ]
    },
    {
     "name": "stdout",
     "output_type": "stream",
     "text": [
      "bnn_classification validation accuracy: 0.9866786858974359\n"
     ]
    },
    {
     "name": "stderr",
     "output_type": "stream",
     "text": [
      "100%|██████████| 78/78 [00:01<00:00, 71.98it/s]\n"
     ]
    },
    {
     "name": "stdout",
     "output_type": "stream",
     "text": [
      "mlp_classification validation accuracy: 0.9833733974358975\n"
     ]
    },
    {
     "name": "stderr",
     "output_type": "stream",
     "text": [
      "100%|██████████| 78/78 [00:01<00:00, 72.29it/s]\n"
     ]
    },
    {
     "name": "stdout",
     "output_type": "stream",
     "text": [
      "mlp_dropout_classification validation accuracy: 0.9876802884615384\n",
      "BNN Test Error: 1.33%\n",
      "MLP Test Error: 1.66%\n",
      "MLP Dropout Test Error: 1.23%\n",
      "Epoch 463/600\n"
     ]
    },
    {
     "name": "stderr",
     "output_type": "stream",
     "text": [
      "100%|██████████| 468/468 [00:17<00:00, 26.75it/s]\n",
      "100%|██████████| 468/468 [00:06<00:00, 68.13it/s]\n",
      "100%|██████████| 468/468 [00:07<00:00, 66.23it/s]\n",
      "100%|██████████| 78/78 [00:17<00:00,  4.40it/s]\n"
     ]
    },
    {
     "name": "stdout",
     "output_type": "stream",
     "text": [
      "bnn_classification validation accuracy: 0.9864783653846154\n"
     ]
    },
    {
     "name": "stderr",
     "output_type": "stream",
     "text": [
      "100%|██████████| 78/78 [00:01<00:00, 72.82it/s]\n"
     ]
    },
    {
     "name": "stdout",
     "output_type": "stream",
     "text": [
      "mlp_classification validation accuracy: 0.9833733974358975\n"
     ]
    },
    {
     "name": "stderr",
     "output_type": "stream",
     "text": [
      "100%|██████████| 78/78 [00:01<00:00, 70.39it/s]\n"
     ]
    },
    {
     "name": "stdout",
     "output_type": "stream",
     "text": [
      "mlp_dropout_classification validation accuracy: 0.9876802884615384\n",
      "BNN Test Error: 1.35%\n",
      "MLP Test Error: 1.66%\n",
      "MLP Dropout Test Error: 1.23%\n",
      "Epoch 464/600\n"
     ]
    },
    {
     "name": "stderr",
     "output_type": "stream",
     "text": [
      "100%|██████████| 468/468 [00:17<00:00, 26.09it/s]\n",
      "100%|██████████| 468/468 [00:07<00:00, 66.61it/s]\n",
      "100%|██████████| 468/468 [00:07<00:00, 66.79it/s]\n",
      "100%|██████████| 78/78 [00:17<00:00,  4.37it/s]\n"
     ]
    },
    {
     "name": "stdout",
     "output_type": "stream",
     "text": [
      "bnn_classification validation accuracy: 0.9866786858974359\n"
     ]
    },
    {
     "name": "stderr",
     "output_type": "stream",
     "text": [
      "100%|██████████| 78/78 [00:01<00:00, 71.48it/s]\n"
     ]
    },
    {
     "name": "stdout",
     "output_type": "stream",
     "text": [
      "mlp_classification validation accuracy: 0.9833733974358975\n"
     ]
    },
    {
     "name": "stderr",
     "output_type": "stream",
     "text": [
      "100%|██████████| 78/78 [00:01<00:00, 71.16it/s]\n"
     ]
    },
    {
     "name": "stdout",
     "output_type": "stream",
     "text": [
      "mlp_dropout_classification validation accuracy: 0.9877804487179487\n",
      "BNN Test Error: 1.33%\n",
      "MLP Test Error: 1.66%\n",
      "MLP Dropout Test Error: 1.22%\n",
      "Epoch 465/600\n"
     ]
    },
    {
     "name": "stderr",
     "output_type": "stream",
     "text": [
      "100%|██████████| 468/468 [00:18<00:00, 24.84it/s]\n",
      "100%|██████████| 468/468 [00:06<00:00, 68.06it/s]\n",
      "100%|██████████| 468/468 [00:06<00:00, 67.69it/s]\n",
      "100%|██████████| 78/78 [00:18<00:00,  4.31it/s]\n"
     ]
    },
    {
     "name": "stdout",
     "output_type": "stream",
     "text": [
      "bnn_classification validation accuracy: 0.9864783653846154\n"
     ]
    },
    {
     "name": "stderr",
     "output_type": "stream",
     "text": [
      "100%|██████████| 78/78 [00:01<00:00, 67.64it/s]\n"
     ]
    },
    {
     "name": "stdout",
     "output_type": "stream",
     "text": [
      "mlp_classification validation accuracy: 0.9833733974358975\n"
     ]
    },
    {
     "name": "stderr",
     "output_type": "stream",
     "text": [
      "100%|██████████| 78/78 [00:01<00:00, 71.00it/s]\n"
     ]
    },
    {
     "name": "stdout",
     "output_type": "stream",
     "text": [
      "mlp_dropout_classification validation accuracy: 0.9877804487179487\n",
      "BNN Test Error: 1.35%\n",
      "MLP Test Error: 1.66%\n",
      "MLP Dropout Test Error: 1.22%\n",
      "Epoch 466/600\n"
     ]
    },
    {
     "name": "stderr",
     "output_type": "stream",
     "text": [
      "100%|██████████| 468/468 [00:17<00:00, 27.38it/s]\n",
      "100%|██████████| 468/468 [00:06<00:00, 67.15it/s]\n",
      "100%|██████████| 468/468 [00:07<00:00, 61.30it/s]\n",
      "100%|██████████| 78/78 [00:17<00:00,  4.46it/s]\n"
     ]
    },
    {
     "name": "stdout",
     "output_type": "stream",
     "text": [
      "bnn_classification validation accuracy: 0.9865785256410257\n"
     ]
    },
    {
     "name": "stderr",
     "output_type": "stream",
     "text": [
      "100%|██████████| 78/78 [00:01<00:00, 69.08it/s]\n"
     ]
    },
    {
     "name": "stdout",
     "output_type": "stream",
     "text": [
      "mlp_classification validation accuracy: 0.9833733974358975\n"
     ]
    },
    {
     "name": "stderr",
     "output_type": "stream",
     "text": [
      "100%|██████████| 78/78 [00:01<00:00, 71.30it/s]\n"
     ]
    },
    {
     "name": "stdout",
     "output_type": "stream",
     "text": [
      "mlp_dropout_classification validation accuracy: 0.9876802884615384\n",
      "BNN Test Error: 1.34%\n",
      "MLP Test Error: 1.66%\n",
      "MLP Dropout Test Error: 1.23%\n",
      "Epoch 467/600\n"
     ]
    },
    {
     "name": "stderr",
     "output_type": "stream",
     "text": [
      "100%|██████████| 468/468 [00:18<00:00, 25.92it/s]\n",
      "100%|██████████| 468/468 [00:06<00:00, 69.37it/s]\n",
      "100%|██████████| 468/468 [00:06<00:00, 67.48it/s]\n",
      "100%|██████████| 78/78 [00:20<00:00,  3.87it/s]\n"
     ]
    },
    {
     "name": "stdout",
     "output_type": "stream",
     "text": [
      "bnn_classification validation accuracy: 0.9862780448717948\n"
     ]
    },
    {
     "name": "stderr",
     "output_type": "stream",
     "text": [
      "100%|██████████| 78/78 [00:01<00:00, 72.25it/s]\n"
     ]
    },
    {
     "name": "stdout",
     "output_type": "stream",
     "text": [
      "mlp_classification validation accuracy: 0.9833733974358975\n"
     ]
    },
    {
     "name": "stderr",
     "output_type": "stream",
     "text": [
      "100%|██████████| 78/78 [00:01<00:00, 69.68it/s]\n"
     ]
    },
    {
     "name": "stdout",
     "output_type": "stream",
     "text": [
      "mlp_dropout_classification validation accuracy: 0.9877804487179487\n",
      "BNN Test Error: 1.37%\n",
      "MLP Test Error: 1.66%\n",
      "MLP Dropout Test Error: 1.22%\n",
      "Epoch 468/600\n"
     ]
    },
    {
     "name": "stderr",
     "output_type": "stream",
     "text": [
      "100%|██████████| 468/468 [00:17<00:00, 26.86it/s]\n",
      "100%|██████████| 468/468 [00:06<00:00, 67.76it/s]\n",
      "100%|██████████| 468/468 [00:06<00:00, 67.66it/s]\n",
      "100%|██████████| 78/78 [00:17<00:00,  4.37it/s]\n"
     ]
    },
    {
     "name": "stdout",
     "output_type": "stream",
     "text": [
      "bnn_classification validation accuracy: 0.9866786858974359\n"
     ]
    },
    {
     "name": "stderr",
     "output_type": "stream",
     "text": [
      "100%|██████████| 78/78 [00:01<00:00, 67.20it/s]\n"
     ]
    },
    {
     "name": "stdout",
     "output_type": "stream",
     "text": [
      "mlp_classification validation accuracy: 0.9833733974358975\n"
     ]
    },
    {
     "name": "stderr",
     "output_type": "stream",
     "text": [
      "100%|██████████| 78/78 [00:01<00:00, 70.51it/s]\n"
     ]
    },
    {
     "name": "stdout",
     "output_type": "stream",
     "text": [
      "mlp_dropout_classification validation accuracy: 0.9877804487179487\n",
      "BNN Test Error: 1.33%\n",
      "MLP Test Error: 1.66%\n",
      "MLP Dropout Test Error: 1.22%\n",
      "Epoch 469/600\n"
     ]
    },
    {
     "name": "stderr",
     "output_type": "stream",
     "text": [
      "100%|██████████| 468/468 [00:18<00:00, 24.98it/s]\n",
      "100%|██████████| 468/468 [00:06<00:00, 68.30it/s]\n",
      "100%|██████████| 468/468 [00:07<00:00, 65.95it/s]\n",
      "100%|██████████| 78/78 [00:17<00:00,  4.44it/s]\n"
     ]
    },
    {
     "name": "stdout",
     "output_type": "stream",
     "text": [
      "bnn_classification validation accuracy: 0.9866786858974359\n"
     ]
    },
    {
     "name": "stderr",
     "output_type": "stream",
     "text": [
      "100%|██████████| 78/78 [00:01<00:00, 69.58it/s]\n"
     ]
    },
    {
     "name": "stdout",
     "output_type": "stream",
     "text": [
      "mlp_classification validation accuracy: 0.9833733974358975\n"
     ]
    },
    {
     "name": "stderr",
     "output_type": "stream",
     "text": [
      "100%|██████████| 78/78 [00:01<00:00, 71.93it/s]\n"
     ]
    },
    {
     "name": "stdout",
     "output_type": "stream",
     "text": [
      "mlp_dropout_classification validation accuracy: 0.9877804487179487\n",
      "BNN Test Error: 1.33%\n",
      "MLP Test Error: 1.66%\n",
      "MLP Dropout Test Error: 1.22%\n",
      "Epoch 470/600\n"
     ]
    },
    {
     "name": "stderr",
     "output_type": "stream",
     "text": [
      "100%|██████████| 468/468 [00:17<00:00, 26.68it/s]\n",
      "100%|██████████| 468/468 [00:07<00:00, 65.79it/s]\n",
      "100%|██████████| 468/468 [00:07<00:00, 65.56it/s]\n",
      "100%|██████████| 78/78 [00:18<00:00,  4.25it/s]\n"
     ]
    },
    {
     "name": "stdout",
     "output_type": "stream",
     "text": [
      "bnn_classification validation accuracy: 0.9864783653846154\n"
     ]
    },
    {
     "name": "stderr",
     "output_type": "stream",
     "text": [
      "100%|██████████| 78/78 [00:01<00:00, 71.01it/s]\n"
     ]
    },
    {
     "name": "stdout",
     "output_type": "stream",
     "text": [
      "mlp_classification validation accuracy: 0.9833733974358975\n"
     ]
    },
    {
     "name": "stderr",
     "output_type": "stream",
     "text": [
      "100%|██████████| 78/78 [00:01<00:00, 70.85it/s]\n"
     ]
    },
    {
     "name": "stdout",
     "output_type": "stream",
     "text": [
      "mlp_dropout_classification validation accuracy: 0.9876802884615384\n",
      "BNN Test Error: 1.35%\n",
      "MLP Test Error: 1.66%\n",
      "MLP Dropout Test Error: 1.23%\n",
      "Epoch 471/600\n"
     ]
    },
    {
     "name": "stderr",
     "output_type": "stream",
     "text": [
      "100%|██████████| 468/468 [00:17<00:00, 26.61it/s]\n",
      "100%|██████████| 468/468 [00:06<00:00, 67.15it/s]\n",
      "100%|██████████| 468/468 [00:06<00:00, 67.07it/s]\n",
      "100%|██████████| 78/78 [00:20<00:00,  3.90it/s]\n"
     ]
    },
    {
     "name": "stdout",
     "output_type": "stream",
     "text": [
      "bnn_classification validation accuracy: 0.9863782051282052\n"
     ]
    },
    {
     "name": "stderr",
     "output_type": "stream",
     "text": [
      "100%|██████████| 78/78 [00:01<00:00, 70.01it/s]\n"
     ]
    },
    {
     "name": "stdout",
     "output_type": "stream",
     "text": [
      "mlp_classification validation accuracy: 0.9833733974358975\n"
     ]
    },
    {
     "name": "stderr",
     "output_type": "stream",
     "text": [
      "100%|██████████| 78/78 [00:01<00:00, 71.65it/s]\n"
     ]
    },
    {
     "name": "stdout",
     "output_type": "stream",
     "text": [
      "mlp_dropout_classification validation accuracy: 0.9877804487179487\n",
      "BNN Test Error: 1.36%\n",
      "MLP Test Error: 1.66%\n",
      "MLP Dropout Test Error: 1.22%\n",
      "Epoch 472/600\n"
     ]
    },
    {
     "name": "stderr",
     "output_type": "stream",
     "text": [
      "100%|██████████| 468/468 [00:17<00:00, 26.64it/s]\n",
      "100%|██████████| 468/468 [00:06<00:00, 67.94it/s]\n",
      "100%|██████████| 468/468 [00:07<00:00, 66.26it/s]\n",
      "100%|██████████| 78/78 [00:18<00:00,  4.33it/s]\n"
     ]
    },
    {
     "name": "stdout",
     "output_type": "stream",
     "text": [
      "bnn_classification validation accuracy: 0.9867788461538461\n"
     ]
    },
    {
     "name": "stderr",
     "output_type": "stream",
     "text": [
      "100%|██████████| 78/78 [00:01<00:00, 70.08it/s]\n"
     ]
    },
    {
     "name": "stdout",
     "output_type": "stream",
     "text": [
      "mlp_classification validation accuracy: 0.9833733974358975\n"
     ]
    },
    {
     "name": "stderr",
     "output_type": "stream",
     "text": [
      "100%|██████████| 78/78 [00:01<00:00, 69.34it/s]\n"
     ]
    },
    {
     "name": "stdout",
     "output_type": "stream",
     "text": [
      "mlp_dropout_classification validation accuracy: 0.9877804487179487\n",
      "BNN Test Error: 1.32%\n",
      "MLP Test Error: 1.66%\n",
      "MLP Dropout Test Error: 1.22%\n",
      "Epoch 473/600\n"
     ]
    },
    {
     "name": "stderr",
     "output_type": "stream",
     "text": [
      "100%|██████████| 468/468 [00:19<00:00, 24.35it/s]\n",
      "100%|██████████| 468/468 [00:06<00:00, 67.65it/s]\n",
      "100%|██████████| 468/468 [00:07<00:00, 66.84it/s]\n",
      "100%|██████████| 78/78 [00:17<00:00,  4.35it/s]\n"
     ]
    },
    {
     "name": "stdout",
     "output_type": "stream",
     "text": [
      "bnn_classification validation accuracy: 0.9864783653846154\n"
     ]
    },
    {
     "name": "stderr",
     "output_type": "stream",
     "text": [
      "100%|██████████| 78/78 [00:01<00:00, 70.51it/s]\n"
     ]
    },
    {
     "name": "stdout",
     "output_type": "stream",
     "text": [
      "mlp_classification validation accuracy: 0.9833733974358975\n"
     ]
    },
    {
     "name": "stderr",
     "output_type": "stream",
     "text": [
      "100%|██████████| 78/78 [00:01<00:00, 70.57it/s]\n"
     ]
    },
    {
     "name": "stdout",
     "output_type": "stream",
     "text": [
      "mlp_dropout_classification validation accuracy: 0.987479967948718\n",
      "BNN Test Error: 1.35%\n",
      "MLP Test Error: 1.66%\n",
      "MLP Dropout Test Error: 1.25%\n",
      "Epoch 474/600\n"
     ]
    },
    {
     "name": "stderr",
     "output_type": "stream",
     "text": [
      "100%|██████████| 468/468 [00:17<00:00, 26.36it/s]\n",
      "100%|██████████| 468/468 [00:07<00:00, 61.47it/s]\n",
      "100%|██████████| 468/468 [00:06<00:00, 66.98it/s]\n",
      "100%|██████████| 78/78 [00:17<00:00,  4.40it/s]\n"
     ]
    },
    {
     "name": "stdout",
     "output_type": "stream",
     "text": [
      "bnn_classification validation accuracy: 0.9864783653846154\n"
     ]
    },
    {
     "name": "stderr",
     "output_type": "stream",
     "text": [
      "100%|██████████| 78/78 [00:01<00:00, 65.62it/s]\n"
     ]
    },
    {
     "name": "stdout",
     "output_type": "stream",
     "text": [
      "mlp_classification validation accuracy: 0.9833733974358975\n"
     ]
    },
    {
     "name": "stderr",
     "output_type": "stream",
     "text": [
      "100%|██████████| 78/78 [00:01<00:00, 72.40it/s]\n"
     ]
    },
    {
     "name": "stdout",
     "output_type": "stream",
     "text": [
      "mlp_dropout_classification validation accuracy: 0.9872796474358975\n",
      "BNN Test Error: 1.35%\n",
      "MLP Test Error: 1.66%\n",
      "MLP Dropout Test Error: 1.27%\n",
      "Epoch 475/600\n"
     ]
    },
    {
     "name": "stderr",
     "output_type": "stream",
     "text": [
      "100%|██████████| 468/468 [00:17<00:00, 26.27it/s]\n",
      "100%|██████████| 468/468 [00:06<00:00, 69.59it/s]\n",
      "100%|██████████| 468/468 [00:07<00:00, 66.79it/s]\n",
      "100%|██████████| 78/78 [00:20<00:00,  3.73it/s]\n"
     ]
    },
    {
     "name": "stdout",
     "output_type": "stream",
     "text": [
      "bnn_classification validation accuracy: 0.9867788461538461\n"
     ]
    },
    {
     "name": "stderr",
     "output_type": "stream",
     "text": [
      "100%|██████████| 78/78 [00:01<00:00, 70.57it/s]\n"
     ]
    },
    {
     "name": "stdout",
     "output_type": "stream",
     "text": [
      "mlp_classification validation accuracy: 0.9833733974358975\n"
     ]
    },
    {
     "name": "stderr",
     "output_type": "stream",
     "text": [
      "100%|██████████| 78/78 [00:01<00:00, 72.52it/s]\n"
     ]
    },
    {
     "name": "stdout",
     "output_type": "stream",
     "text": [
      "mlp_dropout_classification validation accuracy: 0.9872796474358975\n",
      "BNN Test Error: 1.32%\n",
      "MLP Test Error: 1.66%\n",
      "MLP Dropout Test Error: 1.27%\n",
      "Epoch 476/600\n"
     ]
    },
    {
     "name": "stderr",
     "output_type": "stream",
     "text": [
      "100%|██████████| 468/468 [00:18<00:00, 25.38it/s]\n",
      "100%|██████████| 468/468 [00:06<00:00, 67.24it/s]\n",
      "100%|██████████| 468/468 [00:07<00:00, 66.26it/s]\n",
      "100%|██████████| 78/78 [00:18<00:00,  4.23it/s]\n"
     ]
    },
    {
     "name": "stdout",
     "output_type": "stream",
     "text": [
      "bnn_classification validation accuracy: 0.9867788461538461\n"
     ]
    },
    {
     "name": "stderr",
     "output_type": "stream",
     "text": [
      "100%|██████████| 78/78 [00:01<00:00, 69.90it/s]\n"
     ]
    },
    {
     "name": "stdout",
     "output_type": "stream",
     "text": [
      "mlp_classification validation accuracy: 0.9833733974358975\n"
     ]
    },
    {
     "name": "stderr",
     "output_type": "stream",
     "text": [
      "100%|██████████| 78/78 [00:01<00:00, 69.86it/s]\n"
     ]
    },
    {
     "name": "stdout",
     "output_type": "stream",
     "text": [
      "mlp_dropout_classification validation accuracy: 0.9871794871794872\n",
      "BNN Test Error: 1.32%\n",
      "MLP Test Error: 1.66%\n",
      "MLP Dropout Test Error: 1.28%\n",
      "Epoch 477/600\n"
     ]
    },
    {
     "name": "stderr",
     "output_type": "stream",
     "text": [
      "100%|██████████| 468/468 [00:18<00:00, 24.90it/s]\n",
      "100%|██████████| 468/468 [00:06<00:00, 68.64it/s]\n",
      "100%|██████████| 468/468 [00:06<00:00, 67.44it/s]\n",
      "100%|██████████| 78/78 [00:18<00:00,  4.24it/s]\n"
     ]
    },
    {
     "name": "stdout",
     "output_type": "stream",
     "text": [
      "bnn_classification validation accuracy: 0.9867788461538461\n"
     ]
    },
    {
     "name": "stderr",
     "output_type": "stream",
     "text": [
      "100%|██████████| 78/78 [00:01<00:00, 72.94it/s]\n"
     ]
    },
    {
     "name": "stdout",
     "output_type": "stream",
     "text": [
      "mlp_classification validation accuracy: 0.9833733974358975\n"
     ]
    },
    {
     "name": "stderr",
     "output_type": "stream",
     "text": [
      "100%|██████████| 78/78 [00:01<00:00, 73.08it/s]\n"
     ]
    },
    {
     "name": "stdout",
     "output_type": "stream",
     "text": [
      "mlp_dropout_classification validation accuracy: 0.9871794871794872\n",
      "BNN Test Error: 1.32%\n",
      "MLP Test Error: 1.66%\n",
      "MLP Dropout Test Error: 1.28%\n",
      "Epoch 478/600\n"
     ]
    },
    {
     "name": "stderr",
     "output_type": "stream",
     "text": [
      "100%|██████████| 468/468 [00:17<00:00, 26.55it/s]\n",
      "100%|██████████| 468/468 [00:06<00:00, 67.16it/s]\n",
      "100%|██████████| 468/468 [00:07<00:00, 66.70it/s]\n",
      "100%|██████████| 78/78 [00:17<00:00,  4.38it/s]\n"
     ]
    },
    {
     "name": "stdout",
     "output_type": "stream",
     "text": [
      "bnn_classification validation accuracy: 0.9864783653846154\n"
     ]
    },
    {
     "name": "stderr",
     "output_type": "stream",
     "text": [
      "100%|██████████| 78/78 [00:01<00:00, 72.66it/s]\n"
     ]
    },
    {
     "name": "stdout",
     "output_type": "stream",
     "text": [
      "mlp_classification validation accuracy: 0.9833733974358975\n"
     ]
    },
    {
     "name": "stderr",
     "output_type": "stream",
     "text": [
      "100%|██████████| 78/78 [00:01<00:00, 71.63it/s]\n"
     ]
    },
    {
     "name": "stdout",
     "output_type": "stream",
     "text": [
      "mlp_dropout_classification validation accuracy: 0.9873798076923077\n",
      "BNN Test Error: 1.35%\n",
      "MLP Test Error: 1.66%\n",
      "MLP Dropout Test Error: 1.26%\n",
      "Epoch 479/600\n"
     ]
    },
    {
     "name": "stderr",
     "output_type": "stream",
     "text": [
      "100%|██████████| 468/468 [00:17<00:00, 26.35it/s]\n",
      "100%|██████████| 468/468 [00:06<00:00, 67.29it/s]\n",
      "100%|██████████| 468/468 [00:06<00:00, 67.46it/s]\n",
      "100%|██████████| 78/78 [00:19<00:00,  3.96it/s]\n"
     ]
    },
    {
     "name": "stdout",
     "output_type": "stream",
     "text": [
      "bnn_classification validation accuracy: 0.9864783653846154\n"
     ]
    },
    {
     "name": "stderr",
     "output_type": "stream",
     "text": [
      "100%|██████████| 78/78 [00:01<00:00, 71.84it/s]\n"
     ]
    },
    {
     "name": "stdout",
     "output_type": "stream",
     "text": [
      "mlp_classification validation accuracy: 0.9833733974358975\n"
     ]
    },
    {
     "name": "stderr",
     "output_type": "stream",
     "text": [
      "100%|██████████| 78/78 [00:01<00:00, 69.83it/s]\n"
     ]
    },
    {
     "name": "stdout",
     "output_type": "stream",
     "text": [
      "mlp_dropout_classification validation accuracy: 0.987479967948718\n",
      "BNN Test Error: 1.35%\n",
      "MLP Test Error: 1.66%\n",
      "MLP Dropout Test Error: 1.25%\n",
      "Epoch 480/600\n"
     ]
    },
    {
     "name": "stderr",
     "output_type": "stream",
     "text": [
      "100%|██████████| 468/468 [00:17<00:00, 26.08it/s]\n",
      "100%|██████████| 468/468 [00:06<00:00, 68.57it/s]\n",
      "100%|██████████| 468/468 [00:06<00:00, 67.72it/s]\n",
      "100%|██████████| 78/78 [00:18<00:00,  4.23it/s]\n"
     ]
    },
    {
     "name": "stdout",
     "output_type": "stream",
     "text": [
      "bnn_classification validation accuracy: 0.9866786858974359\n"
     ]
    },
    {
     "name": "stderr",
     "output_type": "stream",
     "text": [
      "100%|██████████| 78/78 [00:01<00:00, 71.82it/s]\n"
     ]
    },
    {
     "name": "stdout",
     "output_type": "stream",
     "text": [
      "mlp_classification validation accuracy: 0.9833733974358975\n"
     ]
    },
    {
     "name": "stderr",
     "output_type": "stream",
     "text": [
      "100%|██████████| 78/78 [00:01<00:00, 68.96it/s]\n"
     ]
    },
    {
     "name": "stdout",
     "output_type": "stream",
     "text": [
      "mlp_dropout_classification validation accuracy: 0.9872796474358975\n",
      "BNN Test Error: 1.33%\n",
      "MLP Test Error: 1.66%\n",
      "MLP Dropout Test Error: 1.27%\n",
      "Epoch 481/600\n"
     ]
    },
    {
     "name": "stderr",
     "output_type": "stream",
     "text": [
      "100%|██████████| 468/468 [00:17<00:00, 26.11it/s]\n",
      "100%|██████████| 468/468 [00:06<00:00, 68.80it/s]\n",
      "100%|██████████| 468/468 [00:06<00:00, 67.00it/s]\n",
      "100%|██████████| 78/78 [00:17<00:00,  4.46it/s]\n"
     ]
    },
    {
     "name": "stdout",
     "output_type": "stream",
     "text": [
      "bnn_classification validation accuracy: 0.9864783653846154\n"
     ]
    },
    {
     "name": "stderr",
     "output_type": "stream",
     "text": [
      "100%|██████████| 78/78 [00:01<00:00, 73.05it/s]\n"
     ]
    },
    {
     "name": "stdout",
     "output_type": "stream",
     "text": [
      "mlp_classification validation accuracy: 0.9833733974358975\n"
     ]
    },
    {
     "name": "stderr",
     "output_type": "stream",
     "text": [
      "100%|██████████| 78/78 [00:01<00:00, 73.52it/s]\n"
     ]
    },
    {
     "name": "stdout",
     "output_type": "stream",
     "text": [
      "mlp_dropout_classification validation accuracy: 0.987479967948718\n",
      "BNN Test Error: 1.35%\n",
      "MLP Test Error: 1.66%\n",
      "MLP Dropout Test Error: 1.25%\n",
      "Epoch 482/600\n"
     ]
    },
    {
     "name": "stderr",
     "output_type": "stream",
     "text": [
      "100%|██████████| 468/468 [00:18<00:00, 25.83it/s]\n",
      "100%|██████████| 468/468 [00:06<00:00, 67.78it/s]\n",
      "100%|██████████| 468/468 [00:07<00:00, 66.80it/s]\n",
      "100%|██████████| 78/78 [00:17<00:00,  4.41it/s]\n"
     ]
    },
    {
     "name": "stdout",
     "output_type": "stream",
     "text": [
      "bnn_classification validation accuracy: 0.9864783653846154\n"
     ]
    },
    {
     "name": "stderr",
     "output_type": "stream",
     "text": [
      "100%|██████████| 78/78 [00:01<00:00, 73.62it/s]\n"
     ]
    },
    {
     "name": "stdout",
     "output_type": "stream",
     "text": [
      "mlp_classification validation accuracy: 0.9833733974358975\n"
     ]
    },
    {
     "name": "stderr",
     "output_type": "stream",
     "text": [
      "100%|██████████| 78/78 [00:01<00:00, 72.18it/s]\n"
     ]
    },
    {
     "name": "stdout",
     "output_type": "stream",
     "text": [
      "mlp_dropout_classification validation accuracy: 0.987479967948718\n",
      "BNN Test Error: 1.35%\n",
      "MLP Test Error: 1.66%\n",
      "MLP Dropout Test Error: 1.25%\n",
      "Epoch 483/600\n"
     ]
    },
    {
     "name": "stderr",
     "output_type": "stream",
     "text": [
      "100%|██████████| 468/468 [00:17<00:00, 26.71it/s]\n",
      "100%|██████████| 468/468 [00:06<00:00, 68.32it/s]\n",
      "100%|██████████| 468/468 [00:06<00:00, 68.23it/s]\n",
      "100%|██████████| 78/78 [00:18<00:00,  4.22it/s]\n"
     ]
    },
    {
     "name": "stdout",
     "output_type": "stream",
     "text": [
      "bnn_classification validation accuracy: 0.9865785256410257\n"
     ]
    },
    {
     "name": "stderr",
     "output_type": "stream",
     "text": [
      "100%|██████████| 78/78 [00:01<00:00, 68.66it/s]\n"
     ]
    },
    {
     "name": "stdout",
     "output_type": "stream",
     "text": [
      "mlp_classification validation accuracy: 0.9833733974358975\n"
     ]
    },
    {
     "name": "stderr",
     "output_type": "stream",
     "text": [
      "100%|██████████| 78/78 [00:01<00:00, 69.15it/s]\n"
     ]
    },
    {
     "name": "stdout",
     "output_type": "stream",
     "text": [
      "mlp_dropout_classification validation accuracy: 0.9873798076923077\n",
      "BNN Test Error: 1.34%\n",
      "MLP Test Error: 1.66%\n",
      "MLP Dropout Test Error: 1.26%\n",
      "Epoch 484/600\n"
     ]
    },
    {
     "name": "stderr",
     "output_type": "stream",
     "text": [
      "100%|██████████| 468/468 [00:17<00:00, 27.15it/s]\n",
      "100%|██████████| 468/468 [00:06<00:00, 68.97it/s]\n",
      "100%|██████████| 468/468 [00:06<00:00, 67.36it/s]\n",
      "100%|██████████| 78/78 [00:18<00:00,  4.26it/s]\n"
     ]
    },
    {
     "name": "stdout",
     "output_type": "stream",
     "text": [
      "bnn_classification validation accuracy: 0.9867788461538461\n"
     ]
    },
    {
     "name": "stderr",
     "output_type": "stream",
     "text": [
      "100%|██████████| 78/78 [00:01<00:00, 71.97it/s]\n"
     ]
    },
    {
     "name": "stdout",
     "output_type": "stream",
     "text": [
      "mlp_classification validation accuracy: 0.9833733974358975\n"
     ]
    },
    {
     "name": "stderr",
     "output_type": "stream",
     "text": [
      "100%|██████████| 78/78 [00:01<00:00, 71.90it/s]\n"
     ]
    },
    {
     "name": "stdout",
     "output_type": "stream",
     "text": [
      "mlp_dropout_classification validation accuracy: 0.987479967948718\n",
      "BNN Test Error: 1.32%\n",
      "MLP Test Error: 1.66%\n",
      "MLP Dropout Test Error: 1.25%\n",
      "Epoch 485/600\n"
     ]
    },
    {
     "name": "stderr",
     "output_type": "stream",
     "text": [
      "100%|██████████| 468/468 [00:18<00:00, 24.98it/s]\n",
      "100%|██████████| 468/468 [00:06<00:00, 68.97it/s]\n",
      "100%|██████████| 468/468 [00:06<00:00, 68.76it/s]\n",
      "100%|██████████| 78/78 [00:18<00:00,  4.31it/s]\n"
     ]
    },
    {
     "name": "stdout",
     "output_type": "stream",
     "text": [
      "bnn_classification validation accuracy: 0.9861778846153846\n"
     ]
    },
    {
     "name": "stderr",
     "output_type": "stream",
     "text": [
      "100%|██████████| 78/78 [00:01<00:00, 73.11it/s]\n"
     ]
    },
    {
     "name": "stdout",
     "output_type": "stream",
     "text": [
      "mlp_classification validation accuracy: 0.9833733974358975\n"
     ]
    },
    {
     "name": "stderr",
     "output_type": "stream",
     "text": [
      "100%|██████████| 78/78 [00:01<00:00, 73.49it/s]\n"
     ]
    },
    {
     "name": "stdout",
     "output_type": "stream",
     "text": [
      "mlp_dropout_classification validation accuracy: 0.987479967948718\n",
      "BNN Test Error: 1.38%\n",
      "MLP Test Error: 1.66%\n",
      "MLP Dropout Test Error: 1.25%\n",
      "Epoch 486/600\n"
     ]
    },
    {
     "name": "stderr",
     "output_type": "stream",
     "text": [
      "100%|██████████| 468/468 [00:17<00:00, 27.49it/s]\n",
      "100%|██████████| 468/468 [00:07<00:00, 65.83it/s]\n",
      "100%|██████████| 468/468 [00:06<00:00, 67.97it/s]\n",
      "100%|██████████| 78/78 [00:17<00:00,  4.57it/s]\n"
     ]
    },
    {
     "name": "stdout",
     "output_type": "stream",
     "text": [
      "bnn_classification validation accuracy: 0.9865785256410257\n"
     ]
    },
    {
     "name": "stderr",
     "output_type": "stream",
     "text": [
      "100%|██████████| 78/78 [00:01<00:00, 69.46it/s]\n"
     ]
    },
    {
     "name": "stdout",
     "output_type": "stream",
     "text": [
      "mlp_classification validation accuracy: 0.9833733974358975\n"
     ]
    },
    {
     "name": "stderr",
     "output_type": "stream",
     "text": [
      "100%|██████████| 78/78 [00:01<00:00, 73.10it/s]\n"
     ]
    },
    {
     "name": "stdout",
     "output_type": "stream",
     "text": [
      "mlp_dropout_classification validation accuracy: 0.987479967948718\n",
      "BNN Test Error: 1.34%\n",
      "MLP Test Error: 1.66%\n",
      "MLP Dropout Test Error: 1.25%\n",
      "Epoch 487/600\n"
     ]
    },
    {
     "name": "stderr",
     "output_type": "stream",
     "text": [
      "100%|██████████| 468/468 [00:18<00:00, 25.61it/s]\n",
      "100%|██████████| 468/468 [00:06<00:00, 69.04it/s]\n",
      "100%|██████████| 468/468 [00:06<00:00, 66.95it/s]\n",
      "100%|██████████| 78/78 [00:19<00:00,  3.92it/s]\n"
     ]
    },
    {
     "name": "stdout",
     "output_type": "stream",
     "text": [
      "bnn_classification validation accuracy: 0.9868790064102564\n"
     ]
    },
    {
     "name": "stderr",
     "output_type": "stream",
     "text": [
      "100%|██████████| 78/78 [00:01<00:00, 72.74it/s]\n"
     ]
    },
    {
     "name": "stdout",
     "output_type": "stream",
     "text": [
      "mlp_classification validation accuracy: 0.9833733974358975\n"
     ]
    },
    {
     "name": "stderr",
     "output_type": "stream",
     "text": [
      "100%|██████████| 78/78 [00:01<00:00, 72.14it/s]\n"
     ]
    },
    {
     "name": "stdout",
     "output_type": "stream",
     "text": [
      "mlp_dropout_classification validation accuracy: 0.9875801282051282\n",
      "BNN Test Error: 1.31%\n",
      "MLP Test Error: 1.66%\n",
      "MLP Dropout Test Error: 1.24%\n",
      "Epoch 488/600\n"
     ]
    },
    {
     "name": "stderr",
     "output_type": "stream",
     "text": [
      "100%|██████████| 468/468 [00:17<00:00, 26.78it/s]\n",
      "100%|██████████| 468/468 [00:06<00:00, 68.20it/s]\n",
      "100%|██████████| 468/468 [00:06<00:00, 67.93it/s]\n",
      "100%|██████████| 78/78 [00:17<00:00,  4.35it/s]\n"
     ]
    },
    {
     "name": "stdout",
     "output_type": "stream",
     "text": [
      "bnn_classification validation accuracy: 0.9866786858974359\n"
     ]
    },
    {
     "name": "stderr",
     "output_type": "stream",
     "text": [
      "100%|██████████| 78/78 [00:01<00:00, 72.20it/s]\n"
     ]
    },
    {
     "name": "stdout",
     "output_type": "stream",
     "text": [
      "mlp_classification validation accuracy: 0.9833733974358975\n"
     ]
    },
    {
     "name": "stderr",
     "output_type": "stream",
     "text": [
      "100%|██████████| 78/78 [00:01<00:00, 69.50it/s]\n"
     ]
    },
    {
     "name": "stdout",
     "output_type": "stream",
     "text": [
      "mlp_dropout_classification validation accuracy: 0.9878806089743589\n",
      "BNN Test Error: 1.33%\n",
      "MLP Test Error: 1.66%\n",
      "MLP Dropout Test Error: 1.21%\n",
      "Epoch 489/600\n"
     ]
    },
    {
     "name": "stderr",
     "output_type": "stream",
     "text": [
      "100%|██████████| 468/468 [00:17<00:00, 26.77it/s]\n",
      "100%|██████████| 468/468 [00:06<00:00, 67.12it/s]\n",
      "100%|██████████| 468/468 [00:06<00:00, 66.90it/s]\n",
      "100%|██████████| 78/78 [00:17<00:00,  4.39it/s]\n"
     ]
    },
    {
     "name": "stdout",
     "output_type": "stream",
     "text": [
      "bnn_classification validation accuracy: 0.9865785256410257\n"
     ]
    },
    {
     "name": "stderr",
     "output_type": "stream",
     "text": [
      "100%|██████████| 78/78 [00:01<00:00, 72.30it/s]\n"
     ]
    },
    {
     "name": "stdout",
     "output_type": "stream",
     "text": [
      "mlp_classification validation accuracy: 0.9833733974358975\n"
     ]
    },
    {
     "name": "stderr",
     "output_type": "stream",
     "text": [
      "100%|██████████| 78/78 [00:01<00:00, 73.34it/s]\n"
     ]
    },
    {
     "name": "stdout",
     "output_type": "stream",
     "text": [
      "mlp_dropout_classification validation accuracy: 0.9877804487179487\n",
      "BNN Test Error: 1.34%\n",
      "MLP Test Error: 1.66%\n",
      "MLP Dropout Test Error: 1.22%\n",
      "Epoch 490/600\n"
     ]
    },
    {
     "name": "stderr",
     "output_type": "stream",
     "text": [
      "100%|██████████| 468/468 [00:17<00:00, 26.19it/s]\n",
      "100%|██████████| 468/468 [00:07<00:00, 65.29it/s]\n",
      "100%|██████████| 468/468 [00:07<00:00, 66.40it/s]\n",
      "100%|██████████| 78/78 [00:18<00:00,  4.31it/s]\n"
     ]
    },
    {
     "name": "stdout",
     "output_type": "stream",
     "text": [
      "bnn_classification validation accuracy: 0.9867788461538461\n"
     ]
    },
    {
     "name": "stderr",
     "output_type": "stream",
     "text": [
      "100%|██████████| 78/78 [00:01<00:00, 70.38it/s]\n"
     ]
    },
    {
     "name": "stdout",
     "output_type": "stream",
     "text": [
      "mlp_classification validation accuracy: 0.9833733974358975\n"
     ]
    },
    {
     "name": "stderr",
     "output_type": "stream",
     "text": [
      "100%|██████████| 78/78 [00:01<00:00, 71.19it/s]\n"
     ]
    },
    {
     "name": "stdout",
     "output_type": "stream",
     "text": [
      "mlp_dropout_classification validation accuracy: 0.9877804487179487\n",
      "BNN Test Error: 1.32%\n",
      "MLP Test Error: 1.66%\n",
      "MLP Dropout Test Error: 1.22%\n",
      "Epoch 491/600\n"
     ]
    },
    {
     "name": "stderr",
     "output_type": "stream",
     "text": [
      "100%|██████████| 468/468 [00:17<00:00, 26.68it/s]\n",
      "100%|██████████| 468/468 [00:06<00:00, 68.11it/s]\n",
      "100%|██████████| 468/468 [00:06<00:00, 67.02it/s]\n",
      "100%|██████████| 78/78 [00:21<00:00,  3.66it/s]\n"
     ]
    },
    {
     "name": "stdout",
     "output_type": "stream",
     "text": [
      "bnn_classification validation accuracy: 0.9865785256410257\n"
     ]
    },
    {
     "name": "stderr",
     "output_type": "stream",
     "text": [
      "100%|██████████| 78/78 [00:01<00:00, 73.05it/s]\n"
     ]
    },
    {
     "name": "stdout",
     "output_type": "stream",
     "text": [
      "mlp_classification validation accuracy: 0.9833733974358975\n"
     ]
    },
    {
     "name": "stderr",
     "output_type": "stream",
     "text": [
      "100%|██████████| 78/78 [00:01<00:00, 72.86it/s]\n"
     ]
    },
    {
     "name": "stdout",
     "output_type": "stream",
     "text": [
      "mlp_dropout_classification validation accuracy: 0.9877804487179487\n",
      "BNN Test Error: 1.34%\n",
      "MLP Test Error: 1.66%\n",
      "MLP Dropout Test Error: 1.22%\n",
      "Epoch 492/600\n"
     ]
    },
    {
     "name": "stderr",
     "output_type": "stream",
     "text": [
      "100%|██████████| 468/468 [00:17<00:00, 27.17it/s]\n",
      "100%|██████████| 468/468 [00:06<00:00, 67.83it/s]\n",
      "100%|██████████| 468/468 [00:06<00:00, 67.84it/s]\n",
      "100%|██████████| 78/78 [00:18<00:00,  4.33it/s]\n"
     ]
    },
    {
     "name": "stdout",
     "output_type": "stream",
     "text": [
      "bnn_classification validation accuracy: 0.9868790064102564\n"
     ]
    },
    {
     "name": "stderr",
     "output_type": "stream",
     "text": [
      "100%|██████████| 78/78 [00:01<00:00, 69.47it/s]\n"
     ]
    },
    {
     "name": "stdout",
     "output_type": "stream",
     "text": [
      "mlp_classification validation accuracy: 0.9833733974358975\n"
     ]
    },
    {
     "name": "stderr",
     "output_type": "stream",
     "text": [
      "100%|██████████| 78/78 [00:01<00:00, 69.31it/s]\n"
     ]
    },
    {
     "name": "stdout",
     "output_type": "stream",
     "text": [
      "mlp_dropout_classification validation accuracy: 0.9877804487179487\n",
      "BNN Test Error: 1.31%\n",
      "MLP Test Error: 1.66%\n",
      "MLP Dropout Test Error: 1.22%\n",
      "Epoch 493/600\n"
     ]
    },
    {
     "name": "stderr",
     "output_type": "stream",
     "text": [
      "100%|██████████| 468/468 [00:18<00:00, 25.24it/s]\n",
      "100%|██████████| 468/468 [00:06<00:00, 67.21it/s]\n",
      "100%|██████████| 468/468 [00:07<00:00, 66.80it/s]\n",
      "100%|██████████| 78/78 [00:17<00:00,  4.39it/s]\n"
     ]
    },
    {
     "name": "stdout",
     "output_type": "stream",
     "text": [
      "bnn_classification validation accuracy: 0.9863782051282052\n"
     ]
    },
    {
     "name": "stderr",
     "output_type": "stream",
     "text": [
      "100%|██████████| 78/78 [00:01<00:00, 70.99it/s]\n"
     ]
    },
    {
     "name": "stdout",
     "output_type": "stream",
     "text": [
      "mlp_classification validation accuracy: 0.9833733974358975\n"
     ]
    },
    {
     "name": "stderr",
     "output_type": "stream",
     "text": [
      "100%|██████████| 78/78 [00:01<00:00, 67.88it/s]\n"
     ]
    },
    {
     "name": "stdout",
     "output_type": "stream",
     "text": [
      "mlp_dropout_classification validation accuracy: 0.9877804487179487\n",
      "BNN Test Error: 1.36%\n",
      "MLP Test Error: 1.66%\n",
      "MLP Dropout Test Error: 1.22%\n",
      "Epoch 494/600\n"
     ]
    },
    {
     "name": "stderr",
     "output_type": "stream",
     "text": [
      "100%|██████████| 468/468 [00:18<00:00, 25.65it/s]\n",
      "100%|██████████| 468/468 [00:07<00:00, 65.25it/s]\n",
      "100%|██████████| 468/468 [00:07<00:00, 66.74it/s]\n",
      "100%|██████████| 78/78 [00:18<00:00,  4.31it/s]\n"
     ]
    },
    {
     "name": "stdout",
     "output_type": "stream",
     "text": [
      "bnn_classification validation accuracy: 0.9866786858974359\n"
     ]
    },
    {
     "name": "stderr",
     "output_type": "stream",
     "text": [
      "100%|██████████| 78/78 [00:01<00:00, 71.61it/s]\n"
     ]
    },
    {
     "name": "stdout",
     "output_type": "stream",
     "text": [
      "mlp_classification validation accuracy: 0.9833733974358975\n"
     ]
    },
    {
     "name": "stderr",
     "output_type": "stream",
     "text": [
      "100%|██████████| 78/78 [00:01<00:00, 71.70it/s]\n"
     ]
    },
    {
     "name": "stdout",
     "output_type": "stream",
     "text": [
      "mlp_dropout_classification validation accuracy: 0.9876802884615384\n",
      "BNN Test Error: 1.33%\n",
      "MLP Test Error: 1.66%\n",
      "MLP Dropout Test Error: 1.23%\n",
      "Epoch 495/600\n"
     ]
    },
    {
     "name": "stderr",
     "output_type": "stream",
     "text": [
      "100%|██████████| 468/468 [00:18<00:00, 25.97it/s]\n",
      "100%|██████████| 468/468 [00:06<00:00, 67.64it/s]\n",
      "100%|██████████| 468/468 [00:07<00:00, 65.27it/s]\n",
      "100%|██████████| 78/78 [00:19<00:00,  4.10it/s]\n"
     ]
    },
    {
     "name": "stdout",
     "output_type": "stream",
     "text": [
      "bnn_classification validation accuracy: 0.9862780448717948\n"
     ]
    },
    {
     "name": "stderr",
     "output_type": "stream",
     "text": [
      "100%|██████████| 78/78 [00:01<00:00, 69.68it/s]\n"
     ]
    },
    {
     "name": "stdout",
     "output_type": "stream",
     "text": [
      "mlp_classification validation accuracy: 0.9833733974358975\n"
     ]
    },
    {
     "name": "stderr",
     "output_type": "stream",
     "text": [
      "100%|██████████| 78/78 [00:01<00:00, 71.06it/s]\n"
     ]
    },
    {
     "name": "stdout",
     "output_type": "stream",
     "text": [
      "mlp_dropout_classification validation accuracy: 0.9875801282051282\n",
      "BNN Test Error: 1.37%\n",
      "MLP Test Error: 1.66%\n",
      "MLP Dropout Test Error: 1.24%\n",
      "Epoch 496/600\n"
     ]
    },
    {
     "name": "stderr",
     "output_type": "stream",
     "text": [
      "100%|██████████| 468/468 [00:18<00:00, 25.82it/s]\n",
      "100%|██████████| 468/468 [00:07<00:00, 66.41it/s]\n",
      "100%|██████████| 468/468 [00:07<00:00, 65.67it/s]\n",
      "100%|██████████| 78/78 [00:18<00:00,  4.22it/s]\n"
     ]
    },
    {
     "name": "stdout",
     "output_type": "stream",
     "text": [
      "bnn_classification validation accuracy: 0.9864783653846154\n"
     ]
    },
    {
     "name": "stderr",
     "output_type": "stream",
     "text": [
      "100%|██████████| 78/78 [00:01<00:00, 67.95it/s]\n"
     ]
    },
    {
     "name": "stdout",
     "output_type": "stream",
     "text": [
      "mlp_classification validation accuracy: 0.9833733974358975\n"
     ]
    },
    {
     "name": "stderr",
     "output_type": "stream",
     "text": [
      "100%|██████████| 78/78 [00:01<00:00, 68.48it/s]\n"
     ]
    },
    {
     "name": "stdout",
     "output_type": "stream",
     "text": [
      "mlp_dropout_classification validation accuracy: 0.987479967948718\n",
      "BNN Test Error: 1.35%\n",
      "MLP Test Error: 1.66%\n",
      "MLP Dropout Test Error: 1.25%\n",
      "Epoch 497/600\n"
     ]
    },
    {
     "name": "stderr",
     "output_type": "stream",
     "text": [
      "100%|██████████| 468/468 [00:18<00:00, 25.30it/s]\n",
      "100%|██████████| 468/468 [00:07<00:00, 66.33it/s]\n",
      "100%|██████████| 468/468 [00:07<00:00, 65.88it/s]\n",
      "100%|██████████| 78/78 [00:18<00:00,  4.29it/s]\n"
     ]
    },
    {
     "name": "stdout",
     "output_type": "stream",
     "text": [
      "bnn_classification validation accuracy: 0.9863782051282052\n"
     ]
    },
    {
     "name": "stderr",
     "output_type": "stream",
     "text": [
      "100%|██████████| 78/78 [00:01<00:00, 70.74it/s]\n"
     ]
    },
    {
     "name": "stdout",
     "output_type": "stream",
     "text": [
      "mlp_classification validation accuracy: 0.9833733974358975\n"
     ]
    },
    {
     "name": "stderr",
     "output_type": "stream",
     "text": [
      "100%|██████████| 78/78 [00:01<00:00, 72.75it/s]\n"
     ]
    },
    {
     "name": "stdout",
     "output_type": "stream",
     "text": [
      "mlp_dropout_classification validation accuracy: 0.9873798076923077\n",
      "BNN Test Error: 1.36%\n",
      "MLP Test Error: 1.66%\n",
      "MLP Dropout Test Error: 1.26%\n",
      "Epoch 498/600\n"
     ]
    },
    {
     "name": "stderr",
     "output_type": "stream",
     "text": [
      "100%|██████████| 468/468 [00:17<00:00, 26.46it/s]\n",
      "100%|██████████| 468/468 [00:07<00:00, 65.65it/s]\n",
      "100%|██████████| 468/468 [00:07<00:00, 65.13it/s]\n",
      "100%|██████████| 78/78 [00:17<00:00,  4.38it/s]\n"
     ]
    },
    {
     "name": "stdout",
     "output_type": "stream",
     "text": [
      "bnn_classification validation accuracy: 0.9869791666666666\n"
     ]
    },
    {
     "name": "stderr",
     "output_type": "stream",
     "text": [
      "100%|██████████| 78/78 [00:01<00:00, 71.54it/s]\n"
     ]
    },
    {
     "name": "stdout",
     "output_type": "stream",
     "text": [
      "mlp_classification validation accuracy: 0.9833733974358975\n"
     ]
    },
    {
     "name": "stderr",
     "output_type": "stream",
     "text": [
      "100%|██████████| 78/78 [00:01<00:00, 70.73it/s]\n"
     ]
    },
    {
     "name": "stdout",
     "output_type": "stream",
     "text": [
      "mlp_dropout_classification validation accuracy: 0.9875801282051282\n",
      "BNN Test Error: 1.30%\n",
      "MLP Test Error: 1.66%\n",
      "MLP Dropout Test Error: 1.24%\n",
      "Epoch 499/600\n"
     ]
    },
    {
     "name": "stderr",
     "output_type": "stream",
     "text": [
      "100%|██████████| 468/468 [00:17<00:00, 26.06it/s]\n",
      "100%|██████████| 468/468 [00:06<00:00, 67.34it/s]\n",
      "100%|██████████| 468/468 [00:07<00:00, 66.83it/s]\n",
      "100%|██████████| 78/78 [00:19<00:00,  4.00it/s]\n"
     ]
    },
    {
     "name": "stdout",
     "output_type": "stream",
     "text": [
      "bnn_classification validation accuracy: 0.9868790064102564\n"
     ]
    },
    {
     "name": "stderr",
     "output_type": "stream",
     "text": [
      "100%|██████████| 78/78 [00:01<00:00, 69.62it/s]\n"
     ]
    },
    {
     "name": "stdout",
     "output_type": "stream",
     "text": [
      "mlp_classification validation accuracy: 0.9833733974358975\n"
     ]
    },
    {
     "name": "stderr",
     "output_type": "stream",
     "text": [
      "100%|██████████| 78/78 [00:01<00:00, 70.39it/s]\n"
     ]
    },
    {
     "name": "stdout",
     "output_type": "stream",
     "text": [
      "mlp_dropout_classification validation accuracy: 0.9875801282051282\n",
      "BNN Test Error: 1.31%\n",
      "MLP Test Error: 1.66%\n",
      "MLP Dropout Test Error: 1.24%\n",
      "Epoch 500/600\n"
     ]
    },
    {
     "name": "stderr",
     "output_type": "stream",
     "text": [
      "100%|██████████| 468/468 [00:17<00:00, 26.58it/s]\n",
      "100%|██████████| 468/468 [00:06<00:00, 67.79it/s]\n",
      "100%|██████████| 468/468 [00:07<00:00, 66.69it/s]\n",
      "100%|██████████| 78/78 [00:18<00:00,  4.30it/s]\n"
     ]
    },
    {
     "name": "stdout",
     "output_type": "stream",
     "text": [
      "bnn_classification validation accuracy: 0.9863782051282052\n"
     ]
    },
    {
     "name": "stderr",
     "output_type": "stream",
     "text": [
      "100%|██████████| 78/78 [00:01<00:00, 69.84it/s]\n"
     ]
    },
    {
     "name": "stdout",
     "output_type": "stream",
     "text": [
      "mlp_classification validation accuracy: 0.9833733974358975\n"
     ]
    },
    {
     "name": "stderr",
     "output_type": "stream",
     "text": [
      "100%|██████████| 78/78 [00:01<00:00, 67.93it/s]\n"
     ]
    },
    {
     "name": "stdout",
     "output_type": "stream",
     "text": [
      "mlp_dropout_classification validation accuracy: 0.9875801282051282\n",
      "BNN Test Error: 1.36%\n",
      "MLP Test Error: 1.66%\n",
      "MLP Dropout Test Error: 1.24%\n",
      "Epoch 501/600\n"
     ]
    },
    {
     "name": "stderr",
     "output_type": "stream",
     "text": [
      "100%|██████████| 468/468 [00:17<00:00, 26.53it/s]\n",
      "100%|██████████| 468/468 [00:06<00:00, 67.47it/s]\n",
      "100%|██████████| 468/468 [00:07<00:00, 66.17it/s]\n",
      "100%|██████████| 78/78 [00:17<00:00,  4.39it/s]\n"
     ]
    },
    {
     "name": "stdout",
     "output_type": "stream",
     "text": [
      "bnn_classification validation accuracy: 0.9864783653846154\n"
     ]
    },
    {
     "name": "stderr",
     "output_type": "stream",
     "text": [
      "100%|██████████| 78/78 [00:01<00:00, 69.33it/s]\n"
     ]
    },
    {
     "name": "stdout",
     "output_type": "stream",
     "text": [
      "mlp_classification validation accuracy: 0.9833733974358975\n"
     ]
    },
    {
     "name": "stderr",
     "output_type": "stream",
     "text": [
      "100%|██████████| 78/78 [00:01<00:00, 72.02it/s]\n"
     ]
    },
    {
     "name": "stdout",
     "output_type": "stream",
     "text": [
      "mlp_dropout_classification validation accuracy: 0.9875801282051282\n",
      "BNN Test Error: 1.35%\n",
      "MLP Test Error: 1.66%\n",
      "MLP Dropout Test Error: 1.24%\n",
      "Epoch 502/600\n"
     ]
    },
    {
     "name": "stderr",
     "output_type": "stream",
     "text": [
      "100%|██████████| 468/468 [00:17<00:00, 26.07it/s]\n",
      "100%|██████████| 468/468 [00:07<00:00, 63.93it/s]\n",
      "100%|██████████| 468/468 [00:07<00:00, 64.98it/s]\n",
      "100%|██████████| 78/78 [00:18<00:00,  4.31it/s]\n"
     ]
    },
    {
     "name": "stdout",
     "output_type": "stream",
     "text": [
      "bnn_classification validation accuracy: 0.9865785256410257\n"
     ]
    },
    {
     "name": "stderr",
     "output_type": "stream",
     "text": [
      "100%|██████████| 78/78 [00:01<00:00, 71.94it/s]\n"
     ]
    },
    {
     "name": "stdout",
     "output_type": "stream",
     "text": [
      "mlp_classification validation accuracy: 0.9833733974358975\n"
     ]
    },
    {
     "name": "stderr",
     "output_type": "stream",
     "text": [
      "100%|██████████| 78/78 [00:01<00:00, 71.59it/s]\n"
     ]
    },
    {
     "name": "stdout",
     "output_type": "stream",
     "text": [
      "mlp_dropout_classification validation accuracy: 0.9875801282051282\n",
      "BNN Test Error: 1.34%\n",
      "MLP Test Error: 1.66%\n",
      "MLP Dropout Test Error: 1.24%\n",
      "Epoch 503/600\n"
     ]
    },
    {
     "name": "stderr",
     "output_type": "stream",
     "text": [
      "100%|██████████| 468/468 [00:17<00:00, 26.58it/s]\n",
      "100%|██████████| 468/468 [00:06<00:00, 66.98it/s]\n",
      "100%|██████████| 468/468 [00:07<00:00, 66.16it/s]\n",
      "100%|██████████| 78/78 [00:20<00:00,  3.80it/s]\n"
     ]
    },
    {
     "name": "stdout",
     "output_type": "stream",
     "text": [
      "bnn_classification validation accuracy: 0.9868790064102564\n"
     ]
    },
    {
     "name": "stderr",
     "output_type": "stream",
     "text": [
      "100%|██████████| 78/78 [00:01<00:00, 69.34it/s]\n"
     ]
    },
    {
     "name": "stdout",
     "output_type": "stream",
     "text": [
      "mlp_classification validation accuracy: 0.9833733974358975\n"
     ]
    },
    {
     "name": "stderr",
     "output_type": "stream",
     "text": [
      "100%|██████████| 78/78 [00:01<00:00, 71.14it/s]\n"
     ]
    },
    {
     "name": "stdout",
     "output_type": "stream",
     "text": [
      "mlp_dropout_classification validation accuracy: 0.9875801282051282\n",
      "BNN Test Error: 1.31%\n",
      "MLP Test Error: 1.66%\n",
      "MLP Dropout Test Error: 1.24%\n",
      "Epoch 504/600\n"
     ]
    },
    {
     "name": "stderr",
     "output_type": "stream",
     "text": [
      "100%|██████████| 468/468 [00:17<00:00, 26.62it/s]\n",
      "100%|██████████| 468/468 [00:06<00:00, 67.08it/s]\n",
      "100%|██████████| 468/468 [00:07<00:00, 66.47it/s]\n",
      "100%|██████████| 78/78 [00:18<00:00,  4.20it/s]\n"
     ]
    },
    {
     "name": "stdout",
     "output_type": "stream",
     "text": [
      "bnn_classification validation accuracy: 0.9863782051282052\n"
     ]
    },
    {
     "name": "stderr",
     "output_type": "stream",
     "text": [
      "100%|██████████| 78/78 [00:01<00:00, 67.11it/s]\n"
     ]
    },
    {
     "name": "stdout",
     "output_type": "stream",
     "text": [
      "mlp_classification validation accuracy: 0.9833733974358975\n"
     ]
    },
    {
     "name": "stderr",
     "output_type": "stream",
     "text": [
      "100%|██████████| 78/78 [00:01<00:00, 69.24it/s]\n"
     ]
    },
    {
     "name": "stdout",
     "output_type": "stream",
     "text": [
      "mlp_dropout_classification validation accuracy: 0.9875801282051282\n",
      "BNN Test Error: 1.36%\n",
      "MLP Test Error: 1.66%\n",
      "MLP Dropout Test Error: 1.24%\n",
      "Epoch 505/600\n"
     ]
    },
    {
     "name": "stderr",
     "output_type": "stream",
     "text": [
      "100%|██████████| 468/468 [00:18<00:00, 24.93it/s]\n",
      "100%|██████████| 468/468 [00:06<00:00, 67.06it/s]\n",
      "100%|██████████| 468/468 [00:07<00:00, 65.73it/s]\n",
      "100%|██████████| 78/78 [00:18<00:00,  4.27it/s]\n"
     ]
    },
    {
     "name": "stdout",
     "output_type": "stream",
     "text": [
      "bnn_classification validation accuracy: 0.9863782051282052\n"
     ]
    },
    {
     "name": "stderr",
     "output_type": "stream",
     "text": [
      "100%|██████████| 78/78 [00:01<00:00, 71.97it/s]\n"
     ]
    },
    {
     "name": "stdout",
     "output_type": "stream",
     "text": [
      "mlp_classification validation accuracy: 0.9833733974358975\n"
     ]
    },
    {
     "name": "stderr",
     "output_type": "stream",
     "text": [
      "100%|██████████| 78/78 [00:01<00:00, 71.49it/s]\n"
     ]
    },
    {
     "name": "stdout",
     "output_type": "stream",
     "text": [
      "mlp_dropout_classification validation accuracy: 0.9875801282051282\n",
      "BNN Test Error: 1.36%\n",
      "MLP Test Error: 1.66%\n",
      "MLP Dropout Test Error: 1.24%\n",
      "Epoch 506/600\n"
     ]
    },
    {
     "name": "stderr",
     "output_type": "stream",
     "text": [
      "100%|██████████| 468/468 [00:19<00:00, 24.09it/s]\n",
      "100%|██████████| 468/468 [00:07<00:00, 65.63it/s]\n",
      "100%|██████████| 468/468 [00:07<00:00, 66.50it/s]\n",
      "100%|██████████| 78/78 [00:18<00:00,  4.28it/s]\n"
     ]
    },
    {
     "name": "stdout",
     "output_type": "stream",
     "text": [
      "bnn_classification validation accuracy: 0.9865785256410257\n"
     ]
    },
    {
     "name": "stderr",
     "output_type": "stream",
     "text": [
      "100%|██████████| 78/78 [00:01<00:00, 69.70it/s]\n"
     ]
    },
    {
     "name": "stdout",
     "output_type": "stream",
     "text": [
      "mlp_classification validation accuracy: 0.9833733974358975\n"
     ]
    },
    {
     "name": "stderr",
     "output_type": "stream",
     "text": [
      "100%|██████████| 78/78 [00:01<00:00, 71.37it/s]\n"
     ]
    },
    {
     "name": "stdout",
     "output_type": "stream",
     "text": [
      "mlp_dropout_classification validation accuracy: 0.9876802884615384\n",
      "BNN Test Error: 1.34%\n",
      "MLP Test Error: 1.66%\n",
      "MLP Dropout Test Error: 1.23%\n",
      "Epoch 507/600\n"
     ]
    },
    {
     "name": "stderr",
     "output_type": "stream",
     "text": [
      "100%|██████████| 468/468 [00:17<00:00, 26.83it/s]\n",
      "100%|██████████| 468/468 [00:06<00:00, 68.12it/s]\n",
      "100%|██████████| 468/468 [00:07<00:00, 66.30it/s]\n",
      "100%|██████████| 78/78 [00:17<00:00,  4.39it/s]\n"
     ]
    },
    {
     "name": "stdout",
     "output_type": "stream",
     "text": [
      "bnn_classification validation accuracy: 0.9864783653846154\n"
     ]
    },
    {
     "name": "stderr",
     "output_type": "stream",
     "text": [
      "100%|██████████| 78/78 [00:01<00:00, 72.98it/s]\n"
     ]
    },
    {
     "name": "stdout",
     "output_type": "stream",
     "text": [
      "mlp_classification validation accuracy: 0.9833733974358975\n"
     ]
    },
    {
     "name": "stderr",
     "output_type": "stream",
     "text": [
      "100%|██████████| 78/78 [00:01<00:00, 68.84it/s]\n"
     ]
    },
    {
     "name": "stdout",
     "output_type": "stream",
     "text": [
      "mlp_dropout_classification validation accuracy: 0.9876802884615384\n",
      "BNN Test Error: 1.35%\n",
      "MLP Test Error: 1.66%\n",
      "MLP Dropout Test Error: 1.23%\n",
      "Epoch 508/600\n"
     ]
    },
    {
     "name": "stderr",
     "output_type": "stream",
     "text": [
      "100%|██████████| 468/468 [00:17<00:00, 26.17it/s]\n",
      "100%|██████████| 468/468 [00:07<00:00, 66.50it/s]\n",
      "100%|██████████| 468/468 [00:07<00:00, 66.04it/s]\n",
      "100%|██████████| 78/78 [00:18<00:00,  4.13it/s]\n"
     ]
    },
    {
     "name": "stdout",
     "output_type": "stream",
     "text": [
      "bnn_classification validation accuracy: 0.9867788461538461\n"
     ]
    },
    {
     "name": "stderr",
     "output_type": "stream",
     "text": [
      "100%|██████████| 78/78 [00:01<00:00, 68.09it/s]\n"
     ]
    },
    {
     "name": "stdout",
     "output_type": "stream",
     "text": [
      "mlp_classification validation accuracy: 0.9833733974358975\n"
     ]
    },
    {
     "name": "stderr",
     "output_type": "stream",
     "text": [
      "100%|██████████| 78/78 [00:01<00:00, 69.55it/s]\n"
     ]
    },
    {
     "name": "stdout",
     "output_type": "stream",
     "text": [
      "mlp_dropout_classification validation accuracy: 0.9875801282051282\n",
      "BNN Test Error: 1.32%\n",
      "MLP Test Error: 1.66%\n",
      "MLP Dropout Test Error: 1.24%\n",
      "Epoch 509/600\n"
     ]
    },
    {
     "name": "stderr",
     "output_type": "stream",
     "text": [
      "100%|██████████| 468/468 [00:18<00:00, 25.86it/s]\n",
      "100%|██████████| 468/468 [00:06<00:00, 68.49it/s]\n",
      "100%|██████████| 468/468 [00:06<00:00, 67.34it/s]\n",
      "100%|██████████| 78/78 [00:18<00:00,  4.33it/s]\n"
     ]
    },
    {
     "name": "stdout",
     "output_type": "stream",
     "text": [
      "bnn_classification validation accuracy: 0.9865785256410257\n"
     ]
    },
    {
     "name": "stderr",
     "output_type": "stream",
     "text": [
      "100%|██████████| 78/78 [00:01<00:00, 71.01it/s]\n"
     ]
    },
    {
     "name": "stdout",
     "output_type": "stream",
     "text": [
      "mlp_classification validation accuracy: 0.9833733974358975\n"
     ]
    },
    {
     "name": "stderr",
     "output_type": "stream",
     "text": [
      "100%|██████████| 78/78 [00:01<00:00, 72.44it/s]\n"
     ]
    },
    {
     "name": "stdout",
     "output_type": "stream",
     "text": [
      "mlp_dropout_classification validation accuracy: 0.9875801282051282\n",
      "BNN Test Error: 1.34%\n",
      "MLP Test Error: 1.66%\n",
      "MLP Dropout Test Error: 1.24%\n",
      "Epoch 510/600\n"
     ]
    },
    {
     "name": "stderr",
     "output_type": "stream",
     "text": [
      "100%|██████████| 468/468 [00:18<00:00, 25.55it/s]\n",
      "100%|██████████| 468/468 [00:06<00:00, 67.60it/s]\n",
      "100%|██████████| 468/468 [00:06<00:00, 67.49it/s]\n",
      "100%|██████████| 78/78 [00:17<00:00,  4.44it/s]\n"
     ]
    },
    {
     "name": "stdout",
     "output_type": "stream",
     "text": [
      "bnn_classification validation accuracy: 0.9865785256410257\n"
     ]
    },
    {
     "name": "stderr",
     "output_type": "stream",
     "text": [
      "100%|██████████| 78/78 [00:01<00:00, 72.66it/s]\n"
     ]
    },
    {
     "name": "stdout",
     "output_type": "stream",
     "text": [
      "mlp_classification validation accuracy: 0.9833733974358975\n"
     ]
    },
    {
     "name": "stderr",
     "output_type": "stream",
     "text": [
      "100%|██████████| 78/78 [00:01<00:00, 72.36it/s]\n"
     ]
    },
    {
     "name": "stdout",
     "output_type": "stream",
     "text": [
      "mlp_dropout_classification validation accuracy: 0.987479967948718\n",
      "BNN Test Error: 1.34%\n",
      "MLP Test Error: 1.66%\n",
      "MLP Dropout Test Error: 1.25%\n",
      "Epoch 511/600\n"
     ]
    },
    {
     "name": "stderr",
     "output_type": "stream",
     "text": [
      "100%|██████████| 468/468 [00:17<00:00, 26.65it/s]\n",
      "100%|██████████| 468/468 [00:06<00:00, 67.85it/s]\n",
      "100%|██████████| 468/468 [00:06<00:00, 67.63it/s]\n",
      "100%|██████████| 78/78 [00:18<00:00,  4.14it/s]\n"
     ]
    },
    {
     "name": "stdout",
     "output_type": "stream",
     "text": [
      "bnn_classification validation accuracy: 0.9865785256410257\n"
     ]
    },
    {
     "name": "stderr",
     "output_type": "stream",
     "text": [
      "100%|██████████| 78/78 [00:01<00:00, 72.32it/s]\n"
     ]
    },
    {
     "name": "stdout",
     "output_type": "stream",
     "text": [
      "mlp_classification validation accuracy: 0.9833733974358975\n"
     ]
    },
    {
     "name": "stderr",
     "output_type": "stream",
     "text": [
      "100%|██████████| 78/78 [00:01<00:00, 69.50it/s]\n"
     ]
    },
    {
     "name": "stdout",
     "output_type": "stream",
     "text": [
      "mlp_dropout_classification validation accuracy: 0.987479967948718\n",
      "BNN Test Error: 1.34%\n",
      "MLP Test Error: 1.66%\n",
      "MLP Dropout Test Error: 1.25%\n",
      "Epoch 512/600\n"
     ]
    },
    {
     "name": "stderr",
     "output_type": "stream",
     "text": [
      "100%|██████████| 468/468 [00:17<00:00, 26.13it/s]\n",
      "100%|██████████| 468/468 [00:06<00:00, 67.99it/s]\n",
      "100%|██████████| 468/468 [00:06<00:00, 67.57it/s]\n",
      "100%|██████████| 78/78 [00:17<00:00,  4.34it/s]\n"
     ]
    },
    {
     "name": "stdout",
     "output_type": "stream",
     "text": [
      "bnn_classification validation accuracy: 0.9865785256410257\n"
     ]
    },
    {
     "name": "stderr",
     "output_type": "stream",
     "text": [
      "100%|██████████| 78/78 [00:01<00:00, 56.71it/s]\n"
     ]
    },
    {
     "name": "stdout",
     "output_type": "stream",
     "text": [
      "mlp_classification validation accuracy: 0.9833733974358975\n"
     ]
    },
    {
     "name": "stderr",
     "output_type": "stream",
     "text": [
      "100%|██████████| 78/78 [00:01<00:00, 71.80it/s]\n"
     ]
    },
    {
     "name": "stdout",
     "output_type": "stream",
     "text": [
      "mlp_dropout_classification validation accuracy: 0.987479967948718\n",
      "BNN Test Error: 1.34%\n",
      "MLP Test Error: 1.66%\n",
      "MLP Dropout Test Error: 1.25%\n",
      "Epoch 513/600\n"
     ]
    },
    {
     "name": "stderr",
     "output_type": "stream",
     "text": [
      "100%|██████████| 468/468 [00:18<00:00, 25.85it/s]\n",
      "100%|██████████| 468/468 [00:06<00:00, 68.96it/s]\n",
      "100%|██████████| 468/468 [00:06<00:00, 67.00it/s]\n",
      "100%|██████████| 78/78 [00:17<00:00,  4.46it/s]\n"
     ]
    },
    {
     "name": "stdout",
     "output_type": "stream",
     "text": [
      "bnn_classification validation accuracy: 0.9863782051282052\n"
     ]
    },
    {
     "name": "stderr",
     "output_type": "stream",
     "text": [
      "100%|██████████| 78/78 [00:01<00:00, 72.99it/s]\n"
     ]
    },
    {
     "name": "stdout",
     "output_type": "stream",
     "text": [
      "mlp_classification validation accuracy: 0.9833733974358975\n"
     ]
    },
    {
     "name": "stderr",
     "output_type": "stream",
     "text": [
      "100%|██████████| 78/78 [00:01<00:00, 72.38it/s]\n"
     ]
    },
    {
     "name": "stdout",
     "output_type": "stream",
     "text": [
      "mlp_dropout_classification validation accuracy: 0.9873798076923077\n",
      "BNN Test Error: 1.36%\n",
      "MLP Test Error: 1.66%\n",
      "MLP Dropout Test Error: 1.26%\n",
      "Epoch 514/600\n"
     ]
    },
    {
     "name": "stderr",
     "output_type": "stream",
     "text": [
      "100%|██████████| 468/468 [00:17<00:00, 26.41it/s]\n",
      "100%|██████████| 468/468 [00:06<00:00, 67.39it/s]\n",
      "100%|██████████| 468/468 [00:06<00:00, 67.60it/s]\n",
      "100%|██████████| 78/78 [00:17<00:00,  4.37it/s]\n"
     ]
    },
    {
     "name": "stdout",
     "output_type": "stream",
     "text": [
      "bnn_classification validation accuracy: 0.9866786858974359\n"
     ]
    },
    {
     "name": "stderr",
     "output_type": "stream",
     "text": [
      "100%|██████████| 78/78 [00:01<00:00, 72.34it/s]\n"
     ]
    },
    {
     "name": "stdout",
     "output_type": "stream",
     "text": [
      "mlp_classification validation accuracy: 0.9833733974358975\n"
     ]
    },
    {
     "name": "stderr",
     "output_type": "stream",
     "text": [
      "100%|██████████| 78/78 [00:01<00:00, 72.61it/s]\n"
     ]
    },
    {
     "name": "stdout",
     "output_type": "stream",
     "text": [
      "mlp_dropout_classification validation accuracy: 0.9873798076923077\n",
      "BNN Test Error: 1.33%\n",
      "MLP Test Error: 1.66%\n",
      "MLP Dropout Test Error: 1.26%\n",
      "Epoch 515/600\n"
     ]
    },
    {
     "name": "stderr",
     "output_type": "stream",
     "text": [
      "100%|██████████| 468/468 [00:17<00:00, 27.37it/s]\n",
      "100%|██████████| 468/468 [00:06<00:00, 68.22it/s]\n",
      "100%|██████████| 468/468 [00:06<00:00, 68.18it/s]\n",
      "100%|██████████| 78/78 [00:20<00:00,  3.90it/s]\n"
     ]
    },
    {
     "name": "stdout",
     "output_type": "stream",
     "text": [
      "bnn_classification validation accuracy: 0.9866786858974359\n"
     ]
    },
    {
     "name": "stderr",
     "output_type": "stream",
     "text": [
      "100%|██████████| 78/78 [00:01<00:00, 68.14it/s]\n"
     ]
    },
    {
     "name": "stdout",
     "output_type": "stream",
     "text": [
      "mlp_classification validation accuracy: 0.9833733974358975\n"
     ]
    },
    {
     "name": "stderr",
     "output_type": "stream",
     "text": [
      "100%|██████████| 78/78 [00:01<00:00, 65.87it/s]\n"
     ]
    },
    {
     "name": "stdout",
     "output_type": "stream",
     "text": [
      "mlp_dropout_classification validation accuracy: 0.9875801282051282\n",
      "BNN Test Error: 1.33%\n",
      "MLP Test Error: 1.66%\n",
      "MLP Dropout Test Error: 1.24%\n",
      "Epoch 516/600\n"
     ]
    },
    {
     "name": "stderr",
     "output_type": "stream",
     "text": [
      "100%|██████████| 468/468 [00:17<00:00, 26.50it/s]\n",
      "100%|██████████| 468/468 [00:06<00:00, 67.18it/s]\n",
      "100%|██████████| 468/468 [00:07<00:00, 65.67it/s]\n",
      "100%|██████████| 78/78 [00:18<00:00,  4.30it/s]\n"
     ]
    },
    {
     "name": "stdout",
     "output_type": "stream",
     "text": [
      "bnn_classification validation accuracy: 0.9865785256410257\n"
     ]
    },
    {
     "name": "stderr",
     "output_type": "stream",
     "text": [
      "100%|██████████| 78/78 [00:01<00:00, 67.79it/s]\n"
     ]
    },
    {
     "name": "stdout",
     "output_type": "stream",
     "text": [
      "mlp_classification validation accuracy: 0.9833733974358975\n"
     ]
    },
    {
     "name": "stderr",
     "output_type": "stream",
     "text": [
      "100%|██████████| 78/78 [00:01<00:00, 64.44it/s]\n"
     ]
    },
    {
     "name": "stdout",
     "output_type": "stream",
     "text": [
      "mlp_dropout_classification validation accuracy: 0.9876802884615384\n",
      "BNN Test Error: 1.34%\n",
      "MLP Test Error: 1.66%\n",
      "MLP Dropout Test Error: 1.23%\n",
      "Epoch 517/600\n"
     ]
    },
    {
     "name": "stderr",
     "output_type": "stream",
     "text": [
      "100%|██████████| 468/468 [00:18<00:00, 25.75it/s]\n",
      "100%|██████████| 468/468 [00:07<00:00, 66.39it/s]\n",
      "100%|██████████| 468/468 [00:07<00:00, 65.56it/s]\n",
      "100%|██████████| 78/78 [00:18<00:00,  4.33it/s]\n"
     ]
    },
    {
     "name": "stdout",
     "output_type": "stream",
     "text": [
      "bnn_classification validation accuracy: 0.9865785256410257\n"
     ]
    },
    {
     "name": "stderr",
     "output_type": "stream",
     "text": [
      "100%|██████████| 78/78 [00:01<00:00, 70.84it/s]\n"
     ]
    },
    {
     "name": "stdout",
     "output_type": "stream",
     "text": [
      "mlp_classification validation accuracy: 0.9833733974358975\n"
     ]
    },
    {
     "name": "stderr",
     "output_type": "stream",
     "text": [
      "100%|██████████| 78/78 [00:01<00:00, 70.61it/s]\n"
     ]
    },
    {
     "name": "stdout",
     "output_type": "stream",
     "text": [
      "mlp_dropout_classification validation accuracy: 0.9876802884615384\n",
      "BNN Test Error: 1.34%\n",
      "MLP Test Error: 1.66%\n",
      "MLP Dropout Test Error: 1.23%\n",
      "Epoch 518/600\n"
     ]
    },
    {
     "name": "stderr",
     "output_type": "stream",
     "text": [
      "100%|██████████| 468/468 [00:17<00:00, 26.32it/s]\n",
      "100%|██████████| 468/468 [00:07<00:00, 60.14it/s]\n",
      "100%|██████████| 468/468 [00:07<00:00, 63.99it/s]\n",
      "100%|██████████| 78/78 [00:18<00:00,  4.26it/s]\n"
     ]
    },
    {
     "name": "stdout",
     "output_type": "stream",
     "text": [
      "bnn_classification validation accuracy: 0.9865785256410257\n"
     ]
    },
    {
     "name": "stderr",
     "output_type": "stream",
     "text": [
      "100%|██████████| 78/78 [00:01<00:00, 64.67it/s]\n"
     ]
    },
    {
     "name": "stdout",
     "output_type": "stream",
     "text": [
      "mlp_classification validation accuracy: 0.9833733974358975\n"
     ]
    },
    {
     "name": "stderr",
     "output_type": "stream",
     "text": [
      "100%|██████████| 78/78 [00:01<00:00, 70.36it/s]\n"
     ]
    },
    {
     "name": "stdout",
     "output_type": "stream",
     "text": [
      "mlp_dropout_classification validation accuracy: 0.9876802884615384\n",
      "BNN Test Error: 1.34%\n",
      "MLP Test Error: 1.66%\n",
      "MLP Dropout Test Error: 1.23%\n",
      "Epoch 519/600\n"
     ]
    },
    {
     "name": "stderr",
     "output_type": "stream",
     "text": [
      "100%|██████████| 468/468 [00:17<00:00, 26.68it/s]\n",
      "100%|██████████| 468/468 [00:06<00:00, 67.09it/s]\n",
      "100%|██████████| 468/468 [00:07<00:00, 65.44it/s]\n",
      "100%|██████████| 78/78 [00:17<00:00,  4.34it/s]\n"
     ]
    },
    {
     "name": "stdout",
     "output_type": "stream",
     "text": [
      "bnn_classification validation accuracy: 0.9865785256410257\n"
     ]
    },
    {
     "name": "stderr",
     "output_type": "stream",
     "text": [
      "100%|██████████| 78/78 [00:01<00:00, 72.92it/s]\n"
     ]
    },
    {
     "name": "stdout",
     "output_type": "stream",
     "text": [
      "mlp_classification validation accuracy: 0.9833733974358975\n"
     ]
    },
    {
     "name": "stderr",
     "output_type": "stream",
     "text": [
      "100%|██████████| 78/78 [00:01<00:00, 71.69it/s]\n"
     ]
    },
    {
     "name": "stdout",
     "output_type": "stream",
     "text": [
      "mlp_dropout_classification validation accuracy: 0.9876802884615384\n",
      "BNN Test Error: 1.34%\n",
      "MLP Test Error: 1.66%\n",
      "MLP Dropout Test Error: 1.23%\n",
      "Epoch 520/600\n"
     ]
    },
    {
     "name": "stderr",
     "output_type": "stream",
     "text": [
      "100%|██████████| 468/468 [00:18<00:00, 25.99it/s]\n",
      "100%|██████████| 468/468 [00:06<00:00, 67.20it/s]\n",
      "100%|██████████| 468/468 [00:06<00:00, 67.23it/s]\n",
      "100%|██████████| 78/78 [00:17<00:00,  4.46it/s]\n"
     ]
    },
    {
     "name": "stdout",
     "output_type": "stream",
     "text": [
      "bnn_classification validation accuracy: 0.9867788461538461\n"
     ]
    },
    {
     "name": "stderr",
     "output_type": "stream",
     "text": [
      "100%|██████████| 78/78 [00:01<00:00, 73.07it/s]\n"
     ]
    },
    {
     "name": "stdout",
     "output_type": "stream",
     "text": [
      "mlp_classification validation accuracy: 0.9833733974358975\n"
     ]
    },
    {
     "name": "stderr",
     "output_type": "stream",
     "text": [
      "100%|██████████| 78/78 [00:01<00:00, 68.94it/s]\n"
     ]
    },
    {
     "name": "stdout",
     "output_type": "stream",
     "text": [
      "mlp_dropout_classification validation accuracy: 0.9876802884615384\n",
      "BNN Test Error: 1.32%\n",
      "MLP Test Error: 1.66%\n",
      "MLP Dropout Test Error: 1.23%\n",
      "Epoch 521/600\n"
     ]
    },
    {
     "name": "stderr",
     "output_type": "stream",
     "text": [
      "100%|██████████| 468/468 [00:17<00:00, 26.76it/s]\n",
      "100%|██████████| 468/468 [00:06<00:00, 67.17it/s]\n",
      "100%|██████████| 468/468 [00:06<00:00, 67.40it/s]\n",
      "100%|██████████| 78/78 [00:17<00:00,  4.46it/s]\n"
     ]
    },
    {
     "name": "stdout",
     "output_type": "stream",
     "text": [
      "bnn_classification validation accuracy: 0.9866786858974359\n"
     ]
    },
    {
     "name": "stderr",
     "output_type": "stream",
     "text": [
      "100%|██████████| 78/78 [00:01<00:00, 71.02it/s]\n"
     ]
    },
    {
     "name": "stdout",
     "output_type": "stream",
     "text": [
      "mlp_classification validation accuracy: 0.9833733974358975\n"
     ]
    },
    {
     "name": "stderr",
     "output_type": "stream",
     "text": [
      "100%|██████████| 78/78 [00:01<00:00, 73.11it/s]\n"
     ]
    },
    {
     "name": "stdout",
     "output_type": "stream",
     "text": [
      "mlp_dropout_classification validation accuracy: 0.9875801282051282\n",
      "BNN Test Error: 1.33%\n",
      "MLP Test Error: 1.66%\n",
      "MLP Dropout Test Error: 1.24%\n",
      "Epoch 522/600\n"
     ]
    },
    {
     "name": "stderr",
     "output_type": "stream",
     "text": [
      "100%|██████████| 468/468 [00:17<00:00, 27.01it/s]\n",
      "100%|██████████| 468/468 [00:06<00:00, 67.65it/s]\n",
      "100%|██████████| 468/468 [00:07<00:00, 65.29it/s]\n",
      "100%|██████████| 78/78 [00:18<00:00,  4.33it/s]\n"
     ]
    },
    {
     "name": "stdout",
     "output_type": "stream",
     "text": [
      "bnn_classification validation accuracy: 0.9863782051282052\n"
     ]
    },
    {
     "name": "stderr",
     "output_type": "stream",
     "text": [
      "100%|██████████| 78/78 [00:01<00:00, 73.17it/s]\n"
     ]
    },
    {
     "name": "stdout",
     "output_type": "stream",
     "text": [
      "mlp_classification validation accuracy: 0.9833733974358975\n"
     ]
    },
    {
     "name": "stderr",
     "output_type": "stream",
     "text": [
      "100%|██████████| 78/78 [00:01<00:00, 73.84it/s]\n"
     ]
    },
    {
     "name": "stdout",
     "output_type": "stream",
     "text": [
      "mlp_dropout_classification validation accuracy: 0.9876802884615384\n",
      "BNN Test Error: 1.36%\n",
      "MLP Test Error: 1.66%\n",
      "MLP Dropout Test Error: 1.23%\n",
      "Epoch 523/600\n"
     ]
    },
    {
     "name": "stderr",
     "output_type": "stream",
     "text": [
      "100%|██████████| 468/468 [00:17<00:00, 26.53it/s]\n",
      "100%|██████████| 468/468 [00:06<00:00, 69.04it/s]\n",
      "100%|██████████| 468/468 [00:06<00:00, 67.07it/s]\n",
      "100%|██████████| 78/78 [00:20<00:00,  3.79it/s]\n"
     ]
    },
    {
     "name": "stdout",
     "output_type": "stream",
     "text": [
      "bnn_classification validation accuracy: 0.9866786858974359\n"
     ]
    },
    {
     "name": "stderr",
     "output_type": "stream",
     "text": [
      "100%|██████████| 78/78 [00:01<00:00, 70.12it/s]\n"
     ]
    },
    {
     "name": "stdout",
     "output_type": "stream",
     "text": [
      "mlp_classification validation accuracy: 0.9833733974358975\n"
     ]
    },
    {
     "name": "stderr",
     "output_type": "stream",
     "text": [
      "100%|██████████| 78/78 [00:01<00:00, 69.61it/s]\n"
     ]
    },
    {
     "name": "stdout",
     "output_type": "stream",
     "text": [
      "mlp_dropout_classification validation accuracy: 0.9876802884615384\n",
      "BNN Test Error: 1.33%\n",
      "MLP Test Error: 1.66%\n",
      "MLP Dropout Test Error: 1.23%\n",
      "Epoch 524/600\n"
     ]
    },
    {
     "name": "stderr",
     "output_type": "stream",
     "text": [
      "100%|██████████| 468/468 [00:17<00:00, 27.15it/s]\n",
      "100%|██████████| 468/468 [00:07<00:00, 66.25it/s]\n",
      "100%|██████████| 468/468 [00:06<00:00, 67.14it/s]\n",
      "100%|██████████| 78/78 [00:17<00:00,  4.37it/s]\n"
     ]
    },
    {
     "name": "stdout",
     "output_type": "stream",
     "text": [
      "bnn_classification validation accuracy: 0.9864783653846154\n"
     ]
    },
    {
     "name": "stderr",
     "output_type": "stream",
     "text": [
      "100%|██████████| 78/78 [00:01<00:00, 70.01it/s]\n"
     ]
    },
    {
     "name": "stdout",
     "output_type": "stream",
     "text": [
      "mlp_classification validation accuracy: 0.9833733974358975\n"
     ]
    },
    {
     "name": "stderr",
     "output_type": "stream",
     "text": [
      "100%|██████████| 78/78 [00:01<00:00, 67.78it/s]\n"
     ]
    },
    {
     "name": "stdout",
     "output_type": "stream",
     "text": [
      "mlp_dropout_classification validation accuracy: 0.9876802884615384\n",
      "BNN Test Error: 1.35%\n",
      "MLP Test Error: 1.66%\n",
      "MLP Dropout Test Error: 1.23%\n",
      "Epoch 525/600\n"
     ]
    },
    {
     "name": "stderr",
     "output_type": "stream",
     "text": [
      "100%|██████████| 468/468 [00:18<00:00, 25.47it/s]\n",
      "100%|██████████| 468/468 [00:06<00:00, 67.21it/s]\n",
      "100%|██████████| 468/468 [00:07<00:00, 66.51it/s]\n",
      "100%|██████████| 78/78 [00:17<00:00,  4.35it/s]\n"
     ]
    },
    {
     "name": "stdout",
     "output_type": "stream",
     "text": [
      "bnn_classification validation accuracy: 0.9867788461538461\n"
     ]
    },
    {
     "name": "stderr",
     "output_type": "stream",
     "text": [
      "100%|██████████| 78/78 [00:01<00:00, 69.04it/s]\n"
     ]
    },
    {
     "name": "stdout",
     "output_type": "stream",
     "text": [
      "mlp_classification validation accuracy: 0.9833733974358975\n"
     ]
    },
    {
     "name": "stderr",
     "output_type": "stream",
     "text": [
      "100%|██████████| 78/78 [00:01<00:00, 72.44it/s]\n"
     ]
    },
    {
     "name": "stdout",
     "output_type": "stream",
     "text": [
      "mlp_dropout_classification validation accuracy: 0.9878806089743589\n",
      "BNN Test Error: 1.32%\n",
      "MLP Test Error: 1.66%\n",
      "MLP Dropout Test Error: 1.21%\n",
      "Epoch 526/600\n"
     ]
    },
    {
     "name": "stderr",
     "output_type": "stream",
     "text": [
      "100%|██████████| 468/468 [00:17<00:00, 26.27it/s]\n",
      "100%|██████████| 468/468 [00:06<00:00, 67.58it/s]\n",
      "100%|██████████| 468/468 [00:07<00:00, 64.68it/s]\n",
      "100%|██████████| 78/78 [00:18<00:00,  4.33it/s]\n"
     ]
    },
    {
     "name": "stdout",
     "output_type": "stream",
     "text": [
      "bnn_classification validation accuracy: 0.9863782051282052\n"
     ]
    },
    {
     "name": "stderr",
     "output_type": "stream",
     "text": [
      "100%|██████████| 78/78 [00:01<00:00, 72.99it/s]\n"
     ]
    },
    {
     "name": "stdout",
     "output_type": "stream",
     "text": [
      "mlp_classification validation accuracy: 0.9833733974358975\n"
     ]
    },
    {
     "name": "stderr",
     "output_type": "stream",
     "text": [
      "100%|██████████| 78/78 [00:01<00:00, 73.06it/s]\n"
     ]
    },
    {
     "name": "stdout",
     "output_type": "stream",
     "text": [
      "mlp_dropout_classification validation accuracy: 0.9877804487179487\n",
      "BNN Test Error: 1.36%\n",
      "MLP Test Error: 1.66%\n",
      "MLP Dropout Test Error: 1.22%\n",
      "Epoch 527/600\n"
     ]
    },
    {
     "name": "stderr",
     "output_type": "stream",
     "text": [
      "100%|██████████| 468/468 [00:17<00:00, 26.62it/s]\n",
      "100%|██████████| 468/468 [00:07<00:00, 66.79it/s]\n",
      "100%|██████████| 468/468 [00:07<00:00, 64.81it/s]\n",
      "100%|██████████| 78/78 [00:20<00:00,  3.83it/s]\n"
     ]
    },
    {
     "name": "stdout",
     "output_type": "stream",
     "text": [
      "bnn_classification validation accuracy: 0.9867788461538461\n"
     ]
    },
    {
     "name": "stderr",
     "output_type": "stream",
     "text": [
      "100%|██████████| 78/78 [00:01<00:00, 69.59it/s]\n"
     ]
    },
    {
     "name": "stdout",
     "output_type": "stream",
     "text": [
      "mlp_classification validation accuracy: 0.9833733974358975\n"
     ]
    },
    {
     "name": "stderr",
     "output_type": "stream",
     "text": [
      "100%|██████████| 78/78 [00:01<00:00, 68.32it/s]\n"
     ]
    },
    {
     "name": "stdout",
     "output_type": "stream",
     "text": [
      "mlp_dropout_classification validation accuracy: 0.9876802884615384\n",
      "BNN Test Error: 1.32%\n",
      "MLP Test Error: 1.66%\n",
      "MLP Dropout Test Error: 1.23%\n",
      "Epoch 528/600\n"
     ]
    },
    {
     "name": "stderr",
     "output_type": "stream",
     "text": [
      "100%|██████████| 468/468 [00:17<00:00, 26.14it/s]\n",
      "100%|██████████| 468/468 [00:06<00:00, 68.32it/s]\n",
      "100%|██████████| 468/468 [00:06<00:00, 67.23it/s]\n",
      "100%|██████████| 78/78 [00:17<00:00,  4.38it/s]\n"
     ]
    },
    {
     "name": "stdout",
     "output_type": "stream",
     "text": [
      "bnn_classification validation accuracy: 0.9862780448717948\n"
     ]
    },
    {
     "name": "stderr",
     "output_type": "stream",
     "text": [
      "100%|██████████| 78/78 [00:01<00:00, 73.11it/s]\n"
     ]
    },
    {
     "name": "stdout",
     "output_type": "stream",
     "text": [
      "mlp_classification validation accuracy: 0.9833733974358975\n"
     ]
    },
    {
     "name": "stderr",
     "output_type": "stream",
     "text": [
      "100%|██████████| 78/78 [00:01<00:00, 74.46it/s]\n"
     ]
    },
    {
     "name": "stdout",
     "output_type": "stream",
     "text": [
      "mlp_dropout_classification validation accuracy: 0.9877804487179487\n",
      "BNN Test Error: 1.37%\n",
      "MLP Test Error: 1.66%\n",
      "MLP Dropout Test Error: 1.22%\n",
      "Epoch 529/600\n"
     ]
    },
    {
     "name": "stderr",
     "output_type": "stream",
     "text": [
      "100%|██████████| 468/468 [00:17<00:00, 26.15it/s]\n",
      "100%|██████████| 468/468 [00:06<00:00, 67.58it/s]\n",
      "100%|██████████| 468/468 [00:06<00:00, 67.37it/s]\n",
      "100%|██████████| 78/78 [00:18<00:00,  4.31it/s]\n"
     ]
    },
    {
     "name": "stdout",
     "output_type": "stream",
     "text": [
      "bnn_classification validation accuracy: 0.9866786858974359\n"
     ]
    },
    {
     "name": "stderr",
     "output_type": "stream",
     "text": [
      "100%|██████████| 78/78 [00:01<00:00, 69.24it/s]\n"
     ]
    },
    {
     "name": "stdout",
     "output_type": "stream",
     "text": [
      "mlp_classification validation accuracy: 0.9833733974358975\n"
     ]
    },
    {
     "name": "stderr",
     "output_type": "stream",
     "text": [
      "100%|██████████| 78/78 [00:01<00:00, 70.07it/s]\n"
     ]
    },
    {
     "name": "stdout",
     "output_type": "stream",
     "text": [
      "mlp_dropout_classification validation accuracy: 0.9877804487179487\n",
      "BNN Test Error: 1.33%\n",
      "MLP Test Error: 1.66%\n",
      "MLP Dropout Test Error: 1.22%\n",
      "Epoch 530/600\n"
     ]
    },
    {
     "name": "stderr",
     "output_type": "stream",
     "text": [
      "100%|██████████| 468/468 [00:17<00:00, 26.52it/s]\n",
      "100%|██████████| 468/468 [00:06<00:00, 68.00it/s]\n",
      "100%|██████████| 468/468 [00:07<00:00, 64.51it/s]\n",
      "100%|██████████| 78/78 [00:19<00:00,  4.02it/s]\n"
     ]
    },
    {
     "name": "stdout",
     "output_type": "stream",
     "text": [
      "bnn_classification validation accuracy: 0.9868790064102564\n"
     ]
    },
    {
     "name": "stderr",
     "output_type": "stream",
     "text": [
      "100%|██████████| 78/78 [00:01<00:00, 71.12it/s]\n"
     ]
    },
    {
     "name": "stdout",
     "output_type": "stream",
     "text": [
      "mlp_classification validation accuracy: 0.9833733974358975\n"
     ]
    },
    {
     "name": "stderr",
     "output_type": "stream",
     "text": [
      "100%|██████████| 78/78 [00:01<00:00, 71.15it/s]\n"
     ]
    },
    {
     "name": "stdout",
     "output_type": "stream",
     "text": [
      "mlp_dropout_classification validation accuracy: 0.9876802884615384\n",
      "BNN Test Error: 1.31%\n",
      "MLP Test Error: 1.66%\n",
      "MLP Dropout Test Error: 1.23%\n",
      "Epoch 531/600\n"
     ]
    },
    {
     "name": "stderr",
     "output_type": "stream",
     "text": [
      "100%|██████████| 468/468 [00:17<00:00, 26.43it/s]\n",
      "100%|██████████| 468/468 [00:07<00:00, 66.43it/s]\n",
      "100%|██████████| 468/468 [00:07<00:00, 65.97it/s]\n",
      "100%|██████████| 78/78 [00:18<00:00,  4.23it/s]\n"
     ]
    },
    {
     "name": "stdout",
     "output_type": "stream",
     "text": [
      "bnn_classification validation accuracy: 0.9867788461538461\n"
     ]
    },
    {
     "name": "stderr",
     "output_type": "stream",
     "text": [
      "100%|██████████| 78/78 [00:01<00:00, 70.36it/s]\n"
     ]
    },
    {
     "name": "stdout",
     "output_type": "stream",
     "text": [
      "mlp_classification validation accuracy: 0.9833733974358975\n"
     ]
    },
    {
     "name": "stderr",
     "output_type": "stream",
     "text": [
      "100%|██████████| 78/78 [00:01<00:00, 69.78it/s]\n"
     ]
    },
    {
     "name": "stdout",
     "output_type": "stream",
     "text": [
      "mlp_dropout_classification validation accuracy: 0.9876802884615384\n",
      "BNN Test Error: 1.32%\n",
      "MLP Test Error: 1.66%\n",
      "MLP Dropout Test Error: 1.23%\n",
      "Epoch 532/600\n"
     ]
    },
    {
     "name": "stderr",
     "output_type": "stream",
     "text": [
      "100%|██████████| 468/468 [00:18<00:00, 25.78it/s]\n",
      "100%|██████████| 468/468 [00:07<00:00, 66.71it/s]\n",
      "100%|██████████| 468/468 [00:07<00:00, 66.36it/s]\n",
      "100%|██████████| 78/78 [00:17<00:00,  4.38it/s]\n"
     ]
    },
    {
     "name": "stdout",
     "output_type": "stream",
     "text": [
      "bnn_classification validation accuracy: 0.9868790064102564\n"
     ]
    },
    {
     "name": "stderr",
     "output_type": "stream",
     "text": [
      "100%|██████████| 78/78 [00:01<00:00, 69.24it/s]\n"
     ]
    },
    {
     "name": "stdout",
     "output_type": "stream",
     "text": [
      "mlp_classification validation accuracy: 0.9833733974358975\n"
     ]
    },
    {
     "name": "stderr",
     "output_type": "stream",
     "text": [
      "100%|██████████| 78/78 [00:01<00:00, 67.95it/s]\n"
     ]
    },
    {
     "name": "stdout",
     "output_type": "stream",
     "text": [
      "mlp_dropout_classification validation accuracy: 0.9876802884615384\n",
      "BNN Test Error: 1.31%\n",
      "MLP Test Error: 1.66%\n",
      "MLP Dropout Test Error: 1.23%\n",
      "Epoch 533/600\n"
     ]
    },
    {
     "name": "stderr",
     "output_type": "stream",
     "text": [
      "100%|██████████| 468/468 [00:19<00:00, 24.37it/s]\n",
      "100%|██████████| 468/468 [00:07<00:00, 65.78it/s]\n",
      "100%|██████████| 468/468 [00:07<00:00, 66.09it/s]\n",
      "100%|██████████| 78/78 [00:17<00:00,  4.39it/s]\n"
     ]
    },
    {
     "name": "stdout",
     "output_type": "stream",
     "text": [
      "bnn_classification validation accuracy: 0.9868790064102564\n"
     ]
    },
    {
     "name": "stderr",
     "output_type": "stream",
     "text": [
      "100%|██████████| 78/78 [00:01<00:00, 69.79it/s]\n"
     ]
    },
    {
     "name": "stdout",
     "output_type": "stream",
     "text": [
      "mlp_classification validation accuracy: 0.9833733974358975\n"
     ]
    },
    {
     "name": "stderr",
     "output_type": "stream",
     "text": [
      "100%|██████████| 78/78 [00:01<00:00, 69.06it/s]\n"
     ]
    },
    {
     "name": "stdout",
     "output_type": "stream",
     "text": [
      "mlp_dropout_classification validation accuracy: 0.9876802884615384\n",
      "BNN Test Error: 1.31%\n",
      "MLP Test Error: 1.66%\n",
      "MLP Dropout Test Error: 1.23%\n",
      "Epoch 534/600\n"
     ]
    },
    {
     "name": "stderr",
     "output_type": "stream",
     "text": [
      "100%|██████████| 468/468 [00:18<00:00, 25.00it/s]\n",
      "100%|██████████| 468/468 [00:06<00:00, 67.15it/s]\n",
      "100%|██████████| 468/468 [00:07<00:00, 64.94it/s]\n",
      "100%|██████████| 78/78 [00:19<00:00,  4.02it/s]\n"
     ]
    },
    {
     "name": "stdout",
     "output_type": "stream",
     "text": [
      "bnn_classification validation accuracy: 0.9864783653846154\n"
     ]
    },
    {
     "name": "stderr",
     "output_type": "stream",
     "text": [
      "100%|██████████| 78/78 [00:01<00:00, 71.96it/s]\n"
     ]
    },
    {
     "name": "stdout",
     "output_type": "stream",
     "text": [
      "mlp_classification validation accuracy: 0.9833733974358975\n"
     ]
    },
    {
     "name": "stderr",
     "output_type": "stream",
     "text": [
      "100%|██████████| 78/78 [00:01<00:00, 70.52it/s]\n"
     ]
    },
    {
     "name": "stdout",
     "output_type": "stream",
     "text": [
      "mlp_dropout_classification validation accuracy: 0.9877804487179487\n",
      "BNN Test Error: 1.35%\n",
      "MLP Test Error: 1.66%\n",
      "MLP Dropout Test Error: 1.22%\n",
      "Epoch 535/600\n"
     ]
    },
    {
     "name": "stderr",
     "output_type": "stream",
     "text": [
      "100%|██████████| 468/468 [00:17<00:00, 26.30it/s]\n",
      "100%|██████████| 468/468 [00:06<00:00, 68.40it/s]\n",
      "100%|██████████| 468/468 [00:06<00:00, 67.18it/s]\n",
      "100%|██████████| 78/78 [00:19<00:00,  4.00it/s]\n"
     ]
    },
    {
     "name": "stdout",
     "output_type": "stream",
     "text": [
      "bnn_classification validation accuracy: 0.9864783653846154\n"
     ]
    },
    {
     "name": "stderr",
     "output_type": "stream",
     "text": [
      "100%|██████████| 78/78 [00:01<00:00, 67.22it/s]\n"
     ]
    },
    {
     "name": "stdout",
     "output_type": "stream",
     "text": [
      "mlp_classification validation accuracy: 0.9833733974358975\n"
     ]
    },
    {
     "name": "stderr",
     "output_type": "stream",
     "text": [
      "100%|██████████| 78/78 [00:01<00:00, 67.92it/s]\n"
     ]
    },
    {
     "name": "stdout",
     "output_type": "stream",
     "text": [
      "mlp_dropout_classification validation accuracy: 0.9877804487179487\n",
      "BNN Test Error: 1.35%\n",
      "MLP Test Error: 1.66%\n",
      "MLP Dropout Test Error: 1.22%\n",
      "Epoch 536/600\n"
     ]
    },
    {
     "name": "stderr",
     "output_type": "stream",
     "text": [
      "100%|██████████| 468/468 [00:17<00:00, 26.53it/s]\n",
      "100%|██████████| 468/468 [00:07<00:00, 66.28it/s]\n",
      "100%|██████████| 468/468 [00:07<00:00, 65.30it/s]\n",
      "100%|██████████| 78/78 [00:17<00:00,  4.38it/s]\n"
     ]
    },
    {
     "name": "stdout",
     "output_type": "stream",
     "text": [
      "bnn_classification validation accuracy: 0.9866786858974359\n"
     ]
    },
    {
     "name": "stderr",
     "output_type": "stream",
     "text": [
      "100%|██████████| 78/78 [00:01<00:00, 70.28it/s]\n"
     ]
    },
    {
     "name": "stdout",
     "output_type": "stream",
     "text": [
      "mlp_classification validation accuracy: 0.9833733974358975\n"
     ]
    },
    {
     "name": "stderr",
     "output_type": "stream",
     "text": [
      "100%|██████████| 78/78 [00:01<00:00, 71.25it/s]\n"
     ]
    },
    {
     "name": "stdout",
     "output_type": "stream",
     "text": [
      "mlp_dropout_classification validation accuracy: 0.9878806089743589\n",
      "BNN Test Error: 1.33%\n",
      "MLP Test Error: 1.66%\n",
      "MLP Dropout Test Error: 1.21%\n",
      "Epoch 537/600\n"
     ]
    },
    {
     "name": "stderr",
     "output_type": "stream",
     "text": [
      "100%|██████████| 468/468 [00:18<00:00, 25.31it/s]\n",
      "100%|██████████| 468/468 [00:07<00:00, 65.64it/s]\n",
      "100%|██████████| 468/468 [00:07<00:00, 65.27it/s]\n",
      "100%|██████████| 78/78 [00:18<00:00,  4.32it/s]\n"
     ]
    },
    {
     "name": "stdout",
     "output_type": "stream",
     "text": [
      "bnn_classification validation accuracy: 0.9865785256410257\n"
     ]
    },
    {
     "name": "stderr",
     "output_type": "stream",
     "text": [
      "100%|██████████| 78/78 [00:01<00:00, 71.27it/s]\n"
     ]
    },
    {
     "name": "stdout",
     "output_type": "stream",
     "text": [
      "mlp_classification validation accuracy: 0.9833733974358975\n"
     ]
    },
    {
     "name": "stderr",
     "output_type": "stream",
     "text": [
      "100%|██████████| 78/78 [00:01<00:00, 71.42it/s]\n"
     ]
    },
    {
     "name": "stdout",
     "output_type": "stream",
     "text": [
      "mlp_dropout_classification validation accuracy: 0.9877804487179487\n",
      "BNN Test Error: 1.34%\n",
      "MLP Test Error: 1.66%\n",
      "MLP Dropout Test Error: 1.22%\n",
      "Epoch 538/600\n"
     ]
    },
    {
     "name": "stderr",
     "output_type": "stream",
     "text": [
      "100%|██████████| 468/468 [00:17<00:00, 26.24it/s]\n",
      "100%|██████████| 468/468 [00:06<00:00, 68.81it/s]\n",
      "100%|██████████| 468/468 [00:06<00:00, 67.08it/s]\n",
      "100%|██████████| 78/78 [00:19<00:00,  4.03it/s]\n"
     ]
    },
    {
     "name": "stdout",
     "output_type": "stream",
     "text": [
      "bnn_classification validation accuracy: 0.9863782051282052\n"
     ]
    },
    {
     "name": "stderr",
     "output_type": "stream",
     "text": [
      "100%|██████████| 78/78 [00:01<00:00, 73.75it/s]\n"
     ]
    },
    {
     "name": "stdout",
     "output_type": "stream",
     "text": [
      "mlp_classification validation accuracy: 0.9833733974358975\n"
     ]
    },
    {
     "name": "stderr",
     "output_type": "stream",
     "text": [
      "100%|██████████| 78/78 [00:01<00:00, 73.21it/s]\n"
     ]
    },
    {
     "name": "stdout",
     "output_type": "stream",
     "text": [
      "mlp_dropout_classification validation accuracy: 0.9877804487179487\n",
      "BNN Test Error: 1.36%\n",
      "MLP Test Error: 1.66%\n",
      "MLP Dropout Test Error: 1.22%\n",
      "Epoch 539/600\n"
     ]
    },
    {
     "name": "stderr",
     "output_type": "stream",
     "text": [
      "100%|██████████| 468/468 [00:17<00:00, 27.18it/s]\n",
      "100%|██████████| 468/468 [00:06<00:00, 68.62it/s]\n",
      "100%|██████████| 468/468 [00:06<00:00, 66.95it/s]\n",
      "100%|██████████| 78/78 [00:16<00:00,  4.62it/s]\n"
     ]
    },
    {
     "name": "stdout",
     "output_type": "stream",
     "text": [
      "bnn_classification validation accuracy: 0.9865785256410257\n"
     ]
    },
    {
     "name": "stderr",
     "output_type": "stream",
     "text": [
      "100%|██████████| 78/78 [00:01<00:00, 69.41it/s]\n"
     ]
    },
    {
     "name": "stdout",
     "output_type": "stream",
     "text": [
      "mlp_classification validation accuracy: 0.9833733974358975\n"
     ]
    },
    {
     "name": "stderr",
     "output_type": "stream",
     "text": [
      "100%|██████████| 78/78 [00:01<00:00, 70.74it/s]\n"
     ]
    },
    {
     "name": "stdout",
     "output_type": "stream",
     "text": [
      "mlp_dropout_classification validation accuracy: 0.9878806089743589\n",
      "BNN Test Error: 1.34%\n",
      "MLP Test Error: 1.66%\n",
      "MLP Dropout Test Error: 1.21%\n",
      "Epoch 540/600\n"
     ]
    },
    {
     "name": "stderr",
     "output_type": "stream",
     "text": [
      "100%|██████████| 468/468 [00:18<00:00, 25.41it/s]\n",
      "100%|██████████| 468/468 [00:06<00:00, 68.24it/s]\n",
      "100%|██████████| 468/468 [00:07<00:00, 66.55it/s]\n",
      "100%|██████████| 78/78 [00:18<00:00,  4.29it/s]\n"
     ]
    },
    {
     "name": "stdout",
     "output_type": "stream",
     "text": [
      "bnn_classification validation accuracy: 0.9863782051282052\n"
     ]
    },
    {
     "name": "stderr",
     "output_type": "stream",
     "text": [
      "100%|██████████| 78/78 [00:01<00:00, 70.96it/s]\n"
     ]
    },
    {
     "name": "stdout",
     "output_type": "stream",
     "text": [
      "mlp_classification validation accuracy: 0.9833733974358975\n"
     ]
    },
    {
     "name": "stderr",
     "output_type": "stream",
     "text": [
      "100%|██████████| 78/78 [00:01<00:00, 70.78it/s]\n"
     ]
    },
    {
     "name": "stdout",
     "output_type": "stream",
     "text": [
      "mlp_dropout_classification validation accuracy: 0.9877804487179487\n",
      "BNN Test Error: 1.36%\n",
      "MLP Test Error: 1.66%\n",
      "MLP Dropout Test Error: 1.22%\n",
      "Epoch 541/600\n"
     ]
    },
    {
     "name": "stderr",
     "output_type": "stream",
     "text": [
      "100%|██████████| 468/468 [00:18<00:00, 24.67it/s]\n",
      "100%|██████████| 468/468 [00:07<00:00, 65.32it/s]\n",
      "100%|██████████| 468/468 [00:07<00:00, 66.58it/s]\n",
      "100%|██████████| 78/78 [00:18<00:00,  4.26it/s]\n"
     ]
    },
    {
     "name": "stdout",
     "output_type": "stream",
     "text": [
      "bnn_classification validation accuracy: 0.9868790064102564\n"
     ]
    },
    {
     "name": "stderr",
     "output_type": "stream",
     "text": [
      "100%|██████████| 78/78 [00:01<00:00, 72.27it/s]\n"
     ]
    },
    {
     "name": "stdout",
     "output_type": "stream",
     "text": [
      "mlp_classification validation accuracy: 0.9833733974358975\n"
     ]
    },
    {
     "name": "stderr",
     "output_type": "stream",
     "text": [
      "100%|██████████| 78/78 [00:01<00:00, 70.69it/s]\n"
     ]
    },
    {
     "name": "stdout",
     "output_type": "stream",
     "text": [
      "mlp_dropout_classification validation accuracy: 0.9877804487179487\n",
      "BNN Test Error: 1.31%\n",
      "MLP Test Error: 1.66%\n",
      "MLP Dropout Test Error: 1.22%\n",
      "Epoch 542/600\n"
     ]
    },
    {
     "name": "stderr",
     "output_type": "stream",
     "text": [
      "100%|██████████| 468/468 [00:17<00:00, 26.77it/s]\n",
      "100%|██████████| 468/468 [00:06<00:00, 68.20it/s]\n",
      "100%|██████████| 468/468 [00:07<00:00, 65.88it/s]\n",
      "100%|██████████| 78/78 [00:20<00:00,  3.81it/s]\n"
     ]
    },
    {
     "name": "stdout",
     "output_type": "stream",
     "text": [
      "bnn_classification validation accuracy: 0.9864783653846154\n"
     ]
    },
    {
     "name": "stderr",
     "output_type": "stream",
     "text": [
      "100%|██████████| 78/78 [00:01<00:00, 70.80it/s]\n"
     ]
    },
    {
     "name": "stdout",
     "output_type": "stream",
     "text": [
      "mlp_classification validation accuracy: 0.9833733974358975\n"
     ]
    },
    {
     "name": "stderr",
     "output_type": "stream",
     "text": [
      "100%|██████████| 78/78 [00:01<00:00, 66.74it/s]\n"
     ]
    },
    {
     "name": "stdout",
     "output_type": "stream",
     "text": [
      "mlp_dropout_classification validation accuracy: 0.9877804487179487\n",
      "BNN Test Error: 1.35%\n",
      "MLP Test Error: 1.66%\n",
      "MLP Dropout Test Error: 1.22%\n",
      "Epoch 543/600\n"
     ]
    },
    {
     "name": "stderr",
     "output_type": "stream",
     "text": [
      "100%|██████████| 468/468 [00:18<00:00, 25.93it/s]\n",
      "100%|██████████| 468/468 [00:06<00:00, 67.02it/s]\n",
      "100%|██████████| 468/468 [00:06<00:00, 67.90it/s]\n",
      "100%|██████████| 78/78 [00:18<00:00,  4.17it/s]\n"
     ]
    },
    {
     "name": "stdout",
     "output_type": "stream",
     "text": [
      "bnn_classification validation accuracy: 0.9864783653846154\n"
     ]
    },
    {
     "name": "stderr",
     "output_type": "stream",
     "text": [
      "100%|██████████| 78/78 [00:01<00:00, 64.28it/s]\n"
     ]
    },
    {
     "name": "stdout",
     "output_type": "stream",
     "text": [
      "mlp_classification validation accuracy: 0.9833733974358975\n"
     ]
    },
    {
     "name": "stderr",
     "output_type": "stream",
     "text": [
      "100%|██████████| 78/78 [00:01<00:00, 67.22it/s]\n"
     ]
    },
    {
     "name": "stdout",
     "output_type": "stream",
     "text": [
      "mlp_dropout_classification validation accuracy: 0.9877804487179487\n",
      "BNN Test Error: 1.35%\n",
      "MLP Test Error: 1.66%\n",
      "MLP Dropout Test Error: 1.22%\n",
      "Epoch 544/600\n"
     ]
    },
    {
     "name": "stderr",
     "output_type": "stream",
     "text": [
      "100%|██████████| 468/468 [00:20<00:00, 23.33it/s]\n",
      "100%|██████████| 468/468 [00:07<00:00, 64.60it/s]\n",
      "100%|██████████| 468/468 [00:07<00:00, 65.89it/s]\n",
      "100%|██████████| 78/78 [00:17<00:00,  4.38it/s]\n"
     ]
    },
    {
     "name": "stdout",
     "output_type": "stream",
     "text": [
      "bnn_classification validation accuracy: 0.9865785256410257\n"
     ]
    },
    {
     "name": "stderr",
     "output_type": "stream",
     "text": [
      "100%|██████████| 78/78 [00:01<00:00, 73.22it/s]\n"
     ]
    },
    {
     "name": "stdout",
     "output_type": "stream",
     "text": [
      "mlp_classification validation accuracy: 0.9833733974358975\n"
     ]
    },
    {
     "name": "stderr",
     "output_type": "stream",
     "text": [
      "100%|██████████| 78/78 [00:01<00:00, 71.23it/s]\n"
     ]
    },
    {
     "name": "stdout",
     "output_type": "stream",
     "text": [
      "mlp_dropout_classification validation accuracy: 0.9877804487179487\n",
      "BNN Test Error: 1.34%\n",
      "MLP Test Error: 1.66%\n",
      "MLP Dropout Test Error: 1.22%\n",
      "Epoch 545/600\n"
     ]
    },
    {
     "name": "stderr",
     "output_type": "stream",
     "text": [
      "100%|██████████| 468/468 [00:18<00:00, 24.89it/s]\n",
      "100%|██████████| 468/468 [00:07<00:00, 65.59it/s]\n",
      "100%|██████████| 468/468 [00:06<00:00, 67.07it/s]\n",
      "100%|██████████| 78/78 [00:17<00:00,  4.40it/s]\n"
     ]
    },
    {
     "name": "stdout",
     "output_type": "stream",
     "text": [
      "bnn_classification validation accuracy: 0.9865785256410257\n"
     ]
    },
    {
     "name": "stderr",
     "output_type": "stream",
     "text": [
      "100%|██████████| 78/78 [00:01<00:00, 69.86it/s]\n"
     ]
    },
    {
     "name": "stdout",
     "output_type": "stream",
     "text": [
      "mlp_classification validation accuracy: 0.9833733974358975\n"
     ]
    },
    {
     "name": "stderr",
     "output_type": "stream",
     "text": [
      "100%|██████████| 78/78 [00:01<00:00, 68.63it/s]\n"
     ]
    },
    {
     "name": "stdout",
     "output_type": "stream",
     "text": [
      "mlp_dropout_classification validation accuracy: 0.9876802884615384\n",
      "BNN Test Error: 1.34%\n",
      "MLP Test Error: 1.66%\n",
      "MLP Dropout Test Error: 1.23%\n",
      "Epoch 546/600\n"
     ]
    },
    {
     "name": "stderr",
     "output_type": "stream",
     "text": [
      "100%|██████████| 468/468 [00:17<00:00, 26.32it/s]\n",
      "100%|██████████| 468/468 [00:07<00:00, 66.57it/s]\n",
      "100%|██████████| 468/468 [00:07<00:00, 64.64it/s]\n",
      "100%|██████████| 78/78 [00:18<00:00,  4.18it/s]\n"
     ]
    },
    {
     "name": "stdout",
     "output_type": "stream",
     "text": [
      "bnn_classification validation accuracy: 0.9867788461538461\n"
     ]
    },
    {
     "name": "stderr",
     "output_type": "stream",
     "text": [
      "100%|██████████| 78/78 [00:01<00:00, 71.36it/s]\n"
     ]
    },
    {
     "name": "stdout",
     "output_type": "stream",
     "text": [
      "mlp_classification validation accuracy: 0.9833733974358975\n"
     ]
    },
    {
     "name": "stderr",
     "output_type": "stream",
     "text": [
      "100%|██████████| 78/78 [00:01<00:00, 70.16it/s]\n"
     ]
    },
    {
     "name": "stdout",
     "output_type": "stream",
     "text": [
      "mlp_dropout_classification validation accuracy: 0.9877804487179487\n",
      "BNN Test Error: 1.32%\n",
      "MLP Test Error: 1.66%\n",
      "MLP Dropout Test Error: 1.22%\n",
      "Epoch 547/600\n"
     ]
    },
    {
     "name": "stderr",
     "output_type": "stream",
     "text": [
      "100%|██████████| 468/468 [00:17<00:00, 26.04it/s]\n",
      "100%|██████████| 468/468 [00:06<00:00, 69.19it/s]\n",
      "100%|██████████| 468/468 [00:06<00:00, 67.64it/s]\n",
      "100%|██████████| 78/78 [00:17<00:00,  4.42it/s]\n"
     ]
    },
    {
     "name": "stdout",
     "output_type": "stream",
     "text": [
      "bnn_classification validation accuracy: 0.9867788461538461\n"
     ]
    },
    {
     "name": "stderr",
     "output_type": "stream",
     "text": [
      "100%|██████████| 78/78 [00:01<00:00, 71.41it/s]\n"
     ]
    },
    {
     "name": "stdout",
     "output_type": "stream",
     "text": [
      "mlp_classification validation accuracy: 0.9833733974358975\n"
     ]
    },
    {
     "name": "stderr",
     "output_type": "stream",
     "text": [
      "100%|██████████| 78/78 [00:01<00:00, 69.15it/s]\n"
     ]
    },
    {
     "name": "stdout",
     "output_type": "stream",
     "text": [
      "mlp_dropout_classification validation accuracy: 0.9877804487179487\n",
      "BNN Test Error: 1.32%\n",
      "MLP Test Error: 1.66%\n",
      "MLP Dropout Test Error: 1.22%\n",
      "Epoch 548/600\n"
     ]
    },
    {
     "name": "stderr",
     "output_type": "stream",
     "text": [
      "100%|██████████| 468/468 [00:18<00:00, 25.48it/s]\n",
      "100%|██████████| 468/468 [00:06<00:00, 67.95it/s]\n",
      "100%|██████████| 468/468 [00:06<00:00, 67.47it/s]\n",
      "100%|██████████| 78/78 [00:17<00:00,  4.40it/s]\n"
     ]
    },
    {
     "name": "stdout",
     "output_type": "stream",
     "text": [
      "bnn_classification validation accuracy: 0.9866786858974359\n"
     ]
    },
    {
     "name": "stderr",
     "output_type": "stream",
     "text": [
      "100%|██████████| 78/78 [00:01<00:00, 73.06it/s]\n"
     ]
    },
    {
     "name": "stdout",
     "output_type": "stream",
     "text": [
      "mlp_classification validation accuracy: 0.9833733974358975\n"
     ]
    },
    {
     "name": "stderr",
     "output_type": "stream",
     "text": [
      "100%|██████████| 78/78 [00:01<00:00, 72.87it/s]\n"
     ]
    },
    {
     "name": "stdout",
     "output_type": "stream",
     "text": [
      "mlp_dropout_classification validation accuracy: 0.9877804487179487\n",
      "BNN Test Error: 1.33%\n",
      "MLP Test Error: 1.66%\n",
      "MLP Dropout Test Error: 1.22%\n",
      "Epoch 549/600\n"
     ]
    },
    {
     "name": "stderr",
     "output_type": "stream",
     "text": [
      "100%|██████████| 468/468 [00:17<00:00, 26.66it/s]\n",
      "100%|██████████| 468/468 [00:07<00:00, 65.46it/s]\n",
      "100%|██████████| 468/468 [00:06<00:00, 67.26it/s]\n",
      "100%|██████████| 78/78 [00:18<00:00,  4.24it/s]\n"
     ]
    },
    {
     "name": "stdout",
     "output_type": "stream",
     "text": [
      "bnn_classification validation accuracy: 0.9866786858974359\n"
     ]
    },
    {
     "name": "stderr",
     "output_type": "stream",
     "text": [
      "100%|██████████| 78/78 [00:01<00:00, 67.88it/s]\n"
     ]
    },
    {
     "name": "stdout",
     "output_type": "stream",
     "text": [
      "mlp_classification validation accuracy: 0.9833733974358975\n"
     ]
    },
    {
     "name": "stderr",
     "output_type": "stream",
     "text": [
      "100%|██████████| 78/78 [00:01<00:00, 72.93it/s]\n"
     ]
    },
    {
     "name": "stdout",
     "output_type": "stream",
     "text": [
      "mlp_dropout_classification validation accuracy: 0.9877804487179487\n",
      "BNN Test Error: 1.33%\n",
      "MLP Test Error: 1.66%\n",
      "MLP Dropout Test Error: 1.22%\n",
      "Epoch 550/600\n"
     ]
    },
    {
     "name": "stderr",
     "output_type": "stream",
     "text": [
      "100%|██████████| 468/468 [00:17<00:00, 26.48it/s]\n",
      "100%|██████████| 468/468 [00:06<00:00, 68.66it/s]\n",
      "100%|██████████| 468/468 [00:06<00:00, 67.47it/s]\n",
      "100%|██████████| 78/78 [00:20<00:00,  3.82it/s]\n"
     ]
    },
    {
     "name": "stdout",
     "output_type": "stream",
     "text": [
      "bnn_classification validation accuracy: 0.9866786858974359\n"
     ]
    },
    {
     "name": "stderr",
     "output_type": "stream",
     "text": [
      "100%|██████████| 78/78 [00:01<00:00, 70.13it/s]\n"
     ]
    },
    {
     "name": "stdout",
     "output_type": "stream",
     "text": [
      "mlp_classification validation accuracy: 0.9833733974358975\n"
     ]
    },
    {
     "name": "stderr",
     "output_type": "stream",
     "text": [
      "100%|██████████| 78/78 [00:01<00:00, 72.53it/s]\n"
     ]
    },
    {
     "name": "stdout",
     "output_type": "stream",
     "text": [
      "mlp_dropout_classification validation accuracy: 0.9878806089743589\n",
      "BNN Test Error: 1.33%\n",
      "MLP Test Error: 1.66%\n",
      "MLP Dropout Test Error: 1.21%\n",
      "Epoch 551/600\n"
     ]
    },
    {
     "name": "stderr",
     "output_type": "stream",
     "text": [
      "100%|██████████| 468/468 [00:17<00:00, 26.90it/s]\n",
      "100%|██████████| 468/468 [00:06<00:00, 68.37it/s]\n",
      "100%|██████████| 468/468 [00:07<00:00, 66.67it/s]\n",
      "100%|██████████| 78/78 [00:17<00:00,  4.42it/s]\n"
     ]
    },
    {
     "name": "stdout",
     "output_type": "stream",
     "text": [
      "bnn_classification validation accuracy: 0.9866786858974359\n"
     ]
    },
    {
     "name": "stderr",
     "output_type": "stream",
     "text": [
      "100%|██████████| 78/78 [00:01<00:00, 72.85it/s]\n"
     ]
    },
    {
     "name": "stdout",
     "output_type": "stream",
     "text": [
      "mlp_classification validation accuracy: 0.9833733974358975\n"
     ]
    },
    {
     "name": "stderr",
     "output_type": "stream",
     "text": [
      "100%|██████████| 78/78 [00:01<00:00, 72.56it/s]\n"
     ]
    },
    {
     "name": "stdout",
     "output_type": "stream",
     "text": [
      "mlp_dropout_classification validation accuracy: 0.9878806089743589\n",
      "BNN Test Error: 1.33%\n",
      "MLP Test Error: 1.66%\n",
      "MLP Dropout Test Error: 1.21%\n",
      "Epoch 552/600\n"
     ]
    },
    {
     "name": "stderr",
     "output_type": "stream",
     "text": [
      "100%|██████████| 468/468 [00:19<00:00, 24.33it/s]\n",
      "100%|██████████| 468/468 [00:06<00:00, 69.14it/s]\n",
      "100%|██████████| 468/468 [00:06<00:00, 68.83it/s]\n",
      "100%|██████████| 78/78 [00:17<00:00,  4.39it/s]\n"
     ]
    },
    {
     "name": "stdout",
     "output_type": "stream",
     "text": [
      "bnn_classification validation accuracy: 0.9866786858974359\n"
     ]
    },
    {
     "name": "stderr",
     "output_type": "stream",
     "text": [
      "100%|██████████| 78/78 [00:01<00:00, 73.58it/s]\n"
     ]
    },
    {
     "name": "stdout",
     "output_type": "stream",
     "text": [
      "mlp_classification validation accuracy: 0.9833733974358975\n"
     ]
    },
    {
     "name": "stderr",
     "output_type": "stream",
     "text": [
      "100%|██████████| 78/78 [00:01<00:00, 73.89it/s]\n"
     ]
    },
    {
     "name": "stdout",
     "output_type": "stream",
     "text": [
      "mlp_dropout_classification validation accuracy: 0.9877804487179487\n",
      "BNN Test Error: 1.33%\n",
      "MLP Test Error: 1.66%\n",
      "MLP Dropout Test Error: 1.22%\n",
      "Epoch 553/600\n"
     ]
    },
    {
     "name": "stderr",
     "output_type": "stream",
     "text": [
      "100%|██████████| 468/468 [00:17<00:00, 26.27it/s]\n",
      "100%|██████████| 468/468 [00:06<00:00, 67.35it/s]\n",
      "100%|██████████| 468/468 [00:06<00:00, 67.27it/s]\n",
      "100%|██████████| 78/78 [00:18<00:00,  4.29it/s]\n"
     ]
    },
    {
     "name": "stdout",
     "output_type": "stream",
     "text": [
      "bnn_classification validation accuracy: 0.9865785256410257\n"
     ]
    },
    {
     "name": "stderr",
     "output_type": "stream",
     "text": [
      "100%|██████████| 78/78 [00:01<00:00, 73.15it/s]\n"
     ]
    },
    {
     "name": "stdout",
     "output_type": "stream",
     "text": [
      "mlp_classification validation accuracy: 0.9833733974358975\n"
     ]
    },
    {
     "name": "stderr",
     "output_type": "stream",
     "text": [
      "100%|██████████| 78/78 [00:01<00:00, 74.11it/s]\n"
     ]
    },
    {
     "name": "stdout",
     "output_type": "stream",
     "text": [
      "mlp_dropout_classification validation accuracy: 0.9877804487179487\n",
      "BNN Test Error: 1.34%\n",
      "MLP Test Error: 1.66%\n",
      "MLP Dropout Test Error: 1.22%\n",
      "Epoch 554/600\n"
     ]
    },
    {
     "name": "stderr",
     "output_type": "stream",
     "text": [
      "100%|██████████| 468/468 [00:17<00:00, 26.92it/s]\n",
      "100%|██████████| 468/468 [00:06<00:00, 68.67it/s]\n",
      "100%|██████████| 468/468 [00:06<00:00, 67.12it/s]\n",
      "100%|██████████| 78/78 [00:20<00:00,  3.85it/s]\n"
     ]
    },
    {
     "name": "stdout",
     "output_type": "stream",
     "text": [
      "bnn_classification validation accuracy: 0.9864783653846154\n"
     ]
    },
    {
     "name": "stderr",
     "output_type": "stream",
     "text": [
      "100%|██████████| 78/78 [00:01<00:00, 72.59it/s]\n"
     ]
    },
    {
     "name": "stdout",
     "output_type": "stream",
     "text": [
      "mlp_classification validation accuracy: 0.9833733974358975\n"
     ]
    },
    {
     "name": "stderr",
     "output_type": "stream",
     "text": [
      "100%|██████████| 78/78 [00:01<00:00, 71.48it/s]\n"
     ]
    },
    {
     "name": "stdout",
     "output_type": "stream",
     "text": [
      "mlp_dropout_classification validation accuracy: 0.9877804487179487\n",
      "BNN Test Error: 1.35%\n",
      "MLP Test Error: 1.66%\n",
      "MLP Dropout Test Error: 1.22%\n",
      "Epoch 555/600\n"
     ]
    },
    {
     "name": "stderr",
     "output_type": "stream",
     "text": [
      "100%|██████████| 468/468 [00:17<00:00, 26.30it/s]\n",
      "100%|██████████| 468/468 [00:06<00:00, 69.79it/s]\n",
      "100%|██████████| 468/468 [00:06<00:00, 67.48it/s]\n",
      "100%|██████████| 78/78 [00:18<00:00,  4.23it/s]\n"
     ]
    },
    {
     "name": "stdout",
     "output_type": "stream",
     "text": [
      "bnn_classification validation accuracy: 0.9864783653846154\n"
     ]
    },
    {
     "name": "stderr",
     "output_type": "stream",
     "text": [
      "100%|██████████| 78/78 [00:01<00:00, 73.58it/s]\n"
     ]
    },
    {
     "name": "stdout",
     "output_type": "stream",
     "text": [
      "mlp_classification validation accuracy: 0.9833733974358975\n"
     ]
    },
    {
     "name": "stderr",
     "output_type": "stream",
     "text": [
      "100%|██████████| 78/78 [00:01<00:00, 72.84it/s]\n"
     ]
    },
    {
     "name": "stdout",
     "output_type": "stream",
     "text": [
      "mlp_dropout_classification validation accuracy: 0.9877804487179487\n",
      "BNN Test Error: 1.35%\n",
      "MLP Test Error: 1.66%\n",
      "MLP Dropout Test Error: 1.22%\n",
      "Epoch 556/600\n"
     ]
    },
    {
     "name": "stderr",
     "output_type": "stream",
     "text": [
      "100%|██████████| 468/468 [00:18<00:00, 25.12it/s]\n",
      "100%|██████████| 468/468 [00:06<00:00, 68.64it/s]\n",
      "100%|██████████| 468/468 [00:06<00:00, 68.63it/s]\n",
      "100%|██████████| 78/78 [00:18<00:00,  4.28it/s]\n"
     ]
    },
    {
     "name": "stdout",
     "output_type": "stream",
     "text": [
      "bnn_classification validation accuracy: 0.9863782051282052\n"
     ]
    },
    {
     "name": "stderr",
     "output_type": "stream",
     "text": [
      "100%|██████████| 78/78 [00:01<00:00, 73.71it/s]\n"
     ]
    },
    {
     "name": "stdout",
     "output_type": "stream",
     "text": [
      "mlp_classification validation accuracy: 0.9833733974358975\n"
     ]
    },
    {
     "name": "stderr",
     "output_type": "stream",
     "text": [
      "100%|██████████| 78/78 [00:01<00:00, 73.01it/s]\n"
     ]
    },
    {
     "name": "stdout",
     "output_type": "stream",
     "text": [
      "mlp_dropout_classification validation accuracy: 0.9878806089743589\n",
      "BNN Test Error: 1.36%\n",
      "MLP Test Error: 1.66%\n",
      "MLP Dropout Test Error: 1.21%\n",
      "Epoch 557/600\n"
     ]
    },
    {
     "name": "stderr",
     "output_type": "stream",
     "text": [
      "100%|██████████| 468/468 [00:17<00:00, 27.24it/s]\n",
      "100%|██████████| 468/468 [00:06<00:00, 68.07it/s]\n",
      "100%|██████████| 468/468 [00:07<00:00, 62.17it/s]\n",
      "100%|██████████| 78/78 [00:17<00:00,  4.36it/s]\n"
     ]
    },
    {
     "name": "stdout",
     "output_type": "stream",
     "text": [
      "bnn_classification validation accuracy: 0.9864783653846154\n"
     ]
    },
    {
     "name": "stderr",
     "output_type": "stream",
     "text": [
      "100%|██████████| 78/78 [00:01<00:00, 70.62it/s]\n"
     ]
    },
    {
     "name": "stdout",
     "output_type": "stream",
     "text": [
      "mlp_classification validation accuracy: 0.9833733974358975\n"
     ]
    },
    {
     "name": "stderr",
     "output_type": "stream",
     "text": [
      "100%|██████████| 78/78 [00:01<00:00, 72.45it/s]\n"
     ]
    },
    {
     "name": "stdout",
     "output_type": "stream",
     "text": [
      "mlp_dropout_classification validation accuracy: 0.9878806089743589\n",
      "BNN Test Error: 1.35%\n",
      "MLP Test Error: 1.66%\n",
      "MLP Dropout Test Error: 1.21%\n",
      "Epoch 558/600\n"
     ]
    },
    {
     "name": "stderr",
     "output_type": "stream",
     "text": [
      "100%|██████████| 468/468 [00:17<00:00, 26.60it/s]\n",
      "100%|██████████| 468/468 [00:06<00:00, 68.55it/s]\n",
      "100%|██████████| 468/468 [00:06<00:00, 68.30it/s]\n",
      "100%|██████████| 78/78 [00:19<00:00,  3.94it/s]\n"
     ]
    },
    {
     "name": "stdout",
     "output_type": "stream",
     "text": [
      "bnn_classification validation accuracy: 0.9867788461538461\n"
     ]
    },
    {
     "name": "stderr",
     "output_type": "stream",
     "text": [
      "100%|██████████| 78/78 [00:01<00:00, 71.07it/s]\n"
     ]
    },
    {
     "name": "stdout",
     "output_type": "stream",
     "text": [
      "mlp_classification validation accuracy: 0.9833733974358975\n"
     ]
    },
    {
     "name": "stderr",
     "output_type": "stream",
     "text": [
      "100%|██████████| 78/78 [00:01<00:00, 71.73it/s]\n"
     ]
    },
    {
     "name": "stdout",
     "output_type": "stream",
     "text": [
      "mlp_dropout_classification validation accuracy: 0.9878806089743589\n",
      "BNN Test Error: 1.32%\n",
      "MLP Test Error: 1.66%\n",
      "MLP Dropout Test Error: 1.21%\n",
      "Epoch 559/600\n"
     ]
    },
    {
     "name": "stderr",
     "output_type": "stream",
     "text": [
      "100%|██████████| 468/468 [00:17<00:00, 26.70it/s]\n",
      "100%|██████████| 468/468 [00:07<00:00, 65.81it/s]\n",
      "100%|██████████| 468/468 [00:06<00:00, 67.83it/s]\n",
      "100%|██████████| 78/78 [00:17<00:00,  4.50it/s]\n"
     ]
    },
    {
     "name": "stdout",
     "output_type": "stream",
     "text": [
      "bnn_classification validation accuracy: 0.9865785256410257\n"
     ]
    },
    {
     "name": "stderr",
     "output_type": "stream",
     "text": [
      "100%|██████████| 78/78 [00:01<00:00, 72.24it/s]\n"
     ]
    },
    {
     "name": "stdout",
     "output_type": "stream",
     "text": [
      "mlp_classification validation accuracy: 0.9833733974358975\n"
     ]
    },
    {
     "name": "stderr",
     "output_type": "stream",
     "text": [
      "100%|██████████| 78/78 [00:01<00:00, 69.14it/s]\n"
     ]
    },
    {
     "name": "stdout",
     "output_type": "stream",
     "text": [
      "mlp_dropout_classification validation accuracy: 0.9878806089743589\n",
      "BNN Test Error: 1.34%\n",
      "MLP Test Error: 1.66%\n",
      "MLP Dropout Test Error: 1.21%\n",
      "Epoch 560/600\n"
     ]
    },
    {
     "name": "stderr",
     "output_type": "stream",
     "text": [
      "100%|██████████| 468/468 [00:17<00:00, 27.36it/s]\n",
      "100%|██████████| 468/468 [00:06<00:00, 68.67it/s]\n",
      "100%|██████████| 468/468 [00:06<00:00, 68.06it/s]\n",
      "100%|██████████| 78/78 [00:18<00:00,  4.29it/s]\n"
     ]
    },
    {
     "name": "stdout",
     "output_type": "stream",
     "text": [
      "bnn_classification validation accuracy: 0.9865785256410257\n"
     ]
    },
    {
     "name": "stderr",
     "output_type": "stream",
     "text": [
      "100%|██████████| 78/78 [00:01<00:00, 72.57it/s]\n"
     ]
    },
    {
     "name": "stdout",
     "output_type": "stream",
     "text": [
      "mlp_classification validation accuracy: 0.9833733974358975\n"
     ]
    },
    {
     "name": "stderr",
     "output_type": "stream",
     "text": [
      "100%|██████████| 78/78 [00:01<00:00, 74.22it/s]\n"
     ]
    },
    {
     "name": "stdout",
     "output_type": "stream",
     "text": [
      "mlp_dropout_classification validation accuracy: 0.9878806089743589\n",
      "BNN Test Error: 1.34%\n",
      "MLP Test Error: 1.66%\n",
      "MLP Dropout Test Error: 1.21%\n",
      "Epoch 561/600\n"
     ]
    },
    {
     "name": "stderr",
     "output_type": "stream",
     "text": [
      "100%|██████████| 468/468 [00:17<00:00, 26.77it/s]\n",
      "100%|██████████| 468/468 [00:06<00:00, 69.53it/s]\n",
      "100%|██████████| 468/468 [00:06<00:00, 67.96it/s]\n",
      "100%|██████████| 78/78 [00:19<00:00,  3.94it/s]\n"
     ]
    },
    {
     "name": "stdout",
     "output_type": "stream",
     "text": [
      "bnn_classification validation accuracy: 0.9861778846153846\n"
     ]
    },
    {
     "name": "stderr",
     "output_type": "stream",
     "text": [
      "100%|██████████| 78/78 [00:01<00:00, 74.39it/s]\n"
     ]
    },
    {
     "name": "stdout",
     "output_type": "stream",
     "text": [
      "mlp_classification validation accuracy: 0.9833733974358975\n"
     ]
    },
    {
     "name": "stderr",
     "output_type": "stream",
     "text": [
      "100%|██████████| 78/78 [00:01<00:00, 72.57it/s]\n"
     ]
    },
    {
     "name": "stdout",
     "output_type": "stream",
     "text": [
      "mlp_dropout_classification validation accuracy: 0.9877804487179487\n",
      "BNN Test Error: 1.38%\n",
      "MLP Test Error: 1.66%\n",
      "MLP Dropout Test Error: 1.22%\n",
      "Epoch 562/600\n"
     ]
    },
    {
     "name": "stderr",
     "output_type": "stream",
     "text": [
      "100%|██████████| 468/468 [00:17<00:00, 26.93it/s]\n",
      "100%|██████████| 468/468 [00:06<00:00, 67.64it/s]\n",
      "100%|██████████| 468/468 [00:06<00:00, 67.47it/s]\n",
      "100%|██████████| 78/78 [00:18<00:00,  4.27it/s]\n"
     ]
    },
    {
     "name": "stdout",
     "output_type": "stream",
     "text": [
      "bnn_classification validation accuracy: 0.9864783653846154\n"
     ]
    },
    {
     "name": "stderr",
     "output_type": "stream",
     "text": [
      "100%|██████████| 78/78 [00:01<00:00, 72.20it/s]\n"
     ]
    },
    {
     "name": "stdout",
     "output_type": "stream",
     "text": [
      "mlp_classification validation accuracy: 0.9833733974358975\n"
     ]
    },
    {
     "name": "stderr",
     "output_type": "stream",
     "text": [
      "100%|██████████| 78/78 [00:01<00:00, 71.08it/s]\n"
     ]
    },
    {
     "name": "stdout",
     "output_type": "stream",
     "text": [
      "mlp_dropout_classification validation accuracy: 0.9875801282051282\n",
      "BNN Test Error: 1.35%\n",
      "MLP Test Error: 1.66%\n",
      "MLP Dropout Test Error: 1.24%\n",
      "Epoch 563/600\n"
     ]
    },
    {
     "name": "stderr",
     "output_type": "stream",
     "text": [
      "100%|██████████| 468/468 [00:18<00:00, 25.19it/s]\n",
      "100%|██████████| 468/468 [00:06<00:00, 69.13it/s]\n",
      "100%|██████████| 468/468 [00:06<00:00, 68.96it/s]\n",
      "100%|██████████| 78/78 [00:18<00:00,  4.28it/s]\n"
     ]
    },
    {
     "name": "stdout",
     "output_type": "stream",
     "text": [
      "bnn_classification validation accuracy: 0.9861778846153846\n"
     ]
    },
    {
     "name": "stderr",
     "output_type": "stream",
     "text": [
      "100%|██████████| 78/78 [00:01<00:00, 70.63it/s]\n"
     ]
    },
    {
     "name": "stdout",
     "output_type": "stream",
     "text": [
      "mlp_classification validation accuracy: 0.9833733974358975\n"
     ]
    },
    {
     "name": "stderr",
     "output_type": "stream",
     "text": [
      "100%|██████████| 78/78 [00:01<00:00, 73.43it/s]\n"
     ]
    },
    {
     "name": "stdout",
     "output_type": "stream",
     "text": [
      "mlp_dropout_classification validation accuracy: 0.9875801282051282\n",
      "BNN Test Error: 1.38%\n",
      "MLP Test Error: 1.66%\n",
      "MLP Dropout Test Error: 1.24%\n",
      "Epoch 564/600\n"
     ]
    },
    {
     "name": "stderr",
     "output_type": "stream",
     "text": [
      "100%|██████████| 468/468 [00:17<00:00, 26.67it/s]\n",
      "100%|██████████| 468/468 [00:07<00:00, 65.16it/s]\n",
      "100%|██████████| 468/468 [00:06<00:00, 67.01it/s]\n",
      "100%|██████████| 78/78 [00:17<00:00,  4.36it/s]\n"
     ]
    },
    {
     "name": "stdout",
     "output_type": "stream",
     "text": [
      "bnn_classification validation accuracy: 0.9868790064102564\n"
     ]
    },
    {
     "name": "stderr",
     "output_type": "stream",
     "text": [
      "100%|██████████| 78/78 [00:01<00:00, 69.20it/s]\n"
     ]
    },
    {
     "name": "stdout",
     "output_type": "stream",
     "text": [
      "mlp_classification validation accuracy: 0.9833733974358975\n"
     ]
    },
    {
     "name": "stderr",
     "output_type": "stream",
     "text": [
      "100%|██████████| 78/78 [00:01<00:00, 72.61it/s]\n"
     ]
    },
    {
     "name": "stdout",
     "output_type": "stream",
     "text": [
      "mlp_dropout_classification validation accuracy: 0.9876802884615384\n",
      "BNN Test Error: 1.31%\n",
      "MLP Test Error: 1.66%\n",
      "MLP Dropout Test Error: 1.23%\n",
      "Epoch 565/600\n"
     ]
    },
    {
     "name": "stderr",
     "output_type": "stream",
     "text": [
      "100%|██████████| 468/468 [00:17<00:00, 26.78it/s]\n",
      "100%|██████████| 468/468 [00:06<00:00, 69.61it/s]\n",
      "100%|██████████| 468/468 [00:06<00:00, 67.72it/s]\n",
      "100%|██████████| 78/78 [00:18<00:00,  4.26it/s]\n"
     ]
    },
    {
     "name": "stdout",
     "output_type": "stream",
     "text": [
      "bnn_classification validation accuracy: 0.9863782051282052\n"
     ]
    },
    {
     "name": "stderr",
     "output_type": "stream",
     "text": [
      "100%|██████████| 78/78 [00:01<00:00, 73.27it/s]\n"
     ]
    },
    {
     "name": "stdout",
     "output_type": "stream",
     "text": [
      "mlp_classification validation accuracy: 0.9833733974358975\n"
     ]
    },
    {
     "name": "stderr",
     "output_type": "stream",
     "text": [
      "100%|██████████| 78/78 [00:01<00:00, 72.68it/s]\n"
     ]
    },
    {
     "name": "stdout",
     "output_type": "stream",
     "text": [
      "mlp_dropout_classification validation accuracy: 0.9875801282051282\n",
      "BNN Test Error: 1.36%\n",
      "MLP Test Error: 1.66%\n",
      "MLP Dropout Test Error: 1.24%\n",
      "Epoch 566/600\n"
     ]
    },
    {
     "name": "stderr",
     "output_type": "stream",
     "text": [
      "100%|██████████| 468/468 [00:17<00:00, 26.67it/s]\n",
      "100%|██████████| 468/468 [00:06<00:00, 69.83it/s]\n",
      "100%|██████████| 468/468 [00:06<00:00, 68.34it/s]\n",
      "100%|██████████| 78/78 [00:18<00:00,  4.26it/s]\n"
     ]
    },
    {
     "name": "stdout",
     "output_type": "stream",
     "text": [
      "bnn_classification validation accuracy: 0.9864783653846154\n"
     ]
    },
    {
     "name": "stderr",
     "output_type": "stream",
     "text": [
      "100%|██████████| 78/78 [00:01<00:00, 73.74it/s]\n"
     ]
    },
    {
     "name": "stdout",
     "output_type": "stream",
     "text": [
      "mlp_classification validation accuracy: 0.9833733974358975\n"
     ]
    },
    {
     "name": "stderr",
     "output_type": "stream",
     "text": [
      "100%|██████████| 78/78 [00:01<00:00, 72.46it/s]\n"
     ]
    },
    {
     "name": "stdout",
     "output_type": "stream",
     "text": [
      "mlp_dropout_classification validation accuracy: 0.9875801282051282\n",
      "BNN Test Error: 1.35%\n",
      "MLP Test Error: 1.66%\n",
      "MLP Dropout Test Error: 1.24%\n",
      "Epoch 567/600\n"
     ]
    },
    {
     "name": "stderr",
     "output_type": "stream",
     "text": [
      "100%|██████████| 468/468 [00:19<00:00, 23.72it/s]\n",
      "100%|██████████| 468/468 [00:06<00:00, 68.42it/s]\n",
      "100%|██████████| 468/468 [00:06<00:00, 68.35it/s]\n",
      "100%|██████████| 78/78 [00:18<00:00,  4.28it/s]\n"
     ]
    },
    {
     "name": "stdout",
     "output_type": "stream",
     "text": [
      "bnn_classification validation accuracy: 0.9864783653846154\n"
     ]
    },
    {
     "name": "stderr",
     "output_type": "stream",
     "text": [
      "100%|██████████| 78/78 [00:01<00:00, 74.15it/s]\n"
     ]
    },
    {
     "name": "stdout",
     "output_type": "stream",
     "text": [
      "mlp_classification validation accuracy: 0.9833733974358975\n"
     ]
    },
    {
     "name": "stderr",
     "output_type": "stream",
     "text": [
      "100%|██████████| 78/78 [00:01<00:00, 72.33it/s]\n"
     ]
    },
    {
     "name": "stdout",
     "output_type": "stream",
     "text": [
      "mlp_dropout_classification validation accuracy: 0.9876802884615384\n",
      "BNN Test Error: 1.35%\n",
      "MLP Test Error: 1.66%\n",
      "MLP Dropout Test Error: 1.23%\n",
      "Epoch 568/600\n"
     ]
    },
    {
     "name": "stderr",
     "output_type": "stream",
     "text": [
      "100%|██████████| 468/468 [00:17<00:00, 27.51it/s]\n",
      "100%|██████████| 468/468 [00:06<00:00, 68.12it/s]\n",
      "100%|██████████| 468/468 [00:07<00:00, 60.31it/s]\n",
      "100%|██████████| 78/78 [00:17<00:00,  4.48it/s]\n"
     ]
    },
    {
     "name": "stdout",
     "output_type": "stream",
     "text": [
      "bnn_classification validation accuracy: 0.9865785256410257\n"
     ]
    },
    {
     "name": "stderr",
     "output_type": "stream",
     "text": [
      "100%|██████████| 78/78 [00:01<00:00, 71.81it/s]\n"
     ]
    },
    {
     "name": "stdout",
     "output_type": "stream",
     "text": [
      "mlp_classification validation accuracy: 0.9833733974358975\n"
     ]
    },
    {
     "name": "stderr",
     "output_type": "stream",
     "text": [
      "100%|██████████| 78/78 [00:01<00:00, 74.78it/s]\n"
     ]
    },
    {
     "name": "stdout",
     "output_type": "stream",
     "text": [
      "mlp_dropout_classification validation accuracy: 0.9876802884615384\n",
      "BNN Test Error: 1.34%\n",
      "MLP Test Error: 1.66%\n",
      "MLP Dropout Test Error: 1.23%\n",
      "Epoch 569/600\n"
     ]
    },
    {
     "name": "stderr",
     "output_type": "stream",
     "text": [
      "100%|██████████| 468/468 [00:17<00:00, 27.33it/s]\n",
      "100%|██████████| 468/468 [00:06<00:00, 69.96it/s]\n",
      "100%|██████████| 468/468 [00:06<00:00, 69.35it/s]\n",
      "100%|██████████| 78/78 [00:18<00:00,  4.33it/s]\n"
     ]
    },
    {
     "name": "stdout",
     "output_type": "stream",
     "text": [
      "bnn_classification validation accuracy: 0.9866786858974359\n"
     ]
    },
    {
     "name": "stderr",
     "output_type": "stream",
     "text": [
      "100%|██████████| 78/78 [00:01<00:00, 71.05it/s]\n"
     ]
    },
    {
     "name": "stdout",
     "output_type": "stream",
     "text": [
      "mlp_classification validation accuracy: 0.9833733974358975\n"
     ]
    },
    {
     "name": "stderr",
     "output_type": "stream",
     "text": [
      "100%|██████████| 78/78 [00:01<00:00, 73.11it/s]\n"
     ]
    },
    {
     "name": "stdout",
     "output_type": "stream",
     "text": [
      "mlp_dropout_classification validation accuracy: 0.9877804487179487\n",
      "BNN Test Error: 1.33%\n",
      "MLP Test Error: 1.66%\n",
      "MLP Dropout Test Error: 1.22%\n",
      "Epoch 570/600\n"
     ]
    },
    {
     "name": "stderr",
     "output_type": "stream",
     "text": [
      "100%|██████████| 468/468 [00:17<00:00, 26.15it/s]\n",
      "100%|██████████| 468/468 [00:06<00:00, 68.51it/s]\n",
      "100%|██████████| 468/468 [00:06<00:00, 69.41it/s]\n",
      "100%|██████████| 78/78 [00:17<00:00,  4.47it/s]\n"
     ]
    },
    {
     "name": "stdout",
     "output_type": "stream",
     "text": [
      "bnn_classification validation accuracy: 0.9867788461538461\n"
     ]
    },
    {
     "name": "stderr",
     "output_type": "stream",
     "text": [
      "100%|██████████| 78/78 [00:01<00:00, 72.90it/s]\n"
     ]
    },
    {
     "name": "stdout",
     "output_type": "stream",
     "text": [
      "mlp_classification validation accuracy: 0.9833733974358975\n"
     ]
    },
    {
     "name": "stderr",
     "output_type": "stream",
     "text": [
      "100%|██████████| 78/78 [00:01<00:00, 66.84it/s]\n"
     ]
    },
    {
     "name": "stdout",
     "output_type": "stream",
     "text": [
      "mlp_dropout_classification validation accuracy: 0.9876802884615384\n",
      "BNN Test Error: 1.32%\n",
      "MLP Test Error: 1.66%\n",
      "MLP Dropout Test Error: 1.23%\n",
      "Epoch 571/600\n"
     ]
    },
    {
     "name": "stderr",
     "output_type": "stream",
     "text": [
      "100%|██████████| 468/468 [00:17<00:00, 26.91it/s]\n",
      "100%|██████████| 468/468 [00:06<00:00, 66.96it/s]\n",
      "100%|██████████| 468/468 [00:06<00:00, 68.03it/s]\n",
      "100%|██████████| 78/78 [00:17<00:00,  4.47it/s]\n"
     ]
    },
    {
     "name": "stdout",
     "output_type": "stream",
     "text": [
      "bnn_classification validation accuracy: 0.9863782051282052\n"
     ]
    },
    {
     "name": "stderr",
     "output_type": "stream",
     "text": [
      "100%|██████████| 78/78 [00:01<00:00, 72.66it/s]\n"
     ]
    },
    {
     "name": "stdout",
     "output_type": "stream",
     "text": [
      "mlp_classification validation accuracy: 0.9833733974358975\n"
     ]
    },
    {
     "name": "stderr",
     "output_type": "stream",
     "text": [
      "100%|██████████| 78/78 [00:01<00:00, 73.52it/s]\n"
     ]
    },
    {
     "name": "stdout",
     "output_type": "stream",
     "text": [
      "mlp_dropout_classification validation accuracy: 0.9876802884615384\n",
      "BNN Test Error: 1.36%\n",
      "MLP Test Error: 1.66%\n",
      "MLP Dropout Test Error: 1.23%\n",
      "Epoch 572/600\n"
     ]
    },
    {
     "name": "stderr",
     "output_type": "stream",
     "text": [
      "100%|██████████| 468/468 [00:17<00:00, 26.37it/s]\n",
      "100%|██████████| 468/468 [00:06<00:00, 69.44it/s]\n",
      "100%|██████████| 468/468 [00:06<00:00, 68.39it/s]\n",
      "100%|██████████| 78/78 [00:18<00:00,  4.23it/s]\n"
     ]
    },
    {
     "name": "stdout",
     "output_type": "stream",
     "text": [
      "bnn_classification validation accuracy: 0.9866786858974359\n"
     ]
    },
    {
     "name": "stderr",
     "output_type": "stream",
     "text": [
      "100%|██████████| 78/78 [00:01<00:00, 72.59it/s]\n"
     ]
    },
    {
     "name": "stdout",
     "output_type": "stream",
     "text": [
      "mlp_classification validation accuracy: 0.9833733974358975\n"
     ]
    },
    {
     "name": "stderr",
     "output_type": "stream",
     "text": [
      "100%|██████████| 78/78 [00:01<00:00, 72.38it/s]\n"
     ]
    },
    {
     "name": "stdout",
     "output_type": "stream",
     "text": [
      "mlp_dropout_classification validation accuracy: 0.9876802884615384\n",
      "BNN Test Error: 1.33%\n",
      "MLP Test Error: 1.66%\n",
      "MLP Dropout Test Error: 1.23%\n",
      "Epoch 573/600\n"
     ]
    },
    {
     "name": "stderr",
     "output_type": "stream",
     "text": [
      "100%|██████████| 468/468 [00:17<00:00, 26.58it/s]\n",
      "100%|██████████| 468/468 [00:06<00:00, 69.07it/s]\n",
      "100%|██████████| 468/468 [00:06<00:00, 67.21it/s]\n",
      "100%|██████████| 78/78 [00:17<00:00,  4.35it/s]\n"
     ]
    },
    {
     "name": "stdout",
     "output_type": "stream",
     "text": [
      "bnn_classification validation accuracy: 0.9866786858974359\n"
     ]
    },
    {
     "name": "stderr",
     "output_type": "stream",
     "text": [
      "100%|██████████| 78/78 [00:01<00:00, 72.05it/s]\n"
     ]
    },
    {
     "name": "stdout",
     "output_type": "stream",
     "text": [
      "mlp_classification validation accuracy: 0.9833733974358975\n"
     ]
    },
    {
     "name": "stderr",
     "output_type": "stream",
     "text": [
      "100%|██████████| 78/78 [00:01<00:00, 72.65it/s]\n"
     ]
    },
    {
     "name": "stdout",
     "output_type": "stream",
     "text": [
      "mlp_dropout_classification validation accuracy: 0.9876802884615384\n",
      "BNN Test Error: 1.33%\n",
      "MLP Test Error: 1.66%\n",
      "MLP Dropout Test Error: 1.23%\n",
      "Epoch 574/600\n"
     ]
    },
    {
     "name": "stderr",
     "output_type": "stream",
     "text": [
      "100%|██████████| 468/468 [00:18<00:00, 25.25it/s]\n",
      "100%|██████████| 468/468 [00:06<00:00, 67.45it/s]\n",
      "100%|██████████| 468/468 [00:06<00:00, 67.94it/s]\n",
      "100%|██████████| 78/78 [00:18<00:00,  4.33it/s]\n"
     ]
    },
    {
     "name": "stdout",
     "output_type": "stream",
     "text": [
      "bnn_classification validation accuracy: 0.9866786858974359\n"
     ]
    },
    {
     "name": "stderr",
     "output_type": "stream",
     "text": [
      "100%|██████████| 78/78 [00:01<00:00, 73.48it/s]\n"
     ]
    },
    {
     "name": "stdout",
     "output_type": "stream",
     "text": [
      "mlp_classification validation accuracy: 0.9833733974358975\n"
     ]
    },
    {
     "name": "stderr",
     "output_type": "stream",
     "text": [
      "100%|██████████| 78/78 [00:01<00:00, 71.39it/s]\n"
     ]
    },
    {
     "name": "stdout",
     "output_type": "stream",
     "text": [
      "mlp_dropout_classification validation accuracy: 0.9876802884615384\n",
      "BNN Test Error: 1.33%\n",
      "MLP Test Error: 1.66%\n",
      "MLP Dropout Test Error: 1.23%\n",
      "Epoch 575/600\n"
     ]
    },
    {
     "name": "stderr",
     "output_type": "stream",
     "text": [
      "100%|██████████| 468/468 [00:17<00:00, 26.34it/s]\n",
      "100%|██████████| 468/468 [00:07<00:00, 60.90it/s]\n",
      "100%|██████████| 468/468 [00:07<00:00, 60.59it/s]\n",
      "100%|██████████| 78/78 [00:18<00:00,  4.15it/s]\n"
     ]
    },
    {
     "name": "stdout",
     "output_type": "stream",
     "text": [
      "bnn_classification validation accuracy: 0.9867788461538461\n"
     ]
    },
    {
     "name": "stderr",
     "output_type": "stream",
     "text": [
      "100%|██████████| 78/78 [00:01<00:00, 68.62it/s]\n"
     ]
    },
    {
     "name": "stdout",
     "output_type": "stream",
     "text": [
      "mlp_classification validation accuracy: 0.9833733974358975\n"
     ]
    },
    {
     "name": "stderr",
     "output_type": "stream",
     "text": [
      "100%|██████████| 78/78 [00:01<00:00, 70.82it/s]\n"
     ]
    },
    {
     "name": "stdout",
     "output_type": "stream",
     "text": [
      "mlp_dropout_classification validation accuracy: 0.9876802884615384\n",
      "BNN Test Error: 1.32%\n",
      "MLP Test Error: 1.66%\n",
      "MLP Dropout Test Error: 1.23%\n",
      "Epoch 576/600\n"
     ]
    },
    {
     "name": "stderr",
     "output_type": "stream",
     "text": [
      "100%|██████████| 468/468 [00:18<00:00, 25.55it/s]\n",
      "100%|██████████| 468/468 [00:07<00:00, 64.18it/s]\n",
      "100%|██████████| 468/468 [00:07<00:00, 62.00it/s]\n",
      "100%|██████████| 78/78 [00:22<00:00,  3.52it/s]\n"
     ]
    },
    {
     "name": "stdout",
     "output_type": "stream",
     "text": [
      "bnn_classification validation accuracy: 0.9864783653846154\n"
     ]
    },
    {
     "name": "stderr",
     "output_type": "stream",
     "text": [
      "100%|██████████| 78/78 [00:01<00:00, 68.12it/s]\n"
     ]
    },
    {
     "name": "stdout",
     "output_type": "stream",
     "text": [
      "mlp_classification validation accuracy: 0.9833733974358975\n"
     ]
    },
    {
     "name": "stderr",
     "output_type": "stream",
     "text": [
      "100%|██████████| 78/78 [00:01<00:00, 62.77it/s]\n"
     ]
    },
    {
     "name": "stdout",
     "output_type": "stream",
     "text": [
      "mlp_dropout_classification validation accuracy: 0.9876802884615384\n",
      "BNN Test Error: 1.35%\n",
      "MLP Test Error: 1.66%\n",
      "MLP Dropout Test Error: 1.23%\n",
      "Epoch 577/600\n"
     ]
    },
    {
     "name": "stderr",
     "output_type": "stream",
     "text": [
      "100%|██████████| 468/468 [00:18<00:00, 25.33it/s]\n",
      "100%|██████████| 468/468 [00:07<00:00, 64.65it/s]\n",
      "100%|██████████| 468/468 [00:07<00:00, 61.08it/s]\n",
      "100%|██████████| 78/78 [00:17<00:00,  4.37it/s]\n"
     ]
    },
    {
     "name": "stdout",
     "output_type": "stream",
     "text": [
      "bnn_classification validation accuracy: 0.9864783653846154\n"
     ]
    },
    {
     "name": "stderr",
     "output_type": "stream",
     "text": [
      "100%|██████████| 78/78 [00:01<00:00, 71.82it/s]\n"
     ]
    },
    {
     "name": "stdout",
     "output_type": "stream",
     "text": [
      "mlp_classification validation accuracy: 0.9833733974358975\n"
     ]
    },
    {
     "name": "stderr",
     "output_type": "stream",
     "text": [
      "100%|██████████| 78/78 [00:01<00:00, 72.08it/s]\n"
     ]
    },
    {
     "name": "stdout",
     "output_type": "stream",
     "text": [
      "mlp_dropout_classification validation accuracy: 0.9876802884615384\n",
      "BNN Test Error: 1.35%\n",
      "MLP Test Error: 1.66%\n",
      "MLP Dropout Test Error: 1.23%\n",
      "Epoch 578/600\n"
     ]
    },
    {
     "name": "stderr",
     "output_type": "stream",
     "text": [
      "100%|██████████| 468/468 [00:19<00:00, 24.44it/s]\n",
      "100%|██████████| 468/468 [00:07<00:00, 66.38it/s]\n",
      "100%|██████████| 468/468 [00:07<00:00, 66.78it/s]\n",
      "100%|██████████| 78/78 [00:18<00:00,  4.33it/s]\n"
     ]
    },
    {
     "name": "stdout",
     "output_type": "stream",
     "text": [
      "bnn_classification validation accuracy: 0.9867788461538461\n"
     ]
    },
    {
     "name": "stderr",
     "output_type": "stream",
     "text": [
      "100%|██████████| 78/78 [00:01<00:00, 68.35it/s]\n"
     ]
    },
    {
     "name": "stdout",
     "output_type": "stream",
     "text": [
      "mlp_classification validation accuracy: 0.9833733974358975\n"
     ]
    },
    {
     "name": "stderr",
     "output_type": "stream",
     "text": [
      "100%|██████████| 78/78 [00:01<00:00, 68.09it/s]\n"
     ]
    },
    {
     "name": "stdout",
     "output_type": "stream",
     "text": [
      "mlp_dropout_classification validation accuracy: 0.9877804487179487\n",
      "BNN Test Error: 1.32%\n",
      "MLP Test Error: 1.66%\n",
      "MLP Dropout Test Error: 1.22%\n",
      "Epoch 579/600\n"
     ]
    },
    {
     "name": "stderr",
     "output_type": "stream",
     "text": [
      "100%|██████████| 468/468 [00:18<00:00, 25.74it/s]\n",
      "100%|██████████| 468/468 [00:07<00:00, 61.24it/s]\n",
      "100%|██████████| 468/468 [00:07<00:00, 62.54it/s]\n",
      "100%|██████████| 78/78 [00:18<00:00,  4.30it/s]\n"
     ]
    },
    {
     "name": "stdout",
     "output_type": "stream",
     "text": [
      "bnn_classification validation accuracy: 0.9865785256410257\n"
     ]
    },
    {
     "name": "stderr",
     "output_type": "stream",
     "text": [
      "100%|██████████| 78/78 [00:01<00:00, 67.23it/s]\n"
     ]
    },
    {
     "name": "stdout",
     "output_type": "stream",
     "text": [
      "mlp_classification validation accuracy: 0.9833733974358975\n"
     ]
    },
    {
     "name": "stderr",
     "output_type": "stream",
     "text": [
      "100%|██████████| 78/78 [00:01<00:00, 69.06it/s]\n"
     ]
    },
    {
     "name": "stdout",
     "output_type": "stream",
     "text": [
      "mlp_dropout_classification validation accuracy: 0.9875801282051282\n",
      "BNN Test Error: 1.34%\n",
      "MLP Test Error: 1.66%\n",
      "MLP Dropout Test Error: 1.24%\n",
      "Epoch 580/600\n"
     ]
    },
    {
     "name": "stderr",
     "output_type": "stream",
     "text": [
      "100%|██████████| 468/468 [00:17<00:00, 26.72it/s]\n",
      "100%|██████████| 468/468 [00:06<00:00, 68.13it/s]\n",
      "100%|██████████| 468/468 [00:07<00:00, 65.88it/s]\n",
      "100%|██████████| 78/78 [00:19<00:00,  4.09it/s]\n"
     ]
    },
    {
     "name": "stdout",
     "output_type": "stream",
     "text": [
      "bnn_classification validation accuracy: 0.9868790064102564\n"
     ]
    },
    {
     "name": "stderr",
     "output_type": "stream",
     "text": [
      "100%|██████████| 78/78 [00:01<00:00, 68.09it/s]\n"
     ]
    },
    {
     "name": "stdout",
     "output_type": "stream",
     "text": [
      "mlp_classification validation accuracy: 0.9833733974358975\n"
     ]
    },
    {
     "name": "stderr",
     "output_type": "stream",
     "text": [
      "100%|██████████| 78/78 [00:01<00:00, 67.88it/s]\n"
     ]
    },
    {
     "name": "stdout",
     "output_type": "stream",
     "text": [
      "mlp_dropout_classification validation accuracy: 0.9876802884615384\n",
      "BNN Test Error: 1.31%\n",
      "MLP Test Error: 1.66%\n",
      "MLP Dropout Test Error: 1.23%\n",
      "Epoch 581/600\n"
     ]
    },
    {
     "name": "stderr",
     "output_type": "stream",
     "text": [
      "100%|██████████| 468/468 [00:18<00:00, 25.62it/s]\n",
      "100%|██████████| 468/468 [00:07<00:00, 65.86it/s]\n",
      "100%|██████████| 468/468 [00:07<00:00, 65.49it/s]\n",
      "100%|██████████| 78/78 [00:18<00:00,  4.31it/s]\n"
     ]
    },
    {
     "name": "stdout",
     "output_type": "stream",
     "text": [
      "bnn_classification validation accuracy: 0.9868790064102564\n"
     ]
    },
    {
     "name": "stderr",
     "output_type": "stream",
     "text": [
      "100%|██████████| 78/78 [00:01<00:00, 68.62it/s]\n"
     ]
    },
    {
     "name": "stdout",
     "output_type": "stream",
     "text": [
      "mlp_classification validation accuracy: 0.9833733974358975\n"
     ]
    },
    {
     "name": "stderr",
     "output_type": "stream",
     "text": [
      "100%|██████████| 78/78 [00:01<00:00, 69.40it/s]\n"
     ]
    },
    {
     "name": "stdout",
     "output_type": "stream",
     "text": [
      "mlp_dropout_classification validation accuracy: 0.9875801282051282\n",
      "BNN Test Error: 1.31%\n",
      "MLP Test Error: 1.66%\n",
      "MLP Dropout Test Error: 1.24%\n",
      "Epoch 582/600\n"
     ]
    },
    {
     "name": "stderr",
     "output_type": "stream",
     "text": [
      "100%|██████████| 468/468 [00:19<00:00, 24.10it/s]\n",
      "100%|██████████| 468/468 [00:07<00:00, 65.31it/s]\n",
      "100%|██████████| 468/468 [00:07<00:00, 65.37it/s]\n",
      "100%|██████████| 78/78 [00:18<00:00,  4.25it/s]\n"
     ]
    },
    {
     "name": "stdout",
     "output_type": "stream",
     "text": [
      "bnn_classification validation accuracy: 0.9864783653846154\n"
     ]
    },
    {
     "name": "stderr",
     "output_type": "stream",
     "text": [
      "100%|██████████| 78/78 [00:01<00:00, 67.72it/s]\n"
     ]
    },
    {
     "name": "stdout",
     "output_type": "stream",
     "text": [
      "mlp_classification validation accuracy: 0.9833733974358975\n"
     ]
    },
    {
     "name": "stderr",
     "output_type": "stream",
     "text": [
      "100%|██████████| 78/78 [00:01<00:00, 67.98it/s]\n"
     ]
    },
    {
     "name": "stdout",
     "output_type": "stream",
     "text": [
      "mlp_dropout_classification validation accuracy: 0.9875801282051282\n",
      "BNN Test Error: 1.35%\n",
      "MLP Test Error: 1.66%\n",
      "MLP Dropout Test Error: 1.24%\n",
      "Epoch 583/600\n"
     ]
    },
    {
     "name": "stderr",
     "output_type": "stream",
     "text": [
      "100%|██████████| 468/468 [00:17<00:00, 26.39it/s]\n",
      "100%|██████████| 468/468 [00:07<00:00, 65.78it/s]\n",
      "100%|██████████| 468/468 [00:08<00:00, 58.48it/s]\n",
      "100%|██████████| 78/78 [00:17<00:00,  4.43it/s]\n"
     ]
    },
    {
     "name": "stdout",
     "output_type": "stream",
     "text": [
      "bnn_classification validation accuracy: 0.9867788461538461\n"
     ]
    },
    {
     "name": "stderr",
     "output_type": "stream",
     "text": [
      "100%|██████████| 78/78 [00:01<00:00, 71.48it/s]\n"
     ]
    },
    {
     "name": "stdout",
     "output_type": "stream",
     "text": [
      "mlp_classification validation accuracy: 0.9833733974358975\n"
     ]
    },
    {
     "name": "stderr",
     "output_type": "stream",
     "text": [
      "100%|██████████| 78/78 [00:01<00:00, 71.51it/s]\n"
     ]
    },
    {
     "name": "stdout",
     "output_type": "stream",
     "text": [
      "mlp_dropout_classification validation accuracy: 0.9876802884615384\n",
      "BNN Test Error: 1.32%\n",
      "MLP Test Error: 1.66%\n",
      "MLP Dropout Test Error: 1.23%\n",
      "Epoch 584/600\n"
     ]
    },
    {
     "name": "stderr",
     "output_type": "stream",
     "text": [
      "100%|██████████| 468/468 [00:17<00:00, 26.14it/s]\n",
      "100%|██████████| 468/468 [00:06<00:00, 67.04it/s]\n",
      "100%|██████████| 468/468 [00:07<00:00, 66.21it/s]\n",
      "100%|██████████| 78/78 [00:21<00:00,  3.57it/s]\n"
     ]
    },
    {
     "name": "stdout",
     "output_type": "stream",
     "text": [
      "bnn_classification validation accuracy: 0.9865785256410257\n"
     ]
    },
    {
     "name": "stderr",
     "output_type": "stream",
     "text": [
      "100%|██████████| 78/78 [00:01<00:00, 67.03it/s]\n"
     ]
    },
    {
     "name": "stdout",
     "output_type": "stream",
     "text": [
      "mlp_classification validation accuracy: 0.9833733974358975\n"
     ]
    },
    {
     "name": "stderr",
     "output_type": "stream",
     "text": [
      "100%|██████████| 78/78 [00:01<00:00, 69.67it/s]\n"
     ]
    },
    {
     "name": "stdout",
     "output_type": "stream",
     "text": [
      "mlp_dropout_classification validation accuracy: 0.9876802884615384\n",
      "BNN Test Error: 1.34%\n",
      "MLP Test Error: 1.66%\n",
      "MLP Dropout Test Error: 1.23%\n",
      "Epoch 585/600\n"
     ]
    },
    {
     "name": "stderr",
     "output_type": "stream",
     "text": [
      "100%|██████████| 468/468 [00:18<00:00, 24.98it/s]\n",
      "100%|██████████| 468/468 [00:07<00:00, 66.64it/s]\n",
      "100%|██████████| 468/468 [00:07<00:00, 66.84it/s]\n",
      "100%|██████████| 78/78 [00:18<00:00,  4.31it/s]\n"
     ]
    },
    {
     "name": "stdout",
     "output_type": "stream",
     "text": [
      "bnn_classification validation accuracy: 0.9864783653846154\n"
     ]
    },
    {
     "name": "stderr",
     "output_type": "stream",
     "text": [
      "100%|██████████| 78/78 [00:01<00:00, 70.66it/s]\n"
     ]
    },
    {
     "name": "stdout",
     "output_type": "stream",
     "text": [
      "mlp_classification validation accuracy: 0.9833733974358975\n"
     ]
    },
    {
     "name": "stderr",
     "output_type": "stream",
     "text": [
      "100%|██████████| 78/78 [00:01<00:00, 71.38it/s]\n"
     ]
    },
    {
     "name": "stdout",
     "output_type": "stream",
     "text": [
      "mlp_dropout_classification validation accuracy: 0.9876802884615384\n",
      "BNN Test Error: 1.35%\n",
      "MLP Test Error: 1.66%\n",
      "MLP Dropout Test Error: 1.23%\n",
      "Epoch 586/600\n"
     ]
    },
    {
     "name": "stderr",
     "output_type": "stream",
     "text": [
      "100%|██████████| 468/468 [00:18<00:00, 25.25it/s]\n",
      "100%|██████████| 468/468 [00:07<00:00, 66.05it/s]\n",
      "100%|██████████| 468/468 [00:07<00:00, 66.46it/s]\n",
      "100%|██████████| 78/78 [00:17<00:00,  4.35it/s]\n"
     ]
    },
    {
     "name": "stdout",
     "output_type": "stream",
     "text": [
      "bnn_classification validation accuracy: 0.9866786858974359\n"
     ]
    },
    {
     "name": "stderr",
     "output_type": "stream",
     "text": [
      "100%|██████████| 78/78 [00:01<00:00, 72.61it/s]\n"
     ]
    },
    {
     "name": "stdout",
     "output_type": "stream",
     "text": [
      "mlp_classification validation accuracy: 0.9833733974358975\n"
     ]
    },
    {
     "name": "stderr",
     "output_type": "stream",
     "text": [
      "100%|██████████| 78/78 [00:01<00:00, 71.45it/s]\n"
     ]
    },
    {
     "name": "stdout",
     "output_type": "stream",
     "text": [
      "mlp_dropout_classification validation accuracy: 0.9876802884615384\n",
      "BNN Test Error: 1.33%\n",
      "MLP Test Error: 1.66%\n",
      "MLP Dropout Test Error: 1.23%\n",
      "Epoch 587/600\n"
     ]
    },
    {
     "name": "stderr",
     "output_type": "stream",
     "text": [
      "100%|██████████| 468/468 [00:17<00:00, 26.06it/s]\n",
      "100%|██████████| 468/468 [00:07<00:00, 66.29it/s]\n",
      "100%|██████████| 468/468 [00:07<00:00, 62.89it/s]\n",
      "100%|██████████| 78/78 [00:18<00:00,  4.19it/s]\n"
     ]
    },
    {
     "name": "stdout",
     "output_type": "stream",
     "text": [
      "bnn_classification validation accuracy: 0.9865785256410257\n"
     ]
    },
    {
     "name": "stderr",
     "output_type": "stream",
     "text": [
      "100%|██████████| 78/78 [00:01<00:00, 68.04it/s]\n"
     ]
    },
    {
     "name": "stdout",
     "output_type": "stream",
     "text": [
      "mlp_classification validation accuracy: 0.9833733974358975\n"
     ]
    },
    {
     "name": "stderr",
     "output_type": "stream",
     "text": [
      "100%|██████████| 78/78 [00:01<00:00, 70.07it/s]\n"
     ]
    },
    {
     "name": "stdout",
     "output_type": "stream",
     "text": [
      "mlp_dropout_classification validation accuracy: 0.9876802884615384\n",
      "BNN Test Error: 1.34%\n",
      "MLP Test Error: 1.66%\n",
      "MLP Dropout Test Error: 1.23%\n",
      "Epoch 588/600\n"
     ]
    },
    {
     "name": "stderr",
     "output_type": "stream",
     "text": [
      "100%|██████████| 468/468 [00:17<00:00, 26.35it/s]\n",
      "100%|██████████| 468/468 [00:07<00:00, 66.01it/s]\n",
      "100%|██████████| 468/468 [00:07<00:00, 65.86it/s]\n",
      "100%|██████████| 78/78 [00:21<00:00,  3.70it/s]\n"
     ]
    },
    {
     "name": "stdout",
     "output_type": "stream",
     "text": [
      "bnn_classification validation accuracy: 0.9864783653846154\n"
     ]
    },
    {
     "name": "stderr",
     "output_type": "stream",
     "text": [
      "100%|██████████| 78/78 [00:01<00:00, 68.07it/s]\n"
     ]
    },
    {
     "name": "stdout",
     "output_type": "stream",
     "text": [
      "mlp_classification validation accuracy: 0.9833733974358975\n"
     ]
    },
    {
     "name": "stderr",
     "output_type": "stream",
     "text": [
      "100%|██████████| 78/78 [00:01<00:00, 65.62it/s]\n"
     ]
    },
    {
     "name": "stdout",
     "output_type": "stream",
     "text": [
      "mlp_dropout_classification validation accuracy: 0.9876802884615384\n",
      "BNN Test Error: 1.35%\n",
      "MLP Test Error: 1.66%\n",
      "MLP Dropout Test Error: 1.23%\n",
      "Epoch 589/600\n"
     ]
    },
    {
     "name": "stderr",
     "output_type": "stream",
     "text": [
      "100%|██████████| 468/468 [00:17<00:00, 26.47it/s]\n",
      "100%|██████████| 468/468 [00:07<00:00, 65.91it/s]\n",
      "100%|██████████| 468/468 [00:07<00:00, 66.24it/s]\n",
      "100%|██████████| 78/78 [00:17<00:00,  4.36it/s]\n"
     ]
    },
    {
     "name": "stdout",
     "output_type": "stream",
     "text": [
      "bnn_classification validation accuracy: 0.9864783653846154\n"
     ]
    },
    {
     "name": "stderr",
     "output_type": "stream",
     "text": [
      "100%|██████████| 78/78 [00:01<00:00, 71.33it/s]\n"
     ]
    },
    {
     "name": "stdout",
     "output_type": "stream",
     "text": [
      "mlp_classification validation accuracy: 0.9833733974358975\n"
     ]
    },
    {
     "name": "stderr",
     "output_type": "stream",
     "text": [
      "100%|██████████| 78/78 [00:01<00:00, 71.27it/s]\n"
     ]
    },
    {
     "name": "stdout",
     "output_type": "stream",
     "text": [
      "mlp_dropout_classification validation accuracy: 0.9876802884615384\n",
      "BNN Test Error: 1.35%\n",
      "MLP Test Error: 1.66%\n",
      "MLP Dropout Test Error: 1.23%\n",
      "Epoch 590/600\n"
     ]
    },
    {
     "name": "stderr",
     "output_type": "stream",
     "text": [
      "100%|██████████| 468/468 [00:19<00:00, 23.79it/s]\n",
      "100%|██████████| 468/468 [00:06<00:00, 67.88it/s]\n",
      "100%|██████████| 468/468 [00:07<00:00, 65.47it/s]\n",
      "100%|██████████| 78/78 [00:17<00:00,  4.38it/s]\n"
     ]
    },
    {
     "name": "stdout",
     "output_type": "stream",
     "text": [
      "bnn_classification validation accuracy: 0.9867788461538461\n"
     ]
    },
    {
     "name": "stderr",
     "output_type": "stream",
     "text": [
      "100%|██████████| 78/78 [00:01<00:00, 72.35it/s]\n"
     ]
    },
    {
     "name": "stdout",
     "output_type": "stream",
     "text": [
      "mlp_classification validation accuracy: 0.9833733974358975\n"
     ]
    },
    {
     "name": "stderr",
     "output_type": "stream",
     "text": [
      "100%|██████████| 78/78 [00:01<00:00, 73.29it/s]\n"
     ]
    },
    {
     "name": "stdout",
     "output_type": "stream",
     "text": [
      "mlp_dropout_classification validation accuracy: 0.9877804487179487\n",
      "BNN Test Error: 1.32%\n",
      "MLP Test Error: 1.66%\n",
      "MLP Dropout Test Error: 1.22%\n",
      "Epoch 591/600\n"
     ]
    },
    {
     "name": "stderr",
     "output_type": "stream",
     "text": [
      "100%|██████████| 468/468 [00:18<00:00, 25.97it/s]\n",
      "100%|██████████| 468/468 [00:06<00:00, 68.57it/s]\n",
      "100%|██████████| 468/468 [00:07<00:00, 65.15it/s]\n",
      "100%|██████████| 78/78 [00:19<00:00,  3.99it/s]\n"
     ]
    },
    {
     "name": "stdout",
     "output_type": "stream",
     "text": [
      "bnn_classification validation accuracy: 0.9864783653846154\n"
     ]
    },
    {
     "name": "stderr",
     "output_type": "stream",
     "text": [
      "100%|██████████| 78/78 [00:01<00:00, 71.93it/s]\n"
     ]
    },
    {
     "name": "stdout",
     "output_type": "stream",
     "text": [
      "mlp_classification validation accuracy: 0.9833733974358975\n"
     ]
    },
    {
     "name": "stderr",
     "output_type": "stream",
     "text": [
      "100%|██████████| 78/78 [00:01<00:00, 70.82it/s]\n"
     ]
    },
    {
     "name": "stdout",
     "output_type": "stream",
     "text": [
      "mlp_dropout_classification validation accuracy: 0.9875801282051282\n",
      "BNN Test Error: 1.35%\n",
      "MLP Test Error: 1.66%\n",
      "MLP Dropout Test Error: 1.24%\n",
      "Epoch 592/600\n"
     ]
    },
    {
     "name": "stderr",
     "output_type": "stream",
     "text": [
      "100%|██████████| 468/468 [00:17<00:00, 26.42it/s]\n",
      "100%|██████████| 468/468 [00:07<00:00, 64.81it/s]\n",
      "100%|██████████| 468/468 [00:06<00:00, 67.02it/s]\n",
      "100%|██████████| 78/78 [00:18<00:00,  4.18it/s]\n"
     ]
    },
    {
     "name": "stdout",
     "output_type": "stream",
     "text": [
      "bnn_classification validation accuracy: 0.9864783653846154\n"
     ]
    },
    {
     "name": "stderr",
     "output_type": "stream",
     "text": [
      "100%|██████████| 78/78 [00:01<00:00, 65.07it/s]\n"
     ]
    },
    {
     "name": "stdout",
     "output_type": "stream",
     "text": [
      "mlp_classification validation accuracy: 0.9833733974358975\n"
     ]
    },
    {
     "name": "stderr",
     "output_type": "stream",
     "text": [
      "100%|██████████| 78/78 [00:01<00:00, 59.55it/s]\n"
     ]
    },
    {
     "name": "stdout",
     "output_type": "stream",
     "text": [
      "mlp_dropout_classification validation accuracy: 0.9877804487179487\n",
      "BNN Test Error: 1.35%\n",
      "MLP Test Error: 1.66%\n",
      "MLP Dropout Test Error: 1.22%\n",
      "Epoch 593/600\n"
     ]
    },
    {
     "name": "stderr",
     "output_type": "stream",
     "text": [
      "100%|██████████| 468/468 [00:18<00:00, 25.02it/s]\n",
      "100%|██████████| 468/468 [00:07<00:00, 65.24it/s]\n",
      "100%|██████████| 468/468 [00:07<00:00, 62.68it/s]\n",
      "100%|██████████| 78/78 [00:18<00:00,  4.24it/s]\n"
     ]
    },
    {
     "name": "stdout",
     "output_type": "stream",
     "text": [
      "bnn_classification validation accuracy: 0.9865785256410257\n"
     ]
    },
    {
     "name": "stderr",
     "output_type": "stream",
     "text": [
      "100%|██████████| 78/78 [00:01<00:00, 67.23it/s]\n"
     ]
    },
    {
     "name": "stdout",
     "output_type": "stream",
     "text": [
      "mlp_classification validation accuracy: 0.9833733974358975\n"
     ]
    },
    {
     "name": "stderr",
     "output_type": "stream",
     "text": [
      "100%|██████████| 78/78 [00:01<00:00, 70.17it/s]\n"
     ]
    },
    {
     "name": "stdout",
     "output_type": "stream",
     "text": [
      "mlp_dropout_classification validation accuracy: 0.9875801282051282\n",
      "BNN Test Error: 1.34%\n",
      "MLP Test Error: 1.66%\n",
      "MLP Dropout Test Error: 1.24%\n",
      "Epoch 594/600\n"
     ]
    },
    {
     "name": "stderr",
     "output_type": "stream",
     "text": [
      "100%|██████████| 468/468 [00:20<00:00, 23.27it/s]\n",
      "100%|██████████| 468/468 [00:07<00:00, 65.59it/s]\n",
      "100%|██████████| 468/468 [00:07<00:00, 65.55it/s]\n",
      "100%|██████████| 78/78 [00:17<00:00,  4.37it/s]\n"
     ]
    },
    {
     "name": "stdout",
     "output_type": "stream",
     "text": [
      "bnn_classification validation accuracy: 0.9866786858974359\n"
     ]
    },
    {
     "name": "stderr",
     "output_type": "stream",
     "text": [
      "100%|██████████| 78/78 [00:01<00:00, 69.70it/s]\n"
     ]
    },
    {
     "name": "stdout",
     "output_type": "stream",
     "text": [
      "mlp_classification validation accuracy: 0.9833733974358975\n"
     ]
    },
    {
     "name": "stderr",
     "output_type": "stream",
     "text": [
      "100%|██████████| 78/78 [00:01<00:00, 70.62it/s]\n"
     ]
    },
    {
     "name": "stdout",
     "output_type": "stream",
     "text": [
      "mlp_dropout_classification validation accuracy: 0.9875801282051282\n",
      "BNN Test Error: 1.33%\n",
      "MLP Test Error: 1.66%\n",
      "MLP Dropout Test Error: 1.24%\n",
      "Epoch 595/600\n"
     ]
    },
    {
     "name": "stderr",
     "output_type": "stream",
     "text": [
      "100%|██████████| 468/468 [00:17<00:00, 26.15it/s]\n",
      "100%|██████████| 468/468 [00:07<00:00, 66.15it/s]\n",
      "100%|██████████| 468/468 [00:07<00:00, 65.36it/s]\n",
      "100%|██████████| 78/78 [00:19<00:00,  4.01it/s]\n"
     ]
    },
    {
     "name": "stdout",
     "output_type": "stream",
     "text": [
      "bnn_classification validation accuracy: 0.9863782051282052\n"
     ]
    },
    {
     "name": "stderr",
     "output_type": "stream",
     "text": [
      "100%|██████████| 78/78 [00:01<00:00, 68.96it/s]\n"
     ]
    },
    {
     "name": "stdout",
     "output_type": "stream",
     "text": [
      "mlp_classification validation accuracy: 0.9833733974358975\n"
     ]
    },
    {
     "name": "stderr",
     "output_type": "stream",
     "text": [
      "100%|██████████| 78/78 [00:01<00:00, 71.27it/s]\n"
     ]
    },
    {
     "name": "stdout",
     "output_type": "stream",
     "text": [
      "mlp_dropout_classification validation accuracy: 0.9875801282051282\n",
      "BNN Test Error: 1.36%\n",
      "MLP Test Error: 1.66%\n",
      "MLP Dropout Test Error: 1.24%\n",
      "Epoch 596/600\n"
     ]
    },
    {
     "name": "stderr",
     "output_type": "stream",
     "text": [
      "100%|██████████| 468/468 [00:17<00:00, 26.66it/s]\n",
      "100%|██████████| 468/468 [00:06<00:00, 67.25it/s]\n",
      "100%|██████████| 468/468 [00:07<00:00, 65.68it/s]\n",
      "100%|██████████| 78/78 [00:18<00:00,  4.28it/s]\n"
     ]
    },
    {
     "name": "stdout",
     "output_type": "stream",
     "text": [
      "bnn_classification validation accuracy: 0.9868790064102564\n"
     ]
    },
    {
     "name": "stderr",
     "output_type": "stream",
     "text": [
      "100%|██████████| 78/78 [00:01<00:00, 68.38it/s]\n"
     ]
    },
    {
     "name": "stdout",
     "output_type": "stream",
     "text": [
      "mlp_classification validation accuracy: 0.9833733974358975\n"
     ]
    },
    {
     "name": "stderr",
     "output_type": "stream",
     "text": [
      "100%|██████████| 78/78 [00:01<00:00, 67.59it/s]\n"
     ]
    },
    {
     "name": "stdout",
     "output_type": "stream",
     "text": [
      "mlp_dropout_classification validation accuracy: 0.9875801282051282\n",
      "BNN Test Error: 1.31%\n",
      "MLP Test Error: 1.66%\n",
      "MLP Dropout Test Error: 1.24%\n",
      "Epoch 597/600\n"
     ]
    },
    {
     "name": "stderr",
     "output_type": "stream",
     "text": [
      "100%|██████████| 468/468 [00:18<00:00, 25.17it/s]\n",
      "100%|██████████| 468/468 [00:07<00:00, 66.33it/s]\n",
      "100%|██████████| 468/468 [00:07<00:00, 65.73it/s]\n",
      "100%|██████████| 78/78 [00:18<00:00,  4.23it/s]\n"
     ]
    },
    {
     "name": "stdout",
     "output_type": "stream",
     "text": [
      "bnn_classification validation accuracy: 0.9867788461538461\n"
     ]
    },
    {
     "name": "stderr",
     "output_type": "stream",
     "text": [
      "100%|██████████| 78/78 [00:01<00:00, 71.51it/s]\n"
     ]
    },
    {
     "name": "stdout",
     "output_type": "stream",
     "text": [
      "mlp_classification validation accuracy: 0.9833733974358975\n"
     ]
    },
    {
     "name": "stderr",
     "output_type": "stream",
     "text": [
      "100%|██████████| 78/78 [00:01<00:00, 70.58it/s]\n"
     ]
    },
    {
     "name": "stdout",
     "output_type": "stream",
     "text": [
      "mlp_dropout_classification validation accuracy: 0.987479967948718\n",
      "BNN Test Error: 1.32%\n",
      "MLP Test Error: 1.66%\n",
      "MLP Dropout Test Error: 1.25%\n",
      "Epoch 598/600\n"
     ]
    },
    {
     "name": "stderr",
     "output_type": "stream",
     "text": [
      "100%|██████████| 468/468 [00:19<00:00, 24.16it/s]\n",
      "100%|██████████| 468/468 [00:07<00:00, 66.82it/s]\n",
      "100%|██████████| 468/468 [00:07<00:00, 66.81it/s]\n",
      "100%|██████████| 78/78 [00:18<00:00,  4.31it/s]\n"
     ]
    },
    {
     "name": "stdout",
     "output_type": "stream",
     "text": [
      "bnn_classification validation accuracy: 0.9866786858974359\n"
     ]
    },
    {
     "name": "stderr",
     "output_type": "stream",
     "text": [
      "100%|██████████| 78/78 [00:01<00:00, 71.97it/s]\n"
     ]
    },
    {
     "name": "stdout",
     "output_type": "stream",
     "text": [
      "mlp_classification validation accuracy: 0.9833733974358975\n"
     ]
    },
    {
     "name": "stderr",
     "output_type": "stream",
     "text": [
      "100%|██████████| 78/78 [00:01<00:00, 70.51it/s]\n"
     ]
    },
    {
     "name": "stdout",
     "output_type": "stream",
     "text": [
      "mlp_dropout_classification validation accuracy: 0.987479967948718\n",
      "BNN Test Error: 1.33%\n",
      "MLP Test Error: 1.66%\n",
      "MLP Dropout Test Error: 1.25%\n",
      "Epoch 599/600\n"
     ]
    },
    {
     "name": "stderr",
     "output_type": "stream",
     "text": [
      "100%|██████████| 468/468 [00:17<00:00, 26.83it/s]\n",
      "100%|██████████| 468/468 [00:06<00:00, 68.38it/s]\n",
      "100%|██████████| 468/468 [00:07<00:00, 64.64it/s]\n",
      "100%|██████████| 78/78 [00:17<00:00,  4.39it/s]\n"
     ]
    },
    {
     "name": "stdout",
     "output_type": "stream",
     "text": [
      "bnn_classification validation accuracy: 0.9865785256410257\n"
     ]
    },
    {
     "name": "stderr",
     "output_type": "stream",
     "text": [
      "100%|██████████| 78/78 [00:01<00:00, 68.70it/s]\n"
     ]
    },
    {
     "name": "stdout",
     "output_type": "stream",
     "text": [
      "mlp_classification validation accuracy: 0.9833733974358975\n"
     ]
    },
    {
     "name": "stderr",
     "output_type": "stream",
     "text": [
      "100%|██████████| 78/78 [00:01<00:00, 71.11it/s]\n"
     ]
    },
    {
     "name": "stdout",
     "output_type": "stream",
     "text": [
      "mlp_dropout_classification validation accuracy: 0.987479967948718\n",
      "BNN Test Error: 1.34%\n",
      "MLP Test Error: 1.66%\n",
      "MLP Dropout Test Error: 1.25%\n",
      "Epoch 600/600\n"
     ]
    },
    {
     "name": "stderr",
     "output_type": "stream",
     "text": [
      "100%|██████████| 468/468 [00:17<00:00, 26.08it/s]\n",
      "100%|██████████| 468/468 [00:06<00:00, 66.89it/s]\n",
      "100%|██████████| 468/468 [00:07<00:00, 65.40it/s]\n",
      "100%|██████████| 78/78 [00:18<00:00,  4.16it/s]\n"
     ]
    },
    {
     "name": "stdout",
     "output_type": "stream",
     "text": [
      "bnn_classification validation accuracy: 0.9865785256410257\n"
     ]
    },
    {
     "name": "stderr",
     "output_type": "stream",
     "text": [
      "100%|██████████| 78/78 [00:01<00:00, 69.35it/s]\n"
     ]
    },
    {
     "name": "stdout",
     "output_type": "stream",
     "text": [
      "mlp_classification validation accuracy: 0.9833733974358975\n"
     ]
    },
    {
     "name": "stderr",
     "output_type": "stream",
     "text": [
      "100%|██████████| 78/78 [00:01<00:00, 69.09it/s]\n"
     ]
    },
    {
     "name": "stdout",
     "output_type": "stream",
     "text": [
      "mlp_dropout_classification validation accuracy: 0.9873798076923077\n",
      "BNN Test Error: 1.34%\n",
      "MLP Test Error: 1.66%\n",
      "MLP Dropout Test Error: 1.26%\n"
     ]
    },
    {
     "data": {
      "image/png": "[encoded data removed]",
      "text/plain": [
       "<Figure size 800x600 with 1 Axes>"
      ]
     },
     "metadata": {},
     "output_type": "display_data"
    }
   ],
   "source": [
    "import torch\n",
    "from torchvision import datasets, transforms\n",
    "from torch.utils.data import SubsetRandomSampler\n",
    "import matplotlib.pyplot as plt\n",
    "\n",
    "def class_trainer():\n",
    "    config = ClassConfig\n",
    "    \n",
    "    transform = transforms.Compose([\n",
    "        transforms.ToTensor(),\n",
    "        transforms.Lambda(lambda x: x * 255 / 126.),\n",
    "    ])\n",
    "\n",
    "    train_data = datasets.MNIST(root='data', train=True, download=True, transform=transform)\n",
    "    test_data = datasets.MNIST(root='data', train=False, download=True, transform=transform)\n",
    "\n",
    "    # valid_size = 1 / 6\n",
    "    # num_train = len(train_data)\n",
    "    # indices = list(range(num_train))\n",
    "    # split = int(valid_size * num_train)\n",
    "    # train_idx, valid_idx = indices[split:], indices[:split]\n",
    "\n",
    "    # train_sampler = SubsetRandomSampler(train_idx)\n",
    "    # valid_sampler = SubsetRandomSampler(valid_idx)\n",
    "\n",
    "    train_loader = torch.utils.data.DataLoader(train_data, batch_size=config.batch_size, shuffle=True, drop_last=True)\n",
    "    test_loader = torch.utils.data.DataLoader(test_data, batch_size=config.batch_size, shuffle=False, drop_last=True)\n",
    "\n",
    "    params = {\n",
    "        'lr': config.lr,\n",
    "        'hidden_units': config.hidden_units,\n",
    "        'experiment': config.experiment,\n",
    "        'dropout': config.dropout,\n",
    "        'batch_size': config.batch_size,\n",
    "        'epochs': config.epochs,\n",
    "        'x_shape': config.x_shape,\n",
    "        'classes': config.classes,\n",
    "        'num_batches': len(train_loader),\n",
    "        'train_samples': config.train_samples,\n",
    "        'test_samples': config.test_samples,\n",
    "        'mu_init': config.mu_init,\n",
    "        'rho_init': config.rho_init,\n",
    "        'prior_init': config.prior_init,\n",
    "    }\n",
    "\n",
    "    # Instantiate both models\n",
    "    bnn_model = BNN_Classification('bnn_classification', {**params})\n",
    "    mlp_model = MLP_Classification('mlp_classification', {**params, 'dropout': False})\n",
    "    mlp_dropout_model = MLP_Classification('mlp_dropout_classification', {**params, 'dropout': True})\n",
    "\n",
    "    bnn_test_errors = []\n",
    "    mlp_test_errors = []\n",
    "    mlp_dropout_test_errors = []\n",
    "\n",
    "    epochs = config.epochs\n",
    "    for epoch in range(epochs):\n",
    "        print(f'Epoch {epoch+1}/{epochs}')\n",
    "\n",
    "        # Train both models\n",
    "        bnn_model.train_step(train_loader)\n",
    "        mlp_model.train_step(train_loader)\n",
    "        mlp_dropout_model.train_step(train_loader)\n",
    "\n",
    "        # Evaluate on test set\n",
    "        bnn_test_acc = bnn_model.evaluate(test_loader)\n",
    "        mlp_test_acc = mlp_model.evaluate(test_loader)\n",
    "        mlp_dropout_test_acc = mlp_dropout_model.evaluate(test_loader)\n",
    "\n",
    "        bnn_test_error = 100 * (1 - bnn_test_acc)\n",
    "        mlp_test_error = 100 * (1 - mlp_test_acc)\n",
    "        mlp_dropout_test_error = 100 * (1 - mlp_dropout_test_acc)\n",
    "\n",
    "        bnn_test_errors.append(bnn_test_error)\n",
    "        mlp_test_errors.append(mlp_test_error)\n",
    "        mlp_dropout_test_errors.append(mlp_dropout_test_error)\n",
    "\n",
    "        print(f'BNN Test Error: {bnn_test_error:.2f}%')\n",
    "        print(f'MLP Test Error: {mlp_test_error:.2f}%')\n",
    "        print(f'MLP Dropout Test Error: {mlp_dropout_test_error:.2f}%')\n",
    "\n",
    "        # Learning rate scheduler step if defined\n",
    "        bnn_model.scheduler.step()\n",
    "        mlp_model.scheduler.step()\n",
    "        mlp_dropout_model.scheduler.step()\n",
    "\n",
    "    # Plotting\n",
    "    plt.figure(figsize=(8, 6))\n",
    "    plt.plot(bnn_test_errors, label='BNN Test Error')\n",
    "    plt.plot(mlp_test_errors, label='MLP Test Error')\n",
    "    plt.plot(mlp_dropout_test_errors, label='MLP Dropout Test Error')\n",
    "    plt.xlabel('Epoch')\n",
    "    plt.ylabel('Test Error (%)')\n",
    "    plt.title('BNN vs MLP Test Error on MNIST')\n",
    "    plt.legend()\n",
    "    plt.grid(True)\n",
    "    \n",
    "    # Set x-axis ticks every 100 epochs\n",
    "    epochs = len(bnn_test_errors)\n",
    "    plt.xticks(ticks=range(0, epochs, 100))\n",
    "    \n",
    "    plt.tight_layout()\n",
    "    plt.show()\n",
    "\n",
    "\n",
    "class_trainer()\n",
    "\n",
    "\n",
    "\n"
   ]
  },
  {
   "cell_type": "code",
   "execution_count": 11,
   "id": "2fcc4fce",
   "metadata": {
    "execution": {
     "iopub.execute_input": "2025-06-09T16:22:10.598033Z",
     "iopub.status.busy": "2025-06-09T16:22:10.597461Z",
     "iopub.status.idle": "2025-06-09T16:22:10.602628Z",
     "shell.execute_reply": "2025-06-09T16:22:10.601906Z"
    },
    "papermill": {
     "duration": 10.548309,
     "end_time": "2025-06-09T16:22:10.603810",
     "exception": false,
     "start_time": "2025-06-09T16:22:00.055501",
     "status": "completed"
    },
    "tags": []
   },
   "outputs": [],
   "source": [
    "# search_config = {\n",
    "#     'batch_size': [128],\n",
    "#     'lr': [1e-3, 1e-4],\n",
    "#     'epochs': [10],\n",
    "#     'hidden_units': [1200],\n",
    "#     'experiment': ['classification'],\n",
    "#     'dropout': [False],\n",
    "#     'train_samples': [1, 2, 5],\n",
    "#     'test_samples': [10],\n",
    "#     'x_shape': [28 * 28],\n",
    "#     'classes': [10],\n",
    "#     'mu_init': [[-0.2, 0.2]],\n",
    "#     'rho_init': [[-5, -4]],\n",
    "#     'prior_init': [\n",
    "#         [0.25, -0, -6],\n",
    "#         [0.25, -0, -7], \n",
    "#         [0.25, -1, -6], \n",
    "#         [0.25, -1, -7], \n",
    "#         [0.75, -0, -6],\n",
    "#         [0.75, -0, -7], \n",
    "#         [0.75, -1, -6], \n",
    "#         [0.75, -1, -7],       \n",
    "#     ]\n",
    "# }\n",
    "\n",
    "# # search_config = {\n",
    "# #     'batch_size': [128],\n",
    "# #     'lr': [1e-3, 1e-4],\n",
    "# #     'epochs': [1], #10\n",
    "# #     'hidden_units': [1200],\n",
    "# #     'experiment': ['classification'],\n",
    "# #     'dropout': [False],\n",
    "# #     'train_samples': [1],\n",
    "# #     'test_samples': [10],\n",
    "# #     'x_shape': [28 * 28],\n",
    "# #     'classes': [10],\n",
    "# #     'mu_init': [[-0.2, 0.2]],\n",
    "# #     'rho_init': [[-5, -4]],\n",
    "# #     'prior_init': [\n",
    "# #         [0.25, -0, -6],        \n",
    "# #     ]\n",
    "# # }\n",
    "\n",
    "\n",
    "# import itertools\n",
    "# from copy import deepcopy\n",
    "\n",
    "# def generate_param_combinations(param_grid):\n",
    "#     keys = list(param_grid.keys())\n",
    "#     values = list(param_grid.values())\n",
    "#     for combo in itertools.product(*values):\n",
    "#         yield dict(zip(keys, combo))\n",
    "\n",
    "\n",
    "# def class_trainer(config):\n",
    "    \n",
    "#     transform = transforms.Compose([\n",
    "#             transforms.ToTensor(),\n",
    "#             transforms.Lambda(lambda x: x * 255 / 126.),  # divide as in paper, * 255 gives better results\n",
    "#         ])\n",
    "\n",
    "#     train_data = datasets.MNIST(\n",
    "#             root='data',\n",
    "#             train=True,\n",
    "#             download=True,\n",
    "#             transform=transform)\n",
    "#     # test_data = datasets.MNIST(\n",
    "#     #         root='data',\n",
    "#     #         train=False,\n",
    "#     #         download=True,\n",
    "#     #         transform=transform)\n",
    "\n",
    "#     valid_size = 1 / 6\n",
    "\n",
    "#     num_train = len(train_data)\n",
    "#     indices = list(range(num_train))\n",
    "#     split = int(valid_size * num_train)\n",
    "#     train_idx, valid_idx = indices[split:], indices[:split]\n",
    "\n",
    "#     train_sampler = SubsetRandomSampler(train_idx)\n",
    "#     valid_sampler = SubsetRandomSampler(valid_idx)\n",
    "\n",
    "\n",
    "#     train_loader = torch.utils.data.DataLoader(\n",
    "#             train_data,\n",
    "#             batch_size=config['batch_size'],\n",
    "#             sampler=train_sampler,\n",
    "#             drop_last=True)\n",
    "#     valid_loader = torch.utils.data.DataLoader(\n",
    "#             train_data,\n",
    "#             batch_size=config['batch_size'],\n",
    "#             sampler=valid_sampler,\n",
    "#             drop_last=True)\n",
    "#     # test_loader = torch.utils.data.DataLoader(\n",
    "#     #         test_data,\n",
    "#     #         batch_size=config.batch_size,\n",
    "#     #         shuffle=False,\n",
    "#     #         drop_last=True)\n",
    "\n",
    "#     params = deepcopy(config)\n",
    "#     params['num_batches'] = len(train_loader)\n",
    "\n",
    "#     model = BNN_Classification('bnn_classification', {**params})\n",
    "#     #model = MLP_Classification('mlp_classification', {**params})\n",
    "    \n",
    "#     epochs = config['epochs']\n",
    "#     for epoch in range(epochs):\n",
    "#             print(f'Epoch {epoch+1}/{epochs}')\n",
    "#             model.train_step(train_loader)\n",
    "#             valid_acc = model.evaluate(valid_loader)\n",
    "#             print('Valid Error', round(100 * (1 - valid_acc), 3), '%',)\n",
    "#             model.scheduler.step()\n",
    "#             if model.acc > model.best_acc:\n",
    "#                 model.best_acc = model.acc\n",
    "                \n",
    "\n",
    "#     return model.best_acc, model\n"
   ]
  },
  {
   "cell_type": "code",
   "execution_count": 12,
   "id": "c136c1e3",
   "metadata": {
    "execution": {
     "iopub.execute_input": "2025-06-09T16:22:31.623180Z",
     "iopub.status.busy": "2025-06-09T16:22:31.622493Z",
     "iopub.status.idle": "2025-06-09T16:22:31.626192Z",
     "shell.execute_reply": "2025-06-09T16:22:31.625490Z"
    },
    "papermill": {
     "duration": 10.520332,
     "end_time": "2025-06-09T16:22:31.627634",
     "exception": false,
     "start_time": "2025-06-09T16:22:21.107302",
     "status": "completed"
    },
    "tags": []
   },
   "outputs": [],
   "source": [
    "# best_val_acc = 0.0\n",
    "# best_config = None\n",
    "# best_model = None\n",
    "\n",
    "# for config in generate_param_combinations(search_config):\n",
    "#     print(f\"Trying config: {config}\")\n",
    "#     val_acc, model = class_trainer(config)\n",
    "\n",
    "#     if val_acc > best_val_acc:\n",
    "#         best_val_acc = val_acc\n",
    "#         best_config = deepcopy(config)\n",
    "#         best_model = model\n",
    "\n",
    "# print(\"Best Config:\")\n",
    "# print(best_config)\n",
    "# print(f\"Best Validation Accuracy: {best_val_acc:.4f}\")"
   ]
  },
  {
   "cell_type": "code",
   "execution_count": 13,
   "id": "7d2c17fd",
   "metadata": {
    "execution": {
     "iopub.execute_input": "2025-06-09T16:22:52.790538Z",
     "iopub.status.busy": "2025-06-09T16:22:52.790227Z",
     "iopub.status.idle": "2025-06-09T16:22:52.794650Z",
     "shell.execute_reply": "2025-06-09T16:22:52.794113Z"
    },
    "papermill": {
     "duration": 10.610135,
     "end_time": "2025-06-09T16:22:52.795639",
     "exception": false,
     "start_time": "2025-06-09T16:22:42.185504",
     "status": "completed"
    },
    "tags": []
   },
   "outputs": [],
   "source": [
    "# from tqdm import tqdm\n",
    "# import numpy as np\n",
    "# import torch\n",
    "# from torch.utils.data import SubsetRandomSampler\n",
    "# from torchvision import datasets, transforms\n",
    "# from itertools import product\n",
    "\n",
    "# def class_trainer(config):\n",
    "\n",
    "#     transform = transforms.Compose([\n",
    "#         transforms.ToTensor(),\n",
    "#         transforms.Lambda(lambda x: x * 255. / 126.),\n",
    "#     ])\n",
    "\n",
    "#     train_data = datasets.MNIST(\n",
    "#         root='data',\n",
    "#         train=True,\n",
    "#         download=True,\n",
    "#         transform=transform)\n",
    "#     test_data = datasets.MNIST(\n",
    "#         root='data',\n",
    "#         train=False,\n",
    "#         download=True,\n",
    "#         transform=transform)\n",
    "\n",
    "#     valid_size = 1 / 6\n",
    "#     num_train = len(train_data)\n",
    "#     indices = list(range(num_train))\n",
    "#     split = int(valid_size * num_train)\n",
    "#     train_idx, valid_idx = indices[split:], indices[:split]\n",
    "\n",
    "#     train_sampler = SubsetRandomSampler(train_idx)\n",
    "#     valid_sampler = SubsetRandomSampler(valid_idx)\n",
    "\n",
    "#     train_loader = torch.utils.data.DataLoader(\n",
    "#         train_data,\n",
    "#         batch_size=config['batch_size'],\n",
    "#         sampler=train_sampler,\n",
    "#         drop_last=True)\n",
    "#     valid_loader = torch.utils.data.DataLoader(\n",
    "#         train_data,\n",
    "#         batch_size=config['batch_size'],\n",
    "#         sampler=valid_sampler,\n",
    "#         drop_last=True)\n",
    "#     test_loader = torch.utils.data.DataLoader(\n",
    "#         test_data,\n",
    "#         batch_size=config['batch_size'],\n",
    "#         shuffle=False,\n",
    "#         drop_last=True)\n",
    "\n",
    "#     params = {\n",
    "#         'lr': config['lr'],\n",
    "#         'hidden_units': config['hidden_units'],\n",
    "#         'experiment': config['experiment'],\n",
    "#         'batch_size': config['batch_size'],\n",
    "#         'epochs': config['epochs'],\n",
    "#         'x_shape': config['x_shape'],\n",
    "#         'classes': config['classes'],\n",
    "#         'num_batches': len(train_loader),\n",
    "#         'train_samples': config['train_samples'],\n",
    "#         'test_samples': config['test_samples'],\n",
    "#         'mu_init': config['mu_init'],\n",
    "#         'rho_init': config['rho_init'],\n",
    "#         'prior_init': config['prior_init'],\n",
    "#     }\n",
    "\n",
    "#     model = BNN_Classification('bnn_classification', {**params, 'dropout': False})\n",
    "\n",
    "#     best_val_acc = 0\n",
    "#     for epoch in range(config['epochs']):\n",
    "#         print(f'Epoch {epoch + 1}/{config[\"epochs\"]}')\n",
    "#         model.train_step(train_loader)\n",
    "#         valid_acc = model.evaluate(valid_loader)\n",
    "#         print('Valid Error', round(100 * (1 - valid_acc), 3), '%')\n",
    "#         model.scheduler.step()\n",
    "#         if model.acc > model.best_acc:\n",
    "#             model.best_acc = model.acc\n",
    "#             best_val_acc = valid_acc\n",
    "#             # torch.save(model.net.state_dict(), \"best_model.pt\")\n",
    "\n",
    "#     return best_val_acc\n"
   ]
  },
  {
   "cell_type": "code",
   "execution_count": 14,
   "id": "f4793444",
   "metadata": {
    "execution": {
     "iopub.execute_input": "2025-06-09T16:23:13.677350Z",
     "iopub.status.busy": "2025-06-09T16:23:13.677058Z",
     "iopub.status.idle": "2025-06-09T16:23:13.680907Z",
     "shell.execute_reply": "2025-06-09T16:23:13.680353Z"
    },
    "papermill": {
     "duration": 10.402429,
     "end_time": "2025-06-09T16:23:13.681896",
     "exception": false,
     "start_time": "2025-06-09T16:23:03.279467",
     "status": "completed"
    },
    "tags": []
   },
   "outputs": [],
   "source": [
    "# def run_grid_search():\n",
    "#     # Define the grid\n",
    "#     param_grid = {\n",
    "#         'lr': [1e-3, 1e-4],\n",
    "#         'batch_size': [64, 128],\n",
    "#         'hidden_units': [128, 256],\n",
    "#     }\n",
    "\n",
    "#     # Fixed config options\n",
    "#     base_config = {\n",
    "#         'experiment': 'grid_search',\n",
    "#         'epochs': 5,\n",
    "#         'x_shape': (1, 28, 28),\n",
    "#         'classes': 10,\n",
    "#         'train_samples': 60000,\n",
    "#         'test_samples': 10000,\n",
    "#         'mu_init': 0,\n",
    "#         'rho_init': -3,\n",
    "#         'prior_init': 0,\n",
    "#     }\n",
    "\n",
    "#     best_acc = 0\n",
    "#     best_params = None\n",
    "\n",
    "#     # Iterate over all combinations\n",
    "#     for lr, batch_size, hidden_units in product(param_grid['lr'], param_grid['batch_size'], param_grid['hidden_units']):\n",
    "#         config = {\n",
    "#             **base_config,\n",
    "#             'lr': lr,\n",
    "#             'batch_size': batch_size,\n",
    "#             'hidden_units': hidden_units\n",
    "#         }\n",
    "\n",
    "#         print(f\"\\nRunning with config: {config}\")\n",
    "#         acc = class_trainer(config)\n",
    "\n",
    "#         if acc > best_acc:\n",
    "#             best_acc = acc\n",
    "#             best_params = config\n",
    "\n",
    "#     print(f\"Best Validation Accuracy: {best_acc:.4f}\")\n",
    "#     print(f\"Best Config: {best_params}\")\n",
    "\n",
    "# run_grid_search()"
   ]
  },
  {
   "cell_type": "code",
   "execution_count": 15,
   "id": "3b56dadd",
   "metadata": {
    "execution": {
     "iopub.execute_input": "2025-06-09T16:23:34.693996Z",
     "iopub.status.busy": "2025-06-09T16:23:34.693244Z",
     "iopub.status.idle": "2025-06-09T16:23:34.702644Z",
     "shell.execute_reply": "2025-06-09T16:23:34.702031Z"
    },
    "papermill": {
     "duration": 10.390351,
     "end_time": "2025-06-09T16:23:34.703895",
     "exception": false,
     "start_time": "2025-06-09T16:23:24.313544",
     "status": "completed"
    },
    "tags": []
   },
   "outputs": [],
   "source": [
    "class BNN_Regression():\n",
    "    def __init__(self, label, parameters):\n",
    "        super().__init__()\n",
    "        self.label = label\n",
    "        self.batch_size = parameters['batch_size']\n",
    "        self.num_batches = parameters['num_batches']\n",
    "        self.n_samples = parameters['train_samples']\n",
    "        self.test_samples = parameters['test_samples']\n",
    "        self.x_shape = parameters['x_shape']\n",
    "        self.y_shape = parameters['y_shape']\n",
    "        self.noise_tol = parameters['noise_tolerance']\n",
    "        self.lr = parameters['lr']\n",
    "        self.best_loss = np.inf\n",
    "        self.init_net(parameters)\n",
    "    \n",
    "    def init_net(self, parameters):\n",
    "        model_params = {\n",
    "            'input_shape': self.x_shape,\n",
    "            'classes': self.y_shape,\n",
    "            'batch_size': self.batch_size,\n",
    "            'hidden_units': parameters['hidden_units'],\n",
    "            'experiment': parameters['experiment'],\n",
    "            'mu_init': parameters['mu_init'],\n",
    "            'rho_init': parameters['rho_init'],\n",
    "            'prior_init': parameters['prior_init']\n",
    "        }\n",
    "        self.net = BayesianNetwork(model_params).to(device)\n",
    "        self.optimiser = torch.optim.Adam(self.net.parameters(), lr=self.lr)\n",
    "        self.scheduler = torch.optim.lr_scheduler.StepLR(self.optimiser, step_size=500, gamma=0.5)\n",
    "        # print(f'Regression Task {self.label} Parameters: ')\n",
    "        # print(f'number of samples: {self.n_samples}, noise tolerance: {self.noise_tol}')\n",
    "        print(\"BNN Parameters: \")\n",
    "        print(f'batch size: {self.batch_size}, x shape: {model_params[\"input_shape\"]}, hidden units: {model_params[\"hidden_units\"]}, output shape: {model_params[\"classes\"]}, mu_init: {parameters[\"mu_init\"]}, rho_init: {parameters[\"rho_init\"]}, prior_init: {parameters[\"prior_init\"]}, lr: {self.lr}')\n",
    "\n",
    "    def train_step(self, train_data):\n",
    "        self.net.train()\n",
    "        for idx, (x, y) in enumerate(train_data):\n",
    "            beta = 2 ** (self.num_batches - (idx + 1)) / (2 ** self.num_batches - 1) \n",
    "            x, y = x.to(device), y.to(device)\n",
    "            self.net.zero_grad()\n",
    "            self.loss_info = self.net.sample_elbo(x, y, beta, self.n_samples, sigma=self.noise_tol)\n",
    "            net_loss = self.loss_info[0]\n",
    "            net_loss.backward()\n",
    "            self.optimiser.step()\n",
    "        self.epoch_loss = net_loss.item()\n",
    "\n",
    "    def evaluate(self, x_test):\n",
    "        self.net.eval()\n",
    "        with torch.no_grad():\n",
    "            y_test = np.zeros((self.test_samples, x_test.shape[0]))\n",
    "            for s in range(self.test_samples):\n",
    "                tmp = self.net(x_test.to(device)).detach().cpu().numpy()\n",
    "                y_test[s,:] = tmp.reshape(-1)\n",
    "            return y_test"
   ]
  },
  {
   "cell_type": "code",
   "execution_count": 16,
   "id": "123cfc14",
   "metadata": {
    "execution": {
     "iopub.execute_input": "2025-06-09T16:23:55.373365Z",
     "iopub.status.busy": "2025-06-09T16:23:55.372746Z",
     "iopub.status.idle": "2025-06-09T16:23:55.380556Z",
     "shell.execute_reply": "2025-06-09T16:23:55.379988Z"
    },
    "papermill": {
     "duration": 10.297354,
     "end_time": "2025-06-09T16:23:55.381712",
     "exception": false,
     "start_time": "2025-06-09T16:23:45.084358",
     "status": "completed"
    },
    "tags": []
   },
   "outputs": [],
   "source": [
    "class MLP_Regression():\n",
    "    def __init__(self, label, parameters):\n",
    "        super().__init__()\n",
    "        self.label = label\n",
    "        self.lr = parameters['lr']\n",
    "        self.hidden_units = parameters['hidden_units']\n",
    "        self.experiment = parameters['experiment']\n",
    "        self.batch_size = parameters['batch_size']\n",
    "        self.num_batches = parameters['num_batches']\n",
    "        self.x_shape = parameters['x_shape']\n",
    "        self.y_shape = parameters['y_shape']\n",
    "        self.best_loss = np.inf\n",
    "        self.init_net(parameters)\n",
    "    \n",
    "    def init_net(self, parameters):\n",
    "        model_params = {\n",
    "            'input_shape': self.x_shape,\n",
    "            'classes': self.y_shape,\n",
    "            'batch_size': self.batch_size,\n",
    "            'hidden_units': self.hidden_units,\n",
    "            'experiment': self.experiment\n",
    "        }\n",
    "        self.net = MLP(model_params).to(device)\n",
    "        self.optimiser = torch.optim.Adam(self.net.parameters(), lr=self.lr)\n",
    "        self.scheduler = torch.optim.lr_scheduler.StepLR(self.optimiser, step_size=5000, gamma=0.5)\n",
    "        print(\"MLP Parameters: \")\n",
    "        print(f'batch size: {self.batch_size}, input shape: {model_params[\"input_shape\"]}, hidden units: {model_params[\"hidden_units\"]}, output shape: {model_params[\"classes\"]}, lr: {self.lr}')\n",
    "\n",
    "    def train_step(self, train_data):\n",
    "        self.net.train()\n",
    "        for _, (x, y) in enumerate(train_data):\n",
    "            x, y = x.to(device), y.to(device)\n",
    "            self.net.zero_grad()\n",
    "            self.loss_info = torch.nn.functional.mse_loss(self.net(x), y, reduction='sum')\n",
    "            self.loss_info.backward()\n",
    "            self.optimiser.step()\n",
    "\n",
    "        self.epoch_loss = self.loss_info.item()\n",
    "\n",
    "    def evaluate(self, x_test):\n",
    "        self.net.eval()\n",
    "        with torch.no_grad():\n",
    "            y_test = self.net(x_test.to(device)).detach().cpu().numpy()\n",
    "            return y_test"
   ]
  },
  {
   "cell_type": "code",
   "execution_count": 17,
   "id": "d1c3f976",
   "metadata": {
    "execution": {
     "iopub.execute_input": "2025-06-09T16:24:15.790960Z",
     "iopub.status.busy": "2025-06-09T16:24:15.790718Z",
     "iopub.status.idle": "2025-06-09T16:24:15.794804Z",
     "shell.execute_reply": "2025-06-09T16:24:15.794097Z"
    },
    "papermill": {
     "duration": 10.207352,
     "end_time": "2025-06-09T16:24:15.795917",
     "exception": false,
     "start_time": "2025-06-09T16:24:05.588565",
     "status": "completed"
    },
    "tags": []
   },
   "outputs": [],
   "source": [
    "# def reg_trainer():\n",
    "#     config = RegConfig\n",
    "#     X, Y = create_data_reg(train_size=config.train_size)\n",
    "#     train_loader = PrepareData(X, Y)\n",
    "#     train_loader = DataLoader(train_loader, batch_size=config.batch_size, shuffle=True)\n",
    "\n",
    "#     params = {\n",
    "#         'lr': config.lr,\n",
    "#         'hidden_units': config.hidden_units,\n",
    "#         'experiment': config.experiment,\n",
    "#         'batch_size': config.batch_size,\n",
    "#         'num_batches': len(train_loader),\n",
    "#         'x_shape': X.shape[1],\n",
    "#         'y_shape': Y.shape[1],\n",
    "#         'train_samples': config.train_samples,\n",
    "#         'test_samples': config.test_samples,\n",
    "#         'noise_tolerance': config.noise_tolerance,\n",
    "#         'mu_init': config.mu_init,\n",
    "#         'rho_init': config.rho_init,\n",
    "#         'prior_init': config.prior_init,\n",
    "#     }\n",
    "\n",
    "#     model = BNN_Regression('bnn_regression', {**params})\n",
    "#     #model = MLP_Regression('mlp_regression', {**params})\n",
    "\n",
    "#     epochs = config.epochs\n",
    "#     print(f\"Initialising training on {device}...\")\n",
    "\n",
    "#     # training loop\n",
    "#     for epoch in tqdm(range(epochs)):\n",
    "    \n",
    "#         model.train_step(train_loader)\n",
    "#         model.scheduler.step()\n",
    "#         # save best model\n",
    "#         if model.epoch_loss < model.best_loss:\n",
    "#             model.best_loss = model.epoch_loss\n",
    "#             # torch.save(model.net.state_dict(), model.save_model_path)\n",
    "\n",
    "#     # evaluate\n",
    "#     print(\"Evaluating and generating plots...\")\n",
    "#     x_test = torch.linspace(-2., 2, config.num_test_points).reshape(-1, 1)\n",
    "    \n",
    "#     # model.net.load_state_dict(torch.load(model.save_model_path, map_location=torch.device(device)))\n",
    "#     y_test = model.evaluate(x_test)\n",
    "    \n",
    "#     #create_regression_plot(x_test.cpu().numpy(), y_test.reshape(1, -1), train_loader) #per mlp regression\n",
    "   \n",
    "#     create_regression_plot(x_test.cpu().numpy(), y_test, train_loader)\n",
    "\n",
    "\n",
    "# reg_trainer()"
   ]
  },
  {
   "cell_type": "code",
   "execution_count": 18,
   "id": "d1a52c55",
   "metadata": {
    "execution": {
     "iopub.execute_input": "2025-06-09T16:24:36.587780Z",
     "iopub.status.busy": "2025-06-09T16:24:36.587522Z",
     "iopub.status.idle": "2025-06-09T16:24:36.591343Z",
     "shell.execute_reply": "2025-06-09T16:24:36.590819Z"
    },
    "papermill": {
     "duration": 10.241616,
     "end_time": "2025-06-09T16:24:36.592498",
     "exception": false,
     "start_time": "2025-06-09T16:24:26.350882",
     "status": "completed"
    },
    "tags": []
   },
   "outputs": [],
   "source": [
    "# def reg_trainer():\n",
    "#     config = RegConfig\n",
    "#     X, Y = create_data_reg(train_size=config.train_size)\n",
    "#     train_loader = PrepareData(X, Y)\n",
    "#     train_loader = DataLoader(train_loader, batch_size=config.batch_size, shuffle=True)\n",
    "\n",
    "#     params = {\n",
    "#         'lr': config.lr,\n",
    "#         'hidden_units': config.hidden_units,\n",
    "#         'experiment': config.experiment,\n",
    "#         'batch_size': config.batch_size,\n",
    "#         'num_batches': len(train_loader),\n",
    "#         'x_shape': X.shape[1],\n",
    "#         'y_shape': Y.shape[1],\n",
    "#         'train_samples': config.train_samples,\n",
    "#         'test_samples': config.test_samples,\n",
    "#         'noise_tolerance': config.noise_tolerance,\n",
    "#         'mu_init': config.mu_init,\n",
    "#         'rho_init': config.rho_init,\n",
    "#         'prior_init': config.prior_init,\n",
    "#     }\n",
    "\n",
    "#     #model = BNN_Regression('bnn_regression', {**params})\n",
    "#     model = MLP_Regression('mlp_regression', {**params})\n",
    "\n",
    "#     epochs = config.epochs\n",
    "#     print(f\"Initialising training on {device}...\")\n",
    "\n",
    "#     # training loop\n",
    "#     for epoch in tqdm(range(epochs)):\n",
    "    \n",
    "#         model.train_step(train_loader)\n",
    "#         model.scheduler.step()\n",
    "#         # save best model\n",
    "#         if model.epoch_loss < model.best_loss:\n",
    "#             model.best_loss = model.epoch_loss\n",
    "#             # torch.save(model.net.state_dict(), model.save_model_path)\n",
    "\n",
    "#     # evaluate\n",
    "#     print(\"Evaluating and generating plots...\")\n",
    "#     x_test = torch.linspace(-2., 2, config.num_test_points).reshape(-1, 1)\n",
    "    \n",
    "#     # model.net.load_state_dict(torch.load(model.save_model_path, map_location=torch.device(device)))\n",
    "#     y_test = model.evaluate(x_test)\n",
    "    \n",
    "#     create_regression_plot(x_test.cpu().numpy(), y_test.reshape(1, -1), train_loader) #per mlp regression\n",
    "   \n",
    "#     #create_regression_plot(x_test.cpu().numpy(), y_test, train_loader)\n",
    "\n",
    "\n",
    "# reg_trainer()"
   ]
  },
  {
   "cell_type": "code",
   "execution_count": 19,
   "id": "c4a3516e",
   "metadata": {
    "execution": {
     "iopub.execute_input": "2025-06-09T16:24:56.982821Z",
     "iopub.status.busy": "2025-06-09T16:24:56.982100Z",
     "iopub.status.idle": "2025-06-09T16:24:57.002369Z",
     "shell.execute_reply": "2025-06-09T16:24:57.001673Z"
    },
    "papermill": {
     "duration": 10.182757,
     "end_time": "2025-06-09T16:24:57.003567",
     "exception": false,
     "start_time": "2025-06-09T16:24:46.820810",
     "status": "completed"
    },
    "tags": []
   },
   "outputs": [],
   "source": [
    "'''\n",
    "Defines base class for contextual bandits\n",
    "'''\n",
    "import torch\n",
    "import numpy as np\n",
    "\n",
    "\n",
    "\n",
    "class Bandit():\n",
    "    def __init__(self, label, bandit_params, x, y):\n",
    "        self.n_samples = bandit_params['n_samples']\n",
    "        self.buffer_size = bandit_params['buffer_size']\n",
    "        self.batch_size = bandit_params['batch_size']\n",
    "        self.num_batches = bandit_params['num_batches']\n",
    "        self.lr = bandit_params['lr']\n",
    "        self.epsilon = bandit_params['epsilon']\n",
    "        self.cumulative_regrets = [0]\n",
    "        self.buffer_x, self.buffer_y = [], []\n",
    "        self.x, self.y = x, y\n",
    "        self.label = label\n",
    "        self.init_net(bandit_params)\n",
    "        self.tp, self.tn, self.fp, self.fn = 0, 0, 0, 0\n",
    "\n",
    "    def get_agent_reward(self, eaten, edible):\n",
    "        if not eaten:\n",
    "            return 0\n",
    "        if eaten and edible:\n",
    "            return 5\n",
    "        elif eaten and not edible:\n",
    "            return 5 if np.random.rand() > 0.5 else -35\n",
    "\n",
    "    def get_oracle_reward(self, edible):\n",
    "        return 5*edible \n",
    "\n",
    "    def take_action(self, mushroom):\n",
    "        context, edible = self.x[mushroom], self.y[mushroom]\n",
    "        eat_tuple = torch.FloatTensor(np.concatenate((context, [1, 0]))).unsqueeze(0).to(device)\n",
    "        reject_tuple = torch.FloatTensor(np.concatenate((context, [0, 1]))).unsqueeze(0).to(device)\n",
    "\n",
    "        # evaluate reward for actions\n",
    "        with torch.no_grad():\n",
    "            self.net.eval()\n",
    "            reward_eat = sum([self.net(eat_tuple) for _ in range(self.n_samples)]).item()\n",
    "            reward_reject = sum([self.net(reject_tuple) for _ in range(self.n_samples)]).item()\n",
    "\n",
    "        eat = reward_eat > reward_reject\n",
    "        # epsilon-greedy agent\n",
    "        if np.random.rand() < self.epsilon:\n",
    "            eat = (np.random.rand() < 0.5)\n",
    "        agent_reward = self.get_agent_reward(eat, edible)\n",
    "\n",
    "        # record bandit action\n",
    "        if edible and eat:\n",
    "            self.tp += 1\n",
    "        elif edible and not eat:\n",
    "            self.fn += 1\n",
    "        elif not edible and eat:\n",
    "            self.fp += 1\n",
    "        else:\n",
    "            self.tn += 1\n",
    "\n",
    "        # record context, action, reward\n",
    "        action = torch.Tensor([1, 0] if eat else [0, 1])\n",
    "        self.buffer_x.append(np.concatenate((context, action)))\n",
    "        self.buffer_y.append(agent_reward)\n",
    "\n",
    "        # calculate regret\n",
    "        regret = self.get_oracle_reward(edible) - agent_reward\n",
    "        self.cumulative_regrets.append(self.cumulative_regrets[-1]+regret)\n",
    "\n",
    "    def update(self, mushroom):\n",
    "        self.take_action(mushroom)\n",
    "        l = len(self.buffer_x)\n",
    "\n",
    "        if l <= self.batch_size:\n",
    "            idx_pool = int(self.batch_size//l + 1)*list(range(l))\n",
    "            idx_pool = np.random.permutation(idx_pool[-self.batch_size:])\n",
    "        elif l > self.batch_size and l < self.buffer_size:\n",
    "            idx_pool = int(l//self.batch_size)*self.batch_size\n",
    "            idx_pool = np.random.permutation(list(range(l))[-idx_pool:])\n",
    "        else:\n",
    "            idx_pool = np.random.permutation(list(range(l))[-self.buffer_size:])\n",
    "\n",
    "        context_pool = torch.Tensor([self.buffer_x[i] for i in idx_pool]).to(device)\n",
    "        value_pool = torch.Tensor([self.buffer_y[i] for i in idx_pool]).to(device)\n",
    "        \n",
    "        for i in range(0, len(idx_pool), self.batch_size):\n",
    "            self.loss_info = self.loss_step(context_pool[i:i+self.batch_size], value_pool[i:i+self.batch_size], i//self.batch_size)\n"
   ]
  },
  {
   "cell_type": "code",
   "execution_count": 20,
   "id": "4fee5692",
   "metadata": {
    "execution": {
     "iopub.execute_input": "2025-06-09T16:25:17.681275Z",
     "iopub.status.busy": "2025-06-09T16:25:17.680990Z",
     "iopub.status.idle": "2025-06-09T16:25:17.690949Z",
     "shell.execute_reply": "2025-06-09T16:25:17.690431Z"
    },
    "papermill": {
     "duration": 10.196078,
     "end_time": "2025-06-09T16:25:17.692006",
     "exception": false,
     "start_time": "2025-06-09T16:25:07.495928",
     "status": "completed"
    },
    "tags": []
   },
   "outputs": [],
   "source": [
    "'''\n",
    "Two Contextual bandits \n",
    "1) BNN and Thompson Sampling -> BNN_Bandit\n",
    "2) MLP and epsilon-greedy poligy -> Greedy_Bandit\n",
    "Both derived from base_bandit.py class\n",
    "'''\n",
    "import torch\n",
    "import numpy as np\n",
    "\n",
    "class BNN_Bandit(Bandit):\n",
    "    def __init__(self, label, *args):\n",
    "        super().__init__(label, *args)\n",
    "\n",
    "    \n",
    "    def init_net(self, parameters):\n",
    "        model_params = {\n",
    "            'input_shape': self.x.shape[1]+2,\n",
    "            'classes': 1 if len(self.y.shape)==1 else self.y.shape[1],\n",
    "            'batch_size': self.batch_size,\n",
    "            'hidden_units': parameters['hidden_units'],\n",
    "            'experiment': parameters['experiment'],\n",
    "            'mu_init': parameters['mu_init'],\n",
    "            'rho_init': parameters['rho_init'],\n",
    "            'prior_init': parameters['prior_init']\n",
    "        }\n",
    "        self.net = BayesianNetwork(model_params).to(device)\n",
    "        self.optimiser = torch.optim.Adam(self.net.parameters(), lr=self.lr)\n",
    "        self.scheduler = torch.optim.lr_scheduler.StepLR(self.optimiser, step_size=5000, gamma=0.5)\n",
    "        print(f'Bandit {self.label} Parameters: ')\n",
    "        print(f'buffer_size: {self.buffer_size}, batch size: {self.batch_size}, number of samples: {self.n_samples}, epsilon: {self.epsilon}')\n",
    "        print(\"BNN Parameters: \")\n",
    "        print(f'input shape: {model_params[\"input_shape\"]}, hidden units: {model_params[\"hidden_units\"]}, output shape: {model_params[\"classes\"]}, lr: {self.lr}')\n",
    "\n",
    "    def loss_step(self, x, y, batch_id):\n",
    "        beta = 2 ** (self.num_batches - (batch_id + 1)) / (2 ** self.num_batches - 1) \n",
    "        self.net.train()\n",
    "        self.net.zero_grad()\n",
    "        loss_info = self.net.sample_elbo(x, y, beta, self.n_samples)\n",
    "        net_loss = loss_info[0]\n",
    "        net_loss.backward()\n",
    "        self.optimiser.step()\n",
    "        return loss_info\n",
    "\n",
    "\n",
    "class Greedy_Bandit(Bandit):\n",
    "    def __init__(self, label, *args):\n",
    "        super().__init__(label, *args)\n",
    "    \n",
    "    def init_net(self, parameters):\n",
    "        model_params = {\n",
    "            'input_shape': self.x.shape[1]+2,\n",
    "            'classes': 1 if len(self.y.shape)==1 else self.y.shape[1],\n",
    "            'batch_size': self.batch_size,\n",
    "            'hidden_units': parameters['hidden_units'],\n",
    "            'experiment': parameters['experiment']\n",
    "        }\n",
    "        self.net = MLP(model_params).to(device)\n",
    "        self.optimiser = torch.optim.Adam(self.net.parameters(), lr=self.lr)\n",
    "        self.scheduler = torch.optim.lr_scheduler.StepLR(self.optimiser, step_size=5000, gamma=0.5)\n",
    "        print(f'Bandit {self.label} Parameters: ')\n",
    "        print(f'buffer_size: {self.buffer_size}, batch size: {self.batch_size}, number of samples: {self.n_samples}, epsilon: {self.epsilon}')\n",
    "        print(\"MLP Parameters: \")\n",
    "        print(f'input shape: {model_params[\"input_shape\"]}, hidden units: {model_params[\"hidden_units\"]}, output shape: {model_params[\"classes\"]}, lr: {self.lr}')\n",
    "\n",
    "    def loss_step(self, x, y, batch_id):\n",
    "        self.net.train()\n",
    "        self.net.zero_grad()\n",
    "        net_loss = torch.nn.functional.mse_loss(self.net(x).squeeze(), y, reduction='sum')\n",
    "        net_loss.backward()\n",
    "        self.optimiser.step()\n",
    "        return net_loss"
   ]
  },
  {
   "cell_type": "code",
   "execution_count": 21,
   "id": "21eede38",
   "metadata": {
    "execution": {
     "iopub.execute_input": "2025-06-09T16:25:38.363475Z",
     "iopub.status.busy": "2025-06-09T16:25:38.362802Z",
     "iopub.status.idle": "2025-06-09T16:25:38.370091Z",
     "shell.execute_reply": "2025-06-09T16:25:38.369542Z"
    },
    "papermill": {
     "duration": 10.196238,
     "end_time": "2025-06-09T16:25:38.371204",
     "exception": false,
     "start_time": "2025-06-09T16:25:28.174966",
     "status": "completed"
    },
    "tags": []
   },
   "outputs": [],
   "source": [
    "import matplotlib.pyplot as plt\n",
    "\n",
    "def rl_trainer():\n",
    "    config = RLConfig\n",
    "    X, Y = read_data_rl(config.data_dir)\n",
    "\n",
    "    params = {\n",
    "        'buffer_size': config.buffer_size,\n",
    "        'batch_size': config.batch_size,\n",
    "        'num_batches': config.num_batches,\n",
    "        'lr': config.lr,\n",
    "        'hidden_units': config.hidden_units,\n",
    "        'experiment': config.experiment,\n",
    "        'mu_init': config.mu_init,\n",
    "        'rho_init': config.rho_init,\n",
    "        'prior_init': config.prior_init\n",
    "    }\n",
    "\n",
    "    bnn_bandit = BNN_Bandit('bnn_bandit', {**params, 'n_samples':2, 'epsilon':0}, X, Y)\n",
    "    greedy_bandit = Greedy_Bandit('greedy_bandit', {**params, 'n_samples':1, 'epsilon':0}, X, Y)\n",
    "    greedy_bandit_001 = Greedy_Bandit('greedy_bandit_001', {**params, 'n_samples':1, 'epsilon':0.01}, X, Y)\n",
    "    greedy_bandit_005 = Greedy_Bandit('greedy_bandit_005', {**params, 'n_samples':1, 'epsilon':0.05}, X, Y)\n",
    "    \n",
    "    \n",
    "    training_steps = config.training_steps\n",
    "    print(f\"Initialising training on {device}...\")\n",
    "    training_data_len = len(X)\n",
    "    for step in tqdm(range(training_steps)):\n",
    "        mushroom = np.random.randint(training_data_len)\n",
    "        bnn_bandit.update(mushroom)\n",
    "        greedy_bandit.update(mushroom)\n",
    "        greedy_bandit_001.update(mushroom)\n",
    "        greedy_bandit_005.update(mushroom)\n",
    "        \n",
    "        bnn_bandit.scheduler.step()\n",
    "        greedy_bandit.scheduler.step()\n",
    "        greedy_bandit_001.scheduler.step()\n",
    "        greedy_bandit_005.scheduler.step()\n",
    "\n",
    "    # Plot cumulative regret\n",
    "    plt.figure(figsize=(10, 6))\n",
    "    plt.plot(bnn_bandit.cumulative_regrets, label='BNN Cumulative Regret')\n",
    "    plt.plot(greedy_bandit.cumulative_regrets, label='Greedy Cumulative Regret')\n",
    "    plt.plot(greedy_bandit_001.cumulative_regrets, label='Greedy 0.01 Cumulative Regret')\n",
    "    plt.plot(greedy_bandit_005.cumulative_regrets, label='Greedy 0.05 Cumulative Regret')\n",
    "    plt.xlabel('Steps')\n",
    "    plt.ylabel('Cumulative Regret')\n",
    "    plt.title('BNN vs Greedy Cumulative Regret over Time')\n",
    "    plt.legend()\n",
    "    plt.grid(True)\n",
    "    plt.tight_layout()\n",
    "    plt.show()\n",
    "\n",
    "\n",
    "#rl_trainer()"
   ]
  }
 ],
 "metadata": {
  "kaggle": {
   "accelerator": "nvidiaTeslaT4",
   "dataSources": [
    {
     "datasetId": 7591461,
     "sourceId": 12061096,
     "sourceType": "datasetVersion"
    },
    {
     "datasetId": 7611852,
     "sourceId": 12091614,
     "sourceType": "datasetVersion"
    }
   ],
   "dockerImageVersionId": 31041,
   "isGpuEnabled": true,
   "isInternetEnabled": true,
   "language": "python",
   "sourceType": "notebook"
  },
  "kernelspec": {
   "display_name": "Python 3",
   "language": "python",
   "name": "python3"
  },
  "language_info": {
   "codemirror_mode": {
    "name": "ipython",
    "version": 3
   },
   "file_extension": ".py",
   "mimetype": "text/x-python",
   "name": "python",
   "nbconvert_exporter": "python",
   "pygments_lexer": "ipython3",
   "version": "3.11.11"
  },
  "papermill": {
   "default_parameters": {},
   "duration": 31627.924836,
   "end_time": "2025-06-09T16:25:51.447548",
   "environment_variables": {},
   "exception": null,
   "input_path": "__notebook__.ipynb",
   "output_path": "__notebook__.ipynb",
   "parameters": {},
   "start_time": "2025-06-09T07:38:43.522712",
   "version": "2.6.0"
  }
 },
 "nbformat": 4,
 "nbformat_minor": 5
}
